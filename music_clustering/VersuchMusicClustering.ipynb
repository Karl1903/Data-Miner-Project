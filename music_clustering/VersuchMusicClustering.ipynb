{
 "cells": [
  {
   "cell_type": "markdown",
   "metadata": {},
   "source": [
    "# Data Mining Versuch Music Clustering\n",
    "* Autor: Prof. Dr. Johannes Maucher\n",
    "* Datum: 16.10.2015\n",
    "\n",
    "[Übersicht Ipython Notebooks im Data Mining Praktikum](Data Mining Praktikum.ipynb)\n",
    "\n",
    "# Einführung\n",
    "## Lernziele:\n",
    "In diesem Versuch sollen Kenntnisse in folgenden Themen vermittelt werden:\n",
    "\n",
    "* Zugriff auf Musikdateien\n",
    "* Transcodierung von mp3 zu wav \n",
    "* Extraktion von Merkmalen in Musikdateien (Feature Extraction)\n",
    "* Optimierung mit dem genetischen Algorithmus\n",
    "* Selektion der aussagekräftigsten Merkmale (Feature Selection)\n",
    "* Clustering von Musikfiles (automatische Playlistgenerierung)\n",
    "\n",
    "\n",
    "## Vor dem Versuch zu klärende Fragen\n",
    "\n",
    "### Transcodierung von MP3 nach WAV und Merkmalsextraktion\n",
    "In diesem Versuch wird der MP3 Decoder [mpg123](http://www.mpg123.de/) eingesetzt. Installieren und testen sie diesen Decoder vor dem Versuch auf ihrem Rechner. Machen Sie sich zunächst mit dem in Kapitel [Gegebene Module zur Transcodierung und Feature Extraction](#Gegebene-Module-zur-Transcodierung-und-Feature-Extraction) aufgeführten Code vertraut. Versuchen Sie Funktion und Ablauf dieses Programms zu verstehen und beantworten Sie folgende Fragen.\n",
    "\n",
    "1. Was versteht man unter den statistischen Größen _Mittelwert, Standardabweichung, Skewness und Kurtosis_?\n",
    "2. Was beschreibt die Fourier-Transformierte eines zeitlich ausgedehnten Signals?\n",
    "3. Mit welcher Samplingrate werden die WAV Dateien abgetastet?\n",
    "4. Insgesamt werden 42 Merkmale pro Musiksequenz extrahiert. Beschreiben Sie kurz diese Merkmale\n",
    "\n"
   ]
  },
  {
   "cell_type": "markdown",
   "metadata": {},
   "source": [
    "##### Klärung der Fragen:\n",
    "\n",
    "##### 1. Statistische Größen\n",
    "\n",
    "###### Mittelwert:\n",
    "\n",
    "Der Mittelwert ist der Durchschnitt einer Zahlenmenge, d.h. die Summe aller Zahlenwerte der Menge geteilt durch die Anzahl der Zahlenwerte.\n",
    "\n",
    "###### Standardabweichung:\n",
    "\n",
    "Die Standardabweichung ist eine wichtige mathematische Größe in der Statistik. Sie betrachtet, welche Werte eine Zufallsvariable X in einer Zahlenmenge annnimmt, ermittelt mithilfe des Mittelwerts oder mithilfe des Erwartungswertes den Schwerpunkt der Zahlenmenge und gibt gleichzeitig an, wie sehr die Werte der Zahlenmenge um diesen Schwerpunkt herum streuen.\n",
    "\n",
    "###### Skewness (dt. Schiefe)\n",
    "\n",
    "Die Skewness beschreibt, wie die absolute Anzahl der Werte einer Wahrscheinlichkeitsverteilung vom Mittelwert ausgehend zur rechten und zur linken Seite verteilt sind. Bei rechtsschiefen Verteilungen gibt es öfter Werte, die kleiner sind als der Mittelwert, bei linksschiefen Verteilungen ist das Gegenteil der Fall. Ein Beispiel für eine rechtsschiefe Verteilung ist meistens das Pro-Kopf-Einkommen eines Landes, denn dabei fallen einige wenige Menschen mit einem sehr hohen Einkommen stark ins Gewicht gegenüber vielen Leuten mit kleinerem Einkommen.\n",
    "\n",
    "###### Kurtosis\n",
    "\n",
    "Die Kurtosis beschreibt die ''Spitzigkeit'' bzw. die Wölbung einer Wahrscheinlichkeitsfunktion. Je größer die Kurtosis, desto spitzer läuft die Funktion auf ihren Mittelwert zu. Liegt bei großer Kurtosis (w > 3) trotzdem eine große Streuung vor, resultiert dies aus wenigen jedoch deutlichen Ausreißern. Ist die Kurtosis dagegen klein (w < 3), sind die Werte gleichmäßiger verteilt. Die Kurtosis wird mithilfe des Mittelwerts und der Standardabweichung der Wahrscheinlichkeitsverteilung normiert, um sie unabhängig von der Einheit der Zufallsvariablen werden zu lassen.\n",
    "\n",
    "\n",
    "##### 2. Fourier-Transformierte\n",
    "\n",
    "Darstellung eines aperiodischen kontinuirlichen Signals in Form einer Funktion.\n",
    "\n",
    "##### 3. Sampling-Rate für WAV-Dateien\n",
    "\n",
    "10 MB per minute at a 44.1 kHz sample rate using stereo 16-bit samples\n",
    "\n",
    "##### 4. Merkmale einer Musiksequenz\n",
    "\n",
    "\n",
    "Von der Amplitude der Musiksignale werden Eigenschaften wie der Durchschnitt, die Standardabweichung und die Skewness verwendet.\n",
    "\n",
    "\n",
    "###### Notiz: \n",
    "\n",
    "Die Mel Frequency Cepstral Coefficients bilden eine Gruppe von ca. 10-20 Features, die ähnlich wie hier die generelle Form und den Verlauf eines Musiksignals beschreiben. Sie gewichten Frequenzen, die für das menschliche Hören wichtiger sind, stärker als Frequenzen, für die dies nicht der Fall ist.\n"
   ]
  },
  {
   "cell_type": "markdown",
   "metadata": {},
   "source": [
    "### Matching der Teilsequenzen\n",
    "\n",
    "1. Nachdem für jedes Musikstück die beiden Teilsequenzen in Form der extrahierten Merkmale vorliegen: Wie kann die Ähnlichkeit zwischen Teilsequenzen ermittelt werden?\n",
    "\n",
    "    Mit bekannten Algorithmen die Aehnlichkeit zwischen den Vektoren der Merkmale der verschiedenen Teilsequenzen berechnen.\n",
    "2. Welche Numpy- bzw. Scipy-Module können Sie für die Bestimmung der Ähnlichkeit zwischen Teilsequenzen einsetzen?\n",
    "\n",
    "    scipy.stats\n",
    "    scipy.spatial\n",
    "    sklearn.metrics.pairwise"
   ]
  },
  {
   "cell_type": "markdown",
   "metadata": {},
   "source": [
    "### Genetischer Algorithmus für die Merkmalsselektion\n",
    "\n",
    "1. Beschreiben Sie die Prozesschritte im genetischen Algorithmus [Genetischer Algorithmus](https://www.hdm-stuttgart.de/~maucher/Python/FunktionenAlgorithmen/html/genAlgTSP.html)\n",
    "    1. Erzeugung einer zufaelligen Population: Am Anfang wird eine Anzahl zufaelliger Chromosomen erzeugt. Diese\n",
    "    werden nur einmal ganz am Anfang erzeugt.\n",
    "    2. Berechnung der Fitness: Mit der Fitnessfunktion wird der Fitness-Wert fuer alle Chromosomen berechnet.\n",
    "    3. Selektion: Pseudo-Zufaellige Auswahl von Chromosomen-Paaren, die aus Population \"gepaart\" werden. Je hoeher die Fitness,\n",
    "    desto wahrscheinlicher ist es, dass das Chromosom fuer die Paarung ausgewaehlt wird.\n",
    "    4. Crossover: Hier werden die ueberlebenden Chromosomen an einem zufaelligen Kreuzungspunkt miteinander\n",
    "    vermischt. Dadurch entstehen neue Chromosomen mit neuen Konfigurationen.\n",
    "    5. Mutation: Eine kleine Menge von Chromosomen wird zufaellig veraendert um Varianz zu erzeugen.\n",
    "    6. Austausch: Nun werden eine bestimme Anzahl von Chromosomen mit den schlechtesten Fitness-Werten durch\n",
    "    die neu enstandenen Chromosomen-Kinder ersetzt.\n",
    "    7. Schritt 2 - 6 wird bis zu einer Vorbestimmen Abbruchbedingung wiederholt.\n",
    "2. In diesem Versuch wird davon ausgegangen, dass Merkmale dann gut sind, wenn durch sie die erste Teilsequenz eines Musikstücks durch einen ähnlichen Vektor wie die jeweils zweite Teilsequenz beschrieben wird. Wie kann mit dieser Annahme der genetische Algorithmus für die Merkmalsselektion angewandt werden. Unter Merkmalsselektion versteht man allgemein die Suche nach den $r$ besten Merkmalen aus einer Menge von insgesamt $R$ Merkmalen. In diesem Versuch werden initial $R=42$ Merkmale extrahiert, aus denen dann die besten $r<R$ Merkmale zu bestimmen sind. Überlegen Sie hierfür speziell wie die Fitnessfunktion, die Kreuzung und die Mutation zu realisieren sind.\n",
    "    - Als Fitness-Funktion koennte man den Unterschied der Vektoren der Merkmale fuer die jeweils erste und zweite\n",
    "    Teilsequenz des Musikstuecks berechnen.\n",
    "    - Kreuzung koennte so realisiert werden, dass zwei Elternchromosomen zufaellige ausgewaehlt werden. Je hoeher die\n",
    "    Fitness, desto groesser die Wahrscheinlichkeit, dass ein Chromosom ausgewaehlt wird. Bei der eigentlichen Kreuzung\n",
    "    koennten dann neue Kind-Chromosomen mit einer zufaelligen Auswahl aus einem Set an alle Eltern-Merkmalen kombiniert\n",
    "    werden.\n",
    "    - Mutation koennte bedeuten, zufaellige Merkmale in den Merkalsmengen zu loeschen, neue noch nicht vorhandene\n",
    "    Mermkmale hinzuzufuegen, oder ein vorhandenes Merkmal mit einem zufaelligen anderen noch nicht vorhandenen Merkmal\n",
    "    ersetzen."
   ]
  },
  {
   "cell_type": "markdown",
   "metadata": {},
   "source": [
    "### Clustering und Playlistgenerierung\n",
    "\n",
    "1. Wie kann mit einem hierarchischen Clustering der Musikfiles eine Menge von Playlists erzeugt werden, so dass innerhalb einer Playlist möglichst ähnliche Titel zu finden sind?\n",
    "\n",
    "   Top-Down-Apporach: Die gegebenen Musiktitel befinden sich in einem großen Cluster. Wenn die Ähnlichkeit zwischen allen Musikstücken gegeben ist, kann immer ein Schwellenwert als Trennpunkt definiert werden\n",
    "    an dem jeweils zwei Cluster sich trennen. Dies kann dann hierarchisch für die enstandenen Cluster\n",
    "    absteigend wiederholt werden, bis das gewünschte Level an Clustering erreicht ist.\n",
    "    \n",
    "    Bottom-Up-Apporach: Jeder Musiktitel bildet ein eigenes Cluster. In jeder Iteration des Clusteralgorithmus wird daraufhin geprüft, ob ein Musiktitel aufgrund von großer Ähnlichkeit einem anderen Cluster zugeordnet werden sollte. Die Cluster mit einem Musiktitel werden so schrittweise in inzwischen bestehenden größeren Cluster ''hineingemerged''.\n"
   ]
  },
  {
   "cell_type": "markdown",
   "metadata": {},
   "source": [
    "# Durchführung\n",
    "## Gegebene Module zur Transcodierung und Feature Extraction\n",
    "Mit dem in diesem Abschnitt gegebenen Code werden die im Unterverzeichnis _BandCollection_ befindlichen mp3-Files zunächst in wave decodiert. Danach werden aus den wave Dateien Audiomerkmale erhoben.\n",
    "\n",
    "Von jedem Musikstück werden zwei disjunkte Teilsequenzen erhoben und von beiden Teilsequenzen jeweils ein Merkmalsvektor gebildet. Der Grund hierfür ist: Für die später folgende Bestimmung der wichtigsten Merkmale (Merkmalsselektion mit dem genetischen Algorithmus), wird angenommen dass Merkmale dann gut sind, wenn die aus ihnen gebildeten Merkmalsvektoren für Teilsequenzen des gleichen Musikstücks nahe beieinander liegen und die Merkmalsvektoren von Teilsequenzen unterschiedlicher Musikstücke weiter voneinander entfernt sind. In der Merkmalsselektion werden dann die Merkmale als relevant erachtet, für die diese Annahme zutrifft. \n",
    "\n",
    "**Aufgaben:**\n",
    "\n",
    "1. Stellen Sie im unten gegebenen Code die Verzeichnisse für Ihre Musikdateien (aktuell Unterverzeichnis _BandCollection_) und für den Ort Ihres _mpg123_ Decoders richtig ein.\n",
    "2. Die verwendete Musiksammlung sollte mindestens 5 verschiedene Interpreten möglichst unterschiedlicher Genres enthalten. Von jedem Interpret sollten mehrere Titel (evtl. ein ganzes Album) enthalten sein.\n",
    "3. Führen Sie den in diesem Abschnitt gegebenen Programmcode zur Audiofeature-Extraction aus. Damit werden für alle Musiksequenzen jeweils 42 Merkmale extrahiert. Die extrahierten Merkmalsvektoren der jeweils ersten Sequenz werden in das File _FeatureFileTrainingAllList1.csv_ geschrieben, die der zweiten Teilsequen in das File _FeatureFileTestAllList2.csv_. \n"
   ]
  },
  {
   "cell_type": "code",
   "execution_count": null,
   "metadata": {},
   "outputs": [],
   "source": [
    "import json\n",
    "import subprocess\n",
    "import wave\n",
    "import struct\n",
    "from multiprocessing import cpu_count\n",
    "\n",
    "import numpy\n",
    "import os\n",
    "\n",
    "import numpy as np\n",
    "import pandas as pd\n",
    "from IPython.core.display import clear_output\n",
    "from joblib import Parallel, delayed\n",
    "from matplotlib import pyplot as plt\n",
    "from pandas import DataFrame, Series\n",
    "from scipy.cluster.hierarchy import linkage, dendrogram\n",
    "\n",
    "numpy.set_printoptions(precision=2, suppress=True)\n",
    "\n",
    "#Names of features extracted in this module\n",
    "FeatNames = [\"amp1mean\", \"amp1std\", \"amp1skew\", \"amp1kurt\", \"amp1dmean\", \"amp1dstd\", \"amp1dskew\", \"amp1dkurt\",\n",
    "             \"amp10mean\", \"amp10std\",\n",
    "             \"amp10skew\", \"amp10kurt\", \"amp10dmean\", \"amp10dstd\", \"amp10dskew\", \"amp10dkurt\", \"amp100mean\", \"amp100std\",\n",
    "             \"amp100skew\",\n",
    "             \"amp100kurt\", \"amp100dmean\", \"amp100dstd\", \"amp100dskew\", \"amp100dkurt\", \"amp1000mean\", \"amp1000std\",\n",
    "             \"amp1000skew\",\n",
    "             \"amp1000kurt\", \"amp1000dmean\", \"amp1000dstd\", \"amp1000dskew\", \"amp1000dkurt\", \"power1\", \"power2\", \"power3\",\n",
    "             \"power4\",\n",
    "             \"power5\", \"power6\", \"power7\", \"power8\", \"power9\", \"power10\"]"
   ]
  },
  {
   "cell_type": "code",
   "execution_count": null,
   "metadata": {},
   "outputs": [],
   "source": [
    "def moments(x):\n",
    "    mean = x.mean()\n",
    "    std = x.var() ** 0.5\n",
    "    skewness = ((x - mean) ** 3).mean() / std ** 3\n",
    "    kurtosis = ((x - mean) ** 4).mean() / std ** 4\n",
    "    return [mean, std, skewness, kurtosis]"
   ]
  },
  {
   "cell_type": "code",
   "execution_count": null,
   "metadata": {},
   "outputs": [],
   "source": [
    "#Feature category 2: Frequency domain parameters\n",
    "def fftfeatures(wavdata):\n",
    "    f = numpy.fft.fft(wavdata)\n",
    "    f = f[2:int(f.size / 2 + 1)]\n",
    "    f = abs(f)\n",
    "    total_power = f.sum()\n",
    "    f = numpy.array_split(f, 10)\n",
    "    return [e.sum() / total_power for e in f]"
   ]
  },
  {
   "cell_type": "code",
   "execution_count": null,
   "metadata": {},
   "outputs": [],
   "source": [
    "#Creating the entire feature vector per music-file\n",
    "def features(x):\n",
    "    x = numpy.array(x)\n",
    "    f = []\n",
    "\n",
    "    xs = x\n",
    "    diff = xs[1:] - xs[:-1]\n",
    "    f.extend(moments(xs))\n",
    "    f.extend(moments(diff))\n",
    "\n",
    "    xs = x.reshape(-1, 10).mean(1)\n",
    "    diff = xs[1:] - xs[:-1]\n",
    "    f.extend(moments(xs))\n",
    "    f.extend(moments(diff))\n",
    "\n",
    "    xs = x.reshape(-1, 100).mean(1)\n",
    "    diff = xs[1:] - xs[:-1]\n",
    "    f.extend(moments(xs))\n",
    "    f.extend(moments(diff))\n",
    "\n",
    "    xs = x.reshape(-1, 1000).mean(1)\n",
    "    diff = xs[1:] - xs[:-1]\n",
    "    f.extend(moments(xs))\n",
    "    f.extend(moments(diff))\n",
    "\n",
    "    f.extend(fftfeatures(x))\n",
    "    return f"
   ]
  },
  {
   "cell_type": "code",
   "execution_count": null,
   "metadata": {},
   "outputs": [],
   "source": [
    "def read_wav(wav_file):\n",
    "    \"\"\"Returns two chunks of sound data from wave file.\"\"\"\n",
    "    w = wave.open(wav_file)\n",
    "    n = 60 * 10000\n",
    "    if w.getnframes() < n * 3:\n",
    "        raise ValueError('Wave file too short')\n",
    "    #For each music file 2 sequences, each containing n frames are subtracted. The first sequence starts at postion n,\n",
    "    #the second sequence starts at postion 2n. The reason for extracting 2 subsequences is, that later on we like to\n",
    "    #find the best features and in this exercise we assume that good features have the property that they are similar for 2 subsequences\n",
    "    #of the same song, but differ for subsequences of different songs.\n",
    "    w.setpos(n)\n",
    "    frames = w.readframes(n)\n",
    "    wav_data1 = struct.unpack('%dh' % n, frames)\n",
    "    frames = w.readframes(n)\n",
    "    wav_data2 = struct.unpack('%dh' % n, frames)\n",
    "    return wav_data1, wav_data2"
   ]
  },
  {
   "cell_type": "code",
   "execution_count": null,
   "metadata": {},
   "outputs": [],
   "source": [
    "def compute_chunk_features(mp3_file):\n",
    "    \"\"\"Return feature vectors for two chunks of an MP3 file.\"\"\"\n",
    "    # Extract MP3 file to a mono, 10kHz WAV file\n",
    "    #mpg123_command = 'C:\\Program Files (x86)\\mpg123-1.22.0-x86\\mpg123-1.22.0-x86\\\\mpg123.exe -w \"%s\" -r 10000 -m \"%s\"'\n",
    "    #mpg123_command = 'C:\\\\Program Files (x86)\\\\mpg123-1.21.0-x86-64\\\\mpg123.exe -w \"%s\" -r 10000 -m \"%s\"'\n",
    "    mpg123_command = r'mpg123 -w \"%s\" -e s16 -r 10000 -m \"%s\"'\n",
    "    with open(\"mpg123_command.txt\", \"r\") as command_file:\n",
    "        mpg123_command = command_file.readlines()[0]\n",
    "    out_file = 'temp.wav'\n",
    "    cmd = mpg123_command % (out_file, mp3_file)\n",
    "    temp = subprocess.call(cmd, shell=True)\n",
    "    # Read in chunks of data from WAV file\n",
    "    wav_data1, wav_data2 = read_wav(out_file)\n",
    "    # We'll cover how the features are computed in the next section!\n",
    "    return numpy.array(features(wav_data1)), numpy.array(features(wav_data2))"
   ]
  },
  {
   "cell_type": "code",
   "execution_count": null,
   "metadata": {},
   "outputs": [],
   "source": [
    "first_list = \"FeatureFileTrainingAllList1.csv\"\n",
    "second_list = \"FeatureFileTestAllList2.csv\"\n",
    "\n",
    "if not os.path.isfile(first_list) and not os.path.isfile(second_list):\n",
    "    fileList = []\n",
    "    featureList1 = []\n",
    "    featureList2 = []\n",
    "    #Specify the name of the directory, which contains your MP3 files here.\n",
    "    # This directory should contain for each band/author one subdirectory, which contains all songs of this author\n",
    "    for path, dirs, files in os.walk('./BandCollection'):\n",
    "        #print '-'*10,dirs,files\n",
    "        for f in files:\n",
    "            if not f.endswith('.mp3'):\n",
    "                # Skip any non-MP3 files\n",
    "                continue\n",
    "            mp3_file = os.path.join(path, f)\n",
    "            print(mp3_file)\n",
    "            # Extract the track name (i.e. the file name) plus the names\n",
    "            # of the two preceding directories. This will be useful\n",
    "            # later for plotting.\n",
    "            tail, track = os.path.split(mp3_file)\n",
    "            tail, dir1 = os.path.split(tail)\n",
    "            tail, dir2 = os.path.split(tail)\n",
    "            # Compute features. feature_vec1 and feature_vec2 are lists of floating\n",
    "            # point numbers representing the statistical features we have extracted\n",
    "            # from the raw sound data.\n",
    "            try:\n",
    "                feature_vec1, feature_vec2 = compute_chunk_features(mp3_file)\n",
    "            except:\n",
    "                print(\"Error: Chunk Features failed\")\n",
    "                continue\n",
    "            #title=str(track)\n",
    "            title = str(dir1) + '\\\\' + str(track)\n",
    "            print('-' * 20 + title + '-' * 20)\n",
    "            #print \"       feature vector 1:\",feature_vec1\n",
    "            #print \"       feature vector 2:\",feature_vec2\n",
    "            fileList.append(title)\n",
    "            featureList1.append(feature_vec1)\n",
    "            featureList2.append(feature_vec2)\n",
    "\n",
    "    # Write feature vecotrs of all music files to pandas data-frame\n",
    "    MusicFeaturesTrain = pd.DataFrame(index=fileList, data=numpy.array(featureList1), columns=FeatNames)\n",
    "    MusicFeaturesTrain.to_csv(first_list)\n",
    "\n",
    "    MusicFeaturesTest = pd.DataFrame(index=fileList, data=numpy.array(featureList2), columns=FeatNames)\n",
    "    MusicFeaturesTest.to_csv(second_list)\n",
    "else:\n",
    "    print(\"Feature lists already created, skipping...\")"
   ]
  },
  {
   "cell_type": "markdown",
   "metadata": {
    "collapsed": true
   },
   "source": [
    "## Matching der Teilsequenzen\n",
    "In diesem Abschnitt soll ein Verfahren implementiert werden, mit dem die Übereinstimmung der ersten Teilsequenz eines Musikstücks mit den zweiten Teilsequenzen aller anderen Musikstücke berechnet werden kann.\n",
    "\n",
    "**Aufagben:**\n",
    "1. Lesen Sie die im vorigen Teilversuch angelegten zwei csv-Dateien in jeweils einen eigenen Pandas Dataframe ein.\n",
    "2. Skalieren Sie beide Teilsequenzmengen, so dass alle Merkmale eine Standardabweichung von 1 aufweisen. Z.B. mit [http://scikit-learn.org/stable/modules/generated/sklearn.preprocessing.scale.html](http://scikit-learn.org/stable/modules/generated/sklearn.preprocessing.scale.html).\n",
    "2. Bestimmen Sie zu jeder Teilsequenz aus der Datei _FeatureFileTrainingAllList1.csv_ die euklidische Distanz zu allen Teilsequenzen aus der Datei _FeatureFileTestAllList2.csv_ und schreiben Sie diese Distanzen in eine aufsteigend geordnete Liste. Schreiben Sie auch die zugehörigen Argumente (Teilsequenzen) in eine geordnete Liste, sodass für jede Teilsequenz aus _FeatureFileTrainingAllList1.csv_ die am nächsten liegende Teilsequenz aus _FeatureFileTestAllList2.csv_ an erster Stelle steht, die zweitnächste Teilsequenz an zweiter usw.\n",
    "3. Bestimmen Sie über alle Teilsequenzen aus _FeatureFileTrainingAllList1.csv_ den **mittleren Rang** an dem die zugehörige zweite Teilsequenz erscheint. Liegt z.B. für die erste Teilsequenz des Musikstücks A die zweite Teilsequenz nur an fünfter Stelle der geordneten nächsten Nachbarliste. Dann würde diese Teilsequenz mit dem Rang 5 in den Mittelwert einfließen.\n",
    "4. Bestimmen Sie jetzt den mittleren Rang, für den Fall, dass _correlation_ anstelle _euclidean_ als Ähnlichkeitsmaß verwendet wird. Welches Ähnlichkeitsmaß ist für diese Anwendung zu bevorzugen?\n",
    "5. Diskutieren Sie das Ergebnis\n"
   ]
  },
  {
   "cell_type": "markdown",
   "metadata": {
    "pycharm": {
     "name": "#%% md\n"
    }
   },
   "source": [
    "Zuerst werden die beiden in der bisherigen Versuchsdurchführung generierten CSV-Listen als DataFrames eingelesen und nach Titel sortiert."
   ]
  },
  {
   "cell_type": "code",
   "execution_count": null,
   "metadata": {
    "pycharm": {
     "name": "#%%\n"
    }
   },
   "outputs": [],
   "source": [
    "features_train = pd.read_csv(\"FeatureFileTrainingAllList1.csv\", index_col=0).sort_index()\n",
    "features_test = pd.read_csv(\"FeatureFileTestAllList2.csv\", index_col=0).sort_index()\n",
    "features_train.head(10)"
   ]
  },
  {
   "cell_type": "code",
   "execution_count": null,
   "metadata": {
    "pycharm": {
     "name": "#%%\n"
    }
   },
   "outputs": [],
   "source": [
    "features_test.head(10)"
   ]
  },
  {
   "cell_type": "markdown",
   "metadata": {
    "pycharm": {
     "name": "#%% md\n"
    }
   },
   "source": [
    "Damit später Zeilen und Daten nicht verwechselt werden, wird der sortierte Index in einer Liste gespeichert, um ihn\n",
    "danach wieder eindeutig zuordnen zu koennen."
   ]
  },
  {
   "cell_type": "code",
   "execution_count": null,
   "metadata": {
    "pycharm": {
     "name": "#%%\n"
    }
   },
   "outputs": [],
   "source": [
    "index = features_train.index.values.tolist()\n",
    "index[:10]"
   ]
  },
  {
   "cell_type": "markdown",
   "metadata": {
    "pycharm": {
     "name": "#%% md\n"
    }
   },
   "source": [
    "Um einen Einblick in die Werte dieses Dataframes zu bekommen, wird dieser nur einmal geplottet."
   ]
  },
  {
   "cell_type": "code",
   "execution_count": null,
   "metadata": {
    "pycharm": {
     "name": "#%%\n"
    }
   },
   "outputs": [],
   "source": [
    "features_train.boxplot(vert=False, figsize=(15, 15))"
   ]
  },
  {
   "cell_type": "markdown",
   "metadata": {
    "pycharm": {
     "name": "#%% md\n"
    }
   },
   "source": [
    "Wenn man sich die Ausgaben der DataFrames anschaut, kann man erkennen, dass es bei den Standardabweichungen sehr hohe\n",
    "Differenzen zwischen den Titeln gibt. Alle anderen Merkmale spielen sich nur in einem relativ kleinen Bereich um 0\n",
    "herum ab."
   ]
  },
  {
   "cell_type": "markdown",
   "metadata": {
    "pycharm": {
     "name": "#%% md\n"
    }
   },
   "source": [
    "Im Folgenden werden diese Eingabewerte genommen und mithilfe des *preprocessing* Moduls von *scikitlearn* skaliert, sodass\n",
    "sie normalisiert sind. Dies ist notwendig, da sonst Unterschiede zwischen den Werten der Merkmale von Algorithmen wie\n",
    "der euklidischen Distanz nicht richtig berechnet werden.\n",
    "Die Daten werden dabei um 0 herum zentriert und auf eine uniforme Standardabweichung skaliert."
   ]
  },
  {
   "cell_type": "code",
   "execution_count": null,
   "metadata": {
    "pycharm": {
     "name": "#%%\n"
    }
   },
   "outputs": [],
   "source": [
    "from sklearn.preprocessing import scale\n",
    "\n",
    "scaled_first_sections = DataFrame(scale(features_train, with_mean=True, with_std=True, copy=True), columns=FeatNames,\n",
    "                                  index=index)\n",
    "scaled_second_sections = DataFrame(scale(features_test, with_mean=True, with_std=True, copy=True), columns=FeatNames,\n",
    "                                   index=index)\n",
    "scaled_first_sections.head(10)"
   ]
  },
  {
   "cell_type": "code",
   "execution_count": null,
   "metadata": {
    "pycharm": {
     "name": "#%%\n"
    }
   },
   "outputs": [],
   "source": [
    "scaled_first_sections.boxplot(vert=False, figsize=(15, 15))"
   ]
  },
  {
   "cell_type": "markdown",
   "metadata": {
    "pycharm": {
     "name": "#%% md\n"
    }
   },
   "source": [
    "Wie man gut erkennen kann, sind nun alle Merkmale sinnvoll verteilt, und das berechnen von Aehnlichkeitswerten, z.B. mithilfe\n",
    "der euklidischen Distanz sollte sinnvolle Ergebnisse liefern. Die Mittelwerte, also zum Beispiel *amp100mean*, sind\n",
    "eng verteilt, während es einige Ausreißer, vor allem ins negative. gibt. Diese Merkmale könnten unter gewissen Umständen Verzerrungen mit Algorithmen wie dem euklidischen erzeugen."
   ]
  },
  {
   "cell_type": "markdown",
   "metadata": {
    "pycharm": {
     "name": "#%% md\n"
    }
   },
   "source": [
    "Jetzt geht es darum, die Ähnlichkeiten zwischen den verschiedenen Teilsequenzen zu ermitteln.\n",
    "Es wird jeweils eine Teilsequenz aus der Liste der ersten Teilsequnzen genommen und daraufhin mithilfe eines gegebenen Ähnlichkeitsmaßes die Ähnlichkeit zu jeder Teilsequenz aus der Liste der zweiten Teilsequenzen berechnet. Dies wird für alle ersten Teilsequenzen gemacht, sodass am Ende eine Tabellenstruktur mit den ersten Teilsequenzen als Spalten und\n",
    "die jeweiligen zweiten Teilsequenzen als Zeilen, sortiert nach absteigender Ähnlichkeit, entsteht.\n"
   ]
  },
  {
   "cell_type": "code",
   "execution_count": null,
   "metadata": {
    "pycharm": {
     "name": "#%%\n"
    }
   },
   "outputs": [],
   "source": [
    "from sklearn.metrics.pairwise import pairwise_distances\n",
    "\n",
    "\n",
    "def get_similar_items(scaled_first_sections, scaled_second_sections, index, similarity_metric):\n",
    "    df_dist = DataFrame(\n",
    "        1 / (1 + pairwise_distances(scaled_first_sections, scaled_second_sections, metric=similarity_metric)),\n",
    "        index=index)\n",
    "    dist_dict = {index[i]: df_dist[i].sort_values(ascending=False).index.tolist() for i in range(len(index))}\n",
    "    return dist_dict\n",
    "\n",
    "\n",
    "most_similar_songs_euclidean = get_similar_items(scaled_first_sections, scaled_second_sections, index, \"euclidean\")\n",
    "print(most_similar_songs_euclidean)\n",
    "DataFrame.from_dict(most_similar_songs_euclidean).head(10)"
   ]
  },
  {
   "cell_type": "markdown",
   "metadata": {
    "pycharm": {
     "name": "#%% md\n"
    }
   },
   "source": [
    "Wie man in der Ausgabe des DataFrames sehen kann, ist bei vielen Titeln die zweite Teilsequenz am ähnlichsten zu der\n",
    "ersten. Um diese Hypothese für alle Daten zu validieren, wird eine Funktion implementiert, die die Position der jeweiligen zweiten\n",
    "Teilsequenz eines Musiktitels in der Liste der ähnlichsten Teilsequenzen für jede erste Teilsequenz ermittelt.\n",
    "\n",
    "Mit diesen Daten kann dann mit der zweiten Funktion *get_middle_rank* der mittlere Rang, also die durchschnittliche\n",
    "Position der jeweiligen zweiten Teilsequenz in der Liste pro erste Teilsequenz, ermittelt werden."
   ]
  },
  {
   "cell_type": "code",
   "execution_count": null,
   "metadata": {
    "pycharm": {
     "name": "#%%\n"
    }
   },
   "outputs": [],
   "source": [
    "def get_ranks(similar_items):\n",
    "    return {item: ranking_list.index(item) + 1 for item, ranking_list in similar_items.items()}\n",
    "\n",
    "\n",
    "def get_middle_rank(items_dict):\n",
    "    ranks = get_ranks(items_dict)\n",
    "    return sum(ranks.values()) / len(ranks)\n",
    "\n",
    "\n",
    "ranks_euclidean = get_ranks(most_similar_songs_euclidean)\n",
    "df_ranks_euclidean = DataFrame.from_dict(ranks_euclidean, orient=\"index\", columns=[\"Second part rank with euclidean\"])\n",
    "df_ranks_euclidean.head(10)"
   ]
  },
  {
   "cell_type": "code",
   "execution_count": null,
   "metadata": {
    "pycharm": {
     "name": "#%%\n"
    }
   },
   "outputs": [],
   "source": [
    "df_ranks_euclidean.plot(kind='hist', title=\"Rank Distribution\", figsize=(10, 10))\n",
    "middle_rank_euclidean = get_middle_rank(most_similar_songs_euclidean)\n",
    "f\"Middle rank of each sons second part compared to its first: {middle_rank_euclidean}\"\n"
   ]
  },
  {
   "cell_type": "markdown",
   "metadata": {
    "pycharm": {
     "name": "#%% md\n"
    }
   },
   "source": [
    "##### Beobachtung:\n",
    "In fast allen Fällen ist die zweite Sequenz eines Songs am ähnlichsten seiner ersten. Allerdings gibt es auch einige Title, bei denen dies nicht der Fall ist. Vor allem der Wert bei **Garrett\\02 Who Wants to Live Forever_ 1.mp3** ist mit dem Rang 54 ein extremer Ausreißer und beeinflusst somit den Durchschnitt maßgeblich.\n",
    "\n",
    "Jetzt werden die *middle ranks* für den selben Datensatz mit **correlation** als Ähnlichkeitsmaß berechnet."
   ]
  },
  {
   "cell_type": "code",
   "execution_count": null,
   "metadata": {
    "pycharm": {
     "name": "#%%\n"
    }
   },
   "outputs": [],
   "source": [
    "most_similar_songs_correlation = get_similar_items(scaled_first_sections, scaled_second_sections, index, \"correlation\")\n",
    "ranks_correlation = get_ranks(most_similar_songs_correlation)\n",
    "\n",
    "df_ranks_correlation = DataFrame.from_dict(ranks_correlation, orient=\"index\",\n",
    "                                           columns=[\"Second part rank with correlation\"])\n",
    "df_ranks_correlation.plot(kind='hist', title=\"Rank Distribution\", figsize=(10, 10))\n",
    "middle_rank_correlation = get_middle_rank(most_similar_songs_correlation)\n",
    "f\"Middle rank of each sons second part compared to its first: {middle_rank_correlation}\""
   ]
  },
  {
   "cell_type": "markdown",
   "metadata": {
    "pycharm": {
     "name": "#%% md\n"
    }
   },
   "source": [
    "Das *correlation*-Ähnlichkeitsmaß erzeugt durchaus genauere Ergebnisse, was sich am mittleren Rang erkennen lässt.\n",
    "Daraus lässt sich schließen, dass das *correlation*-Ähnlichkeitsmaß besser für den weiteren Verlauf dieser Aufgabe\n",
    "geeignet ist, da es die Ähnlichkeiten besser darstellt. Des Weiteren gibt es mit *correlation* nicht so weit entfernte Ausreißer.\n",
    "\n",
    "Und darüber hinaus haben lineare, große Abstände im *correlation*-Ähnlichkeitsmaß keine Verschlechterung im Erkennen der Ähnlichkeit zur Folge, was bedeuten könnte, dass progressive Musiktitel, also Titel, die sich zwar in der Struktur nicht verändern,\n",
    "jedoch im Verlauf des Songs durchaus lauter bzw. intensiver werden, \n",
    "nicht zwangsläufig als unähnlich erkannt werden."
   ]
  },
  {
   "cell_type": "markdown",
   "metadata": {},
   "source": [
    "## Merkmalsauswahl mit dem genetischen Algorithmus\n",
    "In diesem Abschnitt soll unter Anwendung eines selbst zu implementierenden genetischen Algorithmus eine Untermenge wichtiger Merkmale aus den insgesamt 42 angelegten Merkmalen berechnet werden.\n",
    "Als Vorlage kann hierfür die Implementierung für die [Lösung des TSP Problems](https://www.hdm-stuttgart.de/~maucher/Python/FunktionenAlgorithmen/html/genAlgTSP.html) herangezogen werden. Anzupassen sind dann jedoch mindestens die Fitness-Funktion, die Kreuzungs- und die Mutationsfunktion. Die Fitness soll so wie im vorigen Teilabschnitt mit dem mittleren Rang berechnet werden. Die Populationsgröße, die Anzahl der auszuwählenden Merkmale und die Anzahl der Iterationen sollen als Parameter einstellbar sein.\n",
    "\n",
    "Der Fitnesswert des besten Individuums in der Population soll in jeder Iteration gespeichert werden. Der Verlauf dieses besten Fitness-Wertes über den Fortlauf der Iterationen soll graphisch ausgegeben werden.\n",
    "\n",
    "Ein Pandas Frame, der nur die berechneten wichtigsten Merkmale aus _FeatureFileTrainingAllList1.csv_ enthält soll angelegt und in die csv Datei _subFeaturesTrain1.csv_ geschrieben werden.\n",
    "\n",
    "**Aufgaben:**\n",
    "1. Implementieren Sie die die Merkmalsauswahl mit dem genetischen Algorithmus entsprechend der o.g. Beschreibung\n",
    "2. Beschreiben Sie kurz das Konzept ihrer Kreuzungs- und Mutationsfunktion. \n",
    "3. Bestimmen Sie eine möglichst kleine Merkmalsuntermenge mit einem möglichst guten mittleren Rang? Geben Sie sowohl die gefundenen wichtigsten Merkmale als auch den zugehörigen mittleren Rang an.\n",
    "4. Um wieviel verschlechtert sich der Mittlere Rang, wenn nur die 10 wichtigsten Merkmale benutzt werden?"
   ]
  },
  {
   "cell_type": "markdown",
   "metadata": {},
   "source": [
    "#### Genetischer Algorithmus für die Music Feature Selection"
   ]
  },
  {
   "cell_type": "markdown",
   "metadata": {
    "pycharm": {
     "name": "#%% md\n"
    }
   },
   "source": [
    "*Funktion für die zufaellige Auswahl von Chromosomen*"
   ]
  },
  {
   "cell_type": "code",
   "execution_count": null,
   "metadata": {
    "pycharm": {
     "name": "#%%\n"
    }
   },
   "outputs": [],
   "source": [
    "import namegenerator\n",
    "from numpy.random import choice\n",
    "\n",
    "\n",
    "def get_random_population(population_size, num_of_features=len(FeatNames), random=False):\n",
    "    return {namegenerator.gen(): choice(FeatNames, num_of_features,\n",
    "                                        replace=False).tolist() if random else FeatNames[:num_of_features]\n",
    "            for _ in range(population_size)}\n",
    "\n",
    "\n",
    "population = get_random_population(16, random=True)\n",
    "\n",
    "DataFrame.from_dict(population, orient=\"index\").head(10)"
   ]
  },
  {
   "cell_type": "markdown",
   "metadata": {
    "pycharm": {
     "name": "#%% md\n"
    }
   },
   "source": [
    "Die folgende Funktion berechnet den Fitness-Wert für ein gegebenes Chromosom. Die Ähnlichkeits-Metrik kann beliebig\n",
    "gewählt werden. Der Fitness-Wert wird dabei durch die Funktion $10 * ( 1 / fitness)$ dargestellt. Die lineare Skalierung\n",
    "mit dem Faktor 10 wurde gewählt, umd den Verlauf besser in einem Graphen darzustellen. Er verändert allerdings nichts\n",
    "an der Funktionsweise oder dem Ergebnis."
   ]
  },
  {
   "cell_type": "code",
   "execution_count": null,
   "metadata": {
    "pycharm": {
     "name": "#%%\n"
    }
   },
   "outputs": [],
   "source": [
    "def get_single_fitness(feature_chromosome, first_parts, second_parts, sim_metric=\"euclidean\"):\n",
    "    distances = get_similar_items(first_parts[feature_chromosome],\n",
    "                                  second_parts[feature_chromosome],\n",
    "                                  range(len(first_parts)), sim_metric)\n",
    "    return 1 / get_middle_rank(distances) * 10\n"
   ]
  },
  {
   "cell_type": "markdown",
   "metadata": {
    "pycharm": {
     "name": "#%% md\n"
    }
   },
   "source": [
    "Die folgende Funktion berechnet die Fitness-Werte einer ganzen Population mit der vorherigen *get_single_fitness*-Funktion."
   ]
  },
  {
   "cell_type": "code",
   "execution_count": null,
   "metadata": {
    "pycharm": {
     "name": "#%%\n"
    }
   },
   "outputs": [],
   "source": [
    "def get_population_fitness(population, first_parts, second_parts, sim_metric='euclidean'):\n",
    "    fitness_values = Parallel(n_jobs=cpu_count() * 2 + 1)(\n",
    "        delayed(get_single_fitness)(value, first_parts, second_parts, sim_metric) for chromosome, value in\n",
    "        population.items())\n",
    "    fitness_dict = dict(\n",
    "        sorted(zip(population.keys(), fitness_values),\n",
    "               key=lambda x: x[1],\n",
    "               reverse=True))\n",
    "    return fitness_dict"
   ]
  },
  {
   "cell_type": "code",
   "execution_count": null,
   "metadata": {
    "pycharm": {
     "name": "#%%\n"
    }
   },
   "outputs": [],
   "source": [
    "fitness_values = get_population_fitness(population, scaled_first_sections, scaled_second_sections)\n",
    "fitness_values"
   ]
  },
  {
   "cell_type": "markdown",
   "metadata": {
    "pycharm": {
     "name": "#%% md\n"
    }
   },
   "source": [
    "Die folgende Funktion berechnet ein Set an Statistiken fuer eine gegebene Population."
   ]
  },
  {
   "cell_type": "code",
   "execution_count": null,
   "metadata": {
    "pycharm": {
     "name": "#%%\n"
    }
   },
   "outputs": [],
   "source": [
    "def get_population_stats(population, population_fitness):\n",
    "    fitness_average = sum(population_fitness.values()) / len(population_fitness)\n",
    "    feature_lengths = [len(x) for x in population.values()]\n",
    "    stats = {\"fitness_average\": fitness_average,\n",
    "             \"best_fitness\": population_fitness[list(population_fitness)[0]],\n",
    "             \"worst_fitness\": population_fitness[list(population_fitness)[-1]],\n",
    "             \"average_feature_length\": sum(feature_lengths) / len(population),\n",
    "             \"max_feature_length\": max(feature_lengths),\n",
    "             \"min_feature_length\": min(feature_lengths)\n",
    "             }\n",
    "    return stats"
   ]
  },
  {
   "cell_type": "code",
   "execution_count": null,
   "metadata": {
    "pycharm": {
     "name": "#%%\n"
    }
   },
   "outputs": [],
   "source": [
    "def get_middle_rank_for_population(population, first_parts, second_parts, sim_metric):\n",
    "    middle_ranks = {chromosome: get_middle_rank(\n",
    "        get_similar_items(\n",
    "            first_parts[features],\n",
    "            second_parts[features],\n",
    "            range(len(first_parts)),\n",
    "            sim_metric))\n",
    "        for chromosome, features in population.items()}\n",
    "    average_middle_rank = sum(middle_ranks.values()) / len(middle_ranks)\n",
    "    return average_middle_rank"
   ]
  },
  {
   "cell_type": "markdown",
   "metadata": {
    "pycharm": {
     "name": "#%% md\n"
    }
   },
   "source": [
    "Die folgende Funktion gibt ein Set an Statistiken fuer eine gegebene Population und ihre Fitness-Werte aus."
   ]
  },
  {
   "cell_type": "code",
   "execution_count": null,
   "metadata": {
    "pycharm": {
     "name": "#%%\n"
    }
   },
   "outputs": [],
   "source": [
    "def print_population_stats(population, fitness_values):\n",
    "    df = DataFrame.from_dict(fitness_values, orient='index', columns=[\"Fitness Values\"])\n",
    "    df.plot(kind='barh', figsize=(10, 10), title=\"Fitness Values of current population\")"
   ]
  },
  {
   "cell_type": "code",
   "execution_count": null,
   "metadata": {
    "pycharm": {
     "name": "#%%\n"
    }
   },
   "outputs": [],
   "source": [
    "print_population_stats(population, fitness_values)"
   ]
  },
  {
   "cell_type": "markdown",
   "metadata": {
    "pycharm": {
     "name": "#%% md\n"
    }
   },
   "source": [
    "Basierend auf den Fitness-Werten als Wahrscheinlichkeitsverteilung selektiert die folgende Funktion zufällig eine gegebene Menge an Paaren. Die *choice*-Funktion aus *numpy* bietet die Möglichkeit, ohne Zurücklegen zu ziehen,\n",
    "und zusätlich dazu, die Wahrscheinlichkeitsverteilung für jedes ziehbare Item anzugeben, was ideal für den\n",
    "Anwendungsfall mit verschiedenen Fitness-Werten ist. Die Anzahl an gezogenen Paaren kann ebenfalls dynamisch angepasst werden."
   ]
  },
  {
   "cell_type": "code",
   "execution_count": null,
   "metadata": {
    "pycharm": {
     "name": "#%%\n"
    }
   },
   "outputs": [],
   "source": [
    "\n",
    "def select_chromosomes(population, fitness_values, num_of_pairs=1):\n",
    "    probability_distribution = [x * (1 / max(fitness_values.values())) for x in fitness_values.values()]\n",
    "    s_prob = sum(probability_distribution)\n",
    "    probability_distribution_normalized = [x / s_prob for x in probability_distribution]\n",
    "    pairs = choice(list(population.keys()),\n",
    "                   (num_of_pairs, 2),\n",
    "                   p=list(probability_distribution_normalized),\n",
    "                   replace=False).tolist()\n",
    "\n",
    "    return pairs"
   ]
  },
  {
   "cell_type": "code",
   "execution_count": null,
   "metadata": {
    "pycharm": {
     "name": "#%%\n"
    }
   },
   "outputs": [],
   "source": [
    "pairs = select_chromosomes(population, fitness_values, 1)\n",
    "pairs"
   ]
  },
  {
   "cell_type": "markdown",
   "metadata": {
    "pycharm": {
     "name": "#%% md\n"
    }
   },
   "source": [
    "Die folgende Funktion kreuzt eine gegebene Menge an Chromosomenpaaren so miteinander, dass zufällige Kind-Chromosomen entstehen. Der Parameter *random_remove* kann genutzt werden, um zufällige Werte aus den Kinder-Chromosomen zu entfernen und Randomeness zu erzeugen.\n",
    "\n",
    "Dabei wird sich ebenfalls der *choice*-Funktion aus *numpy* bedient, um eine vollkommen\n",
    "zufällige Verteilung von Merkmalen in den Kinder-Chromosomen zu gewährleisten. Wer Elternteil 1 oder 2 ist, wird ebenfalls zufällig ermittelt, um eine weitere Varianz miteinzubauen.\n",
    "\n",
    "Um die Chromosomen später einfacher identifizieren zu können, wird ein *namegenerator* genutzt, der für jedes Chromosom \n",
    "einen individuellen Namen generiert."
   ]
  },
  {
   "cell_type": "code",
   "execution_count": null,
   "metadata": {
    "pycharm": {
     "name": "#%%\n"
    }
   },
   "outputs": [],
   "source": [
    "def crossover(pairs, population, random_remove=False, remove_prob=0.2):\n",
    "    def create_children(pair, population):\n",
    "        rand = np.random.rand()\n",
    "        if rand > 0.5:\n",
    "            p1 = population[pair[0]]\n",
    "            p2 = population[pair[1]]\n",
    "            child_length = len(p1)\n",
    "        else:\n",
    "            p1 = population[pair[1]]\n",
    "            p2 = population[pair[0]]\n",
    "            child_length = len(p2)\n",
    "\n",
    "        all_features = set(p1 + p2)\n",
    "\n",
    "        c1 = list(choice(list(all_features), child_length, replace=False))\n",
    "        c2 = list(choice(list(all_features), child_length, replace=False))\n",
    "\n",
    "        assert len(c1) == child_length\n",
    "        assert len(c2) == child_length\n",
    "\n",
    "        if random_remove:\n",
    "            keep_prob = 1 - remove_prob\n",
    "            rand = np.random.rand()\n",
    "            if rand > keep_prob:\n",
    "                del c1[int(rand * len(c1))]\n",
    "\n",
    "        return {namegenerator.gen(): c for c in (c1, c2)}\n",
    "\n",
    "    children = {c: v for pair in pairs for c, v in create_children(pair, population).items()}\n",
    "    return children"
   ]
  },
  {
   "cell_type": "code",
   "execution_count": null,
   "metadata": {
    "pycharm": {
     "name": "#%%\n"
    }
   },
   "outputs": [],
   "source": [
    "children = crossover(pairs, population)\n",
    "DataFrame.from_dict(children, orient=\"index\")"
   ]
  },
  {
   "cell_type": "markdown",
   "metadata": {
    "pycharm": {
     "name": "#%% md\n"
    }
   },
   "source": [
    "Die folgende Funktion mutiert eine Menge an gegebenen Kindern mit einer gegebenen Wahrscheinlichkeit. Eine Mutation ist\n",
    "die Ersetzung eines Merkmals mit einem zufällig ausgewählten anderen, welches sich noch nicht im Chromosom befindet.\n",
    "\n",
    "Zusätzlich gibt es noch die Funktionalität, Mutationen in Form eines gelöschten oder neu hinzugefügten Merkmals zu verwenden, auf die allerdings nach Überlegen verzichtet wurde, da sie nicht mit dem theoretischen Gedanken des genetischen Algorithmus übereinstimmen."
   ]
  },
  {
   "cell_type": "code",
   "execution_count": null,
   "metadata": {
    "pycharm": {
     "name": "#%%\n"
    }
   },
   "outputs": [],
   "source": [
    "def mutate(children, mut_prob):\n",
    "    def mutate_remove(c1):\n",
    "        feature = np.floor(np.random.rand(1) * len(c1))\n",
    "        if feature < (mut_prob * len(c1)) and len(c1) > 1:\n",
    "            c1 = c1.copy()\n",
    "            del c1[int(feature)]\n",
    "        return c1\n",
    "\n",
    "    def mutate_add(c1):\n",
    "        new_feature_list = list(set(FeatNames).difference(c1))\n",
    "        if len(new_feature_list) == 0:\n",
    "            return c1\n",
    "\n",
    "        index = int(np.random.rand() * len(new_feature_list))\n",
    "        new_feature = new_feature_list[index]\n",
    "        c1 = c1.copy()\n",
    "        return c1 + [new_feature]\n",
    "\n",
    "    def mutate_replace(c1):\n",
    "\n",
    "        new_feature_list = list(set(FeatNames).difference(c1))\n",
    "        feature = np.floor(np.random.rand(1) * len(c1))\n",
    "\n",
    "        if len(c1) > 0:\n",
    "            index = int(np.random.rand() * len(new_feature_list))\n",
    "            if len(new_feature_list) > 0:\n",
    "                new_feature = new_feature_list[index]\n",
    "                c1_new = c1.copy() + [new_feature]\n",
    "                del c1_new[int(feature)]\n",
    "                assert len(c1) == len(c1_new)\n",
    "                return c1_new\n",
    "            else:\n",
    "                return c1\n",
    "\n",
    "        return c1\n",
    "\n",
    "    def mutate(c1):\n",
    "        if np.random.rand() > mut_prob:\n",
    "            return c1\n",
    "\n",
    "        # return mutate_add(c1) if np.random.rand() > 0.5 else mutate_remove(c1)\n",
    "        return mutate_replace(c1)\n",
    "\n",
    "    mutated = {c: mutate(v) for c, v in children.items()}\n",
    "    return mutated"
   ]
  },
  {
   "cell_type": "code",
   "execution_count": null,
   "metadata": {
    "pycharm": {
     "name": "#%%\n"
    }
   },
   "outputs": [],
   "source": [
    "mutated_children = mutate(children, 1)\n",
    "DataFrame.from_dict(mutated_children, orient=\"index\")"
   ]
  },
  {
   "cell_type": "markdown",
   "metadata": {
    "pycharm": {
     "name": "#%% md\n"
    }
   },
   "source": [
    "Die folgende Funktion ersetzt die schlechtesten Chromosomen in einer Population mit den neu entstandenen Kindern, falls\n",
    "diese eine bessere Fitness vorweisen."
   ]
  },
  {
   "cell_type": "code",
   "execution_count": null,
   "metadata": {
    "pycharm": {
     "name": "#%%\n"
    }
   },
   "outputs": [],
   "source": [
    "def replace_if_better(population, population_fitness, mutated_children, first_sections, second_sections):\n",
    "    children_fitness = get_population_fitness(mutated_children, first_sections, second_sections)\n",
    "\n",
    "    def replace_chromosome(population, population_fitness,\n",
    "                           mutated_children, children_fitness, first_section, second_section):\n",
    "        if len(mutated_children) == 0 or not mutated_children:\n",
    "            return population\n",
    "\n",
    "        child = list(mutated_children)[0]\n",
    "        worst = list(population_fitness)[-1]\n",
    "        new_population = population.copy()\n",
    "        new_mutated_children = mutated_children.copy()\n",
    "        if population_fitness[worst] < children_fitness[child]:\n",
    "            new_population.pop(worst)\n",
    "            new_population[child] = mutated_children[child]\n",
    "        new_mutated_children.pop(child)\n",
    "        new_population_fitness = get_population_fitness(new_population, first_section, second_section)\n",
    "        return replace_chromosome(new_population, new_population_fitness,\n",
    "                                  new_mutated_children, children_fitness, first_section, second_section)\n",
    "\n",
    "    new_population = replace_chromosome(population, population_fitness,\n",
    "                                        mutated_children, children_fitness, first_sections, second_sections)\n",
    "    return new_population"
   ]
  },
  {
   "cell_type": "code",
   "execution_count": null,
   "metadata": {
    "pycharm": {
     "name": "#%%\n"
    }
   },
   "outputs": [],
   "source": [
    "new_population = replace_if_better(population, fitness_values, mutated_children,\n",
    "                                   scaled_first_sections, scaled_second_sections)\n",
    "DataFrame.from_dict(new_population, orient=\"index\").head(10)"
   ]
  },
  {
   "cell_type": "markdown",
   "metadata": {
    "pycharm": {
     "name": "#%% md\n"
    }
   },
   "source": [
    "Die folgenden Funktionen koennen genutzt werden, um eine gegebene Population sowie ihre Historie persistent\n",
    "abzuspeichern und zu laden."
   ]
  },
  {
   "cell_type": "code",
   "execution_count": null,
   "metadata": {
    "pycharm": {
     "name": "#%%\n"
    }
   },
   "outputs": [],
   "source": [
    "def save_model(population, stats_list, filename):\n",
    "    data = {\"population\": population,\n",
    "            \"stats\": stats_list\n",
    "            }\n",
    "    with open(filename, \"w\") as out_file:\n",
    "        out_file.write(json.dumps(data))\n",
    "\n",
    "\n",
    "def load_model(filename):\n",
    "    with open(filename, \"r\") as in_file:\n",
    "        data = json.loads(in_file.read())\n",
    "        return data[\"population\"], data[\"stats\"]"
   ]
  },
  {
   "cell_type": "code",
   "execution_count": null,
   "metadata": {
    "pycharm": {
     "name": "#%%\n"
    }
   },
   "outputs": [],
   "source": [
    "stats_list = list()\n",
    "\n",
    "\n",
    "def draw_stats(stats):\n",
    "    global stats_list\n",
    "    stats_list.append(stats)\n",
    "    # print(stats)"
   ]
  },
  {
   "cell_type": "markdown",
   "metadata": {
    "pycharm": {
     "name": "#%% md\n"
    }
   },
   "source": [
    "Die folgende Funktion bringt eine gegebene Population eine Generation weiter, indem alle relevanten Schritte hintereinander\n",
    "ausgefuehrt werden."
   ]
  },
  {
   "cell_type": "code",
   "execution_count": null,
   "metadata": {
    "pycharm": {
     "name": "#%%\n"
    }
   },
   "outputs": [],
   "source": [
    "def advance_by_one_generation(population, config):\n",
    "    pop_fitness = get_population_fitness(population, config['first_sections'], config['second_sections'], sim_metric=config['sim_metric'])\n",
    "    draw_stats(get_population_stats(population, pop_fitness))\n",
    "    pairs = select_chromosomes(population, pop_fitness, num_of_pairs=config['pairings'])\n",
    "    children = crossover(pairs, population, random_remove=config['random_remove'])\n",
    "    mutated_children = mutate(children, config['mutation_probability'])\n",
    "    new_population = replace_if_better(population, pop_fitness, mutated_children, config['first_sections'], config['second_sections'])\n",
    "    return new_population\n"
   ]
  },
  {
   "cell_type": "markdown",
   "metadata": {
    "pycharm": {
     "name": "#%% md\n"
    }
   },
   "source": [
    "Die folgende Funktion legt eine neue Population an und lässt diese eine gegebene Anzahl an Generationen \"leben\".\n",
    "Um Datensicherheit zu garantieren, wurde ein rekursiver Ansatz gewählt.\n",
    "\n",
    "Um den Fortschritt während des \"Trainings\" zu überwachen, werden Statistiken, ein Fortschrittsbalken, sowie ein\n",
    "dynamischer Plot der Statistiken angezeigt, welche in jeder Iteration angepasst werden."
   ]
  },
  {
   "cell_type": "code",
   "execution_count": null,
   "metadata": {
    "pycharm": {
     "name": "#%%\n"
    }
   },
   "outputs": [],
   "source": [
    "def let_them_live(population, config):\n",
    "    global stats_list\n",
    "    stats_list = list()\n",
    "\n",
    "    def _let_them_live(population, config, current_gen=0):\n",
    "        iterations = config['iterations']\n",
    "        if current_gen >= iterations:\n",
    "            return population\n",
    "        else:\n",
    "            if not config['print'] == \"none\":\n",
    "                clear_output(wait=True)\n",
    "            if config['print'] == \"all\" or config['print'] == \"stats\":\n",
    "                print(\n",
    "                    f\"Calculating generation {current_gen} of {iterations}\\t-\\t{round(current_gen / iterations * 100)}%\\t{'█' * round(50 * (current_gen / iterations))}{'░' * round(50 - (50 * (current_gen / iterations)))}\")\n",
    "                print(stats_list[-1] if stats_list else None)\n",
    "            if config['print'] == \"all\" or config['print'] == \"graph\":\n",
    "                plt.clf()\n",
    "                DataFrame(stats_list or [0]).plot(figsize=(15, 15))\n",
    "                plt.show()\n",
    "            return _let_them_live(advance_by_one_generation(population, config), config, current_gen + 1)\n",
    "\n",
    "    last_population = _let_them_live(population, config)\n",
    "    return last_population\n"
   ]
  },
  {
   "cell_type": "markdown",
   "metadata": {
    "pycharm": {
     "name": "#%% md\n"
    }
   },
   "source": [
    "Die folgende Funktion gibt die Merkmale des besten Chromosoms einer Population aus."
   ]
  },
  {
   "cell_type": "code",
   "execution_count": null,
   "metadata": {
    "pycharm": {
     "name": "#%%\n"
    }
   },
   "outputs": [],
   "source": [
    "def get_best_features(population):\n",
    "    return population[list(population)[0]]"
   ]
  },
  {
   "cell_type": "markdown",
   "metadata": {
    "pycharm": {
     "name": "#%% md\n"
    }
   },
   "source": [
    "Die folgende Funktion generiert eine Population mit den gegebenen Parametern und lässt diese für eine gegebene Anzahl\n",
    "and Generation \"leben\". Die Rueckgabewerte sind jeweils die optimierte Population sowie die Historie der Generationen."
   ]
  },
  {
   "cell_type": "code",
   "execution_count": null,
   "metadata": {
    "pycharm": {
     "name": "#%%\n"
    }
   },
   "outputs": [],
   "source": [
    "def get_optimized_population(config):\n",
    "    filename = f\"pop{config['population_size']}{'_' + str(config['feature_length'])}\" \\\n",
    "               f\"{'_random' if config['random_remove'] else ''}{'_' + config['sim_metric']}.json\"\n",
    "\n",
    "    if not os.path.isfile(filename):\n",
    "        population = get_random_population(config['population_size'], num_of_features=config['feature_length'], random=True)\n",
    "        optimized_population = let_them_live(population, config)\n",
    "        stats_list_temp = stats_list.copy()\n",
    "        save_model(optimized_population, stats_list, filename) if config['save'] else None\n",
    "    else:\n",
    "        optimized_population, stats_list_temp = load_model(filename)\n",
    "\n",
    "    return optimized_population, stats_list_temp"
   ]
  },
  {
   "cell_type": "markdown",
   "metadata": {
    "pycharm": {
     "name": "#%% md\n"
    }
   },
   "source": [
    "Nun werden die vorherigen Funktionen kombiniert, um eine Population mit den gegebenen Parametern zu optimieren.\n",
    "Um Rechenzeit zu sparen, wurde die Populationsgroesse auf 32 und die Paare pro Generation auf 5 beschraenkt.\n",
    "\n",
    "Um herauszufinden, ob es eine optimale Merkmalsanzahl gibt, wird sich der *random_remove* Eigenschaft bedient, welche\n",
    "in der *crossover*-Funktion implementiert wurde. Diese sorgt dafür, dass zufällige Merkmale entfernt werden können,\n",
    "sodass eine optimale Anzahl an Merkmalen gefunden werden kann. Diese Randomeness ist effizienter bzw. bringt sehr viel schneller vergleichbar gute Ergebnisse hervor wie der Prozess, verschiedenste Merkmalsanzahlen mit allen verfügbaren Merkmalskombinationen auszuprobieren."
   ]
  },
  {
   "cell_type": "code",
   "execution_count": null,
   "metadata": {
    "pycharm": {
     "name": "#%%\n"
    }
   },
   "outputs": [],
   "source": [
    "config_32_32_rand_cor = {\n",
    "    \"population_size\": 32,\n",
    "    \"mutation_probability\": 0.2,\n",
    "    \"pairings\": 5,\n",
    "    \"iterations\": 1000,\n",
    "    \"feature_length\": 32,\n",
    "    \"random_remove\": True,\n",
    "    \"sim_metric\": \"correlation\",\n",
    "    \"first_sections\": scaled_first_sections,\n",
    "    \"second_sections\": scaled_second_sections,\n",
    "    \"save\": True,\n",
    "    \"print\": True,\n",
    "}\n",
    "\n",
    "population_32_32_rand_cor, stats_32_32_rand_cor = get_optimized_population(config_32_32_rand_cor)\n",
    "\n",
    "print(stats_32_32_rand_cor[-1])\n",
    "DataFrame.from_dict(stats_32_32_rand_cor).plot(figsize=(15, 15))\n"
   ]
  },
  {
   "cell_type": "markdown",
   "metadata": {
    "pycharm": {
     "name": "#%% md\n"
    }
   },
   "source": [
    "Man kann erkennen, dass sich der Fitness-Durchschnitt logarithmisch an ungefähr 7.5 annähert.\n",
    "Gegeben der Fitness-Funktion $10 * (1 / middleRank)$, bedeutet dies, dass der mittlere Rang sich immer weiter von oben\n",
    "an 1 annähert.\n",
    "Ebenfalls ist gut zu erkennen, dass am Anfang Mutation schnell zu einer Verbesserung der Fitness-Werte führt. Im\n",
    "späteren Verlauf gibt es immer weniger Mutationen, die einen positiven Einfluss auf die Gesamtfitness haben.\n",
    "\n",
    "Man sieht, dass Chromosomen mit weniger Merkmalen eine höhere Fitness haben, da die Anzahl von Features über die Zeit abnimmt.\n",
    "Diese Erkenntnis kann man allerdings nur machen, wenn man die Funktion des zufälligen Löschens von Merkmalen bei der Kreuzung\n",
    "aktiviert. Ein stabiles Gleichgewicht scheint sich bei einer Merkmalsanzahl um 25 einzustellen.\n",
    "\n",
    "Man kann erkennen, das manchmal Merkmale zufällig gelöscht wurden, die sich als gut herausstellen. Das zeigt\n",
    "sich daran, dass die minimale Merkmalsanzahl manchmal wieder steigt, da das Chromosom mit dem gelöschten Merkmal keine\n",
    "bessere Fitness als der Rest vorweisen konnte.\n",
    "\n",
    "Um das ganze mit einer anderen Parameterwahl fuer den Algorithmus zu vergleichen, wird erneut eine Population traininert.\n",
    "Diesmal mit einer groesse von 16 und 2 Paarungen pro Generation."
   ]
  },
  {
   "cell_type": "code",
   "execution_count": null,
   "metadata": {
    "pycharm": {
     "name": "#%%\n"
    }
   },
   "outputs": [],
   "source": [
    "config_32_32_rand_euc = {\n",
    "    \"population_size\": 32,\n",
    "    \"mutation_probability\": 0.2,\n",
    "    \"pairings\": 5,\n",
    "    \"iterations\": 1000,\n",
    "    \"feature_length\": 32,\n",
    "    \"random_remove\": True,\n",
    "    \"sim_metric\": \"euclidean\",\n",
    "    \"first_sections\": scaled_first_sections,\n",
    "    \"second_sections\": scaled_second_sections,\n",
    "    \"save\": True,\n",
    "    \"print\": True,\n",
    "}\n",
    "\n",
    "population_32_32_rand_euc, stats_32_32_rand_euc = get_optimized_population(config_32_32_rand_euc)\n",
    "\n",
    "print(stats_32_32_rand_euc[-1])\n",
    "DataFrame.from_dict(stats_32_32_rand_euc).plot(figsize=(15, 15))\n"
   ]
  },
  {
   "cell_type": "code",
   "execution_count": null,
   "metadata": {
    "pycharm": {
     "name": "#%%\n"
    }
   },
   "outputs": [],
   "source": [
    "plot_data = [{\"fitness_average_correlation\": stats_32_32_rand_cor[i][\"fitness_average\"],\n",
    "              \"average_feature_length_correlation\": stats_32_32_rand_cor[i][\"average_feature_length\"],\n",
    "              \"fitness_average_euclidean\": stats_32_32_rand_euc[i][\"fitness_average\"],\n",
    "              \"average_feature_length_euclidean\": stats_32_32_rand_euc[i][\"average_feature_length\"]}\n",
    "             for i in range(len(stats_32_32_rand_euc))]\n",
    "\n",
    "DataFrame(plot_data).plot(figsize=(15, 15))"
   ]
  },
  {
   "cell_type": "markdown",
   "metadata": {
    "pycharm": {
     "name": "#%% md\n"
    }
   },
   "source": [
    "Wie man erkennen kann, startet die Population mit der *correlation* mit einer besseren Performance\n",
    "und steigt initial auch staerker an, allerdings wird sie relative schnell von der Population mit\n",
    "*euklidischen* eingeholt und ueberholt.\n",
    "Das widerspricht den Erwartungen aus Aufgabe 1. Dies kann daran liegen, dass der euklidische Algorithmus davon ausgeht, dass alle Dimensionen\n",
    "voneinander unabhängig sind. Dies ist in diesem Fall nicht gegeben, da Durchschnitte über unterschiedlich lange\n",
    "Sequenzen gebildet werden und sich somit überlagen, was dazu führt, dass die beiden Dimensionen nicht unabhängig sind.\n",
    "\n",
    "Dies bedeutet, dass die euklidische Ähnlichkeit niedriger ist und somit solche Dimensionen über die Zeit wegfallen,\n",
    "wodurch die Fitness-Funktion mehr reine Informationen zur Verfügung hat und bessere Ergebnisse produziert.\n",
    "Also, dass der *Euklidische* zwar schlechter anfaengt, aber sich ueber die Zeit schnell verbessert\n",
    "und dabei die Performance der *Correlation* uebertrifft.\n",
    "\n",
    "Deshalb werden fuer alle folgenden Population immer der *euklidische* Aehnlichkeits-Algorihmus verwendet.\n",
    "\n",
    "Siehe [hier](https://projecteuclid.org/journals/annals-of-statistics/volume-19/issue-4/Why-Least-Squares-and-Maximum-Entropy-An-Axiomatic-Approach-to/10.1214/aos/1176348385.full)"
   ]
  },
  {
   "cell_type": "markdown",
   "metadata": {
    "pycharm": {
     "name": "#%% md\n"
    }
   },
   "source": [
    "Um die bisher trainierten Population mit 32 Chromosomen einmal mit einer Population mit nur 16\n",
    "Chromosomen zu vergleichen, wird nun eine solche Population trainiert und mit der 32 chromosomigen Population\n",
    "mit dem *euklidischen* Algorithmus verglichen."
   ]
  },
  {
   "cell_type": "code",
   "execution_count": null,
   "outputs": [],
   "source": [
    "config = {\n",
    "    \"population_size\": 16,\n",
    "    \"mutation_probability\": 0.2,\n",
    "    \"pairings\": 5,\n",
    "    \"iterations\": 1000,\n",
    "    \"feature_length\": 32,\n",
    "    \"random_remove\": True,\n",
    "    \"sim_metric\": \"euclidean\",\n",
    "    \"first_sections\": scaled_first_sections,\n",
    "    \"second_sections\": scaled_second_sections,\n",
    "    \"save\": True,\n",
    "    \"print\": True,\n",
    "}\n",
    "\n",
    "population_16_32_rand, stats_16_32_rand = get_optimized_population(config)\n",
    "\n",
    "print(stats_16_32_rand[-1])\n",
    "DataFrame.from_dict(stats_16_32_rand).plot(figsize=(15, 15))"
   ],
   "metadata": {
    "collapsed": false,
    "pycharm": {
     "name": "#%%\n"
    }
   }
  },
  {
   "cell_type": "code",
   "execution_count": null,
   "metadata": {
    "pycharm": {
     "name": "#%%\n"
    }
   },
   "outputs": [],
   "source": [
    "plot_data = [{\"fitness_average_16\": stats_16_32_rand[i][\"fitness_average\"],\n",
    "              \"average_feature_length_16\": stats_16_32_rand[i][\"average_feature_length\"],\n",
    "              \"fitness_average_32\": stats_32_32_rand_euc[i][\"fitness_average\"],\n",
    "              \"average_feature_length_32\": stats_32_32_rand_euc[i][\"average_feature_length\"]}\n",
    "             for i in range(len(stats_16_32_rand))]\n",
    "\n",
    "DataFrame(plot_data).plot(figsize=(15, 15))"
   ]
  },
  {
   "cell_type": "markdown",
   "metadata": {
    "pycharm": {
     "name": "#%% md\n"
    }
   },
   "source": [
    "Man kann sehr gut erkennen, dass bei der 16 chrososomigen Population der Fitness-Durchschnitt um einiges schneller ansteigt,\n",
    "als bei der Population mit 32 Chromosomen. Das liegt daran, dass es relativ gesehen mehr Paarungen gibt, und somit\n",
    "schneller bessere Kombinationen von Merkmalen, und schneller unnoetige Merkmale geloescht werden.\n",
    "\n",
    "Dies fuehrt dazu, dass ueber 1000 Generationen ein besserer Fitness-Durchschnitt zustande kommt,\n",
    "da vor allem mehr Merkmale aus der Population entfernt wurden konnten, die dem Fitness-Durchschnitt\n",
    "nicht positiv beinflussen, und somit nur noch die informationsreichsten Merkmale bleiben."
   ]
  },
  {
   "cell_type": "markdown",
   "metadata": {
    "pycharm": {
     "name": "#%% md\n"
    }
   },
   "source": [
    "Fuer einen Vergleich der optimierten merkmalsunbeschraenkten Variante mit einer merkmalsbeschraenkten Variante wird nun\n",
    "noch einmal eine Population mit exakt 10 Merkmalen pro Chromosom trainiert, welche eine Vergleichswert liefern soll."
   ]
  },
  {
   "cell_type": "code",
   "execution_count": null,
   "metadata": {
    "pycharm": {
     "name": "#%%\n"
    }
   },
   "outputs": [],
   "source": [
    "config = {\n",
    "    \"population_size\": 16,\n",
    "    \"mutation_probability\": 0.2,\n",
    "    \"pairings\": 5,\n",
    "    \"iterations\": 1000,\n",
    "    \"feature_length\": 10,\n",
    "    \"random_remove\": False,\n",
    "    \"sim_metric\": \"euclidean\",\n",
    "    \"first_sections\": scaled_first_sections,\n",
    "    \"second_sections\": scaled_second_sections,\n",
    "    \"save\": True,\n",
    "    \"print\": True,\n",
    "}\n",
    "\n",
    "population_16_10, stats_16_10 = get_optimized_population(config)\n",
    "\n",
    "print(stats_16_10[-1])\n",
    "DataFrame.from_dict(stats_16_10).plot(figsize=(15, 15))"
   ]
  },
  {
   "cell_type": "markdown",
   "metadata": {
    "pycharm": {
     "name": "#%% md\n"
    }
   },
   "source": [
    "Um sich die Unterschiede genauer anschauen zu koenen, wird wieder ein Graph der die Durchschnitte der Population mit 16\n",
    "Chromosomen und eine variablen Anzahl an Merkmalen und der Population mit einer festen Anzahl von 10 Merkmalen geplottet."
   ]
  },
  {
   "cell_type": "code",
   "execution_count": null,
   "metadata": {
    "pycharm": {
     "name": "#%%\n"
    }
   },
   "outputs": [],
   "source": [
    "plot_data = [{\"fitness_average_16\": stats_16_32_rand[i][\"fitness_average\"],\n",
    "              \"average_featuer_length_16\": stats_16_32_rand[i][\"average_feature_length\"],\n",
    "              \"fitness_average_16_10_features\": stats_16_10[i][\"fitness_average\"],\n",
    "              \"average_featuer_length_16_10_features\": stats_16_10[i][\"average_feature_length\"]}\n",
    "             for i in range(len(stats_16_32_rand))]\n",
    "\n",
    "DataFrame(plot_data).plot(figsize=(15, 15))"
   ]
  },
  {
   "cell_type": "markdown",
   "metadata": {
    "pycharm": {
     "name": "#%% md\n"
    }
   },
   "source": [
    "Wie man hier sehr gut erkennen kann, steigt die Fitness der merkmalsbeschraenkten Population viel schneller an,\n",
    " als die der merkmalsunbeschraenkten Population.\n",
    "Das koennte daran liegen, dass es nicht so viele Merkmalskombinationen gibt, und falls eine neue Mutation entsteht, wird diese 1/10 der\n",
    "Merkmale austauschen, und somit die Fitness potentiell staerker beeinflussen, als wenn nur 1/25 der Merkmale ausgetauscht\n",
    "wird.\n",
    "\n",
    "Da es mehr als 10 wichtige Merkmale gibt, ist die merkmalsunbeschraenkte Population ueber einen laengeren\n",
    "Zeitraum besser, da mehr informationsreiche Merkmale gefunden werden koennen. Fuer kurze Trainings und schnelle\n",
    "Ergebnisse, sind wenig Merkmale allerdings sehr hilfreich."
   ]
  },
  {
   "cell_type": "markdown",
   "source": [
    "Um noch genauer ueber die Relation von Merkmalsanzahl zu Fitness-Durchschnitt zu erfahren, koennte man noch diverse andere\n",
    "Versuche durchfuehren, wie zum Beispiel jegliche Kombinationen aus Merkmalslaengen und Zufallsmerkmalen auszuprobieren.\n",
    "Auf dies wurde aber aus zeittechnischen Gruenden verzichtet."
   ],
   "metadata": {
    "collapsed": false,
    "pycharm": {
     "name": "#%% md\n"
    }
   }
  },
  {
   "cell_type": "markdown",
   "source": [
    "Fuer die weitere Verarbeitung werden nun die besten Merkmale in eine CSV Datei gespeichert.\n",
    "Die vorherhigen Versuche haben gezeigt, dass die Population mit 16 Chromosomen und variabler\n",
    "Merkmalsanzahl die beste Fitness bietet."
   ],
   "metadata": {
    "collapsed": false,
    "pycharm": {
     "name": "#%% md\n"
    }
   }
  },
  {
   "cell_type": "code",
   "execution_count": null,
   "outputs": [],
   "source": [
    "output_file = \"subFeaturesTrain1.csv\"\n",
    "\n",
    "best_population = population_16_32_rand\n",
    "df_best_feature_set = DataFrame(best_population[list(best_population)[0]], columns=[\"Best Features\"])\n",
    "df_best_feature_set.to_csv(output_file)\n",
    "df_best_feature_set"
   ],
   "metadata": {
    "collapsed": false,
    "pycharm": {
     "name": "#%%\n"
    }
   }
  },
  {
   "cell_type": "markdown",
   "metadata": {},
   "source": [
    "## Clustering und automatische Playlistgenerierung\n",
    "Implementieren Sie ein hierarchisches Clustering aller Subsequenzen in _subFeaturesTrain1.csv_. Diese _.csv_-Datei enthält nur die im vorigen Schritt ermittelten wichtigsten Merkmale. Das hierarchische Clustering ist in einem Dendrogram der Art wie in der unten gegebenen Abbildung zu visualisieren.\n",
    "\n",
    "Die gefundenen Cluster sind mit den zugehörigen Musiktiteln in der Konsole auszugeben. \n",
    "\n",
    "**Aufgaben:**\n",
    "\n",
    "1. Optimieren Sie die Parameter\n",
    "\n",
    "    1. metric (Ähnlichkeitsmaß)\n",
    "    2. linkage method\n",
    "    3. Clusteranzahl\n",
    "    \n",
    "2. Für welche Parameterkonstellation erlangen Sie das für Sie subjektiv betrachtet günstigste Ergebnis?\n",
    "3. Überlegen Sie sich Ansätze um diese Art der Musikgruppierung zu verbessern?\n",
    "\n",
    "<img src=\"https://maucher.home.hdm-stuttgart.de/Pics/playlistCluster.png\" style=\"width:500px\" align=\"center\">\n",
    "\n",
    "\n"
   ]
  },
  {
   "cell_type": "markdown",
   "source": [
    "Zuerst werden die besten Merkmale aus der CSV-Datei des vorherigen Versuchs geladen.\n",
    "Diese werden fuer den weiteren Verlauf des Clusterings verwendet."
   ],
   "metadata": {
    "collapsed": false,
    "pycharm": {
     "name": "#%% md\n"
    }
   }
  },
  {
   "cell_type": "code",
   "execution_count": null,
   "outputs": [],
   "source": [
    "input_file = \"subFeaturesTrain1.csv\"\n",
    "df_best_feature_set = pd.read_csv(input_file, index_col=0)\n",
    "df_best_feature_set"
   ],
   "metadata": {
    "collapsed": false,
    "pycharm": {
     "name": "#%%\n"
    }
   }
  },
  {
   "cell_type": "markdown",
   "source": [
    "Um einen besseren Ueberblick auf die Daten zu bekommen, werden nun einige Kombinationen von jeweils\n",
    "zwei Merkmalen ausgegeben. Dies kann als Basis fuer die Auswahl der Algorithmen in den\n",
    "Folgeschritten genutzt werden."
   ],
   "metadata": {
    "collapsed": false,
    "pycharm": {
     "name": "#%% md\n"
    }
   }
  },
  {
   "cell_type": "code",
   "execution_count": null,
   "metadata": {
    "pycharm": {
     "name": "#%%\n"
    }
   },
   "outputs": [],
   "source": [
    "features_to_use = df_best_feature_set[df_best_feature_set.columns[0]].tolist()\n",
    "print(features_to_use)\n",
    "[scaled_first_sections[[features_to_use[0], features_to_use[i]]].plot.scatter(x=features_to_use[0],\n",
    "                                                                              y=features_to_use[i])\n",
    " for i in range(1, 5)]"
   ]
  },
  {
   "cell_type": "markdown",
   "source": [
    "Erkennbar ist, dass es in den meisten Faellen keine wirklichen Zusammenhaenge zwischen den zwei\n",
    "Merkmalen gibt. Bei der letzten Ausgabe sieht man allerdings eine eindeutige lineare Abhaengigkeit.\n",
    "Da es sich den Vergleichsfeatures in diesem Falle um die Durchschnitte ueber unterschiedlich lange\n",
    "Sub-Sequenzen der jeweiligen Teilsequenz handelt (1000mean, 100mean), werden diese sich ueberschneiden.\n",
    "Dadurch koennen lineare Abhaengigkeiten entstehen, welche in dem Graph sehr gut deutlich werden."
   ],
   "metadata": {
    "collapsed": false,
    "pycharm": {
     "name": "#%% md\n"
    }
   }
  },
  {
   "cell_type": "markdown",
   "metadata": {
    "pycharm": {
     "name": "#%% md\n"
    }
   },
   "source": [
    "Bottom-Up Approach\n"
   ]
  },
  {
   "cell_type": "code",
   "execution_count": 337,
   "outputs": [],
   "source": [
    "def plot_dendrogram(model, **kwargs):\n",
    "\n",
    "    # Children of hierarchical clustering\n",
    "    children = model.children_\n",
    "\n",
    "    # Distances between each pair of children\n",
    "    # Since we don't have this information, we can use a uniform one for plotting\n",
    "    distance = np.arange(children.shape[0])\n",
    "\n",
    "    # The number of observations contained in each cluster level\n",
    "    no_of_observations = np.arange(2, children.shape[0]+2)\n",
    "\n",
    "    # Create linkage matrix and then plot the dendrogram\n",
    "    linkage_matrix = np.column_stack([children, distance, no_of_observations]).astype(float)\n",
    "\n",
    "    # Plot the corresponding dendrogram\n",
    "    plt.figure(figsize=(15, 15))\n",
    "    dendrogram(linkage_matrix, **kwargs)\n"
   ],
   "metadata": {
    "collapsed": false,
    "pycharm": {
     "name": "#%%\n"
    }
   }
  },
  {
   "cell_type": "code",
   "execution_count": 346,
   "outputs": [],
   "source": [
    "from sklearn.cluster import AgglomerativeClustering\n",
    "\n",
    "def get_trained_model(X, linkage_method, affinity, n_clusters):\n",
    "    model = AgglomerativeClustering(n_clusters=n_clusters, affinity=affinity, linkage=linkage_method)\n",
    "    trained_model = model.fit(X)\n",
    "    return trained_model"
   ],
   "metadata": {
    "collapsed": false,
    "pycharm": {
     "name": "#%%\n"
    }
   }
  },
  {
   "cell_type": "code",
   "execution_count": 347,
   "outputs": [],
   "source": [
    "def get_cluster_table(model, index):\n",
    "    return DataFrame(model.labels_, index=index, columns=[\"Cluster\"]).sort_values(by=\"Cluster\")"
   ],
   "metadata": {
    "collapsed": false,
    "pycharm": {
     "name": "#%%\n"
    }
   }
  },
  {
   "cell_type": "code",
   "execution_count": 348,
   "outputs": [
    {
     "data": {
      "text/plain": "                                                    Cluster\nGarrett\\03 Clair de Lune 1.mp3                            0\nGarrett\\02 Who Wants to Live Forever_ 1.mp3               0\nRageAgainstTheMachine\\09 Township Rebellion.mp3           0\nGarrett\\04 He's a Pirate (Pirates of the Car 1.mp3        0\nGarrett\\05 Summertime 1.mp3                               0\nGarrett\\09 O Mio Babbino Caro 1.mp3                       0\nGarrett\\10 Air.mp3                                        0\nGarrett\\11 Thunderstruck.mp3                              0\nGarrett\\12 New Day.mp3                                    0\nGarrett\\14 Rock Prelude.mp3                               0\nGarrett\\16 Little Wing.mp3                                0\nLanaDelRey\\03 Blue Jeans (Remastered).mp3                 0\nRageAgainstTheMachine\\01 Bombtrack.mp3                    0\nRageAgainstTheMachine\\02 Killing In the Name.mp3          0\nRageAgainstTheMachine\\03 Take the Power Back.mp3          0\nRageAgainstTheMachine\\04 Settle for Nothing.mp3           0\nRageAgainstTheMachine\\05 Bullet In the Head.mp3           0\nRageAgainstTheMachine\\06 Know Your Enemy.mp3              0\nRageAgainstTheMachine\\07 Wake Up.mp3                      0\nRageAgainstTheMachine\\08 Fistful of Steel.mp3             0\nGarrett\\01 Smooth Criminal 1.mp3                          0\nBeastieBoys\\15 Fight for Your Right.mp3                   0\nRageAgainstTheMachine\\10 Freedom.mp3                      0\nBeastieBoys\\04 No Sleep Till Brooklyn.mp3                 0\nAdele\\01 Hometown Glory.mp3                               1\nAdele\\13 Chasing Pavements.mp3                            1\nAdele\\14 I Can't Make You Love Me.mp3                     1\nAdele\\15 Make You Feel My Love.mp3                        1\nAdele\\16 Someone Like You.mp3                             1\nAdele\\17 Rolling In The Deep.mp3                          1\nAdele\\09 Rumour Has It.mp3                                1\nAdele\\11 One And Only.mp3                                 1\nAdele\\06 If It Hadn't Been For Love.mp3                   1\nAdele\\05 Set Fire To The Rain.mp3                         1\nAdele\\04 Turning Tables.mp3                               1\nAdele\\03 Don't You Remember.mp3                           1\nAdele\\02 I'll Be Waiting.mp3                              1\nAdele\\08 Take It All.mp3                                  1\nLanaDelRey\\09 Carmen.mp3                                  2\nLanaDelRey\\12 This Is What Makes Us Girls.mp3             2\nLanaDelRey\\11 Summertime Sadness.mp3                      2\nLanaDelRey\\10 Million Dollar Man.mp3                      2\nLanaDelRey\\08 Radio.mp3                                   2\nLanaDelRey\\04 Video Games (Remastered).mp3                2\nLanaDelRey\\05 Diet Mountain Dew.mp3                       2\nAdele\\12 Lovesong.mp3                                     2\nLanaDelRey\\01 Born to Die.mp3                             2\nBeastieBoys\\01 So What'cha Want.mp3                       2\nBeastieBoys\\08 Root Down.mp3                              2\nBeastieBoys\\12 Body Movin' (Fatboy Slim Remix).mp3        2\nBeastieBoys\\11 Sure Shot.mp3                              2\nLanaDelRey\\06 National Anthem.mp3                         2\nBeastieBoys\\09 Shake Your Rump.mp3                        3\nBeastieBoys\\05 Hey Ladies.mp3                             3\nLanaDelRey\\07 Dark Paradise.mp3                           4\nLanaDelRey\\02 Off to the Races.mp3                        4\nBeastieBoys\\03 Ch-Check It Out.mp3                        4\nBeastieBoys\\06 Pass the Mic.mp3                           4\nBeastieBoys\\07 An Open Letter to NYC.mp3                  4\nBeastieBoys\\10 Intergalactic.mp3                          4",
      "text/html": "<div>\n<style scoped>\n    .dataframe tbody tr th:only-of-type {\n        vertical-align: middle;\n    }\n\n    .dataframe tbody tr th {\n        vertical-align: top;\n    }\n\n    .dataframe thead th {\n        text-align: right;\n    }\n</style>\n<table border=\"1\" class=\"dataframe\">\n  <thead>\n    <tr style=\"text-align: right;\">\n      <th></th>\n      <th>Cluster</th>\n    </tr>\n  </thead>\n  <tbody>\n    <tr>\n      <th>Garrett\\03 Clair de Lune 1.mp3</th>\n      <td>0</td>\n    </tr>\n    <tr>\n      <th>Garrett\\02 Who Wants to Live Forever_ 1.mp3</th>\n      <td>0</td>\n    </tr>\n    <tr>\n      <th>RageAgainstTheMachine\\09 Township Rebellion.mp3</th>\n      <td>0</td>\n    </tr>\n    <tr>\n      <th>Garrett\\04 He's a Pirate (Pirates of the Car 1.mp3</th>\n      <td>0</td>\n    </tr>\n    <tr>\n      <th>Garrett\\05 Summertime 1.mp3</th>\n      <td>0</td>\n    </tr>\n    <tr>\n      <th>Garrett\\09 O Mio Babbino Caro 1.mp3</th>\n      <td>0</td>\n    </tr>\n    <tr>\n      <th>Garrett\\10 Air.mp3</th>\n      <td>0</td>\n    </tr>\n    <tr>\n      <th>Garrett\\11 Thunderstruck.mp3</th>\n      <td>0</td>\n    </tr>\n    <tr>\n      <th>Garrett\\12 New Day.mp3</th>\n      <td>0</td>\n    </tr>\n    <tr>\n      <th>Garrett\\14 Rock Prelude.mp3</th>\n      <td>0</td>\n    </tr>\n    <tr>\n      <th>Garrett\\16 Little Wing.mp3</th>\n      <td>0</td>\n    </tr>\n    <tr>\n      <th>LanaDelRey\\03 Blue Jeans (Remastered).mp3</th>\n      <td>0</td>\n    </tr>\n    <tr>\n      <th>RageAgainstTheMachine\\01 Bombtrack.mp3</th>\n      <td>0</td>\n    </tr>\n    <tr>\n      <th>RageAgainstTheMachine\\02 Killing In the Name.mp3</th>\n      <td>0</td>\n    </tr>\n    <tr>\n      <th>RageAgainstTheMachine\\03 Take the Power Back.mp3</th>\n      <td>0</td>\n    </tr>\n    <tr>\n      <th>RageAgainstTheMachine\\04 Settle for Nothing.mp3</th>\n      <td>0</td>\n    </tr>\n    <tr>\n      <th>RageAgainstTheMachine\\05 Bullet In the Head.mp3</th>\n      <td>0</td>\n    </tr>\n    <tr>\n      <th>RageAgainstTheMachine\\06 Know Your Enemy.mp3</th>\n      <td>0</td>\n    </tr>\n    <tr>\n      <th>RageAgainstTheMachine\\07 Wake Up.mp3</th>\n      <td>0</td>\n    </tr>\n    <tr>\n      <th>RageAgainstTheMachine\\08 Fistful of Steel.mp3</th>\n      <td>0</td>\n    </tr>\n    <tr>\n      <th>Garrett\\01 Smooth Criminal 1.mp3</th>\n      <td>0</td>\n    </tr>\n    <tr>\n      <th>BeastieBoys\\15 Fight for Your Right.mp3</th>\n      <td>0</td>\n    </tr>\n    <tr>\n      <th>RageAgainstTheMachine\\10 Freedom.mp3</th>\n      <td>0</td>\n    </tr>\n    <tr>\n      <th>BeastieBoys\\04 No Sleep Till Brooklyn.mp3</th>\n      <td>0</td>\n    </tr>\n    <tr>\n      <th>Adele\\01 Hometown Glory.mp3</th>\n      <td>1</td>\n    </tr>\n    <tr>\n      <th>Adele\\13 Chasing Pavements.mp3</th>\n      <td>1</td>\n    </tr>\n    <tr>\n      <th>Adele\\14 I Can't Make You Love Me.mp3</th>\n      <td>1</td>\n    </tr>\n    <tr>\n      <th>Adele\\15 Make You Feel My Love.mp3</th>\n      <td>1</td>\n    </tr>\n    <tr>\n      <th>Adele\\16 Someone Like You.mp3</th>\n      <td>1</td>\n    </tr>\n    <tr>\n      <th>Adele\\17 Rolling In The Deep.mp3</th>\n      <td>1</td>\n    </tr>\n    <tr>\n      <th>Adele\\09 Rumour Has It.mp3</th>\n      <td>1</td>\n    </tr>\n    <tr>\n      <th>Adele\\11 One And Only.mp3</th>\n      <td>1</td>\n    </tr>\n    <tr>\n      <th>Adele\\06 If It Hadn't Been For Love.mp3</th>\n      <td>1</td>\n    </tr>\n    <tr>\n      <th>Adele\\05 Set Fire To The Rain.mp3</th>\n      <td>1</td>\n    </tr>\n    <tr>\n      <th>Adele\\04 Turning Tables.mp3</th>\n      <td>1</td>\n    </tr>\n    <tr>\n      <th>Adele\\03 Don't You Remember.mp3</th>\n      <td>1</td>\n    </tr>\n    <tr>\n      <th>Adele\\02 I'll Be Waiting.mp3</th>\n      <td>1</td>\n    </tr>\n    <tr>\n      <th>Adele\\08 Take It All.mp3</th>\n      <td>1</td>\n    </tr>\n    <tr>\n      <th>LanaDelRey\\09 Carmen.mp3</th>\n      <td>2</td>\n    </tr>\n    <tr>\n      <th>LanaDelRey\\12 This Is What Makes Us Girls.mp3</th>\n      <td>2</td>\n    </tr>\n    <tr>\n      <th>LanaDelRey\\11 Summertime Sadness.mp3</th>\n      <td>2</td>\n    </tr>\n    <tr>\n      <th>LanaDelRey\\10 Million Dollar Man.mp3</th>\n      <td>2</td>\n    </tr>\n    <tr>\n      <th>LanaDelRey\\08 Radio.mp3</th>\n      <td>2</td>\n    </tr>\n    <tr>\n      <th>LanaDelRey\\04 Video Games (Remastered).mp3</th>\n      <td>2</td>\n    </tr>\n    <tr>\n      <th>LanaDelRey\\05 Diet Mountain Dew.mp3</th>\n      <td>2</td>\n    </tr>\n    <tr>\n      <th>Adele\\12 Lovesong.mp3</th>\n      <td>2</td>\n    </tr>\n    <tr>\n      <th>LanaDelRey\\01 Born to Die.mp3</th>\n      <td>2</td>\n    </tr>\n    <tr>\n      <th>BeastieBoys\\01 So What'cha Want.mp3</th>\n      <td>2</td>\n    </tr>\n    <tr>\n      <th>BeastieBoys\\08 Root Down.mp3</th>\n      <td>2</td>\n    </tr>\n    <tr>\n      <th>BeastieBoys\\12 Body Movin' (Fatboy Slim Remix).mp3</th>\n      <td>2</td>\n    </tr>\n    <tr>\n      <th>BeastieBoys\\11 Sure Shot.mp3</th>\n      <td>2</td>\n    </tr>\n    <tr>\n      <th>LanaDelRey\\06 National Anthem.mp3</th>\n      <td>2</td>\n    </tr>\n    <tr>\n      <th>BeastieBoys\\09 Shake Your Rump.mp3</th>\n      <td>3</td>\n    </tr>\n    <tr>\n      <th>BeastieBoys\\05 Hey Ladies.mp3</th>\n      <td>3</td>\n    </tr>\n    <tr>\n      <th>LanaDelRey\\07 Dark Paradise.mp3</th>\n      <td>4</td>\n    </tr>\n    <tr>\n      <th>LanaDelRey\\02 Off to the Races.mp3</th>\n      <td>4</td>\n    </tr>\n    <tr>\n      <th>BeastieBoys\\03 Ch-Check It Out.mp3</th>\n      <td>4</td>\n    </tr>\n    <tr>\n      <th>BeastieBoys\\06 Pass the Mic.mp3</th>\n      <td>4</td>\n    </tr>\n    <tr>\n      <th>BeastieBoys\\07 An Open Letter to NYC.mp3</th>\n      <td>4</td>\n    </tr>\n    <tr>\n      <th>BeastieBoys\\10 Intergalactic.mp3</th>\n      <td>4</td>\n    </tr>\n  </tbody>\n</table>\n</div>"
     },
     "execution_count": 348,
     "metadata": {},
     "output_type": "execute_result"
    }
   ],
   "source": [
    "trained_model = get_trained_model(scaled_first_sections[features_to_use], \"ward\", \"euclidean\", 5)\n",
    "get_cluster_table(trained_model, index)"
   ],
   "metadata": {
    "collapsed": false,
    "pycharm": {
     "name": "#%%\n"
    }
   }
  },
  {
   "cell_type": "code",
   "execution_count": 338,
   "outputs": [
    {
     "data": {
      "text/plain": "<Figure size 1080x1080 with 1 Axes>",
      "image/png": "[encoded data removed]"
     },
     "metadata": {
      "needs_background": "light"
     },
     "output_type": "display_data"
    }
   ],
   "source": [
    "plot_dendrogram(trained_model, labels=index, orientation=\"right\")"
   ],
   "metadata": {
    "collapsed": false,
    "pycharm": {
     "name": "#%%\n"
    }
   }
  },
  {
   "cell_type": "markdown",
   "metadata": {},
   "source": [
    "Warum sind cluster auf drei gestellt."
   ]
  },
  {
   "cell_type": "markdown",
   "metadata": {},
   "source": [
    "### Annahmen:\n",
    "\n",
    "Zur Überlegung, welche Linkeage und Metrik ideal ist stellen wir einige Annahmen auf:\n",
    "1. Alle Songs sollen zugewiesen werden\n",
    "2. Die Playlisten müssen nicht unbedingt gleich groß sein, aber sehr kleine Playlisten sind unerwünscht. \n",
    "3. In einer Playlist sollte es mehrere Lieder von einem Artist geben (bestätigung der Ähnlichkeit)"
   ]
  },
  {
   "cell_type": "code",
   "execution_count": null,
   "metadata": {
    "pycharm": {
     "name": "#%%\n"
    }
   },
   "outputs": [],
   "source": [
    "#Linkage Matrix\n",
    "Z = linkage(scaled_first_sections, method=\"ward\", metric='euclidean')\n",
    "print(Z[:10])\n",
    "#plotting dendrogram\n",
    "plt.figure(figsize=(15, 15))\n",
    "dendro = dendrogram(Z, orientation=\"right\", labels=index)\n",
    "plt.title('Dendrogram')\n",
    "plt.ylabel('Euclidean distance')\n",
    "plt.show()"
   ]
  },
  {
   "cell_type": "code",
   "execution_count": 339,
   "metadata": {},
   "outputs": [
    {
     "name": "stdout",
     "output_type": "stream",
     "text": [
      "[[11.   12.    8.89  2.  ]\n",
      " [ 3.   13.   10.35  2.  ]\n",
      " [ 2.    4.   12.19  2.  ]\n",
      " [ 7.   14.   13.46  2.  ]\n",
      " [ 0.   60.   15.43  3.  ]\n",
      " [ 1.    8.   15.59  2.  ]\n",
      " [50.   56.   17.24  2.  ]\n",
      " [51.   55.   18.42  2.  ]\n",
      " [57.   58.   18.53  2.  ]\n",
      " [38.   48.   19.18  2.  ]]\n"
     ]
    },
    {
     "data": {
      "text/plain": "<Figure size 1080x1080 with 1 Axes>",
      "image/png": "[encoded data removed]"
     },
     "metadata": {
      "needs_background": "light"
     },
     "output_type": "display_data"
    }
   ],
   "source": [
    "from sklearn.cluster import AgglomerativeClustering\n",
    "\n",
    "agg_clustering = AgglomerativeClustering(n_clusters=3, affinity='cityblock', linkage='complete')\n",
    "trained_model = agg_clustering.fit(scaled_first_sections[features_to_use])\n",
    "labels.labels_\n",
    "\n",
    "#Linkage Matrix\n",
    "Z = linkage(scaled_first_sections, metric='cityblock', method=\"complete\")\n",
    "print(Z[:10])\n",
    "#plotting dendrogram\n",
    "plt.figure(figsize=(15, 15))\n",
    "dendro = dendrogram(Z, orientation=\"right\", labels=index)\n",
    "plt.title('Dendrogram')\n",
    "plt.ylabel('Euclidean distance')\n",
    "plt.show()"
   ]
  },
  {
   "cell_type": "code",
   "execution_count": null,
   "metadata": {},
   "outputs": [],
   "source": [
    "#Linkage Matrix\n",
    "Z = linkage(scaled_first_sections, method=\"average\", metric='euclidean')\n",
    "print(Z[:10])\n",
    "#plotting dendrogram\n",
    "plt.figure(figsize=(15, 15))\n",
    "dendro = dendrogram(Z, orientation=\"right\", labels=index)\n",
    "plt.title('Dendrogram')\n",
    "plt.ylabel('Euclidean distance')\n",
    "plt.show()"
   ]
  },
  {
   "cell_type": "code",
   "execution_count": null,
   "metadata": {},
   "outputs": [],
   "source": [
    "#Linkage Matrix\n",
    "Z = linkage(scaled_first_sections, method=\"complete\", metric='euclidean')\n",
    "print(Z[:10])\n",
    "#plotting dendrogram\n",
    "plt.figure(figsize=(15, 15))\n",
    "dendro = dendrogram(Z, orientation=\"right\", labels=index)\n",
    "plt.title('Dendrogram')\n",
    "plt.ylabel('Euclidean distance')\n",
    "plt.show()"
   ]
  },
  {
   "cell_type": "markdown",
   "metadata": {},
   "source": [
    "Complete mit Eklid bringt nicht die gewünschten Ergebnisse hervor. Die könnte daran liegen, dass complete mit einer Abstandsmethode kombiniert werden sollte, die die Streuung normiert oder begrenzt. Euklid ist daher nicht geeignet. Das Manhatten-Ähnlichkeitsmaß kann ausgeschlossen werden, da es Streuung noch höher gewichtet als Euklid. Deshalb wird im Folgenden das Cosinus-Ähnlichkeitsmaß im Verbund mit der Complete-Metrik getestet."
   ]
  },
  {
   "cell_type": "code",
   "execution_count": null,
   "metadata": {},
   "outputs": [],
   "source": [
    "from sklearn.cluster import AgglomerativeClustering\n",
    "\n",
    "agg_clustering = AgglomerativeClustering(n_clusters=3, affinity='cosine', linkage='complete')\n",
    "labels = agg_clustering.fit(scaled_first_sections[features_to_use])\n",
    "labels.labels_\n",
    "\n",
    "#Linkage Matrix\n",
    "Z = linkage(scaled_first_sections, metric='cosine', method=\"complete\")\n",
    "print(Z[:10])\n",
    "#plotting dendrogram\n",
    "plt.figure(figsize=(15, 15))\n",
    "dendro = dendrogram(Z, orientation=\"right\", labels=index)\n",
    "plt.title('Dendrogram')\n",
    "plt.ylabel('Euclidean distance')\n",
    "plt.show()"
   ]
  },
  {
   "cell_type": "markdown",
   "metadata": {},
   "source": [
    "Complete funktioniert mit cosine deutlich besser, jedoch ist das clustering fraglich, da Bands mit sehr spezifischem Sound auf ihren Alben in jeder oder zumindest mehreren Playlisten vorkommen. Im Vergleich bevorzugen wir die Kombination aus Ward und Euclid. Die Nachteile der Cosinus Metrik werden größer, wenn man ein Matching benutzt, dass mehr auf Ausreißer achtet. Es lässt sich darauf schließen, dass es bei single und average noch schlechter abschneidet. "
   ]
  },
  {
   "cell_type": "code",
   "execution_count": null,
   "metadata": {},
   "outputs": [],
   "source": [
    "from sklearn.cluster import AgglomerativeClustering\n",
    "\n",
    "agg_clustering = AgglomerativeClustering(n_clusters=3, affinity='cosine', linkage='complete')\n",
    "labels = agg_clustering.fit(scaled_first_sections[features_to_use])\n",
    "labels.labels_\n",
    "\n",
    "#Linkage Matrix\n",
    "Z = linkage(scaled_first_sections, metric='cosine', method=\"complete\")\n",
    "print(Z[:10])\n",
    "#plotting dendrogram\n",
    "plt.figure(figsize=(15, 15))\n",
    "dendro = dendrogram(Z, orientation=\"right\", labels=index)\n",
    "plt.title('Dendrogram')\n",
    "plt.ylabel('Euclidean distance')\n",
    "plt.show()"
   ]
  },
  {
   "cell_type": "code",
   "execution_count": null,
   "metadata": {},
   "outputs": [],
   "source": [
    "#Linkage Matrix\n",
    "Z = linkage(scaled_first_sections, metric='cosine', method=\"average\")\n",
    "print(Z[:10])\n",
    "#plotting dendrogram\n",
    "plt.figure(figsize=(15, 15))\n",
    "dendro = dendrogram(Z, orientation=\"right\", labels=index)\n",
    "plt.title('Dendrogram')\n",
    "plt.ylabel('Euclidean distance')\n",
    "plt.show()"
   ]
  },
  {
   "cell_type": "code",
   "execution_count": null,
   "metadata": {},
   "outputs": [],
   "source": [
    "\n",
    "#Linkage Matrix\n",
    "Z = linkage(scaled_first_sections, metric='cityblock', method=\"complete\")\n",
    "print(Z[:10])\n",
    "#plotting dendrogram\n",
    "plt.figure(figsize=(15, 15))\n",
    "dendro = dendrogram(Z, orientation=\"right\", labels=index)\n",
    "plt.title('Dendrogram')\n",
    "plt.ylabel('Euclidean distance')\n",
    "plt.show()"
   ]
  },
  {
   "cell_type": "markdown",
   "metadata": {},
   "source": [
    "Bei verschiedenen Kombinationen lässt sich beobachten, dass sehr unterschiedliche Ergebnisse ausgegeben werden. Cityblock/complete teilt stark nach Artists ein, hat aber eine Playlist mit nur 2 Songs. Überraschend praktikabel ist das ergebnis von Cosine&complete, es werden gleichmäßige Playlisten ausgegeben und diese sind größtenteils, aber nicht strikt nach artist sortiert. Ein wenig fraglich ist jedoch nur die angebliche Ähnlichkeit von Beastie Boys und Lana del Rey.\n",
    "\n",
    "Überzeugend ist auch das Ergebnis von Ward/euklid, jedoch ist es unerwünscht, dass nur 2 Songs in einer Playlist sind, die bei anderen Metriken oder Linkeage typen in anderen Playlisten unterkommen. Euklid gibt mit anderen Linkeage Typen unerwünschte Ergebnisse, es werden nicht alle Songs zugewiesen.\n"
   ]
  }
 ],
 "metadata": {
  "kernelspec": {
   "name": "mi-lab-ss21",
   "language": "python",
   "display_name": "mi-lab-ss21"
  },
  "language_info": {
   "codemirror_mode": {
    "name": "ipython",
    "version": 3
   },
   "file_extension": ".py",
   "mimetype": "text/x-python",
   "name": "python",
   "nbconvert_exporter": "python",
   "pygments_lexer": "ipython3",
   "version": "3.8.5"
  },
  "nav_menu": {},
  "toc": {
   "navigate_menu": true,
   "number_sections": true,
   "sideBar": true,
   "threshold": 6,
   "toc_cell": false,
   "toc_section_display": "block",
   "toc_window_display": false
  }
 },
 "nbformat": 4,
 "nbformat_minor": 1
}