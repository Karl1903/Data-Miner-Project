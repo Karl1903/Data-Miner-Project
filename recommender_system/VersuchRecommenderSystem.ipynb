{
 "cells": [
  {
   "cell_type": "markdown",
   "metadata": {},
   "source": [
    "#### Data Mining Versuch Recommender Systeme\n",
    "\n",
    "* Autor: Prof. Dr. Johannes Maucher\n",
    "* Datum: 30.09.2015\n",
    "\n",
    "[Übersicht Ipython Notebooks im Data Mining Praktikum](Data Mining Praktikum.ipynb)\n",
    "\n",
    "\n",
    "# Einführung\n",
    "## Lernziele:\n",
    "In diesem Versuch sollen Kenntnisse in folgenden Themen vermittelt werden:\n",
    "\n",
    "* __Ähnlichkeit:__ Verfahren zur Bestimmung der Ähnlichkeit zwischen Personen (Kunden) und Elementen (Produkten)\n",
    "* __Empfehlungssysteme__ Collaborative Filtering \n",
    "* __Collaborative Filtering:__ Nutzerbezogener Ansatz und elementbasierter Ansatz\n",
    "\n",
    "Sämtliche Verfahren und Algorithmen werden in Python implementiert.\n",
    "\n",
    "## Theorie zur Vorbereitung\n",
    "### Recommender Systeme\n",
    "Recommender Systeme werden im E-Commerce eingesetzt um Werbung in Form von kundenspezifischen Empfehlungen zu verteilen. Weitläufig bekannt sind die Amazon-Empfehlungen, die entweder per e-mail geschickt oder nach dem Log-In in der Web-Page angezeigt werden. Diese Empfehlungen werden in Abhängigkeit von den bisher vom jeweiligen Kunden gekauften bzw. bewerteten Produkten erstellt. In diesem Versuch werden die derzeit wohl am weitest verbreiteteten Verfahren für die Erzeugung kundenspezifischer Empfehlungen vorgestellt, darunter das elementweise Collaborative Filtering, welches z.B. auch von Amazon eingesetzt wird.     \n",
    "\n",
    "Direkt-Marketing Methoden wie die kundenspezifische Erzeugung und Bereitstellung von Werbung erfordern detaillierte Kunden- und Warenkorbanalysen. Kunden mit ähnlichem Kaufverhalten werden in Kundengruppen zusammengefasst. Die Warenkorbanalyse untersucht u.a. welche Waren bevorzugt im Verbund von der gleichen Person gekauft werden. Damit kann ein Händler Werbung in Form von Empfehlungen individuell und gezielt an seine Kunden richten, abhängig davon welcher Kundengruppe er angehört und welche Produkte bevorzugt von dieser Kundengruppe nachgefragt werden. \n",
    "\n",
    "Im ersten Teil der Übung werden fiktive Daten in einer überschaubaren Menge verwendet. Es handelt sich hier um Filmbewertungen. Anhand dieses Beispiels sollen die notwendigen Methoden und Abläufe implementiert und getestet werden. Diese werden im zweiten Teil der Übung auf echte Daten angewandt. Hierzu werden über eine Python-API Daten vom Internet-Meta-Radio _last.fm_ integriert. Auf der Basis dieser Daten sollen dann Musikempfehlungen für last.fm User berechnet werden. \n",
    "\n",
    "Recommender Systeme lassen sich mit\n",
    "\n",
    "* Clustering Verfahren\n",
    "* Suchalgorithmen\n",
    "* Collaborativen Filtering \n",
    " \n",
    "realisieren. Am häufigsten wird hierbei das Collaborative Filtering eingesetzt. Für das Collaborative Filtering wird jeder der $M$ User durch einen $N$-dimensionalen Vektor beschrieben, wobei $N$ die Anzahl der Produkte im Angebot des Händlers ist. Jedes Element im Vektor gehört zu einem speziellen Produkt. Das Element hat den Wert 1, wenn der User dieses Produkt bereits gekauft hat, sonst 0 (andere Wertbelegungen sind möglich, z.B. wenn Produktbewertungen vorliegen). Alle $M$ Zeilenvektoren können zur _User/Item_ Matrix zusammengefasst werden (siehe Abbildung).\n",
    "\n",
    "\n",
    "<img src=\"https://maucher.home.hdm-stuttgart.de/Pics/UserItemMatrix.png\" style=\"width:500px\" align=\"center\">"
   ]
  },
  {
   "cell_type": "markdown",
   "metadata": {},
   "source": [
    "Das traditionelle **userbasierte Collaborative Filtering (UCF)**, benutzt die Ähnlichkeit zwischen Benutzern: Um für User $U_i$ eine Empfehlung zu erzeugen wird zunächst der diesem User ähnlichste Kunde (oder eine Menge vom ähnlichsten Kunden) ermittelt. Dann werden $U_i$ die Produkte (Items) empfohlen, welche der ähnlichste Kunde gekauft hat, $U_i$ selbst jedoch noch nicht. \n",
    "\n",
    "Dieser Ansatz skaliert schlecht im Fall sehr großer _User/Item_-Matrizen. Ausserdem ist er für User, welche erst wenige Produkte gekauft haben unzuverlässig. Besser eignet sich in diesen Fällen das **itembasierte Collaborative Filtering (ICF)**. Es wird u.a. von Amazon.com eingesetzt. Diese Variante benutzt die Ähnlichkeit zwischen Produkten (Items). Dabei sind Produkte umso ähnlicher je mehr Kunden diese Produkte gemeinsam gekauft haben. Für die Produkte welche ein Referenzuser $U_i$ bereits gekauft hat, werden die ähnlichsten Produkte ermittelt. Diese ähnlichsten Produkte werden $U_i$ empfohlen, wenn er sie nicht schon selbst gekauft hat.\n",
    "\n",
    "Im folgenden Abschnitt werden einige gebräuchliche Metriken für die Berechnung der Ähnlichkeit zwischen Benutzern oder Artikeln vorgestellt. Für Collaboratives Filtering wird sehr häufig das Cosinus - Ähnlichkeitsmaß eingesetzt.\n"
   ]
  },
  {
   "cell_type": "markdown",
   "metadata": {},
   "source": [
    "### Gebräuchliche Ähnlichkeitsmaße\n",
    "\n",
    "Die __euklidische Distanz__ $d_E(\\underline{a},\\underline{b})$ zwischen zwei n-dimensionalen Vektoren $\\underline{a}=(a_1,\\ldots,a_n)$ und $\\underline{b}=(b_1,\\ldots,b_n)$ berechnet sich zu\n",
    "\t$$\n",
    "\td_E(\\underline{a},\\underline{b})=\\sqrt{\\sum_{i=1}^n (a_i-b_i)^2}\n",
    "\t$$\n",
    "Zwei Vektoren können als umso ähnlicher erachtet werden, je kleiner deren euklidische Distanz ist. \n",
    "Ein auf der euklidischen Metrik basierendes Ähnlichkeitsmaß zwischen zwei Vektoren $\\underline{a}$ und $\\underline{b}$ kann durch \n",
    "$$\n",
    "s_E(\\underline{a},\\underline{b})=\\frac{1}{1+d_E(\\underline{a},\\underline{b})}\n",
    "$$\n",
    "angegeben werden.\n",
    "\n",
    "\n",
    "__Pearson Korrelation__\n",
    "Die Ähnlichkeit zwischen zwei Vektoren kann auch durch den Pearson-Korrelationskoeffizient $\\rho_{\\underline{a},\\underline{b}}$ ausgedrückt werden. Er berechnet sich zu\n",
    "$$\n",
    "\\rho_{\\underline{a},\\underline{b}}= \\frac{1}{N}\\cdot \\sum\\limits_{i=1}^{N}\\frac{(a_i-\\overline{a})}{\\sigma_a} \\frac{(b_i-\\overline{b})}{\\sigma_b}\n",
    "$$\n",
    "Dabei bezeichnet $N$ die Länge der Vektoren, $\\overline{a}$ den Mittelwert und $\\sigma_a$ die Standardabweichung des Vektors $\\underline{a}$. \n",
    "\n",
    "Der Pearson-Korrelationskoeffizient misst die lineare Abhängigkeit zwischen zwei Vektoren. Der maximale Wert von $+1$ wird erreicht, wenn die durch die beiden Vektoren definierten N Punkte im 2-dimensionalen Raum auf einer ansteigenden Geraden liegen. Der Minimalwert von $-1$ wird erreicht, wenn die Punkte auf einer abfallenden Geraden liegen. Der Betrag des Koeffizienten ist umso kleiner, je stärker die Punkte von einer fiktiven Geraden (kann durch lineare Regression berechnet werden) abweichen. Der Koeffizient ist $0$ wenn keine lineare Abhängigkeit zwischen den Vektoren besteht.\n",
    "\n",
    "\n",
    "__Cosinus Ähnlichkeitsmaß__\n",
    "Die Ähnlichkeit zwischen zwei Vektoren kann auch durch den Cosinus $\\cos(\\underline{a},\\underline{b})$ ausgedrückt werden. Er berechnet sich zu\n",
    "$$\n",
    "\\cos(\\underline{a},\\underline{b})= \\frac{\\underline{a} \\cdot \\underline{b}}{\\left\\|\\underline{a}\\right\\|\\cdot \\left\\|\\underline{b}\\right\\|}\n",
    "$$\n",
    "wobei im Zähler das Skalarprodukt der beiden Vektoren steht und mit $\\left\\|\\underline{x}\\right\\|$ der Betrag des Vektors $\\underline{x}$ bezeichnet wird.\n",
    "\n",
    "Falls die Vektoren $\\underline{a}$ und $\\underline{b}$ mittelwertfrei sind, ist der Cosinus-Ähnlichkeitswert gleich dem Pearson-Korrelationswert. In der Dokument- und Textanalyse wird vornehmlich das Cosinus-Ähnlichkeitsmaß verwendet. \n",
    "\n",
    "\n",
    "__Russel Rao Ähnlichkeitsmaß__\n",
    "Die Russel Rao-Ähnlichkeit zwischen zwei binären Vektoren $\\underline{a}$ und $\\underline{b}$ mißt das Verhältnis zwischen der Anzahl $\\alpha$ der Stellen in denen beide Vektoren den Wert 1 haben und der Länge $n$ der Vektoren. Z.B. ist für die Vektoren $\\underline{a}=(1,0,1,0,0,1)$ und $\\underline{b}=(0,1,1,1,0,1)$ die Russel-Rao-Ähnlichkeit $s_{RR}(\\underline{a},\\underline{b})=2/6=0.333$.\n",
    "\n",
    "__Jaccard Ähnlichkeitsmaß__\n",
    "Die Jaccard-Ähnlichkeit zwischen zwei binären Vektoren $\\underline{a}$ und $\\underline{b}$ mißt das Verhältnis zwischen der Anzahl $\\alpha$ der Stellen in denen beide Vektoren den Wert $1$ haben und der Anzahl der Stellen in denen mindestens einer der beiden Vektoren ungleich $0$ ist. Z.B. ist für die Vektoren $\\underline{a}=(1,0,1,0,0,1)$ und $\\underline{b}=(0,1,1,1,0,1)$ die Jaccard-Ähnlichkeit $s_{J}(\\underline{a},\\underline{b})=2/5=0.4$. Die Jaccard Metrik wird in diesem Versuch für die Bestimmung der Ähnlichkeit von _last.fm_-Usern eingesetzt.\n"
   ]
  },
  {
   "cell_type": "markdown",
   "metadata": {},
   "source": [
    "## Vor dem Versuch zu klärende Fragen\n",
    "Eine Untermenge der im Folgenden aufgeführten Fragen wird zu Beginn des Versuchs im Rahmen eines Gruppenkolloqs abgefragt. Auf jede Frage sollte von mindestens einem Gruppenmitglied eine Antwort geliefert werden und jedes Gruppenmitglied muss mindestens eine der gestellten Fragen beantworten können.\n",
    "\n",
    "**Aufgaben:**\n",
    "\n",
    "* Beschreiben Sie das Prinzip des userbasierten Collaborativen Filtering (UCF)."
   ]
  },
  {
   "cell_type": "markdown",
   "metadata": {},
   "source": [
    "Beim Userbasierten Collaborativen Filtering wird für einen Nutzer 1 der ihm ähnlichste Nutzer 2 gesucht, der Nutzer also, der das ähnlichste Kauf- und optional auch das ähnlichsten Bewertungsverhalten zu Nutzer 1 aufweist. Im nächsten Schritt werden Produkte, die bisher lediglich Nutzer 2 gekauft hat, Nutzer 1 zum Kauf empfohlen. Nutzer 1 kann dabei ebenso einer ganzen Kundenmenge zugeteilt werden, innerhalb derer bereits ein ähnliches Kauf- und Bewertungsverhalten erkannt wurde."
   ]
  },
  {
   "cell_type": "markdown",
   "metadata": {},
   "source": [
    "* Welche Nachteile hat das UCF?"
   ]
  },
  {
   "cell_type": "markdown",
   "metadata": {},
   "source": [
    "Nutzer, die noch nicht so viele oder gar keine Items gekauft haben, können nicht vom System verarbeitet werden, da es keine Grundlage für den Vergleich mit anderen Nutzern gibt. Außerdem skaliert der Ansatz UCF hinsichtlich großer Datensätze schlecht. "
   ]
  },
  {
   "cell_type": "markdown",
   "metadata": {},
   "source": [
    "* Worin besteht der Unterschied zwischen UCF und itembasierten Collaborativen Filtering (ICF)?"
   ]
  },
  {
   "cell_type": "markdown",
   "metadata": {},
   "source": [
    "Im Gegensatz zu UCF bewertet ICF die Ähnlichkeit zwischen Items, legt jedoch für die Bemessung der Ähnlichkeit das Kaufverhalten von Usern zu Grunde. Items werden als ähnlich bewertet, wenn User sie häufig zusammen kaufen. Einem einzelnen User werden nun Produkte empfohlen, die über eine große Ähnlichkeit zu den Produkten verfügen, die er/sie bereits gekauft hat."
   ]
  },
  {
   "cell_type": "markdown",
   "metadata": {},
   "source": [
    "* Gegeben seien die Vektoren \n",
    "\n",
    "    \\begin{eqnarray*}\n",
    "    \\underline{a} & = & [1,2,3,4,5,6] \\\\\n",
    "    \\underline{b} & = & [3,3,5,6,7,8] \\\\\n",
    "    \\end{eqnarray*}\n",
    "    \n",
    "    Schreiben Sie eine Python Funktion, die den Mittelwert derartiger Vektoren berechnet. Schreiben Sie eine weitere Funktion, die die Varianz berechnet"
   ]
  },
  {
   "cell_type": "code",
   "execution_count": 1,
   "metadata": {},
   "outputs": [
    {
     "name": "stdout",
     "output_type": "stream",
     "text": [
      "Arithmetic mean of vector a is:  3.5\n",
      "Arithmetic mean of vector b is:  5.33\n",
      "Variance of vector a is:  2.92\n",
      "Variance of vector b is:  3.56\n"
     ]
    }
   ],
   "source": [
    "import numpy as np\n",
    "\n",
    "\n",
    "def arithmeticMean(vec):\n",
    "    return sum(vec) / len(vec)\n",
    "\n",
    "\n",
    "def variance(vec):\n",
    "    mean = arithmeticMean(vec)\n",
    "    return sum([(x - mean) ** 2 for x in vec]) / len(vec)\n",
    "\n",
    "\n",
    "vec_a = np.array((1, 2, 3, 4, 5, 6))\n",
    "vec_b = np.array((3, 3, 5, 6, 7, 8))\n",
    "\n",
    "print(\"Arithmetic mean of vector a is: \", round(arithmeticMean(vec_a), 2))\n",
    "print(\"Arithmetic mean of vector b is: \", round(arithmeticMean(vec_b), 2))\n",
    "\n",
    "print(\"Variance of vector a is: \", round(variance(vec_a), 2))\n",
    "print(\"Variance of vector b is: \", round(variance(vec_b), 2))"
   ]
  },
  {
   "cell_type": "markdown",
   "metadata": {},
   "source": [
    "* Wie groß ist die\n",
    "\n",
    "    - Euklidische Ähnlichkeit\n",
    "    - Pearson Ähnlichkeit\n",
    "    - Cosinus Ähnlichkeit\n",
    "    \n",
    "    zwischen den Vektoren $\\underline{a}$ und $\\underline{b}$? "
   ]
  },
  {
   "cell_type": "code",
   "execution_count": 2,
   "metadata": {},
   "outputs": [
    {
     "name": "stdout",
     "output_type": "stream",
     "text": [
      "Euclidean distance between vector a and vector b: 4.58\n",
      "Pearson similarity between vector a and vector b: 0.98\n",
      "Cosine similarity between vector a and vector b: 0.99\n"
     ]
    }
   ],
   "source": [
    "import pandas as pd\n",
    "import numpy as np\n",
    "from pandas import Series, DataFrame\n",
    "from numpy.linalg import norm\n",
    "\n",
    "euclidean_distance = norm(vec_a - vec_b)\n",
    "print('Euclidean distance between vector a and vector b:', round(euclidean_distance, 2))\n",
    "\n",
    "pearson_sim = np.corrcoef(vec_a, vec_b)[0][1]\n",
    "print('Pearson similarity between vector a and vector b:', round(pearson_sim, 2))\n",
    "\n",
    "cosine_sim = np.dot(vec_a, vec_b) / (norm(vec_a) * norm(vec_b))\n",
    "print('Cosine similarity between vector a and vector b:', round(cosine_sim, 2))"
   ]
  },
  {
   "cell_type": "markdown",
   "metadata": {},
   "source": [
    "* In welchen Fällen sind Cosinus- und Pearsonähnlichkeit der euklidischen Ähnlichkeit vorzuziehen?"
   ]
  },
  {
   "cell_type": "markdown",
   "metadata": {},
   "source": [
    "Anders als die Euklidische Distanz sind die Cosinus- und die Pearson-Ähnlichkeit unabhängig von den absoluten Differenzen der jeweiligen Vergleichswerte in beiden Eingabevektoren. Dies ist vor allem wichtig, wenn man daran interessiert ist, ob sich Vektoren nicht in absoluten Größen, sondern in ihrem relativen Verhältnis zueinander ähneln. Pearson- und Cosinusähnlichkeit erkennen dabei lineare Gemeinsamkeiten zweier Vektoren und vergleichen demnach die Steigungen der Vektoren. Das ist sehr nützlich, weil beispielsweise bei Bewertungssystemen häufig zu erkennen ist, dass zwei Nutzerinnen zwar zu einer sehr ähnlichen Rankingreihenfolge ihrer Lieblingsprodukte gekommen sind, dass aber die eine Nutzerin in ihrer *absoluten* Bewertung von Produkten jeweils weniger Sterne vergibt als die andere Nutzerin. Im Gegensatz zur euklidischen Ähnlichkeit, welche die Differenzen der einzelnen Bewertungswerte stark gewichten würde, erkennen die Cosinus- und die Pearson-Ähnlichkeit in diesem Fall die lineare Gemeinsamkeit der Rankingreihenfolgen und stufen die beiden Nutzerinnen als ähnlich ein."
   ]
  },
  {
   "cell_type": "code",
   "execution_count": 3,
   "metadata": {},
   "outputs": [],
   "source": [
    "from IPython.display import Latex\n",
    "from IPython.display import Image\n",
    "import pylast"
   ]
  },
  {
   "cell_type": "markdown",
   "metadata": {
    "pycharm": {
     "name": "#%% md\n"
    }
   },
   "source": [
    "Hier wird eine kleine Hilfsfunktion definiert, die Daten in Form eines Dictionaries \n"
   ]
  },
  {
   "cell_type": "code",
   "execution_count": 4,
   "metadata": {},
   "outputs": [],
   "source": [
    "to_df = lambda input_dict, column_name: DataFrame.from_dict(\n",
    "    data=input_dict, orient=\"index\", columns=[column_name])"
   ]
  },
  {
   "cell_type": "markdown",
   "metadata": {},
   "source": [
    "# Versuchsdurchführung\n",
    "## Teil 1: Fiktive Filmbewertung\n",
    "### Daten\n",
    "Folgende Tabelle enthält die Filmbewertungen von 7 Personen.\n",
    "\n",
    "<img src=\"https://maucher.home.hdm-stuttgart.de/Pics/recommenderFilmRecommendations.PNG\" style=\"width:500px\" align=\"center\">\n"
   ]
  },
  {
   "cell_type": "markdown",
   "metadata": {},
   "source": [
    "Die Tabelle ist als Python dictionary _critics_ implementiert. Die Keys des Python-Dictionary definieren die Namen von Personen (Zeilen in der Matrix), die Filme bewertet haben. Die Values sind selbst wieder Dictionarys, welche als Keys die Filmnamen (Spalten in der Matrix) und als Values die jeweilige Filmbewertung (Matrixelment) enthalten."
   ]
  },
  {
   "cell_type": "code",
   "execution_count": 5,
   "metadata": {},
   "outputs": [],
   "source": [
    "critics = {'Lisa Rose': {'Lady in the Water': 2.5, 'Snakes on a Plane': 3.5,\n",
    "                         'Just My Luck': 3.0, 'Superman Returns': 3.5, 'You, Me and Dupree': 2.5,\n",
    "                         'The Night Listener': 3.0},\n",
    "           'Gene Seymour': {'Lady in the Water': 3.0, 'Snakes on a Plane': 3.5,\n",
    "                            'Just My Luck': 1.5, 'Superman Returns': 5.0, 'The Night Listener': 3.0,\n",
    "                            'You, Me and Dupree': 3.5},\n",
    "           'Michael Phillips': {'Lady in the Water': 2.5, 'Snakes on a Plane': 3.0,\n",
    "                                'Superman Returns': 3.5, 'The Night Listener': 4.0},\n",
    "           'Claudia Puig': {'Snakes on a Plane': 3.5, 'Just My Luck': 3.0,\n",
    "                            'The Night Listener': 4.5, 'Superman Returns': 4.0,\n",
    "                            'You, Me and Dupree': 2.5},\n",
    "           'Mick LaSalle': {'Lady in the Water': 3.0, 'Snakes on a Plane': 4.0,\n",
    "                            'Just My Luck': 2.0, 'Superman Returns': 3.0, 'The Night Listener': 3.0,\n",
    "                            'You, Me and Dupree': 2.0},\n",
    "           'Jack Matthews': {'Lady in the Water': 3.0, 'Snakes on a Plane': 4.0,\n",
    "                             'The Night Listener': 3.0, 'Superman Returns': 5.0, 'You, Me and Dupree': 3.5},\n",
    "           'Toby': {'Snakes on a Plane': 4.5, 'You, Me and Dupree': 1.0, 'Superman Returns': 4.0}\n",
    "           }\n",
    "\n",
    "transCritcs = {'Lady in the Water': {'Lisa Rose': 2.5, 'Gene Seymour': {''}}}"
   ]
  },
  {
   "cell_type": "markdown",
   "metadata": {},
   "source": [
    "### Ähnlichkeiten berechnen\n",
    "\n",
    "Für die Bestimmung der Ähnlichkeit zwischen Personen und Produkten werden in diesem Versuch ein auf der euklidischen Distanz basierendes Ähnlichkeitsmaß und die Pearson-Korrelation verwendet. Beide Ähnlichkeitsmaße sind in den unten definierten Funktionen implementiert. Alle drei hier implementierten Funktionen zur Berechnung der Ähnlichkeit erhalten als Übergabeparameter das oben definierte Dictionary, das die Filmbewertungen enthält und die Namen der zwei Personen, die verglichen werden sollen. \n",
    "\n",
    "Zu beachten ist, dass in beiden Funktionen für die Berechnung der Ähnlichkeit zwischen zwei Personen nur die Produkte berücksichtigt werden, welche von beiden Personen schon bewertet wurden. Es handelt sich hier also um modifizierte Ähnlichkeitsfunktionen. \n",
    "\n",
    "__Aufgabe:__\n",
    "Fragen Sie von diesem Dictionary _Toby's_ Bewertung des Films _Snakes on a Plane_ ab und geben Sie diesen Wert aus: "
   ]
  },
  {
   "cell_type": "code",
   "execution_count": 6,
   "metadata": {},
   "outputs": [
    {
     "name": "stdout",
     "output_type": "stream",
     "text": [
      "Toby, unfortunately, has seen Snakes on a Plane and has rated it with: 4.5\n"
     ]
    }
   ],
   "source": [
    "rating = critics[\"Toby\"][\"Snakes on a Plane\"]\n",
    "print(\"Toby, unfortunately, has seen Snakes on a Plane and has rated it with: {}\".format(rating))"
   ]
  },
  {
   "cell_type": "code",
   "execution_count": 7,
   "metadata": {},
   "outputs": [],
   "source": [
    "import numpy as np\n",
    "import scipy.spatial.distance as sci\n",
    "\n",
    "\n",
    "def sim_euclid(prefs, person1, person2, normed=True):\n",
    "    ''' Returns a euclidean-distance-based similarity score for\n",
    "    person1 and person2. In the distance calculation the sum is computed\n",
    "    only over those items, which are nonzero for both instances, i.e. only\n",
    "    films which are ranked by both persons are regarded.\n",
    "    If the parameter normed is True, then the euclidean distance is divided by\n",
    "    the number of non-zero elements integrated in the distance calculation. Thus\n",
    "    the effect of larger distances in the case of an increasing number of commonly ranked\n",
    "    items is avoided.\n",
    "    '''\n",
    "    # Get the list of shared_items\n",
    "    si = {}\n",
    "    for item in prefs[person1]:\n",
    "        if item in prefs[person2]: si[item] = 1\n",
    "    # len(si) counts the number of common ratings\n",
    "    # if they have no ratings in common, return 0\n",
    "    if len(si) == 0: return 0\n",
    "\n",
    "    # Add up the squares of all the differences\n",
    "    sum_of_squares = np.sqrt(sum([pow(prefs[person1][item] - prefs[person2][item], 2)\n",
    "                                  for item in prefs[person1] if item in prefs[person2]]))\n",
    "    if normed:\n",
    "        sum_of_squares = 1.0 / len(si) * sum_of_squares\n",
    "    return 1 / (1 + sum_of_squares)\n",
    "\n",
    "\n",
    "def sim_pearson(prefs, p1, p2):\n",
    "    '''\n",
    "    Returns the Pearson correlation coefficient for p1 and p2\n",
    "    '''\n",
    "\n",
    "    # Get the list of commonly rated items\n",
    "    si = {}\n",
    "    for item in prefs[p1]:\n",
    "        if item in prefs[p2]: si[item] = 1\n",
    "\n",
    "    # if they are no ratings in common, return 0\n",
    "    if len(si) == 0: return 0\n",
    "\n",
    "    # Sum calculations\n",
    "    n = len(si)\n",
    "\n",
    "    # Calculate means of person 1 and 2\n",
    "    mp1 = np.mean([prefs[p1][it] for it in si])\n",
    "    mp2 = np.mean([prefs[p2][it] for it in si])\n",
    "\n",
    "    # Calculate standard deviation of person 1 and 2\n",
    "    sp1 = np.std([prefs[p1][it] for it in si])\n",
    "    sp2 = np.std([prefs[p2][it] for it in si])\n",
    "\n",
    "    # If all elements in one sample are identical, the standard deviation is 0.\n",
    "    # In this case there is no linear correlation between the samples\n",
    "    if sp1 == 0 or sp2 == 0:\n",
    "        return 0\n",
    "    r = 1 / (n * sp1 * sp2) * sum([(prefs[p1][it] - mp1) * (prefs[p2][it] - mp2) for it in si])\n",
    "    return r\n",
    "\n",
    "\n",
    "def sim_RusselRao(prefs, person1, person2, normed=True):\n",
    "    ''' Returns RusselRao similaritiy between 2 users. The RusselRao similarity just counts the number\n",
    "    of common non-zero components of the two vectors and divides this number by N, where N is the length\n",
    "    of the vectors. If normed=False, the division by N is omitted.\n",
    "    '''\n",
    "    # Get the list of shared_items\n",
    "    si = {}\n",
    "    commons = 0\n",
    "    for item in prefs[person1]:\n",
    "        if prefs[person1][item] == 1 and prefs[person2][item] == 1:\n",
    "            commons += 1\n",
    "    #print commons\n",
    "    if not normed:\n",
    "        return commons\n",
    "    else:\n",
    "        return commons * 1.0 / len(prefs[person1])"
   ]
  },
  {
   "cell_type": "markdown",
   "metadata": {},
   "source": [
    "**Aufgabe:**\n",
    "1. Geben Sie die euklidische Ähnlichkeit und die Pearson Ähnlichkeit zwischen den Personen _Toby_ und _Lisa Rose_ aus.\n",
    "2. Diskutieren Sie die unterschiedlichen Ähnlichkeitswerte."
   ]
  },
  {
   "cell_type": "code",
   "execution_count": 8,
   "metadata": {},
   "outputs": [],
   "source": [
    "df_critics = DataFrame.from_dict(critics)"
   ]
  },
  {
   "cell_type": "code",
   "execution_count": 9,
   "metadata": {},
   "outputs": [
    {
     "data": {
      "text/plain": [
       "<AxesSubplot:title={'center':'Ratings of Movies by Person'}>"
      ]
     },
     "execution_count": 9,
     "metadata": {},
     "output_type": "execute_result"
    },
    {
     "data": {
      "image/png": "[encoded data removed]",
      "text/plain": [
       "<Figure size 1080x1080 with 1 Axes>"
      ]
     },
     "metadata": {
      "needs_background": "light"
     },
     "output_type": "display_data"
    }
   ],
   "source": [
    "df_critics.plot(kind='barh', figsize=(15, 15), title=\"Ratings of Movies by Person\")"
   ]
  },
  {
   "cell_type": "code",
   "execution_count": 10,
   "metadata": {},
   "outputs": [
    {
     "data": {
      "text/html": [
       "<div>\n",
       "<style scoped>\n",
       "    .dataframe tbody tr th:only-of-type {\n",
       "        vertical-align: middle;\n",
       "    }\n",
       "\n",
       "    .dataframe tbody tr th {\n",
       "        vertical-align: top;\n",
       "    }\n",
       "\n",
       "    .dataframe thead th {\n",
       "        text-align: right;\n",
       "    }\n",
       "</style>\n",
       "<table border=\"1\" class=\"dataframe\">\n",
       "  <thead>\n",
       "    <tr style=\"text-align: right;\">\n",
       "      <th></th>\n",
       "      <th>Movie ratings by Toby</th>\n",
       "    </tr>\n",
       "  </thead>\n",
       "  <tbody>\n",
       "    <tr>\n",
       "      <th>Snakes on a Plane</th>\n",
       "      <td>4.5</td>\n",
       "    </tr>\n",
       "    <tr>\n",
       "      <th>You, Me and Dupree</th>\n",
       "      <td>1.0</td>\n",
       "    </tr>\n",
       "    <tr>\n",
       "      <th>Superman Returns</th>\n",
       "      <td>4.0</td>\n",
       "    </tr>\n",
       "  </tbody>\n",
       "</table>\n",
       "</div>"
      ],
      "text/plain": [
       "                    Movie ratings by Toby\n",
       "Snakes on a Plane                     4.5\n",
       "You, Me and Dupree                    1.0\n",
       "Superman Returns                      4.0"
      ]
     },
     "execution_count": 10,
     "metadata": {},
     "output_type": "execute_result"
    }
   ],
   "source": [
    "person1 = \"Toby\"\n",
    "to_df(critics[person1], f\"Movie ratings by {person1}\")"
   ]
  },
  {
   "cell_type": "code",
   "execution_count": 11,
   "metadata": {
    "pycharm": {
     "name": "#%%\n"
    }
   },
   "outputs": [
    {
     "data": {
      "text/html": [
       "<div>\n",
       "<style scoped>\n",
       "    .dataframe tbody tr th:only-of-type {\n",
       "        vertical-align: middle;\n",
       "    }\n",
       "\n",
       "    .dataframe tbody tr th {\n",
       "        vertical-align: top;\n",
       "    }\n",
       "\n",
       "    .dataframe thead th {\n",
       "        text-align: right;\n",
       "    }\n",
       "</style>\n",
       "<table border=\"1\" class=\"dataframe\">\n",
       "  <thead>\n",
       "    <tr style=\"text-align: right;\">\n",
       "      <th></th>\n",
       "      <th>Movie ratings by Lisa Rose</th>\n",
       "    </tr>\n",
       "  </thead>\n",
       "  <tbody>\n",
       "    <tr>\n",
       "      <th>Lady in the Water</th>\n",
       "      <td>2.5</td>\n",
       "    </tr>\n",
       "    <tr>\n",
       "      <th>Snakes on a Plane</th>\n",
       "      <td>3.5</td>\n",
       "    </tr>\n",
       "    <tr>\n",
       "      <th>Just My Luck</th>\n",
       "      <td>3.0</td>\n",
       "    </tr>\n",
       "    <tr>\n",
       "      <th>Superman Returns</th>\n",
       "      <td>3.5</td>\n",
       "    </tr>\n",
       "    <tr>\n",
       "      <th>You, Me and Dupree</th>\n",
       "      <td>2.5</td>\n",
       "    </tr>\n",
       "    <tr>\n",
       "      <th>The Night Listener</th>\n",
       "      <td>3.0</td>\n",
       "    </tr>\n",
       "  </tbody>\n",
       "</table>\n",
       "</div>"
      ],
      "text/plain": [
       "                    Movie ratings by Lisa Rose\n",
       "Lady in the Water                          2.5\n",
       "Snakes on a Plane                          3.5\n",
       "Just My Luck                               3.0\n",
       "Superman Returns                           3.5\n",
       "You, Me and Dupree                         2.5\n",
       "The Night Listener                         3.0"
      ]
     },
     "execution_count": 11,
     "metadata": {},
     "output_type": "execute_result"
    }
   ],
   "source": [
    "person2 = \"Lisa Rose\"\n",
    "to_df(critics[person2], f\"Movie ratings by {person2}\")"
   ]
  },
  {
   "cell_type": "code",
   "execution_count": 12,
   "metadata": {},
   "outputs": [
    {
     "data": {
      "text/plain": [
       "'Euclidean similarity between Toby and Lisa Rose is 0.6159'"
      ]
     },
     "execution_count": 12,
     "metadata": {},
     "output_type": "execute_result"
    }
   ],
   "source": [
    "euclidean_similarity = sim_euclid(critics, person1, person2)\n",
    "f\"Euclidean similarity between Toby and Lisa Rose is {round(euclidean_similarity, 4)}\""
   ]
  },
  {
   "cell_type": "code",
   "execution_count": 13,
   "metadata": {},
   "outputs": [
    {
     "data": {
      "text/plain": [
       "'Euclidean normed similarity between Toby and Lisa Rose is 0.6159'"
      ]
     },
     "execution_count": 13,
     "metadata": {},
     "output_type": "execute_result"
    }
   ],
   "source": [
    "euclidean_similarity_normed = sim_euclid(critics, person1, person2, normed=True)\n",
    "f\"Euclidean normed similarity between Toby and Lisa Rose is {round(euclidean_similarity_normed, 4)}\""
   ]
  },
  {
   "cell_type": "code",
   "execution_count": 14,
   "metadata": {
    "pycharm": {
     "name": "#%%\n"
    }
   },
   "outputs": [
    {
     "data": {
      "text/plain": [
       "'Pearson similarity between Toby and Lisa Rose is 0.9912407071619302'"
      ]
     },
     "execution_count": 14,
     "metadata": {},
     "output_type": "execute_result"
    }
   ],
   "source": [
    "pearson_similarity = sim_pearson(critics, person1, person2)\n",
    "f\"Pearson similarity between Toby and Lisa Rose is {pearson_similarity}\""
   ]
  },
  {
   "cell_type": "markdown",
   "metadata": {},
   "source": [
    "##### Diskussion:\n",
    "\n",
    "Die Ergebnisse der berechneten Ähnlichkeitswerte sind sehr unterschiedlich. Vor allem die Pearson-Ähnlichkeit ist mit 0,991 überraschend groß und gegeben dem Ausgabebereich von -1 bis 1 sehr nahe am Maxmimum.\n",
    "\n",
    "Des Weiteren ist bei der Betrachtung der Werte aufgefallen, dass es eine lineare Abhängigkeit zwischen den Bewertungen der Filme von Toby und von Lisa Rose gibt. Dies ist die wahrscheinlichste Erklärung für den hohen Wert der Pearson-Ähnlichkeit. Beide haben fast dasselbe Ranking, bis auf dass Toby in seinem Ranking den Film \"Snakes on a Plane\" auf Platz 1 hat und bei Lisa \"Snakes on a Plane\" und \"Superman Returns\" punktgleich sind.  \n",
    "\n",
    "Im Gegensatz zur Pearson-Ähnlichkeit arbeitet die euklidische Distanz mit den Differenzen zwischen den Nutzerbewertungen der jeweils gleichen Filme. Da in diesem Fall lediglich die absoluten Differenzen zwischen den Werten betrachtet werden und diese durchaus vorhanden sind, ergibt sich eine vergleichsweise kleinere euklidische Aehnlichkeit."
   ]
  },
  {
   "cell_type": "markdown",
   "metadata": {},
   "source": [
    "__Aufgabe:__\n",
    "0. Schreiben Sie eine Funktion _topMatches(prefs,person,similarity)_, welche für eine beliebige in _critics_ enthaltene Person die Ähnlichkeitswerte zu allen anderen Personen berechnet und in einer geordneten Liste zurück gibt. Der Funktion soll als Übergabeparameter auch die anzuwendende Ähnlichkeitsfunktion (*sim_euclid* oder *sim_pearson*) übergeben werden können. Berechnen Sie mit dieser Funktion für jede Person die *top matches*, zunächst unter Verwendung der euklidischen- dann unter Verwendung der Pearson-Ähnlichkeit.\n",
    "1. Geben Sie mit der implementierten Funktion die *top matches* der Person Toby aus.\n",
    "2. Vergleichen Sie die beiden Ähnlichkeitsmaße. Welches Ähnlichkeitsmaß erscheint Ihnen für diesen Anwendungsfall sinnvoller und warum?"
   ]
  },
  {
   "cell_type": "markdown",
   "metadata": {
    "pycharm": {
     "name": "#%% md\n"
    }
   },
   "source": [
    "Zuerst wird die Funktion definiert, welche die Ähnlichkeiten für die Kombinationen aller Personen mit der Eingabeperson berechnet. Zusätzlich dazu kann man die Ausgabe sortieren und auf eine Anzahl an Ausgabewerte beschränken."
   ]
  },
  {
   "cell_type": "code",
   "execution_count": 15,
   "metadata": {},
   "outputs": [],
   "source": [
    "def topMatches(comp_dict, x, similarity, sort=False, limit=-1):\n",
    "    similarities = [similarity(comp_dict, x, y) for y in comp_dict if y != x]\n",
    "\n",
    "    if sort:\n",
    "        return sorted(similarities[:limit if limit != -1 else len(similarities)], reverse=True)\n",
    "    else:\n",
    "        return similarities[:limit if limit != -1 else len(similarities)]\n",
    "\n",
    "\n",
    "def topMatchesAsDict(comp_dict, x, similarity, sort=False):\n",
    "    similarities = {y: similarity(comp_dict, x, y) for (y, v) in comp_dict.items() if y != x}\n",
    "\n",
    "    if sort:\n",
    "        return sorted(similarities.items(), key=lambda x: x[1])\n",
    "    else:\n",
    "        return similarities"
   ]
  },
  {
   "cell_type": "code",
   "execution_count": 16,
   "metadata": {},
   "outputs": [],
   "source": [
    "top_matches_euclid = topMatchesAsDict(critics, \"Toby\", sim_euclid)\n",
    "top_matches_pearson = topMatchesAsDict(critics, \"Toby\", sim_pearson)"
   ]
  },
  {
   "cell_type": "code",
   "execution_count": 17,
   "metadata": {},
   "outputs": [
    {
     "data": {
      "text/html": [
       "<div>\n",
       "<style scoped>\n",
       "    .dataframe tbody tr th:only-of-type {\n",
       "        vertical-align: middle;\n",
       "    }\n",
       "\n",
       "    .dataframe tbody tr th {\n",
       "        vertical-align: top;\n",
       "    }\n",
       "\n",
       "    .dataframe thead th {\n",
       "        text-align: right;\n",
       "    }\n",
       "</style>\n",
       "<table border=\"1\" class=\"dataframe\">\n",
       "  <thead>\n",
       "    <tr style=\"text-align: right;\">\n",
       "      <th></th>\n",
       "      <th>Matching Score</th>\n",
       "    </tr>\n",
       "  </thead>\n",
       "  <tbody>\n",
       "    <tr>\n",
       "      <th>Lisa Rose</th>\n",
       "      <td>0.615912</td>\n",
       "    </tr>\n",
       "    <tr>\n",
       "      <th>Gene Seymour</th>\n",
       "      <td>0.510875</td>\n",
       "    </tr>\n",
       "    <tr>\n",
       "      <th>Michael Phillips</th>\n",
       "      <td>0.558482</td>\n",
       "    </tr>\n",
       "    <tr>\n",
       "      <th>Claudia Puig</th>\n",
       "      <td>0.624639</td>\n",
       "    </tr>\n",
       "    <tr>\n",
       "      <th>Mick LaSalle</th>\n",
       "      <td>0.666667</td>\n",
       "    </tr>\n",
       "    <tr>\n",
       "      <th>Jack Matthews</th>\n",
       "      <td>0.522774</td>\n",
       "    </tr>\n",
       "  </tbody>\n",
       "</table>\n",
       "</div>"
      ],
      "text/plain": [
       "                  Matching Score\n",
       "Lisa Rose               0.615912\n",
       "Gene Seymour            0.510875\n",
       "Michael Phillips        0.558482\n",
       "Claudia Puig            0.624639\n",
       "Mick LaSalle            0.666667\n",
       "Jack Matthews           0.522774"
      ]
     },
     "execution_count": 17,
     "metadata": {},
     "output_type": "execute_result"
    },
    {
     "data": {
      "image/png": "[encoded data removed]",
      "text/plain": [
       "<Figure size 432x288 with 1 Axes>"
      ]
     },
     "metadata": {
      "needs_background": "light"
     },
     "output_type": "display_data"
    }
   ],
   "source": [
    "df_euclid = to_df(top_matches_euclid, \"Matching Score\")\n",
    "df_euclid.plot(kind='barh', title=\"Top matches with euclid value distribution\")\n",
    "df_euclid"
   ]
  },
  {
   "cell_type": "code",
   "execution_count": 18,
   "metadata": {
    "pycharm": {
     "name": "#%%\n"
    }
   },
   "outputs": [
    {
     "data": {
      "text/html": [
       "<div>\n",
       "<style scoped>\n",
       "    .dataframe tbody tr th:only-of-type {\n",
       "        vertical-align: middle;\n",
       "    }\n",
       "\n",
       "    .dataframe tbody tr th {\n",
       "        vertical-align: top;\n",
       "    }\n",
       "\n",
       "    .dataframe thead th {\n",
       "        text-align: right;\n",
       "    }\n",
       "</style>\n",
       "<table border=\"1\" class=\"dataframe\">\n",
       "  <thead>\n",
       "    <tr style=\"text-align: right;\">\n",
       "      <th></th>\n",
       "      <th>Matching Score</th>\n",
       "    </tr>\n",
       "  </thead>\n",
       "  <tbody>\n",
       "    <tr>\n",
       "      <th>Lisa Rose</th>\n",
       "      <td>0.991241</td>\n",
       "    </tr>\n",
       "    <tr>\n",
       "      <th>Gene Seymour</th>\n",
       "      <td>0.381246</td>\n",
       "    </tr>\n",
       "    <tr>\n",
       "      <th>Michael Phillips</th>\n",
       "      <td>-1.000000</td>\n",
       "    </tr>\n",
       "    <tr>\n",
       "      <th>Claudia Puig</th>\n",
       "      <td>0.893405</td>\n",
       "    </tr>\n",
       "    <tr>\n",
       "      <th>Mick LaSalle</th>\n",
       "      <td>0.924473</td>\n",
       "    </tr>\n",
       "    <tr>\n",
       "      <th>Jack Matthews</th>\n",
       "      <td>0.662849</td>\n",
       "    </tr>\n",
       "  </tbody>\n",
       "</table>\n",
       "</div>"
      ],
      "text/plain": [
       "                  Matching Score\n",
       "Lisa Rose               0.991241\n",
       "Gene Seymour            0.381246\n",
       "Michael Phillips       -1.000000\n",
       "Claudia Puig            0.893405\n",
       "Mick LaSalle            0.924473\n",
       "Jack Matthews           0.662849"
      ]
     },
     "execution_count": 18,
     "metadata": {},
     "output_type": "execute_result"
    },
    {
     "data": {
      "image/png": "[encoded data removed]",
      "text/plain": [
       "<Figure size 432x288 with 1 Axes>"
      ]
     },
     "metadata": {
      "needs_background": "light"
     },
     "output_type": "display_data"
    }
   ],
   "source": [
    "df_pearson = to_df(top_matches_pearson, \"Matching Score\")\n",
    "df_pearson.plot(kind='barh', title=\"Top matches pearson distribution\", legend=None)\n",
    "df_pearson"
   ]
  },
  {
   "cell_type": "markdown",
   "metadata": {},
   "source": [
    "##### Fazit Ähnlichkeitsmaße\n",
    "\n",
    "Man kann erkennen, dass der Wertebereich der Pearson-Ähnlichkeit (-1 bis 1) breiter ausgenutzt wird, als der der euklidischen Ähnlichkeit (0 bis 1).\n",
    "\n",
    "Der Pearson Algorithmus unterscheidet  gleichzeitig eher die persönlichen Ranglisten der Benutzer, während der euklidische Algorithmus lediglich die absoluten Differenzen zwischen den Filmbewertungen der einzelnen User in Betracht zieht. Das liegt daran, dass sich der Pearson Algorithmus Skalierungsinvariant verhält. Im Falle von zwei Usern, die die selben Filme gesehen haben und bei denen der erste User alle Filme genau einen Punkt höher bewertet als der zweite User, würden beide User die selbe Empfehlung bekommen.\n",
    "\n",
    "\n",
    "Wie auch schon in der vorherigen Aufgabe festgestellt, sind lineare Abhängigkeiten bei der Domäne der Filmbewertungen relevanter. Deswegen ist der Gebrauch der Pearson-Ähnlichkeit auch sinnvoller, um ähnliche Bewertungsmuster zu erkennen."
   ]
  },
  {
   "cell_type": "markdown",
   "metadata": {},
   "source": [
    "### Berechnung von Empfehlungen mit User basiertem Collaborative Filtering\n",
    "Für die Produkte, die von einer Person noch nicht gekauft wurden, sollen Empfehlungen berechnet werden. Die Empfehlungen können ebenfalls Werte zwischen 1 (wird nicht empfohlen) und 5 (wird stark empfohlen) annehmen. Für die Berechnung der Empfehlung werden die Bewertungen des jeweiligen Produkts durch die anderen Personen herangezogen. Dabei werden die Bewertungen der ähnlichen Personen (d.h. hoher Pearson-Korrelationswert) stärker mit einbezogen als die Bewertungen durch Personen mit einem niedrigen Korrelationswert.\n",
    "\n",
    "__Beispiel:__\n",
    "Toby hat die Filme _The Night Listener_, _Lady in the Water_ und _Just My Luck_ noch nicht gekauft. Für diese Filme soll für Toby eine Empfehlung berechnet werden.\n",
    "In der unten aufgeführten Tabelle enthält die zweite Spalte die _Pearson-Ähnlichkeitswerte_ zwischen Toby und den anderen Personen. Die Spalten 3, 5 und 7 enthalten die Bewertungen der Filme _The Night Listener_, _Lady in the Water_ und _Just My Luck_ durch die anderen Personen. Die Spalten 4, 6 und 8 enthalten die jeweilige Filmbewertung gewichtet (mulipliziert) mit den Ähnlichkeitswerten der jeweiligen Person. Es fällt auf, dass in der Tabelle _Michael_ nicht enthalten ist. Das liegt daran, dass _Michael_ und _Toby_ einen negativen Ähnlichkeitswert aufweisen, d.h. deren Interessen sind gegenläufig. Personen mit negativem Ähnlichkeitswert sollten für Empfehlungen nicht berücksichtigt werden.\n",
    "Die Zeile _Sum_ enthält die Summe aller gewichteten Bewertungen. Aus diesem Wert allein kann die Empfehlung noch nicht abgeleitet werden, da Filme die nur von wenigen Personen bewertet wurden, eine relativ kleine Summe ergeben. Deshalb sollte _Sum_ noch durch die Anzahl der Bewertungen für diesen Film geteilt werden. Oder besser: Nicht durch die Summe der Bewertungen, sondern durch die Summe der relevanten Ähnlichkeitswerte (_KSum_). Der resultierende Empfehlungswert ist in der letzten Zeile eingetragen.\n",
    "\n",
    "\n",
    "\n",
    "<img src=\"https://maucher.home.hdm-stuttgart.de/Pics/recommenderFilmCalculation.PNG\" style=\"width:500px\" align=\"center\">\n",
    "\n",
    "\n"
   ]
  },
  {
   "cell_type": "markdown",
   "metadata": {
    "pycharm": {
     "name": "#%% md\n"
    }
   },
   "source": [
    "__Aufgabe:__\n",
    "Schreiben Sie eine Funktion _getRecommendations(prefs,person,similarity)_, mit der die Empfehlungswerte berechnet werden können und bestimmen Sie die Empfehlungswerte für Toby. Der Funktion wird  \n",
    "\n",
    "* das Dictionary _critics_ mit den Filmbewertungen, \n",
    "* der Name der Person, für welche Empfehlungen berechnet werden sollen\n",
    "* die Methode für die Berechnung der Ähnlichkeit *sim_euclid* oder *sim_pearson*\n",
    "\n",
    "übergeben. Die Methode soll eine geordnete Liste zurück geben. Jedes Listenelement enthält an erster Stelle den berechneten Empfehlungswert und an zweiter Stelle den Namen des Films. Die Liste soll nach Empfehlungswerten absteigend geordnet sein.\n",
    "\n",
    "Testen Sie diese Funktion indem Sie die Empfehlungen für _Toby_ berechnen und mit den Werten in der oben aufgeführten Tabelle vergleichen."
   ]
  },
  {
   "cell_type": "code",
   "execution_count": 19,
   "metadata": {
    "pycharm": {
     "name": "#%%\n"
    }
   },
   "outputs": [],
   "source": [
    "from functools import reduce\n",
    "from pandas import DataFrame"
   ]
  },
  {
   "cell_type": "markdown",
   "metadata": {
    "pycharm": {
     "name": "#%% md\n"
    }
   },
   "source": [
    "Zuerst wird eine Reihe an Hilfsfunktionen definiert, welche die Auswertung der Daten mit Collaboratorive Filtering erleichtert.\n",
    "\n",
    "Die nächsten beiden Funktionen holen jeweils alle individuellen Personen und Filme aus der gegebenen Dictionary-Struktur."
   ]
  },
  {
   "cell_type": "code",
   "execution_count": 20,
   "metadata": {},
   "outputs": [],
   "source": [
    "def get_all_items(prefs):\n",
    "    return set(reduce(\n",
    "        lambda first, nxt: first + nxt,\n",
    "        [list(movies.keys()) for (person, movies) in prefs.items()],\n",
    "        []))"
   ]
  },
  {
   "cell_type": "code",
   "execution_count": 21,
   "metadata": {
    "pycharm": {
     "name": "#%%\n"
    }
   },
   "outputs": [],
   "source": [
    "def get_all_persons(prefs):\n",
    "    return list(prefs.keys())"
   ]
  },
  {
   "cell_type": "markdown",
   "metadata": {
    "pycharm": {
     "name": "#%% md\n"
    }
   },
   "source": [
    "_Funktion, die alle Personen zurückgibt, welche eine Ähnlichkeit durch die gegebene Funktion größer 0 haben._"
   ]
  },
  {
   "cell_type": "code",
   "execution_count": 22,
   "metadata": {
    "pycharm": {
     "name": "#%%\n"
    }
   },
   "outputs": [],
   "source": [
    "def get_similar_persons(prefs, person, sim_f):\n",
    "    return list(filter(lambda comp_person: sim_f(prefs, person, comp_person) > 0 and person != comp_person,\n",
    "                       get_all_persons(prefs)))"
   ]
  },
  {
   "cell_type": "markdown",
   "metadata": {
    "pycharm": {
     "name": "#%% md\n"
    }
   },
   "source": [
    "_Funktion, die alle Filme zurück gibt, welche die gegebene Person noch nicht gesehen hat._"
   ]
  },
  {
   "cell_type": "code",
   "execution_count": 23,
   "metadata": {
    "pycharm": {
     "name": "#%%\n"
    }
   },
   "outputs": [],
   "source": [
    "def get_unrated_items(person_dict, person, zero_means_unrated=False):\n",
    "    if zero_means_unrated:\n",
    "        items_flattened = dict(filter(lambda k_v_tuple: k_v_tuple[1] == 0, person_dict[person].items()))\n",
    "        return items_flattened.keys()\n",
    "    else:\n",
    "        items = get_all_items(person_dict)\n",
    "        return items.difference(set(person_dict[person]))"
   ]
  },
  {
   "cell_type": "markdown",
   "metadata": {
    "pycharm": {
     "name": "#%% md\n"
    }
   },
   "source": [
    "_Funktion, die alle Personen zurück gibt, welche den gegebenen Film schon bewertet haben. \n",
    "Die Liste an Personen kann gegeben werden, sonst werden alle Personen angeschaut._"
   ]
  },
  {
   "cell_type": "code",
   "execution_count": 24,
   "metadata": {
    "pycharm": {
     "name": "#%%\n"
    }
   },
   "outputs": [],
   "source": [
    "def get_persons_that_rated(prefs, item, comp_persons=None):\n",
    "    persons = comp_persons if comp_persons else get_all_persons(prefs)\n",
    "    return filter(lambda person: item in prefs[person].keys(), persons)"
   ]
  },
  {
   "cell_type": "markdown",
   "metadata": {
    "pycharm": {
     "name": "#%% md\n"
    }
   },
   "source": [
    "_Funktion die eine Dictionary Struktur mit den K*N Werten für alle gegebenen Personen für einen gegebenen Film zurück gibt._"
   ]
  },
  {
   "cell_type": "code",
   "execution_count": 25,
   "metadata": {
    "pycharm": {
     "name": "#%%\n"
    }
   },
   "outputs": [],
   "source": [
    "def get_k_n(prefs, movie, person, sim_f, comp_persons=None):\n",
    "    comp_persons = comp_persons if comp_persons else get_all_persons(prefs)\n",
    "    return {comp_person: (sim_f(prefs, person, comp_person) * prefs[comp_person][movie])\n",
    "            for comp_person in comp_persons}"
   ]
  },
  {
   "cell_type": "markdown",
   "metadata": {
    "pycharm": {
     "name": "#%% md\n"
    }
   },
   "source": [
    "_Funktion, die die Summe aller K-Werte für eine List von gegebenen Personen mit Hilfe einer Funktion zur Berechnung der jeweiligen K-Werte kalkuliert und zurückgibt._"
   ]
  },
  {
   "cell_type": "code",
   "execution_count": 26,
   "metadata": {
    "pycharm": {
     "name": "#%%\n"
    }
   },
   "outputs": [],
   "source": [
    "def get_k_sum(prefs, person, comp_persons, f_sim):\n",
    "    return sum([f_sim(prefs, person, comp_person) for comp_person in comp_persons])"
   ]
  },
  {
   "cell_type": "markdown",
   "metadata": {
    "pycharm": {
     "name": "#%% md\n"
    }
   },
   "source": [
    "Nun, da alle Hilsfunktionen definiert wurden, kann sich der eigentlichen Aufgabe gewidmet werden.\n",
    "\n",
    "Die Folgende Funktion gibt den Recommendation-Score für alle Filme aus, welche die gegebene Person noch nicht gesehen hat. Als Basis für diesen Score wird eine gegebene Similarity-Funktion genutzt."
   ]
  },
  {
   "cell_type": "code",
   "execution_count": 27,
   "metadata": {
    "pycharm": {
     "name": "#%%\n"
    }
   },
   "outputs": [],
   "source": [
    "from functools import reduce\n",
    "from pandas import DataFrame\n",
    "\n",
    "\n",
    "def get_user_recommendations(person_dict, person, similarity, zero_means_unrated=False, get_as_dict=True):\n",
    "    comp_persons = get_similar_persons(person_dict, person, similarity)\n",
    "    print(f\"Persons with similarity greater than 0: {comp_persons}\")\n",
    "\n",
    "    items = get_all_items(person_dict)\n",
    "    print(f\"Individual items: {items}\")\n",
    "\n",
    "    items_not_rated = get_unrated_items(person_dict, person, zero_means_unrated=zero_means_unrated)\n",
    "    print(f\"Items that {person} has not rated: {items_not_rated}\")\n",
    "\n",
    "    k_n = {item: get_k_n(person_dict,\n",
    "                         item,\n",
    "                         person,\n",
    "                         similarity,\n",
    "                         comp_persons=get_persons_that_rated(person_dict, item, comp_persons=comp_persons))\n",
    "           for item in items_not_rated}\n",
    "\n",
    "    recommendations_dict = {item: sum(k_n[item].values()) / get_k_sum(person_dict, person,\n",
    "                                                                      get_persons_that_rated(person_dict, item,\n",
    "                                                                                             comp_persons),\n",
    "                                                                      similarity)\n",
    "                            for item in k_n.keys()}\n",
    "\n",
    "    if get_as_dict:\n",
    "        return recommendations_dict\n",
    "\n",
    "    return sorted(map(lambda x: (x[1], x[0]), recommendations_dict.items()), reverse=True)"
   ]
  },
  {
   "cell_type": "code",
   "execution_count": 28,
   "metadata": {
    "pycharm": {
     "name": "#%%\n"
    }
   },
   "outputs": [
    {
     "name": "stdout",
     "output_type": "stream",
     "text": [
      "Persons with similarity greater than 0: ['Lisa Rose', 'Gene Seymour', 'Claudia Puig', 'Mick LaSalle', 'Jack Matthews']\n",
      "Individual items: {'Just My Luck', 'Snakes on a Plane', 'You, Me and Dupree', 'Lady in the Water', 'The Night Listener', 'Superman Returns'}\n",
      "Items that Toby has not rated: {'Lady in the Water', 'Just My Luck', 'The Night Listener'}\n"
     ]
    },
    {
     "data": {
      "text/html": [
       "<div>\n",
       "<style scoped>\n",
       "    .dataframe tbody tr th:only-of-type {\n",
       "        vertical-align: middle;\n",
       "    }\n",
       "\n",
       "    .dataframe tbody tr th {\n",
       "        vertical-align: top;\n",
       "    }\n",
       "\n",
       "    .dataframe thead th {\n",
       "        text-align: right;\n",
       "    }\n",
       "</style>\n",
       "<table border=\"1\" class=\"dataframe\">\n",
       "  <thead>\n",
       "    <tr style=\"text-align: right;\">\n",
       "      <th></th>\n",
       "      <th>Movie Recommendation Scores for Toby</th>\n",
       "    </tr>\n",
       "  </thead>\n",
       "  <tbody>\n",
       "    <tr>\n",
       "      <th>Lady in the Water</th>\n",
       "      <td>2.832550</td>\n",
       "    </tr>\n",
       "    <tr>\n",
       "      <th>Just My Luck</th>\n",
       "      <td>2.530981</td>\n",
       "    </tr>\n",
       "    <tr>\n",
       "      <th>The Night Listener</th>\n",
       "      <td>3.347790</td>\n",
       "    </tr>\n",
       "  </tbody>\n",
       "</table>\n",
       "</div>"
      ],
      "text/plain": [
       "                    Movie Recommendation Scores for Toby\n",
       "Lady in the Water                               2.832550\n",
       "Just My Luck                                    2.530981\n",
       "The Night Listener                              3.347790"
      ]
     },
     "execution_count": 28,
     "metadata": {},
     "output_type": "execute_result"
    }
   ],
   "source": [
    "person = \"Toby\"\n",
    "recommendations = get_user_recommendations(critics, person, sim_pearson)\n",
    "to_df(recommendations, f\"Movie Recommendation Scores for {person}\")"
   ]
  },
  {
   "cell_type": "markdown",
   "metadata": {},
   "source": [
    "Der Film The Night Listener hat mit 3.34 Sternen dem UCF-Algorithmus mit Pearson zufolge die genaueste Übereinstimmung mit Tobys persönlichen Präferenzen. Das stimmt mit den in der Tabelle angegeben Werten überein. Des Weiteren haben wir den Algorithmus so implementiert, dass er auch mit euklidischer Ähnlichkeit aufgerufen werden kann.\n",
    "\n",
    "Im nächsten Schritt wird getestet, ob die Empfehlungen für die User Michael Phillips und Toby im UCF abweichen, wenn das auf der euklidischen Distanz beruhende Ähnlichkeitsmaß anstatt der Pearson-Ähnlichkeit verwendet wird. Es werden nur diese beiden Nutzer getestet, da die restlichen Nutzer entweder alle oder alle bis auf einen der zur Verfügung stehenden Filme bereits bewertet haben."
   ]
  },
  {
   "cell_type": "markdown",
   "metadata": {},
   "source": [
    "###### Recommendation-Reihenfolge Euklid- vs. Pearson-Ähnlichkeitsmaße"
   ]
  },
  {
   "cell_type": "markdown",
   "metadata": {},
   "source": [
    "##### Euklid bei Michael"
   ]
  },
  {
   "cell_type": "code",
   "execution_count": 29,
   "metadata": {},
   "outputs": [
    {
     "name": "stdout",
     "output_type": "stream",
     "text": [
      "Persons with similarity greater than 0: ['Lisa Rose', 'Gene Seymour', 'Claudia Puig', 'Mick LaSalle', 'Jack Matthews', 'Toby']\n",
      "Individual items: {'Just My Luck', 'Snakes on a Plane', 'You, Me and Dupree', 'Lady in the Water', 'The Night Listener', 'Superman Returns'}\n",
      "Items that Michael Phillips has not rated: {'Just My Luck', 'You, Me and Dupree'}\n"
     ]
    },
    {
     "data": {
      "text/html": [
       "<div>\n",
       "<style scoped>\n",
       "    .dataframe tbody tr th:only-of-type {\n",
       "        vertical-align: middle;\n",
       "    }\n",
       "\n",
       "    .dataframe tbody tr th {\n",
       "        vertical-align: top;\n",
       "    }\n",
       "\n",
       "    .dataframe thead th {\n",
       "        text-align: right;\n",
       "    }\n",
       "</style>\n",
       "<table border=\"1\" class=\"dataframe\">\n",
       "  <thead>\n",
       "    <tr style=\"text-align: right;\">\n",
       "      <th></th>\n",
       "      <th>Movies recommended for Michael Phillips based on similar users by using euclidean similarity</th>\n",
       "    </tr>\n",
       "  </thead>\n",
       "  <tbody>\n",
       "    <tr>\n",
       "      <th>Just My Luck</th>\n",
       "      <td>2.414052</td>\n",
       "    </tr>\n",
       "    <tr>\n",
       "      <th>You, Me and Dupree</th>\n",
       "      <td>2.531534</td>\n",
       "    </tr>\n",
       "  </tbody>\n",
       "</table>\n",
       "</div>"
      ],
      "text/plain": [
       "                    Movies recommended for Michael Phillips based on similar users by using euclidean similarity\n",
       "Just My Luck                                                 2.414052                                           \n",
       "You, Me and Dupree                                           2.531534                                           "
      ]
     },
     "execution_count": 29,
     "metadata": {},
     "output_type": "execute_result"
    }
   ],
   "source": [
    "person = 'Michael Phillips'\n",
    "recommendations_euclid = get_user_recommendations(critics, person, sim_euclid)\n",
    "df_user_based = DataFrame.from_dict(data=recommendations_euclid, orient=\"index\", columns=[f'Movies recommended for {person} based on similar users by using euclidean similarity'])\n",
    "df_user_based"
   ]
  },
  {
   "cell_type": "markdown",
   "metadata": {},
   "source": [
    "##### Euklid bei Toby"
   ]
  },
  {
   "cell_type": "code",
   "execution_count": 30,
   "metadata": {},
   "outputs": [
    {
     "name": "stdout",
     "output_type": "stream",
     "text": [
      "Persons with similarity greater than 0: ['Lisa Rose', 'Gene Seymour', 'Michael Phillips', 'Claudia Puig', 'Mick LaSalle', 'Jack Matthews']\n",
      "Individual items: {'Just My Luck', 'Snakes on a Plane', 'You, Me and Dupree', 'Lady in the Water', 'The Night Listener', 'Superman Returns'}\n",
      "Items that Toby has not rated: {'Lady in the Water', 'Just My Luck', 'The Night Listener'}\n"
     ]
    },
    {
     "data": {
      "text/html": [
       "<div>\n",
       "<style scoped>\n",
       "    .dataframe tbody tr th:only-of-type {\n",
       "        vertical-align: middle;\n",
       "    }\n",
       "\n",
       "    .dataframe tbody tr th {\n",
       "        vertical-align: top;\n",
       "    }\n",
       "\n",
       "    .dataframe thead th {\n",
       "        text-align: right;\n",
       "    }\n",
       "</style>\n",
       "<table border=\"1\" class=\"dataframe\">\n",
       "  <thead>\n",
       "    <tr style=\"text-align: right;\">\n",
       "      <th></th>\n",
       "      <th>Movies recommended for Toby based on similar users by using euclidean similarity</th>\n",
       "    </tr>\n",
       "  </thead>\n",
       "  <tbody>\n",
       "    <tr>\n",
       "      <th>Lady in the Water</th>\n",
       "      <td>2.795737</td>\n",
       "    </tr>\n",
       "    <tr>\n",
       "      <th>Just My Luck</th>\n",
       "      <td>2.407393</td>\n",
       "    </tr>\n",
       "    <tr>\n",
       "      <th>The Night Listener</th>\n",
       "      <td>3.427348</td>\n",
       "    </tr>\n",
       "  </tbody>\n",
       "</table>\n",
       "</div>"
      ],
      "text/plain": [
       "                    Movies recommended for Toby based on similar users by using euclidean similarity\n",
       "Lady in the Water                                            2.795737                               \n",
       "Just My Luck                                                 2.407393                               \n",
       "The Night Listener                                           3.427348                               "
      ]
     },
     "execution_count": 30,
     "metadata": {},
     "output_type": "execute_result"
    }
   ],
   "source": [
    "person = 'Toby'\n",
    "recommendations_euclid = get_user_recommendations(critics, person, sim_euclid)\n",
    "df_user_based = DataFrame.from_dict(data=recommendations_euclid, orient=\"index\", columns=[f'Movies recommended for {person} based on similar users by using euclidean similarity'])\n",
    "df_user_based"
   ]
  },
  {
   "cell_type": "markdown",
   "metadata": {},
   "source": [
    "##### Pearson bei Michael"
   ]
  },
  {
   "cell_type": "code",
   "execution_count": 31,
   "metadata": {},
   "outputs": [
    {
     "name": "stdout",
     "output_type": "stream",
     "text": [
      "Persons with similarity greater than 0: ['Lisa Rose', 'Gene Seymour', 'Claudia Puig', 'Jack Matthews']\n",
      "Individual items: {'Just My Luck', 'Snakes on a Plane', 'You, Me and Dupree', 'Lady in the Water', 'The Night Listener', 'Superman Returns'}\n",
      "Items that Michael Phillips has not rated: {'Just My Luck', 'You, Me and Dupree'}\n"
     ]
    },
    {
     "data": {
      "text/html": [
       "<div>\n",
       "<style scoped>\n",
       "    .dataframe tbody tr th:only-of-type {\n",
       "        vertical-align: middle;\n",
       "    }\n",
       "\n",
       "    .dataframe tbody tr th {\n",
       "        vertical-align: top;\n",
       "    }\n",
       "\n",
       "    .dataframe thead th {\n",
       "        text-align: right;\n",
       "    }\n",
       "</style>\n",
       "<table border=\"1\" class=\"dataframe\">\n",
       "  <thead>\n",
       "    <tr style=\"text-align: right;\">\n",
       "      <th></th>\n",
       "      <th>Movies recommended for Michael Phillips based on similar users by using pearson similarity</th>\n",
       "    </tr>\n",
       "  </thead>\n",
       "  <tbody>\n",
       "    <tr>\n",
       "      <th>Just My Luck</th>\n",
       "      <td>2.809276</td>\n",
       "    </tr>\n",
       "    <tr>\n",
       "      <th>You, Me and Dupree</th>\n",
       "      <td>2.694637</td>\n",
       "    </tr>\n",
       "  </tbody>\n",
       "</table>\n",
       "</div>"
      ],
      "text/plain": [
       "                    Movies recommended for Michael Phillips based on similar users by using pearson similarity\n",
       "Just My Luck                                                 2.809276                                         \n",
       "You, Me and Dupree                                           2.694637                                         "
      ]
     },
     "execution_count": 31,
     "metadata": {},
     "output_type": "execute_result"
    }
   ],
   "source": [
    "person = 'Michael Phillips'\n",
    "recommendations_pearson = get_user_recommendations(critics, person, sim_pearson)\n",
    "df_user_based = DataFrame.from_dict(data=recommendations_pearson, orient=\"index\", columns=[f'Movies recommended for {person} based on similar users by using pearson similarity'])\n",
    "df_user_based"
   ]
  },
  {
   "cell_type": "markdown",
   "metadata": {},
   "source": [
    "##### Pearson bei Toby"
   ]
  },
  {
   "cell_type": "code",
   "execution_count": 32,
   "metadata": {},
   "outputs": [
    {
     "name": "stdout",
     "output_type": "stream",
     "text": [
      "Persons with similarity greater than 0: ['Lisa Rose', 'Gene Seymour', 'Claudia Puig', 'Mick LaSalle', 'Jack Matthews']\n",
      "Individual items: {'Just My Luck', 'Snakes on a Plane', 'You, Me and Dupree', 'Lady in the Water', 'The Night Listener', 'Superman Returns'}\n",
      "Items that Toby has not rated: {'Lady in the Water', 'Just My Luck', 'The Night Listener'}\n"
     ]
    },
    {
     "data": {
      "text/html": [
       "<div>\n",
       "<style scoped>\n",
       "    .dataframe tbody tr th:only-of-type {\n",
       "        vertical-align: middle;\n",
       "    }\n",
       "\n",
       "    .dataframe tbody tr th {\n",
       "        vertical-align: top;\n",
       "    }\n",
       "\n",
       "    .dataframe thead th {\n",
       "        text-align: right;\n",
       "    }\n",
       "</style>\n",
       "<table border=\"1\" class=\"dataframe\">\n",
       "  <thead>\n",
       "    <tr style=\"text-align: right;\">\n",
       "      <th></th>\n",
       "      <th>Movies recommended for Toby based on similar users by using pearson similarity</th>\n",
       "    </tr>\n",
       "  </thead>\n",
       "  <tbody>\n",
       "    <tr>\n",
       "      <th>Lady in the Water</th>\n",
       "      <td>2.832550</td>\n",
       "    </tr>\n",
       "    <tr>\n",
       "      <th>Just My Luck</th>\n",
       "      <td>2.530981</td>\n",
       "    </tr>\n",
       "    <tr>\n",
       "      <th>The Night Listener</th>\n",
       "      <td>3.347790</td>\n",
       "    </tr>\n",
       "  </tbody>\n",
       "</table>\n",
       "</div>"
      ],
      "text/plain": [
       "                    Movies recommended for Toby based on similar users by using pearson similarity\n",
       "Lady in the Water                                            2.832550                             \n",
       "Just My Luck                                                 2.530981                             \n",
       "The Night Listener                                           3.347790                             "
      ]
     },
     "execution_count": 32,
     "metadata": {},
     "output_type": "execute_result"
    }
   ],
   "source": [
    "person = 'Toby'\n",
    "recommendations_pearson = get_user_recommendations(critics, person, sim_pearson)\n",
    "df_user_based = DataFrame.from_dict(data=recommendations_pearson, orient=\"index\", columns=[f'Movies recommended for {person} based on similar users by using pearson similarity'])\n",
    "df_user_based"
   ]
  },
  {
   "cell_type": "markdown",
   "metadata": {},
   "source": [
    "##### Fazit Vergleich UCF mit Pearson vs. UCF mit Euklid\n",
    "\n",
    "Bei der Person Toby sind für beide Ähnlichkeitsmaße das Ranking gleich und die Werte sehr ähnlich.\n",
    "\n",
    "Bei Michael Phillips dagegen sind Ranking sowie Empfehlungswerte zwischen euklidischem Ähnlichkeitsmaß und Pearson-Ähnlichkeitsmaß sehr unterschiedlich. Dies könnte daran liegen, dass der Euklid-Algorithmus für Michael Phillips zwei Personen mehr als relevant für die Berechnung der Empfehlungswerte eingestuft hat als der Pearson-Algorithmus. Diese zwei Personen sind Mick LaSalle und Toby. Die Vermutung liegt nahe, dass der Pearson-Algorithmus wie schon in den Einführungsaufgaben erkannt hat, dass Michael Philipps bei seinen Filmbewertungen ein anderes Ranking hat als Toby und Mick LaSalle. Dieses Ranking kann der Euklid-Algorithmus dagegen nicht erkennen.\n",
    "\n",
    "Der UCF mit euklidischem Ähnlichkeitsmaß ergibt bei Michael Phillips:\n",
    "1. You, Me and Dupree 2.531534\n",
    "2. Just My Luck 2.414052\n",
    "\n",
    "Mit Euklid ausgewählte Vergleichspersonen: 'Lisa Rose', 'Gene Seymour', 'Claudia Puig', 'Mick LaSalle', 'Jack Matthews', 'Toby'.\n",
    "\n",
    "Mit Pearson-Ähnlichkeitsmaß ergegeben sich dagegen folgende Werte:\n",
    "1. Just My Luck 2.809276\n",
    "2. You, Me and Dupree 2.694637\n",
    "\n",
    "Mit Pearson ausgewählte Vergleichspersonen: 'Lisa Rose', 'Gene Seymour', 'Claudia Puig', 'Jack Matthews'.\n",
    "\n"
   ]
  },
  {
   "cell_type": "code",
   "execution_count": 33,
   "metadata": {},
   "outputs": [
    {
     "name": "stdout",
     "output_type": "stream",
     "text": [
      "Filmempfehlungen von Toby {'Snakes on a Plane': 4.5, 'You, Me and Dupree': 1.0, 'Superman Returns': 4.0}\n",
      "Filmempfehlungen von Mick LaSalle {'Lady in the Water': 3.0, 'Snakes on a Plane': 4.0, 'Just My Luck': 2.0, 'Superman Returns': 3.0, 'The Night Listener': 3.0, 'You, Me and Dupree': 2.0}\n",
      "Filmempfehlungen von Michael Philipps {'Lady in the Water': 2.5, 'Snakes on a Plane': 3.0, 'Superman Returns': 3.5, 'The Night Listener': 4.0}\n"
     ]
    }
   ],
   "source": [
    "print('Filmempfehlungen von Toby', critics['Toby'])\n",
    "print('Filmempfehlungen von Mick LaSalle', critics['Mick LaSalle'])\n",
    "print('Filmempfehlungen von Michael Philipps', critics['Michael Phillips'])"
   ]
  },
  {
   "cell_type": "markdown",
   "metadata": {},
   "source": [
    "Die Vermutung wurde bestätigt. Toby und Mick LaSalle haben beide den Film 'Snakes on a Plane'\n",
    "in ihrem Ranking auf Platz 1, während Michael Philipps diesen Film nur als mittelwertig bewertet hat.\n",
    "Im Gegensatz dazu hat Michael Philipps den Film 'The Night Listener' bei sich auf Platz 1, während\n",
    "Mick LaSalle diesen Film als mittelmäßig und Toby diesen Film gar nicht bewertet bzw. gekauft hat.\n",
    "\n",
    "Der Euklid-Algorithmus hingegen vergleicht lediglich die Differenz zwischen der Bewertung desselben Filmes (z.B. Superman Returns: Michael Phillipps 3.5, Toby 4.0) und stuft Toby und Mick LaSalle dementsprechend als ähnlich zu Michael Philipps ein, da diese Differenzen nicht besonders groß sind."
   ]
  },
  {
   "cell_type": "code",
   "execution_count": 34,
   "metadata": {},
   "outputs": [
    {
     "name": "stdout",
     "output_type": "stream",
     "text": [
      "Filmempfehlungen von Lisa Rose {'Lady in the Water': 2.5, 'Snakes on a Plane': 3.5, 'Just My Luck': 3.0, 'Superman Returns': 3.5, 'You, Me and Dupree': 2.5, 'The Night Listener': 3.0}\n",
      "Filmempfehlungen von Claudia Puig {'Snakes on a Plane': 3.5, 'Just My Luck': 3.0, 'The Night Listener': 4.5, 'Superman Returns': 4.0, 'You, Me and Dupree': 2.5}\n",
      "Filmempfehlungen von Gene Seymour {'Lady in the Water': 3.0, 'Snakes on a Plane': 3.5, 'Just My Luck': 1.5, 'Superman Returns': 5.0, 'The Night Listener': 3.0, 'You, Me and Dupree': 3.5}\n",
      "Filmempfehlungen von Jack Matthews {'Lady in the Water': 3.0, 'Snakes on a Plane': 4.0, 'The Night Listener': 3.0, 'Superman Returns': 5.0, 'You, Me and Dupree': 3.5}\n"
     ]
    }
   ],
   "source": [
    "print('Filmempfehlungen von Lisa Rose', critics['Lisa Rose'])\n",
    "print('Filmempfehlungen von Claudia Puig', critics['Claudia Puig'])\n",
    "print('Filmempfehlungen von Gene Seymour', critics['Gene Seymour'])\n",
    "print('Filmempfehlungen von Jack Matthews', critics['Jack Matthews'])"
   ]
  },
  {
   "cell_type": "markdown",
   "metadata": {},
   "source": [
    "Bei der Betrachtung der vier Personen, die der Pearson-Algorithmus als ähnlich zu Michael Philipps\n",
    "eingestuft hat, sticht als erstes Claudia Puig heraus, die über das fast exakt gleiche Ranking wie\n",
    "Michael verfügt. Beide haben 'The Night Listener' auf Platz 1, 'Superman returns' als Platz 2 und \n",
    "'You, me and Dupree' an letzter Stelle.\n",
    "Bei den anderen drei Personen ist die Gemeinsamkeit mit Michael Philipps, dass sie 'Lady in the Water'\n",
    "sowie 'You, Me and Dupree' eher schlecht bewertet haben, 'Superman returns' dagegen genau wie Michael\n",
    "Philipps als besten oder zweitbesten Film bewerteten. \n",
    "\n",
    "_Fazit:_ Zusammenfassend kann man sagen, dass der Pearson-Algorithmus bei der Ähnlichkeitseinschätzung\n",
    "zwischen Personen auch deren Rankingreihenfolge der einzelnen Filme miteinbezieht, während der\n",
    "Euklid-Algorithmus diese außer Acht lässt."
   ]
  },
  {
   "cell_type": "markdown",
   "metadata": {},
   "source": [
    "### Berechnung von Empfehlungen mit Item basiertem Collaborative Filtering\n",
    "In den vorigen Aufgaben wurden Ähnlichkeiten zwischen Personen bestimmt und für Produktempfehlungen benutzt (User basiertes Collaborative Filtering). Jetzt soll die Ähnlichkeit zwischen Produkten berechnet werden und auf der Basis dieser Produktähnlichkeit Empfehlungen berechnet werden (Item basiertes Collaborative Filtering).\n",
    "\n",
    "Dabei sollen die bereits implementierten Ähnlichkeitsfunktion *sim_euclid* und *sim_pearson* sowie die Ähnlichkeeits-Sortierfunktion *topMatches* unverändert eingesetzt werden.\n",
    "\n",
    "__Aufgabe:__\n",
    "\n",
    "1. Implementieren Sie eine Funktion, welche das Bewertungsdictionary *critics* derart transformiert, dass die Funktionen *sim_euclid*, *sim_pearson* und *topMatches* für das Item-basierte CF unverändert eingesetzt werden können. Die transformierte Matrix soll unter dem Namen *transCritics* abgespeichert werden.\n",
    "2. Schreiben Sie eine Funktion *calculateSimilarItems*, die aus der transformierten Matrix *transCritics* ein Dictionary berechnet, welches die Ähnlichkeit zwischen allen Filmen beschreibt. Die Keys des Dictionary sind die Filmnamen. Die Values sind geordnete Listen, welche die Funktion *topMatches* zurückgibt, wenn sie für die Filme (nicht für die User) aufgerufen wird. Dieses Dictionary wird an das aufrufende Programm zurück geben. \n",
    "3. Schreiben Sie eine Funktion *getRecommendedItems*, welche basierend auf dem im unten aufgeführten Beispiel dargestellten Verfahren unter Vorgabe der Bewertungsmatrix und der zu verwendenden Ähnlichkeitsfunktion Produktempfehlungen berechnet.\n",
    "4. Testen Sie die Funktion indem Sie die Empfehlungen für Toby berechnen und mit den Werten in der unten aufgeführten Tabelle vergleichen\n",
    "\n",
    "__Erläuterndes Beispiel:__\n",
    "\n",
    "_Toby_ hat die Filme *The Night Listener*, *Lady in the Water* und *Just My Luck* noch nicht gekauft. Für diese Filme soll für *Toby* eine Empfehlung berechnet werden. Gekauft und bewertet hat *Toby* die Filme *Snakes on a plane*, *Superman Returns* und *You and me and Dupree*. Diese bereits vorhandenen Filme bilden die erste Spalte der unten dargestellten Matrix. In der zweiten Spalte befinden sich _Toby's_ Bewertungen dieser Filme. Die Spalten 3,5 und 7 enthalten die Ähnlichkeitswerte (mit *calculateSimilarItems* unter Verwendung des normierten euklidischen Ähnlichkeitsmaßes berechnet) zwischen den drei von *Toby* noch nicht gekauften Filmen und den drei von _Toby_ bewerteten Filmen. Diese Ähnlichkeitswerte werden jeweils mit _Toby's_ Bewertungen multipliziert. Das Resultat dieser Multiplikation befindet sich in den Spalten 4,6 und 8. Der finale Empfehlungswert für die von _Toby_ noch nicht gekauften Filme wird berechnet in dem in den Spalten 4,6 und 8 zunächst die Summe über die Werte dieser Spalte in den drei oberen Zeilen berechnet wird und durch die Summe über die Werte der Spalten 3,5 und 7 geteilt wird. Im Fall, dass die *Pearson-Korrelation* zwischen den Filmen als Ähnlichkeitswert herangezogen wird, können negative Ähnlichkeitswerte auftreten. Dann soll in die Berechnung eines Empfehlungswert für Film A nur dann die Bewertung von Film B einfließen, wenn der Korrelationswert zwischen beiden $>0$ ist.  \n",
    "\n",
    "\n",
    "<img src=\"https://maucher.home.hdm-stuttgart.de/Pics/recommenderFilmItemBased.PNG\" style=\"width:500px\" align=\"center\">\n"
   ]
  },
  {
   "cell_type": "markdown",
   "metadata": {
    "pycharm": {
     "name": "#%% md\n"
    }
   },
   "source": [
    "Zunächst wir das Dictionary \"critics in ein Dictionary \"trans_critics\" umgebaut. Dabei sollten die Filmnamen und nicht die Personen die Keys sein. Dazu werden zwei verschaltete for-Schleifen verwendet. "
   ]
  },
  {
   "cell_type": "code",
   "execution_count": 35,
   "metadata": {
    "pycharm": {
     "name": "#%%\n"
    }
   },
   "outputs": [],
   "source": [
    "from math import isnan\n",
    "\n",
    "\n",
    "def transform_dict(critics, as_dataframe=False):\n",
    "    trans_critics = {movie:\n",
    "                         {person: movies[movie] for person, movies in critics.items() if movie in movies}\n",
    "                     for movie in get_all_items(critics)}\n",
    "\n",
    "    return DataFrame.from_dict(trans_critics) if as_dataframe else trans_critics"
   ]
  },
  {
   "cell_type": "code",
   "execution_count": 36,
   "metadata": {
    "pycharm": {
     "name": "#%%\n"
    }
   },
   "outputs": [
    {
     "data": {
      "text/html": [
       "<div>\n",
       "<style scoped>\n",
       "    .dataframe tbody tr th:only-of-type {\n",
       "        vertical-align: middle;\n",
       "    }\n",
       "\n",
       "    .dataframe tbody tr th {\n",
       "        vertical-align: top;\n",
       "    }\n",
       "\n",
       "    .dataframe thead th {\n",
       "        text-align: right;\n",
       "    }\n",
       "</style>\n",
       "<table border=\"1\" class=\"dataframe\">\n",
       "  <thead>\n",
       "    <tr style=\"text-align: right;\">\n",
       "      <th></th>\n",
       "      <th>Just My Luck</th>\n",
       "      <th>Snakes on a Plane</th>\n",
       "      <th>You, Me and Dupree</th>\n",
       "      <th>Lady in the Water</th>\n",
       "      <th>The Night Listener</th>\n",
       "      <th>Superman Returns</th>\n",
       "    </tr>\n",
       "  </thead>\n",
       "  <tbody>\n",
       "    <tr>\n",
       "      <th>Lisa Rose</th>\n",
       "      <td>3.0</td>\n",
       "      <td>3.5</td>\n",
       "      <td>2.5</td>\n",
       "      <td>2.5</td>\n",
       "      <td>3.0</td>\n",
       "      <td>3.5</td>\n",
       "    </tr>\n",
       "    <tr>\n",
       "      <th>Gene Seymour</th>\n",
       "      <td>1.5</td>\n",
       "      <td>3.5</td>\n",
       "      <td>3.5</td>\n",
       "      <td>3.0</td>\n",
       "      <td>3.0</td>\n",
       "      <td>5.0</td>\n",
       "    </tr>\n",
       "    <tr>\n",
       "      <th>Claudia Puig</th>\n",
       "      <td>3.0</td>\n",
       "      <td>3.5</td>\n",
       "      <td>2.5</td>\n",
       "      <td>NaN</td>\n",
       "      <td>4.5</td>\n",
       "      <td>4.0</td>\n",
       "    </tr>\n",
       "    <tr>\n",
       "      <th>Mick LaSalle</th>\n",
       "      <td>2.0</td>\n",
       "      <td>4.0</td>\n",
       "      <td>2.0</td>\n",
       "      <td>3.0</td>\n",
       "      <td>3.0</td>\n",
       "      <td>3.0</td>\n",
       "    </tr>\n",
       "    <tr>\n",
       "      <th>Michael Phillips</th>\n",
       "      <td>NaN</td>\n",
       "      <td>3.0</td>\n",
       "      <td>NaN</td>\n",
       "      <td>2.5</td>\n",
       "      <td>4.0</td>\n",
       "      <td>3.5</td>\n",
       "    </tr>\n",
       "    <tr>\n",
       "      <th>Jack Matthews</th>\n",
       "      <td>NaN</td>\n",
       "      <td>4.0</td>\n",
       "      <td>3.5</td>\n",
       "      <td>3.0</td>\n",
       "      <td>3.0</td>\n",
       "      <td>5.0</td>\n",
       "    </tr>\n",
       "    <tr>\n",
       "      <th>Toby</th>\n",
       "      <td>NaN</td>\n",
       "      <td>4.5</td>\n",
       "      <td>1.0</td>\n",
       "      <td>NaN</td>\n",
       "      <td>NaN</td>\n",
       "      <td>4.0</td>\n",
       "    </tr>\n",
       "  </tbody>\n",
       "</table>\n",
       "</div>"
      ],
      "text/plain": [
       "                  Just My Luck  Snakes on a Plane  You, Me and Dupree  \\\n",
       "Lisa Rose                  3.0                3.5                 2.5   \n",
       "Gene Seymour               1.5                3.5                 3.5   \n",
       "Claudia Puig               3.0                3.5                 2.5   \n",
       "Mick LaSalle               2.0                4.0                 2.0   \n",
       "Michael Phillips           NaN                3.0                 NaN   \n",
       "Jack Matthews              NaN                4.0                 3.5   \n",
       "Toby                       NaN                4.5                 1.0   \n",
       "\n",
       "                  Lady in the Water  The Night Listener  Superman Returns  \n",
       "Lisa Rose                       2.5                 3.0               3.5  \n",
       "Gene Seymour                    3.0                 3.0               5.0  \n",
       "Claudia Puig                    NaN                 4.5               4.0  \n",
       "Mick LaSalle                    3.0                 3.0               3.0  \n",
       "Michael Phillips                2.5                 4.0               3.5  \n",
       "Jack Matthews                   3.0                 3.0               5.0  \n",
       "Toby                            NaN                 NaN               4.0  "
      ]
     },
     "execution_count": 36,
     "metadata": {},
     "output_type": "execute_result"
    }
   ],
   "source": [
    "trans_critics = transform_dict(critics)\n",
    "DataFrame.from_dict(trans_critics)\n"
   ]
  },
  {
   "cell_type": "markdown",
   "metadata": {
    "pycharm": {
     "name": "#%% md\n"
    }
   },
   "source": [
    "Im nächsten Schritt wird für jeden Film in dem trans_ciritics dictionary die Methode \"topMatchesAsDict\" aufgerufen und in die Liste als Value in ein neues Dictionary gespeichter und dann zurückgegeben."
   ]
  },
  {
   "cell_type": "code",
   "execution_count": 37,
   "metadata": {},
   "outputs": [],
   "source": [
    "def calculate_similar_items(trans_critics, sim_f, as_dict=True):\n",
    "    similar_items = {movie: topMatchesAsDict(trans_critics, movie, sim_f) if as_dict\n",
    "    else topMatches(trans_critics, movie, sim_f)\n",
    "                     for movie in trans_critics}\n",
    "    return similar_items"
   ]
  },
  {
   "cell_type": "code",
   "execution_count": 38,
   "metadata": {
    "pycharm": {
     "name": "#%%\n"
    }
   },
   "outputs": [
    {
     "data": {
      "text/html": [
       "<div>\n",
       "<style scoped>\n",
       "    .dataframe tbody tr th:only-of-type {\n",
       "        vertical-align: middle;\n",
       "    }\n",
       "\n",
       "    .dataframe tbody tr th {\n",
       "        vertical-align: top;\n",
       "    }\n",
       "\n",
       "    .dataframe thead th {\n",
       "        text-align: right;\n",
       "    }\n",
       "</style>\n",
       "<table border=\"1\" class=\"dataframe\">\n",
       "  <thead>\n",
       "    <tr style=\"text-align: right;\">\n",
       "      <th></th>\n",
       "      <th>Just My Luck</th>\n",
       "      <th>Snakes on a Plane</th>\n",
       "      <th>You, Me and Dupree</th>\n",
       "      <th>Lady in the Water</th>\n",
       "      <th>The Night Listener</th>\n",
       "      <th>Superman Returns</th>\n",
       "    </tr>\n",
       "  </thead>\n",
       "  <tbody>\n",
       "    <tr>\n",
       "      <th>Snakes on a Plane</th>\n",
       "      <td>0.578413</td>\n",
       "      <td>NaN</td>\n",
       "      <td>0.582459</td>\n",
       "      <td>0.727714</td>\n",
       "      <td>0.738796</td>\n",
       "      <td>0.757898</td>\n",
       "    </tr>\n",
       "    <tr>\n",
       "      <th>You, Me and Dupree</th>\n",
       "      <td>0.653454</td>\n",
       "      <td>0.582459</td>\n",
       "      <td>NaN</td>\n",
       "      <td>0.765588</td>\n",
       "      <td>0.675866</td>\n",
       "      <td>0.587482</td>\n",
       "    </tr>\n",
       "    <tr>\n",
       "      <th>Lady in the Water</th>\n",
       "      <td>0.615912</td>\n",
       "      <td>0.727714</td>\n",
       "      <td>0.765588</td>\n",
       "      <td>NaN</td>\n",
       "      <td>0.759747</td>\n",
       "      <td>0.612574</td>\n",
       "    </tr>\n",
       "    <tr>\n",
       "      <th>The Night Listener</th>\n",
       "      <td>0.630397</td>\n",
       "      <td>0.738796</td>\n",
       "      <td>0.675866</td>\n",
       "      <td>0.759747</td>\n",
       "      <td>NaN</td>\n",
       "      <td>0.669789</td>\n",
       "    </tr>\n",
       "    <tr>\n",
       "      <th>Superman Returns</th>\n",
       "      <td>0.512303</td>\n",
       "      <td>0.757898</td>\n",
       "      <td>0.587482</td>\n",
       "      <td>0.612574</td>\n",
       "      <td>0.669789</td>\n",
       "      <td>NaN</td>\n",
       "    </tr>\n",
       "    <tr>\n",
       "      <th>Just My Luck</th>\n",
       "      <td>NaN</td>\n",
       "      <td>0.578413</td>\n",
       "      <td>0.653454</td>\n",
       "      <td>0.615912</td>\n",
       "      <td>0.630397</td>\n",
       "      <td>0.512303</td>\n",
       "    </tr>\n",
       "  </tbody>\n",
       "</table>\n",
       "</div>"
      ],
      "text/plain": [
       "                    Just My Luck  Snakes on a Plane  You, Me and Dupree  \\\n",
       "Snakes on a Plane       0.578413                NaN            0.582459   \n",
       "You, Me and Dupree      0.653454           0.582459                 NaN   \n",
       "Lady in the Water       0.615912           0.727714            0.765588   \n",
       "The Night Listener      0.630397           0.738796            0.675866   \n",
       "Superman Returns        0.512303           0.757898            0.587482   \n",
       "Just My Luck                 NaN           0.578413            0.653454   \n",
       "\n",
       "                    Lady in the Water  The Night Listener  Superman Returns  \n",
       "Snakes on a Plane            0.727714            0.738796          0.757898  \n",
       "You, Me and Dupree           0.765588            0.675866          0.587482  \n",
       "Lady in the Water                 NaN            0.759747          0.612574  \n",
       "The Night Listener           0.759747                 NaN          0.669789  \n",
       "Superman Returns             0.612574            0.669789               NaN  \n",
       "Just My Luck                 0.615912            0.630397          0.512303  "
      ]
     },
     "execution_count": 38,
     "metadata": {},
     "output_type": "execute_result"
    }
   ],
   "source": [
    "similar_items = calculate_similar_items(trans_critics, sim_euclid)\n",
    "DataFrame.from_dict(similar_items)"
   ]
  },
  {
   "cell_type": "code",
   "execution_count": 39,
   "metadata": {
    "pycharm": {
     "name": "#%%\n"
    }
   },
   "outputs": [],
   "source": [
    "def get_item_recommendations(critics, person, sim_f, zero_means_unrated=False):\n",
    "    rated_movies = {movie: rating for movie, rating in critics[person].items()}\n",
    "    print(f\"{person} has rated the following items: {rated_movies}\")\n",
    "\n",
    "    unrated_movies = get_unrated_items(critics, person, zero_means_unrated=zero_means_unrated)\n",
    "    print(f\"{person} has not rated the following items: {unrated_movies}\")\n",
    "\n",
    "    trans_critics = transform_dict(critics)\n",
    "    similar_items = calculate_similar_items(trans_critics, sim_f)\n",
    "\n",
    "    # get sum of similarities of given movie to all rated movies\n",
    "    def get_similarity_sum(movie, rated_movies, similar_items):\n",
    "        return sum([sim for movie, sim in similar_items[movie].items() if movie in rated_movies])\n",
    "\n",
    "    # return rating multiplied by similarity for the given movie for all movie in given rated movie list\n",
    "    def get_r_s(movie, rated_movies, similar_items):\n",
    "        r_s = {comp_movie: rated_movies[comp_movie] * similar_items[movie][comp_movie] for comp_movie in rated_movies}\n",
    "        return r_s\n",
    "\n",
    "    # return recommendation score for given movies compared to all other rated movies of a set of similar movies\n",
    "    def get_recommendation_score(movie, rated_movies, similar_items):\n",
    "        sim_sum = get_similarity_sum(movie, rated_movies, similar_items)\n",
    "        r_s = get_r_s(movie, rated_movies, similar_items)\n",
    "        r_s_sum = sum(r_s.values())\n",
    "        return r_s_sum / sim_sum\n",
    "\n",
    "    recommended_items = {unrated_movie: get_recommendation_score(unrated_movie, rated_movies, similar_items)\n",
    "                         for unrated_movie in unrated_movies}\n",
    "    print(f\"Recommendations for all unrated items of {person}: {recommended_items}\")\n",
    "\n",
    "    return recommended_items"
   ]
  },
  {
   "cell_type": "code",
   "execution_count": 40,
   "metadata": {
    "pycharm": {
     "name": "#%%\n"
    }
   },
   "outputs": [
    {
     "name": "stdout",
     "output_type": "stream",
     "text": [
      "Toby has rated the following items: {'Snakes on a Plane': 4.5, 'You, Me and Dupree': 1.0, 'Superman Returns': 4.0}\n",
      "Toby has not rated the following items: {'Lady in the Water', 'Just My Luck', 'The Night Listener'}\n",
      "Recommendations for all unrated items of Toby: {'Lady in the Water': 3.082136961799338, 'Just My Luck': 3.041861869079099, 'The Night Listener': 3.20449096016088}\n"
     ]
    },
    {
     "data": {
      "text/html": [
       "<div>\n",
       "<style scoped>\n",
       "    .dataframe tbody tr th:only-of-type {\n",
       "        vertical-align: middle;\n",
       "    }\n",
       "\n",
       "    .dataframe tbody tr th {\n",
       "        vertical-align: top;\n",
       "    }\n",
       "\n",
       "    .dataframe thead th {\n",
       "        text-align: right;\n",
       "    }\n",
       "</style>\n",
       "<table border=\"1\" class=\"dataframe\">\n",
       "  <thead>\n",
       "    <tr style=\"text-align: right;\">\n",
       "      <th></th>\n",
       "      <th>Recommendation Score</th>\n",
       "    </tr>\n",
       "  </thead>\n",
       "  <tbody>\n",
       "    <tr>\n",
       "      <th>Lady in the Water</th>\n",
       "      <td>3.082137</td>\n",
       "    </tr>\n",
       "    <tr>\n",
       "      <th>Just My Luck</th>\n",
       "      <td>3.041862</td>\n",
       "    </tr>\n",
       "    <tr>\n",
       "      <th>The Night Listener</th>\n",
       "      <td>3.204491</td>\n",
       "    </tr>\n",
       "  </tbody>\n",
       "</table>\n",
       "</div>"
      ],
      "text/plain": [
       "                    Recommendation Score\n",
       "Lady in the Water               3.082137\n",
       "Just My Luck                    3.041862\n",
       "The Night Listener              3.204491"
      ]
     },
     "execution_count": 40,
     "metadata": {},
     "output_type": "execute_result"
    }
   ],
   "source": [
    "person = \"Toby\"\n",
    "recommendations_items = get_item_recommendations(critics, person, sim_euclid)\n",
    "to_df(recommendations_items, \"Recommendation Score\")"
   ]
  },
  {
   "cell_type": "code",
   "execution_count": 41,
   "metadata": {
    "pycharm": {
     "name": "#%%\n"
    },
    "scrolled": true
   },
   "outputs": [
    {
     "name": "stdout",
     "output_type": "stream",
     "text": [
      "Toby has rated the following items: {'Snakes on a Plane': 4.5, 'You, Me and Dupree': 1.0, 'Superman Returns': 4.0}\n",
      "Toby has not rated the following items: {'Lady in the Water', 'Just My Luck', 'The Night Listener'}\n",
      "Recommendations for all unrated items of Toby: {'Lady in the Water': 3.082136961799338, 'Just My Luck': 3.041861869079099, 'The Night Listener': 3.20449096016088}\n"
     ]
    },
    {
     "data": {
      "text/html": [
       "<div>\n",
       "<style scoped>\n",
       "    .dataframe tbody tr th:only-of-type {\n",
       "        vertical-align: middle;\n",
       "    }\n",
       "\n",
       "    .dataframe tbody tr th {\n",
       "        vertical-align: top;\n",
       "    }\n",
       "\n",
       "    .dataframe thead th {\n",
       "        text-align: right;\n",
       "    }\n",
       "</style>\n",
       "<table border=\"1\" class=\"dataframe\">\n",
       "  <thead>\n",
       "    <tr style=\"text-align: right;\">\n",
       "      <th></th>\n",
       "      <th>Movies recommended for Toby based on other movies by using euclid</th>\n",
       "    </tr>\n",
       "  </thead>\n",
       "  <tbody>\n",
       "    <tr>\n",
       "      <th>Lady in the Water</th>\n",
       "      <td>3.082137</td>\n",
       "    </tr>\n",
       "    <tr>\n",
       "      <th>Just My Luck</th>\n",
       "      <td>3.041862</td>\n",
       "    </tr>\n",
       "    <tr>\n",
       "      <th>The Night Listener</th>\n",
       "      <td>3.204491</td>\n",
       "    </tr>\n",
       "  </tbody>\n",
       "</table>\n",
       "</div>"
      ],
      "text/plain": [
       "                    Movies recommended for Toby based on other movies by using euclid\n",
       "Lady in the Water                                            3.082137                \n",
       "Just My Luck                                                 3.041862                \n",
       "The Night Listener                                           3.204491                "
      ]
     },
     "execution_count": 41,
     "metadata": {},
     "output_type": "execute_result"
    }
   ],
   "source": [
    "person = \"Toby\"\n",
    "recommendations_items = get_item_recommendations(critics, person, sim_euclid)\n",
    "df_item_based = DataFrame.from_dict(data=recommendations_items, orient=\"index\", columns=[f'Movies recommended for {person} based on other movies by using euclid'])\n",
    "df_item_based"
   ]
  },
  {
   "cell_type": "markdown",
   "metadata": {},
   "source": [
    "_Beobachtung:_ Auch hier stimmen die Werte wieder mit den Werten der Tabelle überein, kleine Abweichungen entstehen durch Rundungen im Rechenvorgang. Im Vergleich von UCF und ICF fällt auf, dass die beiden Verfahren der Person Toby das gleiche Ranking der drei Filme empfehlen. Dies macht Sinn, denn beide Verfahren nehmen die Filmbewertungen der gleichen Nutzer als Grundlage ihres Filtering. Der Abstand zwischen den Empfehlungswerten ist beim ICF (mit euklidischem  Ähnkichkeitsmaß) aber deutlich geringer als beim UCF (mit Pearson).\n",
    "\n",
    "Vergleichswerte des UCF mit Pearson\n",
    "\n",
    "1. The Night Listener\t3.347790\n",
    "2. Lady in the Water\t2.832550\n",
    "3. Just My Luck\t2.530981"
   ]
  },
  {
   "cell_type": "markdown",
   "metadata": {},
   "source": [
    "### Weitere Beobachtungen"
   ]
  },
  {
   "cell_type": "markdown",
   "metadata": {},
   "source": [
    "Wie schon beim Userbasierten Collaborative Filtering ist es interessant zu vergleichen, wie sich der ICF-Algorithmus mit eukidischem bzw. Pearson-Ähnlichkeitsmaß verhält. Wir untersuchen erneut die beiden Personen Michael Phillips und Toby."
   ]
  },
  {
   "cell_type": "markdown",
   "metadata": {},
   "source": [
    "##### Recommendation-Reihenfolge Euklid- vs. Pearson-Ähnlichkeitsmaße"
   ]
  },
  {
   "cell_type": "markdown",
   "metadata": {},
   "source": [
    "#####  Euklid bei Michael"
   ]
  },
  {
   "cell_type": "code",
   "execution_count": 42,
   "metadata": {
    "pycharm": {
     "name": "#%%\n"
    }
   },
   "outputs": [
    {
     "name": "stdout",
     "output_type": "stream",
     "text": [
      "Michael Phillips has rated the following items: {'Lady in the Water': 2.5, 'Snakes on a Plane': 3.0, 'Superman Returns': 3.5, 'The Night Listener': 4.0}\n",
      "Michael Phillips has not rated the following items: {'Just My Luck', 'You, Me and Dupree'}\n",
      "Recommendations for all unrated items of Michael Phillips: {'Just My Luck': 3.247576600222787, 'You, Me and Dupree': 3.2247126427369395}\n"
     ]
    },
    {
     "data": {
      "text/html": [
       "<div>\n",
       "<style scoped>\n",
       "    .dataframe tbody tr th:only-of-type {\n",
       "        vertical-align: middle;\n",
       "    }\n",
       "\n",
       "    .dataframe tbody tr th {\n",
       "        vertical-align: top;\n",
       "    }\n",
       "\n",
       "    .dataframe thead th {\n",
       "        text-align: right;\n",
       "    }\n",
       "</style>\n",
       "<table border=\"1\" class=\"dataframe\">\n",
       "  <thead>\n",
       "    <tr style=\"text-align: right;\">\n",
       "      <th></th>\n",
       "      <th>Movies recommended for Michael Phillips based on other movies by using euclid</th>\n",
       "    </tr>\n",
       "  </thead>\n",
       "  <tbody>\n",
       "    <tr>\n",
       "      <th>Just My Luck</th>\n",
       "      <td>3.247577</td>\n",
       "    </tr>\n",
       "    <tr>\n",
       "      <th>You, Me and Dupree</th>\n",
       "      <td>3.224713</td>\n",
       "    </tr>\n",
       "  </tbody>\n",
       "</table>\n",
       "</div>"
      ],
      "text/plain": [
       "                    Movies recommended for Michael Phillips based on other movies by using euclid\n",
       "Just My Luck                                                 3.247577                            \n",
       "You, Me and Dupree                                           3.224713                            "
      ]
     },
     "execution_count": 42,
     "metadata": {},
     "output_type": "execute_result"
    }
   ],
   "source": [
    "person = \"Michael Phillips\"\n",
    "recommended_items = get_item_recommendations(critics, person, sim_euclid)\n",
    "df_item_based = DataFrame.from_dict(data=recommended_items, orient=\"index\", columns=[f'Movies recommended for {person} based on other movies by using euclid'])\n",
    "df_item_based"
   ]
  },
  {
   "cell_type": "markdown",
   "metadata": {},
   "source": [
    "##### Euklid bei Toby"
   ]
  },
  {
   "cell_type": "code",
   "execution_count": 43,
   "metadata": {
    "pycharm": {
     "name": "#%%\n"
    },
    "scrolled": true
   },
   "outputs": [
    {
     "name": "stdout",
     "output_type": "stream",
     "text": [
      "Toby has rated the following items: {'Snakes on a Plane': 4.5, 'You, Me and Dupree': 1.0, 'Superman Returns': 4.0}\n",
      "Toby has not rated the following items: {'Lady in the Water', 'Just My Luck', 'The Night Listener'}\n",
      "Recommendations for all unrated items of Toby: {'Lady in the Water': 3.082136961799338, 'Just My Luck': 3.041861869079099, 'The Night Listener': 3.20449096016088}\n"
     ]
    },
    {
     "data": {
      "text/html": [
       "<div>\n",
       "<style scoped>\n",
       "    .dataframe tbody tr th:only-of-type {\n",
       "        vertical-align: middle;\n",
       "    }\n",
       "\n",
       "    .dataframe tbody tr th {\n",
       "        vertical-align: top;\n",
       "    }\n",
       "\n",
       "    .dataframe thead th {\n",
       "        text-align: right;\n",
       "    }\n",
       "</style>\n",
       "<table border=\"1\" class=\"dataframe\">\n",
       "  <thead>\n",
       "    <tr style=\"text-align: right;\">\n",
       "      <th></th>\n",
       "      <th>Movies recommended for Toby based on other movies</th>\n",
       "    </tr>\n",
       "  </thead>\n",
       "  <tbody>\n",
       "    <tr>\n",
       "      <th>Lady in the Water</th>\n",
       "      <td>3.082137</td>\n",
       "    </tr>\n",
       "    <tr>\n",
       "      <th>Just My Luck</th>\n",
       "      <td>3.041862</td>\n",
       "    </tr>\n",
       "    <tr>\n",
       "      <th>The Night Listener</th>\n",
       "      <td>3.204491</td>\n",
       "    </tr>\n",
       "  </tbody>\n",
       "</table>\n",
       "</div>"
      ],
      "text/plain": [
       "                    Movies recommended for Toby based on other movies\n",
       "Lady in the Water                                            3.082137\n",
       "Just My Luck                                                 3.041862\n",
       "The Night Listener                                           3.204491"
      ]
     },
     "execution_count": 43,
     "metadata": {},
     "output_type": "execute_result"
    }
   ],
   "source": [
    "person = \"Toby\"\n",
    "recommended_items = get_item_recommendations(critics, person, sim_euclid)\n",
    "df_item_based = DataFrame.from_dict(data=recommended_items, orient=\"index\", columns=[f'Movies recommended for {person} based on other movies'])\n",
    "df_item_based"
   ]
  },
  {
   "cell_type": "markdown",
   "metadata": {},
   "source": [
    "##### Pearson bei Michael"
   ]
  },
  {
   "cell_type": "code",
   "execution_count": 44,
   "metadata": {},
   "outputs": [
    {
     "name": "stdout",
     "output_type": "stream",
     "text": [
      "Michael Phillips has rated the following items: {'Lady in the Water': 2.5, 'Snakes on a Plane': 3.0, 'Superman Returns': 3.5, 'The Night Listener': 4.0}\n",
      "Michael Phillips has not rated the following items: {'Just My Luck', 'You, Me and Dupree'}\n",
      "Recommendations for all unrated items of Michael Phillips: {'Just My Luck': 2.287202247268176, 'You, Me and Dupree': 2.084530435051426}\n"
     ]
    },
    {
     "data": {
      "text/html": [
       "<div>\n",
       "<style scoped>\n",
       "    .dataframe tbody tr th:only-of-type {\n",
       "        vertical-align: middle;\n",
       "    }\n",
       "\n",
       "    .dataframe tbody tr th {\n",
       "        vertical-align: top;\n",
       "    }\n",
       "\n",
       "    .dataframe thead th {\n",
       "        text-align: right;\n",
       "    }\n",
       "</style>\n",
       "<table border=\"1\" class=\"dataframe\">\n",
       "  <thead>\n",
       "    <tr style=\"text-align: right;\">\n",
       "      <th></th>\n",
       "      <th>Movies recommended for Michael Phillips based on other movies</th>\n",
       "    </tr>\n",
       "  </thead>\n",
       "  <tbody>\n",
       "    <tr>\n",
       "      <th>Just My Luck</th>\n",
       "      <td>2.287202</td>\n",
       "    </tr>\n",
       "    <tr>\n",
       "      <th>You, Me and Dupree</th>\n",
       "      <td>2.084530</td>\n",
       "    </tr>\n",
       "  </tbody>\n",
       "</table>\n",
       "</div>"
      ],
      "text/plain": [
       "                    Movies recommended for Michael Phillips based on other movies\n",
       "Just My Luck                                                 2.287202            \n",
       "You, Me and Dupree                                           2.084530            "
      ]
     },
     "execution_count": 44,
     "metadata": {},
     "output_type": "execute_result"
    }
   ],
   "source": [
    "person = \"Michael Phillips\"\n",
    "recommended_items = get_item_recommendations(critics, person, sim_pearson)\n",
    "df_item_based = DataFrame.from_dict(data=recommended_items, orient=\"index\", columns=[f'Movies recommended for {person} based on other movies'])\n",
    "df_item_based"
   ]
  },
  {
   "cell_type": "markdown",
   "metadata": {},
   "source": [
    "##### Pearson bei Toby"
   ]
  },
  {
   "cell_type": "code",
   "execution_count": 45,
   "metadata": {},
   "outputs": [
    {
     "name": "stdout",
     "output_type": "stream",
     "text": [
      "Toby has rated the following items: {'Snakes on a Plane': 4.5, 'You, Me and Dupree': 1.0, 'Superman Returns': 4.0}\n",
      "Toby has not rated the following items: {'Lady in the Water', 'Just My Luck', 'The Night Listener'}\n",
      "Recommendations for all unrated items of Toby: {'Lady in the Water': 3.610031066802179, 'Just My Luck': 2.9609998607242685, 'The Night Listener': 3.5313950341859823}\n"
     ]
    },
    {
     "data": {
      "text/html": [
       "<div>\n",
       "<style scoped>\n",
       "    .dataframe tbody tr th:only-of-type {\n",
       "        vertical-align: middle;\n",
       "    }\n",
       "\n",
       "    .dataframe tbody tr th {\n",
       "        vertical-align: top;\n",
       "    }\n",
       "\n",
       "    .dataframe thead th {\n",
       "        text-align: right;\n",
       "    }\n",
       "</style>\n",
       "<table border=\"1\" class=\"dataframe\">\n",
       "  <thead>\n",
       "    <tr style=\"text-align: right;\">\n",
       "      <th></th>\n",
       "      <th>Movies recommended for Toby based on other movies</th>\n",
       "    </tr>\n",
       "  </thead>\n",
       "  <tbody>\n",
       "    <tr>\n",
       "      <th>Lady in the Water</th>\n",
       "      <td>3.610031</td>\n",
       "    </tr>\n",
       "    <tr>\n",
       "      <th>Just My Luck</th>\n",
       "      <td>2.961000</td>\n",
       "    </tr>\n",
       "    <tr>\n",
       "      <th>The Night Listener</th>\n",
       "      <td>3.531395</td>\n",
       "    </tr>\n",
       "  </tbody>\n",
       "</table>\n",
       "</div>"
      ],
      "text/plain": [
       "                    Movies recommended for Toby based on other movies\n",
       "Lady in the Water                                            3.610031\n",
       "Just My Luck                                                 2.961000\n",
       "The Night Listener                                           3.531395"
      ]
     },
     "execution_count": 45,
     "metadata": {},
     "output_type": "execute_result"
    }
   ],
   "source": [
    "person = \"Toby\"\n",
    "recommended_items = get_item_recommendations(critics, person, sim_pearson)\n",
    "df_item_based = DataFrame.from_dict(data=recommended_items, orient=\"index\", columns=[f'Movies recommended for {person} based on other movies'])\n",
    "df_item_based"
   ]
  },
  {
   "cell_type": "markdown",
   "metadata": {},
   "source": [
    "##### Fazit Vergleich ICF mit Euklid vs. ICF mit Pearson\n",
    "\n",
    "Bei Michael Philipps fällt auf, dass der ICF mit Euklid für beide noch nicht gekauften Filme eine um ca. einen Punkt höhere Empfehlung ausgibt als die Anwendung des ICF mit dem Pearson-Ähnlichkeitsmaß.\n",
    "\n",
    "Bei Toby sind v.a. die Empfehlungen von Lady in the Water deutlich unterschiedlich. Pearson ergibt hier einen um 0.53 Punkte höheren Empfehlungswert.\n"
   ]
  },
  {
   "cell_type": "markdown",
   "metadata": {},
   "source": [
    "##### Recommendation-Scores Euklid- vs. Pearson-Ähnlichkeitsmaße"
   ]
  },
  {
   "cell_type": "code",
   "execution_count": 46,
   "metadata": {
    "pycharm": {
     "name": "#%%\n"
    }
   },
   "outputs": [
    {
     "name": "stdout",
     "output_type": "stream",
     "text": [
      "Persons with similarity greater than 0: ['Lisa Rose', 'Gene Seymour', 'Claudia Puig', 'Mick LaSalle', 'Jack Matthews']\n",
      "Individual items: {'Just My Luck', 'Snakes on a Plane', 'You, Me and Dupree', 'Lady in the Water', 'The Night Listener', 'Superman Returns'}\n",
      "Items that Toby has not rated: {'Lady in the Water', 'Just My Luck', 'The Night Listener'}\n"
     ]
    },
    {
     "data": {
      "text/html": [
       "<div>\n",
       "<style scoped>\n",
       "    .dataframe tbody tr th:only-of-type {\n",
       "        vertical-align: middle;\n",
       "    }\n",
       "\n",
       "    .dataframe tbody tr th {\n",
       "        vertical-align: top;\n",
       "    }\n",
       "\n",
       "    .dataframe thead th {\n",
       "        text-align: right;\n",
       "    }\n",
       "</style>\n",
       "<table border=\"1\" class=\"dataframe\">\n",
       "  <thead>\n",
       "    <tr style=\"text-align: right;\">\n",
       "      <th></th>\n",
       "      <th>Recommendation Score</th>\n",
       "    </tr>\n",
       "  </thead>\n",
       "  <tbody>\n",
       "    <tr>\n",
       "      <th>Lady in the Water</th>\n",
       "      <td>2.832550</td>\n",
       "    </tr>\n",
       "    <tr>\n",
       "      <th>Just My Luck</th>\n",
       "      <td>2.530981</td>\n",
       "    </tr>\n",
       "    <tr>\n",
       "      <th>The Night Listener</th>\n",
       "      <td>3.347790</td>\n",
       "    </tr>\n",
       "  </tbody>\n",
       "</table>\n",
       "</div>"
      ],
      "text/plain": [
       "                    Recommendation Score\n",
       "Lady in the Water               2.832550\n",
       "Just My Luck                    2.530981\n",
       "The Night Listener              3.347790"
      ]
     },
     "execution_count": 46,
     "metadata": {},
     "output_type": "execute_result"
    }
   ],
   "source": [
    "recommendations_user = get_user_recommendations(critics, person, sim_pearson)\n",
    "to_df(recommendations_user, \"Recommendation Score\")"
   ]
  },
  {
   "cell_type": "code",
   "execution_count": 47,
   "metadata": {
    "pycharm": {
     "name": "#%%\n"
    }
   },
   "outputs": [
    {
     "name": "stdout",
     "output_type": "stream",
     "text": [
      "Michael Phillips has rated the following items: {'Lady in the Water': 2.5, 'Snakes on a Plane': 3.0, 'Superman Returns': 3.5, 'The Night Listener': 4.0}\n",
      "Michael Phillips has not rated the following items: {'Just My Luck', 'You, Me and Dupree'}\n",
      "Recommendations for all unrated items of Michael Phillips: {'Just My Luck': 3.247576600222787, 'You, Me and Dupree': 3.2247126427369395}\n"
     ]
    },
    {
     "data": {
      "text/html": [
       "<div>\n",
       "<style scoped>\n",
       "    .dataframe tbody tr th:only-of-type {\n",
       "        vertical-align: middle;\n",
       "    }\n",
       "\n",
       "    .dataframe tbody tr th {\n",
       "        vertical-align: top;\n",
       "    }\n",
       "\n",
       "    .dataframe thead th {\n",
       "        text-align: right;\n",
       "    }\n",
       "</style>\n",
       "<table border=\"1\" class=\"dataframe\">\n",
       "  <thead>\n",
       "    <tr style=\"text-align: right;\">\n",
       "      <th></th>\n",
       "      <th>Recommendation Score</th>\n",
       "    </tr>\n",
       "  </thead>\n",
       "  <tbody>\n",
       "    <tr>\n",
       "      <th>Just My Luck</th>\n",
       "      <td>3.247577</td>\n",
       "    </tr>\n",
       "    <tr>\n",
       "      <th>You, Me and Dupree</th>\n",
       "      <td>3.224713</td>\n",
       "    </tr>\n",
       "  </tbody>\n",
       "</table>\n",
       "</div>"
      ],
      "text/plain": [
       "                    Recommendation Score\n",
       "Just My Luck                    3.247577\n",
       "You, Me and Dupree              3.224713"
      ]
     },
     "execution_count": 47,
     "metadata": {},
     "output_type": "execute_result"
    }
   ],
   "source": [
    "person = \"Michael Phillips\"\n",
    "recommendations_items = get_item_recommendations(critics, person, sim_euclid)\n",
    "to_df(recommendations_items, \"Recommendation Score\")"
   ]
  },
  {
   "cell_type": "code",
   "execution_count": 48,
   "metadata": {
    "pycharm": {
     "name": "#%%\n"
    }
   },
   "outputs": [
    {
     "name": "stdout",
     "output_type": "stream",
     "text": [
      "Persons with similarity greater than 0: ['Lisa Rose', 'Gene Seymour', 'Claudia Puig', 'Jack Matthews']\n",
      "Individual items: {'Just My Luck', 'Snakes on a Plane', 'You, Me and Dupree', 'Lady in the Water', 'The Night Listener', 'Superman Returns'}\n",
      "Items that Michael Phillips has not rated: {'Just My Luck', 'You, Me and Dupree'}\n"
     ]
    },
    {
     "data": {
      "text/html": [
       "<div>\n",
       "<style scoped>\n",
       "    .dataframe tbody tr th:only-of-type {\n",
       "        vertical-align: middle;\n",
       "    }\n",
       "\n",
       "    .dataframe tbody tr th {\n",
       "        vertical-align: top;\n",
       "    }\n",
       "\n",
       "    .dataframe thead th {\n",
       "        text-align: right;\n",
       "    }\n",
       "</style>\n",
       "<table border=\"1\" class=\"dataframe\">\n",
       "  <thead>\n",
       "    <tr style=\"text-align: right;\">\n",
       "      <th></th>\n",
       "      <th>Recommendation Score</th>\n",
       "    </tr>\n",
       "  </thead>\n",
       "  <tbody>\n",
       "    <tr>\n",
       "      <th>Just My Luck</th>\n",
       "      <td>2.809276</td>\n",
       "    </tr>\n",
       "    <tr>\n",
       "      <th>You, Me and Dupree</th>\n",
       "      <td>2.694637</td>\n",
       "    </tr>\n",
       "  </tbody>\n",
       "</table>\n",
       "</div>"
      ],
      "text/plain": [
       "                    Recommendation Score\n",
       "Just My Luck                    2.809276\n",
       "You, Me and Dupree              2.694637"
      ]
     },
     "execution_count": 48,
     "metadata": {},
     "output_type": "execute_result"
    }
   ],
   "source": [
    "recommendations_user = get_user_recommendations(critics, person, sim_pearson)\n",
    "to_df(recommendations_user, \"Recommendation Score\")"
   ]
  },
  {
   "cell_type": "code",
   "execution_count": 49,
   "metadata": {},
   "outputs": [
    {
     "name": "stdout",
     "output_type": "stream",
     "text": [
      "Persons with similarity greater than 0: ['Lisa Rose', 'Gene Seymour', 'Michael Phillips', 'Claudia Puig', 'Mick LaSalle', 'Jack Matthews']\n",
      "Individual items: {'Just My Luck', 'Snakes on a Plane', 'You, Me and Dupree', 'Lady in the Water', 'The Night Listener', 'Superman Returns'}\n",
      "Items that Toby has not rated: {'Lady in the Water', 'Just My Luck', 'The Night Listener'}\n"
     ]
    },
    {
     "data": {
      "text/html": [
       "<div>\n",
       "<style scoped>\n",
       "    .dataframe tbody tr th:only-of-type {\n",
       "        vertical-align: middle;\n",
       "    }\n",
       "\n",
       "    .dataframe tbody tr th {\n",
       "        vertical-align: top;\n",
       "    }\n",
       "\n",
       "    .dataframe thead th {\n",
       "        text-align: right;\n",
       "    }\n",
       "</style>\n",
       "<table border=\"1\" class=\"dataframe\">\n",
       "  <thead>\n",
       "    <tr style=\"text-align: right;\">\n",
       "      <th></th>\n",
       "      <th>Recommendation Score</th>\n",
       "    </tr>\n",
       "  </thead>\n",
       "  <tbody>\n",
       "    <tr>\n",
       "      <th>Lady in the Water</th>\n",
       "      <td>2.795737</td>\n",
       "    </tr>\n",
       "    <tr>\n",
       "      <th>Just My Luck</th>\n",
       "      <td>2.407393</td>\n",
       "    </tr>\n",
       "    <tr>\n",
       "      <th>The Night Listener</th>\n",
       "      <td>3.427348</td>\n",
       "    </tr>\n",
       "  </tbody>\n",
       "</table>\n",
       "</div>"
      ],
      "text/plain": [
       "                    Recommendation Score\n",
       "Lady in the Water               2.795737\n",
       "Just My Luck                    2.407393\n",
       "The Night Listener              3.427348"
      ]
     },
     "execution_count": 49,
     "metadata": {},
     "output_type": "execute_result"
    }
   ],
   "source": [
    "recommendations_euclid = get_user_recommendations(critics, \"Toby\", sim_euclid)\n",
    "to_df(recommendations_euclid, \"Recommendation Score\")"
   ]
  },
  {
   "cell_type": "code",
   "execution_count": 50,
   "metadata": {
    "pycharm": {
     "name": "#%%\n"
    }
   },
   "outputs": [],
   "source": [
    "def get_similarity_comparison(ref_dict, f_recommendation, algorithm_one, algorithm_two, zero_means_unrated=False):\n",
    "    users = get_all_persons(ref_dict)\n",
    "    all_recommendations_one = {\n",
    "        user: f_recommendation(ref_dict, user, algorithm_one, zero_means_unrated=zero_means_unrated) for user in users}\n",
    "    all_recommendations_two = {\n",
    "        user: f_recommendation(ref_dict, user, algorithm_two, zero_means_unrated=zero_means_unrated) for user in users}\n",
    "\n",
    "    comparison = {user: sum(\n",
    "        [1 if all_recommendations_one[user][item] >= all_recommendations_two[user][item] else 0 for item in\n",
    "         all_recommendations_one[user].keys()]) / len(all_recommendations_one[user].keys()) for user in users\n",
    "                  if len(all_recommendations_one[user]) > 0}\n",
    "    return comparison"
   ]
  },
  {
   "cell_type": "code",
   "execution_count": 51,
   "metadata": {
    "pycharm": {
     "name": "#%%\n"
    },
    "scrolled": true
   },
   "outputs": [
    {
     "name": "stdout",
     "output_type": "stream",
     "text": [
      "Persons with similarity greater than 0: ['Gene Seymour', 'Michael Phillips', 'Claudia Puig', 'Mick LaSalle', 'Jack Matthews', 'Toby']\n",
      "Individual items: {'Just My Luck', 'Snakes on a Plane', 'You, Me and Dupree', 'Lady in the Water', 'The Night Listener', 'Superman Returns'}\n",
      "Items that Lisa Rose has not rated: set()\n",
      "Persons with similarity greater than 0: ['Lisa Rose', 'Michael Phillips', 'Claudia Puig', 'Mick LaSalle', 'Jack Matthews', 'Toby']\n",
      "Individual items: {'Just My Luck', 'Snakes on a Plane', 'You, Me and Dupree', 'Lady in the Water', 'The Night Listener', 'Superman Returns'}\n",
      "Items that Gene Seymour has not rated: set()\n",
      "Persons with similarity greater than 0: ['Lisa Rose', 'Gene Seymour', 'Claudia Puig', 'Mick LaSalle', 'Jack Matthews', 'Toby']\n",
      "Individual items: {'Just My Luck', 'Snakes on a Plane', 'You, Me and Dupree', 'Lady in the Water', 'The Night Listener', 'Superman Returns'}\n",
      "Items that Michael Phillips has not rated: {'Just My Luck', 'You, Me and Dupree'}\n",
      "Persons with similarity greater than 0: ['Lisa Rose', 'Gene Seymour', 'Michael Phillips', 'Mick LaSalle', 'Jack Matthews', 'Toby']\n",
      "Individual items: {'Just My Luck', 'Snakes on a Plane', 'You, Me and Dupree', 'Lady in the Water', 'The Night Listener', 'Superman Returns'}\n",
      "Items that Claudia Puig has not rated: {'Lady in the Water'}\n",
      "Persons with similarity greater than 0: ['Lisa Rose', 'Gene Seymour', 'Michael Phillips', 'Claudia Puig', 'Jack Matthews', 'Toby']\n",
      "Individual items: {'Just My Luck', 'Snakes on a Plane', 'You, Me and Dupree', 'Lady in the Water', 'The Night Listener', 'Superman Returns'}\n",
      "Items that Mick LaSalle has not rated: set()\n",
      "Persons with similarity greater than 0: ['Lisa Rose', 'Gene Seymour', 'Michael Phillips', 'Claudia Puig', 'Mick LaSalle', 'Toby']\n",
      "Individual items: {'Just My Luck', 'Snakes on a Plane', 'You, Me and Dupree', 'Lady in the Water', 'The Night Listener', 'Superman Returns'}\n",
      "Items that Jack Matthews has not rated: {'Just My Luck'}\n",
      "Persons with similarity greater than 0: ['Lisa Rose', 'Gene Seymour', 'Michael Phillips', 'Claudia Puig', 'Mick LaSalle', 'Jack Matthews']\n",
      "Individual items: {'Just My Luck', 'Snakes on a Plane', 'You, Me and Dupree', 'Lady in the Water', 'The Night Listener', 'Superman Returns'}\n",
      "Items that Toby has not rated: {'Lady in the Water', 'Just My Luck', 'The Night Listener'}\n",
      "Persons with similarity greater than 0: ['Gene Seymour', 'Michael Phillips', 'Claudia Puig', 'Mick LaSalle', 'Jack Matthews', 'Toby']\n",
      "Individual items: {'Just My Luck', 'Snakes on a Plane', 'You, Me and Dupree', 'Lady in the Water', 'The Night Listener', 'Superman Returns'}\n",
      "Items that Lisa Rose has not rated: set()\n",
      "Persons with similarity greater than 0: ['Lisa Rose', 'Michael Phillips', 'Claudia Puig', 'Mick LaSalle', 'Jack Matthews', 'Toby']\n",
      "Individual items: {'Just My Luck', 'Snakes on a Plane', 'You, Me and Dupree', 'Lady in the Water', 'The Night Listener', 'Superman Returns'}\n",
      "Items that Gene Seymour has not rated: set()\n",
      "Persons with similarity greater than 0: ['Lisa Rose', 'Gene Seymour', 'Claudia Puig', 'Jack Matthews']\n",
      "Individual items: {'Just My Luck', 'Snakes on a Plane', 'You, Me and Dupree', 'Lady in the Water', 'The Night Listener', 'Superman Returns'}\n",
      "Items that Michael Phillips has not rated: {'Just My Luck', 'You, Me and Dupree'}\n",
      "Persons with similarity greater than 0: ['Lisa Rose', 'Gene Seymour', 'Michael Phillips', 'Mick LaSalle', 'Jack Matthews', 'Toby']\n",
      "Individual items: {'Just My Luck', 'Snakes on a Plane', 'You, Me and Dupree', 'Lady in the Water', 'The Night Listener', 'Superman Returns'}\n",
      "Items that Claudia Puig has not rated: {'Lady in the Water'}\n",
      "Persons with similarity greater than 0: ['Lisa Rose', 'Gene Seymour', 'Claudia Puig', 'Jack Matthews', 'Toby']\n",
      "Individual items: {'Just My Luck', 'Snakes on a Plane', 'You, Me and Dupree', 'Lady in the Water', 'The Night Listener', 'Superman Returns'}\n",
      "Items that Mick LaSalle has not rated: set()\n",
      "Persons with similarity greater than 0: ['Lisa Rose', 'Gene Seymour', 'Michael Phillips', 'Claudia Puig', 'Mick LaSalle', 'Toby']\n",
      "Individual items: {'Just My Luck', 'Snakes on a Plane', 'You, Me and Dupree', 'Lady in the Water', 'The Night Listener', 'Superman Returns'}\n",
      "Items that Jack Matthews has not rated: {'Just My Luck'}\n",
      "Persons with similarity greater than 0: ['Lisa Rose', 'Gene Seymour', 'Claudia Puig', 'Mick LaSalle', 'Jack Matthews']\n",
      "Individual items: {'Just My Luck', 'Snakes on a Plane', 'You, Me and Dupree', 'Lady in the Water', 'The Night Listener', 'Superman Returns'}\n",
      "Items that Toby has not rated: {'Lady in the Water', 'Just My Luck', 'The Night Listener'}\n"
     ]
    },
    {
     "data": {
      "text/html": [
       "<div>\n",
       "<style scoped>\n",
       "    .dataframe tbody tr th:only-of-type {\n",
       "        vertical-align: middle;\n",
       "    }\n",
       "\n",
       "    .dataframe tbody tr th {\n",
       "        vertical-align: top;\n",
       "    }\n",
       "\n",
       "    .dataframe thead th {\n",
       "        text-align: right;\n",
       "    }\n",
       "</style>\n",
       "<table border=\"1\" class=\"dataframe\">\n",
       "  <thead>\n",
       "    <tr style=\"text-align: right;\">\n",
       "      <th></th>\n",
       "      <th>N(Euclidean&gt;=Pearson) / N of User-Based Recommendations</th>\n",
       "    </tr>\n",
       "  </thead>\n",
       "  <tbody>\n",
       "    <tr>\n",
       "      <th>Michael Phillips</th>\n",
       "      <td>0.000000</td>\n",
       "    </tr>\n",
       "    <tr>\n",
       "      <th>Claudia Puig</th>\n",
       "      <td>1.000000</td>\n",
       "    </tr>\n",
       "    <tr>\n",
       "      <th>Jack Matthews</th>\n",
       "      <td>1.000000</td>\n",
       "    </tr>\n",
       "    <tr>\n",
       "      <th>Toby</th>\n",
       "      <td>0.333333</td>\n",
       "    </tr>\n",
       "  </tbody>\n",
       "</table>\n",
       "</div>"
      ],
      "text/plain": [
       "                  N(Euclidean>=Pearson) / N of User-Based Recommendations\n",
       "Michael Phillips                                           0.000000      \n",
       "Claudia Puig                                               1.000000      \n",
       "Jack Matthews                                              1.000000      \n",
       "Toby                                                       0.333333      "
      ]
     },
     "execution_count": 51,
     "metadata": {},
     "output_type": "execute_result"
    }
   ],
   "source": [
    "comparison = get_similarity_comparison(critics, get_user_recommendations, sim_euclid, sim_pearson)\n",
    "to_df(comparison, \"N(Euclidean>=Pearson) / N of User-Based Recommendations\")"
   ]
  },
  {
   "cell_type": "markdown",
   "metadata": {},
   "source": [
    "Die Werte im angezeigten Dataframe liegen zwischen 0 und 1. Der Wert 1 bedeutet, dass der euklidische Algorithmus immer ein größeren Recommendation-Score erzeugt als Pearson, 0 bedeutet das Gegenteil. \n",
    "Die Ergebnisse sind aufgrund von mangelnden Daten nicht aussagekräftig. Trotzdem kann man erkennen, dass keine auffällige Tendenz in eine Richtung vorliegt. "
   ]
  },
  {
   "cell_type": "code",
   "execution_count": 52,
   "metadata": {
    "pycharm": {
     "name": "#%%\n"
    },
    "scrolled": true
   },
   "outputs": [
    {
     "name": "stdout",
     "output_type": "stream",
     "text": [
      "Lisa Rose has rated the following items: {'Lady in the Water': 2.5, 'Snakes on a Plane': 3.5, 'Just My Luck': 3.0, 'Superman Returns': 3.5, 'You, Me and Dupree': 2.5, 'The Night Listener': 3.0}\n",
      "Lisa Rose has not rated the following items: set()\n",
      "Recommendations for all unrated items of Lisa Rose: {}\n",
      "Gene Seymour has rated the following items: {'Lady in the Water': 3.0, 'Snakes on a Plane': 3.5, 'Just My Luck': 1.5, 'Superman Returns': 5.0, 'The Night Listener': 3.0, 'You, Me and Dupree': 3.5}\n",
      "Gene Seymour has not rated the following items: set()\n",
      "Recommendations for all unrated items of Gene Seymour: {}\n",
      "Michael Phillips has rated the following items: {'Lady in the Water': 2.5, 'Snakes on a Plane': 3.0, 'Superman Returns': 3.5, 'The Night Listener': 4.0}\n",
      "Michael Phillips has not rated the following items: {'Just My Luck', 'You, Me and Dupree'}\n",
      "Recommendations for all unrated items of Michael Phillips: {'Just My Luck': 3.247576600222787, 'You, Me and Dupree': 3.2247126427369395}\n",
      "Claudia Puig has rated the following items: {'Snakes on a Plane': 3.5, 'Just My Luck': 3.0, 'The Night Listener': 4.5, 'Superman Returns': 4.0, 'You, Me and Dupree': 2.5}\n",
      "Claudia Puig has not rated the following items: {'Lady in the Water'}\n",
      "Recommendations for all unrated items of Claudia Puig: {'Lady in the Water': 3.497843063394867}\n",
      "Mick LaSalle has rated the following items: {'Lady in the Water': 3.0, 'Snakes on a Plane': 4.0, 'Just My Luck': 2.0, 'Superman Returns': 3.0, 'The Night Listener': 3.0, 'You, Me and Dupree': 2.0}\n",
      "Mick LaSalle has not rated the following items: set()\n",
      "Recommendations for all unrated items of Mick LaSalle: {}\n",
      "Jack Matthews has rated the following items: {'Lady in the Water': 3.0, 'Snakes on a Plane': 4.0, 'The Night Listener': 3.0, 'Superman Returns': 5.0, 'You, Me and Dupree': 3.5}\n",
      "Jack Matthews has not rated the following items: {'Just My Luck'}\n",
      "Recommendations for all unrated items of Jack Matthews: {'Just My Luck': 3.6452964797551872}\n",
      "Toby has rated the following items: {'Snakes on a Plane': 4.5, 'You, Me and Dupree': 1.0, 'Superman Returns': 4.0}\n",
      "Toby has not rated the following items: {'Lady in the Water', 'Just My Luck', 'The Night Listener'}\n",
      "Recommendations for all unrated items of Toby: {'Lady in the Water': 3.082136961799338, 'Just My Luck': 3.041861869079099, 'The Night Listener': 3.20449096016088}\n",
      "Lisa Rose has rated the following items: {'Lady in the Water': 2.5, 'Snakes on a Plane': 3.5, 'Just My Luck': 3.0, 'Superman Returns': 3.5, 'You, Me and Dupree': 2.5, 'The Night Listener': 3.0}\n",
      "Lisa Rose has not rated the following items: set()\n",
      "Recommendations for all unrated items of Lisa Rose: {}\n",
      "Gene Seymour has rated the following items: {'Lady in the Water': 3.0, 'Snakes on a Plane': 3.5, 'Just My Luck': 1.5, 'Superman Returns': 5.0, 'The Night Listener': 3.0, 'You, Me and Dupree': 3.5}\n",
      "Gene Seymour has not rated the following items: set()\n",
      "Recommendations for all unrated items of Gene Seymour: {}\n",
      "Michael Phillips has rated the following items: {'Lady in the Water': 2.5, 'Snakes on a Plane': 3.0, 'Superman Returns': 3.5, 'The Night Listener': 4.0}\n",
      "Michael Phillips has not rated the following items: {'Just My Luck', 'You, Me and Dupree'}\n",
      "Recommendations for all unrated items of Michael Phillips: {'Just My Luck': 2.287202247268176, 'You, Me and Dupree': 2.084530435051426}\n",
      "Claudia Puig has rated the following items: {'Snakes on a Plane': 3.5, 'Just My Luck': 3.0, 'The Night Listener': 4.5, 'Superman Returns': 4.0, 'You, Me and Dupree': 2.5}\n",
      "Claudia Puig has not rated the following items: {'Lady in the Water'}\n",
      "Recommendations for all unrated items of Claudia Puig: {'Lady in the Water': -4.758487329469464}\n",
      "Mick LaSalle has rated the following items: {'Lady in the Water': 3.0, 'Snakes on a Plane': 4.0, 'Just My Luck': 2.0, 'Superman Returns': 3.0, 'The Night Listener': 3.0, 'You, Me and Dupree': 2.0}\n",
      "Mick LaSalle has not rated the following items: set()\n",
      "Recommendations for all unrated items of Mick LaSalle: {}\n",
      "Jack Matthews has rated the following items: {'Lady in the Water': 3.0, 'Snakes on a Plane': 4.0, 'The Night Listener': 3.0, 'Superman Returns': 5.0, 'You, Me and Dupree': 3.5}\n",
      "Jack Matthews has not rated the following items: {'Just My Luck'}\n",
      "Recommendations for all unrated items of Jack Matthews: {'Just My Luck': 3.871694896131647}\n",
      "Toby has rated the following items: {'Snakes on a Plane': 4.5, 'You, Me and Dupree': 1.0, 'Superman Returns': 4.0}\n",
      "Toby has not rated the following items: {'Lady in the Water', 'Just My Luck', 'The Night Listener'}\n",
      "Recommendations for all unrated items of Toby: {'Lady in the Water': 3.610031066802179, 'Just My Luck': 2.9609998607242685, 'The Night Listener': 3.5313950341859823}\n"
     ]
    },
    {
     "data": {
      "text/html": [
       "<div>\n",
       "<style scoped>\n",
       "    .dataframe tbody tr th:only-of-type {\n",
       "        vertical-align: middle;\n",
       "    }\n",
       "\n",
       "    .dataframe tbody tr th {\n",
       "        vertical-align: top;\n",
       "    }\n",
       "\n",
       "    .dataframe thead th {\n",
       "        text-align: right;\n",
       "    }\n",
       "</style>\n",
       "<table border=\"1\" class=\"dataframe\">\n",
       "  <thead>\n",
       "    <tr style=\"text-align: right;\">\n",
       "      <th></th>\n",
       "      <th>N(Euclidean&gt;=Pearson) / N  ofItem-Based Recommendations</th>\n",
       "    </tr>\n",
       "  </thead>\n",
       "  <tbody>\n",
       "    <tr>\n",
       "      <th>Michael Phillips</th>\n",
       "      <td>1.000000</td>\n",
       "    </tr>\n",
       "    <tr>\n",
       "      <th>Claudia Puig</th>\n",
       "      <td>1.000000</td>\n",
       "    </tr>\n",
       "    <tr>\n",
       "      <th>Jack Matthews</th>\n",
       "      <td>0.000000</td>\n",
       "    </tr>\n",
       "    <tr>\n",
       "      <th>Toby</th>\n",
       "      <td>0.333333</td>\n",
       "    </tr>\n",
       "  </tbody>\n",
       "</table>\n",
       "</div>"
      ],
      "text/plain": [
       "                  N(Euclidean>=Pearson) / N  ofItem-Based Recommendations\n",
       "Michael Phillips                                           1.000000      \n",
       "Claudia Puig                                               1.000000      \n",
       "Jack Matthews                                              0.000000      \n",
       "Toby                                                       0.333333      "
      ]
     },
     "execution_count": 52,
     "metadata": {},
     "output_type": "execute_result"
    }
   ],
   "source": [
    "comparison = get_similarity_comparison(critics, get_item_recommendations, sim_euclid, sim_pearson)\n",
    "to_df(comparison, \"N(Euclidean>=Pearson) / N  ofItem-Based Recommendations\")"
   ]
  },
  {
   "cell_type": "markdown",
   "metadata": {},
   "source": [
    "Wenn man sich die gleichen Kennzahlen für die Item-basierten Empfehlungen ausgeben lässt kann man ebenfalls keine klaren Tendenzen erkennen. "
   ]
  },
  {
   "cell_type": "markdown",
   "metadata": {
    "pycharm": {
     "name": "#%% md\n"
    },
    "slideshow": {
     "slide_type": "slide"
    }
   },
   "source": [
    "## last.fm Musikempfehlungen\n",
    "\n",
    "__Aufgabe:__\n",
    "\n",
    "1. Installieren Sie das Package pylast. Stellen Sie durch Aufruf der Funktion *network=pylast.LastFMNetwork()* eine Verbindung zu *last.fm* her. Beim Aufruf der Funktion wird die Anmeldung und Authentifizierung durchgeführt. Die Funktion gibt ein Objekt der Klasse *Network* zurück. Über dieses Objekt können Methoden, wie\n",
    "\n",
    "    * *get_artist(\"kuenstlerName\")* (liefert Objekt der Klasse _Artist_)\n",
    "    * *get_album(\"albumName\")* (liefert Objekt der Klasse _Album_)\n",
    "    * *get_track(\"songName\")* (liefert Objekt der Klasse _Track_)\n",
    "    * *get_user(\"userName\"):* (liefert Objekt der Klass_Tag_)\n",
    "    * usw.\n",
    "    \n",
    "      aufgerufen werden. Die Menge aller verfügbaren Klassen und deren Attribute und Methoden können dem Modul _pylast.py_ entnommen werden.\n",
    "\n",
    "1. Rufen Sie über das oben instanziierte _Network_-Objekt die Methode *get_artist(\"BandIhrerWahl\")* auf.\n",
    "2. Rufen Sie über das oben instanziierte _Artist_-Objekt die Methode *topfans=get_top_fans(10)* auf. Die Methode gibt eine Liste von _User_-Objekt/Gewichtung-Paaren zurück. Die Gewichtungen von Objekten werden in diesem Versuch nicht benötigt. Legen Sie deshalb mit _group=[a.item for a in topfan]_ eine Liste an, die nur noch die User Objekte enthält. **Wichtige Anmerkung:** Seit August 2015 gibt es Probleme mit der lastFM API Methode *get_top_fans()* (siehe auch: [pylast issues](https://github.com/pylast/pylast/issues/155s)). Falls am Versuchstermin der Fehler noch nicht behoben ist, können Sie den unten stehenden Code benutzen. Darin wird versucht auf die API-Methode zuzugreifen. Falls das nicht möglich ist, wird eine vordefinierte Liste von Usern angewandt. Diese Liste repräsentiert die *Top Fans* der Band *Slipknot* im Frühjahr 2015. \n",
    "3. Implementieren Sie eine Funktion *createLastfmUserDict()*. Dieser Funktion soll, die oben angelegte Liste von _User_-Objekten _group_ übergeben werden. Für jeden User in *group* sollen die 20 beliebtesten Bands mit der Methode *topartists=get_top_artists()[0:20]* bestimmt werden. Die Methode gibt eine Liste von *Artist*-Objekt/Gewichtung-Paaren zurück. Die Gewichtungen von Objekten werden in diesem Versuch nicht benötigt. Auf das *i.te* *Artist*-Objekt selbst kann mit *topartists[i].item* zugegriffen werden. Die Menge aller Bands, die auf diese Weise gesammelt werden, wird im folgenden mit _AllBands_ bezeichnet. D.h. in *AllBands* befinden sich alle Bands, die für mindestens einen User in *group* zu den Top-20 gehören. Nun soll ein verschachteltes Dictionary mit Namen *userDict* wie folgt angelegt werden:\n",
    "\n",
    "    * Die Keys sind die Namen der _User_-Objekte in _group_. Auf den Namen eines Objekts kann mit *get_name()* zugegriffen werden.\n",
    "    * Die Values sind selbst wieder Dictionaries, deren Keys die Namen der Bands in *AllBands* sind. Achten Sie auch hier darauf, dass Sie nicht das *Artist*-Objekt selbst, sondern dessen Namen als Key verwenden. \n",
    "    * Für den User *a* und die Band *b* ist der Value *userDict[a][b]= 1*, falls *b* zu den Top-20 des Users *a* gehört. Andernfalls ist *userDict[a][b]= 0*. \n",
    "    \n",
    "    Das derart angelegte Dictionary soll von der Funktion zurückgegeben werden. \n",
    "4. Wählen Sie jetzt einen beliebigen User aus *group*. Bestimmen Sie zu diesem User die ähnlichsten User in *group* durch Anwendung der im ersten Teilversuch implementierten Funktion *topMatches()*. Der Funktion wird das angelegte *userDict* und der Name des gewählten Users übergeben. Als Ähnlichkeitsmaß soll die euklidische Metrik angewandt werden.\n",
    "5. Bestimmen Sie dann für den gewählten User Band-Empfehlungen durch Anwendung der im ersten Teilversuch implementierten Funktion *getRecommendations()*. Der Funktion wird das angelegte *userDict* und der Name des gewählten Users übergeben. Als Ähnlichkeitsmaß soll die euklidische Metrik, danach die Russel_Rao Metrik, angewandt werden.     \n",
    "6. Diskutieren Sie das Ergebnis"
   ]
  },
  {
   "cell_type": "markdown",
   "metadata": {},
   "source": [
    "### Aufgabe 1"
   ]
  },
  {
   "cell_type": "code",
   "execution_count": 53,
   "metadata": {},
   "outputs": [],
   "source": [
    "import pylast\n",
    "\n",
    "\n",
    "def get_network_connection():\n",
    "    return pylast.LastFMNetwork(api_key=\"993a5bd9d79a98a53677570368d55acd\",\n",
    "                                api_secret=\"9b8de0b57903ac007cdd8ec9003b341e\", username=\"pythonlab\")\n",
    "\n",
    "\n",
    "nw = get_network_connection()"
   ]
  },
  {
   "cell_type": "code",
   "execution_count": 54,
   "metadata": {},
   "outputs": [
    {
     "name": "stdout",
     "output_type": "stream",
     "text": [
      "Most similar (as calculated by lastFM) for artist:  Slipknot\n",
      "Similar Artist 'Stone Sour' with similarity of 1\n",
      "Similar Artist 'Korn' with similarity of 0.883421\n",
      "Similar Artist 'Mudvayne' with similarity of 0.548056\n",
      "Similar Artist 'System of a Down' with similarity of 0.532744\n",
      "Similar Artist 'Corey Taylor' with similarity of 0.456194\n"
     ]
    }
   ],
   "source": [
    "band = 'Slipknot'\n",
    "\n",
    "\n",
    "def get_similar_artists(band, nw):\n",
    "    return nw.get_artist(band)\n",
    "\n",
    "\n",
    "sim_art = get_similar_artists(band, nw)\n",
    "\n",
    "print(\"Most similar (as calculated by lastFM) for artist: \", band)\n",
    "for it in sim_art.get_similar(5):\n",
    "    print(f\"Similar Artist '{it.item}' with similarity of {it.match}\")"
   ]
  },
  {
   "cell_type": "markdown",
   "metadata": {},
   "source": [
    "### Aufgabe 2"
   ]
  },
  {
   "cell_type": "code",
   "execution_count": 55,
   "metadata": {},
   "outputs": [
    {
     "name": "stdout",
     "output_type": "stream",
     "text": [
      "\n",
      "lastFM API Error for method get_top_fans\n",
      "Apply predefined group of users\n"
     ]
    },
    {
     "data": {
      "text/html": [
       "<div>\n",
       "<style scoped>\n",
       "    .dataframe tbody tr th:only-of-type {\n",
       "        vertical-align: middle;\n",
       "    }\n",
       "\n",
       "    .dataframe tbody tr th {\n",
       "        vertical-align: top;\n",
       "    }\n",
       "\n",
       "    .dataframe thead th {\n",
       "        text-align: right;\n",
       "    }\n",
       "</style>\n",
       "<table border=\"1\" class=\"dataframe\">\n",
       "  <thead>\n",
       "    <tr style=\"text-align: right;\">\n",
       "      <th></th>\n",
       "      <th>Username</th>\n",
       "    </tr>\n",
       "  </thead>\n",
       "  <tbody>\n",
       "    <tr>\n",
       "      <th>0</th>\n",
       "      <td>BrunoJoS</td>\n",
       "    </tr>\n",
       "    <tr>\n",
       "      <th>1</th>\n",
       "      <td>DPREBOYE</td>\n",
       "    </tr>\n",
       "    <tr>\n",
       "      <th>2</th>\n",
       "      <td>MPistol40</td>\n",
       "    </tr>\n",
       "    <tr>\n",
       "      <th>3</th>\n",
       "      <td>NemoNightfall</td>\n",
       "    </tr>\n",
       "    <tr>\n",
       "      <th>4</th>\n",
       "      <td>SkyRif</td>\n",
       "    </tr>\n",
       "    <tr>\n",
       "      <th>5</th>\n",
       "      <td>Wags1382</td>\n",
       "    </tr>\n",
       "    <tr>\n",
       "      <th>6</th>\n",
       "      <td>Znapsen</td>\n",
       "    </tr>\n",
       "    <tr>\n",
       "      <th>7</th>\n",
       "      <td>cortapsyco</td>\n",
       "    </tr>\n",
       "    <tr>\n",
       "      <th>8</th>\n",
       "      <td>emill_67</td>\n",
       "    </tr>\n",
       "    <tr>\n",
       "      <th>9</th>\n",
       "      <td>sattuviitana</td>\n",
       "    </tr>\n",
       "  </tbody>\n",
       "</table>\n",
       "</div>"
      ],
      "text/plain": [
       "        Username\n",
       "0       BrunoJoS\n",
       "1       DPREBOYE\n",
       "2      MPistol40\n",
       "3  NemoNightfall\n",
       "4         SkyRif\n",
       "5       Wags1382\n",
       "6        Znapsen\n",
       "7     cortapsyco\n",
       "8       emill_67\n",
       "9   sattuviitana"
      ]
     },
     "execution_count": 55,
     "metadata": {},
     "output_type": "execute_result"
    }
   ],
   "source": [
    "def get_top_fans(band, nw):\n",
    "    try:\n",
    "        topfan = band.get_top_fans()\n",
    "        return [a.item for a in topfan]\n",
    "    except Exception as a:\n",
    "        print(\"\\nlastFM API Error for method get_top_fans\\nApply predefined group of users\")\n",
    "        usernames = ['BrunoJoS', 'DPREBOYE', 'MPistol40', 'NemoNightfall',\n",
    "                     'SkyRif', 'Wags1382', 'Znapsen', 'cortapsyco', 'emill_67', 'sattuviitana']\n",
    "        return [nw.get_user(u) for u in usernames]\n",
    "\n",
    "\n",
    "group = get_top_fans(band, nw)\n",
    "DataFrame(group, columns=[\"Username\"])"
   ]
  },
  {
   "cell_type": "markdown",
   "metadata": {},
   "source": [
    "### Aufgabe 3 & 4"
   ]
  },
  {
   "cell_type": "code",
   "execution_count": 56,
   "metadata": {},
   "outputs": [],
   "source": [
    "def createLastfmUserDict(group):\n",
    "    top_artists = {user: user.get_top_artists()[:20] for user in group}\n",
    "    all_bands = set([str(artist[0]) for user_top_aritsts in top_artists.values()\n",
    "                     for artist in user_top_aritsts])\n",
    "\n",
    "    def get_user_bands_encoded(user_top_aritsts, all_bands):\n",
    "        user_bands = [str(artist[0]) for artist in user_top_aritsts]\n",
    "        return {band: 1 if band in user_bands else 0 for band in all_bands}\n",
    "\n",
    "    user_dict = {user.get_name(): get_user_bands_encoded(top_artists[user], all_bands) for user in group}\n",
    "    return user_dict"
   ]
  },
  {
   "cell_type": "code",
   "execution_count": 57,
   "metadata": {},
   "outputs": [
    {
     "data": {
      "text/html": [
       "<div>\n",
       "<style scoped>\n",
       "    .dataframe tbody tr th:only-of-type {\n",
       "        vertical-align: middle;\n",
       "    }\n",
       "\n",
       "    .dataframe tbody tr th {\n",
       "        vertical-align: top;\n",
       "    }\n",
       "\n",
       "    .dataframe thead th {\n",
       "        text-align: right;\n",
       "    }\n",
       "</style>\n",
       "<table border=\"1\" class=\"dataframe\">\n",
       "  <thead>\n",
       "    <tr style=\"text-align: right;\">\n",
       "      <th></th>\n",
       "      <th>BrunoJoS</th>\n",
       "      <th>DPREBOYE</th>\n",
       "      <th>MPistol40</th>\n",
       "      <th>NemoNightfall</th>\n",
       "      <th>SkyRif</th>\n",
       "      <th>Wags1382</th>\n",
       "      <th>Znapsen</th>\n",
       "      <th>cortapsyco</th>\n",
       "      <th>emill_67</th>\n",
       "      <th>sattuviitana</th>\n",
       "    </tr>\n",
       "  </thead>\n",
       "  <tbody>\n",
       "    <tr>\n",
       "      <th>Theory of a Deadman</th>\n",
       "      <td>0</td>\n",
       "      <td>0</td>\n",
       "      <td>0</td>\n",
       "      <td>0</td>\n",
       "      <td>0</td>\n",
       "      <td>0</td>\n",
       "      <td>0</td>\n",
       "      <td>0</td>\n",
       "      <td>1</td>\n",
       "      <td>0</td>\n",
       "    </tr>\n",
       "    <tr>\n",
       "      <th>Magnus Uggla</th>\n",
       "      <td>0</td>\n",
       "      <td>0</td>\n",
       "      <td>0</td>\n",
       "      <td>0</td>\n",
       "      <td>0</td>\n",
       "      <td>0</td>\n",
       "      <td>1</td>\n",
       "      <td>0</td>\n",
       "      <td>0</td>\n",
       "      <td>0</td>\n",
       "    </tr>\n",
       "    <tr>\n",
       "      <th>Four Year Strong</th>\n",
       "      <td>0</td>\n",
       "      <td>0</td>\n",
       "      <td>0</td>\n",
       "      <td>0</td>\n",
       "      <td>0</td>\n",
       "      <td>1</td>\n",
       "      <td>0</td>\n",
       "      <td>0</td>\n",
       "      <td>0</td>\n",
       "      <td>0</td>\n",
       "    </tr>\n",
       "    <tr>\n",
       "      <th>Linkin Park</th>\n",
       "      <td>1</td>\n",
       "      <td>0</td>\n",
       "      <td>0</td>\n",
       "      <td>1</td>\n",
       "      <td>1</td>\n",
       "      <td>0</td>\n",
       "      <td>0</td>\n",
       "      <td>0</td>\n",
       "      <td>0</td>\n",
       "      <td>0</td>\n",
       "    </tr>\n",
       "    <tr>\n",
       "      <th>N.W.A</th>\n",
       "      <td>0</td>\n",
       "      <td>1</td>\n",
       "      <td>0</td>\n",
       "      <td>0</td>\n",
       "      <td>0</td>\n",
       "      <td>0</td>\n",
       "      <td>0</td>\n",
       "      <td>0</td>\n",
       "      <td>0</td>\n",
       "      <td>0</td>\n",
       "    </tr>\n",
       "    <tr>\n",
       "      <th>...</th>\n",
       "      <td>...</td>\n",
       "      <td>...</td>\n",
       "      <td>...</td>\n",
       "      <td>...</td>\n",
       "      <td>...</td>\n",
       "      <td>...</td>\n",
       "      <td>...</td>\n",
       "      <td>...</td>\n",
       "      <td>...</td>\n",
       "      <td>...</td>\n",
       "    </tr>\n",
       "    <tr>\n",
       "      <th>Flo Rida</th>\n",
       "      <td>0</td>\n",
       "      <td>0</td>\n",
       "      <td>0</td>\n",
       "      <td>0</td>\n",
       "      <td>0</td>\n",
       "      <td>0</td>\n",
       "      <td>0</td>\n",
       "      <td>1</td>\n",
       "      <td>0</td>\n",
       "      <td>0</td>\n",
       "    </tr>\n",
       "    <tr>\n",
       "      <th>Slipknot</th>\n",
       "      <td>1</td>\n",
       "      <td>1</td>\n",
       "      <td>1</td>\n",
       "      <td>1</td>\n",
       "      <td>1</td>\n",
       "      <td>1</td>\n",
       "      <td>1</td>\n",
       "      <td>1</td>\n",
       "      <td>1</td>\n",
       "      <td>1</td>\n",
       "    </tr>\n",
       "    <tr>\n",
       "      <th>Katy Perry</th>\n",
       "      <td>0</td>\n",
       "      <td>0</td>\n",
       "      <td>0</td>\n",
       "      <td>0</td>\n",
       "      <td>0</td>\n",
       "      <td>0</td>\n",
       "      <td>0</td>\n",
       "      <td>1</td>\n",
       "      <td>0</td>\n",
       "      <td>0</td>\n",
       "    </tr>\n",
       "    <tr>\n",
       "      <th>System of a Down</th>\n",
       "      <td>1</td>\n",
       "      <td>0</td>\n",
       "      <td>1</td>\n",
       "      <td>1</td>\n",
       "      <td>1</td>\n",
       "      <td>0</td>\n",
       "      <td>0</td>\n",
       "      <td>1</td>\n",
       "      <td>0</td>\n",
       "      <td>1</td>\n",
       "    </tr>\n",
       "    <tr>\n",
       "      <th>Mustasch</th>\n",
       "      <td>0</td>\n",
       "      <td>0</td>\n",
       "      <td>0</td>\n",
       "      <td>0</td>\n",
       "      <td>0</td>\n",
       "      <td>0</td>\n",
       "      <td>1</td>\n",
       "      <td>0</td>\n",
       "      <td>0</td>\n",
       "      <td>0</td>\n",
       "    </tr>\n",
       "  </tbody>\n",
       "</table>\n",
       "<p>151 rows × 10 columns</p>\n",
       "</div>"
      ],
      "text/plain": [
       "                     BrunoJoS  DPREBOYE  MPistol40  NemoNightfall  SkyRif  \\\n",
       "Theory of a Deadman         0         0          0              0       0   \n",
       "Magnus Uggla                0         0          0              0       0   \n",
       "Four Year Strong            0         0          0              0       0   \n",
       "Linkin Park                 1         0          0              1       1   \n",
       "N.W.A                       0         1          0              0       0   \n",
       "...                       ...       ...        ...            ...     ...   \n",
       "Flo Rida                    0         0          0              0       0   \n",
       "Slipknot                    1         1          1              1       1   \n",
       "Katy Perry                  0         0          0              0       0   \n",
       "System of a Down            1         0          1              1       1   \n",
       "Mustasch                    0         0          0              0       0   \n",
       "\n",
       "                     Wags1382  Znapsen  cortapsyco  emill_67  sattuviitana  \n",
       "Theory of a Deadman         0        0           0         1             0  \n",
       "Magnus Uggla                0        1           0         0             0  \n",
       "Four Year Strong            1        0           0         0             0  \n",
       "Linkin Park                 0        0           0         0             0  \n",
       "N.W.A                       0        0           0         0             0  \n",
       "...                       ...      ...         ...       ...           ...  \n",
       "Flo Rida                    0        0           1         0             0  \n",
       "Slipknot                    1        1           1         1             1  \n",
       "Katy Perry                  0        0           1         0             0  \n",
       "System of a Down            0        0           1         0             1  \n",
       "Mustasch                    0        1           0         0             0  \n",
       "\n",
       "[151 rows x 10 columns]"
      ]
     },
     "execution_count": 57,
     "metadata": {},
     "output_type": "execute_result"
    }
   ],
   "source": [
    "user_dict = createLastfmUserDict(group)\n",
    "DataFrame.from_dict(user_dict)"
   ]
  },
  {
   "cell_type": "markdown",
   "metadata": {},
   "source": [
    "### Aufgabe 5"
   ]
  },
  {
   "cell_type": "code",
   "execution_count": 58,
   "metadata": {
    "pycharm": {
     "name": "#%%\n"
    }
   },
   "outputs": [],
   "source": [
    "def get_similar_users(user, user_dict, sim_f, as_dict=False):\n",
    "    return topMatchesAsDict(user_dict, user, sim_f) if as_dict else topMatches(user_dict, user, sim_f)"
   ]
  },
  {
   "cell_type": "code",
   "execution_count": 59,
   "metadata": {
    "pycharm": {
     "name": "#%%\n"
    }
   },
   "outputs": [],
   "source": [
    "user = \"BrunoJoS\""
   ]
  },
  {
   "cell_type": "code",
   "execution_count": 60,
   "metadata": {
    "pycharm": {
     "name": "#%%\n"
    },
    "scrolled": true
   },
   "outputs": [
    {
     "data": {
      "text/html": [
       "<div>\n",
       "<style scoped>\n",
       "    .dataframe tbody tr th:only-of-type {\n",
       "        vertical-align: middle;\n",
       "    }\n",
       "\n",
       "    .dataframe tbody tr th {\n",
       "        vertical-align: top;\n",
       "    }\n",
       "\n",
       "    .dataframe thead th {\n",
       "        text-align: right;\n",
       "    }\n",
       "</style>\n",
       "<table border=\"1\" class=\"dataframe\">\n",
       "  <thead>\n",
       "    <tr style=\"text-align: right;\">\n",
       "      <th></th>\n",
       "      <th>User Similarity to BrunoJoS</th>\n",
       "    </tr>\n",
       "  </thead>\n",
       "  <tbody>\n",
       "    <tr>\n",
       "      <th>DPREBOYE</th>\n",
       "      <td>0.961783</td>\n",
       "    </tr>\n",
       "    <tr>\n",
       "      <th>MPistol40</th>\n",
       "      <td>0.961783</td>\n",
       "    </tr>\n",
       "    <tr>\n",
       "      <th>NemoNightfall</th>\n",
       "      <td>0.966143</td>\n",
       "    </tr>\n",
       "    <tr>\n",
       "      <th>SkyRif</th>\n",
       "      <td>0.963890</td>\n",
       "    </tr>\n",
       "    <tr>\n",
       "      <th>Wags1382</th>\n",
       "      <td>0.960777</td>\n",
       "    </tr>\n",
       "    <tr>\n",
       "      <th>Znapsen</th>\n",
       "      <td>0.961783</td>\n",
       "    </tr>\n",
       "    <tr>\n",
       "      <th>cortapsyco</th>\n",
       "      <td>0.961783</td>\n",
       "    </tr>\n",
       "    <tr>\n",
       "      <th>emill_67</th>\n",
       "      <td>0.962820</td>\n",
       "    </tr>\n",
       "    <tr>\n",
       "      <th>sattuviitana</th>\n",
       "      <td>0.962820</td>\n",
       "    </tr>\n",
       "  </tbody>\n",
       "</table>\n",
       "</div>"
      ],
      "text/plain": [
       "               User Similarity to BrunoJoS\n",
       "DPREBOYE                          0.961783\n",
       "MPistol40                         0.961783\n",
       "NemoNightfall                     0.966143\n",
       "SkyRif                            0.963890\n",
       "Wags1382                          0.960777\n",
       "Znapsen                           0.961783\n",
       "cortapsyco                        0.961783\n",
       "emill_67                          0.962820\n",
       "sattuviitana                      0.962820"
      ]
     },
     "execution_count": 60,
     "metadata": {},
     "output_type": "execute_result"
    }
   ],
   "source": [
    "user_sim = get_similar_users(user, user_dict, sim_euclid, as_dict=True)\n",
    "to_df(user_sim, f\"User Similarity to {user}\")"
   ]
  },
  {
   "cell_type": "markdown",
   "metadata": {},
   "source": [
    "Der ähnlichste User in diesem Fall ist NemoNightfall. Auffällig sind die geringen Unterschiede in der User Similarity. Dies liegt an dem euklidischem Algorithmus, da die Abstände in den jeweiligen Achsen nur höchstens 1 sein können und die Anzahl der Achsen sehr hoch ist. ??Daher bedeutet niedrige Varianz nicht zwangsläufig, dass das Ergebnis ungenau ist?? "
   ]
  },
  {
   "cell_type": "markdown",
   "metadata": {},
   "source": [
    "### Aufgabe 6"
   ]
  },
  {
   "cell_type": "code",
   "execution_count": 61,
   "metadata": {
    "pycharm": {
     "name": "#%%\n"
    }
   },
   "outputs": [
    {
     "name": "stdout",
     "output_type": "stream",
     "text": [
      "Persons with similarity greater than 0: ['DPREBOYE', 'MPistol40', 'NemoNightfall', 'SkyRif', 'Wags1382', 'Znapsen', 'cortapsyco', 'emill_67', 'sattuviitana']\n",
      "Individual items: {'Theory of a Deadman', 'Magnus Uggla', 'Four Year Strong', 'Linkin Park', 'N.W.A', 'Shinedown', 'Green Day', 'Daughter', 'Godsmack', 'Breaking Benjamin', 'Freestyle', 'Hans Zimmer', 'In Flames', 'Bayside', 'Alexisonfire', 'blink-182', 'Foo Fighters', 'Atoms for Peace', 'Queen', 'Iron Maiden', 'Lady Gaga', 'Wu-Tang Clan', 'Halestorm', 'Nine Inch Nails', 'Parkway Drive', 'Stone Sour', 'The Wonder Years', 'Boston', 'Panic! at the Disco', 'Arctic Monkeys', 'Warpaint', 'Pendulum', 'Disturbed', 'The Dear Hunter', 'Krewella', 'Red Hot Chili Peppers', 'Ke$ha', '30 Seconds to Mars', 'Oh, Sleeper', 'Dark Tranquillity', 'All Time Low', 'Bullet for My Valentine', 'White Zombie', 'Die Antwoord', 'Nobuo Uematsu', 'Soulfly', 'AFI', 'Misfits', 'New Found Glory', 'Rage Against the Machine', 'Three Days Grace', 'Machine Head', 'Queens of the Stone Age', 'Tenacious D', 'Dimmu Borgir', 'Gallows', 'Metallica', 'Leevi and the Leavings', 'System of a Down', 'Arch Enemy', 'Pantera', 'Demon Hunter', 'Marina and the Diamonds', 'Gyllene Tider', 'Howard Shore', 'Cruel Hand', 'Black Label Society', 'Rob Zombie', 'Beach House', 'Madonna', 'Radiohead', 'Calvin Harris', 'Wintersun', 'Evanescence', 'Rammstein', 'Memphis May Fire', 'Sum 41', 'Tool', 'Korn', 'Amon Amarth', 'DragonForce', 'Sonata Arctica', 'Lacuna Coil', 'My Chemical Romance', 'Hozier', 'Pitty', 'Nirvana', 'P.D.P.', 'Soilwork', 'Scar Symmetry', 'Mogwai', 'A Perfect Circle', 'Electric Light Orchestra', 'Mumford & Sons', 'The Killers', 'Trivium', 'Dmitri Shostakovich', 'The Band', 'Cat Power', 'Dope', 'Deftones', 'Volbeat', 'Becoming the Archetype', 'Killswitch Engage', 'Stam1na', 'Sick Puppies', 'Black Veil Brides', 'Children of Bodom', 'Five Finger Death Punch', 'Saosin', 'James Blake', 'Muse', 'Cradle of Filth', 'Fall Out Boy', 'Seether', 'Pentakill', 'Epic Rap Battles Of History', 'Motion City Soundtrack', 'Damien Rice', 'Nightwish', 'Lamb of God', 'deadmau5', 'M.I.A.', 'Sabaton', 'Team Sleep', 'Lindemann', 'Amorphis', 'Pink Floyd', 'Billy Talent', 'Dr. Dre', 'Coldplay', 'Avenged Sevenfold', 'DIR EN GREY', 'Papa Roach', 'Coheed and Cambria', 'Evergreen Terrace', 'Klamydia', 'Ween', 'The White Stripes', 'Circa Survive', 'Turmion Kätilöt', 'Limp Bizkit', 'Bring Me the Horizon', 'Ben Howard', 'Powerwolf', '36 Crazyfists', 'Flo Rida', 'Slipknot', 'Katy Perry', 'Energy', 'Mustasch'}\n",
      "Items that BrunoJoS has not rated: dict_keys(['Theory of a Deadman', 'Magnus Uggla', 'Four Year Strong', 'N.W.A', 'Shinedown', 'Daughter', 'Godsmack', 'Breaking Benjamin', 'Freestyle', 'Hans Zimmer', 'In Flames', 'Bayside', 'Alexisonfire', 'blink-182', 'Atoms for Peace', 'Queen', 'Iron Maiden', 'Wu-Tang Clan', 'Halestorm', 'Nine Inch Nails', 'Parkway Drive', 'Stone Sour', 'The Wonder Years', 'Boston', 'Panic! at the Disco', 'Warpaint', 'Pendulum', 'Disturbed', 'The Dear Hunter', 'Krewella', 'Red Hot Chili Peppers', 'Ke$ha', 'Oh, Sleeper', 'Dark Tranquillity', 'All Time Low', 'Bullet for My Valentine', 'White Zombie', 'Die Antwoord', 'Nobuo Uematsu', 'Soulfly', 'AFI', 'Energy', 'Misfits', 'New Found Glory', 'Rage Against the Machine', 'Machine Head', 'Tenacious D', 'Dimmu Borgir', 'Gallows', 'Metallica', 'Leevi and the Leavings', 'Arch Enemy', 'Pantera', 'Demon Hunter', 'Marina and the Diamonds', 'Gyllene Tider', 'Howard Shore', 'Cruel Hand', 'Black Label Society', 'Rob Zombie', 'Beach House', 'Calvin Harris', 'Wintersun', 'Evanescence', 'Memphis May Fire', 'Tool', 'Korn', 'Amon Amarth', 'DragonForce', 'Sonata Arctica', 'Lacuna Coil', 'My Chemical Romance', 'Hozier', 'Nirvana', 'P.D.P.', 'Soilwork', 'Scar Symmetry', 'Mogwai', 'A Perfect Circle', 'Electric Light Orchestra', 'Mumford & Sons', 'Trivium', 'Dmitri Shostakovich', 'The Band', 'Cat Power', 'Dope', 'Deftones', 'Volbeat', 'Becoming the Archetype', 'Killswitch Engage', 'Stam1na', 'Sick Puppies', 'Black Veil Brides', 'Children of Bodom', 'Five Finger Death Punch', 'Saosin', 'James Blake', 'Cradle of Filth', 'Fall Out Boy', 'Seether', 'Pentakill', 'Epic Rap Battles Of History', 'Motion City Soundtrack', 'Damien Rice', 'Nightwish', 'Lamb of God', 'deadmau5', 'Sabaton', 'Team Sleep', 'Lindemann', 'Amorphis', 'Pink Floyd', 'Billy Talent', 'Dr. Dre', 'Avenged Sevenfold', 'DIR EN GREY', 'Coheed and Cambria', 'Evergreen Terrace', 'Klamydia', 'Ween', 'The White Stripes', 'Circa Survive', 'Turmion Kätilöt', 'Limp Bizkit', 'Bring Me the Horizon', 'Ben Howard', 'Powerwolf', '36 Crazyfists', 'Flo Rida', 'Katy Perry', 'Mustasch'])\n",
      "Persons with similarity greater than 0: ['DPREBOYE', 'MPistol40', 'NemoNightfall', 'SkyRif', 'Wags1382', 'Znapsen', 'cortapsyco', 'emill_67', 'sattuviitana']\n",
      "Individual items: {'Theory of a Deadman', 'Magnus Uggla', 'Four Year Strong', 'Linkin Park', 'N.W.A', 'Shinedown', 'Green Day', 'Daughter', 'Godsmack', 'Breaking Benjamin', 'Freestyle', 'Hans Zimmer', 'In Flames', 'Bayside', 'Alexisonfire', 'blink-182', 'Foo Fighters', 'Atoms for Peace', 'Queen', 'Iron Maiden', 'Lady Gaga', 'Wu-Tang Clan', 'Halestorm', 'Nine Inch Nails', 'Parkway Drive', 'Stone Sour', 'The Wonder Years', 'Boston', 'Panic! at the Disco', 'Arctic Monkeys', 'Warpaint', 'Pendulum', 'Disturbed', 'The Dear Hunter', 'Krewella', 'Red Hot Chili Peppers', 'Ke$ha', '30 Seconds to Mars', 'Oh, Sleeper', 'Dark Tranquillity', 'All Time Low', 'Bullet for My Valentine', 'White Zombie', 'Die Antwoord', 'Nobuo Uematsu', 'Soulfly', 'AFI', 'Misfits', 'New Found Glory', 'Rage Against the Machine', 'Three Days Grace', 'Machine Head', 'Queens of the Stone Age', 'Tenacious D', 'Dimmu Borgir', 'Gallows', 'Metallica', 'Leevi and the Leavings', 'System of a Down', 'Arch Enemy', 'Pantera', 'Demon Hunter', 'Marina and the Diamonds', 'Gyllene Tider', 'Howard Shore', 'Cruel Hand', 'Black Label Society', 'Rob Zombie', 'Beach House', 'Madonna', 'Radiohead', 'Calvin Harris', 'Wintersun', 'Evanescence', 'Rammstein', 'Memphis May Fire', 'Sum 41', 'Tool', 'Korn', 'Amon Amarth', 'DragonForce', 'Sonata Arctica', 'Lacuna Coil', 'My Chemical Romance', 'Hozier', 'Pitty', 'Nirvana', 'P.D.P.', 'Soilwork', 'Scar Symmetry', 'Mogwai', 'A Perfect Circle', 'Electric Light Orchestra', 'Mumford & Sons', 'The Killers', 'Trivium', 'Dmitri Shostakovich', 'The Band', 'Cat Power', 'Dope', 'Deftones', 'Volbeat', 'Becoming the Archetype', 'Killswitch Engage', 'Stam1na', 'Sick Puppies', 'Black Veil Brides', 'Children of Bodom', 'Five Finger Death Punch', 'Saosin', 'James Blake', 'Muse', 'Cradle of Filth', 'Fall Out Boy', 'Seether', 'Pentakill', 'Epic Rap Battles Of History', 'Motion City Soundtrack', 'Damien Rice', 'Nightwish', 'Lamb of God', 'deadmau5', 'M.I.A.', 'Sabaton', 'Team Sleep', 'Lindemann', 'Amorphis', 'Pink Floyd', 'Billy Talent', 'Dr. Dre', 'Coldplay', 'Avenged Sevenfold', 'DIR EN GREY', 'Papa Roach', 'Coheed and Cambria', 'Evergreen Terrace', 'Klamydia', 'Ween', 'The White Stripes', 'Circa Survive', 'Turmion Kätilöt', 'Limp Bizkit', 'Bring Me the Horizon', 'Ben Howard', 'Powerwolf', '36 Crazyfists', 'Flo Rida', 'Slipknot', 'Katy Perry', 'Energy', 'Mustasch'}\n",
      "Items that BrunoJoS has not rated: dict_keys(['Theory of a Deadman', 'Magnus Uggla', 'Four Year Strong', 'N.W.A', 'Shinedown', 'Daughter', 'Godsmack', 'Breaking Benjamin', 'Freestyle', 'Hans Zimmer', 'In Flames', 'Bayside', 'Alexisonfire', 'blink-182', 'Atoms for Peace', 'Queen', 'Iron Maiden', 'Wu-Tang Clan', 'Halestorm', 'Nine Inch Nails', 'Parkway Drive', 'Stone Sour', 'The Wonder Years', 'Boston', 'Panic! at the Disco', 'Warpaint', 'Pendulum', 'Disturbed', 'The Dear Hunter', 'Krewella', 'Red Hot Chili Peppers', 'Ke$ha', 'Oh, Sleeper', 'Dark Tranquillity', 'All Time Low', 'Bullet for My Valentine', 'White Zombie', 'Die Antwoord', 'Nobuo Uematsu', 'Soulfly', 'AFI', 'Energy', 'Misfits', 'New Found Glory', 'Rage Against the Machine', 'Machine Head', 'Tenacious D', 'Dimmu Borgir', 'Gallows', 'Metallica', 'Leevi and the Leavings', 'Arch Enemy', 'Pantera', 'Demon Hunter', 'Marina and the Diamonds', 'Gyllene Tider', 'Howard Shore', 'Cruel Hand', 'Black Label Society', 'Rob Zombie', 'Beach House', 'Calvin Harris', 'Wintersun', 'Evanescence', 'Memphis May Fire', 'Tool', 'Korn', 'Amon Amarth', 'DragonForce', 'Sonata Arctica', 'Lacuna Coil', 'My Chemical Romance', 'Hozier', 'Nirvana', 'P.D.P.', 'Soilwork', 'Scar Symmetry', 'Mogwai', 'A Perfect Circle', 'Electric Light Orchestra', 'Mumford & Sons', 'Trivium', 'Dmitri Shostakovich', 'The Band', 'Cat Power', 'Dope', 'Deftones', 'Volbeat', 'Becoming the Archetype', 'Killswitch Engage', 'Stam1na', 'Sick Puppies', 'Black Veil Brides', 'Children of Bodom', 'Five Finger Death Punch', 'Saosin', 'James Blake', 'Cradle of Filth', 'Fall Out Boy', 'Seether', 'Pentakill', 'Epic Rap Battles Of History', 'Motion City Soundtrack', 'Damien Rice', 'Nightwish', 'Lamb of God', 'deadmau5', 'Sabaton', 'Team Sleep', 'Lindemann', 'Amorphis', 'Pink Floyd', 'Billy Talent', 'Dr. Dre', 'Avenged Sevenfold', 'DIR EN GREY', 'Coheed and Cambria', 'Evergreen Terrace', 'Klamydia', 'Ween', 'The White Stripes', 'Circa Survive', 'Turmion Kätilöt', 'Limp Bizkit', 'Bring Me the Horizon', 'Ben Howard', 'Powerwolf', '36 Crazyfists', 'Flo Rida', 'Katy Perry', 'Mustasch'])\n",
      "Persons with similarity greater than 0: ['NemoNightfall', 'SkyRif', 'emill_67', 'sattuviitana']\n",
      "Individual items: {'Theory of a Deadman', 'Magnus Uggla', 'Four Year Strong', 'Linkin Park', 'N.W.A', 'Shinedown', 'Green Day', 'Daughter', 'Godsmack', 'Breaking Benjamin', 'Freestyle', 'Hans Zimmer', 'In Flames', 'Bayside', 'Alexisonfire', 'blink-182', 'Foo Fighters', 'Atoms for Peace', 'Queen', 'Iron Maiden', 'Lady Gaga', 'Wu-Tang Clan', 'Halestorm', 'Nine Inch Nails', 'Parkway Drive', 'Stone Sour', 'The Wonder Years', 'Boston', 'Panic! at the Disco', 'Arctic Monkeys', 'Warpaint', 'Pendulum', 'Disturbed', 'The Dear Hunter', 'Krewella', 'Red Hot Chili Peppers', 'Ke$ha', '30 Seconds to Mars', 'Oh, Sleeper', 'Dark Tranquillity', 'All Time Low', 'Bullet for My Valentine', 'White Zombie', 'Die Antwoord', 'Nobuo Uematsu', 'Soulfly', 'AFI', 'Misfits', 'New Found Glory', 'Rage Against the Machine', 'Three Days Grace', 'Machine Head', 'Queens of the Stone Age', 'Tenacious D', 'Dimmu Borgir', 'Gallows', 'Metallica', 'Leevi and the Leavings', 'System of a Down', 'Arch Enemy', 'Pantera', 'Demon Hunter', 'Marina and the Diamonds', 'Gyllene Tider', 'Howard Shore', 'Cruel Hand', 'Black Label Society', 'Rob Zombie', 'Beach House', 'Madonna', 'Radiohead', 'Calvin Harris', 'Wintersun', 'Evanescence', 'Rammstein', 'Memphis May Fire', 'Sum 41', 'Tool', 'Korn', 'Amon Amarth', 'DragonForce', 'Sonata Arctica', 'Lacuna Coil', 'My Chemical Romance', 'Hozier', 'Pitty', 'Nirvana', 'P.D.P.', 'Soilwork', 'Scar Symmetry', 'Mogwai', 'A Perfect Circle', 'Electric Light Orchestra', 'Mumford & Sons', 'The Killers', 'Trivium', 'Dmitri Shostakovich', 'The Band', 'Cat Power', 'Dope', 'Deftones', 'Volbeat', 'Becoming the Archetype', 'Killswitch Engage', 'Stam1na', 'Sick Puppies', 'Black Veil Brides', 'Children of Bodom', 'Five Finger Death Punch', 'Saosin', 'James Blake', 'Muse', 'Cradle of Filth', 'Fall Out Boy', 'Seether', 'Pentakill', 'Epic Rap Battles Of History', 'Motion City Soundtrack', 'Damien Rice', 'Nightwish', 'Lamb of God', 'deadmau5', 'M.I.A.', 'Sabaton', 'Team Sleep', 'Lindemann', 'Amorphis', 'Pink Floyd', 'Billy Talent', 'Dr. Dre', 'Coldplay', 'Avenged Sevenfold', 'DIR EN GREY', 'Papa Roach', 'Coheed and Cambria', 'Evergreen Terrace', 'Klamydia', 'Ween', 'The White Stripes', 'Circa Survive', 'Turmion Kätilöt', 'Limp Bizkit', 'Bring Me the Horizon', 'Ben Howard', 'Powerwolf', '36 Crazyfists', 'Flo Rida', 'Slipknot', 'Katy Perry', 'Energy', 'Mustasch'}\n",
      "Items that BrunoJoS has not rated: dict_keys(['Theory of a Deadman', 'Magnus Uggla', 'Four Year Strong', 'N.W.A', 'Shinedown', 'Daughter', 'Godsmack', 'Breaking Benjamin', 'Freestyle', 'Hans Zimmer', 'In Flames', 'Bayside', 'Alexisonfire', 'blink-182', 'Atoms for Peace', 'Queen', 'Iron Maiden', 'Wu-Tang Clan', 'Halestorm', 'Nine Inch Nails', 'Parkway Drive', 'Stone Sour', 'The Wonder Years', 'Boston', 'Panic! at the Disco', 'Warpaint', 'Pendulum', 'Disturbed', 'The Dear Hunter', 'Krewella', 'Red Hot Chili Peppers', 'Ke$ha', 'Oh, Sleeper', 'Dark Tranquillity', 'All Time Low', 'Bullet for My Valentine', 'White Zombie', 'Die Antwoord', 'Nobuo Uematsu', 'Soulfly', 'AFI', 'Energy', 'Misfits', 'New Found Glory', 'Rage Against the Machine', 'Machine Head', 'Tenacious D', 'Dimmu Borgir', 'Gallows', 'Metallica', 'Leevi and the Leavings', 'Arch Enemy', 'Pantera', 'Demon Hunter', 'Marina and the Diamonds', 'Gyllene Tider', 'Howard Shore', 'Cruel Hand', 'Black Label Society', 'Rob Zombie', 'Beach House', 'Calvin Harris', 'Wintersun', 'Evanescence', 'Memphis May Fire', 'Tool', 'Korn', 'Amon Amarth', 'DragonForce', 'Sonata Arctica', 'Lacuna Coil', 'My Chemical Romance', 'Hozier', 'Nirvana', 'P.D.P.', 'Soilwork', 'Scar Symmetry', 'Mogwai', 'A Perfect Circle', 'Electric Light Orchestra', 'Mumford & Sons', 'Trivium', 'Dmitri Shostakovich', 'The Band', 'Cat Power', 'Dope', 'Deftones', 'Volbeat', 'Becoming the Archetype', 'Killswitch Engage', 'Stam1na', 'Sick Puppies', 'Black Veil Brides', 'Children of Bodom', 'Five Finger Death Punch', 'Saosin', 'James Blake', 'Cradle of Filth', 'Fall Out Boy', 'Seether', 'Pentakill', 'Epic Rap Battles Of History', 'Motion City Soundtrack', 'Damien Rice', 'Nightwish', 'Lamb of God', 'deadmau5', 'Sabaton', 'Team Sleep', 'Lindemann', 'Amorphis', 'Pink Floyd', 'Billy Talent', 'Dr. Dre', 'Avenged Sevenfold', 'DIR EN GREY', 'Coheed and Cambria', 'Evergreen Terrace', 'Klamydia', 'Ween', 'The White Stripes', 'Circa Survive', 'Turmion Kätilöt', 'Limp Bizkit', 'Bring Me the Horizon', 'Ben Howard', 'Powerwolf', '36 Crazyfists', 'Flo Rida', 'Katy Perry', 'Mustasch'])\n"
     ]
    },
    {
     "data": {
      "text/html": [
       "<div>\n",
       "<style scoped>\n",
       "    .dataframe tbody tr th:only-of-type {\n",
       "        vertical-align: middle;\n",
       "    }\n",
       "\n",
       "    .dataframe tbody tr th {\n",
       "        vertical-align: top;\n",
       "    }\n",
       "\n",
       "    .dataframe thead th {\n",
       "        text-align: right;\n",
       "    }\n",
       "</style>\n",
       "<table border=\"1\" class=\"dataframe\">\n",
       "  <thead>\n",
       "    <tr style=\"text-align: right;\">\n",
       "      <th></th>\n",
       "      <th>Euclidean Recommendation Scores for BrunoJoS</th>\n",
       "      <th>Russel Recommendation Scores for BrunoJoS</th>\n",
       "      <th>Pearson Recommendation Scores for BrunoJoS</th>\n",
       "    </tr>\n",
       "  </thead>\n",
       "  <tbody>\n",
       "    <tr>\n",
       "      <th>Theory of a Deadman</th>\n",
       "      <td>0.111134</td>\n",
       "      <td>0.12</td>\n",
       "      <td>0.064951</td>\n",
       "    </tr>\n",
       "    <tr>\n",
       "      <th>Magnus Uggla</th>\n",
       "      <td>0.111014</td>\n",
       "      <td>0.08</td>\n",
       "      <td>0.000000</td>\n",
       "    </tr>\n",
       "    <tr>\n",
       "      <th>Four Year Strong</th>\n",
       "      <td>0.110898</td>\n",
       "      <td>0.04</td>\n",
       "      <td>0.000000</td>\n",
       "    </tr>\n",
       "    <tr>\n",
       "      <th>N.W.A</th>\n",
       "      <td>0.111014</td>\n",
       "      <td>0.08</td>\n",
       "      <td>0.000000</td>\n",
       "    </tr>\n",
       "    <tr>\n",
       "      <th>Shinedown</th>\n",
       "      <td>0.111134</td>\n",
       "      <td>0.12</td>\n",
       "      <td>0.064951</td>\n",
       "    </tr>\n",
       "    <tr>\n",
       "      <th>...</th>\n",
       "      <td>...</td>\n",
       "      <td>...</td>\n",
       "      <td>...</td>\n",
       "    </tr>\n",
       "    <tr>\n",
       "      <th>Powerwolf</th>\n",
       "      <td>0.111258</td>\n",
       "      <td>0.16</td>\n",
       "      <td>0.250000</td>\n",
       "    </tr>\n",
       "    <tr>\n",
       "      <th>36 Crazyfists</th>\n",
       "      <td>0.111014</td>\n",
       "      <td>0.08</td>\n",
       "      <td>0.000000</td>\n",
       "    </tr>\n",
       "    <tr>\n",
       "      <th>Flo Rida</th>\n",
       "      <td>0.111014</td>\n",
       "      <td>0.08</td>\n",
       "      <td>0.000000</td>\n",
       "    </tr>\n",
       "    <tr>\n",
       "      <th>Katy Perry</th>\n",
       "      <td>0.111014</td>\n",
       "      <td>0.08</td>\n",
       "      <td>0.000000</td>\n",
       "    </tr>\n",
       "    <tr>\n",
       "      <th>Mustasch</th>\n",
       "      <td>0.111014</td>\n",
       "      <td>0.08</td>\n",
       "      <td>0.000000</td>\n",
       "    </tr>\n",
       "  </tbody>\n",
       "</table>\n",
       "<p>131 rows × 3 columns</p>\n",
       "</div>"
      ],
      "text/plain": [
       "                     Euclidean Recommendation Scores for BrunoJoS  \\\n",
       "Theory of a Deadman                                      0.111134   \n",
       "Magnus Uggla                                             0.111014   \n",
       "Four Year Strong                                         0.110898   \n",
       "N.W.A                                                    0.111014   \n",
       "Shinedown                                                0.111134   \n",
       "...                                                           ...   \n",
       "Powerwolf                                                0.111258   \n",
       "36 Crazyfists                                            0.111014   \n",
       "Flo Rida                                                 0.111014   \n",
       "Katy Perry                                               0.111014   \n",
       "Mustasch                                                 0.111014   \n",
       "\n",
       "                     Russel Recommendation Scores for BrunoJoS  \\\n",
       "Theory of a Deadman                                       0.12   \n",
       "Magnus Uggla                                              0.08   \n",
       "Four Year Strong                                          0.04   \n",
       "N.W.A                                                     0.08   \n",
       "Shinedown                                                 0.12   \n",
       "...                                                        ...   \n",
       "Powerwolf                                                 0.16   \n",
       "36 Crazyfists                                             0.08   \n",
       "Flo Rida                                                  0.08   \n",
       "Katy Perry                                                0.08   \n",
       "Mustasch                                                  0.08   \n",
       "\n",
       "                     Pearson Recommendation Scores for BrunoJoS  \n",
       "Theory of a Deadman                                    0.064951  \n",
       "Magnus Uggla                                           0.000000  \n",
       "Four Year Strong                                       0.000000  \n",
       "N.W.A                                                  0.000000  \n",
       "Shinedown                                              0.064951  \n",
       "...                                                         ...  \n",
       "Powerwolf                                              0.250000  \n",
       "36 Crazyfists                                          0.000000  \n",
       "Flo Rida                                               0.000000  \n",
       "Katy Perry                                             0.000000  \n",
       "Mustasch                                               0.000000  \n",
       "\n",
       "[131 rows x 3 columns]"
      ]
     },
     "execution_count": 61,
     "metadata": {},
     "output_type": "execute_result"
    }
   ],
   "source": [
    "band_sim_euclid = get_user_recommendations(user_dict, user, sim_euclid, zero_means_unrated=True)\n",
    "df_band_sim_euclid = DataFrame.from_dict(band_sim_euclid, orient=\"index\",\n",
    "                                         columns=[f\"Euclidean Recommendation Scores for {user}\"])\n",
    "\n",
    "band_sim_russel = get_user_recommendations(user_dict, user, sim_RusselRao, zero_means_unrated=True)\n",
    "df_band_sim_russel = DataFrame.from_dict(band_sim_russel, orient=\"index\",\n",
    "                                         columns=[f\"Russel Recommendation Scores for {user}\"])\n",
    "\n",
    "band_sim_pearson = get_user_recommendations(user_dict, user, sim_pearson, zero_means_unrated=True)\n",
    "df_band_sim_pearson = DataFrame.from_dict(band_sim_pearson, orient=\"index\",\n",
    "                                          columns=[f\"Pearson Recommendation Scores for {user}\"])\n",
    "df_combined = pd.concat([df_band_sim_euclid, df_band_sim_russel, df_band_sim_pearson], axis=1)\n",
    "df_combined\n"
   ]
  },
  {
   "cell_type": "code",
   "execution_count": 62,
   "metadata": {
    "pycharm": {
     "name": "#%%\n"
    }
   },
   "outputs": [
    {
     "data": {
      "text/plain": [
       "<AxesSubplot:ylabel='Similarity'>"
      ]
     },
     "execution_count": 62,
     "metadata": {},
     "output_type": "execute_result"
    },
    {
     "data": {
      "image/png": "[encoded data removed]",
      "text/plain": [
       "<Figure size 1440x7200 with 1 Axes>"
      ]
     },
     "metadata": {
      "needs_background": "light"
     },
     "output_type": "display_data"
    }
   ],
   "source": [
    "df_combined.plot(kind='barh', ylabel=\"Similarity\", figsize=(20, 100))"
   ]
  },
  {
   "cell_type": "markdown",
   "metadata": {
    "pycharm": {
     "name": "#%% md\n"
    }
   },
   "source": [
    "Wie man erkennen kann, gibt es teilweise grosse Unterschiede zwischen den Algorithmen. Vor allem der Pearson-Algorithmus\n",
    "erzeugt ein einzelnen Fällen hoehere Recommendation Scores. Da er fuer die Aufgabe allerdings nicht von Relevanz ist,\n",
    "werden seine Recommendation-Scores erst einmal ignoriert.\n",
    "\n",
    "Die Euklid Ähnlichkeit hat einige wichtige Unterschiede zur Russel Ähnlichkeit. Das liegt daran, dass mit der normierten euklidischen Distanz zwischen Usern der Wert immer nahe bei 1 liegt, also letztendlich der entscheidende Faktor für die Empfehlung eines Films ist, wie viele User diesen geliked haben. Das äußert sich auch darin, dass alle Filme, die nur von einem User geliked wurden nahe um einen Empfehlungswert von 0.1 liegen. Kleine Unterschiede sind dabei jedoch signifikant, weil sie die Reihenfolge der Filme bei gleicher Anzahl an Likes bestimmen. Man kann aus dem Diagramm relativ klar herauslesen, wie viel Likes der jeweilige Film erhalten hat. Die Ähnlichkeit der User hat also im Vergleich zu der Anzahl der Likes nur eine relativ geringe kausalität auf das Endergebnis und entscheided im Falle von einer identischen Anzahl an Likes die Reihenfolge. Dies könnte sich jedoch ändern, wenn es deutlich mehr User gibt und zwei Bands eine sehr hohe, aber unterschiedlich Anzahl an Likes von verschiedenen Nutzerdemographien bekommen. \n",
    "\n",
    "\n",
    "Um den Unterschied zu den Ähnlichkeitswerten des RusselRao Algorithmus zu diskutieren werden zunächst die Ähnlichkeitswerte der User mit dem RusselRao Algorithmus ausgegeben."
   ]
  },
  {
   "cell_type": "code",
   "execution_count": 63,
   "metadata": {},
   "outputs": [
    {
     "data": {
      "text/html": [
       "<div>\n",
       "<style scoped>\n",
       "    .dataframe tbody tr th:only-of-type {\n",
       "        vertical-align: middle;\n",
       "    }\n",
       "\n",
       "    .dataframe tbody tr th {\n",
       "        vertical-align: top;\n",
       "    }\n",
       "\n",
       "    .dataframe thead th {\n",
       "        text-align: right;\n",
       "    }\n",
       "</style>\n",
       "<table border=\"1\" class=\"dataframe\">\n",
       "  <thead>\n",
       "    <tr style=\"text-align: right;\">\n",
       "      <th></th>\n",
       "      <th>User Similarity to BrunoJoS</th>\n",
       "    </tr>\n",
       "  </thead>\n",
       "  <tbody>\n",
       "    <tr>\n",
       "      <th>DPREBOYE</th>\n",
       "      <td>0.013245</td>\n",
       "    </tr>\n",
       "    <tr>\n",
       "      <th>MPistol40</th>\n",
       "      <td>0.013245</td>\n",
       "    </tr>\n",
       "    <tr>\n",
       "      <th>NemoNightfall</th>\n",
       "      <td>0.039735</td>\n",
       "    </tr>\n",
       "    <tr>\n",
       "      <th>SkyRif</th>\n",
       "      <td>0.026490</td>\n",
       "    </tr>\n",
       "    <tr>\n",
       "      <th>Wags1382</th>\n",
       "      <td>0.006623</td>\n",
       "    </tr>\n",
       "    <tr>\n",
       "      <th>Znapsen</th>\n",
       "      <td>0.013245</td>\n",
       "    </tr>\n",
       "    <tr>\n",
       "      <th>cortapsyco</th>\n",
       "      <td>0.013245</td>\n",
       "    </tr>\n",
       "    <tr>\n",
       "      <th>emill_67</th>\n",
       "      <td>0.019868</td>\n",
       "    </tr>\n",
       "    <tr>\n",
       "      <th>sattuviitana</th>\n",
       "      <td>0.019868</td>\n",
       "    </tr>\n",
       "  </tbody>\n",
       "</table>\n",
       "</div>"
      ],
      "text/plain": [
       "               User Similarity to BrunoJoS\n",
       "DPREBOYE                          0.013245\n",
       "MPistol40                         0.013245\n",
       "NemoNightfall                     0.039735\n",
       "SkyRif                            0.026490\n",
       "Wags1382                          0.006623\n",
       "Znapsen                           0.013245\n",
       "cortapsyco                        0.013245\n",
       "emill_67                          0.019868\n",
       "sattuviitana                      0.019868"
      ]
     },
     "execution_count": 63,
     "metadata": {},
     "output_type": "execute_result"
    }
   ],
   "source": [
    "user_sim = get_similar_users(user, user_dict, sim_RusselRao, as_dict=True)\n",
    "to_df(user_sim, f\"User Similarity to {user}\")"
   ]
  },
  {
   "cell_type": "markdown",
   "metadata": {},
   "source": [
    "Auffällig ist die deutlich größere Varianz bei den Ähnlichkeiten der Nutzer, wenn diese mit Russel berechnet werden. Das liegt daran, dass der Russel Algorithmus gemeinsame Likes stark gewichtet, was bei unseren Daten zu einer deutlich größeren Varianz führt. Das führt in diesem Fall dazu, dass bei der Russel Ähnlichkeit die Empfehlungen stärker durch die Korrelation zwischen den Nutzer entschieden wird als bei euklid, was man an Unterschieden in der Reihenfolge sehen kann, zum Beispiel in dem Unterschied zwischen Pendulum und Breaking Benjamin. "
   ]
  },
  {
   "cell_type": "markdown",
   "metadata": {
    "pycharm": {
     "name": "#%% md\n"
    }
   },
   "source": [
    "### Weitere Investigation\n",
    "\n",
    "Jetzt koennte es noch interessant sein, welche Algorithmen statistisch oefter einen hoeheren Recommendation-Score erzeugen.\n",
    "Dafuer wird sich wieder der Similarity-Comparison-Funktion aus Aufgabe 1 bedient. Diese wird mit dem *user_dict*\n",
    "und jeweils der User-Based-Recommendations-Funktion, sowie den unterschiedlichen Algorithmen ausgefuehrt.\n",
    "\n",
    "Die Ergebnis werden dann in einem Balken-Diagramm visualisiert."
   ]
  },
  {
   "cell_type": "code",
   "execution_count": 64,
   "metadata": {
    "pycharm": {
     "name": "#%%\n"
    }
   },
   "outputs": [
    {
     "name": "stdout",
     "output_type": "stream",
     "text": [
      "Persons with similarity greater than 0: ['DPREBOYE', 'MPistol40', 'NemoNightfall', 'SkyRif', 'Wags1382', 'Znapsen', 'cortapsyco', 'emill_67', 'sattuviitana']\n",
      "Individual items: {'Theory of a Deadman', 'Magnus Uggla', 'Four Year Strong', 'Linkin Park', 'N.W.A', 'Shinedown', 'Green Day', 'Daughter', 'Godsmack', 'Breaking Benjamin', 'Freestyle', 'Hans Zimmer', 'In Flames', 'Bayside', 'Alexisonfire', 'blink-182', 'Foo Fighters', 'Atoms for Peace', 'Queen', 'Iron Maiden', 'Lady Gaga', 'Wu-Tang Clan', 'Halestorm', 'Nine Inch Nails', 'Parkway Drive', 'Stone Sour', 'The Wonder Years', 'Boston', 'Panic! at the Disco', 'Arctic Monkeys', 'Warpaint', 'Pendulum', 'Disturbed', 'The Dear Hunter', 'Krewella', 'Red Hot Chili Peppers', 'Ke$ha', '30 Seconds to Mars', 'Oh, Sleeper', 'Dark Tranquillity', 'All Time Low', 'Bullet for My Valentine', 'White Zombie', 'Die Antwoord', 'Nobuo Uematsu', 'Soulfly', 'AFI', 'Misfits', 'New Found Glory', 'Rage Against the Machine', 'Three Days Grace', 'Machine Head', 'Queens of the Stone Age', 'Tenacious D', 'Dimmu Borgir', 'Gallows', 'Metallica', 'Leevi and the Leavings', 'System of a Down', 'Arch Enemy', 'Pantera', 'Demon Hunter', 'Marina and the Diamonds', 'Gyllene Tider', 'Howard Shore', 'Cruel Hand', 'Black Label Society', 'Rob Zombie', 'Beach House', 'Madonna', 'Radiohead', 'Calvin Harris', 'Wintersun', 'Evanescence', 'Rammstein', 'Memphis May Fire', 'Sum 41', 'Tool', 'Korn', 'Amon Amarth', 'DragonForce', 'Sonata Arctica', 'Lacuna Coil', 'My Chemical Romance', 'Hozier', 'Pitty', 'Nirvana', 'P.D.P.', 'Soilwork', 'Scar Symmetry', 'Mogwai', 'A Perfect Circle', 'Electric Light Orchestra', 'Mumford & Sons', 'The Killers', 'Trivium', 'Dmitri Shostakovich', 'The Band', 'Cat Power', 'Dope', 'Deftones', 'Volbeat', 'Becoming the Archetype', 'Killswitch Engage', 'Stam1na', 'Sick Puppies', 'Black Veil Brides', 'Children of Bodom', 'Five Finger Death Punch', 'Saosin', 'James Blake', 'Muse', 'Cradle of Filth', 'Fall Out Boy', 'Seether', 'Pentakill', 'Epic Rap Battles Of History', 'Motion City Soundtrack', 'Damien Rice', 'Nightwish', 'Lamb of God', 'deadmau5', 'M.I.A.', 'Sabaton', 'Team Sleep', 'Lindemann', 'Amorphis', 'Pink Floyd', 'Billy Talent', 'Dr. Dre', 'Coldplay', 'Avenged Sevenfold', 'DIR EN GREY', 'Papa Roach', 'Coheed and Cambria', 'Evergreen Terrace', 'Klamydia', 'Ween', 'The White Stripes', 'Circa Survive', 'Turmion Kätilöt', 'Limp Bizkit', 'Bring Me the Horizon', 'Ben Howard', 'Powerwolf', '36 Crazyfists', 'Flo Rida', 'Slipknot', 'Katy Perry', 'Energy', 'Mustasch'}\n",
      "Items that BrunoJoS has not rated: dict_keys(['Theory of a Deadman', 'Magnus Uggla', 'Four Year Strong', 'N.W.A', 'Shinedown', 'Daughter', 'Godsmack', 'Breaking Benjamin', 'Freestyle', 'Hans Zimmer', 'In Flames', 'Bayside', 'Alexisonfire', 'blink-182', 'Atoms for Peace', 'Queen', 'Iron Maiden', 'Wu-Tang Clan', 'Halestorm', 'Nine Inch Nails', 'Parkway Drive', 'Stone Sour', 'The Wonder Years', 'Boston', 'Panic! at the Disco', 'Warpaint', 'Pendulum', 'Disturbed', 'The Dear Hunter', 'Krewella', 'Red Hot Chili Peppers', 'Ke$ha', 'Oh, Sleeper', 'Dark Tranquillity', 'All Time Low', 'Bullet for My Valentine', 'White Zombie', 'Die Antwoord', 'Nobuo Uematsu', 'Soulfly', 'AFI', 'Energy', 'Misfits', 'New Found Glory', 'Rage Against the Machine', 'Machine Head', 'Tenacious D', 'Dimmu Borgir', 'Gallows', 'Metallica', 'Leevi and the Leavings', 'Arch Enemy', 'Pantera', 'Demon Hunter', 'Marina and the Diamonds', 'Gyllene Tider', 'Howard Shore', 'Cruel Hand', 'Black Label Society', 'Rob Zombie', 'Beach House', 'Calvin Harris', 'Wintersun', 'Evanescence', 'Memphis May Fire', 'Tool', 'Korn', 'Amon Amarth', 'DragonForce', 'Sonata Arctica', 'Lacuna Coil', 'My Chemical Romance', 'Hozier', 'Nirvana', 'P.D.P.', 'Soilwork', 'Scar Symmetry', 'Mogwai', 'A Perfect Circle', 'Electric Light Orchestra', 'Mumford & Sons', 'Trivium', 'Dmitri Shostakovich', 'The Band', 'Cat Power', 'Dope', 'Deftones', 'Volbeat', 'Becoming the Archetype', 'Killswitch Engage', 'Stam1na', 'Sick Puppies', 'Black Veil Brides', 'Children of Bodom', 'Five Finger Death Punch', 'Saosin', 'James Blake', 'Cradle of Filth', 'Fall Out Boy', 'Seether', 'Pentakill', 'Epic Rap Battles Of History', 'Motion City Soundtrack', 'Damien Rice', 'Nightwish', 'Lamb of God', 'deadmau5', 'Sabaton', 'Team Sleep', 'Lindemann', 'Amorphis', 'Pink Floyd', 'Billy Talent', 'Dr. Dre', 'Avenged Sevenfold', 'DIR EN GREY', 'Coheed and Cambria', 'Evergreen Terrace', 'Klamydia', 'Ween', 'The White Stripes', 'Circa Survive', 'Turmion Kätilöt', 'Limp Bizkit', 'Bring Me the Horizon', 'Ben Howard', 'Powerwolf', '36 Crazyfists', 'Flo Rida', 'Katy Perry', 'Mustasch'])\n",
      "Persons with similarity greater than 0: ['BrunoJoS', 'MPistol40', 'NemoNightfall', 'SkyRif', 'Wags1382', 'Znapsen', 'cortapsyco', 'emill_67', 'sattuviitana']\n",
      "Individual items: {'Theory of a Deadman', 'Magnus Uggla', 'Four Year Strong', 'Linkin Park', 'N.W.A', 'Shinedown', 'Green Day', 'Daughter', 'Godsmack', 'Breaking Benjamin', 'Freestyle', 'Hans Zimmer', 'In Flames', 'Bayside', 'Alexisonfire', 'blink-182', 'Foo Fighters', 'Atoms for Peace', 'Queen', 'Iron Maiden', 'Lady Gaga', 'Wu-Tang Clan', 'Halestorm', 'Nine Inch Nails', 'Parkway Drive', 'Stone Sour', 'The Wonder Years', 'Boston', 'Panic! at the Disco', 'Arctic Monkeys', 'Warpaint', 'Pendulum', 'Disturbed', 'The Dear Hunter', 'Krewella', 'Red Hot Chili Peppers', 'Ke$ha', '30 Seconds to Mars', 'Oh, Sleeper', 'Dark Tranquillity', 'All Time Low', 'Bullet for My Valentine', 'White Zombie', 'Die Antwoord', 'Nobuo Uematsu', 'Soulfly', 'AFI', 'Misfits', 'New Found Glory', 'Rage Against the Machine', 'Three Days Grace', 'Machine Head', 'Queens of the Stone Age', 'Tenacious D', 'Dimmu Borgir', 'Gallows', 'Metallica', 'Leevi and the Leavings', 'System of a Down', 'Arch Enemy', 'Pantera', 'Demon Hunter', 'Marina and the Diamonds', 'Gyllene Tider', 'Howard Shore', 'Cruel Hand', 'Black Label Society', 'Rob Zombie', 'Beach House', 'Madonna', 'Radiohead', 'Calvin Harris', 'Wintersun', 'Evanescence', 'Rammstein', 'Memphis May Fire', 'Sum 41', 'Tool', 'Korn', 'Amon Amarth', 'DragonForce', 'Sonata Arctica', 'Lacuna Coil', 'My Chemical Romance', 'Hozier', 'Pitty', 'Nirvana', 'P.D.P.', 'Soilwork', 'Scar Symmetry', 'Mogwai', 'A Perfect Circle', 'Electric Light Orchestra', 'Mumford & Sons', 'The Killers', 'Trivium', 'Dmitri Shostakovich', 'The Band', 'Cat Power', 'Dope', 'Deftones', 'Volbeat', 'Becoming the Archetype', 'Killswitch Engage', 'Stam1na', 'Sick Puppies', 'Black Veil Brides', 'Children of Bodom', 'Five Finger Death Punch', 'Saosin', 'James Blake', 'Muse', 'Cradle of Filth', 'Fall Out Boy', 'Seether', 'Pentakill', 'Epic Rap Battles Of History', 'Motion City Soundtrack', 'Damien Rice', 'Nightwish', 'Lamb of God', 'deadmau5', 'M.I.A.', 'Sabaton', 'Team Sleep', 'Lindemann', 'Amorphis', 'Pink Floyd', 'Billy Talent', 'Dr. Dre', 'Coldplay', 'Avenged Sevenfold', 'DIR EN GREY', 'Papa Roach', 'Coheed and Cambria', 'Evergreen Terrace', 'Klamydia', 'Ween', 'The White Stripes', 'Circa Survive', 'Turmion Kätilöt', 'Limp Bizkit', 'Bring Me the Horizon', 'Ben Howard', 'Powerwolf', '36 Crazyfists', 'Flo Rida', 'Slipknot', 'Katy Perry', 'Energy', 'Mustasch'}\n",
      "Items that DPREBOYE has not rated: dict_keys(['Theory of a Deadman', 'Magnus Uggla', 'Four Year Strong', 'Linkin Park', 'Shinedown', 'Green Day', 'Godsmack', 'Breaking Benjamin', 'Freestyle', 'Hans Zimmer', 'In Flames', 'Bayside', 'Alexisonfire', 'blink-182', 'Foo Fighters', 'Queen', 'Iron Maiden', 'Lady Gaga', 'Halestorm', 'Nine Inch Nails', 'Parkway Drive', 'Stone Sour', 'The Wonder Years', 'Boston', 'Panic! at the Disco', 'Pendulum', 'Disturbed', 'The Dear Hunter', 'Krewella', 'Red Hot Chili Peppers', 'Ke$ha', '30 Seconds to Mars', 'Oh, Sleeper', 'Dark Tranquillity', 'All Time Low', 'Bullet for My Valentine', 'White Zombie', 'Nobuo Uematsu', 'Soulfly', 'AFI', 'Energy', 'Misfits', 'New Found Glory', 'Three Days Grace', 'Machine Head', 'Queens of the Stone Age', 'Tenacious D', 'Dimmu Borgir', 'Gallows', 'Metallica', 'Leevi and the Leavings', 'Arch Enemy', 'Pantera', 'Demon Hunter', 'Marina and the Diamonds', 'Gyllene Tider', 'Howard Shore', 'Cruel Hand', 'Black Label Society', 'Rob Zombie', 'Madonna', 'Radiohead', 'Calvin Harris', 'Wintersun', 'Evanescence', 'Rammstein', 'Memphis May Fire', 'Sum 41', 'Tool', 'Korn', 'Amon Amarth', 'DragonForce', 'Sonata Arctica', 'Lacuna Coil', 'My Chemical Romance', 'Pitty', 'P.D.P.', 'Soilwork', 'Scar Symmetry', 'A Perfect Circle', 'Electric Light Orchestra', 'Mumford & Sons', 'The Killers', 'Trivium', 'Dmitri Shostakovich', 'Dope', 'Deftones', 'Volbeat', 'Becoming the Archetype', 'Killswitch Engage', 'Stam1na', 'Sick Puppies', 'Black Veil Brides', 'Children of Bodom', 'Five Finger Death Punch', 'Saosin', 'Muse', 'Cradle of Filth', 'Fall Out Boy', 'Seether', 'Pentakill', 'Epic Rap Battles Of History', 'Motion City Soundtrack', 'Nightwish', 'Lamb of God', 'deadmau5', 'M.I.A.', 'Sabaton', 'Team Sleep', 'Lindemann', 'Amorphis', 'Pink Floyd', 'Billy Talent', 'Coldplay', 'Avenged Sevenfold', 'Papa Roach', 'Coheed and Cambria', 'Evergreen Terrace', 'Klamydia', 'Ween', 'Circa Survive', 'Turmion Kätilöt', 'Limp Bizkit', 'Bring Me the Horizon', 'Ben Howard', 'Powerwolf', '36 Crazyfists', 'Flo Rida', 'Katy Perry', 'System of a Down', 'Mustasch'])\n"
     ]
    },
    {
     "name": "stdout",
     "output_type": "stream",
     "text": [
      "Persons with similarity greater than 0: ['BrunoJoS', 'DPREBOYE', 'NemoNightfall', 'SkyRif', 'Wags1382', 'Znapsen', 'cortapsyco', 'emill_67', 'sattuviitana']\n",
      "Individual items: {'Theory of a Deadman', 'Magnus Uggla', 'Four Year Strong', 'Linkin Park', 'N.W.A', 'Shinedown', 'Green Day', 'Daughter', 'Godsmack', 'Breaking Benjamin', 'Freestyle', 'Hans Zimmer', 'In Flames', 'Bayside', 'Alexisonfire', 'blink-182', 'Foo Fighters', 'Atoms for Peace', 'Queen', 'Iron Maiden', 'Lady Gaga', 'Wu-Tang Clan', 'Halestorm', 'Nine Inch Nails', 'Parkway Drive', 'Stone Sour', 'The Wonder Years', 'Boston', 'Panic! at the Disco', 'Arctic Monkeys', 'Warpaint', 'Pendulum', 'Disturbed', 'The Dear Hunter', 'Krewella', 'Red Hot Chili Peppers', 'Ke$ha', '30 Seconds to Mars', 'Oh, Sleeper', 'Dark Tranquillity', 'All Time Low', 'Bullet for My Valentine', 'White Zombie', 'Die Antwoord', 'Nobuo Uematsu', 'Soulfly', 'AFI', 'Misfits', 'New Found Glory', 'Rage Against the Machine', 'Three Days Grace', 'Machine Head', 'Queens of the Stone Age', 'Tenacious D', 'Dimmu Borgir', 'Gallows', 'Metallica', 'Leevi and the Leavings', 'System of a Down', 'Arch Enemy', 'Pantera', 'Demon Hunter', 'Marina and the Diamonds', 'Gyllene Tider', 'Howard Shore', 'Cruel Hand', 'Black Label Society', 'Rob Zombie', 'Beach House', 'Madonna', 'Radiohead', 'Calvin Harris', 'Wintersun', 'Evanescence', 'Rammstein', 'Memphis May Fire', 'Sum 41', 'Tool', 'Korn', 'Amon Amarth', 'DragonForce', 'Sonata Arctica', 'Lacuna Coil', 'My Chemical Romance', 'Hozier', 'Pitty', 'Nirvana', 'P.D.P.', 'Soilwork', 'Scar Symmetry', 'Mogwai', 'A Perfect Circle', 'Electric Light Orchestra', 'Mumford & Sons', 'The Killers', 'Trivium', 'Dmitri Shostakovich', 'The Band', 'Cat Power', 'Dope', 'Deftones', 'Volbeat', 'Becoming the Archetype', 'Killswitch Engage', 'Stam1na', 'Sick Puppies', 'Black Veil Brides', 'Children of Bodom', 'Five Finger Death Punch', 'Saosin', 'James Blake', 'Muse', 'Cradle of Filth', 'Fall Out Boy', 'Seether', 'Pentakill', 'Epic Rap Battles Of History', 'Motion City Soundtrack', 'Damien Rice', 'Nightwish', 'Lamb of God', 'deadmau5', 'M.I.A.', 'Sabaton', 'Team Sleep', 'Lindemann', 'Amorphis', 'Pink Floyd', 'Billy Talent', 'Dr. Dre', 'Coldplay', 'Avenged Sevenfold', 'DIR EN GREY', 'Papa Roach', 'Coheed and Cambria', 'Evergreen Terrace', 'Klamydia', 'Ween', 'The White Stripes', 'Circa Survive', 'Turmion Kätilöt', 'Limp Bizkit', 'Bring Me the Horizon', 'Ben Howard', 'Powerwolf', '36 Crazyfists', 'Flo Rida', 'Slipknot', 'Katy Perry', 'Energy', 'Mustasch'}\n",
      "Items that MPistol40 has not rated: dict_keys(['Theory of a Deadman', 'Magnus Uggla', 'Four Year Strong', 'Linkin Park', 'N.W.A', 'Shinedown', 'Green Day', 'Daughter', 'Godsmack', 'Breaking Benjamin', 'Freestyle', 'Hans Zimmer', 'Bayside', 'Alexisonfire', 'blink-182', 'Foo Fighters', 'Atoms for Peace', 'Queen', 'Iron Maiden', 'Lady Gaga', 'Wu-Tang Clan', 'Halestorm', 'Parkway Drive', 'The Wonder Years', 'Boston', 'Panic! at the Disco', 'Arctic Monkeys', 'Warpaint', 'Disturbed', 'The Dear Hunter', 'Krewella', 'Ke$ha', '30 Seconds to Mars', 'Oh, Sleeper', 'All Time Low', 'Bullet for My Valentine', 'White Zombie', 'Die Antwoord', 'Nobuo Uematsu', 'AFI', 'Energy', 'Misfits', 'New Found Glory', 'Three Days Grace', 'Machine Head', 'Queens of the Stone Age', 'Tenacious D', 'Dimmu Borgir', 'Gallows', 'Metallica', 'Leevi and the Leavings', 'Arch Enemy', 'Pantera', 'Demon Hunter', 'Marina and the Diamonds', 'Gyllene Tider', 'Howard Shore', 'Cruel Hand', 'Black Label Society', 'Rob Zombie', 'Beach House', 'Madonna', 'Radiohead', 'Calvin Harris', 'Wintersun', 'Evanescence', 'Rammstein', 'Memphis May Fire', 'Sum 41', 'Amon Amarth', 'DragonForce', 'Sonata Arctica', 'Lacuna Coil', 'My Chemical Romance', 'Hozier', 'Pitty', 'Nirvana', 'P.D.P.', 'Mogwai', 'Electric Light Orchestra', 'Mumford & Sons', 'The Killers', 'Trivium', 'The Band', 'Cat Power', 'Dope', 'Volbeat', 'Becoming the Archetype', 'Killswitch Engage', 'Stam1na', 'Sick Puppies', 'Black Veil Brides', 'Children of Bodom', 'Five Finger Death Punch', 'Saosin', 'James Blake', 'Muse', 'Cradle of Filth', 'Fall Out Boy', 'Seether', 'Pentakill', 'Epic Rap Battles Of History', 'Motion City Soundtrack', 'Damien Rice', 'Nightwish', 'Lamb of God', 'deadmau5', 'M.I.A.', 'Sabaton', 'Lindemann', 'Amorphis', 'Pink Floyd', 'Billy Talent', 'Dr. Dre', 'Coldplay', 'Avenged Sevenfold', 'DIR EN GREY', 'Papa Roach', 'Coheed and Cambria', 'Evergreen Terrace', 'Klamydia', 'Ween', 'The White Stripes', 'Circa Survive', 'Turmion Kätilöt', 'Bring Me the Horizon', 'Ben Howard', 'Powerwolf', 'Flo Rida', 'Katy Perry', 'Mustasch'])\n",
      "Persons with similarity greater than 0: ['BrunoJoS', 'DPREBOYE', 'MPistol40', 'SkyRif', 'Wags1382', 'Znapsen', 'cortapsyco', 'emill_67', 'sattuviitana']\n",
      "Individual items: {'Theory of a Deadman', 'Magnus Uggla', 'Four Year Strong', 'Linkin Park', 'N.W.A', 'Shinedown', 'Green Day', 'Daughter', 'Godsmack', 'Breaking Benjamin', 'Freestyle', 'Hans Zimmer', 'In Flames', 'Bayside', 'Alexisonfire', 'blink-182', 'Foo Fighters', 'Atoms for Peace', 'Queen', 'Iron Maiden', 'Lady Gaga', 'Wu-Tang Clan', 'Halestorm', 'Nine Inch Nails', 'Parkway Drive', 'Stone Sour', 'The Wonder Years', 'Boston', 'Panic! at the Disco', 'Arctic Monkeys', 'Warpaint', 'Pendulum', 'Disturbed', 'The Dear Hunter', 'Krewella', 'Red Hot Chili Peppers', 'Ke$ha', '30 Seconds to Mars', 'Oh, Sleeper', 'Dark Tranquillity', 'All Time Low', 'Bullet for My Valentine', 'White Zombie', 'Die Antwoord', 'Nobuo Uematsu', 'Soulfly', 'AFI', 'Misfits', 'New Found Glory', 'Rage Against the Machine', 'Three Days Grace', 'Machine Head', 'Queens of the Stone Age', 'Tenacious D', 'Dimmu Borgir', 'Gallows', 'Metallica', 'Leevi and the Leavings', 'System of a Down', 'Arch Enemy', 'Pantera', 'Demon Hunter', 'Marina and the Diamonds', 'Gyllene Tider', 'Howard Shore', 'Cruel Hand', 'Black Label Society', 'Rob Zombie', 'Beach House', 'Madonna', 'Radiohead', 'Calvin Harris', 'Wintersun', 'Evanescence', 'Rammstein', 'Memphis May Fire', 'Sum 41', 'Tool', 'Korn', 'Amon Amarth', 'DragonForce', 'Sonata Arctica', 'Lacuna Coil', 'My Chemical Romance', 'Hozier', 'Pitty', 'Nirvana', 'P.D.P.', 'Soilwork', 'Scar Symmetry', 'Mogwai', 'A Perfect Circle', 'Electric Light Orchestra', 'Mumford & Sons', 'The Killers', 'Trivium', 'Dmitri Shostakovich', 'The Band', 'Cat Power', 'Dope', 'Deftones', 'Volbeat', 'Becoming the Archetype', 'Killswitch Engage', 'Stam1na', 'Sick Puppies', 'Black Veil Brides', 'Children of Bodom', 'Five Finger Death Punch', 'Saosin', 'James Blake', 'Muse', 'Cradle of Filth', 'Fall Out Boy', 'Seether', 'Pentakill', 'Epic Rap Battles Of History', 'Motion City Soundtrack', 'Damien Rice', 'Nightwish', 'Lamb of God', 'deadmau5', 'M.I.A.', 'Sabaton', 'Team Sleep', 'Lindemann', 'Amorphis', 'Pink Floyd', 'Billy Talent', 'Dr. Dre', 'Coldplay', 'Avenged Sevenfold', 'DIR EN GREY', 'Papa Roach', 'Coheed and Cambria', 'Evergreen Terrace', 'Klamydia', 'Ween', 'The White Stripes', 'Circa Survive', 'Turmion Kätilöt', 'Limp Bizkit', 'Bring Me the Horizon', 'Ben Howard', 'Powerwolf', '36 Crazyfists', 'Flo Rida', 'Slipknot', 'Katy Perry', 'Energy', 'Mustasch'}\n",
      "Items that NemoNightfall has not rated: dict_keys(['Theory of a Deadman', 'Magnus Uggla', 'Four Year Strong', 'N.W.A', 'Shinedown', 'Green Day', 'Daughter', 'Godsmack', 'Freestyle', 'Hans Zimmer', 'In Flames', 'Bayside', 'blink-182', 'Foo Fighters', 'Atoms for Peace', 'Queen', 'Iron Maiden', 'Lady Gaga', 'Wu-Tang Clan', 'Halestorm', 'Nine Inch Nails', 'Parkway Drive', 'The Wonder Years', 'Boston', 'Panic! at the Disco', 'Arctic Monkeys', 'Warpaint', 'Pendulum', 'Disturbed', 'The Dear Hunter', 'Krewella', 'Red Hot Chili Peppers', 'Ke$ha', 'Dark Tranquillity', 'White Zombie', 'Die Antwoord', 'Nobuo Uematsu', 'Soulfly', 'AFI', 'Energy', 'Misfits', 'New Found Glory', 'Rage Against the Machine', 'Machine Head', 'Queens of the Stone Age', 'Tenacious D', 'Dimmu Borgir', 'Gallows', 'Metallica', 'Leevi and the Leavings', 'Arch Enemy', 'Pantera', 'Demon Hunter', 'Marina and the Diamonds', 'Gyllene Tider', 'Howard Shore', 'Cruel Hand', 'Black Label Society', 'Rob Zombie', 'Beach House', 'Madonna', 'Radiohead', 'Calvin Harris', 'Wintersun', 'Evanescence', 'Rammstein', 'Sum 41', 'Tool', 'Korn', 'Amon Amarth', 'DragonForce', 'Sonata Arctica', 'Lacuna Coil', 'My Chemical Romance', 'Hozier', 'Pitty', 'Nirvana', 'P.D.P.', 'Soilwork', 'Scar Symmetry', 'Mogwai', 'A Perfect Circle', 'Electric Light Orchestra', 'The Killers', 'Dmitri Shostakovich', 'The Band', 'Cat Power', 'Dope', 'Deftones', 'Volbeat', 'Becoming the Archetype', 'Killswitch Engage', 'Stam1na', 'Black Veil Brides', 'Children of Bodom', 'Saosin', 'James Blake', 'Muse', 'Cradle of Filth', 'Fall Out Boy', 'Seether', 'Pentakill', 'Epic Rap Battles Of History', 'Motion City Soundtrack', 'Damien Rice', 'Nightwish', 'Lamb of God', 'deadmau5', 'M.I.A.', 'Sabaton', 'Team Sleep', 'Lindemann', 'Amorphis', 'Pink Floyd', 'Dr. Dre', 'Coldplay', 'Avenged Sevenfold', 'DIR EN GREY', 'Coheed and Cambria', 'Evergreen Terrace', 'Klamydia', 'Ween', 'The White Stripes', 'Circa Survive', 'Turmion Kätilöt', 'Limp Bizkit', 'Powerwolf', '36 Crazyfists', 'Flo Rida', 'Katy Perry', 'Mustasch'])\n"
     ]
    },
    {
     "name": "stdout",
     "output_type": "stream",
     "text": [
      "Persons with similarity greater than 0: ['BrunoJoS', 'DPREBOYE', 'MPistol40', 'NemoNightfall', 'Wags1382', 'Znapsen', 'cortapsyco', 'emill_67', 'sattuviitana']\n",
      "Individual items: {'Theory of a Deadman', 'Magnus Uggla', 'Four Year Strong', 'Linkin Park', 'N.W.A', 'Shinedown', 'Green Day', 'Daughter', 'Godsmack', 'Breaking Benjamin', 'Freestyle', 'Hans Zimmer', 'In Flames', 'Bayside', 'Alexisonfire', 'blink-182', 'Foo Fighters', 'Atoms for Peace', 'Queen', 'Iron Maiden', 'Lady Gaga', 'Wu-Tang Clan', 'Halestorm', 'Nine Inch Nails', 'Parkway Drive', 'Stone Sour', 'The Wonder Years', 'Boston', 'Panic! at the Disco', 'Arctic Monkeys', 'Warpaint', 'Pendulum', 'Disturbed', 'The Dear Hunter', 'Krewella', 'Red Hot Chili Peppers', 'Ke$ha', '30 Seconds to Mars', 'Oh, Sleeper', 'Dark Tranquillity', 'All Time Low', 'Bullet for My Valentine', 'White Zombie', 'Die Antwoord', 'Nobuo Uematsu', 'Soulfly', 'AFI', 'Misfits', 'New Found Glory', 'Rage Against the Machine', 'Three Days Grace', 'Machine Head', 'Queens of the Stone Age', 'Tenacious D', 'Dimmu Borgir', 'Gallows', 'Metallica', 'Leevi and the Leavings', 'System of a Down', 'Arch Enemy', 'Pantera', 'Demon Hunter', 'Marina and the Diamonds', 'Gyllene Tider', 'Howard Shore', 'Cruel Hand', 'Black Label Society', 'Rob Zombie', 'Beach House', 'Madonna', 'Radiohead', 'Calvin Harris', 'Wintersun', 'Evanescence', 'Rammstein', 'Memphis May Fire', 'Sum 41', 'Tool', 'Korn', 'Amon Amarth', 'DragonForce', 'Sonata Arctica', 'Lacuna Coil', 'My Chemical Romance', 'Hozier', 'Pitty', 'Nirvana', 'P.D.P.', 'Soilwork', 'Scar Symmetry', 'Mogwai', 'A Perfect Circle', 'Electric Light Orchestra', 'Mumford & Sons', 'The Killers', 'Trivium', 'Dmitri Shostakovich', 'The Band', 'Cat Power', 'Dope', 'Deftones', 'Volbeat', 'Becoming the Archetype', 'Killswitch Engage', 'Stam1na', 'Sick Puppies', 'Black Veil Brides', 'Children of Bodom', 'Five Finger Death Punch', 'Saosin', 'James Blake', 'Muse', 'Cradle of Filth', 'Fall Out Boy', 'Seether', 'Pentakill', 'Epic Rap Battles Of History', 'Motion City Soundtrack', 'Damien Rice', 'Nightwish', 'Lamb of God', 'deadmau5', 'M.I.A.', 'Sabaton', 'Team Sleep', 'Lindemann', 'Amorphis', 'Pink Floyd', 'Billy Talent', 'Dr. Dre', 'Coldplay', 'Avenged Sevenfold', 'DIR EN GREY', 'Papa Roach', 'Coheed and Cambria', 'Evergreen Terrace', 'Klamydia', 'Ween', 'The White Stripes', 'Circa Survive', 'Turmion Kätilöt', 'Limp Bizkit', 'Bring Me the Horizon', 'Ben Howard', 'Powerwolf', '36 Crazyfists', 'Flo Rida', 'Slipknot', 'Katy Perry', 'Energy', 'Mustasch'}\n",
      "Items that SkyRif has not rated: dict_keys(['Theory of a Deadman', 'Magnus Uggla', 'Four Year Strong', 'N.W.A', 'Shinedown', 'Green Day', 'Daughter', 'Godsmack', 'Breaking Benjamin', 'Freestyle', 'In Flames', 'Bayside', 'Alexisonfire', 'blink-182', 'Foo Fighters', 'Atoms for Peace', 'Queen', 'Iron Maiden', 'Lady Gaga', 'Wu-Tang Clan', 'Halestorm', 'Nine Inch Nails', 'Parkway Drive', 'The Wonder Years', 'Boston', 'Panic! at the Disco', 'Arctic Monkeys', 'Warpaint', 'Pendulum', 'Disturbed', 'The Dear Hunter', 'Krewella', 'Ke$ha', '30 Seconds to Mars', 'Oh, Sleeper', 'Dark Tranquillity', 'All Time Low', 'Bullet for My Valentine', 'White Zombie', 'Die Antwoord', 'Nobuo Uematsu', 'Soulfly', 'AFI', 'Energy', 'Misfits', 'New Found Glory', 'Three Days Grace', 'Machine Head', 'Queens of the Stone Age', 'Dimmu Borgir', 'Gallows', 'Leevi and the Leavings', 'Pantera', 'Demon Hunter', 'Marina and the Diamonds', 'Gyllene Tider', 'Cruel Hand', 'Black Label Society', 'Rob Zombie', 'Beach House', 'Madonna', 'Radiohead', 'Calvin Harris', 'Evanescence', 'Rammstein', 'Memphis May Fire', 'Sum 41', 'Tool', 'Sonata Arctica', 'Lacuna Coil', 'My Chemical Romance', 'Hozier', 'Pitty', 'Nirvana', 'P.D.P.', 'Soilwork', 'Scar Symmetry', 'Mogwai', 'A Perfect Circle', 'Electric Light Orchestra', 'Mumford & Sons', 'The Killers', 'Trivium', 'Dmitri Shostakovich', 'The Band', 'Cat Power', 'Dope', 'Deftones', 'Volbeat', 'Becoming the Archetype', 'Killswitch Engage', 'Stam1na', 'Sick Puppies', 'Black Veil Brides', 'Children of Bodom', 'Five Finger Death Punch', 'Saosin', 'James Blake', 'Muse', 'Cradle of Filth', 'Fall Out Boy', 'Seether', 'Epic Rap Battles Of History', 'Motion City Soundtrack', 'Damien Rice', 'Nightwish', 'deadmau5', 'M.I.A.', 'Team Sleep', 'Lindemann', 'Amorphis', 'Pink Floyd', 'Billy Talent', 'Dr. Dre', 'Coldplay', 'Avenged Sevenfold', 'DIR EN GREY', 'Coheed and Cambria', 'Evergreen Terrace', 'Klamydia', 'Ween', 'The White Stripes', 'Circa Survive', 'Turmion Kätilöt', 'Limp Bizkit', 'Bring Me the Horizon', 'Ben Howard', '36 Crazyfists', 'Flo Rida', 'Katy Perry', 'Mustasch'])\n",
      "Persons with similarity greater than 0: ['BrunoJoS', 'DPREBOYE', 'MPistol40', 'NemoNightfall', 'SkyRif', 'Znapsen', 'cortapsyco', 'emill_67', 'sattuviitana']\n",
      "Individual items: {'Theory of a Deadman', 'Magnus Uggla', 'Four Year Strong', 'Linkin Park', 'N.W.A', 'Shinedown', 'Green Day', 'Daughter', 'Godsmack', 'Breaking Benjamin', 'Freestyle', 'Hans Zimmer', 'In Flames', 'Bayside', 'Alexisonfire', 'blink-182', 'Foo Fighters', 'Atoms for Peace', 'Queen', 'Iron Maiden', 'Lady Gaga', 'Wu-Tang Clan', 'Halestorm', 'Nine Inch Nails', 'Parkway Drive', 'Stone Sour', 'The Wonder Years', 'Boston', 'Panic! at the Disco', 'Arctic Monkeys', 'Warpaint', 'Pendulum', 'Disturbed', 'The Dear Hunter', 'Krewella', 'Red Hot Chili Peppers', 'Ke$ha', '30 Seconds to Mars', 'Oh, Sleeper', 'Dark Tranquillity', 'All Time Low', 'Bullet for My Valentine', 'White Zombie', 'Die Antwoord', 'Nobuo Uematsu', 'Soulfly', 'AFI', 'Misfits', 'New Found Glory', 'Rage Against the Machine', 'Three Days Grace', 'Machine Head', 'Queens of the Stone Age', 'Tenacious D', 'Dimmu Borgir', 'Gallows', 'Metallica', 'Leevi and the Leavings', 'System of a Down', 'Arch Enemy', 'Pantera', 'Demon Hunter', 'Marina and the Diamonds', 'Gyllene Tider', 'Howard Shore', 'Cruel Hand', 'Black Label Society', 'Rob Zombie', 'Beach House', 'Madonna', 'Radiohead', 'Calvin Harris', 'Wintersun', 'Evanescence', 'Rammstein', 'Memphis May Fire', 'Sum 41', 'Tool', 'Korn', 'Amon Amarth', 'DragonForce', 'Sonata Arctica', 'Lacuna Coil', 'My Chemical Romance', 'Hozier', 'Pitty', 'Nirvana', 'P.D.P.', 'Soilwork', 'Scar Symmetry', 'Mogwai', 'A Perfect Circle', 'Electric Light Orchestra', 'Mumford & Sons', 'The Killers', 'Trivium', 'Dmitri Shostakovich', 'The Band', 'Cat Power', 'Dope', 'Deftones', 'Volbeat', 'Becoming the Archetype', 'Killswitch Engage', 'Stam1na', 'Sick Puppies', 'Black Veil Brides', 'Children of Bodom', 'Five Finger Death Punch', 'Saosin', 'James Blake', 'Muse', 'Cradle of Filth', 'Fall Out Boy', 'Seether', 'Pentakill', 'Epic Rap Battles Of History', 'Motion City Soundtrack', 'Damien Rice', 'Nightwish', 'Lamb of God', 'deadmau5', 'M.I.A.', 'Sabaton', 'Team Sleep', 'Lindemann', 'Amorphis', 'Pink Floyd', 'Billy Talent', 'Dr. Dre', 'Coldplay', 'Avenged Sevenfold', 'DIR EN GREY', 'Papa Roach', 'Coheed and Cambria', 'Evergreen Terrace', 'Klamydia', 'Ween', 'The White Stripes', 'Circa Survive', 'Turmion Kätilöt', 'Limp Bizkit', 'Bring Me the Horizon', 'Ben Howard', 'Powerwolf', '36 Crazyfists', 'Flo Rida', 'Slipknot', 'Katy Perry', 'Energy', 'Mustasch'}\n",
      "Items that Wags1382 has not rated: dict_keys(['Theory of a Deadman', 'Magnus Uggla', 'Linkin Park', 'N.W.A', 'Shinedown', 'Green Day', 'Daughter', 'Godsmack', 'Breaking Benjamin', 'Freestyle', 'Hans Zimmer', 'In Flames', 'Alexisonfire', 'Foo Fighters', 'Atoms for Peace', 'Queen', 'Iron Maiden', 'Lady Gaga', 'Wu-Tang Clan', 'Halestorm', 'Nine Inch Nails', 'Stone Sour', 'Boston', 'Panic! at the Disco', 'Arctic Monkeys', 'Warpaint', 'Pendulum', 'Disturbed', 'Krewella', 'Red Hot Chili Peppers', 'Ke$ha', '30 Seconds to Mars', 'Oh, Sleeper', 'Dark Tranquillity', 'All Time Low', 'Bullet for My Valentine', 'White Zombie', 'Die Antwoord', 'Nobuo Uematsu', 'Soulfly', 'Rage Against the Machine', 'Three Days Grace', 'Machine Head', 'Queens of the Stone Age', 'Tenacious D', 'Dimmu Borgir', 'Metallica', 'Leevi and the Leavings', 'Arch Enemy', 'Pantera', 'Demon Hunter', 'Marina and the Diamonds', 'Gyllene Tider', 'Howard Shore', 'Black Label Society', 'Rob Zombie', 'Beach House', 'Madonna', 'Radiohead', 'Calvin Harris', 'Wintersun', 'Evanescence', 'Rammstein', 'Memphis May Fire', 'Sum 41', 'Tool', 'Korn', 'Amon Amarth', 'DragonForce', 'Sonata Arctica', 'Lacuna Coil', 'Hozier', 'Pitty', 'Nirvana', 'P.D.P.', 'Soilwork', 'Scar Symmetry', 'Mogwai', 'A Perfect Circle', 'Electric Light Orchestra', 'Mumford & Sons', 'The Killers', 'Trivium', 'Dmitri Shostakovich', 'The Band', 'Cat Power', 'Dope', 'Deftones', 'Volbeat', 'Becoming the Archetype', 'Killswitch Engage', 'Stam1na', 'Sick Puppies', 'Black Veil Brides', 'Children of Bodom', 'Five Finger Death Punch', 'James Blake', 'Muse', 'Cradle of Filth', 'Seether', 'Pentakill', 'Epic Rap Battles Of History', 'Damien Rice', 'Nightwish', 'Lamb of God', 'deadmau5', 'M.I.A.', 'Sabaton', 'Team Sleep', 'Lindemann', 'Amorphis', 'Pink Floyd', 'Billy Talent', 'Dr. Dre', 'Coldplay', 'Avenged Sevenfold', 'DIR EN GREY', 'Papa Roach', 'Klamydia', 'Ween', 'The White Stripes', 'Turmion Kätilöt', 'Limp Bizkit', 'Bring Me the Horizon', 'Ben Howard', 'Powerwolf', '36 Crazyfists', 'Flo Rida', 'Katy Perry', 'System of a Down', 'Mustasch'])\n"
     ]
    },
    {
     "name": "stdout",
     "output_type": "stream",
     "text": [
      "Persons with similarity greater than 0: ['BrunoJoS', 'DPREBOYE', 'MPistol40', 'NemoNightfall', 'SkyRif', 'Wags1382', 'cortapsyco', 'emill_67', 'sattuviitana']\n",
      "Individual items: {'Theory of a Deadman', 'Magnus Uggla', 'Four Year Strong', 'Linkin Park', 'N.W.A', 'Shinedown', 'Green Day', 'Daughter', 'Godsmack', 'Breaking Benjamin', 'Freestyle', 'Hans Zimmer', 'In Flames', 'Bayside', 'Alexisonfire', 'blink-182', 'Foo Fighters', 'Atoms for Peace', 'Queen', 'Iron Maiden', 'Lady Gaga', 'Wu-Tang Clan', 'Halestorm', 'Nine Inch Nails', 'Parkway Drive', 'Stone Sour', 'The Wonder Years', 'Boston', 'Panic! at the Disco', 'Arctic Monkeys', 'Warpaint', 'Pendulum', 'Disturbed', 'The Dear Hunter', 'Krewella', 'Red Hot Chili Peppers', 'Ke$ha', '30 Seconds to Mars', 'Oh, Sleeper', 'Dark Tranquillity', 'All Time Low', 'Bullet for My Valentine', 'White Zombie', 'Die Antwoord', 'Nobuo Uematsu', 'Soulfly', 'AFI', 'Misfits', 'New Found Glory', 'Rage Against the Machine', 'Three Days Grace', 'Machine Head', 'Queens of the Stone Age', 'Tenacious D', 'Dimmu Borgir', 'Gallows', 'Metallica', 'Leevi and the Leavings', 'System of a Down', 'Arch Enemy', 'Pantera', 'Demon Hunter', 'Marina and the Diamonds', 'Gyllene Tider', 'Howard Shore', 'Cruel Hand', 'Black Label Society', 'Rob Zombie', 'Beach House', 'Madonna', 'Radiohead', 'Calvin Harris', 'Wintersun', 'Evanescence', 'Rammstein', 'Memphis May Fire', 'Sum 41', 'Tool', 'Korn', 'Amon Amarth', 'DragonForce', 'Sonata Arctica', 'Lacuna Coil', 'My Chemical Romance', 'Hozier', 'Pitty', 'Nirvana', 'P.D.P.', 'Soilwork', 'Scar Symmetry', 'Mogwai', 'A Perfect Circle', 'Electric Light Orchestra', 'Mumford & Sons', 'The Killers', 'Trivium', 'Dmitri Shostakovich', 'The Band', 'Cat Power', 'Dope', 'Deftones', 'Volbeat', 'Becoming the Archetype', 'Killswitch Engage', 'Stam1na', 'Sick Puppies', 'Black Veil Brides', 'Children of Bodom', 'Five Finger Death Punch', 'Saosin', 'James Blake', 'Muse', 'Cradle of Filth', 'Fall Out Boy', 'Seether', 'Pentakill', 'Epic Rap Battles Of History', 'Motion City Soundtrack', 'Damien Rice', 'Nightwish', 'Lamb of God', 'deadmau5', 'M.I.A.', 'Sabaton', 'Team Sleep', 'Lindemann', 'Amorphis', 'Pink Floyd', 'Billy Talent', 'Dr. Dre', 'Coldplay', 'Avenged Sevenfold', 'DIR EN GREY', 'Papa Roach', 'Coheed and Cambria', 'Evergreen Terrace', 'Klamydia', 'Ween', 'The White Stripes', 'Circa Survive', 'Turmion Kätilöt', 'Limp Bizkit', 'Bring Me the Horizon', 'Ben Howard', 'Powerwolf', '36 Crazyfists', 'Flo Rida', 'Slipknot', 'Katy Perry', 'Energy', 'Mustasch'}\n",
      "Items that Znapsen has not rated: dict_keys(['Theory of a Deadman', 'Four Year Strong', 'Linkin Park', 'N.W.A', 'Shinedown', 'Green Day', 'Daughter', 'Breaking Benjamin', 'Hans Zimmer', 'In Flames', 'Bayside', 'Alexisonfire', 'blink-182', 'Foo Fighters', 'Atoms for Peace', 'Queen', 'Iron Maiden', 'Lady Gaga', 'Wu-Tang Clan', 'Halestorm', 'Nine Inch Nails', 'Parkway Drive', 'Stone Sour', 'The Wonder Years', 'Boston', 'Panic! at the Disco', 'Arctic Monkeys', 'Warpaint', 'Pendulum', 'Disturbed', 'The Dear Hunter', 'Krewella', 'Red Hot Chili Peppers', 'Ke$ha', '30 Seconds to Mars', 'Oh, Sleeper', 'Dark Tranquillity', 'All Time Low', 'Bullet for My Valentine', 'Die Antwoord', 'Nobuo Uematsu', 'Soulfly', 'AFI', 'Energy', 'Misfits', 'New Found Glory', 'Rage Against the Machine', 'Three Days Grace', 'Queens of the Stone Age', 'Tenacious D', 'Dimmu Borgir', 'Gallows', 'Leevi and the Leavings', 'Arch Enemy', 'Demon Hunter', 'Marina and the Diamonds', 'Howard Shore', 'Cruel Hand', 'Rob Zombie', 'Beach House', 'Madonna', 'Radiohead', 'Calvin Harris', 'Wintersun', 'Evanescence', 'Memphis May Fire', 'Sum 41', 'Tool', 'Amon Amarth', 'DragonForce', 'Sonata Arctica', 'Lacuna Coil', 'My Chemical Romance', 'Hozier', 'Pitty', 'Nirvana', 'Soilwork', 'Scar Symmetry', 'Mogwai', 'A Perfect Circle', 'Electric Light Orchestra', 'Mumford & Sons', 'The Killers', 'Trivium', 'Dmitri Shostakovich', 'The Band', 'Cat Power', 'Deftones', 'Volbeat', 'Becoming the Archetype', 'Killswitch Engage', 'Stam1na', 'Sick Puppies', 'Black Veil Brides', 'Children of Bodom', 'Saosin', 'James Blake', 'Muse', 'Cradle of Filth', 'Fall Out Boy', 'Seether', 'Pentakill', 'Epic Rap Battles Of History', 'Motion City Soundtrack', 'Damien Rice', 'Nightwish', 'deadmau5', 'M.I.A.', 'Sabaton', 'Team Sleep', 'Lindemann', 'Amorphis', 'Billy Talent', 'Dr. Dre', 'Coldplay', 'DIR EN GREY', 'Papa Roach', 'Coheed and Cambria', 'Evergreen Terrace', 'Klamydia', 'Ween', 'The White Stripes', 'Circa Survive', 'Turmion Kätilöt', 'Bring Me the Horizon', 'Ben Howard', 'Powerwolf', '36 Crazyfists', 'Flo Rida', 'Katy Perry', 'System of a Down'])\n",
      "Persons with similarity greater than 0: ['BrunoJoS', 'DPREBOYE', 'MPistol40', 'NemoNightfall', 'SkyRif', 'Wags1382', 'Znapsen', 'emill_67', 'sattuviitana']\n",
      "Individual items: {'Theory of a Deadman', 'Magnus Uggla', 'Four Year Strong', 'Linkin Park', 'N.W.A', 'Shinedown', 'Green Day', 'Daughter', 'Godsmack', 'Breaking Benjamin', 'Freestyle', 'Hans Zimmer', 'In Flames', 'Bayside', 'Alexisonfire', 'blink-182', 'Foo Fighters', 'Atoms for Peace', 'Queen', 'Iron Maiden', 'Lady Gaga', 'Wu-Tang Clan', 'Halestorm', 'Nine Inch Nails', 'Parkway Drive', 'Stone Sour', 'The Wonder Years', 'Boston', 'Panic! at the Disco', 'Arctic Monkeys', 'Warpaint', 'Pendulum', 'Disturbed', 'The Dear Hunter', 'Krewella', 'Red Hot Chili Peppers', 'Ke$ha', '30 Seconds to Mars', 'Oh, Sleeper', 'Dark Tranquillity', 'All Time Low', 'Bullet for My Valentine', 'White Zombie', 'Die Antwoord', 'Nobuo Uematsu', 'Soulfly', 'AFI', 'Misfits', 'New Found Glory', 'Rage Against the Machine', 'Three Days Grace', 'Machine Head', 'Queens of the Stone Age', 'Tenacious D', 'Dimmu Borgir', 'Gallows', 'Metallica', 'Leevi and the Leavings', 'System of a Down', 'Arch Enemy', 'Pantera', 'Demon Hunter', 'Marina and the Diamonds', 'Gyllene Tider', 'Howard Shore', 'Cruel Hand', 'Black Label Society', 'Rob Zombie', 'Beach House', 'Madonna', 'Radiohead', 'Calvin Harris', 'Wintersun', 'Evanescence', 'Rammstein', 'Memphis May Fire', 'Sum 41', 'Tool', 'Korn', 'Amon Amarth', 'DragonForce', 'Sonata Arctica', 'Lacuna Coil', 'My Chemical Romance', 'Hozier', 'Pitty', 'Nirvana', 'P.D.P.', 'Soilwork', 'Scar Symmetry', 'Mogwai', 'A Perfect Circle', 'Electric Light Orchestra', 'Mumford & Sons', 'The Killers', 'Trivium', 'Dmitri Shostakovich', 'The Band', 'Cat Power', 'Dope', 'Deftones', 'Volbeat', 'Becoming the Archetype', 'Killswitch Engage', 'Stam1na', 'Sick Puppies', 'Black Veil Brides', 'Children of Bodom', 'Five Finger Death Punch', 'Saosin', 'James Blake', 'Muse', 'Cradle of Filth', 'Fall Out Boy', 'Seether', 'Pentakill', 'Epic Rap Battles Of History', 'Motion City Soundtrack', 'Damien Rice', 'Nightwish', 'Lamb of God', 'deadmau5', 'M.I.A.', 'Sabaton', 'Team Sleep', 'Lindemann', 'Amorphis', 'Pink Floyd', 'Billy Talent', 'Dr. Dre', 'Coldplay', 'Avenged Sevenfold', 'DIR EN GREY', 'Papa Roach', 'Coheed and Cambria', 'Evergreen Terrace', 'Klamydia', 'Ween', 'The White Stripes', 'Circa Survive', 'Turmion Kätilöt', 'Limp Bizkit', 'Bring Me the Horizon', 'Ben Howard', 'Powerwolf', '36 Crazyfists', 'Flo Rida', 'Slipknot', 'Katy Perry', 'Energy', 'Mustasch'}\n",
      "Items that cortapsyco has not rated: dict_keys(['Theory of a Deadman', 'Magnus Uggla', 'Four Year Strong', 'Linkin Park', 'N.W.A', 'Shinedown', 'Green Day', 'Daughter', 'Godsmack', 'Breaking Benjamin', 'Freestyle', 'Hans Zimmer', 'In Flames', 'Bayside', 'Alexisonfire', 'blink-182', 'Foo Fighters', 'Atoms for Peace', 'Queen', 'Iron Maiden', 'Lady Gaga', 'Wu-Tang Clan', 'Nine Inch Nails', 'Parkway Drive', 'Stone Sour', 'The Wonder Years', 'Boston', 'Arctic Monkeys', 'Warpaint', 'Disturbed', 'The Dear Hunter', 'Red Hot Chili Peppers', '30 Seconds to Mars', 'Oh, Sleeper', 'Dark Tranquillity', 'All Time Low', 'Bullet for My Valentine', 'White Zombie', 'Die Antwoord', 'Soulfly', 'AFI', 'Energy', 'Misfits', 'New Found Glory', 'Rage Against the Machine', 'Three Days Grace', 'Machine Head', 'Queens of the Stone Age', 'Tenacious D', 'Gallows', 'Metallica', 'Leevi and the Leavings', 'Arch Enemy', 'Pantera', 'Gyllene Tider', 'Howard Shore', 'Cruel Hand', 'Black Label Society', 'Rob Zombie', 'Beach House', 'Madonna', 'Radiohead', 'Wintersun', 'Evanescence', 'Rammstein', 'Memphis May Fire', 'Sum 41', 'Tool', 'Korn', 'Amon Amarth', 'DragonForce', 'Sonata Arctica', 'My Chemical Romance', 'Hozier', 'Pitty', 'Nirvana', 'P.D.P.', 'Soilwork', 'Scar Symmetry', 'Mogwai', 'A Perfect Circle', 'Electric Light Orchestra', 'Mumford & Sons', 'The Killers', 'Trivium', 'Dmitri Shostakovich', 'The Band', 'Cat Power', 'Dope', 'Deftones', 'Volbeat', 'Stam1na', 'Sick Puppies', 'Children of Bodom', 'Five Finger Death Punch', 'Saosin', 'James Blake', 'Muse', 'Fall Out Boy', 'Seether', 'Pentakill', 'Epic Rap Battles Of History', 'Motion City Soundtrack', 'Damien Rice', 'Nightwish', 'Lamb of God', 'deadmau5', 'M.I.A.', 'Sabaton', 'Team Sleep', 'Lindemann', 'Amorphis', 'Pink Floyd', 'Billy Talent', 'Dr. Dre', 'Coldplay', 'Avenged Sevenfold', 'DIR EN GREY', 'Papa Roach', 'Evergreen Terrace', 'Klamydia', 'Ween', 'The White Stripes', 'Circa Survive', 'Turmion Kätilöt', 'Limp Bizkit', 'Bring Me the Horizon', 'Ben Howard', 'Powerwolf', '36 Crazyfists', 'Mustasch'])\n"
     ]
    },
    {
     "name": "stdout",
     "output_type": "stream",
     "text": [
      "Persons with similarity greater than 0: ['BrunoJoS', 'DPREBOYE', 'MPistol40', 'NemoNightfall', 'SkyRif', 'Wags1382', 'Znapsen', 'cortapsyco', 'sattuviitana']\n",
      "Individual items: {'Theory of a Deadman', 'Magnus Uggla', 'Four Year Strong', 'Linkin Park', 'N.W.A', 'Shinedown', 'Green Day', 'Daughter', 'Godsmack', 'Breaking Benjamin', 'Freestyle', 'Hans Zimmer', 'In Flames', 'Bayside', 'Alexisonfire', 'blink-182', 'Foo Fighters', 'Atoms for Peace', 'Queen', 'Iron Maiden', 'Lady Gaga', 'Wu-Tang Clan', 'Halestorm', 'Nine Inch Nails', 'Parkway Drive', 'Stone Sour', 'The Wonder Years', 'Boston', 'Panic! at the Disco', 'Arctic Monkeys', 'Warpaint', 'Pendulum', 'Disturbed', 'The Dear Hunter', 'Krewella', 'Red Hot Chili Peppers', 'Ke$ha', '30 Seconds to Mars', 'Oh, Sleeper', 'Dark Tranquillity', 'All Time Low', 'Bullet for My Valentine', 'White Zombie', 'Die Antwoord', 'Nobuo Uematsu', 'Soulfly', 'AFI', 'Misfits', 'New Found Glory', 'Rage Against the Machine', 'Three Days Grace', 'Machine Head', 'Queens of the Stone Age', 'Tenacious D', 'Dimmu Borgir', 'Gallows', 'Metallica', 'Leevi and the Leavings', 'System of a Down', 'Arch Enemy', 'Pantera', 'Demon Hunter', 'Marina and the Diamonds', 'Gyllene Tider', 'Howard Shore', 'Cruel Hand', 'Black Label Society', 'Rob Zombie', 'Beach House', 'Madonna', 'Radiohead', 'Calvin Harris', 'Wintersun', 'Evanescence', 'Rammstein', 'Memphis May Fire', 'Sum 41', 'Tool', 'Korn', 'Amon Amarth', 'DragonForce', 'Sonata Arctica', 'Lacuna Coil', 'My Chemical Romance', 'Hozier', 'Pitty', 'Nirvana', 'P.D.P.', 'Soilwork', 'Scar Symmetry', 'Mogwai', 'A Perfect Circle', 'Electric Light Orchestra', 'Mumford & Sons', 'The Killers', 'Trivium', 'Dmitri Shostakovich', 'The Band', 'Cat Power', 'Dope', 'Deftones', 'Volbeat', 'Becoming the Archetype', 'Killswitch Engage', 'Stam1na', 'Sick Puppies', 'Black Veil Brides', 'Children of Bodom', 'Five Finger Death Punch', 'Saosin', 'James Blake', 'Muse', 'Cradle of Filth', 'Fall Out Boy', 'Seether', 'Pentakill', 'Epic Rap Battles Of History', 'Motion City Soundtrack', 'Damien Rice', 'Nightwish', 'Lamb of God', 'deadmau5', 'M.I.A.', 'Sabaton', 'Team Sleep', 'Lindemann', 'Amorphis', 'Pink Floyd', 'Billy Talent', 'Dr. Dre', 'Coldplay', 'Avenged Sevenfold', 'DIR EN GREY', 'Papa Roach', 'Coheed and Cambria', 'Evergreen Terrace', 'Klamydia', 'Ween', 'The White Stripes', 'Circa Survive', 'Turmion Kätilöt', 'Limp Bizkit', 'Bring Me the Horizon', 'Ben Howard', 'Powerwolf', '36 Crazyfists', 'Flo Rida', 'Slipknot', 'Katy Perry', 'Energy', 'Mustasch'}\n",
      "Items that emill_67 has not rated: dict_keys(['Magnus Uggla', 'Four Year Strong', 'Linkin Park', 'N.W.A', 'Green Day', 'Daughter', 'Godsmack', 'Breaking Benjamin', 'Freestyle', 'Hans Zimmer', 'In Flames', 'Bayside', 'Alexisonfire', 'blink-182', 'Atoms for Peace', 'Queen', 'Lady Gaga', 'Wu-Tang Clan', 'Halestorm', 'Nine Inch Nails', 'Parkway Drive', 'Stone Sour', 'The Wonder Years', 'Panic! at the Disco', 'Arctic Monkeys', 'Warpaint', 'Pendulum', 'The Dear Hunter', 'Krewella', 'Ke$ha', '30 Seconds to Mars', 'Oh, Sleeper', 'Dark Tranquillity', 'All Time Low', 'Bullet for My Valentine', 'White Zombie', 'Die Antwoord', 'Nobuo Uematsu', 'Soulfly', 'AFI', 'Energy', 'Misfits', 'New Found Glory', 'Three Days Grace', 'Machine Head', 'Queens of the Stone Age', 'Tenacious D', 'Dimmu Borgir', 'Gallows', 'Metallica', 'Leevi and the Leavings', 'Arch Enemy', 'Pantera', 'Demon Hunter', 'Marina and the Diamonds', 'Gyllene Tider', 'Howard Shore', 'Cruel Hand', 'Black Label Society', 'Beach House', 'Madonna', 'Radiohead', 'Calvin Harris', 'Wintersun', 'Rammstein', 'Memphis May Fire', 'Sum 41', 'Tool', 'Amon Amarth', 'DragonForce', 'Sonata Arctica', 'Lacuna Coil', 'My Chemical Romance', 'Hozier', 'Pitty', 'Nirvana', 'P.D.P.', 'Soilwork', 'Scar Symmetry', 'Mogwai', 'A Perfect Circle', 'Mumford & Sons', 'The Killers', 'Trivium', 'Dmitri Shostakovich', 'The Band', 'Cat Power', 'Dope', 'Deftones', 'Volbeat', 'Becoming the Archetype', 'Killswitch Engage', 'Stam1na', 'Sick Puppies', 'Black Veil Brides', 'Children of Bodom', 'Saosin', 'James Blake', 'Cradle of Filth', 'Fall Out Boy', 'Pentakill', 'Motion City Soundtrack', 'Damien Rice', 'Nightwish', 'Lamb of God', 'M.I.A.', 'Sabaton', 'Team Sleep', 'Lindemann', 'Amorphis', 'Billy Talent', 'Dr. Dre', 'Coldplay', 'Avenged Sevenfold', 'DIR EN GREY', 'Papa Roach', 'Coheed and Cambria', 'Evergreen Terrace', 'Klamydia', 'The White Stripes', 'Circa Survive', 'Turmion Kätilöt', 'Limp Bizkit', 'Bring Me the Horizon', 'Ben Howard', 'Powerwolf', '36 Crazyfists', 'Flo Rida', 'Katy Perry', 'System of a Down', 'Mustasch'])\n",
      "Persons with similarity greater than 0: ['BrunoJoS', 'DPREBOYE', 'MPistol40', 'NemoNightfall', 'SkyRif', 'Wags1382', 'Znapsen', 'cortapsyco', 'emill_67']\n",
      "Individual items: {'Theory of a Deadman', 'Magnus Uggla', 'Four Year Strong', 'Linkin Park', 'N.W.A', 'Shinedown', 'Green Day', 'Daughter', 'Godsmack', 'Breaking Benjamin', 'Freestyle', 'Hans Zimmer', 'In Flames', 'Bayside', 'Alexisonfire', 'blink-182', 'Foo Fighters', 'Atoms for Peace', 'Queen', 'Iron Maiden', 'Lady Gaga', 'Wu-Tang Clan', 'Halestorm', 'Nine Inch Nails', 'Parkway Drive', 'Stone Sour', 'The Wonder Years', 'Boston', 'Panic! at the Disco', 'Arctic Monkeys', 'Warpaint', 'Pendulum', 'Disturbed', 'The Dear Hunter', 'Krewella', 'Red Hot Chili Peppers', 'Ke$ha', '30 Seconds to Mars', 'Oh, Sleeper', 'Dark Tranquillity', 'All Time Low', 'Bullet for My Valentine', 'White Zombie', 'Die Antwoord', 'Nobuo Uematsu', 'Soulfly', 'AFI', 'Misfits', 'New Found Glory', 'Rage Against the Machine', 'Three Days Grace', 'Machine Head', 'Queens of the Stone Age', 'Tenacious D', 'Dimmu Borgir', 'Gallows', 'Metallica', 'Leevi and the Leavings', 'System of a Down', 'Arch Enemy', 'Pantera', 'Demon Hunter', 'Marina and the Diamonds', 'Gyllene Tider', 'Howard Shore', 'Cruel Hand', 'Black Label Society', 'Rob Zombie', 'Beach House', 'Madonna', 'Radiohead', 'Calvin Harris', 'Wintersun', 'Evanescence', 'Rammstein', 'Memphis May Fire', 'Sum 41', 'Tool', 'Korn', 'Amon Amarth', 'DragonForce', 'Sonata Arctica', 'Lacuna Coil', 'My Chemical Romance', 'Hozier', 'Pitty', 'Nirvana', 'P.D.P.', 'Soilwork', 'Scar Symmetry', 'Mogwai', 'A Perfect Circle', 'Electric Light Orchestra', 'Mumford & Sons', 'The Killers', 'Trivium', 'Dmitri Shostakovich', 'The Band', 'Cat Power', 'Dope', 'Deftones', 'Volbeat', 'Becoming the Archetype', 'Killswitch Engage', 'Stam1na', 'Sick Puppies', 'Black Veil Brides', 'Children of Bodom', 'Five Finger Death Punch', 'Saosin', 'James Blake', 'Muse', 'Cradle of Filth', 'Fall Out Boy', 'Seether', 'Pentakill', 'Epic Rap Battles Of History', 'Motion City Soundtrack', 'Damien Rice', 'Nightwish', 'Lamb of God', 'deadmau5', 'M.I.A.', 'Sabaton', 'Team Sleep', 'Lindemann', 'Amorphis', 'Pink Floyd', 'Billy Talent', 'Dr. Dre', 'Coldplay', 'Avenged Sevenfold', 'DIR EN GREY', 'Papa Roach', 'Coheed and Cambria', 'Evergreen Terrace', 'Klamydia', 'Ween', 'The White Stripes', 'Circa Survive', 'Turmion Kätilöt', 'Limp Bizkit', 'Bring Me the Horizon', 'Ben Howard', 'Powerwolf', '36 Crazyfists', 'Flo Rida', 'Slipknot', 'Katy Perry', 'Energy', 'Mustasch'}\n",
      "Items that sattuviitana has not rated: dict_keys(['Theory of a Deadman', 'Magnus Uggla', 'Four Year Strong', 'Linkin Park', 'N.W.A', 'Shinedown', 'Green Day', 'Daughter', 'Godsmack', 'Breaking Benjamin', 'Freestyle', 'Hans Zimmer', 'Bayside', 'Alexisonfire', 'blink-182', 'Foo Fighters', 'Atoms for Peace', 'Iron Maiden', 'Lady Gaga', 'Wu-Tang Clan', 'Halestorm', 'Nine Inch Nails', 'Parkway Drive', 'Stone Sour', 'The Wonder Years', 'Boston', 'Panic! at the Disco', 'Arctic Monkeys', 'Warpaint', 'Pendulum', 'Disturbed', 'The Dear Hunter', 'Krewella', 'Red Hot Chili Peppers', 'Ke$ha', '30 Seconds to Mars', 'Oh, Sleeper', 'Dark Tranquillity', 'All Time Low', 'Bullet for My Valentine', 'White Zombie', 'Die Antwoord', 'Nobuo Uematsu', 'Soulfly', 'AFI', 'Energy', 'Misfits', 'New Found Glory', 'Rage Against the Machine', 'Three Days Grace', 'Machine Head', 'Queens of the Stone Age', 'Tenacious D', 'Dimmu Borgir', 'Gallows', 'Arch Enemy', 'Pantera', 'Demon Hunter', 'Marina and the Diamonds', 'Gyllene Tider', 'Howard Shore', 'Cruel Hand', 'Black Label Society', 'Rob Zombie', 'Beach House', 'Madonna', 'Radiohead', 'Calvin Harris', 'Wintersun', 'Evanescence', 'Memphis May Fire', 'Sum 41', 'Tool', 'Amon Amarth', 'DragonForce', 'Lacuna Coil', 'My Chemical Romance', 'Hozier', 'Pitty', 'Nirvana', 'P.D.P.', 'Soilwork', 'Scar Symmetry', 'Mogwai', 'A Perfect Circle', 'Electric Light Orchestra', 'Mumford & Sons', 'The Killers', 'Trivium', 'Dmitri Shostakovich', 'The Band', 'Cat Power', 'Dope', 'Deftones', 'Becoming the Archetype', 'Killswitch Engage', 'Sick Puppies', 'Black Veil Brides', 'Saosin', 'James Blake', 'Muse', 'Cradle of Filth', 'Fall Out Boy', 'Seether', 'Pentakill', 'Epic Rap Battles Of History', 'Motion City Soundtrack', 'Damien Rice', 'Lamb of God', 'deadmau5', 'M.I.A.', 'Team Sleep', 'Pink Floyd', 'Billy Talent', 'Dr. Dre', 'Coldplay', 'DIR EN GREY', 'Papa Roach', 'Coheed and Cambria', 'Evergreen Terrace', 'Ween', 'The White Stripes', 'Circa Survive', 'Limp Bizkit', 'Bring Me the Horizon', 'Ben Howard', 'Powerwolf', '36 Crazyfists', 'Flo Rida', 'Katy Perry', 'Mustasch'])\n"
     ]
    },
    {
     "name": "stdout",
     "output_type": "stream",
     "text": [
      "Persons with similarity greater than 0: ['DPREBOYE', 'MPistol40', 'NemoNightfall', 'SkyRif', 'Wags1382', 'Znapsen', 'cortapsyco', 'emill_67', 'sattuviitana']\n",
      "Individual items: {'Theory of a Deadman', 'Magnus Uggla', 'Four Year Strong', 'Linkin Park', 'N.W.A', 'Shinedown', 'Green Day', 'Daughter', 'Godsmack', 'Breaking Benjamin', 'Freestyle', 'Hans Zimmer', 'In Flames', 'Bayside', 'Alexisonfire', 'blink-182', 'Foo Fighters', 'Atoms for Peace', 'Queen', 'Iron Maiden', 'Lady Gaga', 'Wu-Tang Clan', 'Halestorm', 'Nine Inch Nails', 'Parkway Drive', 'Stone Sour', 'The Wonder Years', 'Boston', 'Panic! at the Disco', 'Arctic Monkeys', 'Warpaint', 'Pendulum', 'Disturbed', 'The Dear Hunter', 'Krewella', 'Red Hot Chili Peppers', 'Ke$ha', '30 Seconds to Mars', 'Oh, Sleeper', 'Dark Tranquillity', 'All Time Low', 'Bullet for My Valentine', 'White Zombie', 'Die Antwoord', 'Nobuo Uematsu', 'Soulfly', 'AFI', 'Misfits', 'New Found Glory', 'Rage Against the Machine', 'Three Days Grace', 'Machine Head', 'Queens of the Stone Age', 'Tenacious D', 'Dimmu Borgir', 'Gallows', 'Metallica', 'Leevi and the Leavings', 'System of a Down', 'Arch Enemy', 'Pantera', 'Demon Hunter', 'Marina and the Diamonds', 'Gyllene Tider', 'Howard Shore', 'Cruel Hand', 'Black Label Society', 'Rob Zombie', 'Beach House', 'Madonna', 'Radiohead', 'Calvin Harris', 'Wintersun', 'Evanescence', 'Rammstein', 'Memphis May Fire', 'Sum 41', 'Tool', 'Korn', 'Amon Amarth', 'DragonForce', 'Sonata Arctica', 'Lacuna Coil', 'My Chemical Romance', 'Hozier', 'Pitty', 'Nirvana', 'P.D.P.', 'Soilwork', 'Scar Symmetry', 'Mogwai', 'A Perfect Circle', 'Electric Light Orchestra', 'Mumford & Sons', 'The Killers', 'Trivium', 'Dmitri Shostakovich', 'The Band', 'Cat Power', 'Dope', 'Deftones', 'Volbeat', 'Becoming the Archetype', 'Killswitch Engage', 'Stam1na', 'Sick Puppies', 'Black Veil Brides', 'Children of Bodom', 'Five Finger Death Punch', 'Saosin', 'James Blake', 'Muse', 'Cradle of Filth', 'Fall Out Boy', 'Seether', 'Pentakill', 'Epic Rap Battles Of History', 'Motion City Soundtrack', 'Damien Rice', 'Nightwish', 'Lamb of God', 'deadmau5', 'M.I.A.', 'Sabaton', 'Team Sleep', 'Lindemann', 'Amorphis', 'Pink Floyd', 'Billy Talent', 'Dr. Dre', 'Coldplay', 'Avenged Sevenfold', 'DIR EN GREY', 'Papa Roach', 'Coheed and Cambria', 'Evergreen Terrace', 'Klamydia', 'Ween', 'The White Stripes', 'Circa Survive', 'Turmion Kätilöt', 'Limp Bizkit', 'Bring Me the Horizon', 'Ben Howard', 'Powerwolf', '36 Crazyfists', 'Flo Rida', 'Slipknot', 'Katy Perry', 'Energy', 'Mustasch'}\n",
      "Items that BrunoJoS has not rated: dict_keys(['Theory of a Deadman', 'Magnus Uggla', 'Four Year Strong', 'N.W.A', 'Shinedown', 'Daughter', 'Godsmack', 'Breaking Benjamin', 'Freestyle', 'Hans Zimmer', 'In Flames', 'Bayside', 'Alexisonfire', 'blink-182', 'Atoms for Peace', 'Queen', 'Iron Maiden', 'Wu-Tang Clan', 'Halestorm', 'Nine Inch Nails', 'Parkway Drive', 'Stone Sour', 'The Wonder Years', 'Boston', 'Panic! at the Disco', 'Warpaint', 'Pendulum', 'Disturbed', 'The Dear Hunter', 'Krewella', 'Red Hot Chili Peppers', 'Ke$ha', 'Oh, Sleeper', 'Dark Tranquillity', 'All Time Low', 'Bullet for My Valentine', 'White Zombie', 'Die Antwoord', 'Nobuo Uematsu', 'Soulfly', 'AFI', 'Energy', 'Misfits', 'New Found Glory', 'Rage Against the Machine', 'Machine Head', 'Tenacious D', 'Dimmu Borgir', 'Gallows', 'Metallica', 'Leevi and the Leavings', 'Arch Enemy', 'Pantera', 'Demon Hunter', 'Marina and the Diamonds', 'Gyllene Tider', 'Howard Shore', 'Cruel Hand', 'Black Label Society', 'Rob Zombie', 'Beach House', 'Calvin Harris', 'Wintersun', 'Evanescence', 'Memphis May Fire', 'Tool', 'Korn', 'Amon Amarth', 'DragonForce', 'Sonata Arctica', 'Lacuna Coil', 'My Chemical Romance', 'Hozier', 'Nirvana', 'P.D.P.', 'Soilwork', 'Scar Symmetry', 'Mogwai', 'A Perfect Circle', 'Electric Light Orchestra', 'Mumford & Sons', 'Trivium', 'Dmitri Shostakovich', 'The Band', 'Cat Power', 'Dope', 'Deftones', 'Volbeat', 'Becoming the Archetype', 'Killswitch Engage', 'Stam1na', 'Sick Puppies', 'Black Veil Brides', 'Children of Bodom', 'Five Finger Death Punch', 'Saosin', 'James Blake', 'Cradle of Filth', 'Fall Out Boy', 'Seether', 'Pentakill', 'Epic Rap Battles Of History', 'Motion City Soundtrack', 'Damien Rice', 'Nightwish', 'Lamb of God', 'deadmau5', 'Sabaton', 'Team Sleep', 'Lindemann', 'Amorphis', 'Pink Floyd', 'Billy Talent', 'Dr. Dre', 'Avenged Sevenfold', 'DIR EN GREY', 'Coheed and Cambria', 'Evergreen Terrace', 'Klamydia', 'Ween', 'The White Stripes', 'Circa Survive', 'Turmion Kätilöt', 'Limp Bizkit', 'Bring Me the Horizon', 'Ben Howard', 'Powerwolf', '36 Crazyfists', 'Flo Rida', 'Katy Perry', 'Mustasch'])\n",
      "Persons with similarity greater than 0: ['BrunoJoS', 'MPistol40', 'NemoNightfall', 'SkyRif', 'Wags1382', 'Znapsen', 'cortapsyco', 'emill_67', 'sattuviitana']\n",
      "Individual items: {'Theory of a Deadman', 'Magnus Uggla', 'Four Year Strong', 'Linkin Park', 'N.W.A', 'Shinedown', 'Green Day', 'Daughter', 'Godsmack', 'Breaking Benjamin', 'Freestyle', 'Hans Zimmer', 'In Flames', 'Bayside', 'Alexisonfire', 'blink-182', 'Foo Fighters', 'Atoms for Peace', 'Queen', 'Iron Maiden', 'Lady Gaga', 'Wu-Tang Clan', 'Halestorm', 'Nine Inch Nails', 'Parkway Drive', 'Stone Sour', 'The Wonder Years', 'Boston', 'Panic! at the Disco', 'Arctic Monkeys', 'Warpaint', 'Pendulum', 'Disturbed', 'The Dear Hunter', 'Krewella', 'Red Hot Chili Peppers', 'Ke$ha', '30 Seconds to Mars', 'Oh, Sleeper', 'Dark Tranquillity', 'All Time Low', 'Bullet for My Valentine', 'White Zombie', 'Die Antwoord', 'Nobuo Uematsu', 'Soulfly', 'AFI', 'Misfits', 'New Found Glory', 'Rage Against the Machine', 'Three Days Grace', 'Machine Head', 'Queens of the Stone Age', 'Tenacious D', 'Dimmu Borgir', 'Gallows', 'Metallica', 'Leevi and the Leavings', 'System of a Down', 'Arch Enemy', 'Pantera', 'Demon Hunter', 'Marina and the Diamonds', 'Gyllene Tider', 'Howard Shore', 'Cruel Hand', 'Black Label Society', 'Rob Zombie', 'Beach House', 'Madonna', 'Radiohead', 'Calvin Harris', 'Wintersun', 'Evanescence', 'Rammstein', 'Memphis May Fire', 'Sum 41', 'Tool', 'Korn', 'Amon Amarth', 'DragonForce', 'Sonata Arctica', 'Lacuna Coil', 'My Chemical Romance', 'Hozier', 'Pitty', 'Nirvana', 'P.D.P.', 'Soilwork', 'Scar Symmetry', 'Mogwai', 'A Perfect Circle', 'Electric Light Orchestra', 'Mumford & Sons', 'The Killers', 'Trivium', 'Dmitri Shostakovich', 'The Band', 'Cat Power', 'Dope', 'Deftones', 'Volbeat', 'Becoming the Archetype', 'Killswitch Engage', 'Stam1na', 'Sick Puppies', 'Black Veil Brides', 'Children of Bodom', 'Five Finger Death Punch', 'Saosin', 'James Blake', 'Muse', 'Cradle of Filth', 'Fall Out Boy', 'Seether', 'Pentakill', 'Epic Rap Battles Of History', 'Motion City Soundtrack', 'Damien Rice', 'Nightwish', 'Lamb of God', 'deadmau5', 'M.I.A.', 'Sabaton', 'Team Sleep', 'Lindemann', 'Amorphis', 'Pink Floyd', 'Billy Talent', 'Dr. Dre', 'Coldplay', 'Avenged Sevenfold', 'DIR EN GREY', 'Papa Roach', 'Coheed and Cambria', 'Evergreen Terrace', 'Klamydia', 'Ween', 'The White Stripes', 'Circa Survive', 'Turmion Kätilöt', 'Limp Bizkit', 'Bring Me the Horizon', 'Ben Howard', 'Powerwolf', '36 Crazyfists', 'Flo Rida', 'Slipknot', 'Katy Perry', 'Energy', 'Mustasch'}\n",
      "Items that DPREBOYE has not rated: dict_keys(['Theory of a Deadman', 'Magnus Uggla', 'Four Year Strong', 'Linkin Park', 'Shinedown', 'Green Day', 'Godsmack', 'Breaking Benjamin', 'Freestyle', 'Hans Zimmer', 'In Flames', 'Bayside', 'Alexisonfire', 'blink-182', 'Foo Fighters', 'Queen', 'Iron Maiden', 'Lady Gaga', 'Halestorm', 'Nine Inch Nails', 'Parkway Drive', 'Stone Sour', 'The Wonder Years', 'Boston', 'Panic! at the Disco', 'Pendulum', 'Disturbed', 'The Dear Hunter', 'Krewella', 'Red Hot Chili Peppers', 'Ke$ha', '30 Seconds to Mars', 'Oh, Sleeper', 'Dark Tranquillity', 'All Time Low', 'Bullet for My Valentine', 'White Zombie', 'Nobuo Uematsu', 'Soulfly', 'AFI', 'Energy', 'Misfits', 'New Found Glory', 'Three Days Grace', 'Machine Head', 'Queens of the Stone Age', 'Tenacious D', 'Dimmu Borgir', 'Gallows', 'Metallica', 'Leevi and the Leavings', 'Arch Enemy', 'Pantera', 'Demon Hunter', 'Marina and the Diamonds', 'Gyllene Tider', 'Howard Shore', 'Cruel Hand', 'Black Label Society', 'Rob Zombie', 'Madonna', 'Radiohead', 'Calvin Harris', 'Wintersun', 'Evanescence', 'Rammstein', 'Memphis May Fire', 'Sum 41', 'Tool', 'Korn', 'Amon Amarth', 'DragonForce', 'Sonata Arctica', 'Lacuna Coil', 'My Chemical Romance', 'Pitty', 'P.D.P.', 'Soilwork', 'Scar Symmetry', 'A Perfect Circle', 'Electric Light Orchestra', 'Mumford & Sons', 'The Killers', 'Trivium', 'Dmitri Shostakovich', 'Dope', 'Deftones', 'Volbeat', 'Becoming the Archetype', 'Killswitch Engage', 'Stam1na', 'Sick Puppies', 'Black Veil Brides', 'Children of Bodom', 'Five Finger Death Punch', 'Saosin', 'Muse', 'Cradle of Filth', 'Fall Out Boy', 'Seether', 'Pentakill', 'Epic Rap Battles Of History', 'Motion City Soundtrack', 'Nightwish', 'Lamb of God', 'deadmau5', 'M.I.A.', 'Sabaton', 'Team Sleep', 'Lindemann', 'Amorphis', 'Pink Floyd', 'Billy Talent', 'Coldplay', 'Avenged Sevenfold', 'Papa Roach', 'Coheed and Cambria', 'Evergreen Terrace', 'Klamydia', 'Ween', 'Circa Survive', 'Turmion Kätilöt', 'Limp Bizkit', 'Bring Me the Horizon', 'Ben Howard', 'Powerwolf', '36 Crazyfists', 'Flo Rida', 'Katy Perry', 'System of a Down', 'Mustasch'])\n",
      "Persons with similarity greater than 0: ['BrunoJoS', 'DPREBOYE', 'NemoNightfall', 'SkyRif', 'Wags1382', 'Znapsen', 'cortapsyco', 'emill_67', 'sattuviitana']\n",
      "Individual items: {'Theory of a Deadman', 'Magnus Uggla', 'Four Year Strong', 'Linkin Park', 'N.W.A', 'Shinedown', 'Green Day', 'Daughter', 'Godsmack', 'Breaking Benjamin', 'Freestyle', 'Hans Zimmer', 'In Flames', 'Bayside', 'Alexisonfire', 'blink-182', 'Foo Fighters', 'Atoms for Peace', 'Queen', 'Iron Maiden', 'Lady Gaga', 'Wu-Tang Clan', 'Halestorm', 'Nine Inch Nails', 'Parkway Drive', 'Stone Sour', 'The Wonder Years', 'Boston', 'Panic! at the Disco', 'Arctic Monkeys', 'Warpaint', 'Pendulum', 'Disturbed', 'The Dear Hunter', 'Krewella', 'Red Hot Chili Peppers', 'Ke$ha', '30 Seconds to Mars', 'Oh, Sleeper', 'Dark Tranquillity', 'All Time Low', 'Bullet for My Valentine', 'White Zombie', 'Die Antwoord', 'Nobuo Uematsu', 'Soulfly', 'AFI', 'Misfits', 'New Found Glory', 'Rage Against the Machine', 'Three Days Grace', 'Machine Head', 'Queens of the Stone Age', 'Tenacious D', 'Dimmu Borgir', 'Gallows', 'Metallica', 'Leevi and the Leavings', 'System of a Down', 'Arch Enemy', 'Pantera', 'Demon Hunter', 'Marina and the Diamonds', 'Gyllene Tider', 'Howard Shore', 'Cruel Hand', 'Black Label Society', 'Rob Zombie', 'Beach House', 'Madonna', 'Radiohead', 'Calvin Harris', 'Wintersun', 'Evanescence', 'Rammstein', 'Memphis May Fire', 'Sum 41', 'Tool', 'Korn', 'Amon Amarth', 'DragonForce', 'Sonata Arctica', 'Lacuna Coil', 'My Chemical Romance', 'Hozier', 'Pitty', 'Nirvana', 'P.D.P.', 'Soilwork', 'Scar Symmetry', 'Mogwai', 'A Perfect Circle', 'Electric Light Orchestra', 'Mumford & Sons', 'The Killers', 'Trivium', 'Dmitri Shostakovich', 'The Band', 'Cat Power', 'Dope', 'Deftones', 'Volbeat', 'Becoming the Archetype', 'Killswitch Engage', 'Stam1na', 'Sick Puppies', 'Black Veil Brides', 'Children of Bodom', 'Five Finger Death Punch', 'Saosin', 'James Blake', 'Muse', 'Cradle of Filth', 'Fall Out Boy', 'Seether', 'Pentakill', 'Epic Rap Battles Of History', 'Motion City Soundtrack', 'Damien Rice', 'Nightwish', 'Lamb of God', 'deadmau5', 'M.I.A.', 'Sabaton', 'Team Sleep', 'Lindemann', 'Amorphis', 'Pink Floyd', 'Billy Talent', 'Dr. Dre', 'Coldplay', 'Avenged Sevenfold', 'DIR EN GREY', 'Papa Roach', 'Coheed and Cambria', 'Evergreen Terrace', 'Klamydia', 'Ween', 'The White Stripes', 'Circa Survive', 'Turmion Kätilöt', 'Limp Bizkit', 'Bring Me the Horizon', 'Ben Howard', 'Powerwolf', '36 Crazyfists', 'Flo Rida', 'Slipknot', 'Katy Perry', 'Energy', 'Mustasch'}\n",
      "Items that MPistol40 has not rated: dict_keys(['Theory of a Deadman', 'Magnus Uggla', 'Four Year Strong', 'Linkin Park', 'N.W.A', 'Shinedown', 'Green Day', 'Daughter', 'Godsmack', 'Breaking Benjamin', 'Freestyle', 'Hans Zimmer', 'Bayside', 'Alexisonfire', 'blink-182', 'Foo Fighters', 'Atoms for Peace', 'Queen', 'Iron Maiden', 'Lady Gaga', 'Wu-Tang Clan', 'Halestorm', 'Parkway Drive', 'The Wonder Years', 'Boston', 'Panic! at the Disco', 'Arctic Monkeys', 'Warpaint', 'Disturbed', 'The Dear Hunter', 'Krewella', 'Ke$ha', '30 Seconds to Mars', 'Oh, Sleeper', 'All Time Low', 'Bullet for My Valentine', 'White Zombie', 'Die Antwoord', 'Nobuo Uematsu', 'AFI', 'Energy', 'Misfits', 'New Found Glory', 'Three Days Grace', 'Machine Head', 'Queens of the Stone Age', 'Tenacious D', 'Dimmu Borgir', 'Gallows', 'Metallica', 'Leevi and the Leavings', 'Arch Enemy', 'Pantera', 'Demon Hunter', 'Marina and the Diamonds', 'Gyllene Tider', 'Howard Shore', 'Cruel Hand', 'Black Label Society', 'Rob Zombie', 'Beach House', 'Madonna', 'Radiohead', 'Calvin Harris', 'Wintersun', 'Evanescence', 'Rammstein', 'Memphis May Fire', 'Sum 41', 'Amon Amarth', 'DragonForce', 'Sonata Arctica', 'Lacuna Coil', 'My Chemical Romance', 'Hozier', 'Pitty', 'Nirvana', 'P.D.P.', 'Mogwai', 'Electric Light Orchestra', 'Mumford & Sons', 'The Killers', 'Trivium', 'The Band', 'Cat Power', 'Dope', 'Volbeat', 'Becoming the Archetype', 'Killswitch Engage', 'Stam1na', 'Sick Puppies', 'Black Veil Brides', 'Children of Bodom', 'Five Finger Death Punch', 'Saosin', 'James Blake', 'Muse', 'Cradle of Filth', 'Fall Out Boy', 'Seether', 'Pentakill', 'Epic Rap Battles Of History', 'Motion City Soundtrack', 'Damien Rice', 'Nightwish', 'Lamb of God', 'deadmau5', 'M.I.A.', 'Sabaton', 'Lindemann', 'Amorphis', 'Pink Floyd', 'Billy Talent', 'Dr. Dre', 'Coldplay', 'Avenged Sevenfold', 'DIR EN GREY', 'Papa Roach', 'Coheed and Cambria', 'Evergreen Terrace', 'Klamydia', 'Ween', 'The White Stripes', 'Circa Survive', 'Turmion Kätilöt', 'Bring Me the Horizon', 'Ben Howard', 'Powerwolf', 'Flo Rida', 'Katy Perry', 'Mustasch'])\n",
      "Persons with similarity greater than 0: ['BrunoJoS', 'DPREBOYE', 'MPistol40', 'SkyRif', 'Wags1382', 'Znapsen', 'cortapsyco', 'emill_67', 'sattuviitana']\n",
      "Individual items: {'Theory of a Deadman', 'Magnus Uggla', 'Four Year Strong', 'Linkin Park', 'N.W.A', 'Shinedown', 'Green Day', 'Daughter', 'Godsmack', 'Breaking Benjamin', 'Freestyle', 'Hans Zimmer', 'In Flames', 'Bayside', 'Alexisonfire', 'blink-182', 'Foo Fighters', 'Atoms for Peace', 'Queen', 'Iron Maiden', 'Lady Gaga', 'Wu-Tang Clan', 'Halestorm', 'Nine Inch Nails', 'Parkway Drive', 'Stone Sour', 'The Wonder Years', 'Boston', 'Panic! at the Disco', 'Arctic Monkeys', 'Warpaint', 'Pendulum', 'Disturbed', 'The Dear Hunter', 'Krewella', 'Red Hot Chili Peppers', 'Ke$ha', '30 Seconds to Mars', 'Oh, Sleeper', 'Dark Tranquillity', 'All Time Low', 'Bullet for My Valentine', 'White Zombie', 'Die Antwoord', 'Nobuo Uematsu', 'Soulfly', 'AFI', 'Misfits', 'New Found Glory', 'Rage Against the Machine', 'Three Days Grace', 'Machine Head', 'Queens of the Stone Age', 'Tenacious D', 'Dimmu Borgir', 'Gallows', 'Metallica', 'Leevi and the Leavings', 'System of a Down', 'Arch Enemy', 'Pantera', 'Demon Hunter', 'Marina and the Diamonds', 'Gyllene Tider', 'Howard Shore', 'Cruel Hand', 'Black Label Society', 'Rob Zombie', 'Beach House', 'Madonna', 'Radiohead', 'Calvin Harris', 'Wintersun', 'Evanescence', 'Rammstein', 'Memphis May Fire', 'Sum 41', 'Tool', 'Korn', 'Amon Amarth', 'DragonForce', 'Sonata Arctica', 'Lacuna Coil', 'My Chemical Romance', 'Hozier', 'Pitty', 'Nirvana', 'P.D.P.', 'Soilwork', 'Scar Symmetry', 'Mogwai', 'A Perfect Circle', 'Electric Light Orchestra', 'Mumford & Sons', 'The Killers', 'Trivium', 'Dmitri Shostakovich', 'The Band', 'Cat Power', 'Dope', 'Deftones', 'Volbeat', 'Becoming the Archetype', 'Killswitch Engage', 'Stam1na', 'Sick Puppies', 'Black Veil Brides', 'Children of Bodom', 'Five Finger Death Punch', 'Saosin', 'James Blake', 'Muse', 'Cradle of Filth', 'Fall Out Boy', 'Seether', 'Pentakill', 'Epic Rap Battles Of History', 'Motion City Soundtrack', 'Damien Rice', 'Nightwish', 'Lamb of God', 'deadmau5', 'M.I.A.', 'Sabaton', 'Team Sleep', 'Lindemann', 'Amorphis', 'Pink Floyd', 'Billy Talent', 'Dr. Dre', 'Coldplay', 'Avenged Sevenfold', 'DIR EN GREY', 'Papa Roach', 'Coheed and Cambria', 'Evergreen Terrace', 'Klamydia', 'Ween', 'The White Stripes', 'Circa Survive', 'Turmion Kätilöt', 'Limp Bizkit', 'Bring Me the Horizon', 'Ben Howard', 'Powerwolf', '36 Crazyfists', 'Flo Rida', 'Slipknot', 'Katy Perry', 'Energy', 'Mustasch'}\n",
      "Items that NemoNightfall has not rated: dict_keys(['Theory of a Deadman', 'Magnus Uggla', 'Four Year Strong', 'N.W.A', 'Shinedown', 'Green Day', 'Daughter', 'Godsmack', 'Freestyle', 'Hans Zimmer', 'In Flames', 'Bayside', 'blink-182', 'Foo Fighters', 'Atoms for Peace', 'Queen', 'Iron Maiden', 'Lady Gaga', 'Wu-Tang Clan', 'Halestorm', 'Nine Inch Nails', 'Parkway Drive', 'The Wonder Years', 'Boston', 'Panic! at the Disco', 'Arctic Monkeys', 'Warpaint', 'Pendulum', 'Disturbed', 'The Dear Hunter', 'Krewella', 'Red Hot Chili Peppers', 'Ke$ha', 'Dark Tranquillity', 'White Zombie', 'Die Antwoord', 'Nobuo Uematsu', 'Soulfly', 'AFI', 'Energy', 'Misfits', 'New Found Glory', 'Rage Against the Machine', 'Machine Head', 'Queens of the Stone Age', 'Tenacious D', 'Dimmu Borgir', 'Gallows', 'Metallica', 'Leevi and the Leavings', 'Arch Enemy', 'Pantera', 'Demon Hunter', 'Marina and the Diamonds', 'Gyllene Tider', 'Howard Shore', 'Cruel Hand', 'Black Label Society', 'Rob Zombie', 'Beach House', 'Madonna', 'Radiohead', 'Calvin Harris', 'Wintersun', 'Evanescence', 'Rammstein', 'Sum 41', 'Tool', 'Korn', 'Amon Amarth', 'DragonForce', 'Sonata Arctica', 'Lacuna Coil', 'My Chemical Romance', 'Hozier', 'Pitty', 'Nirvana', 'P.D.P.', 'Soilwork', 'Scar Symmetry', 'Mogwai', 'A Perfect Circle', 'Electric Light Orchestra', 'The Killers', 'Dmitri Shostakovich', 'The Band', 'Cat Power', 'Dope', 'Deftones', 'Volbeat', 'Becoming the Archetype', 'Killswitch Engage', 'Stam1na', 'Black Veil Brides', 'Children of Bodom', 'Saosin', 'James Blake', 'Muse', 'Cradle of Filth', 'Fall Out Boy', 'Seether', 'Pentakill', 'Epic Rap Battles Of History', 'Motion City Soundtrack', 'Damien Rice', 'Nightwish', 'Lamb of God', 'deadmau5', 'M.I.A.', 'Sabaton', 'Team Sleep', 'Lindemann', 'Amorphis', 'Pink Floyd', 'Dr. Dre', 'Coldplay', 'Avenged Sevenfold', 'DIR EN GREY', 'Coheed and Cambria', 'Evergreen Terrace', 'Klamydia', 'Ween', 'The White Stripes', 'Circa Survive', 'Turmion Kätilöt', 'Limp Bizkit', 'Powerwolf', '36 Crazyfists', 'Flo Rida', 'Katy Perry', 'Mustasch'])\n",
      "Persons with similarity greater than 0: ['BrunoJoS', 'DPREBOYE', 'MPistol40', 'NemoNightfall', 'Wags1382', 'Znapsen', 'cortapsyco', 'emill_67', 'sattuviitana']\n",
      "Individual items: {'Theory of a Deadman', 'Magnus Uggla', 'Four Year Strong', 'Linkin Park', 'N.W.A', 'Shinedown', 'Green Day', 'Daughter', 'Godsmack', 'Breaking Benjamin', 'Freestyle', 'Hans Zimmer', 'In Flames', 'Bayside', 'Alexisonfire', 'blink-182', 'Foo Fighters', 'Atoms for Peace', 'Queen', 'Iron Maiden', 'Lady Gaga', 'Wu-Tang Clan', 'Halestorm', 'Nine Inch Nails', 'Parkway Drive', 'Stone Sour', 'The Wonder Years', 'Boston', 'Panic! at the Disco', 'Arctic Monkeys', 'Warpaint', 'Pendulum', 'Disturbed', 'The Dear Hunter', 'Krewella', 'Red Hot Chili Peppers', 'Ke$ha', '30 Seconds to Mars', 'Oh, Sleeper', 'Dark Tranquillity', 'All Time Low', 'Bullet for My Valentine', 'White Zombie', 'Die Antwoord', 'Nobuo Uematsu', 'Soulfly', 'AFI', 'Misfits', 'New Found Glory', 'Rage Against the Machine', 'Three Days Grace', 'Machine Head', 'Queens of the Stone Age', 'Tenacious D', 'Dimmu Borgir', 'Gallows', 'Metallica', 'Leevi and the Leavings', 'System of a Down', 'Arch Enemy', 'Pantera', 'Demon Hunter', 'Marina and the Diamonds', 'Gyllene Tider', 'Howard Shore', 'Cruel Hand', 'Black Label Society', 'Rob Zombie', 'Beach House', 'Madonna', 'Radiohead', 'Calvin Harris', 'Wintersun', 'Evanescence', 'Rammstein', 'Memphis May Fire', 'Sum 41', 'Tool', 'Korn', 'Amon Amarth', 'DragonForce', 'Sonata Arctica', 'Lacuna Coil', 'My Chemical Romance', 'Hozier', 'Pitty', 'Nirvana', 'P.D.P.', 'Soilwork', 'Scar Symmetry', 'Mogwai', 'A Perfect Circle', 'Electric Light Orchestra', 'Mumford & Sons', 'The Killers', 'Trivium', 'Dmitri Shostakovich', 'The Band', 'Cat Power', 'Dope', 'Deftones', 'Volbeat', 'Becoming the Archetype', 'Killswitch Engage', 'Stam1na', 'Sick Puppies', 'Black Veil Brides', 'Children of Bodom', 'Five Finger Death Punch', 'Saosin', 'James Blake', 'Muse', 'Cradle of Filth', 'Fall Out Boy', 'Seether', 'Pentakill', 'Epic Rap Battles Of History', 'Motion City Soundtrack', 'Damien Rice', 'Nightwish', 'Lamb of God', 'deadmau5', 'M.I.A.', 'Sabaton', 'Team Sleep', 'Lindemann', 'Amorphis', 'Pink Floyd', 'Billy Talent', 'Dr. Dre', 'Coldplay', 'Avenged Sevenfold', 'DIR EN GREY', 'Papa Roach', 'Coheed and Cambria', 'Evergreen Terrace', 'Klamydia', 'Ween', 'The White Stripes', 'Circa Survive', 'Turmion Kätilöt', 'Limp Bizkit', 'Bring Me the Horizon', 'Ben Howard', 'Powerwolf', '36 Crazyfists', 'Flo Rida', 'Slipknot', 'Katy Perry', 'Energy', 'Mustasch'}\n",
      "Items that SkyRif has not rated: dict_keys(['Theory of a Deadman', 'Magnus Uggla', 'Four Year Strong', 'N.W.A', 'Shinedown', 'Green Day', 'Daughter', 'Godsmack', 'Breaking Benjamin', 'Freestyle', 'In Flames', 'Bayside', 'Alexisonfire', 'blink-182', 'Foo Fighters', 'Atoms for Peace', 'Queen', 'Iron Maiden', 'Lady Gaga', 'Wu-Tang Clan', 'Halestorm', 'Nine Inch Nails', 'Parkway Drive', 'The Wonder Years', 'Boston', 'Panic! at the Disco', 'Arctic Monkeys', 'Warpaint', 'Pendulum', 'Disturbed', 'The Dear Hunter', 'Krewella', 'Ke$ha', '30 Seconds to Mars', 'Oh, Sleeper', 'Dark Tranquillity', 'All Time Low', 'Bullet for My Valentine', 'White Zombie', 'Die Antwoord', 'Nobuo Uematsu', 'Soulfly', 'AFI', 'Energy', 'Misfits', 'New Found Glory', 'Three Days Grace', 'Machine Head', 'Queens of the Stone Age', 'Dimmu Borgir', 'Gallows', 'Leevi and the Leavings', 'Pantera', 'Demon Hunter', 'Marina and the Diamonds', 'Gyllene Tider', 'Cruel Hand', 'Black Label Society', 'Rob Zombie', 'Beach House', 'Madonna', 'Radiohead', 'Calvin Harris', 'Evanescence', 'Rammstein', 'Memphis May Fire', 'Sum 41', 'Tool', 'Sonata Arctica', 'Lacuna Coil', 'My Chemical Romance', 'Hozier', 'Pitty', 'Nirvana', 'P.D.P.', 'Soilwork', 'Scar Symmetry', 'Mogwai', 'A Perfect Circle', 'Electric Light Orchestra', 'Mumford & Sons', 'The Killers', 'Trivium', 'Dmitri Shostakovich', 'The Band', 'Cat Power', 'Dope', 'Deftones', 'Volbeat', 'Becoming the Archetype', 'Killswitch Engage', 'Stam1na', 'Sick Puppies', 'Black Veil Brides', 'Children of Bodom', 'Five Finger Death Punch', 'Saosin', 'James Blake', 'Muse', 'Cradle of Filth', 'Fall Out Boy', 'Seether', 'Epic Rap Battles Of History', 'Motion City Soundtrack', 'Damien Rice', 'Nightwish', 'deadmau5', 'M.I.A.', 'Team Sleep', 'Lindemann', 'Amorphis', 'Pink Floyd', 'Billy Talent', 'Dr. Dre', 'Coldplay', 'Avenged Sevenfold', 'DIR EN GREY', 'Coheed and Cambria', 'Evergreen Terrace', 'Klamydia', 'Ween', 'The White Stripes', 'Circa Survive', 'Turmion Kätilöt', 'Limp Bizkit', 'Bring Me the Horizon', 'Ben Howard', '36 Crazyfists', 'Flo Rida', 'Katy Perry', 'Mustasch'])\n"
     ]
    },
    {
     "name": "stdout",
     "output_type": "stream",
     "text": [
      "Persons with similarity greater than 0: ['BrunoJoS', 'DPREBOYE', 'MPistol40', 'NemoNightfall', 'SkyRif', 'Znapsen', 'cortapsyco', 'emill_67', 'sattuviitana']\n",
      "Individual items: {'Theory of a Deadman', 'Magnus Uggla', 'Four Year Strong', 'Linkin Park', 'N.W.A', 'Shinedown', 'Green Day', 'Daughter', 'Godsmack', 'Breaking Benjamin', 'Freestyle', 'Hans Zimmer', 'In Flames', 'Bayside', 'Alexisonfire', 'blink-182', 'Foo Fighters', 'Atoms for Peace', 'Queen', 'Iron Maiden', 'Lady Gaga', 'Wu-Tang Clan', 'Halestorm', 'Nine Inch Nails', 'Parkway Drive', 'Stone Sour', 'The Wonder Years', 'Boston', 'Panic! at the Disco', 'Arctic Monkeys', 'Warpaint', 'Pendulum', 'Disturbed', 'The Dear Hunter', 'Krewella', 'Red Hot Chili Peppers', 'Ke$ha', '30 Seconds to Mars', 'Oh, Sleeper', 'Dark Tranquillity', 'All Time Low', 'Bullet for My Valentine', 'White Zombie', 'Die Antwoord', 'Nobuo Uematsu', 'Soulfly', 'AFI', 'Misfits', 'New Found Glory', 'Rage Against the Machine', 'Three Days Grace', 'Machine Head', 'Queens of the Stone Age', 'Tenacious D', 'Dimmu Borgir', 'Gallows', 'Metallica', 'Leevi and the Leavings', 'System of a Down', 'Arch Enemy', 'Pantera', 'Demon Hunter', 'Marina and the Diamonds', 'Gyllene Tider', 'Howard Shore', 'Cruel Hand', 'Black Label Society', 'Rob Zombie', 'Beach House', 'Madonna', 'Radiohead', 'Calvin Harris', 'Wintersun', 'Evanescence', 'Rammstein', 'Memphis May Fire', 'Sum 41', 'Tool', 'Korn', 'Amon Amarth', 'DragonForce', 'Sonata Arctica', 'Lacuna Coil', 'My Chemical Romance', 'Hozier', 'Pitty', 'Nirvana', 'P.D.P.', 'Soilwork', 'Scar Symmetry', 'Mogwai', 'A Perfect Circle', 'Electric Light Orchestra', 'Mumford & Sons', 'The Killers', 'Trivium', 'Dmitri Shostakovich', 'The Band', 'Cat Power', 'Dope', 'Deftones', 'Volbeat', 'Becoming the Archetype', 'Killswitch Engage', 'Stam1na', 'Sick Puppies', 'Black Veil Brides', 'Children of Bodom', 'Five Finger Death Punch', 'Saosin', 'James Blake', 'Muse', 'Cradle of Filth', 'Fall Out Boy', 'Seether', 'Pentakill', 'Epic Rap Battles Of History', 'Motion City Soundtrack', 'Damien Rice', 'Nightwish', 'Lamb of God', 'deadmau5', 'M.I.A.', 'Sabaton', 'Team Sleep', 'Lindemann', 'Amorphis', 'Pink Floyd', 'Billy Talent', 'Dr. Dre', 'Coldplay', 'Avenged Sevenfold', 'DIR EN GREY', 'Papa Roach', 'Coheed and Cambria', 'Evergreen Terrace', 'Klamydia', 'Ween', 'The White Stripes', 'Circa Survive', 'Turmion Kätilöt', 'Limp Bizkit', 'Bring Me the Horizon', 'Ben Howard', 'Powerwolf', '36 Crazyfists', 'Flo Rida', 'Slipknot', 'Katy Perry', 'Energy', 'Mustasch'}\n",
      "Items that Wags1382 has not rated: dict_keys(['Theory of a Deadman', 'Magnus Uggla', 'Linkin Park', 'N.W.A', 'Shinedown', 'Green Day', 'Daughter', 'Godsmack', 'Breaking Benjamin', 'Freestyle', 'Hans Zimmer', 'In Flames', 'Alexisonfire', 'Foo Fighters', 'Atoms for Peace', 'Queen', 'Iron Maiden', 'Lady Gaga', 'Wu-Tang Clan', 'Halestorm', 'Nine Inch Nails', 'Stone Sour', 'Boston', 'Panic! at the Disco', 'Arctic Monkeys', 'Warpaint', 'Pendulum', 'Disturbed', 'Krewella', 'Red Hot Chili Peppers', 'Ke$ha', '30 Seconds to Mars', 'Oh, Sleeper', 'Dark Tranquillity', 'All Time Low', 'Bullet for My Valentine', 'White Zombie', 'Die Antwoord', 'Nobuo Uematsu', 'Soulfly', 'Rage Against the Machine', 'Three Days Grace', 'Machine Head', 'Queens of the Stone Age', 'Tenacious D', 'Dimmu Borgir', 'Metallica', 'Leevi and the Leavings', 'Arch Enemy', 'Pantera', 'Demon Hunter', 'Marina and the Diamonds', 'Gyllene Tider', 'Howard Shore', 'Black Label Society', 'Rob Zombie', 'Beach House', 'Madonna', 'Radiohead', 'Calvin Harris', 'Wintersun', 'Evanescence', 'Rammstein', 'Memphis May Fire', 'Sum 41', 'Tool', 'Korn', 'Amon Amarth', 'DragonForce', 'Sonata Arctica', 'Lacuna Coil', 'Hozier', 'Pitty', 'Nirvana', 'P.D.P.', 'Soilwork', 'Scar Symmetry', 'Mogwai', 'A Perfect Circle', 'Electric Light Orchestra', 'Mumford & Sons', 'The Killers', 'Trivium', 'Dmitri Shostakovich', 'The Band', 'Cat Power', 'Dope', 'Deftones', 'Volbeat', 'Becoming the Archetype', 'Killswitch Engage', 'Stam1na', 'Sick Puppies', 'Black Veil Brides', 'Children of Bodom', 'Five Finger Death Punch', 'James Blake', 'Muse', 'Cradle of Filth', 'Seether', 'Pentakill', 'Epic Rap Battles Of History', 'Damien Rice', 'Nightwish', 'Lamb of God', 'deadmau5', 'M.I.A.', 'Sabaton', 'Team Sleep', 'Lindemann', 'Amorphis', 'Pink Floyd', 'Billy Talent', 'Dr. Dre', 'Coldplay', 'Avenged Sevenfold', 'DIR EN GREY', 'Papa Roach', 'Klamydia', 'Ween', 'The White Stripes', 'Turmion Kätilöt', 'Limp Bizkit', 'Bring Me the Horizon', 'Ben Howard', 'Powerwolf', '36 Crazyfists', 'Flo Rida', 'Katy Perry', 'System of a Down', 'Mustasch'])\n",
      "Persons with similarity greater than 0: ['BrunoJoS', 'DPREBOYE', 'MPistol40', 'NemoNightfall', 'SkyRif', 'Wags1382', 'cortapsyco', 'emill_67', 'sattuviitana']\n",
      "Individual items: {'Theory of a Deadman', 'Magnus Uggla', 'Four Year Strong', 'Linkin Park', 'N.W.A', 'Shinedown', 'Green Day', 'Daughter', 'Godsmack', 'Breaking Benjamin', 'Freestyle', 'Hans Zimmer', 'In Flames', 'Bayside', 'Alexisonfire', 'blink-182', 'Foo Fighters', 'Atoms for Peace', 'Queen', 'Iron Maiden', 'Lady Gaga', 'Wu-Tang Clan', 'Halestorm', 'Nine Inch Nails', 'Parkway Drive', 'Stone Sour', 'The Wonder Years', 'Boston', 'Panic! at the Disco', 'Arctic Monkeys', 'Warpaint', 'Pendulum', 'Disturbed', 'The Dear Hunter', 'Krewella', 'Red Hot Chili Peppers', 'Ke$ha', '30 Seconds to Mars', 'Oh, Sleeper', 'Dark Tranquillity', 'All Time Low', 'Bullet for My Valentine', 'White Zombie', 'Die Antwoord', 'Nobuo Uematsu', 'Soulfly', 'AFI', 'Misfits', 'New Found Glory', 'Rage Against the Machine', 'Three Days Grace', 'Machine Head', 'Queens of the Stone Age', 'Tenacious D', 'Dimmu Borgir', 'Gallows', 'Metallica', 'Leevi and the Leavings', 'System of a Down', 'Arch Enemy', 'Pantera', 'Demon Hunter', 'Marina and the Diamonds', 'Gyllene Tider', 'Howard Shore', 'Cruel Hand', 'Black Label Society', 'Rob Zombie', 'Beach House', 'Madonna', 'Radiohead', 'Calvin Harris', 'Wintersun', 'Evanescence', 'Rammstein', 'Memphis May Fire', 'Sum 41', 'Tool', 'Korn', 'Amon Amarth', 'DragonForce', 'Sonata Arctica', 'Lacuna Coil', 'My Chemical Romance', 'Hozier', 'Pitty', 'Nirvana', 'P.D.P.', 'Soilwork', 'Scar Symmetry', 'Mogwai', 'A Perfect Circle', 'Electric Light Orchestra', 'Mumford & Sons', 'The Killers', 'Trivium', 'Dmitri Shostakovich', 'The Band', 'Cat Power', 'Dope', 'Deftones', 'Volbeat', 'Becoming the Archetype', 'Killswitch Engage', 'Stam1na', 'Sick Puppies', 'Black Veil Brides', 'Children of Bodom', 'Five Finger Death Punch', 'Saosin', 'James Blake', 'Muse', 'Cradle of Filth', 'Fall Out Boy', 'Seether', 'Pentakill', 'Epic Rap Battles Of History', 'Motion City Soundtrack', 'Damien Rice', 'Nightwish', 'Lamb of God', 'deadmau5', 'M.I.A.', 'Sabaton', 'Team Sleep', 'Lindemann', 'Amorphis', 'Pink Floyd', 'Billy Talent', 'Dr. Dre', 'Coldplay', 'Avenged Sevenfold', 'DIR EN GREY', 'Papa Roach', 'Coheed and Cambria', 'Evergreen Terrace', 'Klamydia', 'Ween', 'The White Stripes', 'Circa Survive', 'Turmion Kätilöt', 'Limp Bizkit', 'Bring Me the Horizon', 'Ben Howard', 'Powerwolf', '36 Crazyfists', 'Flo Rida', 'Slipknot', 'Katy Perry', 'Energy', 'Mustasch'}\n",
      "Items that Znapsen has not rated: dict_keys(['Theory of a Deadman', 'Four Year Strong', 'Linkin Park', 'N.W.A', 'Shinedown', 'Green Day', 'Daughter', 'Breaking Benjamin', 'Hans Zimmer', 'In Flames', 'Bayside', 'Alexisonfire', 'blink-182', 'Foo Fighters', 'Atoms for Peace', 'Queen', 'Iron Maiden', 'Lady Gaga', 'Wu-Tang Clan', 'Halestorm', 'Nine Inch Nails', 'Parkway Drive', 'Stone Sour', 'The Wonder Years', 'Boston', 'Panic! at the Disco', 'Arctic Monkeys', 'Warpaint', 'Pendulum', 'Disturbed', 'The Dear Hunter', 'Krewella', 'Red Hot Chili Peppers', 'Ke$ha', '30 Seconds to Mars', 'Oh, Sleeper', 'Dark Tranquillity', 'All Time Low', 'Bullet for My Valentine', 'Die Antwoord', 'Nobuo Uematsu', 'Soulfly', 'AFI', 'Energy', 'Misfits', 'New Found Glory', 'Rage Against the Machine', 'Three Days Grace', 'Queens of the Stone Age', 'Tenacious D', 'Dimmu Borgir', 'Gallows', 'Leevi and the Leavings', 'Arch Enemy', 'Demon Hunter', 'Marina and the Diamonds', 'Howard Shore', 'Cruel Hand', 'Rob Zombie', 'Beach House', 'Madonna', 'Radiohead', 'Calvin Harris', 'Wintersun', 'Evanescence', 'Memphis May Fire', 'Sum 41', 'Tool', 'Amon Amarth', 'DragonForce', 'Sonata Arctica', 'Lacuna Coil', 'My Chemical Romance', 'Hozier', 'Pitty', 'Nirvana', 'Soilwork', 'Scar Symmetry', 'Mogwai', 'A Perfect Circle', 'Electric Light Orchestra', 'Mumford & Sons', 'The Killers', 'Trivium', 'Dmitri Shostakovich', 'The Band', 'Cat Power', 'Deftones', 'Volbeat', 'Becoming the Archetype', 'Killswitch Engage', 'Stam1na', 'Sick Puppies', 'Black Veil Brides', 'Children of Bodom', 'Saosin', 'James Blake', 'Muse', 'Cradle of Filth', 'Fall Out Boy', 'Seether', 'Pentakill', 'Epic Rap Battles Of History', 'Motion City Soundtrack', 'Damien Rice', 'Nightwish', 'deadmau5', 'M.I.A.', 'Sabaton', 'Team Sleep', 'Lindemann', 'Amorphis', 'Billy Talent', 'Dr. Dre', 'Coldplay', 'DIR EN GREY', 'Papa Roach', 'Coheed and Cambria', 'Evergreen Terrace', 'Klamydia', 'Ween', 'The White Stripes', 'Circa Survive', 'Turmion Kätilöt', 'Bring Me the Horizon', 'Ben Howard', 'Powerwolf', '36 Crazyfists', 'Flo Rida', 'Katy Perry', 'System of a Down'])\n",
      "Persons with similarity greater than 0: ['BrunoJoS', 'DPREBOYE', 'MPistol40', 'NemoNightfall', 'SkyRif', 'Wags1382', 'Znapsen', 'emill_67', 'sattuviitana']\n",
      "Individual items: {'Theory of a Deadman', 'Magnus Uggla', 'Four Year Strong', 'Linkin Park', 'N.W.A', 'Shinedown', 'Green Day', 'Daughter', 'Godsmack', 'Breaking Benjamin', 'Freestyle', 'Hans Zimmer', 'In Flames', 'Bayside', 'Alexisonfire', 'blink-182', 'Foo Fighters', 'Atoms for Peace', 'Queen', 'Iron Maiden', 'Lady Gaga', 'Wu-Tang Clan', 'Halestorm', 'Nine Inch Nails', 'Parkway Drive', 'Stone Sour', 'The Wonder Years', 'Boston', 'Panic! at the Disco', 'Arctic Monkeys', 'Warpaint', 'Pendulum', 'Disturbed', 'The Dear Hunter', 'Krewella', 'Red Hot Chili Peppers', 'Ke$ha', '30 Seconds to Mars', 'Oh, Sleeper', 'Dark Tranquillity', 'All Time Low', 'Bullet for My Valentine', 'White Zombie', 'Die Antwoord', 'Nobuo Uematsu', 'Soulfly', 'AFI', 'Misfits', 'New Found Glory', 'Rage Against the Machine', 'Three Days Grace', 'Machine Head', 'Queens of the Stone Age', 'Tenacious D', 'Dimmu Borgir', 'Gallows', 'Metallica', 'Leevi and the Leavings', 'System of a Down', 'Arch Enemy', 'Pantera', 'Demon Hunter', 'Marina and the Diamonds', 'Gyllene Tider', 'Howard Shore', 'Cruel Hand', 'Black Label Society', 'Rob Zombie', 'Beach House', 'Madonna', 'Radiohead', 'Calvin Harris', 'Wintersun', 'Evanescence', 'Rammstein', 'Memphis May Fire', 'Sum 41', 'Tool', 'Korn', 'Amon Amarth', 'DragonForce', 'Sonata Arctica', 'Lacuna Coil', 'My Chemical Romance', 'Hozier', 'Pitty', 'Nirvana', 'P.D.P.', 'Soilwork', 'Scar Symmetry', 'Mogwai', 'A Perfect Circle', 'Electric Light Orchestra', 'Mumford & Sons', 'The Killers', 'Trivium', 'Dmitri Shostakovich', 'The Band', 'Cat Power', 'Dope', 'Deftones', 'Volbeat', 'Becoming the Archetype', 'Killswitch Engage', 'Stam1na', 'Sick Puppies', 'Black Veil Brides', 'Children of Bodom', 'Five Finger Death Punch', 'Saosin', 'James Blake', 'Muse', 'Cradle of Filth', 'Fall Out Boy', 'Seether', 'Pentakill', 'Epic Rap Battles Of History', 'Motion City Soundtrack', 'Damien Rice', 'Nightwish', 'Lamb of God', 'deadmau5', 'M.I.A.', 'Sabaton', 'Team Sleep', 'Lindemann', 'Amorphis', 'Pink Floyd', 'Billy Talent', 'Dr. Dre', 'Coldplay', 'Avenged Sevenfold', 'DIR EN GREY', 'Papa Roach', 'Coheed and Cambria', 'Evergreen Terrace', 'Klamydia', 'Ween', 'The White Stripes', 'Circa Survive', 'Turmion Kätilöt', 'Limp Bizkit', 'Bring Me the Horizon', 'Ben Howard', 'Powerwolf', '36 Crazyfists', 'Flo Rida', 'Slipknot', 'Katy Perry', 'Energy', 'Mustasch'}\n",
      "Items that cortapsyco has not rated: dict_keys(['Theory of a Deadman', 'Magnus Uggla', 'Four Year Strong', 'Linkin Park', 'N.W.A', 'Shinedown', 'Green Day', 'Daughter', 'Godsmack', 'Breaking Benjamin', 'Freestyle', 'Hans Zimmer', 'In Flames', 'Bayside', 'Alexisonfire', 'blink-182', 'Foo Fighters', 'Atoms for Peace', 'Queen', 'Iron Maiden', 'Lady Gaga', 'Wu-Tang Clan', 'Nine Inch Nails', 'Parkway Drive', 'Stone Sour', 'The Wonder Years', 'Boston', 'Arctic Monkeys', 'Warpaint', 'Disturbed', 'The Dear Hunter', 'Red Hot Chili Peppers', '30 Seconds to Mars', 'Oh, Sleeper', 'Dark Tranquillity', 'All Time Low', 'Bullet for My Valentine', 'White Zombie', 'Die Antwoord', 'Soulfly', 'AFI', 'Energy', 'Misfits', 'New Found Glory', 'Rage Against the Machine', 'Three Days Grace', 'Machine Head', 'Queens of the Stone Age', 'Tenacious D', 'Gallows', 'Metallica', 'Leevi and the Leavings', 'Arch Enemy', 'Pantera', 'Gyllene Tider', 'Howard Shore', 'Cruel Hand', 'Black Label Society', 'Rob Zombie', 'Beach House', 'Madonna', 'Radiohead', 'Wintersun', 'Evanescence', 'Rammstein', 'Memphis May Fire', 'Sum 41', 'Tool', 'Korn', 'Amon Amarth', 'DragonForce', 'Sonata Arctica', 'My Chemical Romance', 'Hozier', 'Pitty', 'Nirvana', 'P.D.P.', 'Soilwork', 'Scar Symmetry', 'Mogwai', 'A Perfect Circle', 'Electric Light Orchestra', 'Mumford & Sons', 'The Killers', 'Trivium', 'Dmitri Shostakovich', 'The Band', 'Cat Power', 'Dope', 'Deftones', 'Volbeat', 'Stam1na', 'Sick Puppies', 'Children of Bodom', 'Five Finger Death Punch', 'Saosin', 'James Blake', 'Muse', 'Fall Out Boy', 'Seether', 'Pentakill', 'Epic Rap Battles Of History', 'Motion City Soundtrack', 'Damien Rice', 'Nightwish', 'Lamb of God', 'deadmau5', 'M.I.A.', 'Sabaton', 'Team Sleep', 'Lindemann', 'Amorphis', 'Pink Floyd', 'Billy Talent', 'Dr. Dre', 'Coldplay', 'Avenged Sevenfold', 'DIR EN GREY', 'Papa Roach', 'Evergreen Terrace', 'Klamydia', 'Ween', 'The White Stripes', 'Circa Survive', 'Turmion Kätilöt', 'Limp Bizkit', 'Bring Me the Horizon', 'Ben Howard', 'Powerwolf', '36 Crazyfists', 'Mustasch'])\n",
      "Persons with similarity greater than 0: ['BrunoJoS', 'DPREBOYE', 'MPistol40', 'NemoNightfall', 'SkyRif', 'Wags1382', 'Znapsen', 'cortapsyco', 'sattuviitana']\n",
      "Individual items: {'Theory of a Deadman', 'Magnus Uggla', 'Four Year Strong', 'Linkin Park', 'N.W.A', 'Shinedown', 'Green Day', 'Daughter', 'Godsmack', 'Breaking Benjamin', 'Freestyle', 'Hans Zimmer', 'In Flames', 'Bayside', 'Alexisonfire', 'blink-182', 'Foo Fighters', 'Atoms for Peace', 'Queen', 'Iron Maiden', 'Lady Gaga', 'Wu-Tang Clan', 'Halestorm', 'Nine Inch Nails', 'Parkway Drive', 'Stone Sour', 'The Wonder Years', 'Boston', 'Panic! at the Disco', 'Arctic Monkeys', 'Warpaint', 'Pendulum', 'Disturbed', 'The Dear Hunter', 'Krewella', 'Red Hot Chili Peppers', 'Ke$ha', '30 Seconds to Mars', 'Oh, Sleeper', 'Dark Tranquillity', 'All Time Low', 'Bullet for My Valentine', 'White Zombie', 'Die Antwoord', 'Nobuo Uematsu', 'Soulfly', 'AFI', 'Misfits', 'New Found Glory', 'Rage Against the Machine', 'Three Days Grace', 'Machine Head', 'Queens of the Stone Age', 'Tenacious D', 'Dimmu Borgir', 'Gallows', 'Metallica', 'Leevi and the Leavings', 'System of a Down', 'Arch Enemy', 'Pantera', 'Demon Hunter', 'Marina and the Diamonds', 'Gyllene Tider', 'Howard Shore', 'Cruel Hand', 'Black Label Society', 'Rob Zombie', 'Beach House', 'Madonna', 'Radiohead', 'Calvin Harris', 'Wintersun', 'Evanescence', 'Rammstein', 'Memphis May Fire', 'Sum 41', 'Tool', 'Korn', 'Amon Amarth', 'DragonForce', 'Sonata Arctica', 'Lacuna Coil', 'My Chemical Romance', 'Hozier', 'Pitty', 'Nirvana', 'P.D.P.', 'Soilwork', 'Scar Symmetry', 'Mogwai', 'A Perfect Circle', 'Electric Light Orchestra', 'Mumford & Sons', 'The Killers', 'Trivium', 'Dmitri Shostakovich', 'The Band', 'Cat Power', 'Dope', 'Deftones', 'Volbeat', 'Becoming the Archetype', 'Killswitch Engage', 'Stam1na', 'Sick Puppies', 'Black Veil Brides', 'Children of Bodom', 'Five Finger Death Punch', 'Saosin', 'James Blake', 'Muse', 'Cradle of Filth', 'Fall Out Boy', 'Seether', 'Pentakill', 'Epic Rap Battles Of History', 'Motion City Soundtrack', 'Damien Rice', 'Nightwish', 'Lamb of God', 'deadmau5', 'M.I.A.', 'Sabaton', 'Team Sleep', 'Lindemann', 'Amorphis', 'Pink Floyd', 'Billy Talent', 'Dr. Dre', 'Coldplay', 'Avenged Sevenfold', 'DIR EN GREY', 'Papa Roach', 'Coheed and Cambria', 'Evergreen Terrace', 'Klamydia', 'Ween', 'The White Stripes', 'Circa Survive', 'Turmion Kätilöt', 'Limp Bizkit', 'Bring Me the Horizon', 'Ben Howard', 'Powerwolf', '36 Crazyfists', 'Flo Rida', 'Slipknot', 'Katy Perry', 'Energy', 'Mustasch'}\n",
      "Items that emill_67 has not rated: dict_keys(['Magnus Uggla', 'Four Year Strong', 'Linkin Park', 'N.W.A', 'Green Day', 'Daughter', 'Godsmack', 'Breaking Benjamin', 'Freestyle', 'Hans Zimmer', 'In Flames', 'Bayside', 'Alexisonfire', 'blink-182', 'Atoms for Peace', 'Queen', 'Lady Gaga', 'Wu-Tang Clan', 'Halestorm', 'Nine Inch Nails', 'Parkway Drive', 'Stone Sour', 'The Wonder Years', 'Panic! at the Disco', 'Arctic Monkeys', 'Warpaint', 'Pendulum', 'The Dear Hunter', 'Krewella', 'Ke$ha', '30 Seconds to Mars', 'Oh, Sleeper', 'Dark Tranquillity', 'All Time Low', 'Bullet for My Valentine', 'White Zombie', 'Die Antwoord', 'Nobuo Uematsu', 'Soulfly', 'AFI', 'Energy', 'Misfits', 'New Found Glory', 'Three Days Grace', 'Machine Head', 'Queens of the Stone Age', 'Tenacious D', 'Dimmu Borgir', 'Gallows', 'Metallica', 'Leevi and the Leavings', 'Arch Enemy', 'Pantera', 'Demon Hunter', 'Marina and the Diamonds', 'Gyllene Tider', 'Howard Shore', 'Cruel Hand', 'Black Label Society', 'Beach House', 'Madonna', 'Radiohead', 'Calvin Harris', 'Wintersun', 'Rammstein', 'Memphis May Fire', 'Sum 41', 'Tool', 'Amon Amarth', 'DragonForce', 'Sonata Arctica', 'Lacuna Coil', 'My Chemical Romance', 'Hozier', 'Pitty', 'Nirvana', 'P.D.P.', 'Soilwork', 'Scar Symmetry', 'Mogwai', 'A Perfect Circle', 'Mumford & Sons', 'The Killers', 'Trivium', 'Dmitri Shostakovich', 'The Band', 'Cat Power', 'Dope', 'Deftones', 'Volbeat', 'Becoming the Archetype', 'Killswitch Engage', 'Stam1na', 'Sick Puppies', 'Black Veil Brides', 'Children of Bodom', 'Saosin', 'James Blake', 'Cradle of Filth', 'Fall Out Boy', 'Pentakill', 'Motion City Soundtrack', 'Damien Rice', 'Nightwish', 'Lamb of God', 'M.I.A.', 'Sabaton', 'Team Sleep', 'Lindemann', 'Amorphis', 'Billy Talent', 'Dr. Dre', 'Coldplay', 'Avenged Sevenfold', 'DIR EN GREY', 'Papa Roach', 'Coheed and Cambria', 'Evergreen Terrace', 'Klamydia', 'The White Stripes', 'Circa Survive', 'Turmion Kätilöt', 'Limp Bizkit', 'Bring Me the Horizon', 'Ben Howard', 'Powerwolf', '36 Crazyfists', 'Flo Rida', 'Katy Perry', 'System of a Down', 'Mustasch'])\n",
      "Persons with similarity greater than 0: ['BrunoJoS', 'DPREBOYE', 'MPistol40', 'NemoNightfall', 'SkyRif', 'Wags1382', 'Znapsen', 'cortapsyco', 'emill_67']\n",
      "Individual items: {'Theory of a Deadman', 'Magnus Uggla', 'Four Year Strong', 'Linkin Park', 'N.W.A', 'Shinedown', 'Green Day', 'Daughter', 'Godsmack', 'Breaking Benjamin', 'Freestyle', 'Hans Zimmer', 'In Flames', 'Bayside', 'Alexisonfire', 'blink-182', 'Foo Fighters', 'Atoms for Peace', 'Queen', 'Iron Maiden', 'Lady Gaga', 'Wu-Tang Clan', 'Halestorm', 'Nine Inch Nails', 'Parkway Drive', 'Stone Sour', 'The Wonder Years', 'Boston', 'Panic! at the Disco', 'Arctic Monkeys', 'Warpaint', 'Pendulum', 'Disturbed', 'The Dear Hunter', 'Krewella', 'Red Hot Chili Peppers', 'Ke$ha', '30 Seconds to Mars', 'Oh, Sleeper', 'Dark Tranquillity', 'All Time Low', 'Bullet for My Valentine', 'White Zombie', 'Die Antwoord', 'Nobuo Uematsu', 'Soulfly', 'AFI', 'Misfits', 'New Found Glory', 'Rage Against the Machine', 'Three Days Grace', 'Machine Head', 'Queens of the Stone Age', 'Tenacious D', 'Dimmu Borgir', 'Gallows', 'Metallica', 'Leevi and the Leavings', 'System of a Down', 'Arch Enemy', 'Pantera', 'Demon Hunter', 'Marina and the Diamonds', 'Gyllene Tider', 'Howard Shore', 'Cruel Hand', 'Black Label Society', 'Rob Zombie', 'Beach House', 'Madonna', 'Radiohead', 'Calvin Harris', 'Wintersun', 'Evanescence', 'Rammstein', 'Memphis May Fire', 'Sum 41', 'Tool', 'Korn', 'Amon Amarth', 'DragonForce', 'Sonata Arctica', 'Lacuna Coil', 'My Chemical Romance', 'Hozier', 'Pitty', 'Nirvana', 'P.D.P.', 'Soilwork', 'Scar Symmetry', 'Mogwai', 'A Perfect Circle', 'Electric Light Orchestra', 'Mumford & Sons', 'The Killers', 'Trivium', 'Dmitri Shostakovich', 'The Band', 'Cat Power', 'Dope', 'Deftones', 'Volbeat', 'Becoming the Archetype', 'Killswitch Engage', 'Stam1na', 'Sick Puppies', 'Black Veil Brides', 'Children of Bodom', 'Five Finger Death Punch', 'Saosin', 'James Blake', 'Muse', 'Cradle of Filth', 'Fall Out Boy', 'Seether', 'Pentakill', 'Epic Rap Battles Of History', 'Motion City Soundtrack', 'Damien Rice', 'Nightwish', 'Lamb of God', 'deadmau5', 'M.I.A.', 'Sabaton', 'Team Sleep', 'Lindemann', 'Amorphis', 'Pink Floyd', 'Billy Talent', 'Dr. Dre', 'Coldplay', 'Avenged Sevenfold', 'DIR EN GREY', 'Papa Roach', 'Coheed and Cambria', 'Evergreen Terrace', 'Klamydia', 'Ween', 'The White Stripes', 'Circa Survive', 'Turmion Kätilöt', 'Limp Bizkit', 'Bring Me the Horizon', 'Ben Howard', 'Powerwolf', '36 Crazyfists', 'Flo Rida', 'Slipknot', 'Katy Perry', 'Energy', 'Mustasch'}\n",
      "Items that sattuviitana has not rated: dict_keys(['Theory of a Deadman', 'Magnus Uggla', 'Four Year Strong', 'Linkin Park', 'N.W.A', 'Shinedown', 'Green Day', 'Daughter', 'Godsmack', 'Breaking Benjamin', 'Freestyle', 'Hans Zimmer', 'Bayside', 'Alexisonfire', 'blink-182', 'Foo Fighters', 'Atoms for Peace', 'Iron Maiden', 'Lady Gaga', 'Wu-Tang Clan', 'Halestorm', 'Nine Inch Nails', 'Parkway Drive', 'Stone Sour', 'The Wonder Years', 'Boston', 'Panic! at the Disco', 'Arctic Monkeys', 'Warpaint', 'Pendulum', 'Disturbed', 'The Dear Hunter', 'Krewella', 'Red Hot Chili Peppers', 'Ke$ha', '30 Seconds to Mars', 'Oh, Sleeper', 'Dark Tranquillity', 'All Time Low', 'Bullet for My Valentine', 'White Zombie', 'Die Antwoord', 'Nobuo Uematsu', 'Soulfly', 'AFI', 'Energy', 'Misfits', 'New Found Glory', 'Rage Against the Machine', 'Three Days Grace', 'Machine Head', 'Queens of the Stone Age', 'Tenacious D', 'Dimmu Borgir', 'Gallows', 'Arch Enemy', 'Pantera', 'Demon Hunter', 'Marina and the Diamonds', 'Gyllene Tider', 'Howard Shore', 'Cruel Hand', 'Black Label Society', 'Rob Zombie', 'Beach House', 'Madonna', 'Radiohead', 'Calvin Harris', 'Wintersun', 'Evanescence', 'Memphis May Fire', 'Sum 41', 'Tool', 'Amon Amarth', 'DragonForce', 'Lacuna Coil', 'My Chemical Romance', 'Hozier', 'Pitty', 'Nirvana', 'P.D.P.', 'Soilwork', 'Scar Symmetry', 'Mogwai', 'A Perfect Circle', 'Electric Light Orchestra', 'Mumford & Sons', 'The Killers', 'Trivium', 'Dmitri Shostakovich', 'The Band', 'Cat Power', 'Dope', 'Deftones', 'Becoming the Archetype', 'Killswitch Engage', 'Sick Puppies', 'Black Veil Brides', 'Saosin', 'James Blake', 'Muse', 'Cradle of Filth', 'Fall Out Boy', 'Seether', 'Pentakill', 'Epic Rap Battles Of History', 'Motion City Soundtrack', 'Damien Rice', 'Lamb of God', 'deadmau5', 'M.I.A.', 'Team Sleep', 'Pink Floyd', 'Billy Talent', 'Dr. Dre', 'Coldplay', 'DIR EN GREY', 'Papa Roach', 'Coheed and Cambria', 'Evergreen Terrace', 'Ween', 'The White Stripes', 'Circa Survive', 'Limp Bizkit', 'Bring Me the Horizon', 'Ben Howard', 'Powerwolf', '36 Crazyfists', 'Flo Rida', 'Katy Perry', 'Mustasch'])\n"
     ]
    },
    {
     "name": "stdout",
     "output_type": "stream",
     "text": [
      "Persons with similarity greater than 0: ['DPREBOYE', 'MPistol40', 'NemoNightfall', 'SkyRif', 'Wags1382', 'Znapsen', 'cortapsyco', 'emill_67', 'sattuviitana']\n",
      "Individual items: {'Theory of a Deadman', 'Magnus Uggla', 'Four Year Strong', 'Linkin Park', 'N.W.A', 'Shinedown', 'Green Day', 'Daughter', 'Godsmack', 'Breaking Benjamin', 'Freestyle', 'Hans Zimmer', 'In Flames', 'Bayside', 'Alexisonfire', 'blink-182', 'Foo Fighters', 'Atoms for Peace', 'Queen', 'Iron Maiden', 'Lady Gaga', 'Wu-Tang Clan', 'Halestorm', 'Nine Inch Nails', 'Parkway Drive', 'Stone Sour', 'The Wonder Years', 'Boston', 'Panic! at the Disco', 'Arctic Monkeys', 'Warpaint', 'Pendulum', 'Disturbed', 'The Dear Hunter', 'Krewella', 'Red Hot Chili Peppers', 'Ke$ha', '30 Seconds to Mars', 'Oh, Sleeper', 'Dark Tranquillity', 'All Time Low', 'Bullet for My Valentine', 'White Zombie', 'Die Antwoord', 'Nobuo Uematsu', 'Soulfly', 'AFI', 'Misfits', 'New Found Glory', 'Rage Against the Machine', 'Three Days Grace', 'Machine Head', 'Queens of the Stone Age', 'Tenacious D', 'Dimmu Borgir', 'Gallows', 'Metallica', 'Leevi and the Leavings', 'System of a Down', 'Arch Enemy', 'Pantera', 'Demon Hunter', 'Marina and the Diamonds', 'Gyllene Tider', 'Howard Shore', 'Cruel Hand', 'Black Label Society', 'Rob Zombie', 'Beach House', 'Madonna', 'Radiohead', 'Calvin Harris', 'Wintersun', 'Evanescence', 'Rammstein', 'Memphis May Fire', 'Sum 41', 'Tool', 'Korn', 'Amon Amarth', 'DragonForce', 'Sonata Arctica', 'Lacuna Coil', 'My Chemical Romance', 'Hozier', 'Pitty', 'Nirvana', 'P.D.P.', 'Soilwork', 'Scar Symmetry', 'Mogwai', 'A Perfect Circle', 'Electric Light Orchestra', 'Mumford & Sons', 'The Killers', 'Trivium', 'Dmitri Shostakovich', 'The Band', 'Cat Power', 'Dope', 'Deftones', 'Volbeat', 'Becoming the Archetype', 'Killswitch Engage', 'Stam1na', 'Sick Puppies', 'Black Veil Brides', 'Children of Bodom', 'Five Finger Death Punch', 'Saosin', 'James Blake', 'Muse', 'Cradle of Filth', 'Fall Out Boy', 'Seether', 'Pentakill', 'Epic Rap Battles Of History', 'Motion City Soundtrack', 'Damien Rice', 'Nightwish', 'Lamb of God', 'deadmau5', 'M.I.A.', 'Sabaton', 'Team Sleep', 'Lindemann', 'Amorphis', 'Pink Floyd', 'Billy Talent', 'Dr. Dre', 'Coldplay', 'Avenged Sevenfold', 'DIR EN GREY', 'Papa Roach', 'Coheed and Cambria', 'Evergreen Terrace', 'Klamydia', 'Ween', 'The White Stripes', 'Circa Survive', 'Turmion Kätilöt', 'Limp Bizkit', 'Bring Me the Horizon', 'Ben Howard', 'Powerwolf', '36 Crazyfists', 'Flo Rida', 'Slipknot', 'Katy Perry', 'Energy', 'Mustasch'}\n",
      "Items that BrunoJoS has not rated: dict_keys(['Theory of a Deadman', 'Magnus Uggla', 'Four Year Strong', 'N.W.A', 'Shinedown', 'Daughter', 'Godsmack', 'Breaking Benjamin', 'Freestyle', 'Hans Zimmer', 'In Flames', 'Bayside', 'Alexisonfire', 'blink-182', 'Atoms for Peace', 'Queen', 'Iron Maiden', 'Wu-Tang Clan', 'Halestorm', 'Nine Inch Nails', 'Parkway Drive', 'Stone Sour', 'The Wonder Years', 'Boston', 'Panic! at the Disco', 'Warpaint', 'Pendulum', 'Disturbed', 'The Dear Hunter', 'Krewella', 'Red Hot Chili Peppers', 'Ke$ha', 'Oh, Sleeper', 'Dark Tranquillity', 'All Time Low', 'Bullet for My Valentine', 'White Zombie', 'Die Antwoord', 'Nobuo Uematsu', 'Soulfly', 'AFI', 'Energy', 'Misfits', 'New Found Glory', 'Rage Against the Machine', 'Machine Head', 'Tenacious D', 'Dimmu Borgir', 'Gallows', 'Metallica', 'Leevi and the Leavings', 'Arch Enemy', 'Pantera', 'Demon Hunter', 'Marina and the Diamonds', 'Gyllene Tider', 'Howard Shore', 'Cruel Hand', 'Black Label Society', 'Rob Zombie', 'Beach House', 'Calvin Harris', 'Wintersun', 'Evanescence', 'Memphis May Fire', 'Tool', 'Korn', 'Amon Amarth', 'DragonForce', 'Sonata Arctica', 'Lacuna Coil', 'My Chemical Romance', 'Hozier', 'Nirvana', 'P.D.P.', 'Soilwork', 'Scar Symmetry', 'Mogwai', 'A Perfect Circle', 'Electric Light Orchestra', 'Mumford & Sons', 'Trivium', 'Dmitri Shostakovich', 'The Band', 'Cat Power', 'Dope', 'Deftones', 'Volbeat', 'Becoming the Archetype', 'Killswitch Engage', 'Stam1na', 'Sick Puppies', 'Black Veil Brides', 'Children of Bodom', 'Five Finger Death Punch', 'Saosin', 'James Blake', 'Cradle of Filth', 'Fall Out Boy', 'Seether', 'Pentakill', 'Epic Rap Battles Of History', 'Motion City Soundtrack', 'Damien Rice', 'Nightwish', 'Lamb of God', 'deadmau5', 'Sabaton', 'Team Sleep', 'Lindemann', 'Amorphis', 'Pink Floyd', 'Billy Talent', 'Dr. Dre', 'Avenged Sevenfold', 'DIR EN GREY', 'Coheed and Cambria', 'Evergreen Terrace', 'Klamydia', 'Ween', 'The White Stripes', 'Circa Survive', 'Turmion Kätilöt', 'Limp Bizkit', 'Bring Me the Horizon', 'Ben Howard', 'Powerwolf', '36 Crazyfists', 'Flo Rida', 'Katy Perry', 'Mustasch'])\n",
      "Persons with similarity greater than 0: ['BrunoJoS', 'MPistol40', 'NemoNightfall', 'SkyRif', 'Wags1382', 'Znapsen', 'cortapsyco', 'emill_67', 'sattuviitana']\n",
      "Individual items: {'Theory of a Deadman', 'Magnus Uggla', 'Four Year Strong', 'Linkin Park', 'N.W.A', 'Shinedown', 'Green Day', 'Daughter', 'Godsmack', 'Breaking Benjamin', 'Freestyle', 'Hans Zimmer', 'In Flames', 'Bayside', 'Alexisonfire', 'blink-182', 'Foo Fighters', 'Atoms for Peace', 'Queen', 'Iron Maiden', 'Lady Gaga', 'Wu-Tang Clan', 'Halestorm', 'Nine Inch Nails', 'Parkway Drive', 'Stone Sour', 'The Wonder Years', 'Boston', 'Panic! at the Disco', 'Arctic Monkeys', 'Warpaint', 'Pendulum', 'Disturbed', 'The Dear Hunter', 'Krewella', 'Red Hot Chili Peppers', 'Ke$ha', '30 Seconds to Mars', 'Oh, Sleeper', 'Dark Tranquillity', 'All Time Low', 'Bullet for My Valentine', 'White Zombie', 'Die Antwoord', 'Nobuo Uematsu', 'Soulfly', 'AFI', 'Misfits', 'New Found Glory', 'Rage Against the Machine', 'Three Days Grace', 'Machine Head', 'Queens of the Stone Age', 'Tenacious D', 'Dimmu Borgir', 'Gallows', 'Metallica', 'Leevi and the Leavings', 'System of a Down', 'Arch Enemy', 'Pantera', 'Demon Hunter', 'Marina and the Diamonds', 'Gyllene Tider', 'Howard Shore', 'Cruel Hand', 'Black Label Society', 'Rob Zombie', 'Beach House', 'Madonna', 'Radiohead', 'Calvin Harris', 'Wintersun', 'Evanescence', 'Rammstein', 'Memphis May Fire', 'Sum 41', 'Tool', 'Korn', 'Amon Amarth', 'DragonForce', 'Sonata Arctica', 'Lacuna Coil', 'My Chemical Romance', 'Hozier', 'Pitty', 'Nirvana', 'P.D.P.', 'Soilwork', 'Scar Symmetry', 'Mogwai', 'A Perfect Circle', 'Electric Light Orchestra', 'Mumford & Sons', 'The Killers', 'Trivium', 'Dmitri Shostakovich', 'The Band', 'Cat Power', 'Dope', 'Deftones', 'Volbeat', 'Becoming the Archetype', 'Killswitch Engage', 'Stam1na', 'Sick Puppies', 'Black Veil Brides', 'Children of Bodom', 'Five Finger Death Punch', 'Saosin', 'James Blake', 'Muse', 'Cradle of Filth', 'Fall Out Boy', 'Seether', 'Pentakill', 'Epic Rap Battles Of History', 'Motion City Soundtrack', 'Damien Rice', 'Nightwish', 'Lamb of God', 'deadmau5', 'M.I.A.', 'Sabaton', 'Team Sleep', 'Lindemann', 'Amorphis', 'Pink Floyd', 'Billy Talent', 'Dr. Dre', 'Coldplay', 'Avenged Sevenfold', 'DIR EN GREY', 'Papa Roach', 'Coheed and Cambria', 'Evergreen Terrace', 'Klamydia', 'Ween', 'The White Stripes', 'Circa Survive', 'Turmion Kätilöt', 'Limp Bizkit', 'Bring Me the Horizon', 'Ben Howard', 'Powerwolf', '36 Crazyfists', 'Flo Rida', 'Slipknot', 'Katy Perry', 'Energy', 'Mustasch'}\n",
      "Items that DPREBOYE has not rated: dict_keys(['Theory of a Deadman', 'Magnus Uggla', 'Four Year Strong', 'Linkin Park', 'Shinedown', 'Green Day', 'Godsmack', 'Breaking Benjamin', 'Freestyle', 'Hans Zimmer', 'In Flames', 'Bayside', 'Alexisonfire', 'blink-182', 'Foo Fighters', 'Queen', 'Iron Maiden', 'Lady Gaga', 'Halestorm', 'Nine Inch Nails', 'Parkway Drive', 'Stone Sour', 'The Wonder Years', 'Boston', 'Panic! at the Disco', 'Pendulum', 'Disturbed', 'The Dear Hunter', 'Krewella', 'Red Hot Chili Peppers', 'Ke$ha', '30 Seconds to Mars', 'Oh, Sleeper', 'Dark Tranquillity', 'All Time Low', 'Bullet for My Valentine', 'White Zombie', 'Nobuo Uematsu', 'Soulfly', 'AFI', 'Energy', 'Misfits', 'New Found Glory', 'Three Days Grace', 'Machine Head', 'Queens of the Stone Age', 'Tenacious D', 'Dimmu Borgir', 'Gallows', 'Metallica', 'Leevi and the Leavings', 'Arch Enemy', 'Pantera', 'Demon Hunter', 'Marina and the Diamonds', 'Gyllene Tider', 'Howard Shore', 'Cruel Hand', 'Black Label Society', 'Rob Zombie', 'Madonna', 'Radiohead', 'Calvin Harris', 'Wintersun', 'Evanescence', 'Rammstein', 'Memphis May Fire', 'Sum 41', 'Tool', 'Korn', 'Amon Amarth', 'DragonForce', 'Sonata Arctica', 'Lacuna Coil', 'My Chemical Romance', 'Pitty', 'P.D.P.', 'Soilwork', 'Scar Symmetry', 'A Perfect Circle', 'Electric Light Orchestra', 'Mumford & Sons', 'The Killers', 'Trivium', 'Dmitri Shostakovich', 'Dope', 'Deftones', 'Volbeat', 'Becoming the Archetype', 'Killswitch Engage', 'Stam1na', 'Sick Puppies', 'Black Veil Brides', 'Children of Bodom', 'Five Finger Death Punch', 'Saosin', 'Muse', 'Cradle of Filth', 'Fall Out Boy', 'Seether', 'Pentakill', 'Epic Rap Battles Of History', 'Motion City Soundtrack', 'Nightwish', 'Lamb of God', 'deadmau5', 'M.I.A.', 'Sabaton', 'Team Sleep', 'Lindemann', 'Amorphis', 'Pink Floyd', 'Billy Talent', 'Coldplay', 'Avenged Sevenfold', 'Papa Roach', 'Coheed and Cambria', 'Evergreen Terrace', 'Klamydia', 'Ween', 'Circa Survive', 'Turmion Kätilöt', 'Limp Bizkit', 'Bring Me the Horizon', 'Ben Howard', 'Powerwolf', '36 Crazyfists', 'Flo Rida', 'Katy Perry', 'System of a Down', 'Mustasch'])\n"
     ]
    },
    {
     "name": "stdout",
     "output_type": "stream",
     "text": [
      "Persons with similarity greater than 0: ['BrunoJoS', 'DPREBOYE', 'NemoNightfall', 'SkyRif', 'Wags1382', 'Znapsen', 'cortapsyco', 'emill_67', 'sattuviitana']\n",
      "Individual items: {'Theory of a Deadman', 'Magnus Uggla', 'Four Year Strong', 'Linkin Park', 'N.W.A', 'Shinedown', 'Green Day', 'Daughter', 'Godsmack', 'Breaking Benjamin', 'Freestyle', 'Hans Zimmer', 'In Flames', 'Bayside', 'Alexisonfire', 'blink-182', 'Foo Fighters', 'Atoms for Peace', 'Queen', 'Iron Maiden', 'Lady Gaga', 'Wu-Tang Clan', 'Halestorm', 'Nine Inch Nails', 'Parkway Drive', 'Stone Sour', 'The Wonder Years', 'Boston', 'Panic! at the Disco', 'Arctic Monkeys', 'Warpaint', 'Pendulum', 'Disturbed', 'The Dear Hunter', 'Krewella', 'Red Hot Chili Peppers', 'Ke$ha', '30 Seconds to Mars', 'Oh, Sleeper', 'Dark Tranquillity', 'All Time Low', 'Bullet for My Valentine', 'White Zombie', 'Die Antwoord', 'Nobuo Uematsu', 'Soulfly', 'AFI', 'Misfits', 'New Found Glory', 'Rage Against the Machine', 'Three Days Grace', 'Machine Head', 'Queens of the Stone Age', 'Tenacious D', 'Dimmu Borgir', 'Gallows', 'Metallica', 'Leevi and the Leavings', 'System of a Down', 'Arch Enemy', 'Pantera', 'Demon Hunter', 'Marina and the Diamonds', 'Gyllene Tider', 'Howard Shore', 'Cruel Hand', 'Black Label Society', 'Rob Zombie', 'Beach House', 'Madonna', 'Radiohead', 'Calvin Harris', 'Wintersun', 'Evanescence', 'Rammstein', 'Memphis May Fire', 'Sum 41', 'Tool', 'Korn', 'Amon Amarth', 'DragonForce', 'Sonata Arctica', 'Lacuna Coil', 'My Chemical Romance', 'Hozier', 'Pitty', 'Nirvana', 'P.D.P.', 'Soilwork', 'Scar Symmetry', 'Mogwai', 'A Perfect Circle', 'Electric Light Orchestra', 'Mumford & Sons', 'The Killers', 'Trivium', 'Dmitri Shostakovich', 'The Band', 'Cat Power', 'Dope', 'Deftones', 'Volbeat', 'Becoming the Archetype', 'Killswitch Engage', 'Stam1na', 'Sick Puppies', 'Black Veil Brides', 'Children of Bodom', 'Five Finger Death Punch', 'Saosin', 'James Blake', 'Muse', 'Cradle of Filth', 'Fall Out Boy', 'Seether', 'Pentakill', 'Epic Rap Battles Of History', 'Motion City Soundtrack', 'Damien Rice', 'Nightwish', 'Lamb of God', 'deadmau5', 'M.I.A.', 'Sabaton', 'Team Sleep', 'Lindemann', 'Amorphis', 'Pink Floyd', 'Billy Talent', 'Dr. Dre', 'Coldplay', 'Avenged Sevenfold', 'DIR EN GREY', 'Papa Roach', 'Coheed and Cambria', 'Evergreen Terrace', 'Klamydia', 'Ween', 'The White Stripes', 'Circa Survive', 'Turmion Kätilöt', 'Limp Bizkit', 'Bring Me the Horizon', 'Ben Howard', 'Powerwolf', '36 Crazyfists', 'Flo Rida', 'Slipknot', 'Katy Perry', 'Energy', 'Mustasch'}\n",
      "Items that MPistol40 has not rated: dict_keys(['Theory of a Deadman', 'Magnus Uggla', 'Four Year Strong', 'Linkin Park', 'N.W.A', 'Shinedown', 'Green Day', 'Daughter', 'Godsmack', 'Breaking Benjamin', 'Freestyle', 'Hans Zimmer', 'Bayside', 'Alexisonfire', 'blink-182', 'Foo Fighters', 'Atoms for Peace', 'Queen', 'Iron Maiden', 'Lady Gaga', 'Wu-Tang Clan', 'Halestorm', 'Parkway Drive', 'The Wonder Years', 'Boston', 'Panic! at the Disco', 'Arctic Monkeys', 'Warpaint', 'Disturbed', 'The Dear Hunter', 'Krewella', 'Ke$ha', '30 Seconds to Mars', 'Oh, Sleeper', 'All Time Low', 'Bullet for My Valentine', 'White Zombie', 'Die Antwoord', 'Nobuo Uematsu', 'AFI', 'Energy', 'Misfits', 'New Found Glory', 'Three Days Grace', 'Machine Head', 'Queens of the Stone Age', 'Tenacious D', 'Dimmu Borgir', 'Gallows', 'Metallica', 'Leevi and the Leavings', 'Arch Enemy', 'Pantera', 'Demon Hunter', 'Marina and the Diamonds', 'Gyllene Tider', 'Howard Shore', 'Cruel Hand', 'Black Label Society', 'Rob Zombie', 'Beach House', 'Madonna', 'Radiohead', 'Calvin Harris', 'Wintersun', 'Evanescence', 'Rammstein', 'Memphis May Fire', 'Sum 41', 'Amon Amarth', 'DragonForce', 'Sonata Arctica', 'Lacuna Coil', 'My Chemical Romance', 'Hozier', 'Pitty', 'Nirvana', 'P.D.P.', 'Mogwai', 'Electric Light Orchestra', 'Mumford & Sons', 'The Killers', 'Trivium', 'The Band', 'Cat Power', 'Dope', 'Volbeat', 'Becoming the Archetype', 'Killswitch Engage', 'Stam1na', 'Sick Puppies', 'Black Veil Brides', 'Children of Bodom', 'Five Finger Death Punch', 'Saosin', 'James Blake', 'Muse', 'Cradle of Filth', 'Fall Out Boy', 'Seether', 'Pentakill', 'Epic Rap Battles Of History', 'Motion City Soundtrack', 'Damien Rice', 'Nightwish', 'Lamb of God', 'deadmau5', 'M.I.A.', 'Sabaton', 'Lindemann', 'Amorphis', 'Pink Floyd', 'Billy Talent', 'Dr. Dre', 'Coldplay', 'Avenged Sevenfold', 'DIR EN GREY', 'Papa Roach', 'Coheed and Cambria', 'Evergreen Terrace', 'Klamydia', 'Ween', 'The White Stripes', 'Circa Survive', 'Turmion Kätilöt', 'Bring Me the Horizon', 'Ben Howard', 'Powerwolf', 'Flo Rida', 'Katy Perry', 'Mustasch'])\n",
      "Persons with similarity greater than 0: ['BrunoJoS', 'DPREBOYE', 'MPistol40', 'SkyRif', 'Wags1382', 'Znapsen', 'cortapsyco', 'emill_67', 'sattuviitana']\n",
      "Individual items: {'Theory of a Deadman', 'Magnus Uggla', 'Four Year Strong', 'Linkin Park', 'N.W.A', 'Shinedown', 'Green Day', 'Daughter', 'Godsmack', 'Breaking Benjamin', 'Freestyle', 'Hans Zimmer', 'In Flames', 'Bayside', 'Alexisonfire', 'blink-182', 'Foo Fighters', 'Atoms for Peace', 'Queen', 'Iron Maiden', 'Lady Gaga', 'Wu-Tang Clan', 'Halestorm', 'Nine Inch Nails', 'Parkway Drive', 'Stone Sour', 'The Wonder Years', 'Boston', 'Panic! at the Disco', 'Arctic Monkeys', 'Warpaint', 'Pendulum', 'Disturbed', 'The Dear Hunter', 'Krewella', 'Red Hot Chili Peppers', 'Ke$ha', '30 Seconds to Mars', 'Oh, Sleeper', 'Dark Tranquillity', 'All Time Low', 'Bullet for My Valentine', 'White Zombie', 'Die Antwoord', 'Nobuo Uematsu', 'Soulfly', 'AFI', 'Misfits', 'New Found Glory', 'Rage Against the Machine', 'Three Days Grace', 'Machine Head', 'Queens of the Stone Age', 'Tenacious D', 'Dimmu Borgir', 'Gallows', 'Metallica', 'Leevi and the Leavings', 'System of a Down', 'Arch Enemy', 'Pantera', 'Demon Hunter', 'Marina and the Diamonds', 'Gyllene Tider', 'Howard Shore', 'Cruel Hand', 'Black Label Society', 'Rob Zombie', 'Beach House', 'Madonna', 'Radiohead', 'Calvin Harris', 'Wintersun', 'Evanescence', 'Rammstein', 'Memphis May Fire', 'Sum 41', 'Tool', 'Korn', 'Amon Amarth', 'DragonForce', 'Sonata Arctica', 'Lacuna Coil', 'My Chemical Romance', 'Hozier', 'Pitty', 'Nirvana', 'P.D.P.', 'Soilwork', 'Scar Symmetry', 'Mogwai', 'A Perfect Circle', 'Electric Light Orchestra', 'Mumford & Sons', 'The Killers', 'Trivium', 'Dmitri Shostakovich', 'The Band', 'Cat Power', 'Dope', 'Deftones', 'Volbeat', 'Becoming the Archetype', 'Killswitch Engage', 'Stam1na', 'Sick Puppies', 'Black Veil Brides', 'Children of Bodom', 'Five Finger Death Punch', 'Saosin', 'James Blake', 'Muse', 'Cradle of Filth', 'Fall Out Boy', 'Seether', 'Pentakill', 'Epic Rap Battles Of History', 'Motion City Soundtrack', 'Damien Rice', 'Nightwish', 'Lamb of God', 'deadmau5', 'M.I.A.', 'Sabaton', 'Team Sleep', 'Lindemann', 'Amorphis', 'Pink Floyd', 'Billy Talent', 'Dr. Dre', 'Coldplay', 'Avenged Sevenfold', 'DIR EN GREY', 'Papa Roach', 'Coheed and Cambria', 'Evergreen Terrace', 'Klamydia', 'Ween', 'The White Stripes', 'Circa Survive', 'Turmion Kätilöt', 'Limp Bizkit', 'Bring Me the Horizon', 'Ben Howard', 'Powerwolf', '36 Crazyfists', 'Flo Rida', 'Slipknot', 'Katy Perry', 'Energy', 'Mustasch'}\n",
      "Items that NemoNightfall has not rated: dict_keys(['Theory of a Deadman', 'Magnus Uggla', 'Four Year Strong', 'N.W.A', 'Shinedown', 'Green Day', 'Daughter', 'Godsmack', 'Freestyle', 'Hans Zimmer', 'In Flames', 'Bayside', 'blink-182', 'Foo Fighters', 'Atoms for Peace', 'Queen', 'Iron Maiden', 'Lady Gaga', 'Wu-Tang Clan', 'Halestorm', 'Nine Inch Nails', 'Parkway Drive', 'The Wonder Years', 'Boston', 'Panic! at the Disco', 'Arctic Monkeys', 'Warpaint', 'Pendulum', 'Disturbed', 'The Dear Hunter', 'Krewella', 'Red Hot Chili Peppers', 'Ke$ha', 'Dark Tranquillity', 'White Zombie', 'Die Antwoord', 'Nobuo Uematsu', 'Soulfly', 'AFI', 'Energy', 'Misfits', 'New Found Glory', 'Rage Against the Machine', 'Machine Head', 'Queens of the Stone Age', 'Tenacious D', 'Dimmu Borgir', 'Gallows', 'Metallica', 'Leevi and the Leavings', 'Arch Enemy', 'Pantera', 'Demon Hunter', 'Marina and the Diamonds', 'Gyllene Tider', 'Howard Shore', 'Cruel Hand', 'Black Label Society', 'Rob Zombie', 'Beach House', 'Madonna', 'Radiohead', 'Calvin Harris', 'Wintersun', 'Evanescence', 'Rammstein', 'Sum 41', 'Tool', 'Korn', 'Amon Amarth', 'DragonForce', 'Sonata Arctica', 'Lacuna Coil', 'My Chemical Romance', 'Hozier', 'Pitty', 'Nirvana', 'P.D.P.', 'Soilwork', 'Scar Symmetry', 'Mogwai', 'A Perfect Circle', 'Electric Light Orchestra', 'The Killers', 'Dmitri Shostakovich', 'The Band', 'Cat Power', 'Dope', 'Deftones', 'Volbeat', 'Becoming the Archetype', 'Killswitch Engage', 'Stam1na', 'Black Veil Brides', 'Children of Bodom', 'Saosin', 'James Blake', 'Muse', 'Cradle of Filth', 'Fall Out Boy', 'Seether', 'Pentakill', 'Epic Rap Battles Of History', 'Motion City Soundtrack', 'Damien Rice', 'Nightwish', 'Lamb of God', 'deadmau5', 'M.I.A.', 'Sabaton', 'Team Sleep', 'Lindemann', 'Amorphis', 'Pink Floyd', 'Dr. Dre', 'Coldplay', 'Avenged Sevenfold', 'DIR EN GREY', 'Coheed and Cambria', 'Evergreen Terrace', 'Klamydia', 'Ween', 'The White Stripes', 'Circa Survive', 'Turmion Kätilöt', 'Limp Bizkit', 'Powerwolf', '36 Crazyfists', 'Flo Rida', 'Katy Perry', 'Mustasch'])\n"
     ]
    },
    {
     "name": "stdout",
     "output_type": "stream",
     "text": [
      "Persons with similarity greater than 0: ['BrunoJoS', 'DPREBOYE', 'MPistol40', 'NemoNightfall', 'Wags1382', 'Znapsen', 'cortapsyco', 'emill_67', 'sattuviitana']\n",
      "Individual items: {'Theory of a Deadman', 'Magnus Uggla', 'Four Year Strong', 'Linkin Park', 'N.W.A', 'Shinedown', 'Green Day', 'Daughter', 'Godsmack', 'Breaking Benjamin', 'Freestyle', 'Hans Zimmer', 'In Flames', 'Bayside', 'Alexisonfire', 'blink-182', 'Foo Fighters', 'Atoms for Peace', 'Queen', 'Iron Maiden', 'Lady Gaga', 'Wu-Tang Clan', 'Halestorm', 'Nine Inch Nails', 'Parkway Drive', 'Stone Sour', 'The Wonder Years', 'Boston', 'Panic! at the Disco', 'Arctic Monkeys', 'Warpaint', 'Pendulum', 'Disturbed', 'The Dear Hunter', 'Krewella', 'Red Hot Chili Peppers', 'Ke$ha', '30 Seconds to Mars', 'Oh, Sleeper', 'Dark Tranquillity', 'All Time Low', 'Bullet for My Valentine', 'White Zombie', 'Die Antwoord', 'Nobuo Uematsu', 'Soulfly', 'AFI', 'Misfits', 'New Found Glory', 'Rage Against the Machine', 'Three Days Grace', 'Machine Head', 'Queens of the Stone Age', 'Tenacious D', 'Dimmu Borgir', 'Gallows', 'Metallica', 'Leevi and the Leavings', 'System of a Down', 'Arch Enemy', 'Pantera', 'Demon Hunter', 'Marina and the Diamonds', 'Gyllene Tider', 'Howard Shore', 'Cruel Hand', 'Black Label Society', 'Rob Zombie', 'Beach House', 'Madonna', 'Radiohead', 'Calvin Harris', 'Wintersun', 'Evanescence', 'Rammstein', 'Memphis May Fire', 'Sum 41', 'Tool', 'Korn', 'Amon Amarth', 'DragonForce', 'Sonata Arctica', 'Lacuna Coil', 'My Chemical Romance', 'Hozier', 'Pitty', 'Nirvana', 'P.D.P.', 'Soilwork', 'Scar Symmetry', 'Mogwai', 'A Perfect Circle', 'Electric Light Orchestra', 'Mumford & Sons', 'The Killers', 'Trivium', 'Dmitri Shostakovich', 'The Band', 'Cat Power', 'Dope', 'Deftones', 'Volbeat', 'Becoming the Archetype', 'Killswitch Engage', 'Stam1na', 'Sick Puppies', 'Black Veil Brides', 'Children of Bodom', 'Five Finger Death Punch', 'Saosin', 'James Blake', 'Muse', 'Cradle of Filth', 'Fall Out Boy', 'Seether', 'Pentakill', 'Epic Rap Battles Of History', 'Motion City Soundtrack', 'Damien Rice', 'Nightwish', 'Lamb of God', 'deadmau5', 'M.I.A.', 'Sabaton', 'Team Sleep', 'Lindemann', 'Amorphis', 'Pink Floyd', 'Billy Talent', 'Dr. Dre', 'Coldplay', 'Avenged Sevenfold', 'DIR EN GREY', 'Papa Roach', 'Coheed and Cambria', 'Evergreen Terrace', 'Klamydia', 'Ween', 'The White Stripes', 'Circa Survive', 'Turmion Kätilöt', 'Limp Bizkit', 'Bring Me the Horizon', 'Ben Howard', 'Powerwolf', '36 Crazyfists', 'Flo Rida', 'Slipknot', 'Katy Perry', 'Energy', 'Mustasch'}\n",
      "Items that SkyRif has not rated: dict_keys(['Theory of a Deadman', 'Magnus Uggla', 'Four Year Strong', 'N.W.A', 'Shinedown', 'Green Day', 'Daughter', 'Godsmack', 'Breaking Benjamin', 'Freestyle', 'In Flames', 'Bayside', 'Alexisonfire', 'blink-182', 'Foo Fighters', 'Atoms for Peace', 'Queen', 'Iron Maiden', 'Lady Gaga', 'Wu-Tang Clan', 'Halestorm', 'Nine Inch Nails', 'Parkway Drive', 'The Wonder Years', 'Boston', 'Panic! at the Disco', 'Arctic Monkeys', 'Warpaint', 'Pendulum', 'Disturbed', 'The Dear Hunter', 'Krewella', 'Ke$ha', '30 Seconds to Mars', 'Oh, Sleeper', 'Dark Tranquillity', 'All Time Low', 'Bullet for My Valentine', 'White Zombie', 'Die Antwoord', 'Nobuo Uematsu', 'Soulfly', 'AFI', 'Energy', 'Misfits', 'New Found Glory', 'Three Days Grace', 'Machine Head', 'Queens of the Stone Age', 'Dimmu Borgir', 'Gallows', 'Leevi and the Leavings', 'Pantera', 'Demon Hunter', 'Marina and the Diamonds', 'Gyllene Tider', 'Cruel Hand', 'Black Label Society', 'Rob Zombie', 'Beach House', 'Madonna', 'Radiohead', 'Calvin Harris', 'Evanescence', 'Rammstein', 'Memphis May Fire', 'Sum 41', 'Tool', 'Sonata Arctica', 'Lacuna Coil', 'My Chemical Romance', 'Hozier', 'Pitty', 'Nirvana', 'P.D.P.', 'Soilwork', 'Scar Symmetry', 'Mogwai', 'A Perfect Circle', 'Electric Light Orchestra', 'Mumford & Sons', 'The Killers', 'Trivium', 'Dmitri Shostakovich', 'The Band', 'Cat Power', 'Dope', 'Deftones', 'Volbeat', 'Becoming the Archetype', 'Killswitch Engage', 'Stam1na', 'Sick Puppies', 'Black Veil Brides', 'Children of Bodom', 'Five Finger Death Punch', 'Saosin', 'James Blake', 'Muse', 'Cradle of Filth', 'Fall Out Boy', 'Seether', 'Epic Rap Battles Of History', 'Motion City Soundtrack', 'Damien Rice', 'Nightwish', 'deadmau5', 'M.I.A.', 'Team Sleep', 'Lindemann', 'Amorphis', 'Pink Floyd', 'Billy Talent', 'Dr. Dre', 'Coldplay', 'Avenged Sevenfold', 'DIR EN GREY', 'Coheed and Cambria', 'Evergreen Terrace', 'Klamydia', 'Ween', 'The White Stripes', 'Circa Survive', 'Turmion Kätilöt', 'Limp Bizkit', 'Bring Me the Horizon', 'Ben Howard', '36 Crazyfists', 'Flo Rida', 'Katy Perry', 'Mustasch'])\n",
      "Persons with similarity greater than 0: ['BrunoJoS', 'DPREBOYE', 'MPistol40', 'NemoNightfall', 'SkyRif', 'Znapsen', 'cortapsyco', 'emill_67', 'sattuviitana']\n",
      "Individual items: {'Theory of a Deadman', 'Magnus Uggla', 'Four Year Strong', 'Linkin Park', 'N.W.A', 'Shinedown', 'Green Day', 'Daughter', 'Godsmack', 'Breaking Benjamin', 'Freestyle', 'Hans Zimmer', 'In Flames', 'Bayside', 'Alexisonfire', 'blink-182', 'Foo Fighters', 'Atoms for Peace', 'Queen', 'Iron Maiden', 'Lady Gaga', 'Wu-Tang Clan', 'Halestorm', 'Nine Inch Nails', 'Parkway Drive', 'Stone Sour', 'The Wonder Years', 'Boston', 'Panic! at the Disco', 'Arctic Monkeys', 'Warpaint', 'Pendulum', 'Disturbed', 'The Dear Hunter', 'Krewella', 'Red Hot Chili Peppers', 'Ke$ha', '30 Seconds to Mars', 'Oh, Sleeper', 'Dark Tranquillity', 'All Time Low', 'Bullet for My Valentine', 'White Zombie', 'Die Antwoord', 'Nobuo Uematsu', 'Soulfly', 'AFI', 'Misfits', 'New Found Glory', 'Rage Against the Machine', 'Three Days Grace', 'Machine Head', 'Queens of the Stone Age', 'Tenacious D', 'Dimmu Borgir', 'Gallows', 'Metallica', 'Leevi and the Leavings', 'System of a Down', 'Arch Enemy', 'Pantera', 'Demon Hunter', 'Marina and the Diamonds', 'Gyllene Tider', 'Howard Shore', 'Cruel Hand', 'Black Label Society', 'Rob Zombie', 'Beach House', 'Madonna', 'Radiohead', 'Calvin Harris', 'Wintersun', 'Evanescence', 'Rammstein', 'Memphis May Fire', 'Sum 41', 'Tool', 'Korn', 'Amon Amarth', 'DragonForce', 'Sonata Arctica', 'Lacuna Coil', 'My Chemical Romance', 'Hozier', 'Pitty', 'Nirvana', 'P.D.P.', 'Soilwork', 'Scar Symmetry', 'Mogwai', 'A Perfect Circle', 'Electric Light Orchestra', 'Mumford & Sons', 'The Killers', 'Trivium', 'Dmitri Shostakovich', 'The Band', 'Cat Power', 'Dope', 'Deftones', 'Volbeat', 'Becoming the Archetype', 'Killswitch Engage', 'Stam1na', 'Sick Puppies', 'Black Veil Brides', 'Children of Bodom', 'Five Finger Death Punch', 'Saosin', 'James Blake', 'Muse', 'Cradle of Filth', 'Fall Out Boy', 'Seether', 'Pentakill', 'Epic Rap Battles Of History', 'Motion City Soundtrack', 'Damien Rice', 'Nightwish', 'Lamb of God', 'deadmau5', 'M.I.A.', 'Sabaton', 'Team Sleep', 'Lindemann', 'Amorphis', 'Pink Floyd', 'Billy Talent', 'Dr. Dre', 'Coldplay', 'Avenged Sevenfold', 'DIR EN GREY', 'Papa Roach', 'Coheed and Cambria', 'Evergreen Terrace', 'Klamydia', 'Ween', 'The White Stripes', 'Circa Survive', 'Turmion Kätilöt', 'Limp Bizkit', 'Bring Me the Horizon', 'Ben Howard', 'Powerwolf', '36 Crazyfists', 'Flo Rida', 'Slipknot', 'Katy Perry', 'Energy', 'Mustasch'}\n",
      "Items that Wags1382 has not rated: dict_keys(['Theory of a Deadman', 'Magnus Uggla', 'Linkin Park', 'N.W.A', 'Shinedown', 'Green Day', 'Daughter', 'Godsmack', 'Breaking Benjamin', 'Freestyle', 'Hans Zimmer', 'In Flames', 'Alexisonfire', 'Foo Fighters', 'Atoms for Peace', 'Queen', 'Iron Maiden', 'Lady Gaga', 'Wu-Tang Clan', 'Halestorm', 'Nine Inch Nails', 'Stone Sour', 'Boston', 'Panic! at the Disco', 'Arctic Monkeys', 'Warpaint', 'Pendulum', 'Disturbed', 'Krewella', 'Red Hot Chili Peppers', 'Ke$ha', '30 Seconds to Mars', 'Oh, Sleeper', 'Dark Tranquillity', 'All Time Low', 'Bullet for My Valentine', 'White Zombie', 'Die Antwoord', 'Nobuo Uematsu', 'Soulfly', 'Rage Against the Machine', 'Three Days Grace', 'Machine Head', 'Queens of the Stone Age', 'Tenacious D', 'Dimmu Borgir', 'Metallica', 'Leevi and the Leavings', 'Arch Enemy', 'Pantera', 'Demon Hunter', 'Marina and the Diamonds', 'Gyllene Tider', 'Howard Shore', 'Black Label Society', 'Rob Zombie', 'Beach House', 'Madonna', 'Radiohead', 'Calvin Harris', 'Wintersun', 'Evanescence', 'Rammstein', 'Memphis May Fire', 'Sum 41', 'Tool', 'Korn', 'Amon Amarth', 'DragonForce', 'Sonata Arctica', 'Lacuna Coil', 'Hozier', 'Pitty', 'Nirvana', 'P.D.P.', 'Soilwork', 'Scar Symmetry', 'Mogwai', 'A Perfect Circle', 'Electric Light Orchestra', 'Mumford & Sons', 'The Killers', 'Trivium', 'Dmitri Shostakovich', 'The Band', 'Cat Power', 'Dope', 'Deftones', 'Volbeat', 'Becoming the Archetype', 'Killswitch Engage', 'Stam1na', 'Sick Puppies', 'Black Veil Brides', 'Children of Bodom', 'Five Finger Death Punch', 'James Blake', 'Muse', 'Cradle of Filth', 'Seether', 'Pentakill', 'Epic Rap Battles Of History', 'Damien Rice', 'Nightwish', 'Lamb of God', 'deadmau5', 'M.I.A.', 'Sabaton', 'Team Sleep', 'Lindemann', 'Amorphis', 'Pink Floyd', 'Billy Talent', 'Dr. Dre', 'Coldplay', 'Avenged Sevenfold', 'DIR EN GREY', 'Papa Roach', 'Klamydia', 'Ween', 'The White Stripes', 'Turmion Kätilöt', 'Limp Bizkit', 'Bring Me the Horizon', 'Ben Howard', 'Powerwolf', '36 Crazyfists', 'Flo Rida', 'Katy Perry', 'System of a Down', 'Mustasch'])\n"
     ]
    },
    {
     "name": "stdout",
     "output_type": "stream",
     "text": [
      "Persons with similarity greater than 0: ['BrunoJoS', 'DPREBOYE', 'MPistol40', 'NemoNightfall', 'SkyRif', 'Wags1382', 'cortapsyco', 'emill_67', 'sattuviitana']\n",
      "Individual items: {'Theory of a Deadman', 'Magnus Uggla', 'Four Year Strong', 'Linkin Park', 'N.W.A', 'Shinedown', 'Green Day', 'Daughter', 'Godsmack', 'Breaking Benjamin', 'Freestyle', 'Hans Zimmer', 'In Flames', 'Bayside', 'Alexisonfire', 'blink-182', 'Foo Fighters', 'Atoms for Peace', 'Queen', 'Iron Maiden', 'Lady Gaga', 'Wu-Tang Clan', 'Halestorm', 'Nine Inch Nails', 'Parkway Drive', 'Stone Sour', 'The Wonder Years', 'Boston', 'Panic! at the Disco', 'Arctic Monkeys', 'Warpaint', 'Pendulum', 'Disturbed', 'The Dear Hunter', 'Krewella', 'Red Hot Chili Peppers', 'Ke$ha', '30 Seconds to Mars', 'Oh, Sleeper', 'Dark Tranquillity', 'All Time Low', 'Bullet for My Valentine', 'White Zombie', 'Die Antwoord', 'Nobuo Uematsu', 'Soulfly', 'AFI', 'Misfits', 'New Found Glory', 'Rage Against the Machine', 'Three Days Grace', 'Machine Head', 'Queens of the Stone Age', 'Tenacious D', 'Dimmu Borgir', 'Gallows', 'Metallica', 'Leevi and the Leavings', 'System of a Down', 'Arch Enemy', 'Pantera', 'Demon Hunter', 'Marina and the Diamonds', 'Gyllene Tider', 'Howard Shore', 'Cruel Hand', 'Black Label Society', 'Rob Zombie', 'Beach House', 'Madonna', 'Radiohead', 'Calvin Harris', 'Wintersun', 'Evanescence', 'Rammstein', 'Memphis May Fire', 'Sum 41', 'Tool', 'Korn', 'Amon Amarth', 'DragonForce', 'Sonata Arctica', 'Lacuna Coil', 'My Chemical Romance', 'Hozier', 'Pitty', 'Nirvana', 'P.D.P.', 'Soilwork', 'Scar Symmetry', 'Mogwai', 'A Perfect Circle', 'Electric Light Orchestra', 'Mumford & Sons', 'The Killers', 'Trivium', 'Dmitri Shostakovich', 'The Band', 'Cat Power', 'Dope', 'Deftones', 'Volbeat', 'Becoming the Archetype', 'Killswitch Engage', 'Stam1na', 'Sick Puppies', 'Black Veil Brides', 'Children of Bodom', 'Five Finger Death Punch', 'Saosin', 'James Blake', 'Muse', 'Cradle of Filth', 'Fall Out Boy', 'Seether', 'Pentakill', 'Epic Rap Battles Of History', 'Motion City Soundtrack', 'Damien Rice', 'Nightwish', 'Lamb of God', 'deadmau5', 'M.I.A.', 'Sabaton', 'Team Sleep', 'Lindemann', 'Amorphis', 'Pink Floyd', 'Billy Talent', 'Dr. Dre', 'Coldplay', 'Avenged Sevenfold', 'DIR EN GREY', 'Papa Roach', 'Coheed and Cambria', 'Evergreen Terrace', 'Klamydia', 'Ween', 'The White Stripes', 'Circa Survive', 'Turmion Kätilöt', 'Limp Bizkit', 'Bring Me the Horizon', 'Ben Howard', 'Powerwolf', '36 Crazyfists', 'Flo Rida', 'Slipknot', 'Katy Perry', 'Energy', 'Mustasch'}\n",
      "Items that Znapsen has not rated: dict_keys(['Theory of a Deadman', 'Four Year Strong', 'Linkin Park', 'N.W.A', 'Shinedown', 'Green Day', 'Daughter', 'Breaking Benjamin', 'Hans Zimmer', 'In Flames', 'Bayside', 'Alexisonfire', 'blink-182', 'Foo Fighters', 'Atoms for Peace', 'Queen', 'Iron Maiden', 'Lady Gaga', 'Wu-Tang Clan', 'Halestorm', 'Nine Inch Nails', 'Parkway Drive', 'Stone Sour', 'The Wonder Years', 'Boston', 'Panic! at the Disco', 'Arctic Monkeys', 'Warpaint', 'Pendulum', 'Disturbed', 'The Dear Hunter', 'Krewella', 'Red Hot Chili Peppers', 'Ke$ha', '30 Seconds to Mars', 'Oh, Sleeper', 'Dark Tranquillity', 'All Time Low', 'Bullet for My Valentine', 'Die Antwoord', 'Nobuo Uematsu', 'Soulfly', 'AFI', 'Energy', 'Misfits', 'New Found Glory', 'Rage Against the Machine', 'Three Days Grace', 'Queens of the Stone Age', 'Tenacious D', 'Dimmu Borgir', 'Gallows', 'Leevi and the Leavings', 'Arch Enemy', 'Demon Hunter', 'Marina and the Diamonds', 'Howard Shore', 'Cruel Hand', 'Rob Zombie', 'Beach House', 'Madonna', 'Radiohead', 'Calvin Harris', 'Wintersun', 'Evanescence', 'Memphis May Fire', 'Sum 41', 'Tool', 'Amon Amarth', 'DragonForce', 'Sonata Arctica', 'Lacuna Coil', 'My Chemical Romance', 'Hozier', 'Pitty', 'Nirvana', 'Soilwork', 'Scar Symmetry', 'Mogwai', 'A Perfect Circle', 'Electric Light Orchestra', 'Mumford & Sons', 'The Killers', 'Trivium', 'Dmitri Shostakovich', 'The Band', 'Cat Power', 'Deftones', 'Volbeat', 'Becoming the Archetype', 'Killswitch Engage', 'Stam1na', 'Sick Puppies', 'Black Veil Brides', 'Children of Bodom', 'Saosin', 'James Blake', 'Muse', 'Cradle of Filth', 'Fall Out Boy', 'Seether', 'Pentakill', 'Epic Rap Battles Of History', 'Motion City Soundtrack', 'Damien Rice', 'Nightwish', 'deadmau5', 'M.I.A.', 'Sabaton', 'Team Sleep', 'Lindemann', 'Amorphis', 'Billy Talent', 'Dr. Dre', 'Coldplay', 'DIR EN GREY', 'Papa Roach', 'Coheed and Cambria', 'Evergreen Terrace', 'Klamydia', 'Ween', 'The White Stripes', 'Circa Survive', 'Turmion Kätilöt', 'Bring Me the Horizon', 'Ben Howard', 'Powerwolf', '36 Crazyfists', 'Flo Rida', 'Katy Perry', 'System of a Down'])\n",
      "Persons with similarity greater than 0: ['BrunoJoS', 'DPREBOYE', 'MPistol40', 'NemoNightfall', 'SkyRif', 'Wags1382', 'Znapsen', 'emill_67', 'sattuviitana']\n",
      "Individual items: {'Theory of a Deadman', 'Magnus Uggla', 'Four Year Strong', 'Linkin Park', 'N.W.A', 'Shinedown', 'Green Day', 'Daughter', 'Godsmack', 'Breaking Benjamin', 'Freestyle', 'Hans Zimmer', 'In Flames', 'Bayside', 'Alexisonfire', 'blink-182', 'Foo Fighters', 'Atoms for Peace', 'Queen', 'Iron Maiden', 'Lady Gaga', 'Wu-Tang Clan', 'Halestorm', 'Nine Inch Nails', 'Parkway Drive', 'Stone Sour', 'The Wonder Years', 'Boston', 'Panic! at the Disco', 'Arctic Monkeys', 'Warpaint', 'Pendulum', 'Disturbed', 'The Dear Hunter', 'Krewella', 'Red Hot Chili Peppers', 'Ke$ha', '30 Seconds to Mars', 'Oh, Sleeper', 'Dark Tranquillity', 'All Time Low', 'Bullet for My Valentine', 'White Zombie', 'Die Antwoord', 'Nobuo Uematsu', 'Soulfly', 'AFI', 'Misfits', 'New Found Glory', 'Rage Against the Machine', 'Three Days Grace', 'Machine Head', 'Queens of the Stone Age', 'Tenacious D', 'Dimmu Borgir', 'Gallows', 'Metallica', 'Leevi and the Leavings', 'System of a Down', 'Arch Enemy', 'Pantera', 'Demon Hunter', 'Marina and the Diamonds', 'Gyllene Tider', 'Howard Shore', 'Cruel Hand', 'Black Label Society', 'Rob Zombie', 'Beach House', 'Madonna', 'Radiohead', 'Calvin Harris', 'Wintersun', 'Evanescence', 'Rammstein', 'Memphis May Fire', 'Sum 41', 'Tool', 'Korn', 'Amon Amarth', 'DragonForce', 'Sonata Arctica', 'Lacuna Coil', 'My Chemical Romance', 'Hozier', 'Pitty', 'Nirvana', 'P.D.P.', 'Soilwork', 'Scar Symmetry', 'Mogwai', 'A Perfect Circle', 'Electric Light Orchestra', 'Mumford & Sons', 'The Killers', 'Trivium', 'Dmitri Shostakovich', 'The Band', 'Cat Power', 'Dope', 'Deftones', 'Volbeat', 'Becoming the Archetype', 'Killswitch Engage', 'Stam1na', 'Sick Puppies', 'Black Veil Brides', 'Children of Bodom', 'Five Finger Death Punch', 'Saosin', 'James Blake', 'Muse', 'Cradle of Filth', 'Fall Out Boy', 'Seether', 'Pentakill', 'Epic Rap Battles Of History', 'Motion City Soundtrack', 'Damien Rice', 'Nightwish', 'Lamb of God', 'deadmau5', 'M.I.A.', 'Sabaton', 'Team Sleep', 'Lindemann', 'Amorphis', 'Pink Floyd', 'Billy Talent', 'Dr. Dre', 'Coldplay', 'Avenged Sevenfold', 'DIR EN GREY', 'Papa Roach', 'Coheed and Cambria', 'Evergreen Terrace', 'Klamydia', 'Ween', 'The White Stripes', 'Circa Survive', 'Turmion Kätilöt', 'Limp Bizkit', 'Bring Me the Horizon', 'Ben Howard', 'Powerwolf', '36 Crazyfists', 'Flo Rida', 'Slipknot', 'Katy Perry', 'Energy', 'Mustasch'}\n",
      "Items that cortapsyco has not rated: dict_keys(['Theory of a Deadman', 'Magnus Uggla', 'Four Year Strong', 'Linkin Park', 'N.W.A', 'Shinedown', 'Green Day', 'Daughter', 'Godsmack', 'Breaking Benjamin', 'Freestyle', 'Hans Zimmer', 'In Flames', 'Bayside', 'Alexisonfire', 'blink-182', 'Foo Fighters', 'Atoms for Peace', 'Queen', 'Iron Maiden', 'Lady Gaga', 'Wu-Tang Clan', 'Nine Inch Nails', 'Parkway Drive', 'Stone Sour', 'The Wonder Years', 'Boston', 'Arctic Monkeys', 'Warpaint', 'Disturbed', 'The Dear Hunter', 'Red Hot Chili Peppers', '30 Seconds to Mars', 'Oh, Sleeper', 'Dark Tranquillity', 'All Time Low', 'Bullet for My Valentine', 'White Zombie', 'Die Antwoord', 'Soulfly', 'AFI', 'Energy', 'Misfits', 'New Found Glory', 'Rage Against the Machine', 'Three Days Grace', 'Machine Head', 'Queens of the Stone Age', 'Tenacious D', 'Gallows', 'Metallica', 'Leevi and the Leavings', 'Arch Enemy', 'Pantera', 'Gyllene Tider', 'Howard Shore', 'Cruel Hand', 'Black Label Society', 'Rob Zombie', 'Beach House', 'Madonna', 'Radiohead', 'Wintersun', 'Evanescence', 'Rammstein', 'Memphis May Fire', 'Sum 41', 'Tool', 'Korn', 'Amon Amarth', 'DragonForce', 'Sonata Arctica', 'My Chemical Romance', 'Hozier', 'Pitty', 'Nirvana', 'P.D.P.', 'Soilwork', 'Scar Symmetry', 'Mogwai', 'A Perfect Circle', 'Electric Light Orchestra', 'Mumford & Sons', 'The Killers', 'Trivium', 'Dmitri Shostakovich', 'The Band', 'Cat Power', 'Dope', 'Deftones', 'Volbeat', 'Stam1na', 'Sick Puppies', 'Children of Bodom', 'Five Finger Death Punch', 'Saosin', 'James Blake', 'Muse', 'Fall Out Boy', 'Seether', 'Pentakill', 'Epic Rap Battles Of History', 'Motion City Soundtrack', 'Damien Rice', 'Nightwish', 'Lamb of God', 'deadmau5', 'M.I.A.', 'Sabaton', 'Team Sleep', 'Lindemann', 'Amorphis', 'Pink Floyd', 'Billy Talent', 'Dr. Dre', 'Coldplay', 'Avenged Sevenfold', 'DIR EN GREY', 'Papa Roach', 'Evergreen Terrace', 'Klamydia', 'Ween', 'The White Stripes', 'Circa Survive', 'Turmion Kätilöt', 'Limp Bizkit', 'Bring Me the Horizon', 'Ben Howard', 'Powerwolf', '36 Crazyfists', 'Mustasch'])\n"
     ]
    },
    {
     "name": "stdout",
     "output_type": "stream",
     "text": [
      "Persons with similarity greater than 0: ['BrunoJoS', 'DPREBOYE', 'MPistol40', 'NemoNightfall', 'SkyRif', 'Wags1382', 'Znapsen', 'cortapsyco', 'sattuviitana']\n",
      "Individual items: {'Theory of a Deadman', 'Magnus Uggla', 'Four Year Strong', 'Linkin Park', 'N.W.A', 'Shinedown', 'Green Day', 'Daughter', 'Godsmack', 'Breaking Benjamin', 'Freestyle', 'Hans Zimmer', 'In Flames', 'Bayside', 'Alexisonfire', 'blink-182', 'Foo Fighters', 'Atoms for Peace', 'Queen', 'Iron Maiden', 'Lady Gaga', 'Wu-Tang Clan', 'Halestorm', 'Nine Inch Nails', 'Parkway Drive', 'Stone Sour', 'The Wonder Years', 'Boston', 'Panic! at the Disco', 'Arctic Monkeys', 'Warpaint', 'Pendulum', 'Disturbed', 'The Dear Hunter', 'Krewella', 'Red Hot Chili Peppers', 'Ke$ha', '30 Seconds to Mars', 'Oh, Sleeper', 'Dark Tranquillity', 'All Time Low', 'Bullet for My Valentine', 'White Zombie', 'Die Antwoord', 'Nobuo Uematsu', 'Soulfly', 'AFI', 'Misfits', 'New Found Glory', 'Rage Against the Machine', 'Three Days Grace', 'Machine Head', 'Queens of the Stone Age', 'Tenacious D', 'Dimmu Borgir', 'Gallows', 'Metallica', 'Leevi and the Leavings', 'System of a Down', 'Arch Enemy', 'Pantera', 'Demon Hunter', 'Marina and the Diamonds', 'Gyllene Tider', 'Howard Shore', 'Cruel Hand', 'Black Label Society', 'Rob Zombie', 'Beach House', 'Madonna', 'Radiohead', 'Calvin Harris', 'Wintersun', 'Evanescence', 'Rammstein', 'Memphis May Fire', 'Sum 41', 'Tool', 'Korn', 'Amon Amarth', 'DragonForce', 'Sonata Arctica', 'Lacuna Coil', 'My Chemical Romance', 'Hozier', 'Pitty', 'Nirvana', 'P.D.P.', 'Soilwork', 'Scar Symmetry', 'Mogwai', 'A Perfect Circle', 'Electric Light Orchestra', 'Mumford & Sons', 'The Killers', 'Trivium', 'Dmitri Shostakovich', 'The Band', 'Cat Power', 'Dope', 'Deftones', 'Volbeat', 'Becoming the Archetype', 'Killswitch Engage', 'Stam1na', 'Sick Puppies', 'Black Veil Brides', 'Children of Bodom', 'Five Finger Death Punch', 'Saosin', 'James Blake', 'Muse', 'Cradle of Filth', 'Fall Out Boy', 'Seether', 'Pentakill', 'Epic Rap Battles Of History', 'Motion City Soundtrack', 'Damien Rice', 'Nightwish', 'Lamb of God', 'deadmau5', 'M.I.A.', 'Sabaton', 'Team Sleep', 'Lindemann', 'Amorphis', 'Pink Floyd', 'Billy Talent', 'Dr. Dre', 'Coldplay', 'Avenged Sevenfold', 'DIR EN GREY', 'Papa Roach', 'Coheed and Cambria', 'Evergreen Terrace', 'Klamydia', 'Ween', 'The White Stripes', 'Circa Survive', 'Turmion Kätilöt', 'Limp Bizkit', 'Bring Me the Horizon', 'Ben Howard', 'Powerwolf', '36 Crazyfists', 'Flo Rida', 'Slipknot', 'Katy Perry', 'Energy', 'Mustasch'}\n",
      "Items that emill_67 has not rated: dict_keys(['Magnus Uggla', 'Four Year Strong', 'Linkin Park', 'N.W.A', 'Green Day', 'Daughter', 'Godsmack', 'Breaking Benjamin', 'Freestyle', 'Hans Zimmer', 'In Flames', 'Bayside', 'Alexisonfire', 'blink-182', 'Atoms for Peace', 'Queen', 'Lady Gaga', 'Wu-Tang Clan', 'Halestorm', 'Nine Inch Nails', 'Parkway Drive', 'Stone Sour', 'The Wonder Years', 'Panic! at the Disco', 'Arctic Monkeys', 'Warpaint', 'Pendulum', 'The Dear Hunter', 'Krewella', 'Ke$ha', '30 Seconds to Mars', 'Oh, Sleeper', 'Dark Tranquillity', 'All Time Low', 'Bullet for My Valentine', 'White Zombie', 'Die Antwoord', 'Nobuo Uematsu', 'Soulfly', 'AFI', 'Energy', 'Misfits', 'New Found Glory', 'Three Days Grace', 'Machine Head', 'Queens of the Stone Age', 'Tenacious D', 'Dimmu Borgir', 'Gallows', 'Metallica', 'Leevi and the Leavings', 'Arch Enemy', 'Pantera', 'Demon Hunter', 'Marina and the Diamonds', 'Gyllene Tider', 'Howard Shore', 'Cruel Hand', 'Black Label Society', 'Beach House', 'Madonna', 'Radiohead', 'Calvin Harris', 'Wintersun', 'Rammstein', 'Memphis May Fire', 'Sum 41', 'Tool', 'Amon Amarth', 'DragonForce', 'Sonata Arctica', 'Lacuna Coil', 'My Chemical Romance', 'Hozier', 'Pitty', 'Nirvana', 'P.D.P.', 'Soilwork', 'Scar Symmetry', 'Mogwai', 'A Perfect Circle', 'Mumford & Sons', 'The Killers', 'Trivium', 'Dmitri Shostakovich', 'The Band', 'Cat Power', 'Dope', 'Deftones', 'Volbeat', 'Becoming the Archetype', 'Killswitch Engage', 'Stam1na', 'Sick Puppies', 'Black Veil Brides', 'Children of Bodom', 'Saosin', 'James Blake', 'Cradle of Filth', 'Fall Out Boy', 'Pentakill', 'Motion City Soundtrack', 'Damien Rice', 'Nightwish', 'Lamb of God', 'M.I.A.', 'Sabaton', 'Team Sleep', 'Lindemann', 'Amorphis', 'Billy Talent', 'Dr. Dre', 'Coldplay', 'Avenged Sevenfold', 'DIR EN GREY', 'Papa Roach', 'Coheed and Cambria', 'Evergreen Terrace', 'Klamydia', 'The White Stripes', 'Circa Survive', 'Turmion Kätilöt', 'Limp Bizkit', 'Bring Me the Horizon', 'Ben Howard', 'Powerwolf', '36 Crazyfists', 'Flo Rida', 'Katy Perry', 'System of a Down', 'Mustasch'])\n",
      "Persons with similarity greater than 0: ['BrunoJoS', 'DPREBOYE', 'MPistol40', 'NemoNightfall', 'SkyRif', 'Wags1382', 'Znapsen', 'cortapsyco', 'emill_67']\n",
      "Individual items: {'Theory of a Deadman', 'Magnus Uggla', 'Four Year Strong', 'Linkin Park', 'N.W.A', 'Shinedown', 'Green Day', 'Daughter', 'Godsmack', 'Breaking Benjamin', 'Freestyle', 'Hans Zimmer', 'In Flames', 'Bayside', 'Alexisonfire', 'blink-182', 'Foo Fighters', 'Atoms for Peace', 'Queen', 'Iron Maiden', 'Lady Gaga', 'Wu-Tang Clan', 'Halestorm', 'Nine Inch Nails', 'Parkway Drive', 'Stone Sour', 'The Wonder Years', 'Boston', 'Panic! at the Disco', 'Arctic Monkeys', 'Warpaint', 'Pendulum', 'Disturbed', 'The Dear Hunter', 'Krewella', 'Red Hot Chili Peppers', 'Ke$ha', '30 Seconds to Mars', 'Oh, Sleeper', 'Dark Tranquillity', 'All Time Low', 'Bullet for My Valentine', 'White Zombie', 'Die Antwoord', 'Nobuo Uematsu', 'Soulfly', 'AFI', 'Misfits', 'New Found Glory', 'Rage Against the Machine', 'Three Days Grace', 'Machine Head', 'Queens of the Stone Age', 'Tenacious D', 'Dimmu Borgir', 'Gallows', 'Metallica', 'Leevi and the Leavings', 'System of a Down', 'Arch Enemy', 'Pantera', 'Demon Hunter', 'Marina and the Diamonds', 'Gyllene Tider', 'Howard Shore', 'Cruel Hand', 'Black Label Society', 'Rob Zombie', 'Beach House', 'Madonna', 'Radiohead', 'Calvin Harris', 'Wintersun', 'Evanescence', 'Rammstein', 'Memphis May Fire', 'Sum 41', 'Tool', 'Korn', 'Amon Amarth', 'DragonForce', 'Sonata Arctica', 'Lacuna Coil', 'My Chemical Romance', 'Hozier', 'Pitty', 'Nirvana', 'P.D.P.', 'Soilwork', 'Scar Symmetry', 'Mogwai', 'A Perfect Circle', 'Electric Light Orchestra', 'Mumford & Sons', 'The Killers', 'Trivium', 'Dmitri Shostakovich', 'The Band', 'Cat Power', 'Dope', 'Deftones', 'Volbeat', 'Becoming the Archetype', 'Killswitch Engage', 'Stam1na', 'Sick Puppies', 'Black Veil Brides', 'Children of Bodom', 'Five Finger Death Punch', 'Saosin', 'James Blake', 'Muse', 'Cradle of Filth', 'Fall Out Boy', 'Seether', 'Pentakill', 'Epic Rap Battles Of History', 'Motion City Soundtrack', 'Damien Rice', 'Nightwish', 'Lamb of God', 'deadmau5', 'M.I.A.', 'Sabaton', 'Team Sleep', 'Lindemann', 'Amorphis', 'Pink Floyd', 'Billy Talent', 'Dr. Dre', 'Coldplay', 'Avenged Sevenfold', 'DIR EN GREY', 'Papa Roach', 'Coheed and Cambria', 'Evergreen Terrace', 'Klamydia', 'Ween', 'The White Stripes', 'Circa Survive', 'Turmion Kätilöt', 'Limp Bizkit', 'Bring Me the Horizon', 'Ben Howard', 'Powerwolf', '36 Crazyfists', 'Flo Rida', 'Slipknot', 'Katy Perry', 'Energy', 'Mustasch'}\n",
      "Items that sattuviitana has not rated: dict_keys(['Theory of a Deadman', 'Magnus Uggla', 'Four Year Strong', 'Linkin Park', 'N.W.A', 'Shinedown', 'Green Day', 'Daughter', 'Godsmack', 'Breaking Benjamin', 'Freestyle', 'Hans Zimmer', 'Bayside', 'Alexisonfire', 'blink-182', 'Foo Fighters', 'Atoms for Peace', 'Iron Maiden', 'Lady Gaga', 'Wu-Tang Clan', 'Halestorm', 'Nine Inch Nails', 'Parkway Drive', 'Stone Sour', 'The Wonder Years', 'Boston', 'Panic! at the Disco', 'Arctic Monkeys', 'Warpaint', 'Pendulum', 'Disturbed', 'The Dear Hunter', 'Krewella', 'Red Hot Chili Peppers', 'Ke$ha', '30 Seconds to Mars', 'Oh, Sleeper', 'Dark Tranquillity', 'All Time Low', 'Bullet for My Valentine', 'White Zombie', 'Die Antwoord', 'Nobuo Uematsu', 'Soulfly', 'AFI', 'Energy', 'Misfits', 'New Found Glory', 'Rage Against the Machine', 'Three Days Grace', 'Machine Head', 'Queens of the Stone Age', 'Tenacious D', 'Dimmu Borgir', 'Gallows', 'Arch Enemy', 'Pantera', 'Demon Hunter', 'Marina and the Diamonds', 'Gyllene Tider', 'Howard Shore', 'Cruel Hand', 'Black Label Society', 'Rob Zombie', 'Beach House', 'Madonna', 'Radiohead', 'Calvin Harris', 'Wintersun', 'Evanescence', 'Memphis May Fire', 'Sum 41', 'Tool', 'Amon Amarth', 'DragonForce', 'Lacuna Coil', 'My Chemical Romance', 'Hozier', 'Pitty', 'Nirvana', 'P.D.P.', 'Soilwork', 'Scar Symmetry', 'Mogwai', 'A Perfect Circle', 'Electric Light Orchestra', 'Mumford & Sons', 'The Killers', 'Trivium', 'Dmitri Shostakovich', 'The Band', 'Cat Power', 'Dope', 'Deftones', 'Becoming the Archetype', 'Killswitch Engage', 'Sick Puppies', 'Black Veil Brides', 'Saosin', 'James Blake', 'Muse', 'Cradle of Filth', 'Fall Out Boy', 'Seether', 'Pentakill', 'Epic Rap Battles Of History', 'Motion City Soundtrack', 'Damien Rice', 'Lamb of God', 'deadmau5', 'M.I.A.', 'Team Sleep', 'Pink Floyd', 'Billy Talent', 'Dr. Dre', 'Coldplay', 'DIR EN GREY', 'Papa Roach', 'Coheed and Cambria', 'Evergreen Terrace', 'Ween', 'The White Stripes', 'Circa Survive', 'Limp Bizkit', 'Bring Me the Horizon', 'Ben Howard', 'Powerwolf', '36 Crazyfists', 'Flo Rida', 'Katy Perry', 'Mustasch'])\n"
     ]
    },
    {
     "name": "stdout",
     "output_type": "stream",
     "text": [
      "Persons with similarity greater than 0: ['NemoNightfall', 'SkyRif', 'emill_67', 'sattuviitana']\n",
      "Individual items: {'Theory of a Deadman', 'Magnus Uggla', 'Four Year Strong', 'Linkin Park', 'N.W.A', 'Shinedown', 'Green Day', 'Daughter', 'Godsmack', 'Breaking Benjamin', 'Freestyle', 'Hans Zimmer', 'In Flames', 'Bayside', 'Alexisonfire', 'blink-182', 'Foo Fighters', 'Atoms for Peace', 'Queen', 'Iron Maiden', 'Lady Gaga', 'Wu-Tang Clan', 'Halestorm', 'Nine Inch Nails', 'Parkway Drive', 'Stone Sour', 'The Wonder Years', 'Boston', 'Panic! at the Disco', 'Arctic Monkeys', 'Warpaint', 'Pendulum', 'Disturbed', 'The Dear Hunter', 'Krewella', 'Red Hot Chili Peppers', 'Ke$ha', '30 Seconds to Mars', 'Oh, Sleeper', 'Dark Tranquillity', 'All Time Low', 'Bullet for My Valentine', 'White Zombie', 'Die Antwoord', 'Nobuo Uematsu', 'Soulfly', 'AFI', 'Misfits', 'New Found Glory', 'Rage Against the Machine', 'Three Days Grace', 'Machine Head', 'Queens of the Stone Age', 'Tenacious D', 'Dimmu Borgir', 'Gallows', 'Metallica', 'Leevi and the Leavings', 'System of a Down', 'Arch Enemy', 'Pantera', 'Demon Hunter', 'Marina and the Diamonds', 'Gyllene Tider', 'Howard Shore', 'Cruel Hand', 'Black Label Society', 'Rob Zombie', 'Beach House', 'Madonna', 'Radiohead', 'Calvin Harris', 'Wintersun', 'Evanescence', 'Rammstein', 'Memphis May Fire', 'Sum 41', 'Tool', 'Korn', 'Amon Amarth', 'DragonForce', 'Sonata Arctica', 'Lacuna Coil', 'My Chemical Romance', 'Hozier', 'Pitty', 'Nirvana', 'P.D.P.', 'Soilwork', 'Scar Symmetry', 'Mogwai', 'A Perfect Circle', 'Electric Light Orchestra', 'Mumford & Sons', 'The Killers', 'Trivium', 'Dmitri Shostakovich', 'The Band', 'Cat Power', 'Dope', 'Deftones', 'Volbeat', 'Becoming the Archetype', 'Killswitch Engage', 'Stam1na', 'Sick Puppies', 'Black Veil Brides', 'Children of Bodom', 'Five Finger Death Punch', 'Saosin', 'James Blake', 'Muse', 'Cradle of Filth', 'Fall Out Boy', 'Seether', 'Pentakill', 'Epic Rap Battles Of History', 'Motion City Soundtrack', 'Damien Rice', 'Nightwish', 'Lamb of God', 'deadmau5', 'M.I.A.', 'Sabaton', 'Team Sleep', 'Lindemann', 'Amorphis', 'Pink Floyd', 'Billy Talent', 'Dr. Dre', 'Coldplay', 'Avenged Sevenfold', 'DIR EN GREY', 'Papa Roach', 'Coheed and Cambria', 'Evergreen Terrace', 'Klamydia', 'Ween', 'The White Stripes', 'Circa Survive', 'Turmion Kätilöt', 'Limp Bizkit', 'Bring Me the Horizon', 'Ben Howard', 'Powerwolf', '36 Crazyfists', 'Flo Rida', 'Slipknot', 'Katy Perry', 'Energy', 'Mustasch'}\n",
      "Items that BrunoJoS has not rated: dict_keys(['Theory of a Deadman', 'Magnus Uggla', 'Four Year Strong', 'N.W.A', 'Shinedown', 'Daughter', 'Godsmack', 'Breaking Benjamin', 'Freestyle', 'Hans Zimmer', 'In Flames', 'Bayside', 'Alexisonfire', 'blink-182', 'Atoms for Peace', 'Queen', 'Iron Maiden', 'Wu-Tang Clan', 'Halestorm', 'Nine Inch Nails', 'Parkway Drive', 'Stone Sour', 'The Wonder Years', 'Boston', 'Panic! at the Disco', 'Warpaint', 'Pendulum', 'Disturbed', 'The Dear Hunter', 'Krewella', 'Red Hot Chili Peppers', 'Ke$ha', 'Oh, Sleeper', 'Dark Tranquillity', 'All Time Low', 'Bullet for My Valentine', 'White Zombie', 'Die Antwoord', 'Nobuo Uematsu', 'Soulfly', 'AFI', 'Energy', 'Misfits', 'New Found Glory', 'Rage Against the Machine', 'Machine Head', 'Tenacious D', 'Dimmu Borgir', 'Gallows', 'Metallica', 'Leevi and the Leavings', 'Arch Enemy', 'Pantera', 'Demon Hunter', 'Marina and the Diamonds', 'Gyllene Tider', 'Howard Shore', 'Cruel Hand', 'Black Label Society', 'Rob Zombie', 'Beach House', 'Calvin Harris', 'Wintersun', 'Evanescence', 'Memphis May Fire', 'Tool', 'Korn', 'Amon Amarth', 'DragonForce', 'Sonata Arctica', 'Lacuna Coil', 'My Chemical Romance', 'Hozier', 'Nirvana', 'P.D.P.', 'Soilwork', 'Scar Symmetry', 'Mogwai', 'A Perfect Circle', 'Electric Light Orchestra', 'Mumford & Sons', 'Trivium', 'Dmitri Shostakovich', 'The Band', 'Cat Power', 'Dope', 'Deftones', 'Volbeat', 'Becoming the Archetype', 'Killswitch Engage', 'Stam1na', 'Sick Puppies', 'Black Veil Brides', 'Children of Bodom', 'Five Finger Death Punch', 'Saosin', 'James Blake', 'Cradle of Filth', 'Fall Out Boy', 'Seether', 'Pentakill', 'Epic Rap Battles Of History', 'Motion City Soundtrack', 'Damien Rice', 'Nightwish', 'Lamb of God', 'deadmau5', 'Sabaton', 'Team Sleep', 'Lindemann', 'Amorphis', 'Pink Floyd', 'Billy Talent', 'Dr. Dre', 'Avenged Sevenfold', 'DIR EN GREY', 'Coheed and Cambria', 'Evergreen Terrace', 'Klamydia', 'Ween', 'The White Stripes', 'Circa Survive', 'Turmion Kätilöt', 'Limp Bizkit', 'Bring Me the Horizon', 'Ben Howard', 'Powerwolf', '36 Crazyfists', 'Flo Rida', 'Katy Perry', 'Mustasch'])\n",
      "Persons with similarity greater than 0: []\n",
      "Individual items: {'Theory of a Deadman', 'Magnus Uggla', 'Four Year Strong', 'Linkin Park', 'N.W.A', 'Shinedown', 'Green Day', 'Daughter', 'Godsmack', 'Breaking Benjamin', 'Freestyle', 'Hans Zimmer', 'In Flames', 'Bayside', 'Alexisonfire', 'blink-182', 'Foo Fighters', 'Atoms for Peace', 'Queen', 'Iron Maiden', 'Lady Gaga', 'Wu-Tang Clan', 'Halestorm', 'Nine Inch Nails', 'Parkway Drive', 'Stone Sour', 'The Wonder Years', 'Boston', 'Panic! at the Disco', 'Arctic Monkeys', 'Warpaint', 'Pendulum', 'Disturbed', 'The Dear Hunter', 'Krewella', 'Red Hot Chili Peppers', 'Ke$ha', '30 Seconds to Mars', 'Oh, Sleeper', 'Dark Tranquillity', 'All Time Low', 'Bullet for My Valentine', 'White Zombie', 'Die Antwoord', 'Nobuo Uematsu', 'Soulfly', 'AFI', 'Misfits', 'New Found Glory', 'Rage Against the Machine', 'Three Days Grace', 'Machine Head', 'Queens of the Stone Age', 'Tenacious D', 'Dimmu Borgir', 'Gallows', 'Metallica', 'Leevi and the Leavings', 'System of a Down', 'Arch Enemy', 'Pantera', 'Demon Hunter', 'Marina and the Diamonds', 'Gyllene Tider', 'Howard Shore', 'Cruel Hand', 'Black Label Society', 'Rob Zombie', 'Beach House', 'Madonna', 'Radiohead', 'Calvin Harris', 'Wintersun', 'Evanescence', 'Rammstein', 'Memphis May Fire', 'Sum 41', 'Tool', 'Korn', 'Amon Amarth', 'DragonForce', 'Sonata Arctica', 'Lacuna Coil', 'My Chemical Romance', 'Hozier', 'Pitty', 'Nirvana', 'P.D.P.', 'Soilwork', 'Scar Symmetry', 'Mogwai', 'A Perfect Circle', 'Electric Light Orchestra', 'Mumford & Sons', 'The Killers', 'Trivium', 'Dmitri Shostakovich', 'The Band', 'Cat Power', 'Dope', 'Deftones', 'Volbeat', 'Becoming the Archetype', 'Killswitch Engage', 'Stam1na', 'Sick Puppies', 'Black Veil Brides', 'Children of Bodom', 'Five Finger Death Punch', 'Saosin', 'James Blake', 'Muse', 'Cradle of Filth', 'Fall Out Boy', 'Seether', 'Pentakill', 'Epic Rap Battles Of History', 'Motion City Soundtrack', 'Damien Rice', 'Nightwish', 'Lamb of God', 'deadmau5', 'M.I.A.', 'Sabaton', 'Team Sleep', 'Lindemann', 'Amorphis', 'Pink Floyd', 'Billy Talent', 'Dr. Dre', 'Coldplay', 'Avenged Sevenfold', 'DIR EN GREY', 'Papa Roach', 'Coheed and Cambria', 'Evergreen Terrace', 'Klamydia', 'Ween', 'The White Stripes', 'Circa Survive', 'Turmion Kätilöt', 'Limp Bizkit', 'Bring Me the Horizon', 'Ben Howard', 'Powerwolf', '36 Crazyfists', 'Flo Rida', 'Slipknot', 'Katy Perry', 'Energy', 'Mustasch'}\n",
      "Items that DPREBOYE has not rated: dict_keys(['Theory of a Deadman', 'Magnus Uggla', 'Four Year Strong', 'Linkin Park', 'Shinedown', 'Green Day', 'Godsmack', 'Breaking Benjamin', 'Freestyle', 'Hans Zimmer', 'In Flames', 'Bayside', 'Alexisonfire', 'blink-182', 'Foo Fighters', 'Queen', 'Iron Maiden', 'Lady Gaga', 'Halestorm', 'Nine Inch Nails', 'Parkway Drive', 'Stone Sour', 'The Wonder Years', 'Boston', 'Panic! at the Disco', 'Pendulum', 'Disturbed', 'The Dear Hunter', 'Krewella', 'Red Hot Chili Peppers', 'Ke$ha', '30 Seconds to Mars', 'Oh, Sleeper', 'Dark Tranquillity', 'All Time Low', 'Bullet for My Valentine', 'White Zombie', 'Nobuo Uematsu', 'Soulfly', 'AFI', 'Energy', 'Misfits', 'New Found Glory', 'Three Days Grace', 'Machine Head', 'Queens of the Stone Age', 'Tenacious D', 'Dimmu Borgir', 'Gallows', 'Metallica', 'Leevi and the Leavings', 'Arch Enemy', 'Pantera', 'Demon Hunter', 'Marina and the Diamonds', 'Gyllene Tider', 'Howard Shore', 'Cruel Hand', 'Black Label Society', 'Rob Zombie', 'Madonna', 'Radiohead', 'Calvin Harris', 'Wintersun', 'Evanescence', 'Rammstein', 'Memphis May Fire', 'Sum 41', 'Tool', 'Korn', 'Amon Amarth', 'DragonForce', 'Sonata Arctica', 'Lacuna Coil', 'My Chemical Romance', 'Pitty', 'P.D.P.', 'Soilwork', 'Scar Symmetry', 'A Perfect Circle', 'Electric Light Orchestra', 'Mumford & Sons', 'The Killers', 'Trivium', 'Dmitri Shostakovich', 'Dope', 'Deftones', 'Volbeat', 'Becoming the Archetype', 'Killswitch Engage', 'Stam1na', 'Sick Puppies', 'Black Veil Brides', 'Children of Bodom', 'Five Finger Death Punch', 'Saosin', 'Muse', 'Cradle of Filth', 'Fall Out Boy', 'Seether', 'Pentakill', 'Epic Rap Battles Of History', 'Motion City Soundtrack', 'Nightwish', 'Lamb of God', 'deadmau5', 'M.I.A.', 'Sabaton', 'Team Sleep', 'Lindemann', 'Amorphis', 'Pink Floyd', 'Billy Talent', 'Coldplay', 'Avenged Sevenfold', 'Papa Roach', 'Coheed and Cambria', 'Evergreen Terrace', 'Klamydia', 'Ween', 'Circa Survive', 'Turmion Kätilöt', 'Limp Bizkit', 'Bring Me the Horizon', 'Ben Howard', 'Powerwolf', '36 Crazyfists', 'Flo Rida', 'Katy Perry', 'System of a Down', 'Mustasch'])\n"
     ]
    },
    {
     "name": "stdout",
     "output_type": "stream",
     "text": [
      "Persons with similarity greater than 0: ['NemoNightfall', 'SkyRif', 'Znapsen', 'cortapsyco', 'emill_67', 'sattuviitana']\n",
      "Individual items: {'Theory of a Deadman', 'Magnus Uggla', 'Four Year Strong', 'Linkin Park', 'N.W.A', 'Shinedown', 'Green Day', 'Daughter', 'Godsmack', 'Breaking Benjamin', 'Freestyle', 'Hans Zimmer', 'In Flames', 'Bayside', 'Alexisonfire', 'blink-182', 'Foo Fighters', 'Atoms for Peace', 'Queen', 'Iron Maiden', 'Lady Gaga', 'Wu-Tang Clan', 'Halestorm', 'Nine Inch Nails', 'Parkway Drive', 'Stone Sour', 'The Wonder Years', 'Boston', 'Panic! at the Disco', 'Arctic Monkeys', 'Warpaint', 'Pendulum', 'Disturbed', 'The Dear Hunter', 'Krewella', 'Red Hot Chili Peppers', 'Ke$ha', '30 Seconds to Mars', 'Oh, Sleeper', 'Dark Tranquillity', 'All Time Low', 'Bullet for My Valentine', 'White Zombie', 'Die Antwoord', 'Nobuo Uematsu', 'Soulfly', 'AFI', 'Misfits', 'New Found Glory', 'Rage Against the Machine', 'Three Days Grace', 'Machine Head', 'Queens of the Stone Age', 'Tenacious D', 'Dimmu Borgir', 'Gallows', 'Metallica', 'Leevi and the Leavings', 'System of a Down', 'Arch Enemy', 'Pantera', 'Demon Hunter', 'Marina and the Diamonds', 'Gyllene Tider', 'Howard Shore', 'Cruel Hand', 'Black Label Society', 'Rob Zombie', 'Beach House', 'Madonna', 'Radiohead', 'Calvin Harris', 'Wintersun', 'Evanescence', 'Rammstein', 'Memphis May Fire', 'Sum 41', 'Tool', 'Korn', 'Amon Amarth', 'DragonForce', 'Sonata Arctica', 'Lacuna Coil', 'My Chemical Romance', 'Hozier', 'Pitty', 'Nirvana', 'P.D.P.', 'Soilwork', 'Scar Symmetry', 'Mogwai', 'A Perfect Circle', 'Electric Light Orchestra', 'Mumford & Sons', 'The Killers', 'Trivium', 'Dmitri Shostakovich', 'The Band', 'Cat Power', 'Dope', 'Deftones', 'Volbeat', 'Becoming the Archetype', 'Killswitch Engage', 'Stam1na', 'Sick Puppies', 'Black Veil Brides', 'Children of Bodom', 'Five Finger Death Punch', 'Saosin', 'James Blake', 'Muse', 'Cradle of Filth', 'Fall Out Boy', 'Seether', 'Pentakill', 'Epic Rap Battles Of History', 'Motion City Soundtrack', 'Damien Rice', 'Nightwish', 'Lamb of God', 'deadmau5', 'M.I.A.', 'Sabaton', 'Team Sleep', 'Lindemann', 'Amorphis', 'Pink Floyd', 'Billy Talent', 'Dr. Dre', 'Coldplay', 'Avenged Sevenfold', 'DIR EN GREY', 'Papa Roach', 'Coheed and Cambria', 'Evergreen Terrace', 'Klamydia', 'Ween', 'The White Stripes', 'Circa Survive', 'Turmion Kätilöt', 'Limp Bizkit', 'Bring Me the Horizon', 'Ben Howard', 'Powerwolf', '36 Crazyfists', 'Flo Rida', 'Slipknot', 'Katy Perry', 'Energy', 'Mustasch'}\n",
      "Items that MPistol40 has not rated: dict_keys(['Theory of a Deadman', 'Magnus Uggla', 'Four Year Strong', 'Linkin Park', 'N.W.A', 'Shinedown', 'Green Day', 'Daughter', 'Godsmack', 'Breaking Benjamin', 'Freestyle', 'Hans Zimmer', 'Bayside', 'Alexisonfire', 'blink-182', 'Foo Fighters', 'Atoms for Peace', 'Queen', 'Iron Maiden', 'Lady Gaga', 'Wu-Tang Clan', 'Halestorm', 'Parkway Drive', 'The Wonder Years', 'Boston', 'Panic! at the Disco', 'Arctic Monkeys', 'Warpaint', 'Disturbed', 'The Dear Hunter', 'Krewella', 'Ke$ha', '30 Seconds to Mars', 'Oh, Sleeper', 'All Time Low', 'Bullet for My Valentine', 'White Zombie', 'Die Antwoord', 'Nobuo Uematsu', 'AFI', 'Energy', 'Misfits', 'New Found Glory', 'Three Days Grace', 'Machine Head', 'Queens of the Stone Age', 'Tenacious D', 'Dimmu Borgir', 'Gallows', 'Metallica', 'Leevi and the Leavings', 'Arch Enemy', 'Pantera', 'Demon Hunter', 'Marina and the Diamonds', 'Gyllene Tider', 'Howard Shore', 'Cruel Hand', 'Black Label Society', 'Rob Zombie', 'Beach House', 'Madonna', 'Radiohead', 'Calvin Harris', 'Wintersun', 'Evanescence', 'Rammstein', 'Memphis May Fire', 'Sum 41', 'Amon Amarth', 'DragonForce', 'Sonata Arctica', 'Lacuna Coil', 'My Chemical Romance', 'Hozier', 'Pitty', 'Nirvana', 'P.D.P.', 'Mogwai', 'Electric Light Orchestra', 'Mumford & Sons', 'The Killers', 'Trivium', 'The Band', 'Cat Power', 'Dope', 'Volbeat', 'Becoming the Archetype', 'Killswitch Engage', 'Stam1na', 'Sick Puppies', 'Black Veil Brides', 'Children of Bodom', 'Five Finger Death Punch', 'Saosin', 'James Blake', 'Muse', 'Cradle of Filth', 'Fall Out Boy', 'Seether', 'Pentakill', 'Epic Rap Battles Of History', 'Motion City Soundtrack', 'Damien Rice', 'Nightwish', 'Lamb of God', 'deadmau5', 'M.I.A.', 'Sabaton', 'Lindemann', 'Amorphis', 'Pink Floyd', 'Billy Talent', 'Dr. Dre', 'Coldplay', 'Avenged Sevenfold', 'DIR EN GREY', 'Papa Roach', 'Coheed and Cambria', 'Evergreen Terrace', 'Klamydia', 'Ween', 'The White Stripes', 'Circa Survive', 'Turmion Kätilöt', 'Bring Me the Horizon', 'Ben Howard', 'Powerwolf', 'Flo Rida', 'Katy Perry', 'Mustasch'])\n",
      "Persons with similarity greater than 0: ['BrunoJoS', 'MPistol40', 'SkyRif', 'sattuviitana']\n",
      "Individual items: {'Theory of a Deadman', 'Magnus Uggla', 'Four Year Strong', 'Linkin Park', 'N.W.A', 'Shinedown', 'Green Day', 'Daughter', 'Godsmack', 'Breaking Benjamin', 'Freestyle', 'Hans Zimmer', 'In Flames', 'Bayside', 'Alexisonfire', 'blink-182', 'Foo Fighters', 'Atoms for Peace', 'Queen', 'Iron Maiden', 'Lady Gaga', 'Wu-Tang Clan', 'Halestorm', 'Nine Inch Nails', 'Parkway Drive', 'Stone Sour', 'The Wonder Years', 'Boston', 'Panic! at the Disco', 'Arctic Monkeys', 'Warpaint', 'Pendulum', 'Disturbed', 'The Dear Hunter', 'Krewella', 'Red Hot Chili Peppers', 'Ke$ha', '30 Seconds to Mars', 'Oh, Sleeper', 'Dark Tranquillity', 'All Time Low', 'Bullet for My Valentine', 'White Zombie', 'Die Antwoord', 'Nobuo Uematsu', 'Soulfly', 'AFI', 'Misfits', 'New Found Glory', 'Rage Against the Machine', 'Three Days Grace', 'Machine Head', 'Queens of the Stone Age', 'Tenacious D', 'Dimmu Borgir', 'Gallows', 'Metallica', 'Leevi and the Leavings', 'System of a Down', 'Arch Enemy', 'Pantera', 'Demon Hunter', 'Marina and the Diamonds', 'Gyllene Tider', 'Howard Shore', 'Cruel Hand', 'Black Label Society', 'Rob Zombie', 'Beach House', 'Madonna', 'Radiohead', 'Calvin Harris', 'Wintersun', 'Evanescence', 'Rammstein', 'Memphis May Fire', 'Sum 41', 'Tool', 'Korn', 'Amon Amarth', 'DragonForce', 'Sonata Arctica', 'Lacuna Coil', 'My Chemical Romance', 'Hozier', 'Pitty', 'Nirvana', 'P.D.P.', 'Soilwork', 'Scar Symmetry', 'Mogwai', 'A Perfect Circle', 'Electric Light Orchestra', 'Mumford & Sons', 'The Killers', 'Trivium', 'Dmitri Shostakovich', 'The Band', 'Cat Power', 'Dope', 'Deftones', 'Volbeat', 'Becoming the Archetype', 'Killswitch Engage', 'Stam1na', 'Sick Puppies', 'Black Veil Brides', 'Children of Bodom', 'Five Finger Death Punch', 'Saosin', 'James Blake', 'Muse', 'Cradle of Filth', 'Fall Out Boy', 'Seether', 'Pentakill', 'Epic Rap Battles Of History', 'Motion City Soundtrack', 'Damien Rice', 'Nightwish', 'Lamb of God', 'deadmau5', 'M.I.A.', 'Sabaton', 'Team Sleep', 'Lindemann', 'Amorphis', 'Pink Floyd', 'Billy Talent', 'Dr. Dre', 'Coldplay', 'Avenged Sevenfold', 'DIR EN GREY', 'Papa Roach', 'Coheed and Cambria', 'Evergreen Terrace', 'Klamydia', 'Ween', 'The White Stripes', 'Circa Survive', 'Turmion Kätilöt', 'Limp Bizkit', 'Bring Me the Horizon', 'Ben Howard', 'Powerwolf', '36 Crazyfists', 'Flo Rida', 'Slipknot', 'Katy Perry', 'Energy', 'Mustasch'}\n",
      "Items that NemoNightfall has not rated: dict_keys(['Theory of a Deadman', 'Magnus Uggla', 'Four Year Strong', 'N.W.A', 'Shinedown', 'Green Day', 'Daughter', 'Godsmack', 'Freestyle', 'Hans Zimmer', 'In Flames', 'Bayside', 'blink-182', 'Foo Fighters', 'Atoms for Peace', 'Queen', 'Iron Maiden', 'Lady Gaga', 'Wu-Tang Clan', 'Halestorm', 'Nine Inch Nails', 'Parkway Drive', 'The Wonder Years', 'Boston', 'Panic! at the Disco', 'Arctic Monkeys', 'Warpaint', 'Pendulum', 'Disturbed', 'The Dear Hunter', 'Krewella', 'Red Hot Chili Peppers', 'Ke$ha', 'Dark Tranquillity', 'White Zombie', 'Die Antwoord', 'Nobuo Uematsu', 'Soulfly', 'AFI', 'Energy', 'Misfits', 'New Found Glory', 'Rage Against the Machine', 'Machine Head', 'Queens of the Stone Age', 'Tenacious D', 'Dimmu Borgir', 'Gallows', 'Metallica', 'Leevi and the Leavings', 'Arch Enemy', 'Pantera', 'Demon Hunter', 'Marina and the Diamonds', 'Gyllene Tider', 'Howard Shore', 'Cruel Hand', 'Black Label Society', 'Rob Zombie', 'Beach House', 'Madonna', 'Radiohead', 'Calvin Harris', 'Wintersun', 'Evanescence', 'Rammstein', 'Sum 41', 'Tool', 'Korn', 'Amon Amarth', 'DragonForce', 'Sonata Arctica', 'Lacuna Coil', 'My Chemical Romance', 'Hozier', 'Pitty', 'Nirvana', 'P.D.P.', 'Soilwork', 'Scar Symmetry', 'Mogwai', 'A Perfect Circle', 'Electric Light Orchestra', 'The Killers', 'Dmitri Shostakovich', 'The Band', 'Cat Power', 'Dope', 'Deftones', 'Volbeat', 'Becoming the Archetype', 'Killswitch Engage', 'Stam1na', 'Black Veil Brides', 'Children of Bodom', 'Saosin', 'James Blake', 'Muse', 'Cradle of Filth', 'Fall Out Boy', 'Seether', 'Pentakill', 'Epic Rap Battles Of History', 'Motion City Soundtrack', 'Damien Rice', 'Nightwish', 'Lamb of God', 'deadmau5', 'M.I.A.', 'Sabaton', 'Team Sleep', 'Lindemann', 'Amorphis', 'Pink Floyd', 'Dr. Dre', 'Coldplay', 'Avenged Sevenfold', 'DIR EN GREY', 'Coheed and Cambria', 'Evergreen Terrace', 'Klamydia', 'Ween', 'The White Stripes', 'Circa Survive', 'Turmion Kätilöt', 'Limp Bizkit', 'Powerwolf', '36 Crazyfists', 'Flo Rida', 'Katy Perry', 'Mustasch'])\n"
     ]
    },
    {
     "name": "stdout",
     "output_type": "stream",
     "text": [
      "Persons with similarity greater than 0: ['BrunoJoS', 'MPistol40', 'NemoNightfall', 'Znapsen', 'emill_67', 'sattuviitana']\n",
      "Individual items: {'Theory of a Deadman', 'Magnus Uggla', 'Four Year Strong', 'Linkin Park', 'N.W.A', 'Shinedown', 'Green Day', 'Daughter', 'Godsmack', 'Breaking Benjamin', 'Freestyle', 'Hans Zimmer', 'In Flames', 'Bayside', 'Alexisonfire', 'blink-182', 'Foo Fighters', 'Atoms for Peace', 'Queen', 'Iron Maiden', 'Lady Gaga', 'Wu-Tang Clan', 'Halestorm', 'Nine Inch Nails', 'Parkway Drive', 'Stone Sour', 'The Wonder Years', 'Boston', 'Panic! at the Disco', 'Arctic Monkeys', 'Warpaint', 'Pendulum', 'Disturbed', 'The Dear Hunter', 'Krewella', 'Red Hot Chili Peppers', 'Ke$ha', '30 Seconds to Mars', 'Oh, Sleeper', 'Dark Tranquillity', 'All Time Low', 'Bullet for My Valentine', 'White Zombie', 'Die Antwoord', 'Nobuo Uematsu', 'Soulfly', 'AFI', 'Misfits', 'New Found Glory', 'Rage Against the Machine', 'Three Days Grace', 'Machine Head', 'Queens of the Stone Age', 'Tenacious D', 'Dimmu Borgir', 'Gallows', 'Metallica', 'Leevi and the Leavings', 'System of a Down', 'Arch Enemy', 'Pantera', 'Demon Hunter', 'Marina and the Diamonds', 'Gyllene Tider', 'Howard Shore', 'Cruel Hand', 'Black Label Society', 'Rob Zombie', 'Beach House', 'Madonna', 'Radiohead', 'Calvin Harris', 'Wintersun', 'Evanescence', 'Rammstein', 'Memphis May Fire', 'Sum 41', 'Tool', 'Korn', 'Amon Amarth', 'DragonForce', 'Sonata Arctica', 'Lacuna Coil', 'My Chemical Romance', 'Hozier', 'Pitty', 'Nirvana', 'P.D.P.', 'Soilwork', 'Scar Symmetry', 'Mogwai', 'A Perfect Circle', 'Electric Light Orchestra', 'Mumford & Sons', 'The Killers', 'Trivium', 'Dmitri Shostakovich', 'The Band', 'Cat Power', 'Dope', 'Deftones', 'Volbeat', 'Becoming the Archetype', 'Killswitch Engage', 'Stam1na', 'Sick Puppies', 'Black Veil Brides', 'Children of Bodom', 'Five Finger Death Punch', 'Saosin', 'James Blake', 'Muse', 'Cradle of Filth', 'Fall Out Boy', 'Seether', 'Pentakill', 'Epic Rap Battles Of History', 'Motion City Soundtrack', 'Damien Rice', 'Nightwish', 'Lamb of God', 'deadmau5', 'M.I.A.', 'Sabaton', 'Team Sleep', 'Lindemann', 'Amorphis', 'Pink Floyd', 'Billy Talent', 'Dr. Dre', 'Coldplay', 'Avenged Sevenfold', 'DIR EN GREY', 'Papa Roach', 'Coheed and Cambria', 'Evergreen Terrace', 'Klamydia', 'Ween', 'The White Stripes', 'Circa Survive', 'Turmion Kätilöt', 'Limp Bizkit', 'Bring Me the Horizon', 'Ben Howard', 'Powerwolf', '36 Crazyfists', 'Flo Rida', 'Slipknot', 'Katy Perry', 'Energy', 'Mustasch'}\n",
      "Items that SkyRif has not rated: dict_keys(['Theory of a Deadman', 'Magnus Uggla', 'Four Year Strong', 'N.W.A', 'Shinedown', 'Green Day', 'Daughter', 'Godsmack', 'Breaking Benjamin', 'Freestyle', 'In Flames', 'Bayside', 'Alexisonfire', 'blink-182', 'Foo Fighters', 'Atoms for Peace', 'Queen', 'Iron Maiden', 'Lady Gaga', 'Wu-Tang Clan', 'Halestorm', 'Nine Inch Nails', 'Parkway Drive', 'The Wonder Years', 'Boston', 'Panic! at the Disco', 'Arctic Monkeys', 'Warpaint', 'Pendulum', 'Disturbed', 'The Dear Hunter', 'Krewella', 'Ke$ha', '30 Seconds to Mars', 'Oh, Sleeper', 'Dark Tranquillity', 'All Time Low', 'Bullet for My Valentine', 'White Zombie', 'Die Antwoord', 'Nobuo Uematsu', 'Soulfly', 'AFI', 'Energy', 'Misfits', 'New Found Glory', 'Three Days Grace', 'Machine Head', 'Queens of the Stone Age', 'Dimmu Borgir', 'Gallows', 'Leevi and the Leavings', 'Pantera', 'Demon Hunter', 'Marina and the Diamonds', 'Gyllene Tider', 'Cruel Hand', 'Black Label Society', 'Rob Zombie', 'Beach House', 'Madonna', 'Radiohead', 'Calvin Harris', 'Evanescence', 'Rammstein', 'Memphis May Fire', 'Sum 41', 'Tool', 'Sonata Arctica', 'Lacuna Coil', 'My Chemical Romance', 'Hozier', 'Pitty', 'Nirvana', 'P.D.P.', 'Soilwork', 'Scar Symmetry', 'Mogwai', 'A Perfect Circle', 'Electric Light Orchestra', 'Mumford & Sons', 'The Killers', 'Trivium', 'Dmitri Shostakovich', 'The Band', 'Cat Power', 'Dope', 'Deftones', 'Volbeat', 'Becoming the Archetype', 'Killswitch Engage', 'Stam1na', 'Sick Puppies', 'Black Veil Brides', 'Children of Bodom', 'Five Finger Death Punch', 'Saosin', 'James Blake', 'Muse', 'Cradle of Filth', 'Fall Out Boy', 'Seether', 'Epic Rap Battles Of History', 'Motion City Soundtrack', 'Damien Rice', 'Nightwish', 'deadmau5', 'M.I.A.', 'Team Sleep', 'Lindemann', 'Amorphis', 'Pink Floyd', 'Billy Talent', 'Dr. Dre', 'Coldplay', 'Avenged Sevenfold', 'DIR EN GREY', 'Coheed and Cambria', 'Evergreen Terrace', 'Klamydia', 'Ween', 'The White Stripes', 'Circa Survive', 'Turmion Kätilöt', 'Limp Bizkit', 'Bring Me the Horizon', 'Ben Howard', '36 Crazyfists', 'Flo Rida', 'Katy Perry', 'Mustasch'])\n",
      "Persons with similarity greater than 0: []\n",
      "Individual items: {'Theory of a Deadman', 'Magnus Uggla', 'Four Year Strong', 'Linkin Park', 'N.W.A', 'Shinedown', 'Green Day', 'Daughter', 'Godsmack', 'Breaking Benjamin', 'Freestyle', 'Hans Zimmer', 'In Flames', 'Bayside', 'Alexisonfire', 'blink-182', 'Foo Fighters', 'Atoms for Peace', 'Queen', 'Iron Maiden', 'Lady Gaga', 'Wu-Tang Clan', 'Halestorm', 'Nine Inch Nails', 'Parkway Drive', 'Stone Sour', 'The Wonder Years', 'Boston', 'Panic! at the Disco', 'Arctic Monkeys', 'Warpaint', 'Pendulum', 'Disturbed', 'The Dear Hunter', 'Krewella', 'Red Hot Chili Peppers', 'Ke$ha', '30 Seconds to Mars', 'Oh, Sleeper', 'Dark Tranquillity', 'All Time Low', 'Bullet for My Valentine', 'White Zombie', 'Die Antwoord', 'Nobuo Uematsu', 'Soulfly', 'AFI', 'Misfits', 'New Found Glory', 'Rage Against the Machine', 'Three Days Grace', 'Machine Head', 'Queens of the Stone Age', 'Tenacious D', 'Dimmu Borgir', 'Gallows', 'Metallica', 'Leevi and the Leavings', 'System of a Down', 'Arch Enemy', 'Pantera', 'Demon Hunter', 'Marina and the Diamonds', 'Gyllene Tider', 'Howard Shore', 'Cruel Hand', 'Black Label Society', 'Rob Zombie', 'Beach House', 'Madonna', 'Radiohead', 'Calvin Harris', 'Wintersun', 'Evanescence', 'Rammstein', 'Memphis May Fire', 'Sum 41', 'Tool', 'Korn', 'Amon Amarth', 'DragonForce', 'Sonata Arctica', 'Lacuna Coil', 'My Chemical Romance', 'Hozier', 'Pitty', 'Nirvana', 'P.D.P.', 'Soilwork', 'Scar Symmetry', 'Mogwai', 'A Perfect Circle', 'Electric Light Orchestra', 'Mumford & Sons', 'The Killers', 'Trivium', 'Dmitri Shostakovich', 'The Band', 'Cat Power', 'Dope', 'Deftones', 'Volbeat', 'Becoming the Archetype', 'Killswitch Engage', 'Stam1na', 'Sick Puppies', 'Black Veil Brides', 'Children of Bodom', 'Five Finger Death Punch', 'Saosin', 'James Blake', 'Muse', 'Cradle of Filth', 'Fall Out Boy', 'Seether', 'Pentakill', 'Epic Rap Battles Of History', 'Motion City Soundtrack', 'Damien Rice', 'Nightwish', 'Lamb of God', 'deadmau5', 'M.I.A.', 'Sabaton', 'Team Sleep', 'Lindemann', 'Amorphis', 'Pink Floyd', 'Billy Talent', 'Dr. Dre', 'Coldplay', 'Avenged Sevenfold', 'DIR EN GREY', 'Papa Roach', 'Coheed and Cambria', 'Evergreen Terrace', 'Klamydia', 'Ween', 'The White Stripes', 'Circa Survive', 'Turmion Kätilöt', 'Limp Bizkit', 'Bring Me the Horizon', 'Ben Howard', 'Powerwolf', '36 Crazyfists', 'Flo Rida', 'Slipknot', 'Katy Perry', 'Energy', 'Mustasch'}\n",
      "Items that Wags1382 has not rated: dict_keys(['Theory of a Deadman', 'Magnus Uggla', 'Linkin Park', 'N.W.A', 'Shinedown', 'Green Day', 'Daughter', 'Godsmack', 'Breaking Benjamin', 'Freestyle', 'Hans Zimmer', 'In Flames', 'Alexisonfire', 'Foo Fighters', 'Atoms for Peace', 'Queen', 'Iron Maiden', 'Lady Gaga', 'Wu-Tang Clan', 'Halestorm', 'Nine Inch Nails', 'Stone Sour', 'Boston', 'Panic! at the Disco', 'Arctic Monkeys', 'Warpaint', 'Pendulum', 'Disturbed', 'Krewella', 'Red Hot Chili Peppers', 'Ke$ha', '30 Seconds to Mars', 'Oh, Sleeper', 'Dark Tranquillity', 'All Time Low', 'Bullet for My Valentine', 'White Zombie', 'Die Antwoord', 'Nobuo Uematsu', 'Soulfly', 'Rage Against the Machine', 'Three Days Grace', 'Machine Head', 'Queens of the Stone Age', 'Tenacious D', 'Dimmu Borgir', 'Metallica', 'Leevi and the Leavings', 'Arch Enemy', 'Pantera', 'Demon Hunter', 'Marina and the Diamonds', 'Gyllene Tider', 'Howard Shore', 'Black Label Society', 'Rob Zombie', 'Beach House', 'Madonna', 'Radiohead', 'Calvin Harris', 'Wintersun', 'Evanescence', 'Rammstein', 'Memphis May Fire', 'Sum 41', 'Tool', 'Korn', 'Amon Amarth', 'DragonForce', 'Sonata Arctica', 'Lacuna Coil', 'Hozier', 'Pitty', 'Nirvana', 'P.D.P.', 'Soilwork', 'Scar Symmetry', 'Mogwai', 'A Perfect Circle', 'Electric Light Orchestra', 'Mumford & Sons', 'The Killers', 'Trivium', 'Dmitri Shostakovich', 'The Band', 'Cat Power', 'Dope', 'Deftones', 'Volbeat', 'Becoming the Archetype', 'Killswitch Engage', 'Stam1na', 'Sick Puppies', 'Black Veil Brides', 'Children of Bodom', 'Five Finger Death Punch', 'James Blake', 'Muse', 'Cradle of Filth', 'Seether', 'Pentakill', 'Epic Rap Battles Of History', 'Damien Rice', 'Nightwish', 'Lamb of God', 'deadmau5', 'M.I.A.', 'Sabaton', 'Team Sleep', 'Lindemann', 'Amorphis', 'Pink Floyd', 'Billy Talent', 'Dr. Dre', 'Coldplay', 'Avenged Sevenfold', 'DIR EN GREY', 'Papa Roach', 'Klamydia', 'Ween', 'The White Stripes', 'Turmion Kätilöt', 'Limp Bizkit', 'Bring Me the Horizon', 'Ben Howard', 'Powerwolf', '36 Crazyfists', 'Flo Rida', 'Katy Perry', 'System of a Down', 'Mustasch'])\n"
     ]
    },
    {
     "name": "stdout",
     "output_type": "stream",
     "text": [
      "Persons with similarity greater than 0: ['MPistol40', 'SkyRif', 'emill_67', 'sattuviitana']\n",
      "Individual items: {'Theory of a Deadman', 'Magnus Uggla', 'Four Year Strong', 'Linkin Park', 'N.W.A', 'Shinedown', 'Green Day', 'Daughter', 'Godsmack', 'Breaking Benjamin', 'Freestyle', 'Hans Zimmer', 'In Flames', 'Bayside', 'Alexisonfire', 'blink-182', 'Foo Fighters', 'Atoms for Peace', 'Queen', 'Iron Maiden', 'Lady Gaga', 'Wu-Tang Clan', 'Halestorm', 'Nine Inch Nails', 'Parkway Drive', 'Stone Sour', 'The Wonder Years', 'Boston', 'Panic! at the Disco', 'Arctic Monkeys', 'Warpaint', 'Pendulum', 'Disturbed', 'The Dear Hunter', 'Krewella', 'Red Hot Chili Peppers', 'Ke$ha', '30 Seconds to Mars', 'Oh, Sleeper', 'Dark Tranquillity', 'All Time Low', 'Bullet for My Valentine', 'White Zombie', 'Die Antwoord', 'Nobuo Uematsu', 'Soulfly', 'AFI', 'Misfits', 'New Found Glory', 'Rage Against the Machine', 'Three Days Grace', 'Machine Head', 'Queens of the Stone Age', 'Tenacious D', 'Dimmu Borgir', 'Gallows', 'Metallica', 'Leevi and the Leavings', 'System of a Down', 'Arch Enemy', 'Pantera', 'Demon Hunter', 'Marina and the Diamonds', 'Gyllene Tider', 'Howard Shore', 'Cruel Hand', 'Black Label Society', 'Rob Zombie', 'Beach House', 'Madonna', 'Radiohead', 'Calvin Harris', 'Wintersun', 'Evanescence', 'Rammstein', 'Memphis May Fire', 'Sum 41', 'Tool', 'Korn', 'Amon Amarth', 'DragonForce', 'Sonata Arctica', 'Lacuna Coil', 'My Chemical Romance', 'Hozier', 'Pitty', 'Nirvana', 'P.D.P.', 'Soilwork', 'Scar Symmetry', 'Mogwai', 'A Perfect Circle', 'Electric Light Orchestra', 'Mumford & Sons', 'The Killers', 'Trivium', 'Dmitri Shostakovich', 'The Band', 'Cat Power', 'Dope', 'Deftones', 'Volbeat', 'Becoming the Archetype', 'Killswitch Engage', 'Stam1na', 'Sick Puppies', 'Black Veil Brides', 'Children of Bodom', 'Five Finger Death Punch', 'Saosin', 'James Blake', 'Muse', 'Cradle of Filth', 'Fall Out Boy', 'Seether', 'Pentakill', 'Epic Rap Battles Of History', 'Motion City Soundtrack', 'Damien Rice', 'Nightwish', 'Lamb of God', 'deadmau5', 'M.I.A.', 'Sabaton', 'Team Sleep', 'Lindemann', 'Amorphis', 'Pink Floyd', 'Billy Talent', 'Dr. Dre', 'Coldplay', 'Avenged Sevenfold', 'DIR EN GREY', 'Papa Roach', 'Coheed and Cambria', 'Evergreen Terrace', 'Klamydia', 'Ween', 'The White Stripes', 'Circa Survive', 'Turmion Kätilöt', 'Limp Bizkit', 'Bring Me the Horizon', 'Ben Howard', 'Powerwolf', '36 Crazyfists', 'Flo Rida', 'Slipknot', 'Katy Perry', 'Energy', 'Mustasch'}\n",
      "Items that Znapsen has not rated: dict_keys(['Theory of a Deadman', 'Four Year Strong', 'Linkin Park', 'N.W.A', 'Shinedown', 'Green Day', 'Daughter', 'Breaking Benjamin', 'Hans Zimmer', 'In Flames', 'Bayside', 'Alexisonfire', 'blink-182', 'Foo Fighters', 'Atoms for Peace', 'Queen', 'Iron Maiden', 'Lady Gaga', 'Wu-Tang Clan', 'Halestorm', 'Nine Inch Nails', 'Parkway Drive', 'Stone Sour', 'The Wonder Years', 'Boston', 'Panic! at the Disco', 'Arctic Monkeys', 'Warpaint', 'Pendulum', 'Disturbed', 'The Dear Hunter', 'Krewella', 'Red Hot Chili Peppers', 'Ke$ha', '30 Seconds to Mars', 'Oh, Sleeper', 'Dark Tranquillity', 'All Time Low', 'Bullet for My Valentine', 'Die Antwoord', 'Nobuo Uematsu', 'Soulfly', 'AFI', 'Energy', 'Misfits', 'New Found Glory', 'Rage Against the Machine', 'Three Days Grace', 'Queens of the Stone Age', 'Tenacious D', 'Dimmu Borgir', 'Gallows', 'Leevi and the Leavings', 'Arch Enemy', 'Demon Hunter', 'Marina and the Diamonds', 'Howard Shore', 'Cruel Hand', 'Rob Zombie', 'Beach House', 'Madonna', 'Radiohead', 'Calvin Harris', 'Wintersun', 'Evanescence', 'Memphis May Fire', 'Sum 41', 'Tool', 'Amon Amarth', 'DragonForce', 'Sonata Arctica', 'Lacuna Coil', 'My Chemical Romance', 'Hozier', 'Pitty', 'Nirvana', 'Soilwork', 'Scar Symmetry', 'Mogwai', 'A Perfect Circle', 'Electric Light Orchestra', 'Mumford & Sons', 'The Killers', 'Trivium', 'Dmitri Shostakovich', 'The Band', 'Cat Power', 'Deftones', 'Volbeat', 'Becoming the Archetype', 'Killswitch Engage', 'Stam1na', 'Sick Puppies', 'Black Veil Brides', 'Children of Bodom', 'Saosin', 'James Blake', 'Muse', 'Cradle of Filth', 'Fall Out Boy', 'Seether', 'Pentakill', 'Epic Rap Battles Of History', 'Motion City Soundtrack', 'Damien Rice', 'Nightwish', 'deadmau5', 'M.I.A.', 'Sabaton', 'Team Sleep', 'Lindemann', 'Amorphis', 'Billy Talent', 'Dr. Dre', 'Coldplay', 'DIR EN GREY', 'Papa Roach', 'Coheed and Cambria', 'Evergreen Terrace', 'Klamydia', 'Ween', 'The White Stripes', 'Circa Survive', 'Turmion Kätilöt', 'Bring Me the Horizon', 'Ben Howard', 'Powerwolf', '36 Crazyfists', 'Flo Rida', 'Katy Perry', 'System of a Down'])\n",
      "Persons with similarity greater than 0: ['MPistol40']\n",
      "Individual items: {'Theory of a Deadman', 'Magnus Uggla', 'Four Year Strong', 'Linkin Park', 'N.W.A', 'Shinedown', 'Green Day', 'Daughter', 'Godsmack', 'Breaking Benjamin', 'Freestyle', 'Hans Zimmer', 'In Flames', 'Bayside', 'Alexisonfire', 'blink-182', 'Foo Fighters', 'Atoms for Peace', 'Queen', 'Iron Maiden', 'Lady Gaga', 'Wu-Tang Clan', 'Halestorm', 'Nine Inch Nails', 'Parkway Drive', 'Stone Sour', 'The Wonder Years', 'Boston', 'Panic! at the Disco', 'Arctic Monkeys', 'Warpaint', 'Pendulum', 'Disturbed', 'The Dear Hunter', 'Krewella', 'Red Hot Chili Peppers', 'Ke$ha', '30 Seconds to Mars', 'Oh, Sleeper', 'Dark Tranquillity', 'All Time Low', 'Bullet for My Valentine', 'White Zombie', 'Die Antwoord', 'Nobuo Uematsu', 'Soulfly', 'AFI', 'Misfits', 'New Found Glory', 'Rage Against the Machine', 'Three Days Grace', 'Machine Head', 'Queens of the Stone Age', 'Tenacious D', 'Dimmu Borgir', 'Gallows', 'Metallica', 'Leevi and the Leavings', 'System of a Down', 'Arch Enemy', 'Pantera', 'Demon Hunter', 'Marina and the Diamonds', 'Gyllene Tider', 'Howard Shore', 'Cruel Hand', 'Black Label Society', 'Rob Zombie', 'Beach House', 'Madonna', 'Radiohead', 'Calvin Harris', 'Wintersun', 'Evanescence', 'Rammstein', 'Memphis May Fire', 'Sum 41', 'Tool', 'Korn', 'Amon Amarth', 'DragonForce', 'Sonata Arctica', 'Lacuna Coil', 'My Chemical Romance', 'Hozier', 'Pitty', 'Nirvana', 'P.D.P.', 'Soilwork', 'Scar Symmetry', 'Mogwai', 'A Perfect Circle', 'Electric Light Orchestra', 'Mumford & Sons', 'The Killers', 'Trivium', 'Dmitri Shostakovich', 'The Band', 'Cat Power', 'Dope', 'Deftones', 'Volbeat', 'Becoming the Archetype', 'Killswitch Engage', 'Stam1na', 'Sick Puppies', 'Black Veil Brides', 'Children of Bodom', 'Five Finger Death Punch', 'Saosin', 'James Blake', 'Muse', 'Cradle of Filth', 'Fall Out Boy', 'Seether', 'Pentakill', 'Epic Rap Battles Of History', 'Motion City Soundtrack', 'Damien Rice', 'Nightwish', 'Lamb of God', 'deadmau5', 'M.I.A.', 'Sabaton', 'Team Sleep', 'Lindemann', 'Amorphis', 'Pink Floyd', 'Billy Talent', 'Dr. Dre', 'Coldplay', 'Avenged Sevenfold', 'DIR EN GREY', 'Papa Roach', 'Coheed and Cambria', 'Evergreen Terrace', 'Klamydia', 'Ween', 'The White Stripes', 'Circa Survive', 'Turmion Kätilöt', 'Limp Bizkit', 'Bring Me the Horizon', 'Ben Howard', 'Powerwolf', '36 Crazyfists', 'Flo Rida', 'Slipknot', 'Katy Perry', 'Energy', 'Mustasch'}\n",
      "Items that cortapsyco has not rated: dict_keys(['Theory of a Deadman', 'Magnus Uggla', 'Four Year Strong', 'Linkin Park', 'N.W.A', 'Shinedown', 'Green Day', 'Daughter', 'Godsmack', 'Breaking Benjamin', 'Freestyle', 'Hans Zimmer', 'In Flames', 'Bayside', 'Alexisonfire', 'blink-182', 'Foo Fighters', 'Atoms for Peace', 'Queen', 'Iron Maiden', 'Lady Gaga', 'Wu-Tang Clan', 'Nine Inch Nails', 'Parkway Drive', 'Stone Sour', 'The Wonder Years', 'Boston', 'Arctic Monkeys', 'Warpaint', 'Disturbed', 'The Dear Hunter', 'Red Hot Chili Peppers', '30 Seconds to Mars', 'Oh, Sleeper', 'Dark Tranquillity', 'All Time Low', 'Bullet for My Valentine', 'White Zombie', 'Die Antwoord', 'Soulfly', 'AFI', 'Energy', 'Misfits', 'New Found Glory', 'Rage Against the Machine', 'Three Days Grace', 'Machine Head', 'Queens of the Stone Age', 'Tenacious D', 'Gallows', 'Metallica', 'Leevi and the Leavings', 'Arch Enemy', 'Pantera', 'Gyllene Tider', 'Howard Shore', 'Cruel Hand', 'Black Label Society', 'Rob Zombie', 'Beach House', 'Madonna', 'Radiohead', 'Wintersun', 'Evanescence', 'Rammstein', 'Memphis May Fire', 'Sum 41', 'Tool', 'Korn', 'Amon Amarth', 'DragonForce', 'Sonata Arctica', 'My Chemical Romance', 'Hozier', 'Pitty', 'Nirvana', 'P.D.P.', 'Soilwork', 'Scar Symmetry', 'Mogwai', 'A Perfect Circle', 'Electric Light Orchestra', 'Mumford & Sons', 'The Killers', 'Trivium', 'Dmitri Shostakovich', 'The Band', 'Cat Power', 'Dope', 'Deftones', 'Volbeat', 'Stam1na', 'Sick Puppies', 'Children of Bodom', 'Five Finger Death Punch', 'Saosin', 'James Blake', 'Muse', 'Fall Out Boy', 'Seether', 'Pentakill', 'Epic Rap Battles Of History', 'Motion City Soundtrack', 'Damien Rice', 'Nightwish', 'Lamb of God', 'deadmau5', 'M.I.A.', 'Sabaton', 'Team Sleep', 'Lindemann', 'Amorphis', 'Pink Floyd', 'Billy Talent', 'Dr. Dre', 'Coldplay', 'Avenged Sevenfold', 'DIR EN GREY', 'Papa Roach', 'Evergreen Terrace', 'Klamydia', 'Ween', 'The White Stripes', 'Circa Survive', 'Turmion Kätilöt', 'Limp Bizkit', 'Bring Me the Horizon', 'Ben Howard', 'Powerwolf', '36 Crazyfists', 'Mustasch'])\n",
      "Persons with similarity greater than 0: ['BrunoJoS', 'MPistol40', 'SkyRif', 'Znapsen', 'sattuviitana']\n",
      "Individual items: {'Theory of a Deadman', 'Magnus Uggla', 'Four Year Strong', 'Linkin Park', 'N.W.A', 'Shinedown', 'Green Day', 'Daughter', 'Godsmack', 'Breaking Benjamin', 'Freestyle', 'Hans Zimmer', 'In Flames', 'Bayside', 'Alexisonfire', 'blink-182', 'Foo Fighters', 'Atoms for Peace', 'Queen', 'Iron Maiden', 'Lady Gaga', 'Wu-Tang Clan', 'Halestorm', 'Nine Inch Nails', 'Parkway Drive', 'Stone Sour', 'The Wonder Years', 'Boston', 'Panic! at the Disco', 'Arctic Monkeys', 'Warpaint', 'Pendulum', 'Disturbed', 'The Dear Hunter', 'Krewella', 'Red Hot Chili Peppers', 'Ke$ha', '30 Seconds to Mars', 'Oh, Sleeper', 'Dark Tranquillity', 'All Time Low', 'Bullet for My Valentine', 'White Zombie', 'Die Antwoord', 'Nobuo Uematsu', 'Soulfly', 'AFI', 'Misfits', 'New Found Glory', 'Rage Against the Machine', 'Three Days Grace', 'Machine Head', 'Queens of the Stone Age', 'Tenacious D', 'Dimmu Borgir', 'Gallows', 'Metallica', 'Leevi and the Leavings', 'System of a Down', 'Arch Enemy', 'Pantera', 'Demon Hunter', 'Marina and the Diamonds', 'Gyllene Tider', 'Howard Shore', 'Cruel Hand', 'Black Label Society', 'Rob Zombie', 'Beach House', 'Madonna', 'Radiohead', 'Calvin Harris', 'Wintersun', 'Evanescence', 'Rammstein', 'Memphis May Fire', 'Sum 41', 'Tool', 'Korn', 'Amon Amarth', 'DragonForce', 'Sonata Arctica', 'Lacuna Coil', 'My Chemical Romance', 'Hozier', 'Pitty', 'Nirvana', 'P.D.P.', 'Soilwork', 'Scar Symmetry', 'Mogwai', 'A Perfect Circle', 'Electric Light Orchestra', 'Mumford & Sons', 'The Killers', 'Trivium', 'Dmitri Shostakovich', 'The Band', 'Cat Power', 'Dope', 'Deftones', 'Volbeat', 'Becoming the Archetype', 'Killswitch Engage', 'Stam1na', 'Sick Puppies', 'Black Veil Brides', 'Children of Bodom', 'Five Finger Death Punch', 'Saosin', 'James Blake', 'Muse', 'Cradle of Filth', 'Fall Out Boy', 'Seether', 'Pentakill', 'Epic Rap Battles Of History', 'Motion City Soundtrack', 'Damien Rice', 'Nightwish', 'Lamb of God', 'deadmau5', 'M.I.A.', 'Sabaton', 'Team Sleep', 'Lindemann', 'Amorphis', 'Pink Floyd', 'Billy Talent', 'Dr. Dre', 'Coldplay', 'Avenged Sevenfold', 'DIR EN GREY', 'Papa Roach', 'Coheed and Cambria', 'Evergreen Terrace', 'Klamydia', 'Ween', 'The White Stripes', 'Circa Survive', 'Turmion Kätilöt', 'Limp Bizkit', 'Bring Me the Horizon', 'Ben Howard', 'Powerwolf', '36 Crazyfists', 'Flo Rida', 'Slipknot', 'Katy Perry', 'Energy', 'Mustasch'}\n",
      "Items that emill_67 has not rated: dict_keys(['Magnus Uggla', 'Four Year Strong', 'Linkin Park', 'N.W.A', 'Green Day', 'Daughter', 'Godsmack', 'Breaking Benjamin', 'Freestyle', 'Hans Zimmer', 'In Flames', 'Bayside', 'Alexisonfire', 'blink-182', 'Atoms for Peace', 'Queen', 'Lady Gaga', 'Wu-Tang Clan', 'Halestorm', 'Nine Inch Nails', 'Parkway Drive', 'Stone Sour', 'The Wonder Years', 'Panic! at the Disco', 'Arctic Monkeys', 'Warpaint', 'Pendulum', 'The Dear Hunter', 'Krewella', 'Ke$ha', '30 Seconds to Mars', 'Oh, Sleeper', 'Dark Tranquillity', 'All Time Low', 'Bullet for My Valentine', 'White Zombie', 'Die Antwoord', 'Nobuo Uematsu', 'Soulfly', 'AFI', 'Energy', 'Misfits', 'New Found Glory', 'Three Days Grace', 'Machine Head', 'Queens of the Stone Age', 'Tenacious D', 'Dimmu Borgir', 'Gallows', 'Metallica', 'Leevi and the Leavings', 'Arch Enemy', 'Pantera', 'Demon Hunter', 'Marina and the Diamonds', 'Gyllene Tider', 'Howard Shore', 'Cruel Hand', 'Black Label Society', 'Beach House', 'Madonna', 'Radiohead', 'Calvin Harris', 'Wintersun', 'Rammstein', 'Memphis May Fire', 'Sum 41', 'Tool', 'Amon Amarth', 'DragonForce', 'Sonata Arctica', 'Lacuna Coil', 'My Chemical Romance', 'Hozier', 'Pitty', 'Nirvana', 'P.D.P.', 'Soilwork', 'Scar Symmetry', 'Mogwai', 'A Perfect Circle', 'Mumford & Sons', 'The Killers', 'Trivium', 'Dmitri Shostakovich', 'The Band', 'Cat Power', 'Dope', 'Deftones', 'Volbeat', 'Becoming the Archetype', 'Killswitch Engage', 'Stam1na', 'Sick Puppies', 'Black Veil Brides', 'Children of Bodom', 'Saosin', 'James Blake', 'Cradle of Filth', 'Fall Out Boy', 'Pentakill', 'Motion City Soundtrack', 'Damien Rice', 'Nightwish', 'Lamb of God', 'M.I.A.', 'Sabaton', 'Team Sleep', 'Lindemann', 'Amorphis', 'Billy Talent', 'Dr. Dre', 'Coldplay', 'Avenged Sevenfold', 'DIR EN GREY', 'Papa Roach', 'Coheed and Cambria', 'Evergreen Terrace', 'Klamydia', 'The White Stripes', 'Circa Survive', 'Turmion Kätilöt', 'Limp Bizkit', 'Bring Me the Horizon', 'Ben Howard', 'Powerwolf', '36 Crazyfists', 'Flo Rida', 'Katy Perry', 'System of a Down', 'Mustasch'])\n"
     ]
    },
    {
     "name": "stdout",
     "output_type": "stream",
     "text": [
      "Persons with similarity greater than 0: ['BrunoJoS', 'MPistol40', 'NemoNightfall', 'SkyRif', 'Znapsen', 'emill_67']\n",
      "Individual items: {'Theory of a Deadman', 'Magnus Uggla', 'Four Year Strong', 'Linkin Park', 'N.W.A', 'Shinedown', 'Green Day', 'Daughter', 'Godsmack', 'Breaking Benjamin', 'Freestyle', 'Hans Zimmer', 'In Flames', 'Bayside', 'Alexisonfire', 'blink-182', 'Foo Fighters', 'Atoms for Peace', 'Queen', 'Iron Maiden', 'Lady Gaga', 'Wu-Tang Clan', 'Halestorm', 'Nine Inch Nails', 'Parkway Drive', 'Stone Sour', 'The Wonder Years', 'Boston', 'Panic! at the Disco', 'Arctic Monkeys', 'Warpaint', 'Pendulum', 'Disturbed', 'The Dear Hunter', 'Krewella', 'Red Hot Chili Peppers', 'Ke$ha', '30 Seconds to Mars', 'Oh, Sleeper', 'Dark Tranquillity', 'All Time Low', 'Bullet for My Valentine', 'White Zombie', 'Die Antwoord', 'Nobuo Uematsu', 'Soulfly', 'AFI', 'Misfits', 'New Found Glory', 'Rage Against the Machine', 'Three Days Grace', 'Machine Head', 'Queens of the Stone Age', 'Tenacious D', 'Dimmu Borgir', 'Gallows', 'Metallica', 'Leevi and the Leavings', 'System of a Down', 'Arch Enemy', 'Pantera', 'Demon Hunter', 'Marina and the Diamonds', 'Gyllene Tider', 'Howard Shore', 'Cruel Hand', 'Black Label Society', 'Rob Zombie', 'Beach House', 'Madonna', 'Radiohead', 'Calvin Harris', 'Wintersun', 'Evanescence', 'Rammstein', 'Memphis May Fire', 'Sum 41', 'Tool', 'Korn', 'Amon Amarth', 'DragonForce', 'Sonata Arctica', 'Lacuna Coil', 'My Chemical Romance', 'Hozier', 'Pitty', 'Nirvana', 'P.D.P.', 'Soilwork', 'Scar Symmetry', 'Mogwai', 'A Perfect Circle', 'Electric Light Orchestra', 'Mumford & Sons', 'The Killers', 'Trivium', 'Dmitri Shostakovich', 'The Band', 'Cat Power', 'Dope', 'Deftones', 'Volbeat', 'Becoming the Archetype', 'Killswitch Engage', 'Stam1na', 'Sick Puppies', 'Black Veil Brides', 'Children of Bodom', 'Five Finger Death Punch', 'Saosin', 'James Blake', 'Muse', 'Cradle of Filth', 'Fall Out Boy', 'Seether', 'Pentakill', 'Epic Rap Battles Of History', 'Motion City Soundtrack', 'Damien Rice', 'Nightwish', 'Lamb of God', 'deadmau5', 'M.I.A.', 'Sabaton', 'Team Sleep', 'Lindemann', 'Amorphis', 'Pink Floyd', 'Billy Talent', 'Dr. Dre', 'Coldplay', 'Avenged Sevenfold', 'DIR EN GREY', 'Papa Roach', 'Coheed and Cambria', 'Evergreen Terrace', 'Klamydia', 'Ween', 'The White Stripes', 'Circa Survive', 'Turmion Kätilöt', 'Limp Bizkit', 'Bring Me the Horizon', 'Ben Howard', 'Powerwolf', '36 Crazyfists', 'Flo Rida', 'Slipknot', 'Katy Perry', 'Energy', 'Mustasch'}\n",
      "Items that sattuviitana has not rated: dict_keys(['Theory of a Deadman', 'Magnus Uggla', 'Four Year Strong', 'Linkin Park', 'N.W.A', 'Shinedown', 'Green Day', 'Daughter', 'Godsmack', 'Breaking Benjamin', 'Freestyle', 'Hans Zimmer', 'Bayside', 'Alexisonfire', 'blink-182', 'Foo Fighters', 'Atoms for Peace', 'Iron Maiden', 'Lady Gaga', 'Wu-Tang Clan', 'Halestorm', 'Nine Inch Nails', 'Parkway Drive', 'Stone Sour', 'The Wonder Years', 'Boston', 'Panic! at the Disco', 'Arctic Monkeys', 'Warpaint', 'Pendulum', 'Disturbed', 'The Dear Hunter', 'Krewella', 'Red Hot Chili Peppers', 'Ke$ha', '30 Seconds to Mars', 'Oh, Sleeper', 'Dark Tranquillity', 'All Time Low', 'Bullet for My Valentine', 'White Zombie', 'Die Antwoord', 'Nobuo Uematsu', 'Soulfly', 'AFI', 'Energy', 'Misfits', 'New Found Glory', 'Rage Against the Machine', 'Three Days Grace', 'Machine Head', 'Queens of the Stone Age', 'Tenacious D', 'Dimmu Borgir', 'Gallows', 'Arch Enemy', 'Pantera', 'Demon Hunter', 'Marina and the Diamonds', 'Gyllene Tider', 'Howard Shore', 'Cruel Hand', 'Black Label Society', 'Rob Zombie', 'Beach House', 'Madonna', 'Radiohead', 'Calvin Harris', 'Wintersun', 'Evanescence', 'Memphis May Fire', 'Sum 41', 'Tool', 'Amon Amarth', 'DragonForce', 'Lacuna Coil', 'My Chemical Romance', 'Hozier', 'Pitty', 'Nirvana', 'P.D.P.', 'Soilwork', 'Scar Symmetry', 'Mogwai', 'A Perfect Circle', 'Electric Light Orchestra', 'Mumford & Sons', 'The Killers', 'Trivium', 'Dmitri Shostakovich', 'The Band', 'Cat Power', 'Dope', 'Deftones', 'Becoming the Archetype', 'Killswitch Engage', 'Sick Puppies', 'Black Veil Brides', 'Saosin', 'James Blake', 'Muse', 'Cradle of Filth', 'Fall Out Boy', 'Seether', 'Pentakill', 'Epic Rap Battles Of History', 'Motion City Soundtrack', 'Damien Rice', 'Lamb of God', 'deadmau5', 'M.I.A.', 'Team Sleep', 'Pink Floyd', 'Billy Talent', 'Dr. Dre', 'Coldplay', 'DIR EN GREY', 'Papa Roach', 'Coheed and Cambria', 'Evergreen Terrace', 'Ween', 'The White Stripes', 'Circa Survive', 'Limp Bizkit', 'Bring Me the Horizon', 'Ben Howard', 'Powerwolf', '36 Crazyfists', 'Flo Rida', 'Katy Perry', 'Mustasch'])\n",
      "Persons with similarity greater than 0: ['DPREBOYE', 'MPistol40', 'NemoNightfall', 'SkyRif', 'Wags1382', 'Znapsen', 'cortapsyco', 'emill_67', 'sattuviitana']\n",
      "Individual items: {'Theory of a Deadman', 'Magnus Uggla', 'Four Year Strong', 'Linkin Park', 'N.W.A', 'Shinedown', 'Green Day', 'Daughter', 'Godsmack', 'Breaking Benjamin', 'Freestyle', 'Hans Zimmer', 'In Flames', 'Bayside', 'Alexisonfire', 'blink-182', 'Foo Fighters', 'Atoms for Peace', 'Queen', 'Iron Maiden', 'Lady Gaga', 'Wu-Tang Clan', 'Halestorm', 'Nine Inch Nails', 'Parkway Drive', 'Stone Sour', 'The Wonder Years', 'Boston', 'Panic! at the Disco', 'Arctic Monkeys', 'Warpaint', 'Pendulum', 'Disturbed', 'The Dear Hunter', 'Krewella', 'Red Hot Chili Peppers', 'Ke$ha', '30 Seconds to Mars', 'Oh, Sleeper', 'Dark Tranquillity', 'All Time Low', 'Bullet for My Valentine', 'White Zombie', 'Die Antwoord', 'Nobuo Uematsu', 'Soulfly', 'AFI', 'Misfits', 'New Found Glory', 'Rage Against the Machine', 'Three Days Grace', 'Machine Head', 'Queens of the Stone Age', 'Tenacious D', 'Dimmu Borgir', 'Gallows', 'Metallica', 'Leevi and the Leavings', 'System of a Down', 'Arch Enemy', 'Pantera', 'Demon Hunter', 'Marina and the Diamonds', 'Gyllene Tider', 'Howard Shore', 'Cruel Hand', 'Black Label Society', 'Rob Zombie', 'Beach House', 'Madonna', 'Radiohead', 'Calvin Harris', 'Wintersun', 'Evanescence', 'Rammstein', 'Memphis May Fire', 'Sum 41', 'Tool', 'Korn', 'Amon Amarth', 'DragonForce', 'Sonata Arctica', 'Lacuna Coil', 'My Chemical Romance', 'Hozier', 'Pitty', 'Nirvana', 'P.D.P.', 'Soilwork', 'Scar Symmetry', 'Mogwai', 'A Perfect Circle', 'Electric Light Orchestra', 'Mumford & Sons', 'The Killers', 'Trivium', 'Dmitri Shostakovich', 'The Band', 'Cat Power', 'Dope', 'Deftones', 'Volbeat', 'Becoming the Archetype', 'Killswitch Engage', 'Stam1na', 'Sick Puppies', 'Black Veil Brides', 'Children of Bodom', 'Five Finger Death Punch', 'Saosin', 'James Blake', 'Muse', 'Cradle of Filth', 'Fall Out Boy', 'Seether', 'Pentakill', 'Epic Rap Battles Of History', 'Motion City Soundtrack', 'Damien Rice', 'Nightwish', 'Lamb of God', 'deadmau5', 'M.I.A.', 'Sabaton', 'Team Sleep', 'Lindemann', 'Amorphis', 'Pink Floyd', 'Billy Talent', 'Dr. Dre', 'Coldplay', 'Avenged Sevenfold', 'DIR EN GREY', 'Papa Roach', 'Coheed and Cambria', 'Evergreen Terrace', 'Klamydia', 'Ween', 'The White Stripes', 'Circa Survive', 'Turmion Kätilöt', 'Limp Bizkit', 'Bring Me the Horizon', 'Ben Howard', 'Powerwolf', '36 Crazyfists', 'Flo Rida', 'Slipknot', 'Katy Perry', 'Energy', 'Mustasch'}\n",
      "Items that BrunoJoS has not rated: dict_keys(['Theory of a Deadman', 'Magnus Uggla', 'Four Year Strong', 'N.W.A', 'Shinedown', 'Daughter', 'Godsmack', 'Breaking Benjamin', 'Freestyle', 'Hans Zimmer', 'In Flames', 'Bayside', 'Alexisonfire', 'blink-182', 'Atoms for Peace', 'Queen', 'Iron Maiden', 'Wu-Tang Clan', 'Halestorm', 'Nine Inch Nails', 'Parkway Drive', 'Stone Sour', 'The Wonder Years', 'Boston', 'Panic! at the Disco', 'Warpaint', 'Pendulum', 'Disturbed', 'The Dear Hunter', 'Krewella', 'Red Hot Chili Peppers', 'Ke$ha', 'Oh, Sleeper', 'Dark Tranquillity', 'All Time Low', 'Bullet for My Valentine', 'White Zombie', 'Die Antwoord', 'Nobuo Uematsu', 'Soulfly', 'AFI', 'Energy', 'Misfits', 'New Found Glory', 'Rage Against the Machine', 'Machine Head', 'Tenacious D', 'Dimmu Borgir', 'Gallows', 'Metallica', 'Leevi and the Leavings', 'Arch Enemy', 'Pantera', 'Demon Hunter', 'Marina and the Diamonds', 'Gyllene Tider', 'Howard Shore', 'Cruel Hand', 'Black Label Society', 'Rob Zombie', 'Beach House', 'Calvin Harris', 'Wintersun', 'Evanescence', 'Memphis May Fire', 'Tool', 'Korn', 'Amon Amarth', 'DragonForce', 'Sonata Arctica', 'Lacuna Coil', 'My Chemical Romance', 'Hozier', 'Nirvana', 'P.D.P.', 'Soilwork', 'Scar Symmetry', 'Mogwai', 'A Perfect Circle', 'Electric Light Orchestra', 'Mumford & Sons', 'Trivium', 'Dmitri Shostakovich', 'The Band', 'Cat Power', 'Dope', 'Deftones', 'Volbeat', 'Becoming the Archetype', 'Killswitch Engage', 'Stam1na', 'Sick Puppies', 'Black Veil Brides', 'Children of Bodom', 'Five Finger Death Punch', 'Saosin', 'James Blake', 'Cradle of Filth', 'Fall Out Boy', 'Seether', 'Pentakill', 'Epic Rap Battles Of History', 'Motion City Soundtrack', 'Damien Rice', 'Nightwish', 'Lamb of God', 'deadmau5', 'Sabaton', 'Team Sleep', 'Lindemann', 'Amorphis', 'Pink Floyd', 'Billy Talent', 'Dr. Dre', 'Avenged Sevenfold', 'DIR EN GREY', 'Coheed and Cambria', 'Evergreen Terrace', 'Klamydia', 'Ween', 'The White Stripes', 'Circa Survive', 'Turmion Kätilöt', 'Limp Bizkit', 'Bring Me the Horizon', 'Ben Howard', 'Powerwolf', '36 Crazyfists', 'Flo Rida', 'Katy Perry', 'Mustasch'])\n",
      "Persons with similarity greater than 0: ['BrunoJoS', 'MPistol40', 'NemoNightfall', 'SkyRif', 'Wags1382', 'Znapsen', 'cortapsyco', 'emill_67', 'sattuviitana']\n",
      "Individual items: {'Theory of a Deadman', 'Magnus Uggla', 'Four Year Strong', 'Linkin Park', 'N.W.A', 'Shinedown', 'Green Day', 'Daughter', 'Godsmack', 'Breaking Benjamin', 'Freestyle', 'Hans Zimmer', 'In Flames', 'Bayside', 'Alexisonfire', 'blink-182', 'Foo Fighters', 'Atoms for Peace', 'Queen', 'Iron Maiden', 'Lady Gaga', 'Wu-Tang Clan', 'Halestorm', 'Nine Inch Nails', 'Parkway Drive', 'Stone Sour', 'The Wonder Years', 'Boston', 'Panic! at the Disco', 'Arctic Monkeys', 'Warpaint', 'Pendulum', 'Disturbed', 'The Dear Hunter', 'Krewella', 'Red Hot Chili Peppers', 'Ke$ha', '30 Seconds to Mars', 'Oh, Sleeper', 'Dark Tranquillity', 'All Time Low', 'Bullet for My Valentine', 'White Zombie', 'Die Antwoord', 'Nobuo Uematsu', 'Soulfly', 'AFI', 'Misfits', 'New Found Glory', 'Rage Against the Machine', 'Three Days Grace', 'Machine Head', 'Queens of the Stone Age', 'Tenacious D', 'Dimmu Borgir', 'Gallows', 'Metallica', 'Leevi and the Leavings', 'System of a Down', 'Arch Enemy', 'Pantera', 'Demon Hunter', 'Marina and the Diamonds', 'Gyllene Tider', 'Howard Shore', 'Cruel Hand', 'Black Label Society', 'Rob Zombie', 'Beach House', 'Madonna', 'Radiohead', 'Calvin Harris', 'Wintersun', 'Evanescence', 'Rammstein', 'Memphis May Fire', 'Sum 41', 'Tool', 'Korn', 'Amon Amarth', 'DragonForce', 'Sonata Arctica', 'Lacuna Coil', 'My Chemical Romance', 'Hozier', 'Pitty', 'Nirvana', 'P.D.P.', 'Soilwork', 'Scar Symmetry', 'Mogwai', 'A Perfect Circle', 'Electric Light Orchestra', 'Mumford & Sons', 'The Killers', 'Trivium', 'Dmitri Shostakovich', 'The Band', 'Cat Power', 'Dope', 'Deftones', 'Volbeat', 'Becoming the Archetype', 'Killswitch Engage', 'Stam1na', 'Sick Puppies', 'Black Veil Brides', 'Children of Bodom', 'Five Finger Death Punch', 'Saosin', 'James Blake', 'Muse', 'Cradle of Filth', 'Fall Out Boy', 'Seether', 'Pentakill', 'Epic Rap Battles Of History', 'Motion City Soundtrack', 'Damien Rice', 'Nightwish', 'Lamb of God', 'deadmau5', 'M.I.A.', 'Sabaton', 'Team Sleep', 'Lindemann', 'Amorphis', 'Pink Floyd', 'Billy Talent', 'Dr. Dre', 'Coldplay', 'Avenged Sevenfold', 'DIR EN GREY', 'Papa Roach', 'Coheed and Cambria', 'Evergreen Terrace', 'Klamydia', 'Ween', 'The White Stripes', 'Circa Survive', 'Turmion Kätilöt', 'Limp Bizkit', 'Bring Me the Horizon', 'Ben Howard', 'Powerwolf', '36 Crazyfists', 'Flo Rida', 'Slipknot', 'Katy Perry', 'Energy', 'Mustasch'}\n",
      "Items that DPREBOYE has not rated: dict_keys(['Theory of a Deadman', 'Magnus Uggla', 'Four Year Strong', 'Linkin Park', 'Shinedown', 'Green Day', 'Godsmack', 'Breaking Benjamin', 'Freestyle', 'Hans Zimmer', 'In Flames', 'Bayside', 'Alexisonfire', 'blink-182', 'Foo Fighters', 'Queen', 'Iron Maiden', 'Lady Gaga', 'Halestorm', 'Nine Inch Nails', 'Parkway Drive', 'Stone Sour', 'The Wonder Years', 'Boston', 'Panic! at the Disco', 'Pendulum', 'Disturbed', 'The Dear Hunter', 'Krewella', 'Red Hot Chili Peppers', 'Ke$ha', '30 Seconds to Mars', 'Oh, Sleeper', 'Dark Tranquillity', 'All Time Low', 'Bullet for My Valentine', 'White Zombie', 'Nobuo Uematsu', 'Soulfly', 'AFI', 'Energy', 'Misfits', 'New Found Glory', 'Three Days Grace', 'Machine Head', 'Queens of the Stone Age', 'Tenacious D', 'Dimmu Borgir', 'Gallows', 'Metallica', 'Leevi and the Leavings', 'Arch Enemy', 'Pantera', 'Demon Hunter', 'Marina and the Diamonds', 'Gyllene Tider', 'Howard Shore', 'Cruel Hand', 'Black Label Society', 'Rob Zombie', 'Madonna', 'Radiohead', 'Calvin Harris', 'Wintersun', 'Evanescence', 'Rammstein', 'Memphis May Fire', 'Sum 41', 'Tool', 'Korn', 'Amon Amarth', 'DragonForce', 'Sonata Arctica', 'Lacuna Coil', 'My Chemical Romance', 'Pitty', 'P.D.P.', 'Soilwork', 'Scar Symmetry', 'A Perfect Circle', 'Electric Light Orchestra', 'Mumford & Sons', 'The Killers', 'Trivium', 'Dmitri Shostakovich', 'Dope', 'Deftones', 'Volbeat', 'Becoming the Archetype', 'Killswitch Engage', 'Stam1na', 'Sick Puppies', 'Black Veil Brides', 'Children of Bodom', 'Five Finger Death Punch', 'Saosin', 'Muse', 'Cradle of Filth', 'Fall Out Boy', 'Seether', 'Pentakill', 'Epic Rap Battles Of History', 'Motion City Soundtrack', 'Nightwish', 'Lamb of God', 'deadmau5', 'M.I.A.', 'Sabaton', 'Team Sleep', 'Lindemann', 'Amorphis', 'Pink Floyd', 'Billy Talent', 'Coldplay', 'Avenged Sevenfold', 'Papa Roach', 'Coheed and Cambria', 'Evergreen Terrace', 'Klamydia', 'Ween', 'Circa Survive', 'Turmion Kätilöt', 'Limp Bizkit', 'Bring Me the Horizon', 'Ben Howard', 'Powerwolf', '36 Crazyfists', 'Flo Rida', 'Katy Perry', 'System of a Down', 'Mustasch'])\n",
      "Persons with similarity greater than 0: ['BrunoJoS', 'DPREBOYE', 'NemoNightfall', 'SkyRif', 'Wags1382', 'Znapsen', 'cortapsyco', 'emill_67', 'sattuviitana']\n",
      "Individual items: {'Theory of a Deadman', 'Magnus Uggla', 'Four Year Strong', 'Linkin Park', 'N.W.A', 'Shinedown', 'Green Day', 'Daughter', 'Godsmack', 'Breaking Benjamin', 'Freestyle', 'Hans Zimmer', 'In Flames', 'Bayside', 'Alexisonfire', 'blink-182', 'Foo Fighters', 'Atoms for Peace', 'Queen', 'Iron Maiden', 'Lady Gaga', 'Wu-Tang Clan', 'Halestorm', 'Nine Inch Nails', 'Parkway Drive', 'Stone Sour', 'The Wonder Years', 'Boston', 'Panic! at the Disco', 'Arctic Monkeys', 'Warpaint', 'Pendulum', 'Disturbed', 'The Dear Hunter', 'Krewella', 'Red Hot Chili Peppers', 'Ke$ha', '30 Seconds to Mars', 'Oh, Sleeper', 'Dark Tranquillity', 'All Time Low', 'Bullet for My Valentine', 'White Zombie', 'Die Antwoord', 'Nobuo Uematsu', 'Soulfly', 'AFI', 'Misfits', 'New Found Glory', 'Rage Against the Machine', 'Three Days Grace', 'Machine Head', 'Queens of the Stone Age', 'Tenacious D', 'Dimmu Borgir', 'Gallows', 'Metallica', 'Leevi and the Leavings', 'System of a Down', 'Arch Enemy', 'Pantera', 'Demon Hunter', 'Marina and the Diamonds', 'Gyllene Tider', 'Howard Shore', 'Cruel Hand', 'Black Label Society', 'Rob Zombie', 'Beach House', 'Madonna', 'Radiohead', 'Calvin Harris', 'Wintersun', 'Evanescence', 'Rammstein', 'Memphis May Fire', 'Sum 41', 'Tool', 'Korn', 'Amon Amarth', 'DragonForce', 'Sonata Arctica', 'Lacuna Coil', 'My Chemical Romance', 'Hozier', 'Pitty', 'Nirvana', 'P.D.P.', 'Soilwork', 'Scar Symmetry', 'Mogwai', 'A Perfect Circle', 'Electric Light Orchestra', 'Mumford & Sons', 'The Killers', 'Trivium', 'Dmitri Shostakovich', 'The Band', 'Cat Power', 'Dope', 'Deftones', 'Volbeat', 'Becoming the Archetype', 'Killswitch Engage', 'Stam1na', 'Sick Puppies', 'Black Veil Brides', 'Children of Bodom', 'Five Finger Death Punch', 'Saosin', 'James Blake', 'Muse', 'Cradle of Filth', 'Fall Out Boy', 'Seether', 'Pentakill', 'Epic Rap Battles Of History', 'Motion City Soundtrack', 'Damien Rice', 'Nightwish', 'Lamb of God', 'deadmau5', 'M.I.A.', 'Sabaton', 'Team Sleep', 'Lindemann', 'Amorphis', 'Pink Floyd', 'Billy Talent', 'Dr. Dre', 'Coldplay', 'Avenged Sevenfold', 'DIR EN GREY', 'Papa Roach', 'Coheed and Cambria', 'Evergreen Terrace', 'Klamydia', 'Ween', 'The White Stripes', 'Circa Survive', 'Turmion Kätilöt', 'Limp Bizkit', 'Bring Me the Horizon', 'Ben Howard', 'Powerwolf', '36 Crazyfists', 'Flo Rida', 'Slipknot', 'Katy Perry', 'Energy', 'Mustasch'}\n",
      "Items that MPistol40 has not rated: dict_keys(['Theory of a Deadman', 'Magnus Uggla', 'Four Year Strong', 'Linkin Park', 'N.W.A', 'Shinedown', 'Green Day', 'Daughter', 'Godsmack', 'Breaking Benjamin', 'Freestyle', 'Hans Zimmer', 'Bayside', 'Alexisonfire', 'blink-182', 'Foo Fighters', 'Atoms for Peace', 'Queen', 'Iron Maiden', 'Lady Gaga', 'Wu-Tang Clan', 'Halestorm', 'Parkway Drive', 'The Wonder Years', 'Boston', 'Panic! at the Disco', 'Arctic Monkeys', 'Warpaint', 'Disturbed', 'The Dear Hunter', 'Krewella', 'Ke$ha', '30 Seconds to Mars', 'Oh, Sleeper', 'All Time Low', 'Bullet for My Valentine', 'White Zombie', 'Die Antwoord', 'Nobuo Uematsu', 'AFI', 'Energy', 'Misfits', 'New Found Glory', 'Three Days Grace', 'Machine Head', 'Queens of the Stone Age', 'Tenacious D', 'Dimmu Borgir', 'Gallows', 'Metallica', 'Leevi and the Leavings', 'Arch Enemy', 'Pantera', 'Demon Hunter', 'Marina and the Diamonds', 'Gyllene Tider', 'Howard Shore', 'Cruel Hand', 'Black Label Society', 'Rob Zombie', 'Beach House', 'Madonna', 'Radiohead', 'Calvin Harris', 'Wintersun', 'Evanescence', 'Rammstein', 'Memphis May Fire', 'Sum 41', 'Amon Amarth', 'DragonForce', 'Sonata Arctica', 'Lacuna Coil', 'My Chemical Romance', 'Hozier', 'Pitty', 'Nirvana', 'P.D.P.', 'Mogwai', 'Electric Light Orchestra', 'Mumford & Sons', 'The Killers', 'Trivium', 'The Band', 'Cat Power', 'Dope', 'Volbeat', 'Becoming the Archetype', 'Killswitch Engage', 'Stam1na', 'Sick Puppies', 'Black Veil Brides', 'Children of Bodom', 'Five Finger Death Punch', 'Saosin', 'James Blake', 'Muse', 'Cradle of Filth', 'Fall Out Boy', 'Seether', 'Pentakill', 'Epic Rap Battles Of History', 'Motion City Soundtrack', 'Damien Rice', 'Nightwish', 'Lamb of God', 'deadmau5', 'M.I.A.', 'Sabaton', 'Lindemann', 'Amorphis', 'Pink Floyd', 'Billy Talent', 'Dr. Dre', 'Coldplay', 'Avenged Sevenfold', 'DIR EN GREY', 'Papa Roach', 'Coheed and Cambria', 'Evergreen Terrace', 'Klamydia', 'Ween', 'The White Stripes', 'Circa Survive', 'Turmion Kätilöt', 'Bring Me the Horizon', 'Ben Howard', 'Powerwolf', 'Flo Rida', 'Katy Perry', 'Mustasch'])\n",
      "Persons with similarity greater than 0: ['BrunoJoS', 'DPREBOYE', 'MPistol40', 'SkyRif', 'Wags1382', 'Znapsen', 'cortapsyco', 'emill_67', 'sattuviitana']\n",
      "Individual items: {'Theory of a Deadman', 'Magnus Uggla', 'Four Year Strong', 'Linkin Park', 'N.W.A', 'Shinedown', 'Green Day', 'Daughter', 'Godsmack', 'Breaking Benjamin', 'Freestyle', 'Hans Zimmer', 'In Flames', 'Bayside', 'Alexisonfire', 'blink-182', 'Foo Fighters', 'Atoms for Peace', 'Queen', 'Iron Maiden', 'Lady Gaga', 'Wu-Tang Clan', 'Halestorm', 'Nine Inch Nails', 'Parkway Drive', 'Stone Sour', 'The Wonder Years', 'Boston', 'Panic! at the Disco', 'Arctic Monkeys', 'Warpaint', 'Pendulum', 'Disturbed', 'The Dear Hunter', 'Krewella', 'Red Hot Chili Peppers', 'Ke$ha', '30 Seconds to Mars', 'Oh, Sleeper', 'Dark Tranquillity', 'All Time Low', 'Bullet for My Valentine', 'White Zombie', 'Die Antwoord', 'Nobuo Uematsu', 'Soulfly', 'AFI', 'Misfits', 'New Found Glory', 'Rage Against the Machine', 'Three Days Grace', 'Machine Head', 'Queens of the Stone Age', 'Tenacious D', 'Dimmu Borgir', 'Gallows', 'Metallica', 'Leevi and the Leavings', 'System of a Down', 'Arch Enemy', 'Pantera', 'Demon Hunter', 'Marina and the Diamonds', 'Gyllene Tider', 'Howard Shore', 'Cruel Hand', 'Black Label Society', 'Rob Zombie', 'Beach House', 'Madonna', 'Radiohead', 'Calvin Harris', 'Wintersun', 'Evanescence', 'Rammstein', 'Memphis May Fire', 'Sum 41', 'Tool', 'Korn', 'Amon Amarth', 'DragonForce', 'Sonata Arctica', 'Lacuna Coil', 'My Chemical Romance', 'Hozier', 'Pitty', 'Nirvana', 'P.D.P.', 'Soilwork', 'Scar Symmetry', 'Mogwai', 'A Perfect Circle', 'Electric Light Orchestra', 'Mumford & Sons', 'The Killers', 'Trivium', 'Dmitri Shostakovich', 'The Band', 'Cat Power', 'Dope', 'Deftones', 'Volbeat', 'Becoming the Archetype', 'Killswitch Engage', 'Stam1na', 'Sick Puppies', 'Black Veil Brides', 'Children of Bodom', 'Five Finger Death Punch', 'Saosin', 'James Blake', 'Muse', 'Cradle of Filth', 'Fall Out Boy', 'Seether', 'Pentakill', 'Epic Rap Battles Of History', 'Motion City Soundtrack', 'Damien Rice', 'Nightwish', 'Lamb of God', 'deadmau5', 'M.I.A.', 'Sabaton', 'Team Sleep', 'Lindemann', 'Amorphis', 'Pink Floyd', 'Billy Talent', 'Dr. Dre', 'Coldplay', 'Avenged Sevenfold', 'DIR EN GREY', 'Papa Roach', 'Coheed and Cambria', 'Evergreen Terrace', 'Klamydia', 'Ween', 'The White Stripes', 'Circa Survive', 'Turmion Kätilöt', 'Limp Bizkit', 'Bring Me the Horizon', 'Ben Howard', 'Powerwolf', '36 Crazyfists', 'Flo Rida', 'Slipknot', 'Katy Perry', 'Energy', 'Mustasch'}\n",
      "Items that NemoNightfall has not rated: dict_keys(['Theory of a Deadman', 'Magnus Uggla', 'Four Year Strong', 'N.W.A', 'Shinedown', 'Green Day', 'Daughter', 'Godsmack', 'Freestyle', 'Hans Zimmer', 'In Flames', 'Bayside', 'blink-182', 'Foo Fighters', 'Atoms for Peace', 'Queen', 'Iron Maiden', 'Lady Gaga', 'Wu-Tang Clan', 'Halestorm', 'Nine Inch Nails', 'Parkway Drive', 'The Wonder Years', 'Boston', 'Panic! at the Disco', 'Arctic Monkeys', 'Warpaint', 'Pendulum', 'Disturbed', 'The Dear Hunter', 'Krewella', 'Red Hot Chili Peppers', 'Ke$ha', 'Dark Tranquillity', 'White Zombie', 'Die Antwoord', 'Nobuo Uematsu', 'Soulfly', 'AFI', 'Energy', 'Misfits', 'New Found Glory', 'Rage Against the Machine', 'Machine Head', 'Queens of the Stone Age', 'Tenacious D', 'Dimmu Borgir', 'Gallows', 'Metallica', 'Leevi and the Leavings', 'Arch Enemy', 'Pantera', 'Demon Hunter', 'Marina and the Diamonds', 'Gyllene Tider', 'Howard Shore', 'Cruel Hand', 'Black Label Society', 'Rob Zombie', 'Beach House', 'Madonna', 'Radiohead', 'Calvin Harris', 'Wintersun', 'Evanescence', 'Rammstein', 'Sum 41', 'Tool', 'Korn', 'Amon Amarth', 'DragonForce', 'Sonata Arctica', 'Lacuna Coil', 'My Chemical Romance', 'Hozier', 'Pitty', 'Nirvana', 'P.D.P.', 'Soilwork', 'Scar Symmetry', 'Mogwai', 'A Perfect Circle', 'Electric Light Orchestra', 'The Killers', 'Dmitri Shostakovich', 'The Band', 'Cat Power', 'Dope', 'Deftones', 'Volbeat', 'Becoming the Archetype', 'Killswitch Engage', 'Stam1na', 'Black Veil Brides', 'Children of Bodom', 'Saosin', 'James Blake', 'Muse', 'Cradle of Filth', 'Fall Out Boy', 'Seether', 'Pentakill', 'Epic Rap Battles Of History', 'Motion City Soundtrack', 'Damien Rice', 'Nightwish', 'Lamb of God', 'deadmau5', 'M.I.A.', 'Sabaton', 'Team Sleep', 'Lindemann', 'Amorphis', 'Pink Floyd', 'Dr. Dre', 'Coldplay', 'Avenged Sevenfold', 'DIR EN GREY', 'Coheed and Cambria', 'Evergreen Terrace', 'Klamydia', 'Ween', 'The White Stripes', 'Circa Survive', 'Turmion Kätilöt', 'Limp Bizkit', 'Powerwolf', '36 Crazyfists', 'Flo Rida', 'Katy Perry', 'Mustasch'])\n",
      "Persons with similarity greater than 0: ['BrunoJoS', 'DPREBOYE', 'MPistol40', 'NemoNightfall', 'Wags1382', 'Znapsen', 'cortapsyco', 'emill_67', 'sattuviitana']\n",
      "Individual items: {'Theory of a Deadman', 'Magnus Uggla', 'Four Year Strong', 'Linkin Park', 'N.W.A', 'Shinedown', 'Green Day', 'Daughter', 'Godsmack', 'Breaking Benjamin', 'Freestyle', 'Hans Zimmer', 'In Flames', 'Bayside', 'Alexisonfire', 'blink-182', 'Foo Fighters', 'Atoms for Peace', 'Queen', 'Iron Maiden', 'Lady Gaga', 'Wu-Tang Clan', 'Halestorm', 'Nine Inch Nails', 'Parkway Drive', 'Stone Sour', 'The Wonder Years', 'Boston', 'Panic! at the Disco', 'Arctic Monkeys', 'Warpaint', 'Pendulum', 'Disturbed', 'The Dear Hunter', 'Krewella', 'Red Hot Chili Peppers', 'Ke$ha', '30 Seconds to Mars', 'Oh, Sleeper', 'Dark Tranquillity', 'All Time Low', 'Bullet for My Valentine', 'White Zombie', 'Die Antwoord', 'Nobuo Uematsu', 'Soulfly', 'AFI', 'Misfits', 'New Found Glory', 'Rage Against the Machine', 'Three Days Grace', 'Machine Head', 'Queens of the Stone Age', 'Tenacious D', 'Dimmu Borgir', 'Gallows', 'Metallica', 'Leevi and the Leavings', 'System of a Down', 'Arch Enemy', 'Pantera', 'Demon Hunter', 'Marina and the Diamonds', 'Gyllene Tider', 'Howard Shore', 'Cruel Hand', 'Black Label Society', 'Rob Zombie', 'Beach House', 'Madonna', 'Radiohead', 'Calvin Harris', 'Wintersun', 'Evanescence', 'Rammstein', 'Memphis May Fire', 'Sum 41', 'Tool', 'Korn', 'Amon Amarth', 'DragonForce', 'Sonata Arctica', 'Lacuna Coil', 'My Chemical Romance', 'Hozier', 'Pitty', 'Nirvana', 'P.D.P.', 'Soilwork', 'Scar Symmetry', 'Mogwai', 'A Perfect Circle', 'Electric Light Orchestra', 'Mumford & Sons', 'The Killers', 'Trivium', 'Dmitri Shostakovich', 'The Band', 'Cat Power', 'Dope', 'Deftones', 'Volbeat', 'Becoming the Archetype', 'Killswitch Engage', 'Stam1na', 'Sick Puppies', 'Black Veil Brides', 'Children of Bodom', 'Five Finger Death Punch', 'Saosin', 'James Blake', 'Muse', 'Cradle of Filth', 'Fall Out Boy', 'Seether', 'Pentakill', 'Epic Rap Battles Of History', 'Motion City Soundtrack', 'Damien Rice', 'Nightwish', 'Lamb of God', 'deadmau5', 'M.I.A.', 'Sabaton', 'Team Sleep', 'Lindemann', 'Amorphis', 'Pink Floyd', 'Billy Talent', 'Dr. Dre', 'Coldplay', 'Avenged Sevenfold', 'DIR EN GREY', 'Papa Roach', 'Coheed and Cambria', 'Evergreen Terrace', 'Klamydia', 'Ween', 'The White Stripes', 'Circa Survive', 'Turmion Kätilöt', 'Limp Bizkit', 'Bring Me the Horizon', 'Ben Howard', 'Powerwolf', '36 Crazyfists', 'Flo Rida', 'Slipknot', 'Katy Perry', 'Energy', 'Mustasch'}\n",
      "Items that SkyRif has not rated: dict_keys(['Theory of a Deadman', 'Magnus Uggla', 'Four Year Strong', 'N.W.A', 'Shinedown', 'Green Day', 'Daughter', 'Godsmack', 'Breaking Benjamin', 'Freestyle', 'In Flames', 'Bayside', 'Alexisonfire', 'blink-182', 'Foo Fighters', 'Atoms for Peace', 'Queen', 'Iron Maiden', 'Lady Gaga', 'Wu-Tang Clan', 'Halestorm', 'Nine Inch Nails', 'Parkway Drive', 'The Wonder Years', 'Boston', 'Panic! at the Disco', 'Arctic Monkeys', 'Warpaint', 'Pendulum', 'Disturbed', 'The Dear Hunter', 'Krewella', 'Ke$ha', '30 Seconds to Mars', 'Oh, Sleeper', 'Dark Tranquillity', 'All Time Low', 'Bullet for My Valentine', 'White Zombie', 'Die Antwoord', 'Nobuo Uematsu', 'Soulfly', 'AFI', 'Energy', 'Misfits', 'New Found Glory', 'Three Days Grace', 'Machine Head', 'Queens of the Stone Age', 'Dimmu Borgir', 'Gallows', 'Leevi and the Leavings', 'Pantera', 'Demon Hunter', 'Marina and the Diamonds', 'Gyllene Tider', 'Cruel Hand', 'Black Label Society', 'Rob Zombie', 'Beach House', 'Madonna', 'Radiohead', 'Calvin Harris', 'Evanescence', 'Rammstein', 'Memphis May Fire', 'Sum 41', 'Tool', 'Sonata Arctica', 'Lacuna Coil', 'My Chemical Romance', 'Hozier', 'Pitty', 'Nirvana', 'P.D.P.', 'Soilwork', 'Scar Symmetry', 'Mogwai', 'A Perfect Circle', 'Electric Light Orchestra', 'Mumford & Sons', 'The Killers', 'Trivium', 'Dmitri Shostakovich', 'The Band', 'Cat Power', 'Dope', 'Deftones', 'Volbeat', 'Becoming the Archetype', 'Killswitch Engage', 'Stam1na', 'Sick Puppies', 'Black Veil Brides', 'Children of Bodom', 'Five Finger Death Punch', 'Saosin', 'James Blake', 'Muse', 'Cradle of Filth', 'Fall Out Boy', 'Seether', 'Epic Rap Battles Of History', 'Motion City Soundtrack', 'Damien Rice', 'Nightwish', 'deadmau5', 'M.I.A.', 'Team Sleep', 'Lindemann', 'Amorphis', 'Pink Floyd', 'Billy Talent', 'Dr. Dre', 'Coldplay', 'Avenged Sevenfold', 'DIR EN GREY', 'Coheed and Cambria', 'Evergreen Terrace', 'Klamydia', 'Ween', 'The White Stripes', 'Circa Survive', 'Turmion Kätilöt', 'Limp Bizkit', 'Bring Me the Horizon', 'Ben Howard', '36 Crazyfists', 'Flo Rida', 'Katy Perry', 'Mustasch'])\n"
     ]
    },
    {
     "name": "stdout",
     "output_type": "stream",
     "text": [
      "Persons with similarity greater than 0: ['BrunoJoS', 'DPREBOYE', 'MPistol40', 'NemoNightfall', 'SkyRif', 'Znapsen', 'cortapsyco', 'emill_67', 'sattuviitana']\n",
      "Individual items: {'Theory of a Deadman', 'Magnus Uggla', 'Four Year Strong', 'Linkin Park', 'N.W.A', 'Shinedown', 'Green Day', 'Daughter', 'Godsmack', 'Breaking Benjamin', 'Freestyle', 'Hans Zimmer', 'In Flames', 'Bayside', 'Alexisonfire', 'blink-182', 'Foo Fighters', 'Atoms for Peace', 'Queen', 'Iron Maiden', 'Lady Gaga', 'Wu-Tang Clan', 'Halestorm', 'Nine Inch Nails', 'Parkway Drive', 'Stone Sour', 'The Wonder Years', 'Boston', 'Panic! at the Disco', 'Arctic Monkeys', 'Warpaint', 'Pendulum', 'Disturbed', 'The Dear Hunter', 'Krewella', 'Red Hot Chili Peppers', 'Ke$ha', '30 Seconds to Mars', 'Oh, Sleeper', 'Dark Tranquillity', 'All Time Low', 'Bullet for My Valentine', 'White Zombie', 'Die Antwoord', 'Nobuo Uematsu', 'Soulfly', 'AFI', 'Misfits', 'New Found Glory', 'Rage Against the Machine', 'Three Days Grace', 'Machine Head', 'Queens of the Stone Age', 'Tenacious D', 'Dimmu Borgir', 'Gallows', 'Metallica', 'Leevi and the Leavings', 'System of a Down', 'Arch Enemy', 'Pantera', 'Demon Hunter', 'Marina and the Diamonds', 'Gyllene Tider', 'Howard Shore', 'Cruel Hand', 'Black Label Society', 'Rob Zombie', 'Beach House', 'Madonna', 'Radiohead', 'Calvin Harris', 'Wintersun', 'Evanescence', 'Rammstein', 'Memphis May Fire', 'Sum 41', 'Tool', 'Korn', 'Amon Amarth', 'DragonForce', 'Sonata Arctica', 'Lacuna Coil', 'My Chemical Romance', 'Hozier', 'Pitty', 'Nirvana', 'P.D.P.', 'Soilwork', 'Scar Symmetry', 'Mogwai', 'A Perfect Circle', 'Electric Light Orchestra', 'Mumford & Sons', 'The Killers', 'Trivium', 'Dmitri Shostakovich', 'The Band', 'Cat Power', 'Dope', 'Deftones', 'Volbeat', 'Becoming the Archetype', 'Killswitch Engage', 'Stam1na', 'Sick Puppies', 'Black Veil Brides', 'Children of Bodom', 'Five Finger Death Punch', 'Saosin', 'James Blake', 'Muse', 'Cradle of Filth', 'Fall Out Boy', 'Seether', 'Pentakill', 'Epic Rap Battles Of History', 'Motion City Soundtrack', 'Damien Rice', 'Nightwish', 'Lamb of God', 'deadmau5', 'M.I.A.', 'Sabaton', 'Team Sleep', 'Lindemann', 'Amorphis', 'Pink Floyd', 'Billy Talent', 'Dr. Dre', 'Coldplay', 'Avenged Sevenfold', 'DIR EN GREY', 'Papa Roach', 'Coheed and Cambria', 'Evergreen Terrace', 'Klamydia', 'Ween', 'The White Stripes', 'Circa Survive', 'Turmion Kätilöt', 'Limp Bizkit', 'Bring Me the Horizon', 'Ben Howard', 'Powerwolf', '36 Crazyfists', 'Flo Rida', 'Slipknot', 'Katy Perry', 'Energy', 'Mustasch'}\n",
      "Items that Wags1382 has not rated: dict_keys(['Theory of a Deadman', 'Magnus Uggla', 'Linkin Park', 'N.W.A', 'Shinedown', 'Green Day', 'Daughter', 'Godsmack', 'Breaking Benjamin', 'Freestyle', 'Hans Zimmer', 'In Flames', 'Alexisonfire', 'Foo Fighters', 'Atoms for Peace', 'Queen', 'Iron Maiden', 'Lady Gaga', 'Wu-Tang Clan', 'Halestorm', 'Nine Inch Nails', 'Stone Sour', 'Boston', 'Panic! at the Disco', 'Arctic Monkeys', 'Warpaint', 'Pendulum', 'Disturbed', 'Krewella', 'Red Hot Chili Peppers', 'Ke$ha', '30 Seconds to Mars', 'Oh, Sleeper', 'Dark Tranquillity', 'All Time Low', 'Bullet for My Valentine', 'White Zombie', 'Die Antwoord', 'Nobuo Uematsu', 'Soulfly', 'Rage Against the Machine', 'Three Days Grace', 'Machine Head', 'Queens of the Stone Age', 'Tenacious D', 'Dimmu Borgir', 'Metallica', 'Leevi and the Leavings', 'Arch Enemy', 'Pantera', 'Demon Hunter', 'Marina and the Diamonds', 'Gyllene Tider', 'Howard Shore', 'Black Label Society', 'Rob Zombie', 'Beach House', 'Madonna', 'Radiohead', 'Calvin Harris', 'Wintersun', 'Evanescence', 'Rammstein', 'Memphis May Fire', 'Sum 41', 'Tool', 'Korn', 'Amon Amarth', 'DragonForce', 'Sonata Arctica', 'Lacuna Coil', 'Hozier', 'Pitty', 'Nirvana', 'P.D.P.', 'Soilwork', 'Scar Symmetry', 'Mogwai', 'A Perfect Circle', 'Electric Light Orchestra', 'Mumford & Sons', 'The Killers', 'Trivium', 'Dmitri Shostakovich', 'The Band', 'Cat Power', 'Dope', 'Deftones', 'Volbeat', 'Becoming the Archetype', 'Killswitch Engage', 'Stam1na', 'Sick Puppies', 'Black Veil Brides', 'Children of Bodom', 'Five Finger Death Punch', 'James Blake', 'Muse', 'Cradle of Filth', 'Seether', 'Pentakill', 'Epic Rap Battles Of History', 'Damien Rice', 'Nightwish', 'Lamb of God', 'deadmau5', 'M.I.A.', 'Sabaton', 'Team Sleep', 'Lindemann', 'Amorphis', 'Pink Floyd', 'Billy Talent', 'Dr. Dre', 'Coldplay', 'Avenged Sevenfold', 'DIR EN GREY', 'Papa Roach', 'Klamydia', 'Ween', 'The White Stripes', 'Turmion Kätilöt', 'Limp Bizkit', 'Bring Me the Horizon', 'Ben Howard', 'Powerwolf', '36 Crazyfists', 'Flo Rida', 'Katy Perry', 'System of a Down', 'Mustasch'])\n",
      "Persons with similarity greater than 0: ['BrunoJoS', 'DPREBOYE', 'MPistol40', 'NemoNightfall', 'SkyRif', 'Wags1382', 'cortapsyco', 'emill_67', 'sattuviitana']\n",
      "Individual items: {'Theory of a Deadman', 'Magnus Uggla', 'Four Year Strong', 'Linkin Park', 'N.W.A', 'Shinedown', 'Green Day', 'Daughter', 'Godsmack', 'Breaking Benjamin', 'Freestyle', 'Hans Zimmer', 'In Flames', 'Bayside', 'Alexisonfire', 'blink-182', 'Foo Fighters', 'Atoms for Peace', 'Queen', 'Iron Maiden', 'Lady Gaga', 'Wu-Tang Clan', 'Halestorm', 'Nine Inch Nails', 'Parkway Drive', 'Stone Sour', 'The Wonder Years', 'Boston', 'Panic! at the Disco', 'Arctic Monkeys', 'Warpaint', 'Pendulum', 'Disturbed', 'The Dear Hunter', 'Krewella', 'Red Hot Chili Peppers', 'Ke$ha', '30 Seconds to Mars', 'Oh, Sleeper', 'Dark Tranquillity', 'All Time Low', 'Bullet for My Valentine', 'White Zombie', 'Die Antwoord', 'Nobuo Uematsu', 'Soulfly', 'AFI', 'Misfits', 'New Found Glory', 'Rage Against the Machine', 'Three Days Grace', 'Machine Head', 'Queens of the Stone Age', 'Tenacious D', 'Dimmu Borgir', 'Gallows', 'Metallica', 'Leevi and the Leavings', 'System of a Down', 'Arch Enemy', 'Pantera', 'Demon Hunter', 'Marina and the Diamonds', 'Gyllene Tider', 'Howard Shore', 'Cruel Hand', 'Black Label Society', 'Rob Zombie', 'Beach House', 'Madonna', 'Radiohead', 'Calvin Harris', 'Wintersun', 'Evanescence', 'Rammstein', 'Memphis May Fire', 'Sum 41', 'Tool', 'Korn', 'Amon Amarth', 'DragonForce', 'Sonata Arctica', 'Lacuna Coil', 'My Chemical Romance', 'Hozier', 'Pitty', 'Nirvana', 'P.D.P.', 'Soilwork', 'Scar Symmetry', 'Mogwai', 'A Perfect Circle', 'Electric Light Orchestra', 'Mumford & Sons', 'The Killers', 'Trivium', 'Dmitri Shostakovich', 'The Band', 'Cat Power', 'Dope', 'Deftones', 'Volbeat', 'Becoming the Archetype', 'Killswitch Engage', 'Stam1na', 'Sick Puppies', 'Black Veil Brides', 'Children of Bodom', 'Five Finger Death Punch', 'Saosin', 'James Blake', 'Muse', 'Cradle of Filth', 'Fall Out Boy', 'Seether', 'Pentakill', 'Epic Rap Battles Of History', 'Motion City Soundtrack', 'Damien Rice', 'Nightwish', 'Lamb of God', 'deadmau5', 'M.I.A.', 'Sabaton', 'Team Sleep', 'Lindemann', 'Amorphis', 'Pink Floyd', 'Billy Talent', 'Dr. Dre', 'Coldplay', 'Avenged Sevenfold', 'DIR EN GREY', 'Papa Roach', 'Coheed and Cambria', 'Evergreen Terrace', 'Klamydia', 'Ween', 'The White Stripes', 'Circa Survive', 'Turmion Kätilöt', 'Limp Bizkit', 'Bring Me the Horizon', 'Ben Howard', 'Powerwolf', '36 Crazyfists', 'Flo Rida', 'Slipknot', 'Katy Perry', 'Energy', 'Mustasch'}\n",
      "Items that Znapsen has not rated: dict_keys(['Theory of a Deadman', 'Four Year Strong', 'Linkin Park', 'N.W.A', 'Shinedown', 'Green Day', 'Daughter', 'Breaking Benjamin', 'Hans Zimmer', 'In Flames', 'Bayside', 'Alexisonfire', 'blink-182', 'Foo Fighters', 'Atoms for Peace', 'Queen', 'Iron Maiden', 'Lady Gaga', 'Wu-Tang Clan', 'Halestorm', 'Nine Inch Nails', 'Parkway Drive', 'Stone Sour', 'The Wonder Years', 'Boston', 'Panic! at the Disco', 'Arctic Monkeys', 'Warpaint', 'Pendulum', 'Disturbed', 'The Dear Hunter', 'Krewella', 'Red Hot Chili Peppers', 'Ke$ha', '30 Seconds to Mars', 'Oh, Sleeper', 'Dark Tranquillity', 'All Time Low', 'Bullet for My Valentine', 'Die Antwoord', 'Nobuo Uematsu', 'Soulfly', 'AFI', 'Energy', 'Misfits', 'New Found Glory', 'Rage Against the Machine', 'Three Days Grace', 'Queens of the Stone Age', 'Tenacious D', 'Dimmu Borgir', 'Gallows', 'Leevi and the Leavings', 'Arch Enemy', 'Demon Hunter', 'Marina and the Diamonds', 'Howard Shore', 'Cruel Hand', 'Rob Zombie', 'Beach House', 'Madonna', 'Radiohead', 'Calvin Harris', 'Wintersun', 'Evanescence', 'Memphis May Fire', 'Sum 41', 'Tool', 'Amon Amarth', 'DragonForce', 'Sonata Arctica', 'Lacuna Coil', 'My Chemical Romance', 'Hozier', 'Pitty', 'Nirvana', 'Soilwork', 'Scar Symmetry', 'Mogwai', 'A Perfect Circle', 'Electric Light Orchestra', 'Mumford & Sons', 'The Killers', 'Trivium', 'Dmitri Shostakovich', 'The Band', 'Cat Power', 'Deftones', 'Volbeat', 'Becoming the Archetype', 'Killswitch Engage', 'Stam1na', 'Sick Puppies', 'Black Veil Brides', 'Children of Bodom', 'Saosin', 'James Blake', 'Muse', 'Cradle of Filth', 'Fall Out Boy', 'Seether', 'Pentakill', 'Epic Rap Battles Of History', 'Motion City Soundtrack', 'Damien Rice', 'Nightwish', 'deadmau5', 'M.I.A.', 'Sabaton', 'Team Sleep', 'Lindemann', 'Amorphis', 'Billy Talent', 'Dr. Dre', 'Coldplay', 'DIR EN GREY', 'Papa Roach', 'Coheed and Cambria', 'Evergreen Terrace', 'Klamydia', 'Ween', 'The White Stripes', 'Circa Survive', 'Turmion Kätilöt', 'Bring Me the Horizon', 'Ben Howard', 'Powerwolf', '36 Crazyfists', 'Flo Rida', 'Katy Perry', 'System of a Down'])\n",
      "Persons with similarity greater than 0: ['BrunoJoS', 'DPREBOYE', 'MPistol40', 'NemoNightfall', 'SkyRif', 'Wags1382', 'Znapsen', 'emill_67', 'sattuviitana']\n",
      "Individual items: {'Theory of a Deadman', 'Magnus Uggla', 'Four Year Strong', 'Linkin Park', 'N.W.A', 'Shinedown', 'Green Day', 'Daughter', 'Godsmack', 'Breaking Benjamin', 'Freestyle', 'Hans Zimmer', 'In Flames', 'Bayside', 'Alexisonfire', 'blink-182', 'Foo Fighters', 'Atoms for Peace', 'Queen', 'Iron Maiden', 'Lady Gaga', 'Wu-Tang Clan', 'Halestorm', 'Nine Inch Nails', 'Parkway Drive', 'Stone Sour', 'The Wonder Years', 'Boston', 'Panic! at the Disco', 'Arctic Monkeys', 'Warpaint', 'Pendulum', 'Disturbed', 'The Dear Hunter', 'Krewella', 'Red Hot Chili Peppers', 'Ke$ha', '30 Seconds to Mars', 'Oh, Sleeper', 'Dark Tranquillity', 'All Time Low', 'Bullet for My Valentine', 'White Zombie', 'Die Antwoord', 'Nobuo Uematsu', 'Soulfly', 'AFI', 'Misfits', 'New Found Glory', 'Rage Against the Machine', 'Three Days Grace', 'Machine Head', 'Queens of the Stone Age', 'Tenacious D', 'Dimmu Borgir', 'Gallows', 'Metallica', 'Leevi and the Leavings', 'System of a Down', 'Arch Enemy', 'Pantera', 'Demon Hunter', 'Marina and the Diamonds', 'Gyllene Tider', 'Howard Shore', 'Cruel Hand', 'Black Label Society', 'Rob Zombie', 'Beach House', 'Madonna', 'Radiohead', 'Calvin Harris', 'Wintersun', 'Evanescence', 'Rammstein', 'Memphis May Fire', 'Sum 41', 'Tool', 'Korn', 'Amon Amarth', 'DragonForce', 'Sonata Arctica', 'Lacuna Coil', 'My Chemical Romance', 'Hozier', 'Pitty', 'Nirvana', 'P.D.P.', 'Soilwork', 'Scar Symmetry', 'Mogwai', 'A Perfect Circle', 'Electric Light Orchestra', 'Mumford & Sons', 'The Killers', 'Trivium', 'Dmitri Shostakovich', 'The Band', 'Cat Power', 'Dope', 'Deftones', 'Volbeat', 'Becoming the Archetype', 'Killswitch Engage', 'Stam1na', 'Sick Puppies', 'Black Veil Brides', 'Children of Bodom', 'Five Finger Death Punch', 'Saosin', 'James Blake', 'Muse', 'Cradle of Filth', 'Fall Out Boy', 'Seether', 'Pentakill', 'Epic Rap Battles Of History', 'Motion City Soundtrack', 'Damien Rice', 'Nightwish', 'Lamb of God', 'deadmau5', 'M.I.A.', 'Sabaton', 'Team Sleep', 'Lindemann', 'Amorphis', 'Pink Floyd', 'Billy Talent', 'Dr. Dre', 'Coldplay', 'Avenged Sevenfold', 'DIR EN GREY', 'Papa Roach', 'Coheed and Cambria', 'Evergreen Terrace', 'Klamydia', 'Ween', 'The White Stripes', 'Circa Survive', 'Turmion Kätilöt', 'Limp Bizkit', 'Bring Me the Horizon', 'Ben Howard', 'Powerwolf', '36 Crazyfists', 'Flo Rida', 'Slipknot', 'Katy Perry', 'Energy', 'Mustasch'}\n",
      "Items that cortapsyco has not rated: dict_keys(['Theory of a Deadman', 'Magnus Uggla', 'Four Year Strong', 'Linkin Park', 'N.W.A', 'Shinedown', 'Green Day', 'Daughter', 'Godsmack', 'Breaking Benjamin', 'Freestyle', 'Hans Zimmer', 'In Flames', 'Bayside', 'Alexisonfire', 'blink-182', 'Foo Fighters', 'Atoms for Peace', 'Queen', 'Iron Maiden', 'Lady Gaga', 'Wu-Tang Clan', 'Nine Inch Nails', 'Parkway Drive', 'Stone Sour', 'The Wonder Years', 'Boston', 'Arctic Monkeys', 'Warpaint', 'Disturbed', 'The Dear Hunter', 'Red Hot Chili Peppers', '30 Seconds to Mars', 'Oh, Sleeper', 'Dark Tranquillity', 'All Time Low', 'Bullet for My Valentine', 'White Zombie', 'Die Antwoord', 'Soulfly', 'AFI', 'Energy', 'Misfits', 'New Found Glory', 'Rage Against the Machine', 'Three Days Grace', 'Machine Head', 'Queens of the Stone Age', 'Tenacious D', 'Gallows', 'Metallica', 'Leevi and the Leavings', 'Arch Enemy', 'Pantera', 'Gyllene Tider', 'Howard Shore', 'Cruel Hand', 'Black Label Society', 'Rob Zombie', 'Beach House', 'Madonna', 'Radiohead', 'Wintersun', 'Evanescence', 'Rammstein', 'Memphis May Fire', 'Sum 41', 'Tool', 'Korn', 'Amon Amarth', 'DragonForce', 'Sonata Arctica', 'My Chemical Romance', 'Hozier', 'Pitty', 'Nirvana', 'P.D.P.', 'Soilwork', 'Scar Symmetry', 'Mogwai', 'A Perfect Circle', 'Electric Light Orchestra', 'Mumford & Sons', 'The Killers', 'Trivium', 'Dmitri Shostakovich', 'The Band', 'Cat Power', 'Dope', 'Deftones', 'Volbeat', 'Stam1na', 'Sick Puppies', 'Children of Bodom', 'Five Finger Death Punch', 'Saosin', 'James Blake', 'Muse', 'Fall Out Boy', 'Seether', 'Pentakill', 'Epic Rap Battles Of History', 'Motion City Soundtrack', 'Damien Rice', 'Nightwish', 'Lamb of God', 'deadmau5', 'M.I.A.', 'Sabaton', 'Team Sleep', 'Lindemann', 'Amorphis', 'Pink Floyd', 'Billy Talent', 'Dr. Dre', 'Coldplay', 'Avenged Sevenfold', 'DIR EN GREY', 'Papa Roach', 'Evergreen Terrace', 'Klamydia', 'Ween', 'The White Stripes', 'Circa Survive', 'Turmion Kätilöt', 'Limp Bizkit', 'Bring Me the Horizon', 'Ben Howard', 'Powerwolf', '36 Crazyfists', 'Mustasch'])\n",
      "Persons with similarity greater than 0: ['BrunoJoS', 'DPREBOYE', 'MPistol40', 'NemoNightfall', 'SkyRif', 'Wags1382', 'Znapsen', 'cortapsyco', 'sattuviitana']\n",
      "Individual items: {'Theory of a Deadman', 'Magnus Uggla', 'Four Year Strong', 'Linkin Park', 'N.W.A', 'Shinedown', 'Green Day', 'Daughter', 'Godsmack', 'Breaking Benjamin', 'Freestyle', 'Hans Zimmer', 'In Flames', 'Bayside', 'Alexisonfire', 'blink-182', 'Foo Fighters', 'Atoms for Peace', 'Queen', 'Iron Maiden', 'Lady Gaga', 'Wu-Tang Clan', 'Halestorm', 'Nine Inch Nails', 'Parkway Drive', 'Stone Sour', 'The Wonder Years', 'Boston', 'Panic! at the Disco', 'Arctic Monkeys', 'Warpaint', 'Pendulum', 'Disturbed', 'The Dear Hunter', 'Krewella', 'Red Hot Chili Peppers', 'Ke$ha', '30 Seconds to Mars', 'Oh, Sleeper', 'Dark Tranquillity', 'All Time Low', 'Bullet for My Valentine', 'White Zombie', 'Die Antwoord', 'Nobuo Uematsu', 'Soulfly', 'AFI', 'Misfits', 'New Found Glory', 'Rage Against the Machine', 'Three Days Grace', 'Machine Head', 'Queens of the Stone Age', 'Tenacious D', 'Dimmu Borgir', 'Gallows', 'Metallica', 'Leevi and the Leavings', 'System of a Down', 'Arch Enemy', 'Pantera', 'Demon Hunter', 'Marina and the Diamonds', 'Gyllene Tider', 'Howard Shore', 'Cruel Hand', 'Black Label Society', 'Rob Zombie', 'Beach House', 'Madonna', 'Radiohead', 'Calvin Harris', 'Wintersun', 'Evanescence', 'Rammstein', 'Memphis May Fire', 'Sum 41', 'Tool', 'Korn', 'Amon Amarth', 'DragonForce', 'Sonata Arctica', 'Lacuna Coil', 'My Chemical Romance', 'Hozier', 'Pitty', 'Nirvana', 'P.D.P.', 'Soilwork', 'Scar Symmetry', 'Mogwai', 'A Perfect Circle', 'Electric Light Orchestra', 'Mumford & Sons', 'The Killers', 'Trivium', 'Dmitri Shostakovich', 'The Band', 'Cat Power', 'Dope', 'Deftones', 'Volbeat', 'Becoming the Archetype', 'Killswitch Engage', 'Stam1na', 'Sick Puppies', 'Black Veil Brides', 'Children of Bodom', 'Five Finger Death Punch', 'Saosin', 'James Blake', 'Muse', 'Cradle of Filth', 'Fall Out Boy', 'Seether', 'Pentakill', 'Epic Rap Battles Of History', 'Motion City Soundtrack', 'Damien Rice', 'Nightwish', 'Lamb of God', 'deadmau5', 'M.I.A.', 'Sabaton', 'Team Sleep', 'Lindemann', 'Amorphis', 'Pink Floyd', 'Billy Talent', 'Dr. Dre', 'Coldplay', 'Avenged Sevenfold', 'DIR EN GREY', 'Papa Roach', 'Coheed and Cambria', 'Evergreen Terrace', 'Klamydia', 'Ween', 'The White Stripes', 'Circa Survive', 'Turmion Kätilöt', 'Limp Bizkit', 'Bring Me the Horizon', 'Ben Howard', 'Powerwolf', '36 Crazyfists', 'Flo Rida', 'Slipknot', 'Katy Perry', 'Energy', 'Mustasch'}\n",
      "Items that emill_67 has not rated: dict_keys(['Magnus Uggla', 'Four Year Strong', 'Linkin Park', 'N.W.A', 'Green Day', 'Daughter', 'Godsmack', 'Breaking Benjamin', 'Freestyle', 'Hans Zimmer', 'In Flames', 'Bayside', 'Alexisonfire', 'blink-182', 'Atoms for Peace', 'Queen', 'Lady Gaga', 'Wu-Tang Clan', 'Halestorm', 'Nine Inch Nails', 'Parkway Drive', 'Stone Sour', 'The Wonder Years', 'Panic! at the Disco', 'Arctic Monkeys', 'Warpaint', 'Pendulum', 'The Dear Hunter', 'Krewella', 'Ke$ha', '30 Seconds to Mars', 'Oh, Sleeper', 'Dark Tranquillity', 'All Time Low', 'Bullet for My Valentine', 'White Zombie', 'Die Antwoord', 'Nobuo Uematsu', 'Soulfly', 'AFI', 'Energy', 'Misfits', 'New Found Glory', 'Three Days Grace', 'Machine Head', 'Queens of the Stone Age', 'Tenacious D', 'Dimmu Borgir', 'Gallows', 'Metallica', 'Leevi and the Leavings', 'Arch Enemy', 'Pantera', 'Demon Hunter', 'Marina and the Diamonds', 'Gyllene Tider', 'Howard Shore', 'Cruel Hand', 'Black Label Society', 'Beach House', 'Madonna', 'Radiohead', 'Calvin Harris', 'Wintersun', 'Rammstein', 'Memphis May Fire', 'Sum 41', 'Tool', 'Amon Amarth', 'DragonForce', 'Sonata Arctica', 'Lacuna Coil', 'My Chemical Romance', 'Hozier', 'Pitty', 'Nirvana', 'P.D.P.', 'Soilwork', 'Scar Symmetry', 'Mogwai', 'A Perfect Circle', 'Mumford & Sons', 'The Killers', 'Trivium', 'Dmitri Shostakovich', 'The Band', 'Cat Power', 'Dope', 'Deftones', 'Volbeat', 'Becoming the Archetype', 'Killswitch Engage', 'Stam1na', 'Sick Puppies', 'Black Veil Brides', 'Children of Bodom', 'Saosin', 'James Blake', 'Cradle of Filth', 'Fall Out Boy', 'Pentakill', 'Motion City Soundtrack', 'Damien Rice', 'Nightwish', 'Lamb of God', 'M.I.A.', 'Sabaton', 'Team Sleep', 'Lindemann', 'Amorphis', 'Billy Talent', 'Dr. Dre', 'Coldplay', 'Avenged Sevenfold', 'DIR EN GREY', 'Papa Roach', 'Coheed and Cambria', 'Evergreen Terrace', 'Klamydia', 'The White Stripes', 'Circa Survive', 'Turmion Kätilöt', 'Limp Bizkit', 'Bring Me the Horizon', 'Ben Howard', 'Powerwolf', '36 Crazyfists', 'Flo Rida', 'Katy Perry', 'System of a Down', 'Mustasch'])\n",
      "Persons with similarity greater than 0: ['BrunoJoS', 'DPREBOYE', 'MPistol40', 'NemoNightfall', 'SkyRif', 'Wags1382', 'Znapsen', 'cortapsyco', 'emill_67']\n",
      "Individual items: {'Theory of a Deadman', 'Magnus Uggla', 'Four Year Strong', 'Linkin Park', 'N.W.A', 'Shinedown', 'Green Day', 'Daughter', 'Godsmack', 'Breaking Benjamin', 'Freestyle', 'Hans Zimmer', 'In Flames', 'Bayside', 'Alexisonfire', 'blink-182', 'Foo Fighters', 'Atoms for Peace', 'Queen', 'Iron Maiden', 'Lady Gaga', 'Wu-Tang Clan', 'Halestorm', 'Nine Inch Nails', 'Parkway Drive', 'Stone Sour', 'The Wonder Years', 'Boston', 'Panic! at the Disco', 'Arctic Monkeys', 'Warpaint', 'Pendulum', 'Disturbed', 'The Dear Hunter', 'Krewella', 'Red Hot Chili Peppers', 'Ke$ha', '30 Seconds to Mars', 'Oh, Sleeper', 'Dark Tranquillity', 'All Time Low', 'Bullet for My Valentine', 'White Zombie', 'Die Antwoord', 'Nobuo Uematsu', 'Soulfly', 'AFI', 'Misfits', 'New Found Glory', 'Rage Against the Machine', 'Three Days Grace', 'Machine Head', 'Queens of the Stone Age', 'Tenacious D', 'Dimmu Borgir', 'Gallows', 'Metallica', 'Leevi and the Leavings', 'System of a Down', 'Arch Enemy', 'Pantera', 'Demon Hunter', 'Marina and the Diamonds', 'Gyllene Tider', 'Howard Shore', 'Cruel Hand', 'Black Label Society', 'Rob Zombie', 'Beach House', 'Madonna', 'Radiohead', 'Calvin Harris', 'Wintersun', 'Evanescence', 'Rammstein', 'Memphis May Fire', 'Sum 41', 'Tool', 'Korn', 'Amon Amarth', 'DragonForce', 'Sonata Arctica', 'Lacuna Coil', 'My Chemical Romance', 'Hozier', 'Pitty', 'Nirvana', 'P.D.P.', 'Soilwork', 'Scar Symmetry', 'Mogwai', 'A Perfect Circle', 'Electric Light Orchestra', 'Mumford & Sons', 'The Killers', 'Trivium', 'Dmitri Shostakovich', 'The Band', 'Cat Power', 'Dope', 'Deftones', 'Volbeat', 'Becoming the Archetype', 'Killswitch Engage', 'Stam1na', 'Sick Puppies', 'Black Veil Brides', 'Children of Bodom', 'Five Finger Death Punch', 'Saosin', 'James Blake', 'Muse', 'Cradle of Filth', 'Fall Out Boy', 'Seether', 'Pentakill', 'Epic Rap Battles Of History', 'Motion City Soundtrack', 'Damien Rice', 'Nightwish', 'Lamb of God', 'deadmau5', 'M.I.A.', 'Sabaton', 'Team Sleep', 'Lindemann', 'Amorphis', 'Pink Floyd', 'Billy Talent', 'Dr. Dre', 'Coldplay', 'Avenged Sevenfold', 'DIR EN GREY', 'Papa Roach', 'Coheed and Cambria', 'Evergreen Terrace', 'Klamydia', 'Ween', 'The White Stripes', 'Circa Survive', 'Turmion Kätilöt', 'Limp Bizkit', 'Bring Me the Horizon', 'Ben Howard', 'Powerwolf', '36 Crazyfists', 'Flo Rida', 'Slipknot', 'Katy Perry', 'Energy', 'Mustasch'}\n",
      "Items that sattuviitana has not rated: dict_keys(['Theory of a Deadman', 'Magnus Uggla', 'Four Year Strong', 'Linkin Park', 'N.W.A', 'Shinedown', 'Green Day', 'Daughter', 'Godsmack', 'Breaking Benjamin', 'Freestyle', 'Hans Zimmer', 'Bayside', 'Alexisonfire', 'blink-182', 'Foo Fighters', 'Atoms for Peace', 'Iron Maiden', 'Lady Gaga', 'Wu-Tang Clan', 'Halestorm', 'Nine Inch Nails', 'Parkway Drive', 'Stone Sour', 'The Wonder Years', 'Boston', 'Panic! at the Disco', 'Arctic Monkeys', 'Warpaint', 'Pendulum', 'Disturbed', 'The Dear Hunter', 'Krewella', 'Red Hot Chili Peppers', 'Ke$ha', '30 Seconds to Mars', 'Oh, Sleeper', 'Dark Tranquillity', 'All Time Low', 'Bullet for My Valentine', 'White Zombie', 'Die Antwoord', 'Nobuo Uematsu', 'Soulfly', 'AFI', 'Energy', 'Misfits', 'New Found Glory', 'Rage Against the Machine', 'Three Days Grace', 'Machine Head', 'Queens of the Stone Age', 'Tenacious D', 'Dimmu Borgir', 'Gallows', 'Arch Enemy', 'Pantera', 'Demon Hunter', 'Marina and the Diamonds', 'Gyllene Tider', 'Howard Shore', 'Cruel Hand', 'Black Label Society', 'Rob Zombie', 'Beach House', 'Madonna', 'Radiohead', 'Calvin Harris', 'Wintersun', 'Evanescence', 'Memphis May Fire', 'Sum 41', 'Tool', 'Amon Amarth', 'DragonForce', 'Lacuna Coil', 'My Chemical Romance', 'Hozier', 'Pitty', 'Nirvana', 'P.D.P.', 'Soilwork', 'Scar Symmetry', 'Mogwai', 'A Perfect Circle', 'Electric Light Orchestra', 'Mumford & Sons', 'The Killers', 'Trivium', 'Dmitri Shostakovich', 'The Band', 'Cat Power', 'Dope', 'Deftones', 'Becoming the Archetype', 'Killswitch Engage', 'Sick Puppies', 'Black Veil Brides', 'Saosin', 'James Blake', 'Muse', 'Cradle of Filth', 'Fall Out Boy', 'Seether', 'Pentakill', 'Epic Rap Battles Of History', 'Motion City Soundtrack', 'Damien Rice', 'Lamb of God', 'deadmau5', 'M.I.A.', 'Team Sleep', 'Pink Floyd', 'Billy Talent', 'Dr. Dre', 'Coldplay', 'DIR EN GREY', 'Papa Roach', 'Coheed and Cambria', 'Evergreen Terrace', 'Ween', 'The White Stripes', 'Circa Survive', 'Limp Bizkit', 'Bring Me the Horizon', 'Ben Howard', 'Powerwolf', '36 Crazyfists', 'Flo Rida', 'Katy Perry', 'Mustasch'])\n",
      "Persons with similarity greater than 0: ['NemoNightfall', 'SkyRif', 'emill_67', 'sattuviitana']\n",
      "Individual items: {'Theory of a Deadman', 'Magnus Uggla', 'Four Year Strong', 'Linkin Park', 'N.W.A', 'Shinedown', 'Green Day', 'Daughter', 'Godsmack', 'Breaking Benjamin', 'Freestyle', 'Hans Zimmer', 'In Flames', 'Bayside', 'Alexisonfire', 'blink-182', 'Foo Fighters', 'Atoms for Peace', 'Queen', 'Iron Maiden', 'Lady Gaga', 'Wu-Tang Clan', 'Halestorm', 'Nine Inch Nails', 'Parkway Drive', 'Stone Sour', 'The Wonder Years', 'Boston', 'Panic! at the Disco', 'Arctic Monkeys', 'Warpaint', 'Pendulum', 'Disturbed', 'The Dear Hunter', 'Krewella', 'Red Hot Chili Peppers', 'Ke$ha', '30 Seconds to Mars', 'Oh, Sleeper', 'Dark Tranquillity', 'All Time Low', 'Bullet for My Valentine', 'White Zombie', 'Die Antwoord', 'Nobuo Uematsu', 'Soulfly', 'AFI', 'Misfits', 'New Found Glory', 'Rage Against the Machine', 'Three Days Grace', 'Machine Head', 'Queens of the Stone Age', 'Tenacious D', 'Dimmu Borgir', 'Gallows', 'Metallica', 'Leevi and the Leavings', 'System of a Down', 'Arch Enemy', 'Pantera', 'Demon Hunter', 'Marina and the Diamonds', 'Gyllene Tider', 'Howard Shore', 'Cruel Hand', 'Black Label Society', 'Rob Zombie', 'Beach House', 'Madonna', 'Radiohead', 'Calvin Harris', 'Wintersun', 'Evanescence', 'Rammstein', 'Memphis May Fire', 'Sum 41', 'Tool', 'Korn', 'Amon Amarth', 'DragonForce', 'Sonata Arctica', 'Lacuna Coil', 'My Chemical Romance', 'Hozier', 'Pitty', 'Nirvana', 'P.D.P.', 'Soilwork', 'Scar Symmetry', 'Mogwai', 'A Perfect Circle', 'Electric Light Orchestra', 'Mumford & Sons', 'The Killers', 'Trivium', 'Dmitri Shostakovich', 'The Band', 'Cat Power', 'Dope', 'Deftones', 'Volbeat', 'Becoming the Archetype', 'Killswitch Engage', 'Stam1na', 'Sick Puppies', 'Black Veil Brides', 'Children of Bodom', 'Five Finger Death Punch', 'Saosin', 'James Blake', 'Muse', 'Cradle of Filth', 'Fall Out Boy', 'Seether', 'Pentakill', 'Epic Rap Battles Of History', 'Motion City Soundtrack', 'Damien Rice', 'Nightwish', 'Lamb of God', 'deadmau5', 'M.I.A.', 'Sabaton', 'Team Sleep', 'Lindemann', 'Amorphis', 'Pink Floyd', 'Billy Talent', 'Dr. Dre', 'Coldplay', 'Avenged Sevenfold', 'DIR EN GREY', 'Papa Roach', 'Coheed and Cambria', 'Evergreen Terrace', 'Klamydia', 'Ween', 'The White Stripes', 'Circa Survive', 'Turmion Kätilöt', 'Limp Bizkit', 'Bring Me the Horizon', 'Ben Howard', 'Powerwolf', '36 Crazyfists', 'Flo Rida', 'Slipknot', 'Katy Perry', 'Energy', 'Mustasch'}\n",
      "Items that BrunoJoS has not rated: dict_keys(['Theory of a Deadman', 'Magnus Uggla', 'Four Year Strong', 'N.W.A', 'Shinedown', 'Daughter', 'Godsmack', 'Breaking Benjamin', 'Freestyle', 'Hans Zimmer', 'In Flames', 'Bayside', 'Alexisonfire', 'blink-182', 'Atoms for Peace', 'Queen', 'Iron Maiden', 'Wu-Tang Clan', 'Halestorm', 'Nine Inch Nails', 'Parkway Drive', 'Stone Sour', 'The Wonder Years', 'Boston', 'Panic! at the Disco', 'Warpaint', 'Pendulum', 'Disturbed', 'The Dear Hunter', 'Krewella', 'Red Hot Chili Peppers', 'Ke$ha', 'Oh, Sleeper', 'Dark Tranquillity', 'All Time Low', 'Bullet for My Valentine', 'White Zombie', 'Die Antwoord', 'Nobuo Uematsu', 'Soulfly', 'AFI', 'Energy', 'Misfits', 'New Found Glory', 'Rage Against the Machine', 'Machine Head', 'Tenacious D', 'Dimmu Borgir', 'Gallows', 'Metallica', 'Leevi and the Leavings', 'Arch Enemy', 'Pantera', 'Demon Hunter', 'Marina and the Diamonds', 'Gyllene Tider', 'Howard Shore', 'Cruel Hand', 'Black Label Society', 'Rob Zombie', 'Beach House', 'Calvin Harris', 'Wintersun', 'Evanescence', 'Memphis May Fire', 'Tool', 'Korn', 'Amon Amarth', 'DragonForce', 'Sonata Arctica', 'Lacuna Coil', 'My Chemical Romance', 'Hozier', 'Nirvana', 'P.D.P.', 'Soilwork', 'Scar Symmetry', 'Mogwai', 'A Perfect Circle', 'Electric Light Orchestra', 'Mumford & Sons', 'Trivium', 'Dmitri Shostakovich', 'The Band', 'Cat Power', 'Dope', 'Deftones', 'Volbeat', 'Becoming the Archetype', 'Killswitch Engage', 'Stam1na', 'Sick Puppies', 'Black Veil Brides', 'Children of Bodom', 'Five Finger Death Punch', 'Saosin', 'James Blake', 'Cradle of Filth', 'Fall Out Boy', 'Seether', 'Pentakill', 'Epic Rap Battles Of History', 'Motion City Soundtrack', 'Damien Rice', 'Nightwish', 'Lamb of God', 'deadmau5', 'Sabaton', 'Team Sleep', 'Lindemann', 'Amorphis', 'Pink Floyd', 'Billy Talent', 'Dr. Dre', 'Avenged Sevenfold', 'DIR EN GREY', 'Coheed and Cambria', 'Evergreen Terrace', 'Klamydia', 'Ween', 'The White Stripes', 'Circa Survive', 'Turmion Kätilöt', 'Limp Bizkit', 'Bring Me the Horizon', 'Ben Howard', 'Powerwolf', '36 Crazyfists', 'Flo Rida', 'Katy Perry', 'Mustasch'])\n"
     ]
    },
    {
     "name": "stdout",
     "output_type": "stream",
     "text": [
      "Persons with similarity greater than 0: []\n",
      "Individual items: {'Theory of a Deadman', 'Magnus Uggla', 'Four Year Strong', 'Linkin Park', 'N.W.A', 'Shinedown', 'Green Day', 'Daughter', 'Godsmack', 'Breaking Benjamin', 'Freestyle', 'Hans Zimmer', 'In Flames', 'Bayside', 'Alexisonfire', 'blink-182', 'Foo Fighters', 'Atoms for Peace', 'Queen', 'Iron Maiden', 'Lady Gaga', 'Wu-Tang Clan', 'Halestorm', 'Nine Inch Nails', 'Parkway Drive', 'Stone Sour', 'The Wonder Years', 'Boston', 'Panic! at the Disco', 'Arctic Monkeys', 'Warpaint', 'Pendulum', 'Disturbed', 'The Dear Hunter', 'Krewella', 'Red Hot Chili Peppers', 'Ke$ha', '30 Seconds to Mars', 'Oh, Sleeper', 'Dark Tranquillity', 'All Time Low', 'Bullet for My Valentine', 'White Zombie', 'Die Antwoord', 'Nobuo Uematsu', 'Soulfly', 'AFI', 'Misfits', 'New Found Glory', 'Rage Against the Machine', 'Three Days Grace', 'Machine Head', 'Queens of the Stone Age', 'Tenacious D', 'Dimmu Borgir', 'Gallows', 'Metallica', 'Leevi and the Leavings', 'System of a Down', 'Arch Enemy', 'Pantera', 'Demon Hunter', 'Marina and the Diamonds', 'Gyllene Tider', 'Howard Shore', 'Cruel Hand', 'Black Label Society', 'Rob Zombie', 'Beach House', 'Madonna', 'Radiohead', 'Calvin Harris', 'Wintersun', 'Evanescence', 'Rammstein', 'Memphis May Fire', 'Sum 41', 'Tool', 'Korn', 'Amon Amarth', 'DragonForce', 'Sonata Arctica', 'Lacuna Coil', 'My Chemical Romance', 'Hozier', 'Pitty', 'Nirvana', 'P.D.P.', 'Soilwork', 'Scar Symmetry', 'Mogwai', 'A Perfect Circle', 'Electric Light Orchestra', 'Mumford & Sons', 'The Killers', 'Trivium', 'Dmitri Shostakovich', 'The Band', 'Cat Power', 'Dope', 'Deftones', 'Volbeat', 'Becoming the Archetype', 'Killswitch Engage', 'Stam1na', 'Sick Puppies', 'Black Veil Brides', 'Children of Bodom', 'Five Finger Death Punch', 'Saosin', 'James Blake', 'Muse', 'Cradle of Filth', 'Fall Out Boy', 'Seether', 'Pentakill', 'Epic Rap Battles Of History', 'Motion City Soundtrack', 'Damien Rice', 'Nightwish', 'Lamb of God', 'deadmau5', 'M.I.A.', 'Sabaton', 'Team Sleep', 'Lindemann', 'Amorphis', 'Pink Floyd', 'Billy Talent', 'Dr. Dre', 'Coldplay', 'Avenged Sevenfold', 'DIR EN GREY', 'Papa Roach', 'Coheed and Cambria', 'Evergreen Terrace', 'Klamydia', 'Ween', 'The White Stripes', 'Circa Survive', 'Turmion Kätilöt', 'Limp Bizkit', 'Bring Me the Horizon', 'Ben Howard', 'Powerwolf', '36 Crazyfists', 'Flo Rida', 'Slipknot', 'Katy Perry', 'Energy', 'Mustasch'}\n",
      "Items that DPREBOYE has not rated: dict_keys(['Theory of a Deadman', 'Magnus Uggla', 'Four Year Strong', 'Linkin Park', 'Shinedown', 'Green Day', 'Godsmack', 'Breaking Benjamin', 'Freestyle', 'Hans Zimmer', 'In Flames', 'Bayside', 'Alexisonfire', 'blink-182', 'Foo Fighters', 'Queen', 'Iron Maiden', 'Lady Gaga', 'Halestorm', 'Nine Inch Nails', 'Parkway Drive', 'Stone Sour', 'The Wonder Years', 'Boston', 'Panic! at the Disco', 'Pendulum', 'Disturbed', 'The Dear Hunter', 'Krewella', 'Red Hot Chili Peppers', 'Ke$ha', '30 Seconds to Mars', 'Oh, Sleeper', 'Dark Tranquillity', 'All Time Low', 'Bullet for My Valentine', 'White Zombie', 'Nobuo Uematsu', 'Soulfly', 'AFI', 'Energy', 'Misfits', 'New Found Glory', 'Three Days Grace', 'Machine Head', 'Queens of the Stone Age', 'Tenacious D', 'Dimmu Borgir', 'Gallows', 'Metallica', 'Leevi and the Leavings', 'Arch Enemy', 'Pantera', 'Demon Hunter', 'Marina and the Diamonds', 'Gyllene Tider', 'Howard Shore', 'Cruel Hand', 'Black Label Society', 'Rob Zombie', 'Madonna', 'Radiohead', 'Calvin Harris', 'Wintersun', 'Evanescence', 'Rammstein', 'Memphis May Fire', 'Sum 41', 'Tool', 'Korn', 'Amon Amarth', 'DragonForce', 'Sonata Arctica', 'Lacuna Coil', 'My Chemical Romance', 'Pitty', 'P.D.P.', 'Soilwork', 'Scar Symmetry', 'A Perfect Circle', 'Electric Light Orchestra', 'Mumford & Sons', 'The Killers', 'Trivium', 'Dmitri Shostakovich', 'Dope', 'Deftones', 'Volbeat', 'Becoming the Archetype', 'Killswitch Engage', 'Stam1na', 'Sick Puppies', 'Black Veil Brides', 'Children of Bodom', 'Five Finger Death Punch', 'Saosin', 'Muse', 'Cradle of Filth', 'Fall Out Boy', 'Seether', 'Pentakill', 'Epic Rap Battles Of History', 'Motion City Soundtrack', 'Nightwish', 'Lamb of God', 'deadmau5', 'M.I.A.', 'Sabaton', 'Team Sleep', 'Lindemann', 'Amorphis', 'Pink Floyd', 'Billy Talent', 'Coldplay', 'Avenged Sevenfold', 'Papa Roach', 'Coheed and Cambria', 'Evergreen Terrace', 'Klamydia', 'Ween', 'Circa Survive', 'Turmion Kätilöt', 'Limp Bizkit', 'Bring Me the Horizon', 'Ben Howard', 'Powerwolf', '36 Crazyfists', 'Flo Rida', 'Katy Perry', 'System of a Down', 'Mustasch'])\n",
      "Persons with similarity greater than 0: ['NemoNightfall', 'SkyRif', 'Znapsen', 'cortapsyco', 'emill_67', 'sattuviitana']\n",
      "Individual items: {'Theory of a Deadman', 'Magnus Uggla', 'Four Year Strong', 'Linkin Park', 'N.W.A', 'Shinedown', 'Green Day', 'Daughter', 'Godsmack', 'Breaking Benjamin', 'Freestyle', 'Hans Zimmer', 'In Flames', 'Bayside', 'Alexisonfire', 'blink-182', 'Foo Fighters', 'Atoms for Peace', 'Queen', 'Iron Maiden', 'Lady Gaga', 'Wu-Tang Clan', 'Halestorm', 'Nine Inch Nails', 'Parkway Drive', 'Stone Sour', 'The Wonder Years', 'Boston', 'Panic! at the Disco', 'Arctic Monkeys', 'Warpaint', 'Pendulum', 'Disturbed', 'The Dear Hunter', 'Krewella', 'Red Hot Chili Peppers', 'Ke$ha', '30 Seconds to Mars', 'Oh, Sleeper', 'Dark Tranquillity', 'All Time Low', 'Bullet for My Valentine', 'White Zombie', 'Die Antwoord', 'Nobuo Uematsu', 'Soulfly', 'AFI', 'Misfits', 'New Found Glory', 'Rage Against the Machine', 'Three Days Grace', 'Machine Head', 'Queens of the Stone Age', 'Tenacious D', 'Dimmu Borgir', 'Gallows', 'Metallica', 'Leevi and the Leavings', 'System of a Down', 'Arch Enemy', 'Pantera', 'Demon Hunter', 'Marina and the Diamonds', 'Gyllene Tider', 'Howard Shore', 'Cruel Hand', 'Black Label Society', 'Rob Zombie', 'Beach House', 'Madonna', 'Radiohead', 'Calvin Harris', 'Wintersun', 'Evanescence', 'Rammstein', 'Memphis May Fire', 'Sum 41', 'Tool', 'Korn', 'Amon Amarth', 'DragonForce', 'Sonata Arctica', 'Lacuna Coil', 'My Chemical Romance', 'Hozier', 'Pitty', 'Nirvana', 'P.D.P.', 'Soilwork', 'Scar Symmetry', 'Mogwai', 'A Perfect Circle', 'Electric Light Orchestra', 'Mumford & Sons', 'The Killers', 'Trivium', 'Dmitri Shostakovich', 'The Band', 'Cat Power', 'Dope', 'Deftones', 'Volbeat', 'Becoming the Archetype', 'Killswitch Engage', 'Stam1na', 'Sick Puppies', 'Black Veil Brides', 'Children of Bodom', 'Five Finger Death Punch', 'Saosin', 'James Blake', 'Muse', 'Cradle of Filth', 'Fall Out Boy', 'Seether', 'Pentakill', 'Epic Rap Battles Of History', 'Motion City Soundtrack', 'Damien Rice', 'Nightwish', 'Lamb of God', 'deadmau5', 'M.I.A.', 'Sabaton', 'Team Sleep', 'Lindemann', 'Amorphis', 'Pink Floyd', 'Billy Talent', 'Dr. Dre', 'Coldplay', 'Avenged Sevenfold', 'DIR EN GREY', 'Papa Roach', 'Coheed and Cambria', 'Evergreen Terrace', 'Klamydia', 'Ween', 'The White Stripes', 'Circa Survive', 'Turmion Kätilöt', 'Limp Bizkit', 'Bring Me the Horizon', 'Ben Howard', 'Powerwolf', '36 Crazyfists', 'Flo Rida', 'Slipknot', 'Katy Perry', 'Energy', 'Mustasch'}\n",
      "Items that MPistol40 has not rated: dict_keys(['Theory of a Deadman', 'Magnus Uggla', 'Four Year Strong', 'Linkin Park', 'N.W.A', 'Shinedown', 'Green Day', 'Daughter', 'Godsmack', 'Breaking Benjamin', 'Freestyle', 'Hans Zimmer', 'Bayside', 'Alexisonfire', 'blink-182', 'Foo Fighters', 'Atoms for Peace', 'Queen', 'Iron Maiden', 'Lady Gaga', 'Wu-Tang Clan', 'Halestorm', 'Parkway Drive', 'The Wonder Years', 'Boston', 'Panic! at the Disco', 'Arctic Monkeys', 'Warpaint', 'Disturbed', 'The Dear Hunter', 'Krewella', 'Ke$ha', '30 Seconds to Mars', 'Oh, Sleeper', 'All Time Low', 'Bullet for My Valentine', 'White Zombie', 'Die Antwoord', 'Nobuo Uematsu', 'AFI', 'Energy', 'Misfits', 'New Found Glory', 'Three Days Grace', 'Machine Head', 'Queens of the Stone Age', 'Tenacious D', 'Dimmu Borgir', 'Gallows', 'Metallica', 'Leevi and the Leavings', 'Arch Enemy', 'Pantera', 'Demon Hunter', 'Marina and the Diamonds', 'Gyllene Tider', 'Howard Shore', 'Cruel Hand', 'Black Label Society', 'Rob Zombie', 'Beach House', 'Madonna', 'Radiohead', 'Calvin Harris', 'Wintersun', 'Evanescence', 'Rammstein', 'Memphis May Fire', 'Sum 41', 'Amon Amarth', 'DragonForce', 'Sonata Arctica', 'Lacuna Coil', 'My Chemical Romance', 'Hozier', 'Pitty', 'Nirvana', 'P.D.P.', 'Mogwai', 'Electric Light Orchestra', 'Mumford & Sons', 'The Killers', 'Trivium', 'The Band', 'Cat Power', 'Dope', 'Volbeat', 'Becoming the Archetype', 'Killswitch Engage', 'Stam1na', 'Sick Puppies', 'Black Veil Brides', 'Children of Bodom', 'Five Finger Death Punch', 'Saosin', 'James Blake', 'Muse', 'Cradle of Filth', 'Fall Out Boy', 'Seether', 'Pentakill', 'Epic Rap Battles Of History', 'Motion City Soundtrack', 'Damien Rice', 'Nightwish', 'Lamb of God', 'deadmau5', 'M.I.A.', 'Sabaton', 'Lindemann', 'Amorphis', 'Pink Floyd', 'Billy Talent', 'Dr. Dre', 'Coldplay', 'Avenged Sevenfold', 'DIR EN GREY', 'Papa Roach', 'Coheed and Cambria', 'Evergreen Terrace', 'Klamydia', 'Ween', 'The White Stripes', 'Circa Survive', 'Turmion Kätilöt', 'Bring Me the Horizon', 'Ben Howard', 'Powerwolf', 'Flo Rida', 'Katy Perry', 'Mustasch'])\n"
     ]
    },
    {
     "name": "stdout",
     "output_type": "stream",
     "text": [
      "Persons with similarity greater than 0: ['BrunoJoS', 'MPistol40', 'SkyRif', 'sattuviitana']\n",
      "Individual items: {'Theory of a Deadman', 'Magnus Uggla', 'Four Year Strong', 'Linkin Park', 'N.W.A', 'Shinedown', 'Green Day', 'Daughter', 'Godsmack', 'Breaking Benjamin', 'Freestyle', 'Hans Zimmer', 'In Flames', 'Bayside', 'Alexisonfire', 'blink-182', 'Foo Fighters', 'Atoms for Peace', 'Queen', 'Iron Maiden', 'Lady Gaga', 'Wu-Tang Clan', 'Halestorm', 'Nine Inch Nails', 'Parkway Drive', 'Stone Sour', 'The Wonder Years', 'Boston', 'Panic! at the Disco', 'Arctic Monkeys', 'Warpaint', 'Pendulum', 'Disturbed', 'The Dear Hunter', 'Krewella', 'Red Hot Chili Peppers', 'Ke$ha', '30 Seconds to Mars', 'Oh, Sleeper', 'Dark Tranquillity', 'All Time Low', 'Bullet for My Valentine', 'White Zombie', 'Die Antwoord', 'Nobuo Uematsu', 'Soulfly', 'AFI', 'Misfits', 'New Found Glory', 'Rage Against the Machine', 'Three Days Grace', 'Machine Head', 'Queens of the Stone Age', 'Tenacious D', 'Dimmu Borgir', 'Gallows', 'Metallica', 'Leevi and the Leavings', 'System of a Down', 'Arch Enemy', 'Pantera', 'Demon Hunter', 'Marina and the Diamonds', 'Gyllene Tider', 'Howard Shore', 'Cruel Hand', 'Black Label Society', 'Rob Zombie', 'Beach House', 'Madonna', 'Radiohead', 'Calvin Harris', 'Wintersun', 'Evanescence', 'Rammstein', 'Memphis May Fire', 'Sum 41', 'Tool', 'Korn', 'Amon Amarth', 'DragonForce', 'Sonata Arctica', 'Lacuna Coil', 'My Chemical Romance', 'Hozier', 'Pitty', 'Nirvana', 'P.D.P.', 'Soilwork', 'Scar Symmetry', 'Mogwai', 'A Perfect Circle', 'Electric Light Orchestra', 'Mumford & Sons', 'The Killers', 'Trivium', 'Dmitri Shostakovich', 'The Band', 'Cat Power', 'Dope', 'Deftones', 'Volbeat', 'Becoming the Archetype', 'Killswitch Engage', 'Stam1na', 'Sick Puppies', 'Black Veil Brides', 'Children of Bodom', 'Five Finger Death Punch', 'Saosin', 'James Blake', 'Muse', 'Cradle of Filth', 'Fall Out Boy', 'Seether', 'Pentakill', 'Epic Rap Battles Of History', 'Motion City Soundtrack', 'Damien Rice', 'Nightwish', 'Lamb of God', 'deadmau5', 'M.I.A.', 'Sabaton', 'Team Sleep', 'Lindemann', 'Amorphis', 'Pink Floyd', 'Billy Talent', 'Dr. Dre', 'Coldplay', 'Avenged Sevenfold', 'DIR EN GREY', 'Papa Roach', 'Coheed and Cambria', 'Evergreen Terrace', 'Klamydia', 'Ween', 'The White Stripes', 'Circa Survive', 'Turmion Kätilöt', 'Limp Bizkit', 'Bring Me the Horizon', 'Ben Howard', 'Powerwolf', '36 Crazyfists', 'Flo Rida', 'Slipknot', 'Katy Perry', 'Energy', 'Mustasch'}\n",
      "Items that NemoNightfall has not rated: dict_keys(['Theory of a Deadman', 'Magnus Uggla', 'Four Year Strong', 'N.W.A', 'Shinedown', 'Green Day', 'Daughter', 'Godsmack', 'Freestyle', 'Hans Zimmer', 'In Flames', 'Bayside', 'blink-182', 'Foo Fighters', 'Atoms for Peace', 'Queen', 'Iron Maiden', 'Lady Gaga', 'Wu-Tang Clan', 'Halestorm', 'Nine Inch Nails', 'Parkway Drive', 'The Wonder Years', 'Boston', 'Panic! at the Disco', 'Arctic Monkeys', 'Warpaint', 'Pendulum', 'Disturbed', 'The Dear Hunter', 'Krewella', 'Red Hot Chili Peppers', 'Ke$ha', 'Dark Tranquillity', 'White Zombie', 'Die Antwoord', 'Nobuo Uematsu', 'Soulfly', 'AFI', 'Energy', 'Misfits', 'New Found Glory', 'Rage Against the Machine', 'Machine Head', 'Queens of the Stone Age', 'Tenacious D', 'Dimmu Borgir', 'Gallows', 'Metallica', 'Leevi and the Leavings', 'Arch Enemy', 'Pantera', 'Demon Hunter', 'Marina and the Diamonds', 'Gyllene Tider', 'Howard Shore', 'Cruel Hand', 'Black Label Society', 'Rob Zombie', 'Beach House', 'Madonna', 'Radiohead', 'Calvin Harris', 'Wintersun', 'Evanescence', 'Rammstein', 'Sum 41', 'Tool', 'Korn', 'Amon Amarth', 'DragonForce', 'Sonata Arctica', 'Lacuna Coil', 'My Chemical Romance', 'Hozier', 'Pitty', 'Nirvana', 'P.D.P.', 'Soilwork', 'Scar Symmetry', 'Mogwai', 'A Perfect Circle', 'Electric Light Orchestra', 'The Killers', 'Dmitri Shostakovich', 'The Band', 'Cat Power', 'Dope', 'Deftones', 'Volbeat', 'Becoming the Archetype', 'Killswitch Engage', 'Stam1na', 'Black Veil Brides', 'Children of Bodom', 'Saosin', 'James Blake', 'Muse', 'Cradle of Filth', 'Fall Out Boy', 'Seether', 'Pentakill', 'Epic Rap Battles Of History', 'Motion City Soundtrack', 'Damien Rice', 'Nightwish', 'Lamb of God', 'deadmau5', 'M.I.A.', 'Sabaton', 'Team Sleep', 'Lindemann', 'Amorphis', 'Pink Floyd', 'Dr. Dre', 'Coldplay', 'Avenged Sevenfold', 'DIR EN GREY', 'Coheed and Cambria', 'Evergreen Terrace', 'Klamydia', 'Ween', 'The White Stripes', 'Circa Survive', 'Turmion Kätilöt', 'Limp Bizkit', 'Powerwolf', '36 Crazyfists', 'Flo Rida', 'Katy Perry', 'Mustasch'])\n",
      "Persons with similarity greater than 0: ['BrunoJoS', 'MPistol40', 'NemoNightfall', 'Znapsen', 'emill_67', 'sattuviitana']\n",
      "Individual items: {'Theory of a Deadman', 'Magnus Uggla', 'Four Year Strong', 'Linkin Park', 'N.W.A', 'Shinedown', 'Green Day', 'Daughter', 'Godsmack', 'Breaking Benjamin', 'Freestyle', 'Hans Zimmer', 'In Flames', 'Bayside', 'Alexisonfire', 'blink-182', 'Foo Fighters', 'Atoms for Peace', 'Queen', 'Iron Maiden', 'Lady Gaga', 'Wu-Tang Clan', 'Halestorm', 'Nine Inch Nails', 'Parkway Drive', 'Stone Sour', 'The Wonder Years', 'Boston', 'Panic! at the Disco', 'Arctic Monkeys', 'Warpaint', 'Pendulum', 'Disturbed', 'The Dear Hunter', 'Krewella', 'Red Hot Chili Peppers', 'Ke$ha', '30 Seconds to Mars', 'Oh, Sleeper', 'Dark Tranquillity', 'All Time Low', 'Bullet for My Valentine', 'White Zombie', 'Die Antwoord', 'Nobuo Uematsu', 'Soulfly', 'AFI', 'Misfits', 'New Found Glory', 'Rage Against the Machine', 'Three Days Grace', 'Machine Head', 'Queens of the Stone Age', 'Tenacious D', 'Dimmu Borgir', 'Gallows', 'Metallica', 'Leevi and the Leavings', 'System of a Down', 'Arch Enemy', 'Pantera', 'Demon Hunter', 'Marina and the Diamonds', 'Gyllene Tider', 'Howard Shore', 'Cruel Hand', 'Black Label Society', 'Rob Zombie', 'Beach House', 'Madonna', 'Radiohead', 'Calvin Harris', 'Wintersun', 'Evanescence', 'Rammstein', 'Memphis May Fire', 'Sum 41', 'Tool', 'Korn', 'Amon Amarth', 'DragonForce', 'Sonata Arctica', 'Lacuna Coil', 'My Chemical Romance', 'Hozier', 'Pitty', 'Nirvana', 'P.D.P.', 'Soilwork', 'Scar Symmetry', 'Mogwai', 'A Perfect Circle', 'Electric Light Orchestra', 'Mumford & Sons', 'The Killers', 'Trivium', 'Dmitri Shostakovich', 'The Band', 'Cat Power', 'Dope', 'Deftones', 'Volbeat', 'Becoming the Archetype', 'Killswitch Engage', 'Stam1na', 'Sick Puppies', 'Black Veil Brides', 'Children of Bodom', 'Five Finger Death Punch', 'Saosin', 'James Blake', 'Muse', 'Cradle of Filth', 'Fall Out Boy', 'Seether', 'Pentakill', 'Epic Rap Battles Of History', 'Motion City Soundtrack', 'Damien Rice', 'Nightwish', 'Lamb of God', 'deadmau5', 'M.I.A.', 'Sabaton', 'Team Sleep', 'Lindemann', 'Amorphis', 'Pink Floyd', 'Billy Talent', 'Dr. Dre', 'Coldplay', 'Avenged Sevenfold', 'DIR EN GREY', 'Papa Roach', 'Coheed and Cambria', 'Evergreen Terrace', 'Klamydia', 'Ween', 'The White Stripes', 'Circa Survive', 'Turmion Kätilöt', 'Limp Bizkit', 'Bring Me the Horizon', 'Ben Howard', 'Powerwolf', '36 Crazyfists', 'Flo Rida', 'Slipknot', 'Katy Perry', 'Energy', 'Mustasch'}\n",
      "Items that SkyRif has not rated: dict_keys(['Theory of a Deadman', 'Magnus Uggla', 'Four Year Strong', 'N.W.A', 'Shinedown', 'Green Day', 'Daughter', 'Godsmack', 'Breaking Benjamin', 'Freestyle', 'In Flames', 'Bayside', 'Alexisonfire', 'blink-182', 'Foo Fighters', 'Atoms for Peace', 'Queen', 'Iron Maiden', 'Lady Gaga', 'Wu-Tang Clan', 'Halestorm', 'Nine Inch Nails', 'Parkway Drive', 'The Wonder Years', 'Boston', 'Panic! at the Disco', 'Arctic Monkeys', 'Warpaint', 'Pendulum', 'Disturbed', 'The Dear Hunter', 'Krewella', 'Ke$ha', '30 Seconds to Mars', 'Oh, Sleeper', 'Dark Tranquillity', 'All Time Low', 'Bullet for My Valentine', 'White Zombie', 'Die Antwoord', 'Nobuo Uematsu', 'Soulfly', 'AFI', 'Energy', 'Misfits', 'New Found Glory', 'Three Days Grace', 'Machine Head', 'Queens of the Stone Age', 'Dimmu Borgir', 'Gallows', 'Leevi and the Leavings', 'Pantera', 'Demon Hunter', 'Marina and the Diamonds', 'Gyllene Tider', 'Cruel Hand', 'Black Label Society', 'Rob Zombie', 'Beach House', 'Madonna', 'Radiohead', 'Calvin Harris', 'Evanescence', 'Rammstein', 'Memphis May Fire', 'Sum 41', 'Tool', 'Sonata Arctica', 'Lacuna Coil', 'My Chemical Romance', 'Hozier', 'Pitty', 'Nirvana', 'P.D.P.', 'Soilwork', 'Scar Symmetry', 'Mogwai', 'A Perfect Circle', 'Electric Light Orchestra', 'Mumford & Sons', 'The Killers', 'Trivium', 'Dmitri Shostakovich', 'The Band', 'Cat Power', 'Dope', 'Deftones', 'Volbeat', 'Becoming the Archetype', 'Killswitch Engage', 'Stam1na', 'Sick Puppies', 'Black Veil Brides', 'Children of Bodom', 'Five Finger Death Punch', 'Saosin', 'James Blake', 'Muse', 'Cradle of Filth', 'Fall Out Boy', 'Seether', 'Epic Rap Battles Of History', 'Motion City Soundtrack', 'Damien Rice', 'Nightwish', 'deadmau5', 'M.I.A.', 'Team Sleep', 'Lindemann', 'Amorphis', 'Pink Floyd', 'Billy Talent', 'Dr. Dre', 'Coldplay', 'Avenged Sevenfold', 'DIR EN GREY', 'Coheed and Cambria', 'Evergreen Terrace', 'Klamydia', 'Ween', 'The White Stripes', 'Circa Survive', 'Turmion Kätilöt', 'Limp Bizkit', 'Bring Me the Horizon', 'Ben Howard', '36 Crazyfists', 'Flo Rida', 'Katy Perry', 'Mustasch'])\n"
     ]
    },
    {
     "name": "stdout",
     "output_type": "stream",
     "text": [
      "Persons with similarity greater than 0: []\n",
      "Individual items: {'Theory of a Deadman', 'Magnus Uggla', 'Four Year Strong', 'Linkin Park', 'N.W.A', 'Shinedown', 'Green Day', 'Daughter', 'Godsmack', 'Breaking Benjamin', 'Freestyle', 'Hans Zimmer', 'In Flames', 'Bayside', 'Alexisonfire', 'blink-182', 'Foo Fighters', 'Atoms for Peace', 'Queen', 'Iron Maiden', 'Lady Gaga', 'Wu-Tang Clan', 'Halestorm', 'Nine Inch Nails', 'Parkway Drive', 'Stone Sour', 'The Wonder Years', 'Boston', 'Panic! at the Disco', 'Arctic Monkeys', 'Warpaint', 'Pendulum', 'Disturbed', 'The Dear Hunter', 'Krewella', 'Red Hot Chili Peppers', 'Ke$ha', '30 Seconds to Mars', 'Oh, Sleeper', 'Dark Tranquillity', 'All Time Low', 'Bullet for My Valentine', 'White Zombie', 'Die Antwoord', 'Nobuo Uematsu', 'Soulfly', 'AFI', 'Misfits', 'New Found Glory', 'Rage Against the Machine', 'Three Days Grace', 'Machine Head', 'Queens of the Stone Age', 'Tenacious D', 'Dimmu Borgir', 'Gallows', 'Metallica', 'Leevi and the Leavings', 'System of a Down', 'Arch Enemy', 'Pantera', 'Demon Hunter', 'Marina and the Diamonds', 'Gyllene Tider', 'Howard Shore', 'Cruel Hand', 'Black Label Society', 'Rob Zombie', 'Beach House', 'Madonna', 'Radiohead', 'Calvin Harris', 'Wintersun', 'Evanescence', 'Rammstein', 'Memphis May Fire', 'Sum 41', 'Tool', 'Korn', 'Amon Amarth', 'DragonForce', 'Sonata Arctica', 'Lacuna Coil', 'My Chemical Romance', 'Hozier', 'Pitty', 'Nirvana', 'P.D.P.', 'Soilwork', 'Scar Symmetry', 'Mogwai', 'A Perfect Circle', 'Electric Light Orchestra', 'Mumford & Sons', 'The Killers', 'Trivium', 'Dmitri Shostakovich', 'The Band', 'Cat Power', 'Dope', 'Deftones', 'Volbeat', 'Becoming the Archetype', 'Killswitch Engage', 'Stam1na', 'Sick Puppies', 'Black Veil Brides', 'Children of Bodom', 'Five Finger Death Punch', 'Saosin', 'James Blake', 'Muse', 'Cradle of Filth', 'Fall Out Boy', 'Seether', 'Pentakill', 'Epic Rap Battles Of History', 'Motion City Soundtrack', 'Damien Rice', 'Nightwish', 'Lamb of God', 'deadmau5', 'M.I.A.', 'Sabaton', 'Team Sleep', 'Lindemann', 'Amorphis', 'Pink Floyd', 'Billy Talent', 'Dr. Dre', 'Coldplay', 'Avenged Sevenfold', 'DIR EN GREY', 'Papa Roach', 'Coheed and Cambria', 'Evergreen Terrace', 'Klamydia', 'Ween', 'The White Stripes', 'Circa Survive', 'Turmion Kätilöt', 'Limp Bizkit', 'Bring Me the Horizon', 'Ben Howard', 'Powerwolf', '36 Crazyfists', 'Flo Rida', 'Slipknot', 'Katy Perry', 'Energy', 'Mustasch'}\n",
      "Items that Wags1382 has not rated: dict_keys(['Theory of a Deadman', 'Magnus Uggla', 'Linkin Park', 'N.W.A', 'Shinedown', 'Green Day', 'Daughter', 'Godsmack', 'Breaking Benjamin', 'Freestyle', 'Hans Zimmer', 'In Flames', 'Alexisonfire', 'Foo Fighters', 'Atoms for Peace', 'Queen', 'Iron Maiden', 'Lady Gaga', 'Wu-Tang Clan', 'Halestorm', 'Nine Inch Nails', 'Stone Sour', 'Boston', 'Panic! at the Disco', 'Arctic Monkeys', 'Warpaint', 'Pendulum', 'Disturbed', 'Krewella', 'Red Hot Chili Peppers', 'Ke$ha', '30 Seconds to Mars', 'Oh, Sleeper', 'Dark Tranquillity', 'All Time Low', 'Bullet for My Valentine', 'White Zombie', 'Die Antwoord', 'Nobuo Uematsu', 'Soulfly', 'Rage Against the Machine', 'Three Days Grace', 'Machine Head', 'Queens of the Stone Age', 'Tenacious D', 'Dimmu Borgir', 'Metallica', 'Leevi and the Leavings', 'Arch Enemy', 'Pantera', 'Demon Hunter', 'Marina and the Diamonds', 'Gyllene Tider', 'Howard Shore', 'Black Label Society', 'Rob Zombie', 'Beach House', 'Madonna', 'Radiohead', 'Calvin Harris', 'Wintersun', 'Evanescence', 'Rammstein', 'Memphis May Fire', 'Sum 41', 'Tool', 'Korn', 'Amon Amarth', 'DragonForce', 'Sonata Arctica', 'Lacuna Coil', 'Hozier', 'Pitty', 'Nirvana', 'P.D.P.', 'Soilwork', 'Scar Symmetry', 'Mogwai', 'A Perfect Circle', 'Electric Light Orchestra', 'Mumford & Sons', 'The Killers', 'Trivium', 'Dmitri Shostakovich', 'The Band', 'Cat Power', 'Dope', 'Deftones', 'Volbeat', 'Becoming the Archetype', 'Killswitch Engage', 'Stam1na', 'Sick Puppies', 'Black Veil Brides', 'Children of Bodom', 'Five Finger Death Punch', 'James Blake', 'Muse', 'Cradle of Filth', 'Seether', 'Pentakill', 'Epic Rap Battles Of History', 'Damien Rice', 'Nightwish', 'Lamb of God', 'deadmau5', 'M.I.A.', 'Sabaton', 'Team Sleep', 'Lindemann', 'Amorphis', 'Pink Floyd', 'Billy Talent', 'Dr. Dre', 'Coldplay', 'Avenged Sevenfold', 'DIR EN GREY', 'Papa Roach', 'Klamydia', 'Ween', 'The White Stripes', 'Turmion Kätilöt', 'Limp Bizkit', 'Bring Me the Horizon', 'Ben Howard', 'Powerwolf', '36 Crazyfists', 'Flo Rida', 'Katy Perry', 'System of a Down', 'Mustasch'])\n",
      "Persons with similarity greater than 0: ['MPistol40', 'SkyRif', 'emill_67', 'sattuviitana']\n",
      "Individual items: {'Theory of a Deadman', 'Magnus Uggla', 'Four Year Strong', 'Linkin Park', 'N.W.A', 'Shinedown', 'Green Day', 'Daughter', 'Godsmack', 'Breaking Benjamin', 'Freestyle', 'Hans Zimmer', 'In Flames', 'Bayside', 'Alexisonfire', 'blink-182', 'Foo Fighters', 'Atoms for Peace', 'Queen', 'Iron Maiden', 'Lady Gaga', 'Wu-Tang Clan', 'Halestorm', 'Nine Inch Nails', 'Parkway Drive', 'Stone Sour', 'The Wonder Years', 'Boston', 'Panic! at the Disco', 'Arctic Monkeys', 'Warpaint', 'Pendulum', 'Disturbed', 'The Dear Hunter', 'Krewella', 'Red Hot Chili Peppers', 'Ke$ha', '30 Seconds to Mars', 'Oh, Sleeper', 'Dark Tranquillity', 'All Time Low', 'Bullet for My Valentine', 'White Zombie', 'Die Antwoord', 'Nobuo Uematsu', 'Soulfly', 'AFI', 'Misfits', 'New Found Glory', 'Rage Against the Machine', 'Three Days Grace', 'Machine Head', 'Queens of the Stone Age', 'Tenacious D', 'Dimmu Borgir', 'Gallows', 'Metallica', 'Leevi and the Leavings', 'System of a Down', 'Arch Enemy', 'Pantera', 'Demon Hunter', 'Marina and the Diamonds', 'Gyllene Tider', 'Howard Shore', 'Cruel Hand', 'Black Label Society', 'Rob Zombie', 'Beach House', 'Madonna', 'Radiohead', 'Calvin Harris', 'Wintersun', 'Evanescence', 'Rammstein', 'Memphis May Fire', 'Sum 41', 'Tool', 'Korn', 'Amon Amarth', 'DragonForce', 'Sonata Arctica', 'Lacuna Coil', 'My Chemical Romance', 'Hozier', 'Pitty', 'Nirvana', 'P.D.P.', 'Soilwork', 'Scar Symmetry', 'Mogwai', 'A Perfect Circle', 'Electric Light Orchestra', 'Mumford & Sons', 'The Killers', 'Trivium', 'Dmitri Shostakovich', 'The Band', 'Cat Power', 'Dope', 'Deftones', 'Volbeat', 'Becoming the Archetype', 'Killswitch Engage', 'Stam1na', 'Sick Puppies', 'Black Veil Brides', 'Children of Bodom', 'Five Finger Death Punch', 'Saosin', 'James Blake', 'Muse', 'Cradle of Filth', 'Fall Out Boy', 'Seether', 'Pentakill', 'Epic Rap Battles Of History', 'Motion City Soundtrack', 'Damien Rice', 'Nightwish', 'Lamb of God', 'deadmau5', 'M.I.A.', 'Sabaton', 'Team Sleep', 'Lindemann', 'Amorphis', 'Pink Floyd', 'Billy Talent', 'Dr. Dre', 'Coldplay', 'Avenged Sevenfold', 'DIR EN GREY', 'Papa Roach', 'Coheed and Cambria', 'Evergreen Terrace', 'Klamydia', 'Ween', 'The White Stripes', 'Circa Survive', 'Turmion Kätilöt', 'Limp Bizkit', 'Bring Me the Horizon', 'Ben Howard', 'Powerwolf', '36 Crazyfists', 'Flo Rida', 'Slipknot', 'Katy Perry', 'Energy', 'Mustasch'}\n",
      "Items that Znapsen has not rated: dict_keys(['Theory of a Deadman', 'Four Year Strong', 'Linkin Park', 'N.W.A', 'Shinedown', 'Green Day', 'Daughter', 'Breaking Benjamin', 'Hans Zimmer', 'In Flames', 'Bayside', 'Alexisonfire', 'blink-182', 'Foo Fighters', 'Atoms for Peace', 'Queen', 'Iron Maiden', 'Lady Gaga', 'Wu-Tang Clan', 'Halestorm', 'Nine Inch Nails', 'Parkway Drive', 'Stone Sour', 'The Wonder Years', 'Boston', 'Panic! at the Disco', 'Arctic Monkeys', 'Warpaint', 'Pendulum', 'Disturbed', 'The Dear Hunter', 'Krewella', 'Red Hot Chili Peppers', 'Ke$ha', '30 Seconds to Mars', 'Oh, Sleeper', 'Dark Tranquillity', 'All Time Low', 'Bullet for My Valentine', 'Die Antwoord', 'Nobuo Uematsu', 'Soulfly', 'AFI', 'Energy', 'Misfits', 'New Found Glory', 'Rage Against the Machine', 'Three Days Grace', 'Queens of the Stone Age', 'Tenacious D', 'Dimmu Borgir', 'Gallows', 'Leevi and the Leavings', 'Arch Enemy', 'Demon Hunter', 'Marina and the Diamonds', 'Howard Shore', 'Cruel Hand', 'Rob Zombie', 'Beach House', 'Madonna', 'Radiohead', 'Calvin Harris', 'Wintersun', 'Evanescence', 'Memphis May Fire', 'Sum 41', 'Tool', 'Amon Amarth', 'DragonForce', 'Sonata Arctica', 'Lacuna Coil', 'My Chemical Romance', 'Hozier', 'Pitty', 'Nirvana', 'Soilwork', 'Scar Symmetry', 'Mogwai', 'A Perfect Circle', 'Electric Light Orchestra', 'Mumford & Sons', 'The Killers', 'Trivium', 'Dmitri Shostakovich', 'The Band', 'Cat Power', 'Deftones', 'Volbeat', 'Becoming the Archetype', 'Killswitch Engage', 'Stam1na', 'Sick Puppies', 'Black Veil Brides', 'Children of Bodom', 'Saosin', 'James Blake', 'Muse', 'Cradle of Filth', 'Fall Out Boy', 'Seether', 'Pentakill', 'Epic Rap Battles Of History', 'Motion City Soundtrack', 'Damien Rice', 'Nightwish', 'deadmau5', 'M.I.A.', 'Sabaton', 'Team Sleep', 'Lindemann', 'Amorphis', 'Billy Talent', 'Dr. Dre', 'Coldplay', 'DIR EN GREY', 'Papa Roach', 'Coheed and Cambria', 'Evergreen Terrace', 'Klamydia', 'Ween', 'The White Stripes', 'Circa Survive', 'Turmion Kätilöt', 'Bring Me the Horizon', 'Ben Howard', 'Powerwolf', '36 Crazyfists', 'Flo Rida', 'Katy Perry', 'System of a Down'])\n"
     ]
    },
    {
     "name": "stdout",
     "output_type": "stream",
     "text": [
      "Persons with similarity greater than 0: ['MPistol40']\n",
      "Individual items: {'Theory of a Deadman', 'Magnus Uggla', 'Four Year Strong', 'Linkin Park', 'N.W.A', 'Shinedown', 'Green Day', 'Daughter', 'Godsmack', 'Breaking Benjamin', 'Freestyle', 'Hans Zimmer', 'In Flames', 'Bayside', 'Alexisonfire', 'blink-182', 'Foo Fighters', 'Atoms for Peace', 'Queen', 'Iron Maiden', 'Lady Gaga', 'Wu-Tang Clan', 'Halestorm', 'Nine Inch Nails', 'Parkway Drive', 'Stone Sour', 'The Wonder Years', 'Boston', 'Panic! at the Disco', 'Arctic Monkeys', 'Warpaint', 'Pendulum', 'Disturbed', 'The Dear Hunter', 'Krewella', 'Red Hot Chili Peppers', 'Ke$ha', '30 Seconds to Mars', 'Oh, Sleeper', 'Dark Tranquillity', 'All Time Low', 'Bullet for My Valentine', 'White Zombie', 'Die Antwoord', 'Nobuo Uematsu', 'Soulfly', 'AFI', 'Misfits', 'New Found Glory', 'Rage Against the Machine', 'Three Days Grace', 'Machine Head', 'Queens of the Stone Age', 'Tenacious D', 'Dimmu Borgir', 'Gallows', 'Metallica', 'Leevi and the Leavings', 'System of a Down', 'Arch Enemy', 'Pantera', 'Demon Hunter', 'Marina and the Diamonds', 'Gyllene Tider', 'Howard Shore', 'Cruel Hand', 'Black Label Society', 'Rob Zombie', 'Beach House', 'Madonna', 'Radiohead', 'Calvin Harris', 'Wintersun', 'Evanescence', 'Rammstein', 'Memphis May Fire', 'Sum 41', 'Tool', 'Korn', 'Amon Amarth', 'DragonForce', 'Sonata Arctica', 'Lacuna Coil', 'My Chemical Romance', 'Hozier', 'Pitty', 'Nirvana', 'P.D.P.', 'Soilwork', 'Scar Symmetry', 'Mogwai', 'A Perfect Circle', 'Electric Light Orchestra', 'Mumford & Sons', 'The Killers', 'Trivium', 'Dmitri Shostakovich', 'The Band', 'Cat Power', 'Dope', 'Deftones', 'Volbeat', 'Becoming the Archetype', 'Killswitch Engage', 'Stam1na', 'Sick Puppies', 'Black Veil Brides', 'Children of Bodom', 'Five Finger Death Punch', 'Saosin', 'James Blake', 'Muse', 'Cradle of Filth', 'Fall Out Boy', 'Seether', 'Pentakill', 'Epic Rap Battles Of History', 'Motion City Soundtrack', 'Damien Rice', 'Nightwish', 'Lamb of God', 'deadmau5', 'M.I.A.', 'Sabaton', 'Team Sleep', 'Lindemann', 'Amorphis', 'Pink Floyd', 'Billy Talent', 'Dr. Dre', 'Coldplay', 'Avenged Sevenfold', 'DIR EN GREY', 'Papa Roach', 'Coheed and Cambria', 'Evergreen Terrace', 'Klamydia', 'Ween', 'The White Stripes', 'Circa Survive', 'Turmion Kätilöt', 'Limp Bizkit', 'Bring Me the Horizon', 'Ben Howard', 'Powerwolf', '36 Crazyfists', 'Flo Rida', 'Slipknot', 'Katy Perry', 'Energy', 'Mustasch'}\n",
      "Items that cortapsyco has not rated: dict_keys(['Theory of a Deadman', 'Magnus Uggla', 'Four Year Strong', 'Linkin Park', 'N.W.A', 'Shinedown', 'Green Day', 'Daughter', 'Godsmack', 'Breaking Benjamin', 'Freestyle', 'Hans Zimmer', 'In Flames', 'Bayside', 'Alexisonfire', 'blink-182', 'Foo Fighters', 'Atoms for Peace', 'Queen', 'Iron Maiden', 'Lady Gaga', 'Wu-Tang Clan', 'Nine Inch Nails', 'Parkway Drive', 'Stone Sour', 'The Wonder Years', 'Boston', 'Arctic Monkeys', 'Warpaint', 'Disturbed', 'The Dear Hunter', 'Red Hot Chili Peppers', '30 Seconds to Mars', 'Oh, Sleeper', 'Dark Tranquillity', 'All Time Low', 'Bullet for My Valentine', 'White Zombie', 'Die Antwoord', 'Soulfly', 'AFI', 'Energy', 'Misfits', 'New Found Glory', 'Rage Against the Machine', 'Three Days Grace', 'Machine Head', 'Queens of the Stone Age', 'Tenacious D', 'Gallows', 'Metallica', 'Leevi and the Leavings', 'Arch Enemy', 'Pantera', 'Gyllene Tider', 'Howard Shore', 'Cruel Hand', 'Black Label Society', 'Rob Zombie', 'Beach House', 'Madonna', 'Radiohead', 'Wintersun', 'Evanescence', 'Rammstein', 'Memphis May Fire', 'Sum 41', 'Tool', 'Korn', 'Amon Amarth', 'DragonForce', 'Sonata Arctica', 'My Chemical Romance', 'Hozier', 'Pitty', 'Nirvana', 'P.D.P.', 'Soilwork', 'Scar Symmetry', 'Mogwai', 'A Perfect Circle', 'Electric Light Orchestra', 'Mumford & Sons', 'The Killers', 'Trivium', 'Dmitri Shostakovich', 'The Band', 'Cat Power', 'Dope', 'Deftones', 'Volbeat', 'Stam1na', 'Sick Puppies', 'Children of Bodom', 'Five Finger Death Punch', 'Saosin', 'James Blake', 'Muse', 'Fall Out Boy', 'Seether', 'Pentakill', 'Epic Rap Battles Of History', 'Motion City Soundtrack', 'Damien Rice', 'Nightwish', 'Lamb of God', 'deadmau5', 'M.I.A.', 'Sabaton', 'Team Sleep', 'Lindemann', 'Amorphis', 'Pink Floyd', 'Billy Talent', 'Dr. Dre', 'Coldplay', 'Avenged Sevenfold', 'DIR EN GREY', 'Papa Roach', 'Evergreen Terrace', 'Klamydia', 'Ween', 'The White Stripes', 'Circa Survive', 'Turmion Kätilöt', 'Limp Bizkit', 'Bring Me the Horizon', 'Ben Howard', 'Powerwolf', '36 Crazyfists', 'Mustasch'])\n",
      "Persons with similarity greater than 0: ['BrunoJoS', 'MPistol40', 'SkyRif', 'Znapsen', 'sattuviitana']\n",
      "Individual items: {'Theory of a Deadman', 'Magnus Uggla', 'Four Year Strong', 'Linkin Park', 'N.W.A', 'Shinedown', 'Green Day', 'Daughter', 'Godsmack', 'Breaking Benjamin', 'Freestyle', 'Hans Zimmer', 'In Flames', 'Bayside', 'Alexisonfire', 'blink-182', 'Foo Fighters', 'Atoms for Peace', 'Queen', 'Iron Maiden', 'Lady Gaga', 'Wu-Tang Clan', 'Halestorm', 'Nine Inch Nails', 'Parkway Drive', 'Stone Sour', 'The Wonder Years', 'Boston', 'Panic! at the Disco', 'Arctic Monkeys', 'Warpaint', 'Pendulum', 'Disturbed', 'The Dear Hunter', 'Krewella', 'Red Hot Chili Peppers', 'Ke$ha', '30 Seconds to Mars', 'Oh, Sleeper', 'Dark Tranquillity', 'All Time Low', 'Bullet for My Valentine', 'White Zombie', 'Die Antwoord', 'Nobuo Uematsu', 'Soulfly', 'AFI', 'Misfits', 'New Found Glory', 'Rage Against the Machine', 'Three Days Grace', 'Machine Head', 'Queens of the Stone Age', 'Tenacious D', 'Dimmu Borgir', 'Gallows', 'Metallica', 'Leevi and the Leavings', 'System of a Down', 'Arch Enemy', 'Pantera', 'Demon Hunter', 'Marina and the Diamonds', 'Gyllene Tider', 'Howard Shore', 'Cruel Hand', 'Black Label Society', 'Rob Zombie', 'Beach House', 'Madonna', 'Radiohead', 'Calvin Harris', 'Wintersun', 'Evanescence', 'Rammstein', 'Memphis May Fire', 'Sum 41', 'Tool', 'Korn', 'Amon Amarth', 'DragonForce', 'Sonata Arctica', 'Lacuna Coil', 'My Chemical Romance', 'Hozier', 'Pitty', 'Nirvana', 'P.D.P.', 'Soilwork', 'Scar Symmetry', 'Mogwai', 'A Perfect Circle', 'Electric Light Orchestra', 'Mumford & Sons', 'The Killers', 'Trivium', 'Dmitri Shostakovich', 'The Band', 'Cat Power', 'Dope', 'Deftones', 'Volbeat', 'Becoming the Archetype', 'Killswitch Engage', 'Stam1na', 'Sick Puppies', 'Black Veil Brides', 'Children of Bodom', 'Five Finger Death Punch', 'Saosin', 'James Blake', 'Muse', 'Cradle of Filth', 'Fall Out Boy', 'Seether', 'Pentakill', 'Epic Rap Battles Of History', 'Motion City Soundtrack', 'Damien Rice', 'Nightwish', 'Lamb of God', 'deadmau5', 'M.I.A.', 'Sabaton', 'Team Sleep', 'Lindemann', 'Amorphis', 'Pink Floyd', 'Billy Talent', 'Dr. Dre', 'Coldplay', 'Avenged Sevenfold', 'DIR EN GREY', 'Papa Roach', 'Coheed and Cambria', 'Evergreen Terrace', 'Klamydia', 'Ween', 'The White Stripes', 'Circa Survive', 'Turmion Kätilöt', 'Limp Bizkit', 'Bring Me the Horizon', 'Ben Howard', 'Powerwolf', '36 Crazyfists', 'Flo Rida', 'Slipknot', 'Katy Perry', 'Energy', 'Mustasch'}\n",
      "Items that emill_67 has not rated: dict_keys(['Magnus Uggla', 'Four Year Strong', 'Linkin Park', 'N.W.A', 'Green Day', 'Daughter', 'Godsmack', 'Breaking Benjamin', 'Freestyle', 'Hans Zimmer', 'In Flames', 'Bayside', 'Alexisonfire', 'blink-182', 'Atoms for Peace', 'Queen', 'Lady Gaga', 'Wu-Tang Clan', 'Halestorm', 'Nine Inch Nails', 'Parkway Drive', 'Stone Sour', 'The Wonder Years', 'Panic! at the Disco', 'Arctic Monkeys', 'Warpaint', 'Pendulum', 'The Dear Hunter', 'Krewella', 'Ke$ha', '30 Seconds to Mars', 'Oh, Sleeper', 'Dark Tranquillity', 'All Time Low', 'Bullet for My Valentine', 'White Zombie', 'Die Antwoord', 'Nobuo Uematsu', 'Soulfly', 'AFI', 'Energy', 'Misfits', 'New Found Glory', 'Three Days Grace', 'Machine Head', 'Queens of the Stone Age', 'Tenacious D', 'Dimmu Borgir', 'Gallows', 'Metallica', 'Leevi and the Leavings', 'Arch Enemy', 'Pantera', 'Demon Hunter', 'Marina and the Diamonds', 'Gyllene Tider', 'Howard Shore', 'Cruel Hand', 'Black Label Society', 'Beach House', 'Madonna', 'Radiohead', 'Calvin Harris', 'Wintersun', 'Rammstein', 'Memphis May Fire', 'Sum 41', 'Tool', 'Amon Amarth', 'DragonForce', 'Sonata Arctica', 'Lacuna Coil', 'My Chemical Romance', 'Hozier', 'Pitty', 'Nirvana', 'P.D.P.', 'Soilwork', 'Scar Symmetry', 'Mogwai', 'A Perfect Circle', 'Mumford & Sons', 'The Killers', 'Trivium', 'Dmitri Shostakovich', 'The Band', 'Cat Power', 'Dope', 'Deftones', 'Volbeat', 'Becoming the Archetype', 'Killswitch Engage', 'Stam1na', 'Sick Puppies', 'Black Veil Brides', 'Children of Bodom', 'Saosin', 'James Blake', 'Cradle of Filth', 'Fall Out Boy', 'Pentakill', 'Motion City Soundtrack', 'Damien Rice', 'Nightwish', 'Lamb of God', 'M.I.A.', 'Sabaton', 'Team Sleep', 'Lindemann', 'Amorphis', 'Billy Talent', 'Dr. Dre', 'Coldplay', 'Avenged Sevenfold', 'DIR EN GREY', 'Papa Roach', 'Coheed and Cambria', 'Evergreen Terrace', 'Klamydia', 'The White Stripes', 'Circa Survive', 'Turmion Kätilöt', 'Limp Bizkit', 'Bring Me the Horizon', 'Ben Howard', 'Powerwolf', '36 Crazyfists', 'Flo Rida', 'Katy Perry', 'System of a Down', 'Mustasch'])\n"
     ]
    },
    {
     "name": "stdout",
     "output_type": "stream",
     "text": [
      "Persons with similarity greater than 0: ['BrunoJoS', 'MPistol40', 'NemoNightfall', 'SkyRif', 'Znapsen', 'emill_67']\n",
      "Individual items: {'Theory of a Deadman', 'Magnus Uggla', 'Four Year Strong', 'Linkin Park', 'N.W.A', 'Shinedown', 'Green Day', 'Daughter', 'Godsmack', 'Breaking Benjamin', 'Freestyle', 'Hans Zimmer', 'In Flames', 'Bayside', 'Alexisonfire', 'blink-182', 'Foo Fighters', 'Atoms for Peace', 'Queen', 'Iron Maiden', 'Lady Gaga', 'Wu-Tang Clan', 'Halestorm', 'Nine Inch Nails', 'Parkway Drive', 'Stone Sour', 'The Wonder Years', 'Boston', 'Panic! at the Disco', 'Arctic Monkeys', 'Warpaint', 'Pendulum', 'Disturbed', 'The Dear Hunter', 'Krewella', 'Red Hot Chili Peppers', 'Ke$ha', '30 Seconds to Mars', 'Oh, Sleeper', 'Dark Tranquillity', 'All Time Low', 'Bullet for My Valentine', 'White Zombie', 'Die Antwoord', 'Nobuo Uematsu', 'Soulfly', 'AFI', 'Misfits', 'New Found Glory', 'Rage Against the Machine', 'Three Days Grace', 'Machine Head', 'Queens of the Stone Age', 'Tenacious D', 'Dimmu Borgir', 'Gallows', 'Metallica', 'Leevi and the Leavings', 'System of a Down', 'Arch Enemy', 'Pantera', 'Demon Hunter', 'Marina and the Diamonds', 'Gyllene Tider', 'Howard Shore', 'Cruel Hand', 'Black Label Society', 'Rob Zombie', 'Beach House', 'Madonna', 'Radiohead', 'Calvin Harris', 'Wintersun', 'Evanescence', 'Rammstein', 'Memphis May Fire', 'Sum 41', 'Tool', 'Korn', 'Amon Amarth', 'DragonForce', 'Sonata Arctica', 'Lacuna Coil', 'My Chemical Romance', 'Hozier', 'Pitty', 'Nirvana', 'P.D.P.', 'Soilwork', 'Scar Symmetry', 'Mogwai', 'A Perfect Circle', 'Electric Light Orchestra', 'Mumford & Sons', 'The Killers', 'Trivium', 'Dmitri Shostakovich', 'The Band', 'Cat Power', 'Dope', 'Deftones', 'Volbeat', 'Becoming the Archetype', 'Killswitch Engage', 'Stam1na', 'Sick Puppies', 'Black Veil Brides', 'Children of Bodom', 'Five Finger Death Punch', 'Saosin', 'James Blake', 'Muse', 'Cradle of Filth', 'Fall Out Boy', 'Seether', 'Pentakill', 'Epic Rap Battles Of History', 'Motion City Soundtrack', 'Damien Rice', 'Nightwish', 'Lamb of God', 'deadmau5', 'M.I.A.', 'Sabaton', 'Team Sleep', 'Lindemann', 'Amorphis', 'Pink Floyd', 'Billy Talent', 'Dr. Dre', 'Coldplay', 'Avenged Sevenfold', 'DIR EN GREY', 'Papa Roach', 'Coheed and Cambria', 'Evergreen Terrace', 'Klamydia', 'Ween', 'The White Stripes', 'Circa Survive', 'Turmion Kätilöt', 'Limp Bizkit', 'Bring Me the Horizon', 'Ben Howard', 'Powerwolf', '36 Crazyfists', 'Flo Rida', 'Slipknot', 'Katy Perry', 'Energy', 'Mustasch'}\n",
      "Items that sattuviitana has not rated: dict_keys(['Theory of a Deadman', 'Magnus Uggla', 'Four Year Strong', 'Linkin Park', 'N.W.A', 'Shinedown', 'Green Day', 'Daughter', 'Godsmack', 'Breaking Benjamin', 'Freestyle', 'Hans Zimmer', 'Bayside', 'Alexisonfire', 'blink-182', 'Foo Fighters', 'Atoms for Peace', 'Iron Maiden', 'Lady Gaga', 'Wu-Tang Clan', 'Halestorm', 'Nine Inch Nails', 'Parkway Drive', 'Stone Sour', 'The Wonder Years', 'Boston', 'Panic! at the Disco', 'Arctic Monkeys', 'Warpaint', 'Pendulum', 'Disturbed', 'The Dear Hunter', 'Krewella', 'Red Hot Chili Peppers', 'Ke$ha', '30 Seconds to Mars', 'Oh, Sleeper', 'Dark Tranquillity', 'All Time Low', 'Bullet for My Valentine', 'White Zombie', 'Die Antwoord', 'Nobuo Uematsu', 'Soulfly', 'AFI', 'Energy', 'Misfits', 'New Found Glory', 'Rage Against the Machine', 'Three Days Grace', 'Machine Head', 'Queens of the Stone Age', 'Tenacious D', 'Dimmu Borgir', 'Gallows', 'Arch Enemy', 'Pantera', 'Demon Hunter', 'Marina and the Diamonds', 'Gyllene Tider', 'Howard Shore', 'Cruel Hand', 'Black Label Society', 'Rob Zombie', 'Beach House', 'Madonna', 'Radiohead', 'Calvin Harris', 'Wintersun', 'Evanescence', 'Memphis May Fire', 'Sum 41', 'Tool', 'Amon Amarth', 'DragonForce', 'Lacuna Coil', 'My Chemical Romance', 'Hozier', 'Pitty', 'Nirvana', 'P.D.P.', 'Soilwork', 'Scar Symmetry', 'Mogwai', 'A Perfect Circle', 'Electric Light Orchestra', 'Mumford & Sons', 'The Killers', 'Trivium', 'Dmitri Shostakovich', 'The Band', 'Cat Power', 'Dope', 'Deftones', 'Becoming the Archetype', 'Killswitch Engage', 'Sick Puppies', 'Black Veil Brides', 'Saosin', 'James Blake', 'Muse', 'Cradle of Filth', 'Fall Out Boy', 'Seether', 'Pentakill', 'Epic Rap Battles Of History', 'Motion City Soundtrack', 'Damien Rice', 'Lamb of God', 'deadmau5', 'M.I.A.', 'Team Sleep', 'Pink Floyd', 'Billy Talent', 'Dr. Dre', 'Coldplay', 'DIR EN GREY', 'Papa Roach', 'Coheed and Cambria', 'Evergreen Terrace', 'Ween', 'The White Stripes', 'Circa Survive', 'Limp Bizkit', 'Bring Me the Horizon', 'Ben Howard', 'Powerwolf', '36 Crazyfists', 'Flo Rida', 'Katy Perry', 'Mustasch'])\n"
     ]
    },
    {
     "data": {
      "text/html": [
       "<div>\n",
       "<style scoped>\n",
       "    .dataframe tbody tr th:only-of-type {\n",
       "        vertical-align: middle;\n",
       "    }\n",
       "\n",
       "    .dataframe tbody tr th {\n",
       "        vertical-align: top;\n",
       "    }\n",
       "\n",
       "    .dataframe thead th {\n",
       "        text-align: right;\n",
       "    }\n",
       "</style>\n",
       "<table border=\"1\" class=\"dataframe\">\n",
       "  <thead>\n",
       "    <tr style=\"text-align: right;\">\n",
       "      <th></th>\n",
       "      <th>N(Euclid&gt;=RusselRao) / N</th>\n",
       "      <th>N(Euclid&gt;=Pearson) / N</th>\n",
       "      <th>N(Russel&gt;=Pearson) / N</th>\n",
       "    </tr>\n",
       "  </thead>\n",
       "  <tbody>\n",
       "    <tr>\n",
       "      <th>BrunoJoS</th>\n",
       "      <td>0.610687</td>\n",
       "      <td>0.809160</td>\n",
       "      <td>0.809160</td>\n",
       "    </tr>\n",
       "    <tr>\n",
       "      <th>DPREBOYE</th>\n",
       "      <td>0.557252</td>\n",
       "      <td>1.000000</td>\n",
       "      <td>1.000000</td>\n",
       "    </tr>\n",
       "    <tr>\n",
       "      <th>MPistol40</th>\n",
       "      <td>0.694656</td>\n",
       "      <td>0.694656</td>\n",
       "      <td>0.717557</td>\n",
       "    </tr>\n",
       "    <tr>\n",
       "      <th>NemoNightfall</th>\n",
       "      <td>0.610687</td>\n",
       "      <td>0.793893</td>\n",
       "      <td>0.793893</td>\n",
       "    </tr>\n",
       "    <tr>\n",
       "      <th>SkyRif</th>\n",
       "      <td>0.404580</td>\n",
       "      <td>0.404580</td>\n",
       "      <td>0.679389</td>\n",
       "    </tr>\n",
       "    <tr>\n",
       "      <th>Wags1382</th>\n",
       "      <td>0.862595</td>\n",
       "      <td>1.000000</td>\n",
       "      <td>1.000000</td>\n",
       "    </tr>\n",
       "    <tr>\n",
       "      <th>Znapsen</th>\n",
       "      <td>0.595420</td>\n",
       "      <td>0.717557</td>\n",
       "      <td>0.725191</td>\n",
       "    </tr>\n",
       "    <tr>\n",
       "      <th>cortapsyco</th>\n",
       "      <td>0.381679</td>\n",
       "      <td>0.870229</td>\n",
       "      <td>0.870229</td>\n",
       "    </tr>\n",
       "    <tr>\n",
       "      <th>emill_67</th>\n",
       "      <td>0.519084</td>\n",
       "      <td>0.671756</td>\n",
       "      <td>0.687023</td>\n",
       "    </tr>\n",
       "    <tr>\n",
       "      <th>sattuviitana</th>\n",
       "      <td>0.702290</td>\n",
       "      <td>0.702290</td>\n",
       "      <td>0.717557</td>\n",
       "    </tr>\n",
       "  </tbody>\n",
       "</table>\n",
       "</div>"
      ],
      "text/plain": [
       "               N(Euclid>=RusselRao) / N  N(Euclid>=Pearson) / N  \\\n",
       "BrunoJoS                       0.610687                0.809160   \n",
       "DPREBOYE                       0.557252                1.000000   \n",
       "MPistol40                      0.694656                0.694656   \n",
       "NemoNightfall                  0.610687                0.793893   \n",
       "SkyRif                         0.404580                0.404580   \n",
       "Wags1382                       0.862595                1.000000   \n",
       "Znapsen                        0.595420                0.717557   \n",
       "cortapsyco                     0.381679                0.870229   \n",
       "emill_67                       0.519084                0.671756   \n",
       "sattuviitana                   0.702290                0.702290   \n",
       "\n",
       "               N(Russel>=Pearson) / N  \n",
       "BrunoJoS                     0.809160  \n",
       "DPREBOYE                     1.000000  \n",
       "MPistol40                    0.717557  \n",
       "NemoNightfall                0.793893  \n",
       "SkyRif                       0.679389  \n",
       "Wags1382                     1.000000  \n",
       "Znapsen                      0.725191  \n",
       "cortapsyco                   0.870229  \n",
       "emill_67                     0.687023  \n",
       "sattuviitana                 0.717557  "
      ]
     },
     "execution_count": 64,
     "metadata": {},
     "output_type": "execute_result"
    },
    {
     "data": {
      "image/png": "[encoded data removed]",
      "text/plain": [
       "<Figure size 720x720 with 1 Axes>"
      ]
     },
     "metadata": {
      "needs_background": "light"
     },
     "output_type": "display_data"
    }
   ],
   "source": [
    "euclid_vs_russel = get_similarity_comparison(user_dict, get_user_recommendations, sim_euclid, sim_RusselRao,\n",
    "                                             zero_means_unrated=True)\n",
    "euclid_vs_pearson = get_similarity_comparison(user_dict, get_user_recommendations, sim_euclid, sim_pearson,\n",
    "                                              zero_means_unrated=True)\n",
    "russel_vs_pearson = get_similarity_comparison(user_dict, get_user_recommendations, sim_RusselRao, sim_pearson,\n",
    "                                              zero_means_unrated=True)\n",
    "\n",
    "df_eclid_vs_russel = to_df(euclid_vs_russel, \"N(Euclid>=RusselRao) / N\")\n",
    "df_eclid_vs_pearson = to_df(euclid_vs_pearson, \"N(Euclid>=Pearson) / N\")\n",
    "df_russel_vs_pearson = to_df(russel_vs_pearson, \"N(Russel>=Pearson) / N\")\n",
    "\n",
    "comparison_df = pd.concat([df_eclid_vs_russel, df_eclid_vs_pearson, df_russel_vs_pearson], axis=1)\n",
    "comparison_df.plot(kind='barh', figsize=(10, 10))\n",
    "comparison_df"
   ]
  },
  {
   "cell_type": "markdown",
   "metadata": {
    "pycharm": {
     "name": "#%% md\n"
    }
   },
   "source": [
    "Je hoeher der Wert, desto oefter hat der jeweilig erst genannte Algorithmus einen hoeheren oder gleichen Score\n",
    "erzeugt, als der zweite Algorithmus.\n",
    "\n",
    "Anders als erwartet sind keine klaren Zussammenhänge erkennbar. Es scheint, als würde die größe der Werte sich in den jeweiligen Fällen unterscheiden und nicht hauptsächlich mit dem benutzten Algorithmus zusammenhängen.\n",
    "\n",
    "Um mehr Klarheit zu erlange könnte man noch weitere Verhältnisse plotten. "
   ]
  }
 ],
 "metadata": {
  "kernelspec": {
   "display_name": "Python 3",
   "language": "python",
   "name": "python3"
  },
  "language_info": {
   "codemirror_mode": {
    "name": "ipython",
    "version": 3
   },
   "file_extension": ".py",
   "mimetype": "text/x-python",
   "name": "python",
   "nbconvert_exporter": "python",
   "pygments_lexer": "ipython3",
   "version": "3.8.5"
  },
  "nav_menu": {},
  "toc": {
   "base_numbering": 1,
   "nav_menu": {},
   "number_sections": true,
   "sideBar": true,
   "skip_h1_title": false,
   "title_cell": "Table of Contents",
   "title_sidebar": "Contents",
   "toc_cell": false,
   "toc_position": {},
   "toc_section_display": "block",
   "toc_window_display": true
  },
  "toc_position": {
   "height": "664px",
   "left": "0px",
   "right": "1209.67px",
   "top": "125.333px",
   "width": "212px"
  }
 },
 "nbformat": 4,
 "nbformat_minor": 1
}
