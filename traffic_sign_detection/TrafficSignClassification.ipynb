{
 "cells": [
  {
   "cell_type": "markdown",
   "metadata": {},
   "source": [
    "# Data Mining Versuch Verkehrsschilderkennung mit Neuronalen Netzen\n",
    "\n",
    "* Autor: Prof. Dr. Johannes Maucher\n",
    "* Datum: 14.11.2019"
   ]
  },
  {
   "cell_type": "markdown",
   "metadata": {},
   "source": [
    "# Einführung\n",
    "\n",
    "In diesem Versuch soll ein Convolutional Neural Network (CNN) für die Erkennung von Verkehrschildern implementiert, trainiert, evaluiert und getestet werden. Als Eingabe erhält das neuronale Netz Bilder von deutschen Verkehrsschildern. Ausgabe ist der Typ des Verkehrsschilds. Für Training und Test sind die Verkehrsschildbilder schon in separate Verzeichnissen abgelegt. Neben den Bildern selbst, enthält das zu diesem Versuch gehörende Datenverzeichnis auch Dateien mit Metadaten, die z.B. Bildeigenschaften, Verkehrsschildbedeutungen und die zugehörigen Klassenlabel beschreiben.\n",
    "\n",
    "## Lernziele:\n",
    "In diesem Versuch sollen Kenntnisse in folgenden Themen vermittelt werden:\n",
    "\n",
    "* Convolutional Neural Networks (CNNs)\n",
    "* Implementierung Tiefer Neuronaler Netze mit Tensorflow und Keras: \n",
    "    - Definition der Netzarchitektur\n",
    "    - Training\n",
    "    - Evaluation und Test\n",
    "    \n",
    "* Einfache Methoden der Bildverarbeitung:\n",
    "    - Augmentierung\n",
    "    - Kontrastverstärkung\n",
    "\n",
    "* Evaluation eines Klassifikators\n",
    "\n",
    "\n",
    "## Vorbereitung\n",
    "\n",
    "### Grundlagen Neuronale Netze\n",
    "Machen Sie sich mit den [Grundlagen herkömmlicher Neuronaler Netze (KI Vorlesung)](https://gitlab.mi.hdm-stuttgart.de/maucher/KI/blob/master/Slides/09_PartLernen4.pdf) und den [Grundlagen Convolutional Neural Networks ((KI Vorlesung))](https://gitlab.mi.hdm-stuttgart.de/maucher/KI/blob/master/Slides/V11DeepLearningKIversion.pdf) vertraut.\n",
    "\n",
    "\n",
    "### Implementierung Neuronaler Netze mit Tensorflow und Keras\n",
    "Machen Sie sich mit der Implementierung von Neuronalen Netzen mit Tensorflow und Keras vertraut. Z.B. mit den [Tensorflow Quickstart Tutorials](https://www.tensorflow.org/tutorials/quickstart/beginner)"
   ]
  },
  {
   "cell_type": "markdown",
   "metadata": {},
   "source": [
    "# Durchführung"
   ]
  },
  {
   "cell_type": "markdown",
   "metadata": {},
   "source": [
    "## Vorbereitende Untersuchungen\n",
    "1. Importieren Sie ein Bild aus dem Verzeichnis `Train` mit der [scikit-image.io](https://scikit-image.org/docs/dev/api/skimage.io.html)-Methode `imread()` und zeigen Sie dieses mit der Methode `imshow()` an. Geben Sie die Größe des Bildes aus (Attribut `.shape`). \n",
    "2. Verändern Sie die Größe des Bildes mit der [scikit-image.transform](https://scikit-image.org/docs/dev/api/skimage.transform.html)-Methode `resize()` auf eine Größe von $32x32x3$. Die Verzerrung des Seitenverhältnisses kann dabei ignoriert werden.\n",
    "3. Führen Sie mit der [scikit-image.exposure](https://scikit-image.org/docs/dev/api/skimage.exposure.html)-Methode `equalize_adapthist()` eine Kontrastverstärkung des Bildes durch. Zeigen Sie das vergrößerte und kontrastangereicherte Bild an. **Anmerkung:** Das kontrastverstärkte Bild sieht zwar unschöner aus, auf der Basis kontrastverstärkter Bilder läßt sich aber im allgemeinen die Objekterkennung verbessern.\n",
    "2. Importieren Sie die Datei `Train.csv` und machen Sie sich mit deren Inhalt vertraut. Die Datei `Test.csv` ist gleich strukturiert, bezieht sich aber auf die Bilder im Verzeichnis `Test`. Wieviele Zeilen enthalten die Dateien?\n",
    "3. Importieren Sie die Datei `signnames.csv` und machen Sie sich mit deren Inhalt vertraut. "
   ]
  },
  {
   "cell_type": "code",
   "execution_count": 1,
   "metadata": {
    "pycharm": {
     "name": "#%%\n"
    }
   },
   "outputs": [],
   "source": [
    "import multiprocessing\n",
    "import os\n",
    "\n",
    "import matplotlib.pyplot as plt\n",
    "import numpy as np\n",
    "import pandas as pd\n",
    "from joblib import Parallel, delayed\n",
    "from keras_preprocessing.image import ImageDataGenerator\n",
    "from pandas import DataFrame\n",
    "from skimage import io, transform, exposure\n",
    "from sklearn.metrics import classification_report\n",
    "\n",
    "from sklearn.preprocessing import OneHotEncoder\n",
    "from tensorflow.python.keras import Sequential\n",
    "from tensorflow.keras import models\n",
    "from tensorflow.python.keras.layers import Conv2D, Activation, BatchNormalization, MaxPooling2D, Flatten, Dense, Dropout\n",
    "from tensorflow.keras.optimizers import Adam\n",
    "import tensorflow as tf\n",
    "import json"
   ]
  },
  {
   "cell_type": "markdown",
   "metadata": {
    "pycharm": {
     "name": "#%% md\n"
    }
   },
   "source": [
    "Zuerst wird eine Funktion definiert, die Bilder aus der gegebenen Ordnerstruktur laedt.\n",
    "Um nicht alle Bilder auf einmal zu laden, kann ein Limit eingestellt werden.\n",
    "Die Bilder werden dabei unstrukturiert in einer Liste zurueckgegeben, da die Struktur fuer\n",
    "die relevanten Data-Exploration-Tasks erst einmal nicht von Bedeutung ist."
   ]
  },
  {
   "cell_type": "code",
   "execution_count": 2,
   "metadata": {
    "pycharm": {
     "name": "#%%\n"
    }
   },
   "outputs": [
    {
     "data": {
      "text/plain": [
       "430"
      ]
     },
     "execution_count": 2,
     "metadata": {},
     "output_type": "execute_result"
    }
   ],
   "source": [
    "def load_images_from_class_folders(class_folder_dir, image_limit=None):\n",
    "    classes = [directory for directory in os.listdir(class_folder_dir) if\n",
    "               os.path.isdir(os.path.join(class_folder_dir, directory))]\n",
    "    train_images = [x for class_name in classes for x in\n",
    "                    [io.imread(os.path.join(\".\", class_folder_dir, class_name, file))\n",
    "                     for file in os.listdir(os.path.join(\".\", class_folder_dir, class_name))[\n",
    "                                 :image_limit if image_limit else -1]]]\n",
    "    return train_images\n",
    "\n",
    "\n",
    "train_images = load_images_from_class_folders(os.path.join(\".\", \"data/Train\"), image_limit=10)\n",
    "len(train_images)"
   ]
  },
  {
   "cell_type": "markdown",
   "metadata": {},
   "source": [
    "Um einen Ueberblick darueber zu bekommen, wie ein Bild in Datenform aussieht, wird eines dieser\n",
    "Bilder nun ausgegeben."
   ]
  },
  {
   "cell_type": "code",
   "execution_count": 3,
   "metadata": {
    "pycharm": {
     "name": "#%%\n"
    }
   },
   "outputs": [
    {
     "data": {
      "text/plain": [
       "(27, 27, 3)"
      ]
     },
     "execution_count": 3,
     "metadata": {},
     "output_type": "execute_result"
    }
   ],
   "source": [
    "image = train_images[0]\n",
    "image.shape"
   ]
  },
  {
   "cell_type": "markdown",
   "metadata": {
    "pycharm": {
     "name": "#%% md\n"
    }
   },
   "source": [
    "Wie man gut erkennen kann, hat das Bild die Dimensionen 27x27 Pixel und 3 Kanaele\n",
    "pro Pixel. Somit handelt es sich eindeutig um ein RGB-Bild.\n",
    "\n",
    "Dieses RGB-Bild wird nun einmal als solches angezeigt, um ein Verstaendnis davon zu erhalten,\n",
    "was in solch einem Bild repraesentiert wird."
   ]
  },
  {
   "cell_type": "code",
   "execution_count": 4,
   "metadata": {
    "pycharm": {
     "name": "#%%\n"
    }
   },
   "outputs": [
    {
     "data": {
      "text/plain": [
       "<matplotlib.image.AxesImage at 0x7f1072208fa0>"
      ]
     },
     "execution_count": 4,
     "metadata": {},
     "output_type": "execute_result"
    },
    {
     "data": {
      "image/png": "[encoded data removed]",
      "text/plain": [
       "<Figure size 432x288 with 1 Axes>"
      ]
     },
     "metadata": {
      "needs_background": "light"
     },
     "output_type": "display_data"
    }
   ],
   "source": [
    "plt.imshow(image)"
   ]
  },
  {
   "cell_type": "markdown",
   "metadata": {
    "pycharm": {
     "name": "#%% md\n"
    }
   },
   "source": [
    "Es sich um ein relativ kleines Bild (27x27 Pixel) handelt, ist in diesem Falle auch fuer den Menschen schwer zu\n",
    "erkennen, um was fuer ein Verkehrszeichen es sich handelt. Im Verlaufe des Versuchs wird sich zeigen,\n",
    "ob eine Maschine dies besser hinbekommt.\n",
    "\n",
    "Um die Groessenverteilung der Bilder anzuschauen, werden diese in einem Boxplot ausgegeben."
   ]
  },
  {
   "cell_type": "code",
   "execution_count": 5,
   "metadata": {
    "pycharm": {
     "name": "#%%\n"
    }
   },
   "outputs": [
    {
     "data": {
      "text/plain": [
       "<AxesSubplot:>"
      ]
     },
     "execution_count": 5,
     "metadata": {},
     "output_type": "execute_result"
    },
    {
     "data": {
      "image/png": "[encoded data removed]",
      "text/plain": [
       "<Figure size 1080x720 with 1 Axes>"
      ]
     },
     "metadata": {
      "needs_background": "light"
     },
     "output_type": "display_data"
    }
   ],
   "source": [
    "image_sizes = DataFrame([list(image.shape) for image in train_images], columns=[\"X Size\", \"Y Size\", \"Num Channels\"])\n",
    "image_sizes.iloc[:, :2].boxplot(vert=False, figsize=(15, 10))"
   ]
  },
  {
   "cell_type": "markdown",
   "metadata": {
    "pycharm": {
     "name": "#%% md\n"
    }
   },
   "source": [
    "Wie man gut erkennen kann, sind die meisten Bilder etwa zwischen 25 und 100 Pixel breit\n",
    "sowie hoch. Es gibt ein paar Ausreisser nach oben, bis hin zu 190 Pixel in der Breite und\n",
    "170 Pixel in der Hoehe.\n",
    "\n",
    "Um diese, doch sehr verschieden große, Bilder auf eine Einheitsgroeße zu bringen, wird nun eine\n",
    "Funktion implementiert, welche ein gegebenes Bild in Form eines Numpy-Arrays auf eine gegebene\n",
    "Groeße skaliert.\n",
    "\n",
    "Die einheitliche Zielgroeße soll hier 32 auf 32 Pixel betragen.\n",
    "\n",
    "In den meisten Faellen ist 32x32 Pixel kleiner als das Ausgangsbild, beim aktuellen Beispiel-Bild\n",
    "hingegeben bedeutet dies eine Skalierung auf eine Groesse die groesser als die aktuelle ist.\n",
    "Um hier moeglichst wenig Informationen ueber den Inhalt des Bildes verloren gehen, wird eine Bi-Quintic\n",
    "Interpolationsmethode verwendet. Normalerweise waere in diesem Fall die NearesT-Neighbour-Methode die Beste,\n",
    "da sie die eigentlichen Pixelwerte nicht veraendert, jedoch fuehrt sie in diesem Fall zu großen Verzerrungen bei kleinen Bildern."
   ]
  },
  {
   "cell_type": "code",
   "execution_count": 6,
   "metadata": {
    "pycharm": {
     "name": "#%%\n"
    }
   },
   "outputs": [
    {
     "data": {
      "text/plain": [
       "<matplotlib.image.AxesImage at 0x7f107204f100>"
      ]
     },
     "execution_count": 6,
     "metadata": {},
     "output_type": "execute_result"
    },
    {
     "data": {
      "image/png": "[encoded data removed]",
      "text/plain": [
       "<Figure size 432x288 with 1 Axes>"
      ]
     },
     "metadata": {
      "needs_background": "light"
     },
     "output_type": "display_data"
    }
   ],
   "source": [
    "def resize_image(image, shape):\n",
    "    new_image = transform.resize(image, shape, order=5)\n",
    "    return new_image\n",
    "\n",
    "\n",
    "resized_image = resize_image(image, (32, 32))\n",
    "plt.imshow(resized_image)"
   ]
  },
  {
   "cell_type": "markdown",
   "metadata": {
    "pycharm": {
     "name": "#%% md\n"
    }
   },
   "source": [
    "Wie gut zu erkennen ist, wird der Inhalt des Bildes beim Skalieren leicht geglaettet,\n",
    "allerdings haelt sich die Verzerrung in Grenzen, sodass das Ergebnis fuer das Training und Testen\n",
    "eines neuronalen Netzes genutzt werden kann.\n",
    "\n",
    "Um die relevanten Inhalt eines solchen Bildes noch einmal hervorzuheben, wird eine\n",
    "Histogram-Angleichung vorgenommen. Diese erhoeht den Kontrast im Bild, sodass die Zeichen innerhalb\n",
    "eines Schildes besser vom Rest des Schildes, und das Schild besser von seiner Umgebung unterschieden\n",
    "werden kann."
   ]
  },
  {
   "cell_type": "code",
   "execution_count": 7,
   "metadata": {
    "pycharm": {
     "name": "#%%\n"
    }
   },
   "outputs": [
    {
     "data": {
      "text/plain": [
       "<matplotlib.image.AxesImage at 0x7f1071fbc5b0>"
      ]
     },
     "execution_count": 7,
     "metadata": {},
     "output_type": "execute_result"
    },
    {
     "data": {
      "image/png": "[encoded data removed]",
      "text/plain": [
       "<Figure size 432x288 with 1 Axes>"
      ]
     },
     "metadata": {
      "needs_background": "light"
     },
     "output_type": "display_data"
    }
   ],
   "source": [
    "def adaptive_histrogram_equalization(image, kernel_size):\n",
    "    new_image = exposure.equalize_adapthist(image, kernel_size)\n",
    "    return new_image\n",
    "\n",
    "\n",
    "contrast_image = adaptive_histrogram_equalization(resized_image, 5)\n",
    "plt.imshow(contrast_image)"
   ]
  },
  {
   "cell_type": "markdown",
   "metadata": {
    "pycharm": {
     "name": "#%% md\n"
    }
   },
   "source": [
    "Wie gut erkennbar ist, ist das Schild selbst sowie der Inhalt des Schildes besser erkennbar.\n",
    "Man kann ebenfalls mehr Details in der Umgebung erkennen, was fuer die blosse Erkennung zwar nicht\n",
    "von Bedeutung ist, allerdings dadurch einen groessern Werteunterschied zum Schild darstellt, und somit\n",
    "von einem Computer als unterschiedlich erkannt werden kann.\n",
    "\n",
    "Jetzt werden die relevanten Metadaten in Form einer CSV in ein Pandas DataFrame eingelesen."
   ]
  },
  {
   "cell_type": "code",
   "execution_count": 8,
   "metadata": {
    "pycharm": {
     "name": "#%%\n"
    }
   },
   "outputs": [
    {
     "name": "stdout",
     "output_type": "stream",
     "text": [
      "Train.csv has 39209 lines.\n"
     ]
    },
    {
     "data": {
      "text/html": [
       "<div>\n",
       "<style scoped>\n",
       "    .dataframe tbody tr th:only-of-type {\n",
       "        vertical-align: middle;\n",
       "    }\n",
       "\n",
       "    .dataframe tbody tr th {\n",
       "        vertical-align: top;\n",
       "    }\n",
       "\n",
       "    .dataframe thead th {\n",
       "        text-align: right;\n",
       "    }\n",
       "</style>\n",
       "<table border=\"1\" class=\"dataframe\">\n",
       "  <thead>\n",
       "    <tr style=\"text-align: right;\">\n",
       "      <th></th>\n",
       "      <th>Width</th>\n",
       "      <th>Height</th>\n",
       "      <th>Roi.X1</th>\n",
       "      <th>Roi.Y1</th>\n",
       "      <th>Roi.X2</th>\n",
       "      <th>Roi.Y2</th>\n",
       "      <th>ClassId</th>\n",
       "      <th>Path</th>\n",
       "    </tr>\n",
       "  </thead>\n",
       "  <tbody>\n",
       "    <tr>\n",
       "      <th>32579</th>\n",
       "      <td>117</td>\n",
       "      <td>107</td>\n",
       "      <td>11</td>\n",
       "      <td>9</td>\n",
       "      <td>107</td>\n",
       "      <td>98</td>\n",
       "      <td>31</td>\n",
       "      <td>Train/31/00031_00016_00029.png</td>\n",
       "    </tr>\n",
       "    <tr>\n",
       "      <th>30392</th>\n",
       "      <td>52</td>\n",
       "      <td>47</td>\n",
       "      <td>5</td>\n",
       "      <td>5</td>\n",
       "      <td>47</td>\n",
       "      <td>42</td>\n",
       "      <td>26</td>\n",
       "      <td>Train/26/00026_00014_00002.png</td>\n",
       "    </tr>\n",
       "    <tr>\n",
       "      <th>15130</th>\n",
       "      <td>35</td>\n",
       "      <td>35</td>\n",
       "      <td>6</td>\n",
       "      <td>5</td>\n",
       "      <td>30</td>\n",
       "      <td>30</td>\n",
       "      <td>10</td>\n",
       "      <td>Train/10/00010_00003_00010.png</td>\n",
       "    </tr>\n",
       "    <tr>\n",
       "      <th>7050</th>\n",
       "      <td>28</td>\n",
       "      <td>29</td>\n",
       "      <td>5</td>\n",
       "      <td>6</td>\n",
       "      <td>23</td>\n",
       "      <td>24</td>\n",
       "      <td>4</td>\n",
       "      <td>Train/4/00004_00020_00000.png</td>\n",
       "    </tr>\n",
       "    <tr>\n",
       "      <th>11490</th>\n",
       "      <td>25</td>\n",
       "      <td>27</td>\n",
       "      <td>5</td>\n",
       "      <td>6</td>\n",
       "      <td>20</td>\n",
       "      <td>21</td>\n",
       "      <td>7</td>\n",
       "      <td>Train/7/00007_00026_00000.png</td>\n",
       "    </tr>\n",
       "    <tr>\n",
       "      <th>13441</th>\n",
       "      <td>28</td>\n",
       "      <td>28</td>\n",
       "      <td>6</td>\n",
       "      <td>6</td>\n",
       "      <td>23</td>\n",
       "      <td>23</td>\n",
       "      <td>8</td>\n",
       "      <td>Train/8/00008_00043_00001.png</td>\n",
       "    </tr>\n",
       "    <tr>\n",
       "      <th>8120</th>\n",
       "      <td>45</td>\n",
       "      <td>43</td>\n",
       "      <td>6</td>\n",
       "      <td>5</td>\n",
       "      <td>40</td>\n",
       "      <td>38</td>\n",
       "      <td>4</td>\n",
       "      <td>Train/4/00004_00055_00020.png</td>\n",
       "    </tr>\n",
       "    <tr>\n",
       "      <th>38426</th>\n",
       "      <td>80</td>\n",
       "      <td>80</td>\n",
       "      <td>7</td>\n",
       "      <td>7</td>\n",
       "      <td>72</td>\n",
       "      <td>72</td>\n",
       "      <td>40</td>\n",
       "      <td>Train/40/00040_00001_00027.png</td>\n",
       "    </tr>\n",
       "    <tr>\n",
       "      <th>28560</th>\n",
       "      <td>54</td>\n",
       "      <td>59</td>\n",
       "      <td>5</td>\n",
       "      <td>6</td>\n",
       "      <td>49</td>\n",
       "      <td>54</td>\n",
       "      <td>25</td>\n",
       "      <td>Train/25/00025_00003_00000.png</td>\n",
       "    </tr>\n",
       "    <tr>\n",
       "      <th>39054</th>\n",
       "      <td>42</td>\n",
       "      <td>44</td>\n",
       "      <td>5</td>\n",
       "      <td>5</td>\n",
       "      <td>37</td>\n",
       "      <td>39</td>\n",
       "      <td>42</td>\n",
       "      <td>Train/42/00042_00002_00025.png</td>\n",
       "    </tr>\n",
       "  </tbody>\n",
       "</table>\n",
       "</div>"
      ],
      "text/plain": [
       "       Width  Height  Roi.X1  Roi.Y1  Roi.X2  Roi.Y2  ClassId  \\\n",
       "32579    117     107      11       9     107      98       31   \n",
       "30392     52      47       5       5      47      42       26   \n",
       "15130     35      35       6       5      30      30       10   \n",
       "7050      28      29       5       6      23      24        4   \n",
       "11490     25      27       5       6      20      21        7   \n",
       "13441     28      28       6       6      23      23        8   \n",
       "8120      45      43       6       5      40      38        4   \n",
       "38426     80      80       7       7      72      72       40   \n",
       "28560     54      59       5       6      49      54       25   \n",
       "39054     42      44       5       5      37      39       42   \n",
       "\n",
       "                                 Path  \n",
       "32579  Train/31/00031_00016_00029.png  \n",
       "30392  Train/26/00026_00014_00002.png  \n",
       "15130  Train/10/00010_00003_00010.png  \n",
       "7050    Train/4/00004_00020_00000.png  \n",
       "11490   Train/7/00007_00026_00000.png  \n",
       "13441   Train/8/00008_00043_00001.png  \n",
       "8120    Train/4/00004_00055_00020.png  \n",
       "38426  Train/40/00040_00001_00027.png  \n",
       "28560  Train/25/00025_00003_00000.png  \n",
       "39054  Train/42/00042_00002_00025.png  "
      ]
     },
     "execution_count": 8,
     "metadata": {},
     "output_type": "execute_result"
    }
   ],
   "source": [
    "train_csv = pd.read_csv(os.path.join(\".\", \"data\", \"Train.csv\"))\n",
    "print(f\"Train.csv has {len(train_csv)} lines.\")\n",
    "train_csv.sample(frac=1).head(10)"
   ]
  },
  {
   "cell_type": "markdown",
   "metadata": {
    "pycharm": {
     "name": "#%% md\n"
    }
   },
   "source": [
    "In den Metadaten befinden sich einige Informationen, wie die Hoehe und Breite des Bildes, sowie die\n",
    "sogenannte *region of interest*, also in diesem Fall der Bereich, in dem sich das eigentliche\n",
    "Verkehrsschild befindet. Desweitern is die *ClassId*, also der Type des Schildes, sowie der Pfad im\n",
    "Trainingsverzeichnis angegeben."
   ]
  },
  {
   "cell_type": "code",
   "execution_count": 9,
   "metadata": {
    "pycharm": {
     "name": "#%%\n"
    }
   },
   "outputs": [
    {
     "name": "stdout",
     "output_type": "stream",
     "text": [
      "Test.csv has 12630 lines.\n"
     ]
    },
    {
     "data": {
      "text/html": [
       "<div>\n",
       "<style scoped>\n",
       "    .dataframe tbody tr th:only-of-type {\n",
       "        vertical-align: middle;\n",
       "    }\n",
       "\n",
       "    .dataframe tbody tr th {\n",
       "        vertical-align: top;\n",
       "    }\n",
       "\n",
       "    .dataframe thead th {\n",
       "        text-align: right;\n",
       "    }\n",
       "</style>\n",
       "<table border=\"1\" class=\"dataframe\">\n",
       "  <thead>\n",
       "    <tr style=\"text-align: right;\">\n",
       "      <th></th>\n",
       "      <th>Width</th>\n",
       "      <th>Height</th>\n",
       "      <th>Roi.X1</th>\n",
       "      <th>Roi.Y1</th>\n",
       "      <th>Roi.X2</th>\n",
       "      <th>Roi.Y2</th>\n",
       "      <th>ClassId</th>\n",
       "      <th>Path</th>\n",
       "    </tr>\n",
       "  </thead>\n",
       "  <tbody>\n",
       "    <tr>\n",
       "      <th>3988</th>\n",
       "      <td>40</td>\n",
       "      <td>43</td>\n",
       "      <td>5</td>\n",
       "      <td>6</td>\n",
       "      <td>35</td>\n",
       "      <td>38</td>\n",
       "      <td>16</td>\n",
       "      <td>Test/03988.png</td>\n",
       "    </tr>\n",
       "    <tr>\n",
       "      <th>1783</th>\n",
       "      <td>31</td>\n",
       "      <td>31</td>\n",
       "      <td>5</td>\n",
       "      <td>5</td>\n",
       "      <td>26</td>\n",
       "      <td>26</td>\n",
       "      <td>10</td>\n",
       "      <td>Test/01783.png</td>\n",
       "    </tr>\n",
       "    <tr>\n",
       "      <th>2450</th>\n",
       "      <td>32</td>\n",
       "      <td>30</td>\n",
       "      <td>6</td>\n",
       "      <td>6</td>\n",
       "      <td>27</td>\n",
       "      <td>25</td>\n",
       "      <td>11</td>\n",
       "      <td>Test/02450.png</td>\n",
       "    </tr>\n",
       "    <tr>\n",
       "      <th>5422</th>\n",
       "      <td>49</td>\n",
       "      <td>49</td>\n",
       "      <td>5</td>\n",
       "      <td>6</td>\n",
       "      <td>44</td>\n",
       "      <td>44</td>\n",
       "      <td>31</td>\n",
       "      <td>Test/05422.png</td>\n",
       "    </tr>\n",
       "    <tr>\n",
       "      <th>4749</th>\n",
       "      <td>43</td>\n",
       "      <td>44</td>\n",
       "      <td>5</td>\n",
       "      <td>6</td>\n",
       "      <td>38</td>\n",
       "      <td>39</td>\n",
       "      <td>2</td>\n",
       "      <td>Test/04749.png</td>\n",
       "    </tr>\n",
       "    <tr>\n",
       "      <th>2198</th>\n",
       "      <td>49</td>\n",
       "      <td>49</td>\n",
       "      <td>5</td>\n",
       "      <td>5</td>\n",
       "      <td>44</td>\n",
       "      <td>44</td>\n",
       "      <td>12</td>\n",
       "      <td>Test/02198.png</td>\n",
       "    </tr>\n",
       "    <tr>\n",
       "      <th>8152</th>\n",
       "      <td>40</td>\n",
       "      <td>40</td>\n",
       "      <td>6</td>\n",
       "      <td>6</td>\n",
       "      <td>35</td>\n",
       "      <td>35</td>\n",
       "      <td>7</td>\n",
       "      <td>Test/08152.png</td>\n",
       "    </tr>\n",
       "    <tr>\n",
       "      <th>10477</th>\n",
       "      <td>38</td>\n",
       "      <td>36</td>\n",
       "      <td>5</td>\n",
       "      <td>5</td>\n",
       "      <td>33</td>\n",
       "      <td>31</td>\n",
       "      <td>18</td>\n",
       "      <td>Test/10477.png</td>\n",
       "    </tr>\n",
       "    <tr>\n",
       "      <th>3347</th>\n",
       "      <td>38</td>\n",
       "      <td>39</td>\n",
       "      <td>5</td>\n",
       "      <td>6</td>\n",
       "      <td>33</td>\n",
       "      <td>34</td>\n",
       "      <td>35</td>\n",
       "      <td>Test/03347.png</td>\n",
       "    </tr>\n",
       "    <tr>\n",
       "      <th>5124</th>\n",
       "      <td>57</td>\n",
       "      <td>58</td>\n",
       "      <td>5</td>\n",
       "      <td>6</td>\n",
       "      <td>52</td>\n",
       "      <td>53</td>\n",
       "      <td>12</td>\n",
       "      <td>Test/05124.png</td>\n",
       "    </tr>\n",
       "  </tbody>\n",
       "</table>\n",
       "</div>"
      ],
      "text/plain": [
       "       Width  Height  Roi.X1  Roi.Y1  Roi.X2  Roi.Y2  ClassId            Path\n",
       "3988      40      43       5       6      35      38       16  Test/03988.png\n",
       "1783      31      31       5       5      26      26       10  Test/01783.png\n",
       "2450      32      30       6       6      27      25       11  Test/02450.png\n",
       "5422      49      49       5       6      44      44       31  Test/05422.png\n",
       "4749      43      44       5       6      38      39        2  Test/04749.png\n",
       "2198      49      49       5       5      44      44       12  Test/02198.png\n",
       "8152      40      40       6       6      35      35        7  Test/08152.png\n",
       "10477     38      36       5       5      33      31       18  Test/10477.png\n",
       "3347      38      39       5       6      33      34       35  Test/03347.png\n",
       "5124      57      58       5       6      52      53       12  Test/05124.png"
      ]
     },
     "execution_count": 9,
     "metadata": {},
     "output_type": "execute_result"
    }
   ],
   "source": [
    "test_csv = pd.read_csv(os.path.join(\".\", \"data\", \"Test.csv\"))\n",
    "print(f\"Test.csv has {len(test_csv)} lines.\")\n",
    "test_csv.sample(frac=1).head(10)"
   ]
  },
  {
   "cell_type": "markdown",
   "metadata": {},
   "source": [
    "Bei den Testdaten ist die Metadatenstruktur die Selbe.\n",
    "\n",
    "Jetzt werden noch die Label fuer die jeweiligen *ClassIds* aus den Metadaten geladen.\n",
    "Sie finden sich in der *signnames.csv*-Datei."
   ]
  },
  {
   "cell_type": "code",
   "execution_count": 10,
   "metadata": {
    "pycharm": {
     "name": "#%%\n"
    }
   },
   "outputs": [
    {
     "data": {
      "text/html": [
       "<div>\n",
       "<style scoped>\n",
       "    .dataframe tbody tr th:only-of-type {\n",
       "        vertical-align: middle;\n",
       "    }\n",
       "\n",
       "    .dataframe tbody tr th {\n",
       "        vertical-align: top;\n",
       "    }\n",
       "\n",
       "    .dataframe thead th {\n",
       "        text-align: right;\n",
       "    }\n",
       "</style>\n",
       "<table border=\"1\" class=\"dataframe\">\n",
       "  <thead>\n",
       "    <tr style=\"text-align: right;\">\n",
       "      <th></th>\n",
       "      <th>ClassId</th>\n",
       "      <th>SignName</th>\n",
       "    </tr>\n",
       "  </thead>\n",
       "  <tbody>\n",
       "    <tr>\n",
       "      <th>0</th>\n",
       "      <td>0</td>\n",
       "      <td>Speed limit (20km/h)</td>\n",
       "    </tr>\n",
       "    <tr>\n",
       "      <th>1</th>\n",
       "      <td>1</td>\n",
       "      <td>Speed limit (30km/h)</td>\n",
       "    </tr>\n",
       "    <tr>\n",
       "      <th>2</th>\n",
       "      <td>2</td>\n",
       "      <td>Speed limit (50km/h)</td>\n",
       "    </tr>\n",
       "    <tr>\n",
       "      <th>3</th>\n",
       "      <td>3</td>\n",
       "      <td>Speed limit (60km/h)</td>\n",
       "    </tr>\n",
       "    <tr>\n",
       "      <th>4</th>\n",
       "      <td>4</td>\n",
       "      <td>Speed limit (70km/h)</td>\n",
       "    </tr>\n",
       "    <tr>\n",
       "      <th>5</th>\n",
       "      <td>5</td>\n",
       "      <td>Speed limit (80km/h)</td>\n",
       "    </tr>\n",
       "    <tr>\n",
       "      <th>6</th>\n",
       "      <td>6</td>\n",
       "      <td>End of speed limit (80km/h)</td>\n",
       "    </tr>\n",
       "    <tr>\n",
       "      <th>7</th>\n",
       "      <td>7</td>\n",
       "      <td>Speed limit (100km/h)</td>\n",
       "    </tr>\n",
       "    <tr>\n",
       "      <th>8</th>\n",
       "      <td>8</td>\n",
       "      <td>Speed limit (120km/h)</td>\n",
       "    </tr>\n",
       "    <tr>\n",
       "      <th>9</th>\n",
       "      <td>9</td>\n",
       "      <td>No passing</td>\n",
       "    </tr>\n",
       "  </tbody>\n",
       "</table>\n",
       "</div>"
      ],
      "text/plain": [
       "   ClassId                     SignName\n",
       "0        0         Speed limit (20km/h)\n",
       "1        1         Speed limit (30km/h)\n",
       "2        2         Speed limit (50km/h)\n",
       "3        3         Speed limit (60km/h)\n",
       "4        4         Speed limit (70km/h)\n",
       "5        5         Speed limit (80km/h)\n",
       "6        6  End of speed limit (80km/h)\n",
       "7        7        Speed limit (100km/h)\n",
       "8        8        Speed limit (120km/h)\n",
       "9        9                   No passing"
      ]
     },
     "execution_count": 10,
     "metadata": {},
     "output_type": "execute_result"
    }
   ],
   "source": [
    "signnames_csv = pd.read_csv(os.path.join(\".\", \"data\", \"signnames.csv\"))\n",
    "signnames_csv.head(10)"
   ]
  },
  {
   "cell_type": "markdown",
   "metadata": {
    "pycharm": {
     "name": "#%% md\n"
    }
   },
   "source": [
    "Der Inhalt beschraenkt sich auf die jeweilige ID der Klasse, also die Verkehrsschildklasse,\n",
    "sowie der Name des jeweiligen Schildes."
   ]
  },
  {
   "cell_type": "markdown",
   "metadata": {},
   "source": [
    "## Funktion für den Import aller Trainings- bzw. Testbilder\n",
    "Schreiben Sie eine Funktion mit folgenden Eigenschaften:\n",
    "* Der Funktion wird der Name der Datei übergeben, in welcher die Metadaten stehen, also entweder `Train.csv` oder `Test.csv`.\n",
    "* Rückgabewerte der Funktion sind \n",
    "    * ein 4-dimensionales numpy-array, das alle Bilder des jeweiligen Verzeichnisses (Training oder Test) enthält.\n",
    "    * ein 1-dimensionales numpy-array, das die Klassenlabel aller Bilder enthält.\n",
    "* Die Bilder müssen alle auf eine Größe von $32x32x3$ skaliert werden (wie in der Vorbereitungsaufgabe).\n",
    "* Für alle Bilder ist eine Kontrastverstärkung durchzuführen (wie in der Vorbereitungsaufgabe).\n",
    "\n",
    "**Tipps für die Implementierung dieser Funktion:**\n",
    "\n",
    "Iterieren Sie mit einer for-Schleife über alle Zeilen des metadaten-Files. Pro Iteration kann dann \n",
    "* der vollständige Verzeichnis- und Filenamen ausgelesen werden,\n",
    "* das entsprechende Bild mit `imread()` eingelesen werden,\n",
    "* das Bild auf die vorgegebene Größe angepasst werden,\n",
    "* der Kontrast des Bildes verstärkt werden.\n",
    "\n",
    "**Wichtig:** In den von der Funktion zurückgegebenen Arrays, dürfen die Bilder nicht wie in der ursprünglichen Reihenfolge im Dateiverzeichnis enthalten sein. Um sicherzustellen, dass beim Training jedes Minibatch möglichst viele verschiedene Klassen enthält, muss die Reihenfolge geshuffelt werden. Am einfachsten ist es, wenn gleich die Zeilen des Metadatenfiles geshuffelt werden."
   ]
  },
  {
   "cell_type": "markdown",
   "metadata": {
    "pycharm": {
     "name": "#%% md\n"
    }
   },
   "source": [
    "Nun wird eine Funktion definiert, die mit einem gegebenen Metadaten-DataFrame ein Datensatz\n",
    "bestehend aus den eigentlichen Daten, also die Eingabedaten, sowie den Klassenlabels der Ausgabe erstellt.\n",
    "\n",
    "Die Funktion kann in vielerlei hinsicht angepasst werden. Je nachdem, ob die eingebaut shuffle-Funktion\n",
    "in des *keras*-Generators genutzt wird, koennen die Daten schon vor dem Laden zufaellig gemischt werden.\n",
    "Zusaetzlich dazu kann dynamisches Laden eines eigenen Generators genutzt werden, bei dem jeweils nur ein\n",
    "Teil der Daten auf einmal geladen wird, wofuer das *img_limit* sowie der *offset* benoetigt wird.\n",
    "Desweiteren kann die Groesse der Bilder angegeben werden.\n",
    "\n",
    "Da das Laden der Bilder sehr lange dauern kann, wurde dies, sowie alle Bildmanipulationen parallelisiert,\n",
    "und nutzen so das volle Potenzial des Rechners, respektive der Festplatte."
   ]
  },
  {
   "cell_type": "code",
   "execution_count": 11,
   "metadata": {},
   "outputs": [],
   "source": [
    "def create_dataset(metadata, image_shape=(32, 32), offset=0, img_limit=-1, shuffle=True):\n",
    "    thread_count = multiprocessing.cpu_count() * 2 + 1\n",
    "    metadata_shuffled = metadata.sample(frac=1) if shuffle else metadata\n",
    "    index_start = offset if offset != 0 else None\n",
    "    index_end = offset + img_limit if img_limit != -1 else None\n",
    "    images = np.array([io.imread(os.path.join(\".\", \"data\", path))\n",
    "                       for path in metadata_shuffled[\"Path\"][\n",
    "                                   index_start: index_end]])\n",
    "    images_resized = np.array(\n",
    "        Parallel(n_jobs=thread_count)(delayed(resize_image)(image, image_shape) for image in images))\n",
    "\n",
    "    # divide by max to avoid issue of weird float behaviour (1 value saved as 1.000000004)\n",
    "    images_resized = images_resized / images_resized.max()\n",
    "    images_contrast = np.array(\n",
    "        Parallel(n_jobs=thread_count)(delayed(adaptive_histrogram_equalization)(x, 5) for x in images_resized))\n",
    "    return images_contrast, np.array(\n",
    "        metadata_shuffled[\"ClassId\"][index_start: index_end])\n",
    "\n"
   ]
  },
  {
   "cell_type": "markdown",
   "metadata": {
    "pycharm": {
     "name": "#%% md\n"
    }
   },
   "source": [
    "Nun wird ein kleiner Testdatensatz mithilfe der vorherigen Funktion geladen und\n",
    "ueber Richtigkeit geprueft und es wird ein Bild aus diesem Datensatz angezeigt."
   ]
  },
  {
   "cell_type": "code",
   "execution_count": 12,
   "metadata": {
    "pycharm": {
     "name": "#%%\n"
    }
   },
   "outputs": [
    {
     "name": "stderr",
     "output_type": "stream",
     "text": [
      "<ipython-input-11-d73fcbd616b7>:6: VisibleDeprecationWarning: Creating an ndarray from ragged nested sequences (which is a list-or-tuple of lists-or-tuples-or ndarrays with different lengths or shapes) is deprecated. If you meant to do this, you must specify 'dtype=object' when creating the ndarray\n",
      "  images = np.array([io.imread(os.path.join(\".\", \"data\", path))\n"
     ]
    },
    {
     "name": "stdout",
     "output_type": "stream",
     "text": [
      "x-Shape: (100, 32, 32, 3)\n",
      "y-Shape: (100,)\n"
     ]
    },
    {
     "data": {
      "image/png": "[encoded data removed]",
      "text/plain": [
       "<Figure size 432x288 with 1 Axes>"
      ]
     },
     "metadata": {
      "needs_background": "light"
     },
     "output_type": "display_data"
    }
   ],
   "source": [
    "dataset_temp = create_dataset(train_csv, img_limit=100)\n",
    "assert dataset_temp[0].shape[0] == 100\n",
    "print(f\"x-Shape: {dataset_temp[0].shape}\")\n",
    "print(f\"y-Shape: {dataset_temp[1].shape}\")\n",
    "plt.imshow(dataset_temp[0][0])\n",
    "plt.show()"
   ]
  },
  {
   "cell_type": "markdown",
   "metadata": {
    "pycharm": {
     "name": "#%% md\n"
    }
   },
   "source": [
    "Wie man erkennen kann, hat der Datensatz die gewunschte Laenge und alle Bilder haben\n",
    "die gewuenschte Groesse.\n",
    "Ebenfalls sind die Bilder waehrend der Verarbeitung nicht korrumpiert worden, koennen also\n",
    "nach wie vor als Bilder angezeigt werden."
   ]
  },
  {
   "cell_type": "markdown",
   "metadata": {},
   "source": [
    "## Laden und Vorverarbeiten der Trainings- und Testdaten\n",
    "1. Laden Sie mit der in der vorigen Teilaufgabe implementierten Funktion alle Trainingsbilder (`trainX`), Trainingslabel (`trainY`), Testbilder (`testX`) und Testlabel (`testY`)\n",
    "1. Bestimmen Sie die Häufigkeitsverteilung der Klassen in den Trainings- und Testdaten. Visualisieren Sie diese.\n",
    "2. Die Pixelwerte aller Bilder sind Integer zwischen 0 und 255. Transformieren Sie Trainings- und Testbilder so, dass die Werte Floats im Bereich zwischen 0 und 1 sind. Hierfür kann das gesamte 4-dimensionale Array durch 255 geteilt werden.\n",
    "3. Alle Labels, sowohl der Trainings- als auch der Testdaten müssen One-Hot-encodiert werden."
   ]
  },
  {
   "cell_type": "markdown",
   "metadata": {
    "pycharm": {
     "name": "#%% md\n"
    }
   },
   "source": [
    "Nun werden die Test- und Trainingsdaten mit der vorig geladenen Metadatenliste geladen.\n",
    "Desweiteren werden die Klassen-Name, also die Namen der verschiedenen Schilder aus der\n",
    "dementsprechenden CSV-Liste geladen."
   ]
  },
  {
   "cell_type": "code",
   "execution_count": 13,
   "metadata": {},
   "outputs": [
    {
     "name": "stderr",
     "output_type": "stream",
     "text": [
      "<ipython-input-11-d73fcbd616b7>:6: VisibleDeprecationWarning: Creating an ndarray from ragged nested sequences (which is a list-or-tuple of lists-or-tuples-or ndarrays with different lengths or shapes) is deprecated. If you meant to do this, you must specify 'dtype=object' when creating the ndarray\n",
      "  images = np.array([io.imread(os.path.join(\".\", \"data\", path))\n"
     ]
    }
   ],
   "source": [
    "train_x, train_y_raw = create_dataset(train_csv)\n",
    "test_x, test_y_raw = create_dataset(test_csv)"
   ]
  },
  {
   "cell_type": "code",
   "execution_count": 14,
   "metadata": {
    "pycharm": {
     "name": "#%%\n"
    }
   },
   "outputs": [],
   "source": [
    "class_ids = list(signnames_csv[\"ClassId\"])\n",
    "classes = list(signnames_csv[\"SignName\"])"
   ]
  },
  {
   "cell_type": "markdown",
   "metadata": {},
   "source": [
    "Um die geladenen Daten auf Richtigkeit zu ueberpruefen, wird die Form der entstandenen\n",
    "*numpy*-Arrays ausgegeben. Sie sollten die selbe Laenge wie die Metadatenlisten haben."
   ]
  },
  {
   "cell_type": "code",
   "execution_count": 15,
   "metadata": {
    "pycharm": {
     "name": "#%%\n"
    }
   },
   "outputs": [
    {
     "name": "stdout",
     "output_type": "stream",
     "text": [
      "(39209, 32, 32, 3) (39209,)\n",
      "(12630, 32, 32, 3) (12630,)\n"
     ]
    }
   ],
   "source": [
    "assert train_x.shape[0] == len(train_csv) == train_y_raw.shape[0]\n",
    "assert test_y_raw.shape[0] == len(test_csv) == test_y_raw.shape[0]\n",
    "print(train_x.shape, train_y_raw.shape)\n",
    "print(test_x.shape, test_y_raw.shape)"
   ]
  },
  {
   "cell_type": "markdown",
   "metadata": {
    "pycharm": {
     "name": "#%% md\n"
    }
   },
   "source": [
    "Wie zu erkennen ist, stimmen die Laengen der Datensaetze mit den Quelldaten ueberein.\n",
    "\n",
    "Um nun sicherzustellen, dass die Trainings- und Testdaten ueberhaupt eine sinnvolle Basis fuer\n",
    "das Training eines neuronalen Netzes darstellen, wird nun die Verteilung der Werte ueber den\n",
    "Trainings- und den Testdatensatz ermittelt."
   ]
  },
  {
   "cell_type": "code",
   "execution_count": 16,
   "metadata": {
    "pycharm": {
     "name": "#%%\n"
    }
   },
   "outputs": [
    {
     "data": {
      "text/plain": [
       "<AxesSubplot:>"
      ]
     },
     "execution_count": 16,
     "metadata": {},
     "output_type": "execute_result"
    },
    {
     "data": {
      "image/png": "[encoded data removed]",
      "text/plain": [
       "<Figure size 1080x1080 with 1 Axes>"
      ]
     },
     "metadata": {
      "needs_background": "light"
     },
     "output_type": "display_data"
    }
   ],
   "source": [
    "dist_train = DataFrame(train_y_raw).merge(\n",
    "    DataFrame(classes, columns=[\"Sign Name\"]), left_on=0, right_index=True)[\"Sign Name\"].value_counts()\n",
    "dist_test = DataFrame(test_y_raw).merge(\n",
    "    DataFrame(classes, columns=[\"Sign Name\"]), left_on=0, right_index=True)[\"Sign Name\"].value_counts()\n",
    "\n",
    "dist_train.plot.barh(figsize=(15, 15))"
   ]
  },
  {
   "cell_type": "code",
   "execution_count": 17,
   "metadata": {
    "pycharm": {
     "name": "#%%\n"
    }
   },
   "outputs": [
    {
     "data": {
      "text/plain": [
       "<AxesSubplot:>"
      ]
     },
     "execution_count": 17,
     "metadata": {},
     "output_type": "execute_result"
    },
    {
     "data": {
      "image/png": "[encoded data removed]",
      "text/plain": [
       "<Figure size 1080x1080 with 1 Axes>"
      ]
     },
     "metadata": {
      "needs_background": "light"
     },
     "output_type": "display_data"
    }
   ],
   "source": [
    "dist_test.plot.barh(figsize=(15, 15))"
   ]
  },
  {
   "cell_type": "code",
   "execution_count": 18,
   "metadata": {
    "pycharm": {
     "name": "#%%\n"
    }
   },
   "outputs": [
    {
     "name": "stdout",
     "output_type": "stream",
     "text": [
      "Max percentage difference between test and train data distributions: 3.83%\n"
     ]
    }
   ],
   "source": [
    "dist_differences = [(dist_train.loc[index] - dist_test.loc[index]) / len(train_y_raw) for index in dist_train.index]\n",
    "print(\n",
    "    f\"Max percentage difference between test and train data distributions: \"\n",
    "    f\"{round(max(dist_differences), 4) * 100}%\")"
   ]
  },
  {
   "cell_type": "markdown",
   "metadata": {
    "pycharm": {
     "name": "#%% md\n"
    }
   },
   "source": [
    "Wie klar deutlich wird, sind die Unterschiede zwischen den Werteverteilungen im Trainings-\n",
    "und Testdatensatz maximal bei 3.83%, was eine akzeptable Abweichung ist.\n",
    "\n",
    "Nun werden die geladenen Labels fuer die Trainings- und Testdaten One-Hot-Enkodiert.\n",
    "Dies bedeutet, dass jedes Label in die Form eines Arrays mit der Laenge der Liste aller Klassen\n",
    "ersetzt wird, bei dem alle Werte auf 0 gesetzt werden und nur der Wert mit dem Index der Klassen-ID\n",
    "auf 1 gesetzt wird.\n",
    "\n",
    "Grund dafuer ist die Struktur eine tiefen neuronalen Netzes, wessen Ausgabe-Ebene ein Neuron fuer\n",
    "jede Klasse hat, bei dem, im Idealfall, alle Ausgabewerte bei 0 liegen, bis auf den, wessen Index die\n",
    "ID der vorhergesagten Klasse ist. Um diese Struktur zu antizipieren, muessen die Ausgabewerte\n",
    "so kodiert werden."
   ]
  },
  {
   "cell_type": "code",
   "execution_count": 19,
   "metadata": {
    "pycharm": {
     "name": "#%%\n"
    }
   },
   "outputs": [
    {
     "data": {
      "text/plain": [
       "array([0., 0., 0., 0., 0., 0., 0., 0., 0., 0., 0., 0., 0., 0., 0., 0., 0.,\n",
       "       1., 0., 0., 0., 0., 0., 0., 0., 0., 0., 0., 0., 0., 0., 0., 0., 0.,\n",
       "       0., 0., 0., 0., 0., 0., 0., 0., 0.])"
      ]
     },
     "execution_count": 19,
     "metadata": {},
     "output_type": "execute_result"
    }
   ],
   "source": [
    "encoder = OneHotEncoder(sparse=False)\n",
    "train_y = encoder.fit_transform(train_y_raw.reshape((-1, 1)))\n",
    "test_y = encoder.fit_transform(test_y_raw.reshape((-1, 1)))\n",
    "train_y[0]"
   ]
  },
  {
   "cell_type": "markdown",
   "metadata": {
    "pycharm": {
     "name": "#%% md\n"
    }
   },
   "source": [
    "Wie in der Ausgabe zu erkennen ist, hat das Kodieren funktioniert.\n",
    "\n",
    "Um die Richtigkeit der Kodierung zu ueberprufen, wird nun der Index eines Items der Labels mit dem\n",
    "urspruenglichen Label verglichen."
   ]
  },
  {
   "cell_type": "code",
   "execution_count": 20,
   "metadata": {
    "pycharm": {
     "name": "#%%\n"
    }
   },
   "outputs": [],
   "source": [
    "assert np.where(train_y[0] == 1) == train_y_raw[0]"
   ]
  },
  {
   "cell_type": "markdown",
   "metadata": {
    "pycharm": {
     "name": "#%% md\n"
    }
   },
   "source": [
    "Da kein Fehler entsteht, ist das Kodieren auch korrekt."
   ]
  },
  {
   "cell_type": "markdown",
   "metadata": {},
   "source": [
    "## Definition der CNN Architektur\n",
    "Schreiben Sie eine Funktion `generateCNN(width, height, depth, classes)` die eine Keras CNN-Architektur zurück gibt. Für die Definition der Architektur werden dieser Funktion die Parameter:\n",
    "\n",
    "* `width`: Breite der Bilder\n",
    "* `height`: Höhe der Bilder\n",
    "* `depth`: Anzahl der Kanäle pro Bild\n",
    "* `classes`: Anzahl der unterschiedlichen Klassen\n",
    "\n",
    "übergeben. Die in der Funktion zu implementierende Architektur ist im folgenden Bild dargestellt. In der Spalte *Output shape* bezeichnen die zweite und dritte Zahl die Breite und die Höhe der einzelnen Kanäle (*Bilder*), der letzte Parameter bezeichnet die Anzahl der Kanäle (Parameter *filters* in der Konfiguration).\n",
    "In der Übersichtstabelle ist Filtergröße nicht aufgeführt. Empfohlen sind folgende Größen:\n",
    "* für alle Pooling Layer: *pool_size=(2,2)*.\n",
    "* für den ersten Conv2D-Layer: *kernel_size=(5,5)*.\n",
    "* für alle weiteren Conv2D-Layer: *kernel_size=(3,3)*\n",
    "\n",
    "**Anmerkung:** Der in der Tabelle mit *flatten_5* bezeichnete Layer ist nicht notwendig und erzeugt in bestimmten Keras-Versionen eine Fehlermeldung. Der Layer sollte nicht nicht in die Architektur mit aufgenommen werden.\n"
   ]
  },
  {
   "cell_type": "markdown",
   "metadata": {},
   "source": [
    "<img src=\"https://maucher.home.hdm-stuttgart.de/Pics/cnnTrafficSign.png\" style=\"width:700px\" align=\"middle\">"
   ]
  },
  {
   "cell_type": "markdown",
   "metadata": {
    "pycharm": {
     "name": "#%% md\n"
    }
   },
   "source": [
    "Jetzt wird das zu trainierende Modell generiert.\n",
    "\n",
    "Hierzu wird eine Funktion implementiert, welche ein sequentielles Modell equivalent\n",
    "zu der gegebenen Ausgabe eines Modells erstellt.\n",
    "\n",
    "Als Aktivierungsfunktion wird die allgemein verwendete *relu*-Funktion verwendet.\n",
    "Die Dropout-Rate wurde auf 0.25 gesetzt.\n",
    "Die initiale Filtergroesse, sowie alle Multiplikationen jener waren bereits gegeben.\n",
    "\n",
    "Wichtig hierbei ist, als letzte Aktivierungsfunktion die *softmax*-Funktion zu verwenden, damit\n",
    "die Ausgabewerte in der vorletzen Ebene in eine Wahrscheinlichkeitsverteilung in der letzen Ebene\n",
    "umgerechnet wird, bei der alle Werte zu 1 summieren."
   ]
  },
  {
   "cell_type": "code",
   "execution_count": 21,
   "metadata": {},
   "outputs": [],
   "source": [
    "def genertate_cnn(width, heigth, depth, classes):\n",
    "    filter_size = 8\n",
    "    activation = \"relu\"\n",
    "    dropout_rate = 0.25\n",
    "\n",
    "    model = Sequential()\n",
    "\n",
    "    model.add(Conv2D(filter_size, kernel_size=(5, 5),\n",
    "                     input_shape=(width, heigth, depth), padding=\"same\"))\n",
    "    model.add(Activation(activation=activation))\n",
    "    model.add(BatchNormalization())\n",
    "    model.add(MaxPooling2D(pool_size=(2, 2)))\n",
    "\n",
    "    model.add(Conv2D(filter_size * 2, kernel_size=(3, 3), padding=\"same\"))\n",
    "    model.add(Activation(activation=activation))\n",
    "    model.add(BatchNormalization())\n",
    "\n",
    "    model.add(Conv2D(filter_size * 2, kernel_size=(3, 3), padding=\"same\"))\n",
    "    model.add(Activation(activation=activation))\n",
    "    model.add(BatchNormalization())\n",
    "    model.add(MaxPooling2D(pool_size=(2, 2)))\n",
    "\n",
    "    model.add(Conv2D(filter_size * 4, kernel_size=(3, 3), padding=\"same\"))\n",
    "    model.add(Activation(activation=activation))\n",
    "    model.add(BatchNormalization())\n",
    "\n",
    "    model.add(Conv2D(filter_size * 4, kernel_size=(3, 3), padding=\"same\"))\n",
    "    model.add(Activation(activation=activation))\n",
    "    model.add(MaxPooling2D(pool_size=(2, 2)))\n",
    "\n",
    "    model.add(Flatten())\n",
    "    model.add(Dense(128, use_bias=False))\n",
    "    model.add(Activation(activation=activation))\n",
    "    model.add(BatchNormalization())\n",
    "\n",
    "    model.add(Dropout(dropout_rate))\n",
    "    model.add(Dense(128))\n",
    "    model.add(Activation(activation=activation))\n",
    "    model.add(BatchNormalization())\n",
    "\n",
    "    model.add(Dropout(dropout_rate))\n",
    "    model.add(Dense(len(classes)))\n",
    "    model.add(Activation(activation=\"softmax\"))\n",
    "\n",
    "    return model"
   ]
  },
  {
   "cell_type": "markdown",
   "metadata": {},
   "source": [
    "## Training des CNN\n",
    "Rufen Sie die im vorigen Abschnitt implementierte Funktion `generateCNN()` auf und weisen Sie die von der Funktion zurückgegebene Architektur der Variablen `model` zu. Durch Aufruf der Funktion `model.summary()` erhalten Sie eine Übersicht des erzeugten Netzes.\n",
    "\n",
    "Für das Training soll der `Adam`-Algorithmus aus dem Modul `tensorflow.keras.optimizers` benutzt werden. `Adam` implementiert ein *Stochastic Gradient Descent*-Lernverfahren, welches die Lernraten für die Gewichte individuell und dynamisch anpasst."
   ]
  },
  {
   "cell_type": "markdown",
   "metadata": {
    "pycharm": {
     "name": "#%% md\n"
    }
   },
   "source": [
    "Um das Training nicht bei jedem Ausfuehren des Notebooks erneut durchfuehren zu muessen,\n",
    "wird eine Speicher- sowie Ladefunktion fuer das generierte und trainierte Modell implementiert.\n",
    "\n",
    "Damit kann das Modell, sowie die Trainingshistorie persistent abgespeichert werden."
   ]
  },
  {
   "cell_type": "code",
   "execution_count": 22,
   "metadata": {},
   "outputs": [],
   "source": [
    "def save_model(model, hist, path):\n",
    "    model.save(path)\n",
    "    with open(path + \"_hist\", \"w\") as hist_file:\n",
    "        hist_file.write(json.dumps(hist))"
   ]
  },
  {
   "cell_type": "code",
   "execution_count": 23,
   "metadata": {},
   "outputs": [],
   "source": [
    "def load_model(path):\n",
    "    model = models.load_model(path)\n",
    "    with open(path + \"_hist\", \"r\") as hist_file:\n",
    "        hist = json.load(hist_file)\n",
    "    return model, hist"
   ]
  },
  {
   "cell_type": "markdown",
   "metadata": {
    "pycharm": {
     "name": "#%% md\n"
    }
   },
   "source": [
    "Nun wird ein Modell mit der vorherig implementierten Funktion generiert, oder, falls bereits\n",
    "ein Modell trainiert wurde, dieses von der Festplatte geladen.\n",
    "\n",
    "Anschliessen wird eine Zusammenfassung des Modells ausgegeben."
   ]
  },
  {
   "cell_type": "code",
   "execution_count": 24,
   "metadata": {
    "pycharm": {
     "name": "#%%\n"
    }
   },
   "outputs": [
    {
     "name": "stdout",
     "output_type": "stream",
     "text": [
      "Model: \"sequential\"\n",
      "_________________________________________________________________\n",
      "Layer (type)                 Output Shape              Param #   \n",
      "=================================================================\n",
      "conv2d (Conv2D)              (None, 32, 32, 8)         608       \n",
      "_________________________________________________________________\n",
      "activation (Activation)      (None, 32, 32, 8)         0         \n",
      "_________________________________________________________________\n",
      "batch_normalization (BatchNo (None, 32, 32, 8)         32        \n",
      "_________________________________________________________________\n",
      "max_pooling2d (MaxPooling2D) (None, 16, 16, 8)         0         \n",
      "_________________________________________________________________\n",
      "conv2d_1 (Conv2D)            (None, 16, 16, 16)        1168      \n",
      "_________________________________________________________________\n",
      "activation_1 (Activation)    (None, 16, 16, 16)        0         \n",
      "_________________________________________________________________\n",
      "batch_normalization_1 (Batch (None, 16, 16, 16)        64        \n",
      "_________________________________________________________________\n",
      "conv2d_2 (Conv2D)            (None, 16, 16, 16)        2320      \n",
      "_________________________________________________________________\n",
      "activation_2 (Activation)    (None, 16, 16, 16)        0         \n",
      "_________________________________________________________________\n",
      "batch_normalization_2 (Batch (None, 16, 16, 16)        64        \n",
      "_________________________________________________________________\n",
      "max_pooling2d_1 (MaxPooling2 (None, 8, 8, 16)          0         \n",
      "_________________________________________________________________\n",
      "conv2d_3 (Conv2D)            (None, 8, 8, 32)          4640      \n",
      "_________________________________________________________________\n",
      "activation_3 (Activation)    (None, 8, 8, 32)          0         \n",
      "_________________________________________________________________\n",
      "batch_normalization_3 (Batch (None, 8, 8, 32)          128       \n",
      "_________________________________________________________________\n",
      "conv2d_4 (Conv2D)            (None, 8, 8, 32)          9248      \n",
      "_________________________________________________________________\n",
      "activation_4 (Activation)    (None, 8, 8, 32)          0         \n",
      "_________________________________________________________________\n",
      "max_pooling2d_2 (MaxPooling2 (None, 4, 4, 32)          0         \n",
      "_________________________________________________________________\n",
      "flatten (Flatten)            (None, 512)               0         \n",
      "_________________________________________________________________\n",
      "dense (Dense)                (None, 128)               65536     \n",
      "_________________________________________________________________\n",
      "activation_5 (Activation)    (None, 128)               0         \n",
      "_________________________________________________________________\n",
      "batch_normalization_4 (Batch (None, 128)               512       \n",
      "_________________________________________________________________\n",
      "dropout (Dropout)            (None, 128)               0         \n",
      "_________________________________________________________________\n",
      "dense_1 (Dense)              (None, 128)               16512     \n",
      "_________________________________________________________________\n",
      "activation_6 (Activation)    (None, 128)               0         \n",
      "_________________________________________________________________\n",
      "batch_normalization_5 (Batch (None, 128)               512       \n",
      "_________________________________________________________________\n",
      "dropout_1 (Dropout)          (None, 128)               0         \n",
      "_________________________________________________________________\n",
      "dense_2 (Dense)              (None, 43)                5547      \n",
      "_________________________________________________________________\n",
      "activation_7 (Activation)    (None, 43)                0         \n",
      "=================================================================\n",
      "Total params: 106,891\n",
      "Trainable params: 106,235\n",
      "Non-trainable params: 656\n",
      "_________________________________________________________________\n"
     ]
    }
   ],
   "source": [
    "model_name = \"custom_adam\"\n",
    "if os.path.isdir(os.path.join(\".\", model_name)):\n",
    "    model, hist = load_model(os.path.join(\".\", model_name))\n",
    "else:\n",
    "    model = genertate_cnn(32, 32, 3, classes)\n",
    "    hist = None\n",
    "\n",
    "model.summary()"
   ]
  },
  {
   "cell_type": "markdown",
   "metadata": {
    "pycharm": {
     "name": "#%% md\n"
    }
   },
   "source": [
    "Nun werden wichtige Trainingsparameter definiert."
   ]
  },
  {
   "cell_type": "code",
   "execution_count": 25,
   "metadata": {
    "pycharm": {
     "name": "#%%\n"
    }
   },
   "outputs": [],
   "source": [
    "NUM_EPOCHS = 15  # Number of training epochs\n",
    "INIT_LR = 1e-3  # Initial Learning Rate for ADAM training\n",
    "BS = 64  # Size of minibatches"
   ]
  },
  {
   "cell_type": "markdown",
   "metadata": {
    "pycharm": {
     "name": "#%% md\n"
    }
   },
   "source": [
    "Nun wird der *Adam-Optimizer* initialisiert, und das Modell damit compiliert, sodass es\n",
    "trainiert werden kann."
   ]
  },
  {
   "cell_type": "code",
   "execution_count": 26,
   "metadata": {},
   "outputs": [
    {
     "name": "stderr",
     "output_type": "stream",
     "text": [
      "/home/alex/projects/mi-lab-ss21/ml_lab/lib/python3.9/site-packages/tensorflow/python/keras/optimizer_v2/optimizer_v2.py:374: UserWarning: The `lr` argument is deprecated, use `learning_rate` instead.\n",
      "  warnings.warn(\n"
     ]
    }
   ],
   "source": [
    "opt = Adam(lr=INIT_LR, decay=INIT_LR / (NUM_EPOCHS * 0.5))\n",
    "model.compile(loss=\"categorical_crossentropy\", optimizer=opt, metrics=[\"accuracy\"])"
   ]
  },
  {
   "cell_type": "markdown",
   "metadata": {},
   "source": [
    "Für das Training sollen nicht nur die vorhandenen Trainingsbilder eingesetzt werden, sondern zusätzlich Bilder die Augmentierungen der Trainingsbilder sind. Augmentierte Bilder können mit dem `ImageDataGenerator` des Moduls `tensorflow.keras.preprocessing.image` erzeugt werden. Der Code für die Erzeugung des in diesem Projekt eingesetzten Objekts ist unten gegeben. \n",
    "\n",
    "**Aufgabe:** Erklären Sie was in dieser Codezelle definiert wird."
   ]
  },
  {
   "cell_type": "markdown",
   "metadata": {
    "pycharm": {
     "name": "#%% md\n"
    }
   },
   "source": [
    "Um mehr Varianz in den Trainingsdaten zu erzeugen, koennen, vor allem bei Bildern,\n",
    "gewissen Funktionalitaeten verwendet werden, die solch eine Varianz induzieren.\n",
    "\n",
    "Eine Moeglichkeit dafuer ist der ImageDataGenerator. Dieser kann zum einen ein Datensatz\n",
    "*lazy laden*, also immer nur das jeweilig benoetigte Batch and Bilder laden, zum Anderen\n",
    "gibt er die Moeglichkeit, Varianz mit gegebenen Parametern in den Datensatz zu bringen.\n",
    "\n",
    "Varianz ist in diesem Falle leichte Modifikationen der geladenen Bilder. Dies kann die\n",
    "Form von Rotation, Vergroesserung, Verschiebung oder Abschneiden von Bildteilen haben.\n",
    "\n",
    "Wichtig hierbei ist der letzte Parameter, welcher definiert, dass die Interpolationsmethode\n",
    "*nearest Neighbour* verwendet wird. Grund dafuer ist, wie auch schon beim skalieren der Bilder, dass\n",
    "durch Glättung beim Skalieren keine Verzerrungen des Bildinhaltes entstehen."
   ]
  },
  {
   "cell_type": "code",
   "execution_count": 27,
   "metadata": {},
   "outputs": [],
   "source": [
    "# construct the image generator for data augmentation\n",
    "aug = ImageDataGenerator(\n",
    "    rotation_range=10,\n",
    "    zoom_range=0.15,\n",
    "    width_shift_range=0.1,\n",
    "    height_shift_range=0.1,\n",
    "    shear_range=0.15,\n",
    "    horizontal_flip=False,\n",
    "    vertical_flip=False,\n",
    "    fill_mode=\"nearest\")"
   ]
  },
  {
   "cell_type": "markdown",
   "metadata": {},
   "source": [
    "Das Training wird mit folgender Codezelle ausgeführt.\n",
    "\n",
    "**Aufgabe:** Erklären Sie die Argumente der Funktion `fit_generator()`. \n",
    "\n",
    "Für die Ausführung der Zelle muss das numpy-Array `classWeight` angelegt sein. Sie enthält für jede Klasse den relativen Anteil dieser Klasse in den Trainingsbildern. Wenn z.B. 30% aller Trainingsdaten zur Klasse 0 gehören, dann hätte das erste Element in `classWeight` den Wert 0.3."
   ]
  },
  {
   "cell_type": "markdown",
   "metadata": {
    "pycharm": {
     "name": "#%% md\n"
    }
   },
   "source": [
    "Um die Gewichtung der Klassen, also die Verteilung der jeweiligen Klassen im gesamten Datensatz zu beruecksichtigen,\n",
    "muss diese angegeben werden. Die Klassengewichtung muss in Form eines Dictionaries mit den jeweiligen\n",
    "Klassen-IDs als Keys und der Verteilung als Values angegeben werden.\n",
    "Dieses Dictionary wird im Folgenden generiert."
   ]
  },
  {
   "cell_type": "code",
   "execution_count": 28,
   "metadata": {
    "pycharm": {
     "name": "#%%\n"
    }
   },
   "outputs": [
    {
     "data": {
      "text/html": [
       "<div>\n",
       "<style scoped>\n",
       "    .dataframe tbody tr th:only-of-type {\n",
       "        vertical-align: middle;\n",
       "    }\n",
       "\n",
       "    .dataframe tbody tr th {\n",
       "        vertical-align: top;\n",
       "    }\n",
       "\n",
       "    .dataframe thead th {\n",
       "        text-align: right;\n",
       "    }\n",
       "</style>\n",
       "<table border=\"1\" class=\"dataframe\">\n",
       "  <thead>\n",
       "    <tr style=\"text-align: right;\">\n",
       "      <th></th>\n",
       "      <th>Class weight</th>\n",
       "    </tr>\n",
       "  </thead>\n",
       "  <tbody>\n",
       "    <tr>\n",
       "      <th>0</th>\n",
       "      <td>0.005356</td>\n",
       "    </tr>\n",
       "    <tr>\n",
       "      <th>1</th>\n",
       "      <td>0.056620</td>\n",
       "    </tr>\n",
       "    <tr>\n",
       "      <th>2</th>\n",
       "      <td>0.057385</td>\n",
       "    </tr>\n",
       "    <tr>\n",
       "      <th>3</th>\n",
       "      <td>0.035961</td>\n",
       "    </tr>\n",
       "    <tr>\n",
       "      <th>4</th>\n",
       "      <td>0.050499</td>\n",
       "    </tr>\n",
       "  </tbody>\n",
       "</table>\n",
       "</div>"
      ],
      "text/plain": [
       "   Class weight\n",
       "0      0.005356\n",
       "1      0.056620\n",
       "2      0.057385\n",
       "3      0.035961\n",
       "4      0.050499"
      ]
     },
     "execution_count": 28,
     "metadata": {},
     "output_type": "execute_result"
    }
   ],
   "source": [
    "class_weight = {i: dist_train.loc[class_name] / len(train_y) for i, class_name in enumerate(classes)}\n",
    "DataFrame.from_dict(class_weight, orient=\"index\", columns=[\"Class weight\"]).head(5)"
   ]
  },
  {
   "cell_type": "markdown",
   "metadata": {
    "pycharm": {
     "name": "#%% md\n"
    }
   },
   "source": [
    "Da das Training von neuronalen Netzen sehr gut parallelisiert werden kann, und eine GPU\n",
    "hervorragende Moeglichkeiten zur Parallelisierung bietet, kann *tensorflow* GPUs zum trainieren\n",
    "verwenden. Um zu ueberpruefen, ob sich eine kompatible GPU im System befindet, dient die folgende\n",
    "Zeile."
   ]
  },
  {
   "cell_type": "code",
   "execution_count": 29,
   "metadata": {},
   "outputs": [
    {
     "name": "stdout",
     "output_type": "stream",
     "text": [
      "Num GPUs Available:  1\n"
     ]
    }
   ],
   "source": [
    "print(\"Num GPUs Available: \", len(tf.config.list_physical_devices('GPU')))"
   ]
  },
  {
   "cell_type": "markdown",
   "metadata": {
    "pycharm": {
     "name": "#%% md\n"
    }
   },
   "source": [
    "Nun wird das Modell, falls noch nicht geschehen, mit dem vorher initialisierten\n",
    "*ImageDataGenerator* trainiert. Die *fit_generator*-Methode ist mittlerweile *deprecated* und wurde\n",
    "deshalb durch die allgemeinere *fit*-Methode ersetzt. Diese trainiert das gegebene Modell mit den\n",
    "gegebenen Trainingsdaten. Fuer die Validierung des Trainings, und die Live-Anzeige der Performance\n",
    "werden die sogenannten Validierungsdaten verwendet. In der Regel sind diese Daten noch ungesehene Date,\n",
    "also weder in den Test, noch in den Trainingsdaten enthalten, aber fuer die Einfachheit des Versuches\n",
    "kann davon abgesehen werden, weshabld dafuer die Testdaten verwendet werden.\n",
    "\n",
    "Mit Generatoren wird immer in kleinen Batches trainiert. Diese *Batch-Size* wurde bereits\n",
    "definiert. Wichtig hierbei is, dass klar definiert wird, dass es jeweils nur so viele Schritte in einer Epoche\n",
    "gibt, wie es Batches in dem Datensatz gibt.\n",
    "Desweiteren muss die Anzahl an Epochen definiert werden. Dies ist ein experimenteller Wert,\n",
    "welcher im beste Fall der ideale Wert zwischen over- und underfitting ist. Hier wurde\n",
    "erst einmal 15 gegeben. Dieser Wert wird spaeter noch in Frage gestellt.\n",
    "\n",
    "Um die Ausgabe von Fortschrittsinformationen, sowie der aktuellen Performance\n",
    "zu erreichen, muss der *verbose*-Parameter gesetzt werden. 1 ist in diesem Fall ausreichend.\n",
    "\n",
    "Um auf die Historie des Trainings zugreifen zu koenen, muss sie in einer Variable gespeichert werden.\n",
    "Auf diese Historie kann mit *.history* zugegriffen werden."
   ]
  },
  {
   "cell_type": "code",
   "execution_count": 30,
   "metadata": {},
   "outputs": [
    {
     "name": "stdout",
     "output_type": "stream",
     "text": [
      "[INFO] training network...\n"
     ]
    }
   ],
   "source": [
    "# compile the model and train the network\n",
    "print(\"[INFO] training network...\")\n",
    "\n",
    "if not hist:\n",
    "    hist = model.fit(\n",
    "        aug.flow(train_x, train_y, batch_size=BS),\n",
    "        validation_data=(test_x, test_y),\n",
    "        steps_per_epoch=train_x.shape[0] // BS,\n",
    "        epochs=NUM_EPOCHS,\n",
    "        class_weight=class_weight,\n",
    "        verbose=1).history"
   ]
  },
  {
   "cell_type": "markdown",
   "metadata": {
    "pycharm": {
     "name": "#%% md\n"
    }
   },
   "source": [
    "Um das Training nicht immer wiederholen zu muessen, wird das trainierte Modell\n",
    "direkt persistent auf der Festplatte gespeichert."
   ]
  },
  {
   "cell_type": "code",
   "execution_count": 31,
   "metadata": {
    "pycharm": {
     "name": "#%%\n"
    }
   },
   "outputs": [
    {
     "name": "stdout",
     "output_type": "stream",
     "text": [
      "INFO:tensorflow:Assets written to: ./custom_adam/assets\n"
     ]
    }
   ],
   "source": [
    "save_model(model, hist, os.path.join(\".\", model_name))"
   ]
  },
  {
   "cell_type": "markdown",
   "metadata": {},
   "source": [
    "Visualisieren Sie die Entwicklung der *Accuracy* über dem Fortschritt der Trainingsepochen. Plotten Sie dabei die entsprechenden Kurven der Accuracy auf den Trainings- und auf den Testdaten in einen Graphen."
   ]
  },
  {
   "cell_type": "markdown",
   "metadata": {
    "pycharm": {
     "name": "#%% md\n"
    }
   },
   "source": [
    "Nun wird die Trainings-Historie in einem Plot angezeigt."
   ]
  },
  {
   "cell_type": "code",
   "execution_count": 32,
   "metadata": {
    "pycharm": {
     "name": "#%%\n"
    }
   },
   "outputs": [
    {
     "data": {
      "text/plain": [
       "<AxesSubplot:xlabel='Epochs', ylabel='Accuracy'>"
      ]
     },
     "execution_count": 32,
     "metadata": {},
     "output_type": "execute_result"
    },
    {
     "data": {
      "image/png": "[encoded data removed]",
      "text/plain": [
       "<Figure size 1080x1080 with 1 Axes>"
      ]
     },
     "metadata": {
      "needs_background": "light"
     },
     "output_type": "display_data"
    }
   ],
   "source": [
    "acc_hist = DataFrame(list(zip(hist[\"accuracy\"], hist[\"val_accuracy\"])),\n",
    "                     columns=[\"Training-Accuracy\", \"Test-Accuracy\"])\n",
    "acc_hist.plot(figsize=(15, 15), xlabel=\"Epochs\", ylabel=\"Accuracy\")"
   ]
  },
  {
   "cell_type": "markdown",
   "metadata": {
    "pycharm": {
     "name": "#%% md\n"
    }
   },
   "source": [
    "Wie gut erkennbar ist, steigt die Accuracy auf den Trainingsdaten, also die blaue Kurve,\n",
    "schnell an.\n",
    "Die Kurve ist logarithmisch und naehert sich der 1.0, also der 100% an.\n",
    "\n",
    "Was deutlich wird, ist dass die orangene Kurve, also die Accuracy der Testdaten\n",
    "sicher immer nahe der Accuracy der Trainingsdaten befindet. In den ersten\n",
    "Epochen ist sie sogar hoeher, und naehert sich gegeben Ende der 15 Epochen and die\n",
    "Accuracy der Trainingsdaten an.\n",
    "\n",
    "Beide Kurven zeigen in der letzten Epoche noch eine positive Steigung, was bedeutet,\n",
    "dass mehr Epochen noch mehr Accuracy bedeuten koennte.\n",
    "\n",
    "Um diese Performance mit einem Modell zu vergleichen, was laenger trainiert wurde,\n",
    "wird nun ein Modell mit 30 Epochen trainiert."
   ]
  },
  {
   "cell_type": "code",
   "execution_count": 33,
   "metadata": {
    "pycharm": {
     "name": "#%%\n"
    }
   },
   "outputs": [],
   "source": [
    "model_name_30 = \"custom_adam_30\"\n",
    "\n",
    "if os.path.isdir(os.path.join(\".\", model_name_30)):\n",
    "    model_30, hist_30 = load_model(os.path.join(\".\", model_name_30))\n",
    "else:\n",
    "    model_30 = genertate_cnn(32, 32, 3, classes)\n",
    "    hist_30 = None\n",
    "\n",
    "if not hist_30:\n",
    "    opt = Adam(lr=INIT_LR, decay=INIT_LR / (NUM_EPOCHS * 0.5))\n",
    "    model_30.compile(loss=\"categorical_crossentropy\", optimizer=opt, metrics=[\"accuracy\"])\n",
    "\n",
    "    hist_30 = model_30.fit(\n",
    "        aug.flow(train_x, train_y, batch_size=BS),\n",
    "        validation_data=(test_x, test_y),\n",
    "        steps_per_epoch=train_x.shape[0] // BS,\n",
    "        epochs=30,\n",
    "        class_weight=class_weight,\n",
    "        verbose=1).history\n",
    "\n",
    "    save_model(model_30, hist_30, os.path.join(\".\", model_name_30))"
   ]
  },
  {
   "cell_type": "code",
   "execution_count": 34,
   "metadata": {
    "pycharm": {
     "name": "#%%\n"
    }
   },
   "outputs": [
    {
     "data": {
      "text/plain": [
       "<AxesSubplot:xlabel='Epochs', ylabel='Accuracy'>"
      ]
     },
     "execution_count": 34,
     "metadata": {},
     "output_type": "execute_result"
    },
    {
     "data": {
      "image/png": "[encoded data removed]",
      "text/plain": [
       "<Figure size 1080x1080 with 1 Axes>"
      ]
     },
     "metadata": {
      "needs_background": "light"
     },
     "output_type": "display_data"
    }
   ],
   "source": [
    "\n",
    "acc_hist_30 = DataFrame(list(zip(hist_30[\"accuracy\"], hist_30[\"val_accuracy\"])),\n",
    "                        columns=[\"Training-Accuracy\", \"Test-Accuracy\"])\n",
    "acc_hist_30.plot(figsize=(15, 15), xlabel=\"Epochs\", ylabel=\"Accuracy\")"
   ]
  },
  {
   "cell_type": "markdown",
   "metadata": {
    "pycharm": {
     "name": "#%% md\n"
    }
   },
   "source": [
    "Wie deutlich wird, ist die Accuracy noch einmal gestiegen. Die Accuracy auf den\n",
    "Trainingsdaten steigt kontinuierlich weiter an, was allerdings auf die Natur eines solchen Trainingsverfahrens zurueckzufuehren ist. Es gibt auf den\n",
    "Testdaten mehr Varianz bezüglich der Accuracy. Schon ab Epoche 15 steigt sie nur noch\n",
    "marginal an. Dies bedeutet, dass die 15 extra Epochen nur noch wenig Verbesserung\n",
    "bringen, also nicht unbedingt den zusaetzlichen Rechenaufwand rechtfertigen, sind also\n",
    "nur sinnvoll, wenn jeder Prozent Accuracy im fertigen Modell notwendig ist.\n",
    "\n",
    "Allerdings bedeuten mehr Epochen auch die Gefahr des Overfittings. Da die Accuracy\n",
    "auf den Testdaten allerdings **noch** nicht sinkt, ist dieser Punkt noch nicht erreicht."
   ]
  },
  {
   "cell_type": "markdown",
   "metadata": {},
   "source": [
    "## Evaluation des gelernten Modells\n",
    "\n",
    "Wenden Sie das gelernte CNN an, um für alle Bilder des Testdatensatzes die Art des Verkehrsschildes zu bestimmen. Evaluieren Sie die Qualität des CNN indem Sie einen `classification_report()` aus dem Modul `sklearn.metrics` erzeugen. \n",
    "\n",
    "1. Welche Metriken werden im Report angezeigt? Beschreiben Sie diese kurz?\n",
    "2. Diskutieren Sie die Klassifikationsgenauigkeit des CNN anhand des Reports.\n",
    "\n",
    "Zeigen Sie 5 Bilder an, die nicht korrekt klassifiziert wurden. Läßt sich die Fehlklassifikation erklären?"
   ]
  },
  {
   "cell_type": "markdown",
   "metadata": {
    "pycharm": {
     "name": "#%% md\n"
    }
   },
   "source": [
    "Zuerst werden die Predictions fuer die Testdaten erzeugt.\n",
    "Dabei hilft die *numpy*-Funktion *argmax*. Diese gibt den Index des Maximalwertes in\n",
    "einem Array zurueck.\n",
    "Damit kann man zum einen die One-Hot-Kodierung rückgängig machen, und zum anderen\n",
    "das Neuron mit dem hoechsten Ausgabewert des neuronalen Netzes, also die Prediction bekommen.\n"
   ]
  },
  {
   "cell_type": "code",
   "execution_count": 35,
   "metadata": {},
   "outputs": [],
   "source": [
    "y_pred = np.argmax(model.predict(test_x), axis=1)\n",
    "y_actual =  test_y_raw"
   ]
  },
  {
   "cell_type": "markdown",
   "metadata": {
    "pycharm": {
     "name": "#%% md\n"
    }
   },
   "source": [
    "Nun kann aus den Predictions ein Klassifikations-Report erstellt und ausgegeben werden."
   ]
  },
  {
   "cell_type": "code",
   "execution_count": 36,
   "metadata": {
    "pycharm": {
     "name": "#%%\n"
    }
   },
   "outputs": [
    {
     "name": "stdout",
     "output_type": "stream",
     "text": [
      "              precision    recall  f1-score   support\n",
      "\n",
      "           0       0.90      0.96      0.93        56\n",
      "           1       0.99      0.98      0.98       724\n",
      "           2       0.98      0.99      0.99       741\n",
      "           3       0.95      0.97      0.96       439\n",
      "           4       0.98      0.99      0.98       655\n",
      "           5       0.95      0.97      0.96       620\n",
      "           6       0.95      0.98      0.97       146\n",
      "           7       0.98      0.94      0.96       465\n",
      "           8       0.98      0.93      0.96       474\n",
      "           9       0.99      0.93      0.96       509\n",
      "          10       0.98      1.00      0.99       649\n",
      "          11       0.97      0.82      0.89       496\n",
      "          12       0.96      1.00      0.98       666\n",
      "          13       1.00      0.99      1.00       723\n",
      "          14       1.00      0.96      0.98       279\n",
      "          15       0.97      0.89      0.92       229\n",
      "          16       0.81      1.00      0.90       122\n",
      "          17       0.96      1.00      0.98       346\n",
      "          18       0.92      0.90      0.91       398\n",
      "          19       0.88      0.98      0.93        54\n",
      "          20       0.87      0.86      0.86        91\n",
      "          21       0.68      0.84      0.75        73\n",
      "          22       0.86      0.98      0.92       105\n",
      "          23       0.87      0.86      0.87       152\n",
      "          24       0.89      0.83      0.86        96\n",
      "          25       0.94      0.97      0.96       462\n",
      "          26       0.78      0.95      0.86       149\n",
      "          27       0.42      0.50      0.45        50\n",
      "          28       0.99      0.91      0.95       164\n",
      "          29       0.89      0.98      0.93        82\n",
      "          30       0.73      0.81      0.76       135\n",
      "          31       0.98      0.92      0.95       288\n",
      "          32       0.90      0.87      0.89        62\n",
      "          33       1.00      0.95      0.97       222\n",
      "          34       1.00      0.98      0.99       122\n",
      "          35       0.98      0.98      0.98       392\n",
      "          36       0.95      0.97      0.96       118\n",
      "          37       0.90      0.95      0.92        57\n",
      "          38       1.00      0.99      0.99       699\n",
      "          39       0.97      0.97      0.97        90\n",
      "          40       0.92      0.95      0.94        87\n",
      "          41       0.90      0.77      0.83        70\n",
      "          42       0.78      0.96      0.86        73\n",
      "\n",
      "    accuracy                           0.95     12630\n",
      "   macro avg       0.91      0.93      0.92     12630\n",
      "weighted avg       0.96      0.95      0.95     12630\n",
      "\n"
     ]
    }
   ],
   "source": [
    "\n",
    "report = classification_report(y_pred, y_actual)\n",
    "print(report)"
   ]
  },
  {
   "cell_type": "markdown",
   "metadata": {
    "pycharm": {
     "name": "#%% md\n"
    }
   },
   "source": [
    "Ein Klassifikations-Report zeigt die Performance-Metriken **precision**, **recall** und **f1-score** an.\n",
    "\n",
    "##### Precision\n",
    "Die Rate an als X klassifizierten Items, die tatsaechlich der Klasse X angehoeren, also\n",
    "die *true positives* geteilt durch die *true positives + false positives*.\n",
    "Dieser Wert sollte maximiert werden, wenn es hohe Kosten fuer *false positives* gibt,\n",
    "zum Beispiel bei einer Spam-Erkennung.\n",
    "\n",
    "##### Recall\n",
    "Die Rate an Items die der Klasse X angehoeren, die tatsaechlich als X klassifiziert wurden, also\n",
    "die *true positives* geteilt durch die *true positives + false negatives*.\n",
    "Dieser Wert sollte maximiert werden, wenn es hohe Kosten fuer *false negatives* gibt,\n",
    "zum Beispiel bei einer Betrugserkennung einer Bank.\n",
    "\n",
    "##### F1-Score\n",
    "Der F1-Score kombiniert die Precision und den Recall in einem Wert.\n",
    "Dieser Wert sollte maximiert werden, wenn man eine Balance aus Precision und Recall\n",
    "moechte.\n",
    "\n",
    "#### Performance des Modells\n",
    "\n",
    "Im Report ist zu erkennen, dass eine gewichtete Precision sowie ein gewichteter Recall von\n",
    "0.96 respektive 0.95, was fuer ein neuronales Netz ein durchaus hoher Wert ist.\n",
    "\n",
    "Man kann erkennen, dass es teilweise hohe Unterschieden zwischen den verschiedenen Klassen gibt.\n",
    "Vor allem die Klassen mit einer hohen Reprasentation, wie Klassen 1, 2, oder 38 haben hohe Werte,\n",
    "waehrend Klassen mit weniger Trainings- respektive Testdaten, wie 0, 19 oder 42, eher geringere\n",
    "Performance-Werte aufweisen.\n"
   ]
  },
  {
   "cell_type": "markdown",
   "metadata": {
    "pycharm": {
     "name": "#%% md\n"
    }
   },
   "source": [
    "Auffällig sind Klassen wir 33 und 34, welche eine Precision von 1.0 aufweisen, was bedeutet,\n",
    "das alle die als Klasse 33 und 34 erkannt wurden aut tatsaechlich dieser Klasse angehoert haben.\n",
    "\n",
    "Um zu verstehen, warum genau diese Klassen eine hohe Precision aufweisen, werden diese nun ausgegeben."
   ]
  },
  {
   "cell_type": "code",
   "execution_count": 37,
   "metadata": {
    "pycharm": {
     "name": "#%%\n"
    }
   },
   "outputs": [
    {
     "name": "stdout",
     "output_type": "stream",
     "text": [
      "Turn right ahead, Turn left ahead\n"
     ]
    },
    {
     "data": {
      "image/png": "[encoded data removed]",
      "text/plain": [
       "<Figure size 432x288 with 1 Axes>"
      ]
     },
     "metadata": {
      "needs_background": "light"
     },
     "output_type": "display_data"
    },
    {
     "data": {
      "image/png": "[encoded data removed]",
      "text/plain": [
       "<Figure size 432x288 with 1 Axes>"
      ]
     },
     "metadata": {
      "needs_background": "light"
     },
     "output_type": "display_data"
    }
   ],
   "source": [
    "print(f\"{classes[33]}, {classes[34]}\")\n",
    "\n",
    "example_33 = train_x[np.where(train_y_raw == 33)[0][0]]\n",
    "plt.imshow(example_33)\n",
    "plt.show()\n",
    "\n",
    "example_34 = train_x[np.where(train_y_raw == 34)[0][0]]\n",
    "plt.imshow(example_34)\n",
    "plt.show()"
   ]
  },
  {
   "cell_type": "markdown",
   "metadata": {
    "pycharm": {
     "name": "#%% md\n"
    }
   },
   "source": [
    "Hohe Präzision gibt es bei den beiden Schildern mit Pfeilen nach links und rechts.\n",
    "Dies laesst sich in sofern erklaeren, als dass diese beiden sehr unterschiedlich zum\n",
    "Rest der Schilder sind. Sie haben nur einen soliden Pfeil in der Mitte, was sie vor allem von denen\n",
    "mit Text oder Zahlen, wie Geschwindigkeitsbegrenzungen, unterscheidet. Desweiteren sind sie blau, was\n",
    "sie ebenfalls relativ eindeutig macht, da fast keine Schilder blau sind. Damit koennte sich der Fakt\n",
    "erklaeren lassen, dass es keine Schilder gibt, die faelschlicherweise als solche erkannt wurden."
   ]
  },
  {
   "cell_type": "markdown",
   "metadata": {
    "pycharm": {
     "name": "#%% md\n"
    }
   },
   "source": [
    "Desweiteren gibt es auch die Variante mit Klasse 16 und 17, bei denen es einen Recall\n",
    "von 1,0 gibt, was bedeutet, dass alle Schilder der Klasse 16 und 17 als solche erkannt wurden."
   ]
  },
  {
   "cell_type": "code",
   "execution_count": 38,
   "metadata": {
    "pycharm": {
     "name": "#%%\n"
    }
   },
   "outputs": [
    {
     "name": "stdout",
     "output_type": "stream",
     "text": [
      "Vehicles over 3.5 metric tons prohibited, No entry\n"
     ]
    },
    {
     "data": {
      "image/png": "[encoded data removed]",
      "text/plain": [
       "<Figure size 432x288 with 1 Axes>"
      ]
     },
     "metadata": {
      "needs_background": "light"
     },
     "output_type": "display_data"
    },
    {
     "data": {
      "image/png": "[encoded data removed]",
      "text/plain": [
       "<Figure size 432x288 with 1 Axes>"
      ]
     },
     "metadata": {
      "needs_background": "light"
     },
     "output_type": "display_data"
    }
   ],
   "source": [
    "print(f\"{classes[16]}, {classes[17]}\")\n",
    "\n",
    "example_16 = train_x[np.where(train_y_raw == 16)[0][0]]\n",
    "plt.imshow(example_16)\n",
    "plt.show()\n",
    "\n",
    "example_17 = train_x[np.where(train_y_raw == 17)[0][0]]\n",
    "plt.imshow(example_17)\n",
    "plt.show()"
   ]
  },
  {
   "cell_type": "markdown",
   "metadata": {
    "pycharm": {
     "name": "#%% md\n"
    }
   },
   "source": [
    "Besonders hohen Recall gibt es also bei den Schildern *Vehicles over 3.5 metric tons prohibited* und\n",
    "*No entry*. Dies koennte sich ebenso mit der Eindeutigkeit der Schilder erklaeren lassen.\n",
    "Vor allem das *no entry* Schild ist ziemlich eindeutig. Im Straßenverkehr gibt es kein weiteres Schild\n",
    "das die Kombination aus dieser Form und dieser Farbe hat.\n",
    "Beim *Vehicles over 3.5 metric tons prohibited*-Schild waere die Vermutung, dass die Kombination aus roten\n",
    "Rand sowie einem dunklen Fleck in der Mitte das Schild ebenfalls eindeutig macht, und es somit nicht so einfach\n",
    "mit anderen verwechselbar ist. Damit koennte sich der Fakt erklaeren lassen, dass es keine Schilder dieser\n",
    "Klasse gibt, die nicht als solche erkannt wurden."
   ]
  },
  {
   "cell_type": "markdown",
   "metadata": {
    "pycharm": {
     "name": "#%% md\n"
    }
   },
   "source": [
    "##### Interpretation der Werte\n",
    "\n",
    "Bei einer Verkehrszeichenerkennung wird eine maximale Precision wichtig sein, vor allem,\n",
    "wenn andere Systeme, wie eine automatische Geschwindigkeitsregelung daran angeschlossen sind.\n",
    "In solch einem Falle wird es wichtiger sein, dass ein Schild korrekt erkannt wird, als dass ein\n",
    "Schild nicht erkannt wird.\n",
    "\n",
    "Sollte der Einsatzzweck jedoch, zum Beispiel bei einer Fahrverhaltensanalyse liegen, sind falsche Positive\n",
    "nicht so dramatisch.\n"
   ]
  },
  {
   "cell_type": "markdown",
   "metadata": {
    "pycharm": {
     "name": "#%% md\n"
    }
   },
   "source": [
    "Um einen Ueberblick zu bekommen, wie viele Predictions tatsaechlich falsch sind, wird\n",
    "die Anzahl falscher Klassifikationen im Folgenden berechnet."
   ]
  },
  {
   "cell_type": "code",
   "execution_count": 39,
   "metadata": {},
   "outputs": [
    {
     "data": {
      "text/plain": [
       "(575, 32, 32, 3)"
      ]
     },
     "execution_count": 39,
     "metadata": {},
     "output_type": "execute_result"
    }
   ],
   "source": [
    "wrong_classification_indices = [i for i in range(len(y_pred)) if y_pred[i] != y_actual[i]]\n",
    "wrong_classifications = np.take(test_x, wrong_classification_indices, axis=0)\n",
    "wrong_classifications.shape"
   ]
  },
  {
   "cell_type": "markdown",
   "metadata": {
    "pycharm": {
     "name": "#%% md\n"
    }
   },
   "source": [
    "Insgesamt wurden 575 Items aus den Testdaten inkorrekt klassifiziert. Das klingt nach viel, aber um die Zahl\n",
    "in den Kontext zu bringen, solle sie mit den Gesamtanzahl verglichen werden."
   ]
  },
  {
   "cell_type": "code",
   "execution_count": 40,
   "metadata": {
    "pycharm": {
     "name": "#%%\n"
    }
   },
   "outputs": [
    {
     "name": "stdout",
     "output_type": "stream",
     "text": [
      "Wrong classification percentage: 4.55%\n"
     ]
    }
   ],
   "source": [
    "print(f\"Wrong classification percentage: {round(wrong_classifications.shape[0] / test_x.shape[0], 4) * 100}%\")"
   ]
  },
  {
   "cell_type": "markdown",
   "metadata": {
    "pycharm": {
     "name": "#%% md\n"
    }
   },
   "source": [
    "Ueber alle Testdaten ergibt sich eine Fehlerrate von nur 4.55%, was einer Wahrscheinlichkeit fuer eine\n",
    "korrekte Klassifikation fuer ein ungesehenes Verkehrsschild von 95.45% entspricht.\n",
    "\n",
    "Diese Zahl kann hoechst wahrscheinlich durch weitere Modifikationen oder Erweiterungen des Netzes, sowie\n",
    "besseren oder hoeher aufloesenden Trainingsdaten weiter erhoeht werden."
   ]
  },
  {
   "cell_type": "markdown",
   "metadata": {
    "pycharm": {
     "name": "#%% md\n"
    }
   },
   "source": [
    "Da ein Klassifikationsreport aus der vorherigen Aufgabe relativ wenig Analyse zulaesst, werden nun noch\n",
    "einmal die schlechtesten und am besten erkannten Klassen berechnet."
   ]
  },
  {
   "cell_type": "code",
   "execution_count": 41,
   "metadata": {
    "pycharm": {
     "name": "#%%\n"
    }
   },
   "outputs": [
    {
     "data": {
      "text/plain": [
       "<AxesSubplot:ylabel='Sign Name'>"
      ]
     },
     "execution_count": 41,
     "metadata": {},
     "output_type": "execute_result"
    },
    {
     "data": {
      "image/png": "[encoded data removed]",
      "text/plain": [
       "<Figure size 1080x1440 with 1 Axes>"
      ]
     },
     "metadata": {
      "needs_background": "light"
     },
     "output_type": "display_data"
    }
   ],
   "source": [
    "wrong_classifications_weighted = [np.bincount(np.where(np.take(test_y_raw, wrong_classification_indices, axis=0) == id)[0]).sum() / dist_test.iloc[id]\n",
    "                                  for id in class_ids]\n",
    "df_wrong_classifications = DataFrame(wrong_classifications_weighted, columns=[\"Wrong classifications\"]).merge(\n",
    "    DataFrame(classes, columns=[\"Sign Name\"]), left_index=True, right_index=True\n",
    ").set_index(\"Sign Name\").sort_values(by=\"Wrong classifications\")\n",
    "df_wrong_classifications.plot.barh(figsize=(15, 20))"
   ]
  },
  {
   "cell_type": "markdown",
   "metadata": {
    "pycharm": {
     "name": "#%% md\n"
    }
   },
   "source": [
    "Schauen wir uns jeweils die Top 5 besten und schlechtesten Klasssen an."
   ]
  },
  {
   "cell_type": "code",
   "execution_count": 42,
   "metadata": {
    "pycharm": {
     "name": "#%%\n"
    }
   },
   "outputs": [
    {
     "name": "stdout",
     "output_type": "stream",
     "text": [
      "Worst 5 classes\n"
     ]
    },
    {
     "data": {
      "text/html": [
       "<div>\n",
       "<style scoped>\n",
       "    .dataframe tbody tr th:only-of-type {\n",
       "        vertical-align: middle;\n",
       "    }\n",
       "\n",
       "    .dataframe tbody tr th {\n",
       "        vertical-align: top;\n",
       "    }\n",
       "\n",
       "    .dataframe thead th {\n",
       "        text-align: right;\n",
       "    }\n",
       "</style>\n",
       "<table border=\"1\" class=\"dataframe\">\n",
       "  <thead>\n",
       "    <tr style=\"text-align: right;\">\n",
       "      <th></th>\n",
       "      <th>Wrong classifications</th>\n",
       "    </tr>\n",
       "    <tr>\n",
       "      <th>Sign Name</th>\n",
       "      <th></th>\n",
       "    </tr>\n",
       "  </thead>\n",
       "  <tbody>\n",
       "    <tr>\n",
       "      <th>Road work</th>\n",
       "      <td>0.200000</td>\n",
       "    </tr>\n",
       "    <tr>\n",
       "      <th>Traffic signals</th>\n",
       "      <td>0.260000</td>\n",
       "    </tr>\n",
       "    <tr>\n",
       "      <th>Pedestrians</th>\n",
       "      <td>0.291667</td>\n",
       "    </tr>\n",
       "    <tr>\n",
       "      <th>End of no passing by vehicles over 3.5 metric tons</th>\n",
       "      <td>0.333333</td>\n",
       "    </tr>\n",
       "    <tr>\n",
       "      <th>Beware of ice/snow</th>\n",
       "      <td>0.455556</td>\n",
       "    </tr>\n",
       "  </tbody>\n",
       "</table>\n",
       "</div>"
      ],
      "text/plain": [
       "                                                    Wrong classifications\n",
       "Sign Name                                                                \n",
       "Road work                                                        0.200000\n",
       "Traffic signals                                                  0.260000\n",
       "Pedestrians                                                      0.291667\n",
       "End of no passing by vehicles over 3.5 metric tons               0.333333\n",
       "Beware of ice/snow                                               0.455556"
      ]
     },
     "execution_count": 42,
     "metadata": {},
     "output_type": "execute_result"
    }
   ],
   "source": [
    "print(f\"Worst 5 classes\")\n",
    "df_wrong_classifications[-5:]"
   ]
  },
  {
   "cell_type": "markdown",
   "metadata": {
    "pycharm": {
     "name": "#%% md\n"
    }
   },
   "source": [
    "Bei den Top 5 schlechtesten Klassen handelt es sich ausschließlich um komplexe Schilder.\n",
    "Das erklaert, warum das neuronale Netz nicht so gut darin ist, sie zu erkennen.\n",
    "Vor allem *beware of ice/snow* faellt dabei auf, da es eine Erkennungsquote von nur knapp ueber\n",
    "50% hat, was im Vergleich zu den andere Schildern und sogar den andere Top 4 der schlechtest erkannten\n",
    "Schildern um einiges schlechter ist.\n",
    "Die Performance dieser schlechtesten Klassen koennte vor allem mit hoeher aufloesenden\n",
    "Bilder verbessert werden, da mit diesen die Details eines Schildes besser erkannt werden koennen."
   ]
  },
  {
   "cell_type": "code",
   "execution_count": 43,
   "metadata": {
    "pycharm": {
     "name": "#%%\n"
    }
   },
   "outputs": [
    {
     "name": "stdout",
     "output_type": "stream",
     "text": [
      "Top 5 classes\n"
     ]
    },
    {
     "data": {
      "text/html": [
       "<div>\n",
       "<style scoped>\n",
       "    .dataframe tbody tr th:only-of-type {\n",
       "        vertical-align: middle;\n",
       "    }\n",
       "\n",
       "    .dataframe tbody tr th {\n",
       "        vertical-align: top;\n",
       "    }\n",
       "\n",
       "    .dataframe thead th {\n",
       "        text-align: right;\n",
       "    }\n",
       "</style>\n",
       "<table border=\"1\" class=\"dataframe\">\n",
       "  <thead>\n",
       "    <tr style=\"text-align: right;\">\n",
       "      <th></th>\n",
       "      <th>Wrong classifications</th>\n",
       "    </tr>\n",
       "    <tr>\n",
       "      <th>Sign Name</th>\n",
       "      <th></th>\n",
       "    </tr>\n",
       "  </thead>\n",
       "  <tbody>\n",
       "    <tr>\n",
       "      <th>Turn left ahead</th>\n",
       "      <td>0.000000</td>\n",
       "    </tr>\n",
       "    <tr>\n",
       "      <th>Keep right</th>\n",
       "      <td>0.000000</td>\n",
       "    </tr>\n",
       "    <tr>\n",
       "      <th>Turn right ahead</th>\n",
       "      <td>0.000000</td>\n",
       "    </tr>\n",
       "    <tr>\n",
       "      <th>Stop</th>\n",
       "      <td>0.002564</td>\n",
       "    </tr>\n",
       "    <tr>\n",
       "      <th>Yield</th>\n",
       "      <td>0.004762</td>\n",
       "    </tr>\n",
       "  </tbody>\n",
       "</table>\n",
       "</div>"
      ],
      "text/plain": [
       "                  Wrong classifications\n",
       "Sign Name                              \n",
       "Turn left ahead                0.000000\n",
       "Keep right                     0.000000\n",
       "Turn right ahead               0.000000\n",
       "Stop                           0.002564\n",
       "Yield                          0.004762"
      ]
     },
     "execution_count": 43,
     "metadata": {},
     "output_type": "execute_result"
    }
   ],
   "source": [
    "print(f\"Top 5 classes\")\n",
    "df_wrong_classifications[:5]"
   ]
  },
  {
   "cell_type": "markdown",
   "metadata": {
    "pycharm": {
     "name": "#%% md\n"
    }
   },
   "source": [
    "Bei den Top 5 beste Klassen handelt es sich um eindeutige und unkomplexe Schilder.\n",
    "Vor allem die im vorherigen schon besprochenen *turn left ahead* oder *turn right ahead* Schilder\n",
    "sind vor allem durch ihre Farbe eundeutig. Aehnlich ist es bei dem *stop* oder *yield* Schild, welche\n",
    "durch ihre aussergewoehnliche Form eindeutig sind."
   ]
  },
  {
   "cell_type": "markdown",
   "metadata": {
    "pycharm": {
     "name": "#%% md\n"
    }
   },
   "source": [
    "Jetzt werden noch einmal konkrete Fehlerkennungen angeschaut."
   ]
  },
  {
   "cell_type": "code",
   "execution_count": 44,
   "metadata": {
    "pycharm": {
     "name": "#%%\n"
    }
   },
   "outputs": [
    {
     "data": {
      "image/png": "[encoded data removed]",
      "text/plain": [
       "<Figure size 432x288 with 1 Axes>"
      ]
     },
     "metadata": {
      "needs_background": "light"
     },
     "output_type": "display_data"
    },
    {
     "data": {
      "image/png": "[encoded data removed]",
      "text/plain": [
       "<Figure size 432x288 with 1 Axes>"
      ]
     },
     "metadata": {
      "needs_background": "light"
     },
     "output_type": "display_data"
    },
    {
     "data": {
      "image/png": "[encoded data removed]",
      "text/plain": [
       "<Figure size 432x288 with 1 Axes>"
      ]
     },
     "metadata": {
      "needs_background": "light"
     },
     "output_type": "display_data"
    },
    {
     "data": {
      "image/png": "[encoded data removed]",
      "text/plain": [
       "<Figure size 432x288 with 1 Axes>"
      ]
     },
     "metadata": {
      "needs_background": "light"
     },
     "output_type": "display_data"
    },
    {
     "data": {
      "image/png": "[encoded data removed]",
      "text/plain": [
       "<Figure size 432x288 with 1 Axes>"
      ]
     },
     "metadata": {
      "needs_background": "light"
     },
     "output_type": "display_data"
    }
   ],
   "source": [
    "for i in range(5):\n",
    "    plt.imshow(wrong_classifications[i])\n",
    "    plt.show()"
   ]
  },
  {
   "cell_type": "markdown",
   "metadata": {
    "pycharm": {
     "name": "#%% md\n"
    }
   },
   "source": [
    "Wie gut erkennbar ist, sind die Fehlerkennungen in diesen Faellen vor allem einer\n",
    "schlechten Bildqualitaet zuzuordnen. Vor allem die Geschwindigkeitsbegrenzungen koennte\n",
    "wohl auch kein Mensch in dieser Qualitaet erkennen.\n",
    "Auffaellig sind dabei auch Rotationen des Schildes, sowie die Verdeckung durch andere\n",
    "Objekte oder wie im letzten Fall, von einem Schatten.\n",
    "\n",
    "Dies sind Sonderfaelle, die nicht oft genug auftreten, damit das neuronale Netz sie ausreichend\n",
    "gut erkennen kann. Sollte das Ziel sein, auch diese Faelle zu erkennen, wuerden mehr\n",
    "Trainingsdaten mit genau diesen Faellen benoetig werden."
   ]
  }
 ],
 "metadata": {
  "kernelspec": {
   "display_name": "Python 3",
   "language": "python",
   "name": "python3"
  },
  "language_info": {
   "codemirror_mode": {
    "name": "ipython",
    "version": 3
   },
   "file_extension": ".py",
   "mimetype": "text/x-python",
   "name": "python",
   "nbconvert_exporter": "python",
   "pygments_lexer": "ipython3",
   "version": "3.8.5"
  },
  "nav_menu": {},
  "toc": {
   "navigate_menu": true,
   "number_sections": true,
   "sideBar": true,
   "threshold": 6,
   "toc_cell": false,
   "toc_section_display": true,
   "toc_window_display": false
  }
 },
 "nbformat": 4,
 "nbformat_minor": 2
}
